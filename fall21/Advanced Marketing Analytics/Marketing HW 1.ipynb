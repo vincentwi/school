{
 "cells": [
  {
   "cell_type": "code",
   "execution_count": 7,
   "id": "planned-latitude",
   "metadata": {},
   "outputs": [],
   "source": [
    "import pandas as pd \n",
    "import numpy as np \n",
    "import matplotlib.pyplot as plt\n",
    "import seaborn as sns\n",
    "import pymysql\n",
    "import sqlalchemy as sa\n",
    "\n",
    "pymysql.install_as_MySQLdb()"
   ]
  },
  {
   "cell_type": "code",
   "execution_count": 14,
   "id": "racial-motivation",
   "metadata": {},
   "outputs": [],
   "source": [
    "engine = sqlalchemy.create_engine(\"mysql+pymysql://root@localhost:3306/ma_charity_small\",\n",
    "    connect_args={\"password\": \"qwertY12#\"})"
   ]
  },
  {
   "cell_type": "code",
   "execution_count": 17,
   "id": "returning-distributor",
   "metadata": {},
   "outputs": [],
   "source": [
    "actions = pd.read_sql('actions',engine)\n",
    "acts = pd.read_sql('acts',engine)\n",
    "channels = pd.read_sql('channels',engine)\n",
    "contacts = pd.read_sql('contacts',engine)\n",
    "payment_methods = pd.read_sql('payment_methods',engine)\n",
    "prefixes = pd.read_sql('prefixes',engine)"
   ]
  },
  {
   "cell_type": "code",
   "execution_count": null,
   "id": "special-point",
   "metadata": {},
   "outputs": [],
   "source": []
  }
 ],
 "metadata": {
  "kernelspec": {
   "display_name": "Python 3",
   "language": "python",
   "name": "python3"
  },
  "language_info": {
   "codemirror_mode": {
    "name": "ipython",
    "version": 3
   },
   "file_extension": ".py",
   "mimetype": "text/x-python",
   "name": "python",
   "nbconvert_exporter": "python",
   "pygments_lexer": "ipython3",
   "version": "3.9.7"
  },
  "latex_envs": {
   "LaTeX_envs_menu_present": true,
   "autoclose": false,
   "autocomplete": true,
   "bibliofile": "biblio.bib",
   "cite_by": "apalike",
   "current_citInitial": 1,
   "eqLabelWithNumbers": true,
   "eqNumInitial": 1,
   "hotkeys": {
    "equation": "Ctrl-E",
    "itemize": "Ctrl-I"
   },
   "labels_anchors": false,
   "latex_user_defs": false,
   "report_style_numbering": false,
   "user_envs_cfg": false
  }
 },
 "nbformat": 4,
 "nbformat_minor": 5
}
