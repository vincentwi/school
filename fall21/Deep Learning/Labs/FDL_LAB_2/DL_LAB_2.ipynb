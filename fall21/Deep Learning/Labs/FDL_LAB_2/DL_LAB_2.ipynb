{
 "cells": [
  {
   "cell_type": "markdown",
   "metadata": {
    "id": "LdvYJK8dGMGC"
   },
   "source": [
    "# Deep Learning Course: Lab Exercises"
   ]
  },
  {
   "cell_type": "markdown",
   "metadata": {
    "id": "esEx2gjvGMGC"
   },
   "source": [
    "In this lab exercise you will:\n",
    "\n",
    "a) Solve a simple Linear Regression problem with PyTorch.\n"
   ]
  },
  {
   "cell_type": "markdown",
   "metadata": {
    "id": "uTWw0X_9GMGC"
   },
   "source": [
    "# Note"
   ]
  },
  {
   "cell_type": "markdown",
   "metadata": {
    "id": "pquVrDEfGMGC"
   },
   "source": [
    "Apart from the Questions, there are instruction comments throughout the notebook as well as comments inside the code cells beginning with two hashtags (##). In addition, there are #**START CODE  /  #**END CODE comments indicating the startand ending of your code sections. Pay attention not to delete these comments."
   ]
  },
  {
   "cell_type": "markdown",
   "metadata": {
    "id": "YYYvNu6U9Hkf"
   },
   "source": [
    "#**Q1 Solve a simple Linear Regression problem**"
   ]
  },
  {
   "cell_type": "markdown",
   "metadata": {
    "id": "Tq-fv4XuUDyF"
   },
   "source": [
    "Find the linear relationship between a dependent variable 'y' and an independent variable 'x'.\n",
    "\n",
    "Equation: y = 4x + 3"
   ]
  },
  {
   "cell_type": "code",
   "execution_count": 5,
   "metadata": {
    "id": "PTFbA6ssqJKQ"
   },
   "outputs": [
    {
     "name": "stdout",
     "output_type": "stream",
     "text": [
      "[2.3453181  7.92115514 9.58294551 9.12855929 0.64929492 7.42170121\n",
      " 8.3950927  2.54129088 7.31725175 1.22549208 9.14435188 6.82399212\n",
      " 3.32803996 1.00790558 8.47286163]\n"
     ]
    }
   ],
   "source": [
    "## create dummy data for training\n",
    "import numpy as np\n",
    "x_train = np.random.uniform(low=0.0, high=10.0, size=(15,))\n",
    "print(x_train)\n",
    "x_train = np.array(x_train, dtype=np.float32)\n",
    "x_train = x_train.reshape(-1, 1)"
   ]
  },
  {
   "cell_type": "code",
   "execution_count": 6,
   "metadata": {
    "id": "V2Vg8txkqMds"
   },
   "outputs": [],
   "source": [
    "##create the y values according to equation y = 3x + 4\n",
    "# *****START CODE\n",
    "y_train = np.dot(3, x_train) + 4\n",
    "\n",
    "# *****END CODE\n",
    "y_train = np.array(y_train, dtype=np.float32)\n",
    "y_train = y_train.reshape(-1, 1)"
   ]
  },
  {
   "cell_type": "code",
   "execution_count": 7,
   "metadata": {
    "id": "-Sm3rqZccllF"
   },
   "outputs": [],
   "source": [
    "import torch\n",
    "##convert x_train and y_train numpy arrays to pytorch tensors\n",
    "# *****START CODE\n",
    "x_train = torch.as_tensor(x_train)\n",
    "y_train = torch.as_tensor(y_train)\n",
    "\n",
    "# *****END CODE"
   ]
  },
  {
   "cell_type": "code",
   "execution_count": 17,
   "metadata": {
    "id": "4W5mVjpWBtAH"
   },
   "outputs": [],
   "source": [
    "class LinearRegression(torch.nn.Module):\n",
    "    def __init__(self, in_size, out_size):\n",
    "        super(LinearRegression, self).__init__()\n",
    "        ##Define a linear layer\n",
    "        # *****START CODE\n",
    "        self.linear = torch.nn.Linear(in_size, out_size)\n",
    "        # *****END CODE\n",
    "\n",
    "    def forward(self, x):\n",
    "        ##forward the input through the model\n",
    "        # *****START CODE\n",
    "        out = self.linear(x)\n",
    "        # *****END CODE\n",
    "        return out"
   ]
  },
  {
   "cell_type": "code",
   "execution_count": 18,
   "metadata": {
    "id": "6pNUFrD6B3qM"
   },
   "outputs": [],
   "source": [
    "##define input and output dimensions of the model\n",
    "# *****START CODE\n",
    "in_dim =       1\n",
    "out_dim =      1\n",
    "# *****END CODE\n",
    "\n",
    "LR = 0.01 \n",
    "epochs = 100\n",
    "\n",
    "model = LinearRegression(in_dim, out_dim)"
   ]
  },
  {
   "cell_type": "code",
   "execution_count": 19,
   "metadata": {
    "id": "7OieSFIRB4lE"
   },
   "outputs": [],
   "source": [
    "criterion = torch.nn.MSELoss() \n",
    "optimizer = torch.optim.SGD(model.parameters(), lr=LR)"
   ]
  },
  {
   "cell_type": "code",
   "execution_count": 23,
   "metadata": {
    "id": "U-o_W3s-qQc8"
   },
   "outputs": [
    {
     "name": "stdout",
     "output_type": "stream",
     "text": [
      "epoch 0, loss 367.8415222167969\n",
      "epoch 1, loss 7.653720378875732\n",
      "epoch 2, loss 2.0139105319976807\n",
      "epoch 3, loss 1.9074846506118774\n",
      "epoch 4, loss 1.887593150138855\n",
      "epoch 5, loss 1.8692302703857422\n",
      "epoch 6, loss 1.8510661125183105\n",
      "epoch 7, loss 1.8330785036087036\n",
      "epoch 8, loss 1.8152657747268677\n",
      "epoch 9, loss 1.7976264953613281\n",
      "epoch 10, loss 1.7801584005355835\n",
      "epoch 11, loss 1.7628607749938965\n",
      "epoch 12, loss 1.745729923248291\n",
      "epoch 13, loss 1.7287673950195312\n",
      "epoch 14, loss 1.7119675874710083\n",
      "epoch 15, loss 1.6953322887420654\n",
      "epoch 16, loss 1.6788581609725952\n",
      "epoch 17, loss 1.6625444889068604\n",
      "epoch 18, loss 1.6463887691497803\n",
      "epoch 19, loss 1.6303905248641968\n",
      "epoch 20, loss 1.6145472526550293\n",
      "epoch 21, loss 1.5988585948944092\n",
      "epoch 22, loss 1.5833220481872559\n",
      "epoch 23, loss 1.5679370164871216\n",
      "epoch 24, loss 1.552700161933899\n",
      "epoch 25, loss 1.5376124382019043\n",
      "epoch 26, loss 1.5226714611053467\n",
      "epoch 27, loss 1.507874846458435\n",
      "epoch 28, loss 1.493222713470459\n",
      "epoch 29, loss 1.4787129163742065\n",
      "epoch 30, loss 1.4643434286117554\n",
      "epoch 31, loss 1.4501138925552368\n",
      "epoch 32, loss 1.436023235321045\n",
      "epoch 33, loss 1.4220688343048096\n",
      "epoch 34, loss 1.4082506895065308\n",
      "epoch 35, loss 1.3945666551589966\n",
      "epoch 36, loss 1.3810144662857056\n",
      "epoch 37, loss 1.367594599723816\n",
      "epoch 38, loss 1.354305386543274\n",
      "epoch 39, loss 1.3411458730697632\n",
      "epoch 40, loss 1.3281134366989136\n",
      "epoch 41, loss 1.3152073621749878\n",
      "epoch 42, loss 1.3024274110794067\n",
      "epoch 43, loss 1.289771556854248\n",
      "epoch 44, loss 1.2772386074066162\n",
      "epoch 45, loss 1.2648274898529053\n",
      "epoch 46, loss 1.2525367736816406\n",
      "epoch 47, loss 1.2403656244277954\n",
      "epoch 48, loss 1.228312373161316\n",
      "epoch 49, loss 1.2163764238357544\n",
      "epoch 50, loss 1.2045568227767944\n",
      "epoch 51, loss 1.1928520202636719\n",
      "epoch 52, loss 1.1812607049942017\n",
      "epoch 53, loss 1.169782042503357\n",
      "epoch 54, loss 1.1584153175354004\n",
      "epoch 55, loss 1.1471583843231201\n",
      "epoch 56, loss 1.1360114812850952\n",
      "epoch 57, loss 1.1249728202819824\n",
      "epoch 58, loss 1.1140408515930176\n",
      "epoch 59, loss 1.1032155752182007\n",
      "epoch 60, loss 1.0924952030181885\n",
      "epoch 61, loss 1.0818791389465332\n",
      "epoch 62, loss 1.0713669061660767\n",
      "epoch 63, loss 1.0609556436538696\n",
      "epoch 64, loss 1.0506458282470703\n",
      "epoch 65, loss 1.0404363870620728\n",
      "epoch 66, loss 1.030326247215271\n",
      "epoch 67, loss 1.0203145742416382\n",
      "epoch 68, loss 1.0103999376296997\n",
      "epoch 69, loss 1.000581979751587\n",
      "epoch 70, loss 0.9908583760261536\n",
      "epoch 71, loss 0.9812301993370056\n",
      "epoch 72, loss 0.9716951251029968\n",
      "epoch 73, loss 0.9622532725334167\n",
      "epoch 74, loss 0.952902615070343\n",
      "epoch 75, loss 0.943642795085907\n",
      "epoch 76, loss 0.9344736933708191\n",
      "epoch 77, loss 0.9253931641578674\n",
      "epoch 78, loss 0.9164003729820251\n",
      "epoch 79, loss 0.9074957370758057\n",
      "epoch 80, loss 0.8986776471138\n",
      "epoch 81, loss 0.8899444341659546\n",
      "epoch 82, loss 0.881296694278717\n",
      "epoch 83, loss 0.872733473777771\n",
      "epoch 84, loss 0.8642528653144836\n",
      "epoch 85, loss 0.8558543920516968\n",
      "epoch 86, loss 0.8475378751754761\n",
      "epoch 87, loss 0.8393023014068604\n",
      "epoch 88, loss 0.8311466574668884\n",
      "epoch 89, loss 0.8230701088905334\n",
      "epoch 90, loss 0.8150722980499268\n",
      "epoch 91, loss 0.8071522116661072\n",
      "epoch 92, loss 0.7993088960647583\n",
      "epoch 93, loss 0.7915414571762085\n",
      "epoch 94, loss 0.7838501334190369\n",
      "epoch 95, loss 0.776233434677124\n",
      "epoch 96, loss 0.7686907649040222\n",
      "epoch 97, loss 0.7612211108207703\n",
      "epoch 98, loss 0.7538240551948547\n",
      "epoch 99, loss 0.746498703956604\n"
     ]
    }
   ],
   "source": [
    "#model.train()\n",
    "for epoch in range(epochs):\n",
    "    # Set all gradients to zero\n",
    "    optimizer.zero_grad()\n",
    "\n",
    "    # feed the inputs to the model, and get the outputs\n",
    "    # *****START CODE\n",
    "    outputs = model(x_train)\n",
    "    # *****END CODE\n",
    "\n",
    "    # calculate loss for the predicted output\n",
    "    # *****START CODE\n",
    "    loss = criterion(outputs, y_train)\n",
    "    # *****END CODE\n",
    "\n",
    "    # get gradients w.r.t to parameters\n",
    "    loss.backward()\n",
    "\n",
    "    # update parameters\n",
    "    optimizer.step()\n",
    "\n",
    "    print('epoch {}, loss {}'.format(epoch, loss.item()))"
   ]
  },
  {
   "cell_type": "markdown",
   "metadata": {
    "id": "auS_ZOKCfSBg"
   },
   "source": [
    "Create random test data and evaluate the trained model."
   ]
  },
  {
   "cell_type": "code",
   "execution_count": 48,
   "metadata": {
    "id": "qdSkAIacVYfi"
   },
   "outputs": [
    {
     "name": "stdout",
     "output_type": "stream",
     "text": [
      "[11.87605098  7.56834899  8.41356783 -9.18768528  9.07752592 -6.26053303\n",
      " -0.39552735  0.0816785   6.62202224  5.17501422  4.4178902  -5.75916495\n",
      "  5.13059448 11.54695527 -3.4684977   3.5629433   8.73796302  7.33840119\n",
      "  8.86505061 -7.60898626  1.32520569  6.68982475 -1.72943656  6.51071095\n",
      " -5.55310792 -1.46631815 -6.52857342 12.00083915 -1.80219227  7.9005825\n",
      " -1.21012096 -1.52648179 -5.98302456  8.48615684 -7.44248839 14.81129408\n",
      " -6.8189001  13.76578482  8.90231174  2.01553265 -3.17682683  2.63953041\n",
      "  0.5693197  -8.27499868 -9.56251676 -4.50486243  6.87189703  6.43901057\n",
      "  4.97760327  1.17053639]\n"
     ]
    }
   ],
   "source": [
    "## create 'x' values for testing\n",
    "# *****START CODE\n",
    "x_test = np.random.uniform(low=-10.0, high=15.0, size=(50,))\n",
    "print(x_test)\n",
    "x_test = np.array(x_test, dtype=np.float32)\n",
    "x_test = x_test.reshape(-1, 1)\n",
    "\n",
    "\n",
    "# *****END CODE"
   ]
  },
  {
   "cell_type": "code",
   "execution_count": 49,
   "metadata": {
    "id": "32QizCbEXotQ"
   },
   "outputs": [],
   "source": [
    "##create the corresponding testing 'y' values\n",
    "# *****START CODE\n",
    "##create the y values according to equation y = 3x + 4\n",
    "# *****START CODE\n",
    "y_test = np.dot(3, x_test) + 4\n",
    "\n",
    "# *****END CODE\n",
    "y_test = np.array(y_test, dtype=np.float32)\n",
    "y_test = y_test.reshape(-1, 1)\n",
    "\n",
    "\n",
    "# *****END CODE"
   ]
  },
  {
   "cell_type": "markdown",
   "metadata": {
    "id": "K-w-dADCg1Gx"
   },
   "source": [
    "Evaluate the model."
   ]
  },
  {
   "cell_type": "code",
   "execution_count": 50,
   "metadata": {
    "id": "navbs-J_qVaz"
   },
   "outputs": [],
   "source": [
    "from matplotlib import pyplot as plt\n",
    "\n",
    "model.eval()\n",
    "with torch.no_grad(): # we don't need gradients in the testing phase\n",
    "        predicted = model(torch.from_numpy(x_test)).data.numpy()"
   ]
  },
  {
   "cell_type": "code",
   "execution_count": 51,
   "metadata": {
    "id": "js9B__sUsyfK"
   },
   "outputs": [
    {
     "name": "stdout",
     "output_type": "stream",
     "text": [
      "Predicted: \n",
      "[[ 40.629395 ]\n",
      " [ 26.716665 ]\n",
      " [ 29.446495 ]\n",
      " [-27.400867 ]\n",
      " [ 31.590906 ]\n",
      " [-17.946945 ]\n",
      " [  0.9954635]\n",
      " [  2.5367115]\n",
      " [ 23.66028  ]\n",
      " [ 18.98683  ]\n",
      " [ 16.541521 ]\n",
      " [-16.32766  ]\n",
      " [ 18.843365 ]\n",
      " [ 39.566505 ]\n",
      " [ -8.929413 ]\n",
      " [ 13.78027  ]\n",
      " [ 30.494205 ]\n",
      " [ 25.973995 ]\n",
      " [ 30.904665 ]\n",
      " [-22.30209  ]\n",
      " [  6.5529733]\n",
      " [ 23.879265 ]\n",
      " [ -3.3127084]\n",
      " [ 23.300774 ]\n",
      " [-15.662149 ]\n",
      " [ -2.462906 ]\n",
      " [-18.812645 ]\n",
      " [ 41.03243  ]\n",
      " [ -3.54769  ]\n",
      " [ 27.78969  ]\n",
      " [ -1.635457 ]\n",
      " [ -2.6572185]\n",
      " [-17.050667 ]\n",
      " [ 29.680939 ]\n",
      " [-21.764345 ]\n",
      " [ 50.10945  ]\n",
      " [-19.750322 ]\n",
      " [ 46.732735 ]\n",
      " [ 31.025007 ]\n",
      " [  8.782546 ]\n",
      " [ -7.987394 ]\n",
      " [ 10.797892 ]\n",
      " [  4.111663 ]\n",
      " [-24.453133 ]\n",
      " [-28.611475 ]\n",
      " [-12.276596 ]\n",
      " [ 24.46731  ]\n",
      " [ 23.069202 ]\n",
      " [ 18.349245 ]\n",
      " [  6.0534325]]\n",
      "True y values: \n",
      "[[ 39.62815   ]\n",
      " [ 26.705048  ]\n",
      " [ 29.240704  ]\n",
      " [-23.563055  ]\n",
      " [ 31.232578  ]\n",
      " [-14.781599  ]\n",
      " [  2.813418  ]\n",
      " [  4.2450356 ]\n",
      " [ 23.866066  ]\n",
      " [ 19.525042  ]\n",
      " [ 17.25367   ]\n",
      " [-13.277494  ]\n",
      " [ 19.391783  ]\n",
      " [ 38.640865  ]\n",
      " [ -6.4054933 ]\n",
      " [ 14.688829  ]\n",
      " [ 30.213888  ]\n",
      " [ 26.015203  ]\n",
      " [ 30.59515   ]\n",
      " [-18.82696   ]\n",
      " [  7.975617  ]\n",
      " [ 24.069473  ]\n",
      " [ -1.1883096 ]\n",
      " [ 23.532131  ]\n",
      " [-12.659323  ]\n",
      " [ -0.3989544 ]\n",
      " [-15.58572   ]\n",
      " [ 40.002518  ]\n",
      " [ -1.4065766 ]\n",
      " [ 27.701748  ]\n",
      " [  0.36963725]\n",
      " [ -0.57944524]\n",
      " [-13.949074  ]\n",
      " [ 29.45847   ]\n",
      " [-18.327465  ]\n",
      " [ 48.433884  ]\n",
      " [-16.4567    ]\n",
      " [ 45.297356  ]\n",
      " [ 30.706934  ]\n",
      " [ 10.046598  ]\n",
      " [ -5.5304804 ]\n",
      " [ 11.9185915 ]\n",
      " [  5.707959  ]\n",
      " [-20.824997  ]\n",
      " [-24.687551  ]\n",
      " [ -9.514587  ]\n",
      " [ 24.615692  ]\n",
      " [ 23.317032  ]\n",
      " [ 18.93281   ]\n",
      " [  7.511609  ]]\n"
     ]
    }
   ],
   "source": [
    "##Print the predicted values and the true values\n",
    "print('Predicted: ')\n",
    "# *****START CODE\n",
    "print( predicted)\n",
    "# *****END CODE\n",
    "\n",
    "print('True y values: ')\n",
    "# *****START CODE\n",
    "print(y_test)\n",
    "# *****END CODE"
   ]
  },
  {
   "cell_type": "code",
   "execution_count": 52,
   "metadata": {
    "id": "I9KNv6B3tFoa"
   },
   "outputs": [
    {
     "data": {
      "image/png": "[encoded data removed]",
      "text/plain": [
       "<Figure size 432x288 with 1 Axes>"
      ]
     },
     "metadata": {
      "needs_background": "light"
     },
     "output_type": "display_data"
    }
   ],
   "source": [
    "from matplotlib import pyplot as plt\n",
    "##plot the predicted values along with the true values\n",
    "# *****START CODE\n",
    "plt.plot(  x_test, y_test , 'go', label='True data', alpha=0.5)\n",
    "plt.plot(  x_test, predicted , '--', label='Predictions', alpha=0.5)\n",
    "# *****END CODE\n",
    "plt.legend(loc='best')\n",
    "plt.show()"
   ]
  }
 ],
 "metadata": {
  "colab": {
   "collapsed_sections": [],
   "name": "DL_LAB_2.ipynb",
   "provenance": []
  },
  "kernelspec": {
   "display_name": "Python 3",
   "language": "python",
   "name": "python3"
  },
  "language_info": {
   "codemirror_mode": {
    "name": "ipython",
    "version": 3
   },
   "file_extension": ".py",
   "mimetype": "text/x-python",
   "name": "python",
   "nbconvert_exporter": "python",
   "pygments_lexer": "ipython3",
   "version": "3.9.7"
  },
  "latex_envs": {
   "LaTeX_envs_menu_present": true,
   "autoclose": false,
   "autocomplete": true,
   "bibliofile": "biblio.bib",
   "cite_by": "apalike",
   "current_citInitial": 1,
   "eqLabelWithNumbers": true,
   "eqNumInitial": 1,
   "hotkeys": {
    "equation": "Ctrl-E",
    "itemize": "Ctrl-I"
   },
   "labels_anchors": false,
   "latex_user_defs": false,
   "report_style_numbering": false,
   "user_envs_cfg": false
  }
 },
 "nbformat": 4,
 "nbformat_minor": 1
}
