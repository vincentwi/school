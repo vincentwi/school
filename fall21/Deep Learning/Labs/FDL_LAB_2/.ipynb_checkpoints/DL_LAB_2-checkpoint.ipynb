{
 "cells": [
  {
   "cell_type": "markdown",
   "metadata": {
    "id": "LdvYJK8dGMGC"
   },
   "source": [
    "# Deep Learning Course: Lab Exercises"
   ]
  },
  {
   "cell_type": "markdown",
   "metadata": {
    "id": "esEx2gjvGMGC"
   },
   "source": [
    "In this lab exercise you will:\n",
    "\n",
    "a) Solve a simple Linear Regression problem with PyTorch.\n"
   ]
  },
  {
   "cell_type": "markdown",
   "metadata": {
    "id": "uTWw0X_9GMGC"
   },
   "source": [
    "# Note"
   ]
  },
  {
   "cell_type": "markdown",
   "metadata": {
    "id": "pquVrDEfGMGC"
   },
   "source": [
    "Apart from the Questions, there are instruction comments throughout the notebook as well as comments inside the code cells beginning with two hashtags (##). In addition, there are #**START CODE  /  #**END CODE comments indicating the startand ending of your code sections. Pay attention not to delete these comments."
   ]
  },
  {
   "cell_type": "markdown",
   "metadata": {
    "id": "YYYvNu6U9Hkf"
   },
   "source": [
    "#**Q1 Solve a simple Linear Regression problem**"
   ]
  },
  {
   "cell_type": "markdown",
   "metadata": {
    "id": "Tq-fv4XuUDyF"
   },
   "source": [
    "Find the linear relationship between a dependent variable 'y' and an independent variable 'x'.\n",
    "\n",
    "Equation: y = 4x + 3"
   ]
  },
  {
   "cell_type": "code",
   "execution_count": 5,
   "metadata": {
    "id": "PTFbA6ssqJKQ"
   },
   "outputs": [
    {
     "name": "stdout",
     "output_type": "stream",
     "text": [
      "[2.3453181  7.92115514 9.58294551 9.12855929 0.64929492 7.42170121\n",
      " 8.3950927  2.54129088 7.31725175 1.22549208 9.14435188 6.82399212\n",
      " 3.32803996 1.00790558 8.47286163]\n"
     ]
    }
   ],
   "source": [
    "## create dummy data for training\n",
    "import numpy as np\n",
    "x_train = np.random.uniform(low=0.0, high=10.0, size=(15,))\n",
    "print(x_train)\n",
    "x_train = np.array(x_train, dtype=np.float32)\n",
    "x_train = x_train.reshape(-1, 1)"
   ]
  },
  {
   "cell_type": "code",
   "execution_count": 6,
   "metadata": {
    "id": "V2Vg8txkqMds"
   },
   "outputs": [],
   "source": [
    "##create the y values according to equation y = 3x + 4\n",
    "# *****START CODE\n",
    "y_train = np.dot(3, x_train) + 4\n",
    "\n",
    "# *****END CODE\n",
    "y_train = np.array(y_train, dtype=np.float32)\n",
    "y_train = y_train.reshape(-1, 1)"
   ]
  },
  {
   "cell_type": "code",
   "execution_count": null,
   "metadata": {
    "id": "-Sm3rqZccllF"
   },
   "outputs": [],
   "source": [
    "import torch\n",
    "##convert x_train and y_train numpy arrays to pytorch tensors\n",
    "# *****START CODE\n",
    "x_train = torch.as_tensor(x_trian)\n",
    "\n",
    "# *****END CODE"
   ]
  },
  {
   "cell_type": "code",
   "execution_count": null,
   "metadata": {
    "id": "4W5mVjpWBtAH"
   },
   "outputs": [],
   "source": [
    "class LinearRegression(torch.nn.Module):\n",
    "    def __init__(self, in_size, out_size):\n",
    "        super(LinearRegression, self).__init__()\n",
    "        ##Define a linear layer\n",
    "        # *****START CODE\n",
    "\n",
    "        # *****END CODE\n",
    "\n",
    "    def forward(self, x):\n",
    "        ##forward the input through the model\n",
    "        # *****START CODE\n",
    "\n",
    "        # *****END CODE\n",
    "        return out"
   ]
  },
  {
   "cell_type": "code",
   "execution_count": null,
   "metadata": {
    "id": "6pNUFrD6B3qM"
   },
   "outputs": [],
   "source": [
    "##define input and output dimensions of the model\n",
    "# *****START CODE\n",
    "in_dim =       \n",
    "out_dim =      \n",
    "# *****END CODE\n",
    "\n",
    "LR = 0.01 \n",
    "epochs = 100\n",
    "\n",
    "model = LinearRegression(in_dim, out_dim)"
   ]
  },
  {
   "cell_type": "code",
   "execution_count": null,
   "metadata": {
    "id": "7OieSFIRB4lE"
   },
   "outputs": [],
   "source": [
    "criterion = torch.nn.MSELoss() \n",
    "optimizer = torch.optim.SGD(model.parameters(), lr=LR)"
   ]
  },
  {
   "cell_type": "code",
   "execution_count": null,
   "metadata": {
    "id": "U-o_W3s-qQc8"
   },
   "outputs": [],
   "source": [
    "#model.train()\n",
    "for epoch in range(epochs):\n",
    "    # Set all gradients to zero\n",
    "    optimizer.zero_grad()\n",
    "\n",
    "    # feed the inputs to the model, and get the outputs\n",
    "    # *****START CODE\n",
    "    outputs =\n",
    "    # *****END CODE\n",
    "\n",
    "    # calculate loss for the predicted output\n",
    "    # *****START CODE\n",
    "    loss =\n",
    "    # *****END CODE\n",
    "\n",
    "    # get gradients w.r.t to parameters\n",
    "    loss.backward()\n",
    "\n",
    "    # update parameters\n",
    "    optimizer.step()\n",
    "\n",
    "    print('epoch {}, loss {}'.format(epoch, loss.item()))"
   ]
  },
  {
   "cell_type": "markdown",
   "metadata": {
    "id": "auS_ZOKCfSBg"
   },
   "source": [
    "Create random test data and evaluate the trained model."
   ]
  },
  {
   "cell_type": "code",
   "execution_count": null,
   "metadata": {
    "id": "qdSkAIacVYfi"
   },
   "outputs": [],
   "source": [
    "## create 'x' values for testing\n",
    "# *****START CODE\n",
    "\n",
    "\n",
    "\n",
    "# *****END CODE"
   ]
  },
  {
   "cell_type": "code",
   "execution_count": null,
   "metadata": {
    "id": "32QizCbEXotQ"
   },
   "outputs": [],
   "source": [
    "##create the corresponding testing 'y' values\n",
    "# *****START CODE\n",
    "\n",
    "\n",
    "\n",
    "# *****END CODE"
   ]
  },
  {
   "cell_type": "markdown",
   "metadata": {
    "id": "K-w-dADCg1Gx"
   },
   "source": [
    "Evaluate the model."
   ]
  },
  {
   "cell_type": "code",
   "execution_count": null,
   "metadata": {
    "id": "navbs-J_qVaz"
   },
   "outputs": [],
   "source": [
    "from matplotlib import pyplot as plt\n",
    "\n",
    "model.eval()\n",
    "with torch.no_grad(): # we don't need gradients in the testing phase\n",
    "        predicted = model(torch.from_numpy(x_test)).data.numpy()"
   ]
  },
  {
   "cell_type": "code",
   "execution_count": null,
   "metadata": {
    "id": "js9B__sUsyfK"
   },
   "outputs": [],
   "source": [
    "##Print the predicted values and the true values\n",
    "print('Predicted: ')\n",
    "# *****START CODE\n",
    "print( )\n",
    "# *****END CODE\n",
    "\n",
    "print('True y values: ')\n",
    "# *****START CODE\n",
    "print( )\n",
    "# *****END CODE"
   ]
  },
  {
   "cell_type": "code",
   "execution_count": null,
   "metadata": {
    "id": "I9KNv6B3tFoa"
   },
   "outputs": [],
   "source": [
    "from matplotlib import pyplot as plt\n",
    "##plot the predicted values along with the true values\n",
    "# *****START CODE\n",
    "plt.plot(  ,  , 'go', label='True data', alpha=0.5)\n",
    "plt.plot(  ,  , '--', label='Predictions', alpha=0.5)\n",
    "# *****END CODE\n",
    "plt.legend(loc='best')\n",
    "plt.show()"
   ]
  }
 ],
 "metadata": {
  "colab": {
   "collapsed_sections": [],
   "name": "DL_LAB_2.ipynb",
   "provenance": []
  },
  "kernelspec": {
   "display_name": "Python 3",
   "language": "python",
   "name": "python3"
  },
  "language_info": {
   "codemirror_mode": {
    "name": "ipython",
    "version": 3
   },
   "file_extension": ".py",
   "mimetype": "text/x-python",
   "name": "python",
   "nbconvert_exporter": "python",
   "pygments_lexer": "ipython3",
   "version": "3.9.7"
  },
  "latex_envs": {
   "LaTeX_envs_menu_present": true,
   "autoclose": false,
   "autocomplete": true,
   "bibliofile": "biblio.bib",
   "cite_by": "apalike",
   "current_citInitial": 1,
   "eqLabelWithNumbers": true,
   "eqNumInitial": 1,
   "hotkeys": {
    "equation": "Ctrl-E",
    "itemize": "Ctrl-I"
   },
   "labels_anchors": false,
   "latex_user_defs": false,
   "report_style_numbering": false,
   "user_envs_cfg": false
  }
 },
 "nbformat": 4,
 "nbformat_minor": 1
}
