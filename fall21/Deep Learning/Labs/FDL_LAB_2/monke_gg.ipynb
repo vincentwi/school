{
 "cells": [
  {
   "cell_type": "code",
   "execution_count": 1,
   "id": "compact-increase",
   "metadata": {},
   "outputs": [],
   "source": [
    "#importing the libraries\n",
    "import torch\n",
    "import numpy as np\n",
    "import matplotlib.pyplot as plt"
   ]
  },
  {
   "cell_type": "code",
   "execution_count": 3,
   "id": "determined-indonesian",
   "metadata": {},
   "outputs": [
    {
     "name": "stdout",
     "output_type": "stream",
     "text": [
      "shape of x: (569, 30)\n",
      "shape of y: (569,)\n"
     ]
    }
   ],
   "source": [
    "#importing the dataset\n",
    "from sklearn.datasets import load_breast_cancer\n",
    "data = load_breast_cancer()\n",
    "x = data['data']\n",
    "y = data['target']\n",
    "print(\"shape of x: {}\\nshape of y: {}\".format(x.shape,y.shape))\n"
   ]
  },
  {
   "cell_type": "code",
   "execution_count": 4,
   "id": "diagnostic-queue",
   "metadata": {},
   "outputs": [],
   "source": [
    "#feature scaling\n",
    "from sklearn.preprocessing import StandardScaler\n",
    "sc = StandardScaler()\n",
    "x = sc.fit_transform(x)"
   ]
  },
  {
   "cell_type": "code",
   "execution_count": 5,
   "id": "municipal-radiation",
   "metadata": {},
   "outputs": [],
   "source": [
    "#defining dataset class\n",
    "from torch.utils.data import Dataset, DataLoader\n",
    "class dataset(Dataset):\n",
    "    def __init__(self,x,y):\n",
    "        self.x = torch.tensor(x,dtype=torch.float32)\n",
    "        self.y = torch.tensor(y,dtype=torch.float32)\n",
    "        self.length = self.x.shape[0]\n",
    "\n",
    "    def __getitem__(self,idx):\n",
    "        return self.x[idx],self.y[idx]\n",
    "    def __len__(self):\n",
    "        return self.length\n",
    "trainset = dataset(x,y)\n",
    "#DataLoader\n",
    "trainloader = DataLoader(trainset,batch_size=64,shuffle=False)"
   ]
  },
  {
   "cell_type": "code",
   "execution_count": 10,
   "id": "heavy-location",
   "metadata": {},
   "outputs": [],
   "source": [
    "#defining the network\n",
    "from torch import nn\n",
    "from torch.nn import functional as F\n",
    "class Net(nn.Module):\n",
    "    def __init__(self,input_shape):\n",
    "        super(Net,self).__init__()\n",
    "        self.network = nn.Sequential(\n",
    "        nn.Linear(input_shape,32),\n",
    "        nn.ReLU(),\n",
    "        nn.Linear(32,64),\n",
    "        nn.ReLU(),\n",
    "        nn.Linear(64,1),\n",
    "        nn.Sigmoid()\n",
    "        )\n",
    "        \n",
    "    def forward(self,x):\n",
    "        x = self.network(x)\n",
    "        return x\n",
    "#         self.fc1 = nn.Linear(input_shape,32)\n",
    "#         self.fc2 = nn.Linear(32,64)\n",
    "#         self.fc3 = nn.Linear(64,1)\n",
    "#     def forward(self,x):\n",
    "#         x = torch.relu(self.fc1(x))\n",
    "#         x = torch.relu(self.fc2(x))\n",
    "#         x = torch.sigmoid(self.fc3(x))\n",
    "#         return x"
   ]
  },
  {
   "cell_type": "code",
   "execution_count": 11,
   "id": "smooth-litigation",
   "metadata": {},
   "outputs": [],
   "source": [
    "#hyper parameters\n",
    "learning_rate = 0.01\n",
    "epochs = 700\n",
    "# Model , Optimizer, Loss\n",
    "model = Net(input_shape=x.shape[1])\n",
    "optimizer = torch.optim.SGD(model.parameters(),lr=learning_rate)\n",
    "loss_fn = nn.BCELoss()"
   ]
  },
  {
   "cell_type": "code",
   "execution_count": 12,
   "id": "unique-developer",
   "metadata": {},
   "outputs": [
    {
     "name": "stdout",
     "output_type": "stream",
     "text": [
      "epoch 0\tloss : 0.7095210552215576\t accuracy : 0.3110720562390158\n",
      "epoch 50\tloss : 0.17297674715518951\t accuracy : 0.9490333919156415\n",
      "epoch 100\tloss : 0.0935879573225975\t accuracy : 0.9736379613356766\n",
      "epoch 150\tloss : 0.08016348630189896\t accuracy : 0.9806678383128296\n",
      "epoch 200\tloss : 0.07392395287752151\t accuracy : 0.9859402460456942\n",
      "epoch 250\tloss : 0.0680769607424736\t accuracy : 0.9859402460456942\n",
      "epoch 300\tloss : 0.06141757592558861\t accuracy : 0.9859402460456942\n",
      "epoch 350\tloss : 0.05601200461387634\t accuracy : 0.9876977152899824\n",
      "epoch 400\tloss : 0.05150778964161873\t accuracy : 0.9876977152899824\n",
      "epoch 450\tloss : 0.04761691391468048\t accuracy : 0.9876977152899824\n",
      "epoch 500\tloss : 0.04411093518137932\t accuracy : 0.9876977152899824\n",
      "epoch 550\tloss : 0.04170794412493706\t accuracy : 0.9929701230228472\n",
      "epoch 600\tloss : 0.039679065346717834\t accuracy : 0.9929701230228472\n",
      "epoch 650\tloss : 0.03745563328266144\t accuracy : 0.9929701230228472\n"
     ]
    }
   ],
   "source": [
    "#forward loop\n",
    "losses = []\n",
    "accur = []\n",
    "for i in range(epochs):\n",
    "  for j,(x_train,y_train) in enumerate(trainloader):\n",
    "    \n",
    "    #calculate output\n",
    "    output = model(x_train)\n",
    " \n",
    "    #calculate loss\n",
    "    loss = loss_fn(output,y_train.reshape(-1,1))\n",
    " \n",
    "    #accuracy\n",
    "    predicted = model(torch.tensor(x,dtype=torch.float32))\n",
    "    acc = (predicted.reshape(-1).detach().numpy().round() == y).mean()\n",
    "    #backprop\n",
    "    optimizer.zero_grad()\n",
    "    loss.backward()\n",
    "    optimizer.step()\n",
    "\n",
    "  if i%50 == 0:\n",
    "    losses.append(loss)\n",
    "    accur.append(acc)\n",
    "    print(\"epoch {}\\tloss : {}\\t accuracy : {}\".format(i,loss,acc))"
   ]
  },
  {
   "cell_type": "code",
   "execution_count": null,
   "id": "reported-nightmare",
   "metadata": {},
   "outputs": [],
   "source": []
  },
  {
   "cell_type": "code",
   "execution_count": null,
   "id": "coupled-start",
   "metadata": {},
   "outputs": [],
   "source": []
  }
 ],
 "metadata": {
  "kernelspec": {
   "display_name": "Python 3",
   "language": "python",
   "name": "python3"
  },
  "language_info": {
   "codemirror_mode": {
    "name": "ipython",
    "version": 3
   },
   "file_extension": ".py",
   "mimetype": "text/x-python",
   "name": "python",
   "nbconvert_exporter": "python",
   "pygments_lexer": "ipython3",
   "version": "3.9.7"
  },
  "latex_envs": {
   "LaTeX_envs_menu_present": true,
   "autoclose": false,
   "autocomplete": true,
   "bibliofile": "biblio.bib",
   "cite_by": "apalike",
   "current_citInitial": 1,
   "eqLabelWithNumbers": true,
   "eqNumInitial": 1,
   "hotkeys": {
    "equation": "Ctrl-E",
    "itemize": "Ctrl-I"
   },
   "labels_anchors": false,
   "latex_user_defs": false,
   "report_style_numbering": false,
   "user_envs_cfg": false
  }
 },
 "nbformat": 4,
 "nbformat_minor": 5
}
