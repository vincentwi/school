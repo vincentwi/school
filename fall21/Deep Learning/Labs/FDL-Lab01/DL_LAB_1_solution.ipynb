{
 "cells": [
  {
   "cell_type": "code",
   "execution_count": 1,
   "metadata": {
    "colab": {
     "base_uri": "https://localhost:8080/"
    },
    "executionInfo": {
     "elapsed": 3474,
     "status": "ok",
     "timestamp": 1605698161354,
     "user": {
      "displayName": "Maria Papadomanolaki",
      "photoUrl": "https://lh3.googleusercontent.com/a-/AOh14Gi4GHUwVeObF5KIa6wwopWPLq1TtcjUaVSfpQ2Tcw=s64",
      "userId": "13049055197603200919"
     },
     "user_tz": -120
    },
    "id": "CMgzTRODVnaH",
    "outputId": "5b517419-4a9e-4a53-9702-7805ad3d5fa0"
   },
   "outputs": [
    {
     "name": "stdout",
     "output_type": "stream",
     "text": [
      "tensor([[9.1566e+24, 4.5905e-41, 1.8603e-03],\n",
      "        [4.5905e-41, 9.1494e+24, 4.5905e-41],\n",
      "        [1.8596e-03, 4.5905e-41, 2.6836e+29],\n",
      "        [4.5905e-41, 1.9229e-03, 4.5905e-41],\n",
      "        [9.1621e+24, 4.5905e-41, 1.8597e-03]])\n"
     ]
    }
   ],
   "source": [
    "import torch\n",
    "\n",
    "##Construct a 5x3 matrix, uninitialized\n",
    "# *****START CODE\n",
    "x = torch.empty(5,3)\n",
    "# *****END CODE\n",
    "print(x)"
   ]
  },
  {
   "cell_type": "code",
   "execution_count": 2,
   "metadata": {
    "colab": {
     "base_uri": "https://localhost:8080/"
    },
    "executionInfo": {
     "elapsed": 755,
     "status": "ok",
     "timestamp": 1605698163513,
     "user": {
      "displayName": "Maria Papadomanolaki",
      "photoUrl": "https://lh3.googleusercontent.com/a-/AOh14Gi4GHUwVeObF5KIa6wwopWPLq1TtcjUaVSfpQ2Tcw=s64",
      "userId": "13049055197603200919"
     },
     "user_tz": -120
    },
    "id": "u6nM2TOueE_4",
    "outputId": "32ef1e8b-c1d8-451e-e97f-5d067204b348"
   },
   "outputs": [
    {
     "name": "stdout",
     "output_type": "stream",
     "text": [
      "tensor([[-0.1880, -0.4328,  0.7875],\n",
      "        [ 0.9218,  0.3051,  1.1865],\n",
      "        [ 1.4428,  0.1907,  0.2999],\n",
      "        [-0.9635,  0.1364, -0.1556],\n",
      "        [-0.6658,  0.1534,  0.3202]])\n"
     ]
    }
   ],
   "source": [
    "##Construct a randomly initialized matrix from a normal distribution\n",
    "# *****START CODE\n",
    "x = torch.randn(5,3)\n",
    "# *****END CODE\n",
    "print(x)"
   ]
  },
  {
   "cell_type": "code",
   "execution_count": 3,
   "metadata": {
    "colab": {
     "base_uri": "https://localhost:8080/"
    },
    "executionInfo": {
     "elapsed": 668,
     "status": "ok",
     "timestamp": 1605698165637,
     "user": {
      "displayName": "Maria Papadomanolaki",
      "photoUrl": "https://lh3.googleusercontent.com/a-/AOh14Gi4GHUwVeObF5KIa6wwopWPLq1TtcjUaVSfpQ2Tcw=s64",
      "userId": "13049055197603200919"
     },
     "user_tz": -120
    },
    "id": "kBrtUJOReFAN",
    "outputId": "10d71f3d-cca8-4249-ea02-ab2dbe6d4b34"
   },
   "outputs": [
    {
     "name": "stdout",
     "output_type": "stream",
     "text": [
      "tensor([[0, 0, 0],\n",
      "        [0, 0, 0],\n",
      "        [0, 0, 0],\n",
      "        [0, 0, 0],\n",
      "        [0, 0, 0]])\n"
     ]
    }
   ],
   "source": [
    "##Construct a matrix filled with zeros and of dtype int64\n",
    "# *****START CODE\n",
    "x = torch.zeros(5, 3, dtype=torch.int64)\n",
    "# *****END CODE\n",
    "print(x)"
   ]
  },
  {
   "cell_type": "code",
   "execution_count": 4,
   "metadata": {
    "colab": {
     "base_uri": "https://localhost:8080/"
    },
    "executionInfo": {
     "elapsed": 579,
     "status": "ok",
     "timestamp": 1605698167755,
     "user": {
      "displayName": "Maria Papadomanolaki",
      "photoUrl": "https://lh3.googleusercontent.com/a-/AOh14Gi4GHUwVeObF5KIa6wwopWPLq1TtcjUaVSfpQ2Tcw=s64",
      "userId": "13049055197603200919"
     },
     "user_tz": -120
    },
    "id": "nLttLVQXeFAf",
    "outputId": "e8189dbb-5f24-4781-e7be-2ff2952ea923"
   },
   "outputs": [
    {
     "name": "stdout",
     "output_type": "stream",
     "text": [
      "tensor([5.5000, 3.0000])\n"
     ]
    }
   ],
   "source": [
    "##Construct a tensor directly from data\n",
    "# *****START CODE\n",
    "x = torch.tensor([5.5, 3])\n",
    "# *****END CODE\n",
    "print(x)"
   ]
  },
  {
   "cell_type": "code",
   "execution_count": 5,
   "metadata": {
    "colab": {
     "base_uri": "https://localhost:8080/"
    },
    "executionInfo": {
     "elapsed": 677,
     "status": "ok",
     "timestamp": 1605698170380,
     "user": {
      "displayName": "Maria Papadomanolaki",
      "photoUrl": "https://lh3.googleusercontent.com/a-/AOh14Gi4GHUwVeObF5KIa6wwopWPLq1TtcjUaVSfpQ2Tcw=s64",
      "userId": "13049055197603200919"
     },
     "user_tz": -120
    },
    "id": "Kpv3_XbxeFAu",
    "outputId": "70906ed9-e33d-4e6e-a25a-6ece1a4ae1f0"
   },
   "outputs": [
    {
     "name": "stdout",
     "output_type": "stream",
     "text": [
      "x torch.Size([64, 1000])\n",
      "y torch.Size([64, 10])\n"
     ]
    }
   ],
   "source": [
    "import torch.nn.functional as F\n",
    "\n",
    "## N is batch size; D_in is input dimension\n",
    "## H is hidden dimenion; D_out is output dimension\n",
    "\n",
    "N, D_in, H, D_out = 64, 1000, 100, 10\n",
    "\n",
    "## Create random input (x) and output (y) data\n",
    "# *****START CODE\n",
    "x = torch.randn(N, D_in)\n",
    "y = torch.randn(N, D_out)\n",
    "print('x', x.shape)\n",
    "print('y', y.shape)\n",
    "# *****END CODE"
   ]
  },
  {
   "cell_type": "code",
   "execution_count": 6,
   "metadata": {
    "colab": {
     "base_uri": "https://localhost:8080/"
    },
    "executionInfo": {
     "elapsed": 692,
     "status": "ok",
     "timestamp": 1605698173113,
     "user": {
      "displayName": "Maria Papadomanolaki",
      "photoUrl": "https://lh3.googleusercontent.com/a-/AOh14Gi4GHUwVeObF5KIa6wwopWPLq1TtcjUaVSfpQ2Tcw=s64",
      "userId": "13049055197603200919"
     },
     "user_tz": -120
    },
    "id": "ovg4AR_shvGj",
    "outputId": "d58ed004-a109-407e-f24e-ea194da899f6"
   },
   "outputs": [
    {
     "name": "stdout",
     "output_type": "stream",
     "text": [
      "w1 torch.Size([1000, 100])\n",
      "w2 torch.Size([100, 10])\n"
     ]
    }
   ],
   "source": [
    "##Randomly initialize weights from a normal distribution, skipping bias\n",
    "##Hint: You need 2 weight tensors; one for the raw input tensor (x) and one for the hidden dimension\n",
    "# *****START CODE\n",
    "w1 = torch.randn(D_in, H)\n",
    "w2 = torch.randn(H, D_out)\n",
    "print('w1', w1.shape)\n",
    "print('w2', w2.shape)\n",
    "# *****END CODE"
   ]
  },
  {
   "cell_type": "code",
   "execution_count": 7,
   "metadata": {
    "executionInfo": {
     "elapsed": 685,
     "status": "ok",
     "timestamp": 1605698175465,
     "user": {
      "displayName": "Maria Papadomanolaki",
      "photoUrl": "https://lh3.googleusercontent.com/a-/AOh14Gi4GHUwVeObF5KIa6wwopWPLq1TtcjUaVSfpQ2Tcw=s64",
      "userId": "13049055197603200919"
     },
     "user_tz": -120
    },
    "id": "EjkkV067h2vU"
   },
   "outputs": [],
   "source": [
    "learning_rate = 1e-6\n",
    "\n"
   ]
  },
  {
   "cell_type": "code",
   "execution_count": 8,
   "metadata": {
    "colab": {
     "base_uri": "https://localhost:8080/"
    },
    "executionInfo": {
     "elapsed": 619,
     "status": "ok",
     "timestamp": 1605698177701,
     "user": {
      "displayName": "Maria Papadomanolaki",
      "photoUrl": "https://lh3.googleusercontent.com/a-/AOh14Gi4GHUwVeObF5KIa6wwopWPLq1TtcjUaVSfpQ2Tcw=s64",
      "userId": "13049055197603200919"
     },
     "user_tz": -120
    },
    "id": "yHUYNUPMYuq2",
    "outputId": "974387c9-5554-4566-da03-294dee76297c"
   },
   "outputs": [
    {
     "name": "stdout",
     "output_type": "stream",
     "text": [
      "h torch.Size([64, 100])\n"
     ]
    }
   ],
   "source": [
    "h = torch.matmul(x, w1)   # output of the hidden dimension\n",
    "print('h', h.shape)"
   ]
  },
  {
   "cell_type": "code",
   "execution_count": 10,
   "metadata": {
    "executionInfo": {
     "elapsed": 556,
     "status": "ok",
     "timestamp": 1605698179729,
     "user": {
      "displayName": "Maria Papadomanolaki",
      "photoUrl": "https://lh3.googleusercontent.com/a-/AOh14Gi4GHUwVeObF5KIa6wwopWPLq1TtcjUaVSfpQ2Tcw=s64",
      "userId": "13049055197603200919"
     },
     "user_tz": -120
    },
    "id": "Vrx-RaSaYy12"
   },
   "outputs": [],
   "source": [
    "h_relu = F.relu(h)        # output of the ReLU function"
   ]
  },
  {
   "cell_type": "code",
   "execution_count": 11,
   "metadata": {
    "colab": {
     "base_uri": "https://localhost:8080/"
    },
    "executionInfo": {
     "elapsed": 801,
     "status": "ok",
     "timestamp": 1605698182718,
     "user": {
      "displayName": "Maria Papadomanolaki",
      "photoUrl": "https://lh3.googleusercontent.com/a-/AOh14Gi4GHUwVeObF5KIa6wwopWPLq1TtcjUaVSfpQ2Tcw=s64",
      "userId": "13049055197603200919"
     },
     "user_tz": -120
    },
    "id": "bh-MS7CzY0Pb",
    "outputId": "1699fa3d-a189-4779-8932-1956a034f117"
   },
   "outputs": [
    {
     "name": "stdout",
     "output_type": "stream",
     "text": [
      "y_pred torch.Size([64, 10])\n"
     ]
    }
   ],
   "source": [
    "y_pred = torch.matmul(h_relu, w2)  # final output of the network\n",
    "print('y_pred', y_pred.shape)"
   ]
  },
  {
   "cell_type": "code",
   "execution_count": 12,
   "metadata": {
    "colab": {
     "base_uri": "https://localhost:8080/"
    },
    "executionInfo": {
     "elapsed": 569,
     "status": "ok",
     "timestamp": 1605698184030,
     "user": {
      "displayName": "Maria Papadomanolaki",
      "photoUrl": "https://lh3.googleusercontent.com/a-/AOh14Gi4GHUwVeObF5KIa6wwopWPLq1TtcjUaVSfpQ2Tcw=s64",
      "userId": "13049055197603200919"
     },
     "user_tz": -120
    },
    "id": "cxFceFV0Y14W",
    "outputId": "a2c169a1-7884-47f0-88e0-dcb9b168820b"
   },
   "outputs": [
    {
     "name": "stdout",
     "output_type": "stream",
     "text": [
      "tensor(26828420.)\n"
     ]
    }
   ],
   "source": [
    "loss = ((y_pred - y) ** 2).sum()\n",
    "print(loss)"
   ]
  },
  {
   "cell_type": "code",
   "execution_count": 12,
   "metadata": {
    "executionInfo": {
     "elapsed": 520,
     "status": "ok",
     "timestamp": 1605698185682,
     "user": {
      "displayName": "Maria Papadomanolaki",
      "photoUrl": "https://lh3.googleusercontent.com/a-/AOh14Gi4GHUwVeObF5KIa6wwopWPLq1TtcjUaVSfpQ2Tcw=s64",
      "userId": "13049055197603200919"
     },
     "user_tz": -120
    },
    "id": "Ojh7TEKfY5d7"
   },
   "outputs": [],
   "source": [
    "d_loss_ypred = 2.0 * (y_pred - y) #(64,10)\n",
    "d_ypred_w2 = h_relu #(64,100)\n",
    "d_loss_w2 = torch.matmul(d_ypred_w2.t(), d_loss_ypred) #(100,10)"
   ]
  },
  {
   "cell_type": "code",
   "execution_count": 13,
   "metadata": {
    "executionInfo": {
     "elapsed": 519,
     "status": "ok",
     "timestamp": 1605698187168,
     "user": {
      "displayName": "Maria Papadomanolaki",
      "photoUrl": "https://lh3.googleusercontent.com/a-/AOh14Gi4GHUwVeObF5KIa6wwopWPLq1TtcjUaVSfpQ2Tcw=s64",
      "userId": "13049055197603200919"
     },
     "user_tz": -120
    },
    "id": "H5w1POGcY8Uo"
   },
   "outputs": [],
   "source": [
    "d_ypred_hrelu = w2 #(100,10)\n",
    "d_hrelu_h = 1\n",
    "d_h_w1 = x #(64,1000)\n",
    "d_loss_w1 = torch.matmul(d_loss_ypred, d_ypred_hrelu.t()) #(1000,100)\n",
    "d_loss_w1 = torch.matmul(d_h_w1.t(), d_loss_w1) #"
   ]
  },
  {
   "cell_type": "code",
   "execution_count": 14,
   "metadata": {
    "executionInfo": {
     "elapsed": 353,
     "status": "ok",
     "timestamp": 1605698188098,
     "user": {
      "displayName": "Maria Papadomanolaki",
      "photoUrl": "https://lh3.googleusercontent.com/a-/AOh14Gi4GHUwVeObF5KIa6wwopWPLq1TtcjUaVSfpQ2Tcw=s64",
      "userId": "13049055197603200919"
     },
     "user_tz": -120
    },
    "id": "8t09oZfZZCiq"
   },
   "outputs": [],
   "source": [
    "w1 = w1 - learning_rate * d_loss_w1\n",
    "w2 = w2 - learning_rate * d_loss_w2"
   ]
  },
  {
   "cell_type": "code",
   "execution_count": 16,
   "metadata": {
    "colab": {
     "base_uri": "https://localhost:8080/"
    },
    "executionInfo": {
     "elapsed": 1151,
     "status": "ok",
     "timestamp": 1605698353174,
     "user": {
      "displayName": "Maria Papadomanolaki",
      "photoUrl": "https://lh3.googleusercontent.com/a-/AOh14Gi4GHUwVeObF5KIa6wwopWPLq1TtcjUaVSfpQ2Tcw=s64",
      "userId": "13049055197603200919"
     },
     "user_tz": -120
    },
    "id": "MEXMxSxb8RZO",
    "outputId": "d172328c-0858-4989-f82b-da47ef8be5b6"
   },
   "outputs": [
    {
     "name": "stdout",
     "output_type": "stream",
     "text": [
      "0 tensor(0.0006)\n",
      "1 tensor(0.0006)\n",
      "2 tensor(0.0006)\n",
      "3 tensor(0.0006)\n",
      "4 tensor(0.0005)\n",
      "5 tensor(0.0005)\n",
      "6 tensor(0.0005)\n",
      "7 tensor(0.0005)\n",
      "8 tensor(0.0005)\n",
      "9 tensor(0.0004)\n",
      "10 tensor(0.0004)\n",
      "11 tensor(0.0004)\n",
      "12 tensor(0.0004)\n",
      "13 tensor(0.0004)\n",
      "14 tensor(0.0004)\n",
      "15 tensor(0.0004)\n",
      "16 tensor(0.0003)\n",
      "17 tensor(0.0003)\n",
      "18 tensor(0.0003)\n",
      "19 tensor(0.0003)\n",
      "20 tensor(0.0003)\n",
      "21 tensor(0.0003)\n",
      "22 tensor(0.0003)\n",
      "23 tensor(0.0003)\n",
      "24 tensor(0.0002)\n",
      "25 tensor(0.0002)\n",
      "26 tensor(0.0002)\n",
      "27 tensor(0.0002)\n",
      "28 tensor(0.0002)\n",
      "29 tensor(0.0002)\n",
      "30 tensor(0.0002)\n",
      "31 tensor(0.0002)\n",
      "32 tensor(0.0002)\n",
      "33 tensor(0.0002)\n",
      "34 tensor(0.0002)\n",
      "35 tensor(0.0002)\n",
      "36 tensor(0.0002)\n",
      "37 tensor(0.0002)\n",
      "38 tensor(0.0001)\n",
      "39 tensor(0.0001)\n",
      "40 tensor(0.0001)\n",
      "41 tensor(0.0001)\n",
      "42 tensor(0.0001)\n",
      "43 tensor(0.0001)\n",
      "44 tensor(0.0001)\n",
      "45 tensor(0.0001)\n",
      "46 tensor(0.0001)\n",
      "47 tensor(0.0001)\n",
      "48 tensor(9.8458e-05)\n",
      "49 tensor(9.4722e-05)\n",
      "50 tensor(9.1162e-05)\n",
      "51 tensor(8.7758e-05)\n",
      "52 tensor(8.4433e-05)\n",
      "53 tensor(8.1235e-05)\n",
      "54 tensor(7.8187e-05)\n",
      "55 tensor(7.5253e-05)\n",
      "56 tensor(7.2433e-05)\n",
      "57 tensor(6.9696e-05)\n",
      "58 tensor(6.7065e-05)\n",
      "59 tensor(6.4527e-05)\n",
      "60 tensor(6.2115e-05)\n",
      "61 tensor(5.9777e-05)\n",
      "62 tensor(5.7540e-05)\n",
      "63 tensor(5.5377e-05)\n",
      "64 tensor(5.3301e-05)\n",
      "65 tensor(5.1314e-05)\n",
      "66 tensor(4.9384e-05)\n",
      "67 tensor(4.7511e-05)\n",
      "68 tensor(4.5733e-05)\n",
      "69 tensor(4.4023e-05)\n",
      "70 tensor(4.2373e-05)\n",
      "71 tensor(4.0781e-05)\n",
      "72 tensor(3.9266e-05)\n",
      "73 tensor(3.7790e-05)\n",
      "74 tensor(3.6405e-05)\n",
      "75 tensor(3.5001e-05)\n",
      "76 tensor(3.3703e-05)\n",
      "77 tensor(3.2455e-05)\n",
      "78 tensor(3.1221e-05)\n",
      "79 tensor(3.0072e-05)\n",
      "80 tensor(2.8938e-05)\n",
      "81 tensor(2.7870e-05)\n",
      "82 tensor(2.6800e-05)\n",
      "83 tensor(2.5814e-05)\n",
      "84 tensor(2.4864e-05)\n",
      "85 tensor(2.3936e-05)\n",
      "86 tensor(2.3042e-05)\n",
      "87 tensor(2.2189e-05)\n",
      "88 tensor(2.1369e-05)\n",
      "89 tensor(2.0577e-05)\n",
      "90 tensor(1.9802e-05)\n",
      "91 tensor(1.9070e-05)\n",
      "92 tensor(1.8354e-05)\n",
      "93 tensor(1.7668e-05)\n",
      "94 tensor(1.7008e-05)\n",
      "95 tensor(1.6381e-05)\n",
      "96 tensor(1.5778e-05)\n",
      "97 tensor(1.5207e-05)\n",
      "98 tensor(1.4640e-05)\n",
      "99 tensor(1.4100e-05)\n",
      "100 tensor(1.3574e-05)\n",
      "101 tensor(1.3068e-05)\n",
      "102 tensor(1.2591e-05)\n",
      "103 tensor(1.2129e-05)\n",
      "104 tensor(1.1676e-05)\n",
      "105 tensor(1.1248e-05)\n",
      "106 tensor(1.0826e-05)\n",
      "107 tensor(1.0436e-05)\n",
      "108 tensor(1.0053e-05)\n",
      "109 tensor(9.6819e-06)\n",
      "110 tensor(9.3239e-06)\n",
      "111 tensor(8.9883e-06)\n",
      "112 tensor(8.6559e-06)\n",
      "113 tensor(8.3515e-06)\n",
      "114 tensor(8.0434e-06)\n",
      "115 tensor(7.7493e-06)\n",
      "116 tensor(7.4641e-06)\n",
      "117 tensor(7.1913e-06)\n",
      "118 tensor(6.9461e-06)\n",
      "119 tensor(6.6942e-06)\n",
      "120 tensor(6.4536e-06)\n",
      "121 tensor(6.2159e-06)\n",
      "122 tensor(5.9881e-06)\n",
      "123 tensor(5.7695e-06)\n",
      "124 tensor(5.5691e-06)\n",
      "125 tensor(5.3668e-06)\n",
      "126 tensor(5.1787e-06)\n",
      "127 tensor(4.9885e-06)\n",
      "128 tensor(4.8138e-06)\n",
      "129 tensor(4.6411e-06)\n",
      "130 tensor(4.4757e-06)\n",
      "131 tensor(4.3181e-06)\n",
      "132 tensor(4.1663e-06)\n",
      "133 tensor(4.0134e-06)\n",
      "134 tensor(3.8807e-06)\n",
      "135 tensor(3.7458e-06)\n",
      "136 tensor(3.6099e-06)\n",
      "137 tensor(3.4896e-06)\n",
      "138 tensor(3.3642e-06)\n",
      "139 tensor(3.2476e-06)\n",
      "140 tensor(3.1332e-06)\n",
      "141 tensor(3.0231e-06)\n",
      "142 tensor(2.9235e-06)\n",
      "143 tensor(2.8189e-06)\n",
      "144 tensor(2.7235e-06)\n",
      "145 tensor(2.6340e-06)\n",
      "146 tensor(2.5407e-06)\n",
      "147 tensor(2.4538e-06)\n",
      "148 tensor(2.3722e-06)\n",
      "149 tensor(2.2942e-06)\n",
      "150 tensor(2.2182e-06)\n",
      "151 tensor(2.1435e-06)\n",
      "152 tensor(2.0729e-06)\n",
      "153 tensor(2.0037e-06)\n",
      "154 tensor(1.9374e-06)\n",
      "155 tensor(1.8753e-06)\n",
      "156 tensor(1.8126e-06)\n",
      "157 tensor(1.7510e-06)\n",
      "158 tensor(1.6967e-06)\n",
      "159 tensor(1.6412e-06)\n",
      "160 tensor(1.5890e-06)\n",
      "161 tensor(1.5373e-06)\n",
      "162 tensor(1.4903e-06)\n",
      "163 tensor(1.4415e-06)\n",
      "164 tensor(1.3958e-06)\n",
      "165 tensor(1.3524e-06)\n",
      "166 tensor(1.3108e-06)\n",
      "167 tensor(1.2700e-06)\n",
      "168 tensor(1.2292e-06)\n",
      "169 tensor(1.1904e-06)\n",
      "170 tensor(1.1539e-06)\n",
      "171 tensor(1.1192e-06)\n",
      "172 tensor(1.0858e-06)\n",
      "173 tensor(1.0533e-06)\n",
      "174 tensor(1.0201e-06)\n",
      "175 tensor(9.9203e-07)\n",
      "176 tensor(9.6355e-07)\n",
      "177 tensor(9.3639e-07)\n",
      "178 tensor(9.0846e-07)\n",
      "179 tensor(8.8123e-07)\n",
      "180 tensor(8.5480e-07)\n",
      "181 tensor(8.3120e-07)\n",
      "182 tensor(8.0580e-07)\n",
      "183 tensor(7.8446e-07)\n",
      "184 tensor(7.6213e-07)\n",
      "185 tensor(7.4271e-07)\n",
      "186 tensor(7.2067e-07)\n",
      "187 tensor(7.0204e-07)\n",
      "188 tensor(6.8060e-07)\n",
      "189 tensor(6.6206e-07)\n",
      "190 tensor(6.4362e-07)\n",
      "191 tensor(6.2695e-07)\n",
      "192 tensor(6.1096e-07)\n",
      "193 tensor(5.9375e-07)\n",
      "194 tensor(5.7648e-07)\n",
      "195 tensor(5.6105e-07)\n",
      "196 tensor(5.4629e-07)\n",
      "197 tensor(5.3277e-07)\n",
      "198 tensor(5.1845e-07)\n",
      "199 tensor(5.0375e-07)\n",
      "200 tensor(4.9330e-07)\n",
      "201 tensor(4.7928e-07)\n",
      "202 tensor(4.6697e-07)\n",
      "203 tensor(4.5555e-07)\n",
      "204 tensor(4.4335e-07)\n",
      "205 tensor(4.3173e-07)\n",
      "206 tensor(4.2094e-07)\n",
      "207 tensor(4.1091e-07)\n",
      "208 tensor(4.0155e-07)\n",
      "209 tensor(3.9251e-07)\n",
      "210 tensor(3.8263e-07)\n",
      "211 tensor(3.7464e-07)\n",
      "212 tensor(3.6614e-07)\n",
      "213 tensor(3.5784e-07)\n",
      "214 tensor(3.4894e-07)\n",
      "215 tensor(3.4130e-07)\n",
      "216 tensor(3.3409e-07)\n",
      "217 tensor(3.2578e-07)\n",
      "218 tensor(3.1835e-07)\n",
      "219 tensor(3.1093e-07)\n",
      "220 tensor(3.0560e-07)\n",
      "221 tensor(2.9823e-07)\n",
      "222 tensor(2.9095e-07)\n",
      "223 tensor(2.8460e-07)\n",
      "224 tensor(2.7935e-07)\n",
      "225 tensor(2.7226e-07)\n",
      "226 tensor(2.6705e-07)\n",
      "227 tensor(2.6169e-07)\n",
      "228 tensor(2.5638e-07)\n",
      "229 tensor(2.5050e-07)\n",
      "230 tensor(2.4508e-07)\n",
      "231 tensor(2.4015e-07)\n",
      "232 tensor(2.3521e-07)\n",
      "233 tensor(2.3098e-07)\n",
      "234 tensor(2.2592e-07)\n",
      "235 tensor(2.2121e-07)\n",
      "236 tensor(2.1647e-07)\n",
      "237 tensor(2.1236e-07)\n",
      "238 tensor(2.0770e-07)\n",
      "239 tensor(2.0420e-07)\n",
      "240 tensor(2.0032e-07)\n",
      "241 tensor(1.9620e-07)\n",
      "242 tensor(1.9189e-07)\n",
      "243 tensor(1.8860e-07)\n",
      "244 tensor(1.8562e-07)\n",
      "245 tensor(1.8173e-07)\n",
      "246 tensor(1.7824e-07)\n",
      "247 tensor(1.7483e-07)\n",
      "248 tensor(1.7144e-07)\n",
      "249 tensor(1.6794e-07)\n",
      "250 tensor(1.6546e-07)\n",
      "251 tensor(1.6209e-07)\n",
      "252 tensor(1.5835e-07)\n",
      "253 tensor(1.5570e-07)\n",
      "254 tensor(1.5311e-07)\n",
      "255 tensor(1.5044e-07)\n",
      "256 tensor(1.4778e-07)\n",
      "257 tensor(1.4501e-07)\n",
      "258 tensor(1.4271e-07)\n",
      "259 tensor(1.3969e-07)\n",
      "260 tensor(1.3761e-07)\n",
      "261 tensor(1.3497e-07)\n",
      "262 tensor(1.3245e-07)\n",
      "263 tensor(1.3033e-07)\n",
      "264 tensor(1.2801e-07)\n",
      "265 tensor(1.2634e-07)\n",
      "266 tensor(1.2424e-07)\n",
      "267 tensor(1.2214e-07)\n",
      "268 tensor(1.1999e-07)\n",
      "269 tensor(1.1811e-07)\n",
      "270 tensor(1.1603e-07)\n",
      "271 tensor(1.1426e-07)\n",
      "272 tensor(1.1237e-07)\n",
      "273 tensor(1.1032e-07)\n",
      "274 tensor(1.0863e-07)\n",
      "275 tensor(1.0744e-07)\n",
      "276 tensor(1.0530e-07)\n",
      "277 tensor(1.0382e-07)\n",
      "278 tensor(1.0267e-07)\n",
      "279 tensor(1.0117e-07)\n"
     ]
    }
   ],
   "source": [
    "learning_rate = 1e-6\n",
    "\n",
    "##specify the number of epochs\n",
    "# *****START CODE\n",
    "epochs = 280\n",
    "# *****END CODE\n",
    "\n",
    "for t in range(epochs):\n",
    "    ## Forward pass: compute predicted y\n",
    "    ## Hint: make use of torch.matmul()\n",
    "    ## Use ReLU for the activation function\n",
    "    # *****START CODE\n",
    "    h = torch.matmul(x, w1)   # output of the hidden dimension   \n",
    "    h_relu = F.relu(h)        # output of the ReLU function\n",
    "    y_pred = torch.matmul(h_relu, w2)  # final output of the network\n",
    "    # *****END CODE\n",
    "    ## Compute loss\n",
    "    loss = ((y_pred - y) ** 2).mean()\n",
    "    ## Print loss\n",
    "    print(t, loss)\n",
    "\n",
    "    ## Backward pass; optimization of weights\n",
    "    ## Minimize the loss with respect to each weight\n",
    "    ## Hint: Use the chain rule of differentiation\n",
    "\n",
    "    ## Compute the gradient of w2 with respect to the loss\n",
    "    # *****START CODE\n",
    "    d_loss_ypred = 2.0 * (y_pred - y) \n",
    "    d_ypred_w2 = h_relu \n",
    "    d_loss_w2 = torch.matmul(d_ypred_w2.t(), d_loss_ypred) \n",
    "    # *****END CODE\n",
    "\n",
    "    ## Compute the gradient of w1 with respect to the loss (consider the derivative of ReLU equal to 1)\n",
    "    # *****START CODE\n",
    "    d_ypred_hrelu = w2 \n",
    "    d_hrelu_h = 1\n",
    "    d_h_w1 = x \n",
    "    d_loss_w1 = torch.matmul(d_loss_ypred, d_ypred_hrelu.t()) \n",
    "    d_loss_w1 = torch.matmul(d_h_w1.t(), d_loss_w1) #    \n",
    "    # *****END CODE\n",
    "    \n",
    "\n",
    "    ## Update weights\n",
    "    # *****START CODE\n",
    "    w1 = w1 - learning_rate * d_loss_w1\n",
    "    w2 = w2 -learning_rate * d_loss_w2\n",
    "    # *****END CODE"
   ]
  }
 ],
 "metadata": {
  "colab": {
   "collapsed_sections": [],
   "name": "Copy of DL_LAB_solution.ipynb",
   "provenance": []
  },
  "kernelspec": {
   "display_name": "Python 3",
   "language": "python",
   "name": "python3"
  },
  "language_info": {
   "codemirror_mode": {
    "name": "ipython",
    "version": 3
   },
   "file_extension": ".py",
   "mimetype": "text/x-python",
   "name": "python",
   "nbconvert_exporter": "python",
   "pygments_lexer": "ipython3",
   "version": "3.8.5"
  }
 },
 "nbformat": 4,
 "nbformat_minor": 1
}
