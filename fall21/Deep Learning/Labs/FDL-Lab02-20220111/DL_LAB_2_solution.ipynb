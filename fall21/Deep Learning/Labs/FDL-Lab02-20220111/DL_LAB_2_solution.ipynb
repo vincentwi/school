{
 "cells": [
  {
   "cell_type": "markdown",
   "metadata": {
    "id": "LdvYJK8dGMGC"
   },
   "source": [
    "# Deep Learning Course: Lab Exercises"
   ]
  },
  {
   "cell_type": "markdown",
   "metadata": {
    "id": "esEx2gjvGMGC"
   },
   "source": [
    "In this lab exercise you will:\n",
    "\n",
    "a) Solve a simple Linear Regression problem with PyTorch.\n"
   ]
  },
  {
   "cell_type": "markdown",
   "metadata": {
    "id": "EEFVDzHnmmd4"
   },
   "source": [
    "#Solve a simple Linear Regression problem"
   ]
  },
  {
   "cell_type": "markdown",
   "metadata": {
    "id": "om9HTd9lmnbk"
   },
   "source": [
    "Find the linear relationship between a dependent variable 'y' and an independent variable 'x'.\n",
    "\n",
    "Equation: y = 3x + 4"
   ]
  },
  {
   "cell_type": "code",
   "execution_count": 49,
   "metadata": {
    "colab": {
     "base_uri": "https://localhost:8080/"
    },
    "executionInfo": {
     "elapsed": 562,
     "status": "ok",
     "timestamp": 1606251064200,
     "user": {
      "displayName": "Maria Papadomanolaki",
      "photoUrl": "https://lh3.googleusercontent.com/a-/AOh14Gi4GHUwVeObF5KIa6wwopWPLq1TtcjUaVSfpQ2Tcw=s64",
      "userId": "13049055197603200919"
     },
     "user_tz": -120
    },
    "id": "8S_WVC4Rmpfj",
    "outputId": "9816b9e5-d5a8-4f03-c934-af8f432b746b"
   },
   "outputs": [
    {
     "name": "stdout",
     "output_type": "stream",
     "text": [
      "[5.4636493  9.15721202 5.40590478 3.66095339 3.27272879 9.2327058\n",
      " 4.59229723 8.97104037 3.43600321 8.31112621 7.203678   8.69148055\n",
      " 5.85554671 2.46728872 7.05572392]\n",
      "[[5.4636493]\n",
      " [9.157212 ]\n",
      " [5.405905 ]\n",
      " [3.6609533]\n",
      " [3.2727287]\n",
      " [9.232706 ]\n",
      " [4.592297 ]\n",
      " [8.971041 ]\n",
      " [3.4360032]\n",
      " [8.311126 ]\n",
      " [7.203678 ]\n",
      " [8.691481 ]\n",
      " [5.855547 ]\n",
      " [2.4672887]\n",
      " [7.055724 ]]\n"
     ]
    }
   ],
   "source": [
    "## create dummy data for training\n",
    "import numpy as np\n",
    "x_train = np.random.uniform(low=0.0, high=10.0, size=(15,))\n",
    "print(x_train)\n",
    "x_train = np.array(x_train, dtype=np.float32)\n",
    "x_train = x_train.reshape(-1, 1)\n",
    "print(x_train)\n"
   ]
  },
  {
   "cell_type": "code",
   "execution_count": 48,
   "metadata": {
    "colab": {
     "base_uri": "https://localhost:8080/"
    },
    "executionInfo": {
     "elapsed": 596,
     "status": "ok",
     "timestamp": 1606251065775,
     "user": {
      "displayName": "Maria Papadomanolaki",
      "photoUrl": "https://lh3.googleusercontent.com/a-/AOh14Gi4GHUwVeObF5KIa6wwopWPLq1TtcjUaVSfpQ2Tcw=s64",
      "userId": "13049055197603200919"
     },
     "user_tz": -120
    },
    "id": "3HKwFFpImsuS",
    "outputId": "a7cdf8d4-c6e1-46e3-99df-0fe25d083d60"
   },
   "outputs": [
    {
     "name": "stdout",
     "output_type": "stream",
     "text": [
      "[array([27.763725], dtype=float32), array([8.892883], dtype=float32), array([11.229375], dtype=float32), array([31.244965], dtype=float32), array([11.285039], dtype=float32), array([14.656127], dtype=float32), array([30.753304], dtype=float32), array([7.9560366], dtype=float32), array([18.501781], dtype=float32), array([18.653723], dtype=float32), array([26.450592], dtype=float32), array([20.129927], dtype=float32), array([32.61521], dtype=float32), array([17.632], dtype=float32), array([33.019287], dtype=float32)]\n"
     ]
    }
   ],
   "source": [
    "##create the y values according to equation y = 3x + 4\n",
    "# *****START CODE\n",
    "y_train = [3.0*i + 4.0 for i in x_train]\n",
    "print(y_train)\n",
    "# *****END CODE\n",
    "y_train = np.array(y_train, dtype=np.float32)\n",
    "y_train = y_train.reshape(-1, 1)"
   ]
  },
  {
   "cell_type": "code",
   "execution_count": 37,
   "metadata": {
    "id": "dlRrxUi2msq3"
   },
   "outputs": [],
   "source": [
    "import torch\n",
    "##convert x_train and y_train values to pytorch tensors\n",
    "# *****START CODE\n",
    "x_train = torch.from_numpy(x_train)\n",
    "y_train = torch.from_numpy(y_train)\n",
    "# *****END CODE"
   ]
  },
  {
   "cell_type": "code",
   "execution_count": 38,
   "metadata": {
    "id": "I5oC5SelmsnK"
   },
   "outputs": [],
   "source": [
    "class LinearRegression(torch.nn.Module):\n",
    "    def __init__(self, in_size, out_size):\n",
    "        super(LinearRegression, self).__init__()\n",
    "        ##Define a linear layer\n",
    "        # *****START CODE\n",
    "        self.linear = torch.nn.Linear(in_size, out_size)\n",
    "        # *****END CODE\n",
    "\n",
    "    def forward(self, x):\n",
    "        out = self.linear(x)\n",
    "        return out"
   ]
  },
  {
   "cell_type": "code",
   "execution_count": 39,
   "metadata": {
    "id": "xXFFEMrPmsjj"
   },
   "outputs": [],
   "source": [
    "##define input and output dimensions of the model\n",
    "# *****START CODE\n",
    "in_dim = 1      \n",
    "out_dim = 1     \n",
    "# *****END CODE\n",
    "\n",
    "LR = 0.01 \n",
    "epochs = 100\n",
    "\n",
    "model = LinearRegression(in_dim, out_dim)"
   ]
  },
  {
   "cell_type": "code",
   "execution_count": 40,
   "metadata": {
    "id": "osXPiWAImsdF"
   },
   "outputs": [],
   "source": [
    "criterion = torch.nn.MSELoss() \n",
    "optimizer = torch.optim.SGD(model.parameters(), lr=LR)"
   ]
  },
  {
   "cell_type": "code",
   "execution_count": 41,
   "metadata": {
    "colab": {
     "base_uri": "https://localhost:8080/"
    },
    "executionInfo": {
     "elapsed": 712,
     "status": "ok",
     "timestamp": 1606251120228,
     "user": {
      "displayName": "Maria Papadomanolaki",
      "photoUrl": "https://lh3.googleusercontent.com/a-/AOh14Gi4GHUwVeObF5KIa6wwopWPLq1TtcjUaVSfpQ2Tcw=s64",
      "userId": "13049055197603200919"
     },
     "user_tz": -120
    },
    "id": "lUkMp1mHmz96",
    "outputId": "fd66d5eb-9224-4d09-efb4-98569143c8e8",
    "scrolled": true
   },
   "outputs": [
    {
     "name": "stdout",
     "output_type": "stream",
     "text": [
      "epoch 0, loss 470.3887634277344\n",
      "epoch 1, loss 35.274112701416016\n",
      "epoch 2, loss 2.6451830863952637\n",
      "epoch 3, loss 0.19836097955703735\n",
      "epoch 4, loss 0.014874630607664585\n",
      "epoch 5, loss 0.0011155321262776852\n",
      "epoch 6, loss 8.364449604414403e-05\n",
      "epoch 7, loss 6.271762686083093e-06\n",
      "epoch 8, loss 4.6886634663678706e-07\n",
      "epoch 9, loss 3.565583028830588e-08\n",
      "epoch 10, loss 2.6520865503698587e-09\n",
      "epoch 11, loss 2.3283064365386963e-10\n",
      "epoch 12, loss 3.637978807091713e-12\n",
      "epoch 13, loss 0.0\n",
      "epoch 14, loss 0.0\n",
      "epoch 15, loss 0.0\n",
      "epoch 16, loss 0.0\n",
      "epoch 17, loss 0.0\n",
      "epoch 18, loss 0.0\n",
      "epoch 19, loss 0.0\n",
      "epoch 20, loss 0.0\n",
      "epoch 21, loss 0.0\n",
      "epoch 22, loss 0.0\n",
      "epoch 23, loss 0.0\n",
      "epoch 24, loss 0.0\n",
      "epoch 25, loss 0.0\n",
      "epoch 26, loss 0.0\n",
      "epoch 27, loss 0.0\n",
      "epoch 28, loss 0.0\n",
      "epoch 29, loss 0.0\n",
      "epoch 30, loss 0.0\n",
      "epoch 31, loss 0.0\n",
      "epoch 32, loss 0.0\n",
      "epoch 33, loss 0.0\n",
      "epoch 34, loss 0.0\n",
      "epoch 35, loss 0.0\n",
      "epoch 36, loss 0.0\n",
      "epoch 37, loss 0.0\n",
      "epoch 38, loss 0.0\n",
      "epoch 39, loss 0.0\n",
      "epoch 40, loss 0.0\n",
      "epoch 41, loss 0.0\n",
      "epoch 42, loss 0.0\n",
      "epoch 43, loss 0.0\n",
      "epoch 44, loss 0.0\n",
      "epoch 45, loss 0.0\n",
      "epoch 46, loss 0.0\n",
      "epoch 47, loss 0.0\n",
      "epoch 48, loss 0.0\n",
      "epoch 49, loss 0.0\n",
      "epoch 50, loss 0.0\n",
      "epoch 51, loss 0.0\n",
      "epoch 52, loss 0.0\n",
      "epoch 53, loss 0.0\n",
      "epoch 54, loss 0.0\n",
      "epoch 55, loss 0.0\n",
      "epoch 56, loss 0.0\n",
      "epoch 57, loss 0.0\n",
      "epoch 58, loss 0.0\n",
      "epoch 59, loss 0.0\n",
      "epoch 60, loss 0.0\n",
      "epoch 61, loss 0.0\n",
      "epoch 62, loss 0.0\n",
      "epoch 63, loss 0.0\n",
      "epoch 64, loss 0.0\n",
      "epoch 65, loss 0.0\n",
      "epoch 66, loss 0.0\n",
      "epoch 67, loss 0.0\n",
      "epoch 68, loss 0.0\n",
      "epoch 69, loss 0.0\n",
      "epoch 70, loss 0.0\n",
      "epoch 71, loss 0.0\n",
      "epoch 72, loss 0.0\n",
      "epoch 73, loss 0.0\n",
      "epoch 74, loss 0.0\n",
      "epoch 75, loss 0.0\n",
      "epoch 76, loss 0.0\n",
      "epoch 77, loss 0.0\n",
      "epoch 78, loss 0.0\n",
      "epoch 79, loss 0.0\n",
      "epoch 80, loss 0.0\n",
      "epoch 81, loss 0.0\n",
      "epoch 82, loss 0.0\n",
      "epoch 83, loss 0.0\n",
      "epoch 84, loss 0.0\n",
      "epoch 85, loss 0.0\n",
      "epoch 86, loss 0.0\n",
      "epoch 87, loss 0.0\n",
      "epoch 88, loss 0.0\n",
      "epoch 89, loss 0.0\n",
      "epoch 90, loss 0.0\n",
      "epoch 91, loss 0.0\n",
      "epoch 92, loss 0.0\n",
      "epoch 93, loss 0.0\n",
      "epoch 94, loss 0.0\n",
      "epoch 95, loss 0.0\n",
      "epoch 96, loss 0.0\n",
      "epoch 97, loss 0.0\n",
      "epoch 98, loss 0.0\n",
      "epoch 99, loss 0.0\n"
     ]
    }
   ],
   "source": [
    "#model.train()\n",
    "for epoch in range(epochs):\n",
    "    # Set all gradients to zero\n",
    "    optimizer.zero_grad()\n",
    "\n",
    "    # feed the inputs to the model, and get the outputs\n",
    "    outputs = model(x_train)\n",
    "\n",
    "    # calculate loss for the predicted output\n",
    "    loss = criterion(outputs, y_train)\n",
    "    # get gradients w.r.t to parameters\n",
    "    loss.backward()\n",
    "\n",
    "    # update parameters\n",
    "    optimizer.step()\n",
    "\n",
    "    print('epoch {}, loss {}'.format(epoch, loss.item()))"
   ]
  },
  {
   "cell_type": "code",
   "execution_count": 42,
   "metadata": {
    "id": "tF2ieIzWmz4p"
   },
   "outputs": [],
   "source": [
    "## create 'x' values for testing\n",
    "# *****START CODE\n",
    "x_test = np.random.uniform(low=0.0, high=10.0, size=(15,))\n",
    "x_test = np.array(x_test, dtype=np.float32)\n",
    "x_test = x_test.reshape(-1, 1)\n",
    "# *****END CODE"
   ]
  },
  {
   "cell_type": "code",
   "execution_count": 43,
   "metadata": {
    "id": "2zqG6DPFmz2h"
   },
   "outputs": [],
   "source": [
    "##create the corresponding testing 'y' values\n",
    "# *****START CODE\n",
    "y_test = [3.0*i + 4.0 for i in x_test]\n",
    "y_test = np.array(y_test, dtype=np.float32)\n",
    "y_test = y_test.reshape(-1, 1)\n",
    "# *****END CODE"
   ]
  },
  {
   "cell_type": "code",
   "execution_count": 44,
   "metadata": {
    "id": "EJBlra_jAnk2"
   },
   "outputs": [],
   "source": [
    "model.eval()\n",
    "with torch.no_grad(): # we don't need gradients in the testing phase\n",
    "        predicted = model(torch.from_numpy(x_test)).data.numpy()"
   ]
  },
  {
   "cell_type": "code",
   "execution_count": 45,
   "metadata": {
    "colab": {
     "base_uri": "https://localhost:8080/",
     "height": 265
    },
    "executionInfo": {
     "elapsed": 650,
     "status": "ok",
     "timestamp": 1606251134687,
     "user": {
      "displayName": "Maria Papadomanolaki",
      "photoUrl": "https://lh3.googleusercontent.com/a-/AOh14Gi4GHUwVeObF5KIa6wwopWPLq1TtcjUaVSfpQ2Tcw=s64",
      "userId": "13049055197603200919"
     },
     "user_tz": -120
    },
    "id": "sP5MxQtCmsTm",
    "outputId": "c7ca8a38-a599-4b14-f00f-10bbc0f10d56"
   },
   "outputs": [
    {
     "data": {
      "image/png": "[encoded data removed]",
      "text/plain": [
       "<Figure size 432x288 with 1 Axes>"
      ]
     },
     "metadata": {
      "needs_background": "light"
     },
     "output_type": "display_data"
    }
   ],
   "source": [
    "from matplotlib import pyplot as plt\n",
    "\n",
    "##plot the predicted values along with the true values\n",
    "plt.plot(x_test, y_test , 'go', label='True data', alpha=0.5)\n",
    "plt.plot(x_test, predicted , '--', label='Predictions', alpha=0.5)\n",
    "plt.legend(loc='best')\n",
    "plt.show()"
   ]
  },
  {
   "cell_type": "code",
   "execution_count": 46,
   "metadata": {},
   "outputs": [
    {
     "name": "stdout",
     "output_type": "stream",
     "text": [
      "tensor([[3.6076]])\n",
      "tensor([0.3897])\n"
     ]
    }
   ],
   "source": [
    "print(model.state_dict()['linear.weight'])\n",
    "print(model.state_dict()['linear.bias'])"
   ]
  },
  {
   "cell_type": "code",
   "execution_count": null,
   "metadata": {},
   "outputs": [],
   "source": []
  }
 ],
 "metadata": {
  "colab": {
   "collapsed_sections": [],
   "name": "Solution_DL_LAB_2.ipynb",
   "provenance": []
  },
  "kernelspec": {
   "display_name": "Python 3",
   "language": "python",
   "name": "python3"
  },
  "language_info": {
   "codemirror_mode": {
    "name": "ipython",
    "version": 3
   },
   "file_extension": ".py",
   "mimetype": "text/x-python",
   "name": "python",
   "nbconvert_exporter": "python",
   "pygments_lexer": "ipython3",
   "version": "3.8.5"
  }
 },
 "nbformat": 4,
 "nbformat_minor": 1
}
