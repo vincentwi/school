{
 "cells": [
  {
   "cell_type": "code",
   "execution_count": 1,
   "metadata": {
    "colab": {
     "base_uri": "https://localhost:8080/"
    },
    "id": "Qd5jTBqLw8qp",
    "outputId": "baddda86-e408-49be-f09f-74b74ecb3bb8"
   },
   "outputs": [],
   "source": [
    "import os\n",
    "import glob\n",
    "#from google.colab import drive\n",
    "\n",
    "## load train, test and validation label arrays\n",
    "#drive = drive.mount('/content/drive')"
   ]
  },
  {
   "cell_type": "code",
   "execution_count": 5,
   "metadata": {
    "colab": {
     "base_uri": "https://localhost:8080/"
    },
    "id": "IVlQQXhP3MsA",
    "outputId": "6f7cb40d-0c2f-4476-c058-a76edbc4fa32"
   },
   "outputs": [
    {
     "name": "stdout",
     "output_type": "stream",
     "text": [
      "1000\n",
      "(800,) (200,)\n"
     ]
    }
   ],
   "source": [
    "import random\n",
    "import numpy as np\n",
    "##here put your custom destination folder\n",
    "images=list(glob.glob(os.path.join(\"./DL_LAB_4/DogsCats_Train.zip (Unzipped Files)/DogsCats_Train/*.jpg\")))\n",
    "random.shuffle(images)\n",
    "train = images[:800]\n",
    "val = images[800:]\n",
    "print(len(images))\n",
    "print(np.asarray(train).shape, np.asarray(val).shape)"
   ]
  },
  {
   "cell_type": "code",
   "execution_count": 8,
   "metadata": {
    "id": "iAk1iyhPxmCR"
   },
   "outputs": [],
   "source": [
    "from torch.utils.data.dataset import Dataset\n",
    "from skimage import io\n",
    "import numpy as np\n",
    "\n",
    "class MyDataset(Dataset):\n",
    "    def __init__(self, image_list):\n",
    "\n",
    "        ##Load array of images\n",
    "        self.images = image_list\n",
    "\n",
    "    def __getitem__(self, index):\n",
    "        ## Get the image-label set \n",
    "        image = io.imread(self.images[index]) \n",
    "        image = np.transpose(image, (2,0,1))\n",
    "        image = image/255.0\n",
    "        if 'dog' in self.images[index]:\n",
    "            label = 0\n",
    "        else:\n",
    "            label = 1\n",
    "        \n",
    "        return image, label\n",
    "\n",
    "    def __len__(self):\n",
    "        ## return the total number of data samples\n",
    "        return len(self.images)"
   ]
  },
  {
   "cell_type": "code",
   "execution_count": 9,
   "metadata": {
    "id": "Hl8hHxx60rvI"
   },
   "outputs": [],
   "source": [
    "train_dataset = MyDataset(train)\n",
    "val_dataset = MyDataset(val)"
   ]
  },
  {
   "cell_type": "code",
   "execution_count": 10,
   "metadata": {
    "id": "p4EktChmzoDU"
   },
   "outputs": [],
   "source": [
    "from torch.utils.data import DataLoader\n",
    "\n",
    "train_dataloader = DataLoader( train_dataset, batch_size=10, shuffle=True, drop_last=True)\n",
    "val_dataloader = DataLoader( val_dataset, batch_size=10, shuffle=False, drop_last=True)"
   ]
  },
  {
   "cell_type": "code",
   "execution_count": 11,
   "metadata": {
    "id": "sgZoMLKy0n41"
   },
   "outputs": [],
   "source": [
    "import torch\n",
    "import torch.nn as nn\n",
    "\n",
    "\n",
    "def conv3x3(in_planes, out_planes, stride=1, groups=1, dilation=1):\n",
    "    \"\"\"3x3 convolution with padding\"\"\"\n",
    "    return nn.Conv2d(in_planes, out_planes, kernel_size=3, stride=stride,\n",
    "                     padding=dilation, groups=groups, bias=False, dilation=dilation)\n",
    "\n",
    "\n",
    "def conv1x1(in_planes, out_planes, stride=1):\n",
    "    \"\"\"1x1 convolution\"\"\"\n",
    "    return nn.Conv2d(in_planes, out_planes, kernel_size=1, stride=stride, bias=False)\n",
    "\n",
    "class BasicBlock(nn.Module):\n",
    "    expansion = 1\n",
    "    __constants__ = ['downsample']\n",
    "\n",
    "    def __init__(self, inplanes, planes, stride=1, downsample=None, groups=1,\n",
    "                 base_width=64, dilation=1, norm_layer=None):\n",
    "        super(BasicBlock, self).__init__()\n",
    "        if norm_layer is None:\n",
    "            norm_layer = nn.BatchNorm2d\n",
    "        if groups != 1 or base_width != 64:\n",
    "            raise ValueError('BasicBlock only supports groups=1 and base_width=64')\n",
    "        if dilation > 1:\n",
    "            raise NotImplementedError(\"Dilation > 1 not supported in BasicBlock\")\n",
    "        # Both self.conv1 and self.downsample layers downsample the input when stride != 1\n",
    "        self.conv1 = conv3x3(inplanes, planes, stride)\n",
    "        self.bn1 = norm_layer(planes)\n",
    "        self.relu = nn.ReLU(inplace=True)\n",
    "        self.conv2 = conv3x3(planes, planes)\n",
    "        self.bn2 = norm_layer(planes)\n",
    "        self.downsample = downsample\n",
    "        self.stride = stride\n",
    "\n",
    "    def forward(self, x):\n",
    "        identity = x\n",
    "\n",
    "        out = self.conv1(x)\n",
    "        out = self.bn1(out)\n",
    "        out = self.relu(out)\n",
    "\n",
    "        out = self.conv2(out)\n",
    "        out = self.bn2(out)\n",
    "\n",
    "        if self.downsample is not None:\n",
    "            identity = self.downsample(x)\n",
    "\n",
    "        out += identity\n",
    "        out = self.relu(out)\n",
    "\n",
    "        return out\n",
    "\n",
    "class ResNet(nn.Module):\n",
    "\n",
    "    def __init__(self, block, layers, num_classes=2, zero_init_residual=False,\n",
    "                 groups=1, width_per_group=64, replace_stride_with_dilation=None,\n",
    "                 norm_layer=None):\n",
    "        super(ResNet, self).__init__()\n",
    "        if norm_layer is None:\n",
    "            norm_layer = nn.BatchNorm2d\n",
    "        self._norm_layer = norm_layer\n",
    "\n",
    "        self.inplanes = 64\n",
    "        self.dilation = 1\n",
    "        if replace_stride_with_dilation is None:\n",
    "            # each element in the tuple indicates if we should replace\n",
    "            # the 2x2 stride with a dilated convolution instead\n",
    "            replace_stride_with_dilation = [False, False, False]\n",
    "        if len(replace_stride_with_dilation) != 3:\n",
    "            raise ValueError(\"replace_stride_with_dilation should be None \"\n",
    "                             \"or a 3-element tuple, got {}\".format(replace_stride_with_dilation))\n",
    "        self.groups = groups\n",
    "        self.base_width = width_per_group\n",
    "        self.conv1 = nn.Conv2d(3, self.inplanes, kernel_size=7, stride=2, padding=3,\n",
    "                               bias=False)\n",
    "        self.bn1 = norm_layer(self.inplanes)\n",
    "        self.relu = nn.ReLU(inplace=True)\n",
    "        self.maxpool = nn.MaxPool2d(kernel_size=3, stride=2, padding=1)\n",
    "        self.layer1 = self._make_layer(block, 32, layers[0])\n",
    "        self.layer2 = self._make_layer(block, 64, layers[1], stride=2,\n",
    "                                       dilate=replace_stride_with_dilation[0])\n",
    "        self.layer3 = self._make_layer(block, 128, layers[2], stride=2,\n",
    "                                       dilate=replace_stride_with_dilation[1])\n",
    "        self.layer4 = self._make_layer(block, 256, layers[3], stride=2,\n",
    "                                       dilate=replace_stride_with_dilation[2])\n",
    "        self.avgpool = nn.AdaptiveAvgPool2d((1, 1))\n",
    "        self.fc = nn.Linear(256 * block.expansion, num_classes)\n",
    "\n",
    "        for m in self.modules():\n",
    "            if isinstance(m, nn.Conv2d):\n",
    "                nn.init.kaiming_normal_(m.weight, mode='fan_out', nonlinearity='relu')\n",
    "            elif isinstance(m, (nn.BatchNorm2d, nn.GroupNorm)):\n",
    "                nn.init.constant_(m.weight, 1)\n",
    "                nn.init.constant_(m.bias, 0)\n",
    "\n",
    "        # Zero-initialize the last BN in each residual branch,\n",
    "        # so that the residual branch starts with zeros, and each residual block behaves like an identity.\n",
    "        # This improves the model by 0.2~0.3% according to https://arxiv.org/abs/1706.02677\n",
    "        if zero_init_residual:\n",
    "            for m in self.modules():\n",
    "                if isinstance(m, Bottleneck):\n",
    "                    nn.init.constant_(m.bn3.weight, 0)\n",
    "                elif isinstance(m, BasicBlock):\n",
    "                    nn.init.constant_(m.bn2.weight, 0)\n",
    "\n",
    "    def _make_layer(self, block, planes, blocks, stride=1, dilate=False):\n",
    "        norm_layer = self._norm_layer\n",
    "        downsample = None\n",
    "        previous_dilation = self.dilation\n",
    "        if dilate:\n",
    "            self.dilation *= stride\n",
    "            stride = 1\n",
    "        if stride != 1 or self.inplanes != planes * block.expansion:\n",
    "            downsample = nn.Sequential(\n",
    "                conv1x1(self.inplanes, planes * block.expansion, stride),\n",
    "                norm_layer(planes * block.expansion),\n",
    "            )\n",
    "        layers = []\n",
    "        layers.append(block(self.inplanes, planes, stride, downsample, self.groups,\n",
    "                            self.base_width, previous_dilation, norm_layer))\n",
    "        self.inplanes = planes * block.expansion\n",
    "        for _ in range(1, blocks):\n",
    "            layers.append(block(self.inplanes, planes, groups=self.groups,\n",
    "                                base_width=self.base_width, dilation=self.dilation,\n",
    "                                norm_layer=norm_layer))\n",
    "\n",
    "        return nn.Sequential(*layers)\n",
    "\n",
    "    def _forward(self, x):\n",
    "        x = self.conv1(x)\n",
    "        x = self.bn1(x)\n",
    "        x = self.relu(x)\n",
    "        x = self.maxpool(x)\n",
    "\n",
    "        x = self.layer1(x)\n",
    "        x = self.layer2(x)\n",
    "        x = self.layer3(x)\n",
    "        x = self.layer4(x)\n",
    "\n",
    "        x = self.avgpool(x)\n",
    "        x = torch.flatten(x, 1)\n",
    "        x = self.fc(x)\n",
    "\n",
    "        return x\n",
    "\n",
    "    # Allow for accessing forward method in a inherited class\n",
    "    forward = _forward\n",
    "\n",
    "\n",
    "def _resnet(arch, block, layers, **kwargs):\n",
    "    model = ResNet(block, layers, **kwargs)\n",
    "\n",
    "    return model\n",
    "\n",
    "def resnet18(**kwargs):\n",
    "    return _resnet('resnet18', BasicBlock, [2, 2, 2, 2], **kwargs)\n",
    "\n"
   ]
  },
  {
   "cell_type": "code",
   "execution_count": 12,
   "metadata": {
    "id": "EUK7UxZe2Oej"
   },
   "outputs": [],
   "source": [
    "net_args = {\n",
    "    \"block\": BasicBlock,\n",
    "    \"layers\": [2, 2, 2, 2]\n",
    "}\n",
    "model = ResNet(**net_args)\n"
   ]
  },
  {
   "cell_type": "code",
   "execution_count": 13,
   "metadata": {
    "id": "OMmHRqrx2Okj"
   },
   "outputs": [],
   "source": [
    "# define optimizer, criterion and number of training epochs\n",
    "optimizer = torch.optim.SGD(model.parameters(), lr=0.001)\n",
    "criterion = nn.CrossEntropyLoss()\n",
    "epochs = 10"
   ]
  },
  {
   "cell_type": "code",
   "execution_count": 14,
   "metadata": {
    "colab": {
     "base_uri": "https://localhost:8080/"
    },
    "id": "FSE0cN_m2OcA",
    "outputId": "521ff78e-95b9-4aa0-a285-7f26e273a801"
   },
   "outputs": [],
   "source": [
    "#!pip install torchnet\n",
    "import torchnet as tnt\n",
    "\n",
    "# define confusion matrix using tnt package\n",
    "confusion_matrix = tnt.meter.ConfusionMeter(2)"
   ]
  },
  {
   "cell_type": "code",
   "execution_count": 16,
   "metadata": {
    "id": "JRZ7R77c3Tm4"
   },
   "outputs": [],
   "source": [
    "# create a directory for saving the models and the training progress\n",
    "save_folder = './DL_LAB_4/models'"
   ]
  },
  {
   "cell_type": "code",
   "execution_count": 17,
   "metadata": {
    "id": "uXopSOpH3TqG"
   },
   "outputs": [],
   "source": [
    "def write_results(ff, save_folder, epoch, train_acc, val_acc, train_loss, val_loss):\n",
    "    ff=open('{}/progress.txt'.format(save_folder),'a')\n",
    "    ff.write(' E: ')\n",
    "    ff.write(str(epoch))\n",
    "    ff.write('         ')\n",
    "    ff.write(' TRAIN_OA: ')\n",
    "    ff.write(str('%.3f' % train_acc))\n",
    "    ff.write(' VAL_OA: ')\n",
    "    ff.write(str('%.3f' % val_acc))\n",
    "    ff.write('         ')\n",
    "    ff.write(' TRAIN_LOSS: ')\n",
    "    ff.write(str('%.3f' % train_loss))\n",
    "    ff.write(' VAL_LOSS: ')\n",
    "    ff.write(str('%.3f' % val_loss))\n",
    "    ff.write('\\n')\n"
   ]
  },
  {
   "cell_type": "code",
   "execution_count": 18,
   "metadata": {
    "id": "GqeouwJG3Tu2"
   },
   "outputs": [],
   "source": [
    "import matplotlib.pyplot as plt\n",
    "# create a function that creates train-val loss graph and saves the figure in a destination folder\n",
    "def save_graph(train_loss, val_loss, nb_epochs, save_folder):\n",
    "    plt.plot(list(range(nb_epochs+1))[1:], train_loss)\n",
    "    plt.plot(list(range(nb_epochs+1))[1:], val_loss)\n",
    "    plt.legend(['train', 'val'])\n",
    "    plt.xlabel('Epochs')\n",
    "    plt.ylabel('Loss')\n",
    "    plt.savefig('{}/chart.png'.format(save_folder))"
   ]
  },
  {
   "cell_type": "code",
   "execution_count": 19,
   "metadata": {
    "colab": {
     "base_uri": "https://localhost:8080/",
     "height": 1000
    },
    "id": "DH2f895q3Ttk",
    "outputId": "97893484-df1d-45ea-9c28-a84402e859f1"
   },
   "outputs": [
    {
     "name": "stderr",
     "output_type": "stream",
     "text": [
      "  4%|▍         | 3/80 [00:00<00:08,  9.60it/s]"
     ]
    },
    {
     "name": "stdout",
     "output_type": "stream",
     "text": [
      "Train (epoch 1/10) [0/80 (0%)]\tLoss: 0.684081\n"
     ]
    },
    {
     "name": "stderr",
     "output_type": "stream",
     "text": [
      " 28%|██▊       | 22/80 [00:01<00:04, 12.57it/s]"
     ]
    },
    {
     "name": "stdout",
     "output_type": "stream",
     "text": [
      "Train (epoch 1/10) [20/80 (25%)]\tLoss: 0.701454\n"
     ]
    },
    {
     "name": "stderr",
     "output_type": "stream",
     "text": [
      " 52%|█████▎    | 42/80 [00:03<00:02, 13.87it/s]"
     ]
    },
    {
     "name": "stdout",
     "output_type": "stream",
     "text": [
      "Train (epoch 1/10) [40/80 (50%)]\tLoss: 0.715183\n"
     ]
    },
    {
     "name": "stderr",
     "output_type": "stream",
     "text": [
      " 78%|███████▊  | 62/80 [00:04<00:01, 13.79it/s]"
     ]
    },
    {
     "name": "stdout",
     "output_type": "stream",
     "text": [
      "Train (epoch 1/10) [60/80 (75%)]\tLoss: 0.661240\n"
     ]
    },
    {
     "name": "stderr",
     "output_type": "stream",
     "text": [
      "100%|██████████| 80/80 [00:06<00:00, 12.33it/s]\n",
      "100%|██████████| 20/20 [00:00<00:00, 34.60it/s]\n",
      "  2%|▎         | 2/80 [00:00<00:06, 11.91it/s]"
     ]
    },
    {
     "name": "stdout",
     "output_type": "stream",
     "text": [
      "Confusion Matrix:\n",
      "[[66 39]\n",
      " [59 36]]\n",
      "TRAIN_LOSS:  0.698 TRAIN_ACC:  51.500\n",
      "VAL_LOSS:  0.702 VAL_ACC:  51.000\n",
      "Train (epoch 2/10) [0/80 (0%)]\tLoss: 0.756036\n"
     ]
    },
    {
     "name": "stderr",
     "output_type": "stream",
     "text": [
      " 29%|██▉       | 23/80 [00:02<00:05,  9.89it/s]"
     ]
    },
    {
     "name": "stdout",
     "output_type": "stream",
     "text": [
      "Train (epoch 2/10) [20/80 (25%)]\tLoss: 0.688626\n"
     ]
    },
    {
     "name": "stderr",
     "output_type": "stream",
     "text": [
      " 54%|█████▍    | 43/80 [00:03<00:03, 11.86it/s]"
     ]
    },
    {
     "name": "stdout",
     "output_type": "stream",
     "text": [
      "Train (epoch 2/10) [40/80 (50%)]\tLoss: 0.660277\n"
     ]
    },
    {
     "name": "stderr",
     "output_type": "stream",
     "text": [
      " 79%|███████▉  | 63/80 [00:05<00:01, 10.67it/s]"
     ]
    },
    {
     "name": "stdout",
     "output_type": "stream",
     "text": [
      "Train (epoch 2/10) [60/80 (75%)]\tLoss: 0.630085\n"
     ]
    },
    {
     "name": "stderr",
     "output_type": "stream",
     "text": [
      "100%|██████████| 80/80 [00:07<00:00, 11.25it/s]\n",
      "100%|██████████| 20/20 [00:00<00:00, 37.19it/s]\n",
      "  2%|▎         | 2/80 [00:00<00:05, 13.06it/s]"
     ]
    },
    {
     "name": "stdout",
     "output_type": "stream",
     "text": [
      "Confusion Matrix:\n",
      "[[65 40]\n",
      " [44 51]]\n",
      "TRAIN_LOSS:  0.687 TRAIN_ACC:  54.000\n",
      "VAL_LOSS:  0.681 VAL_ACC:  58.000\n",
      "Train (epoch 3/10) [0/80 (0%)]\tLoss: 0.688809\n"
     ]
    },
    {
     "name": "stderr",
     "output_type": "stream",
     "text": [
      " 28%|██▊       | 22/80 [00:01<00:05, 11.29it/s]"
     ]
    },
    {
     "name": "stdout",
     "output_type": "stream",
     "text": [
      "Train (epoch 3/10) [20/80 (25%)]\tLoss: 0.708495\n"
     ]
    },
    {
     "name": "stderr",
     "output_type": "stream",
     "text": [
      " 52%|█████▎    | 42/80 [00:03<00:03, 10.13it/s]"
     ]
    },
    {
     "name": "stdout",
     "output_type": "stream",
     "text": [
      "Train (epoch 3/10) [40/80 (50%)]\tLoss: 0.695250\n"
     ]
    },
    {
     "name": "stderr",
     "output_type": "stream",
     "text": [
      " 78%|███████▊  | 62/80 [00:05<00:01,  9.58it/s]"
     ]
    },
    {
     "name": "stdout",
     "output_type": "stream",
     "text": [
      "Train (epoch 3/10) [60/80 (75%)]\tLoss: 0.725631\n"
     ]
    },
    {
     "name": "stderr",
     "output_type": "stream",
     "text": [
      "100%|██████████| 80/80 [00:07<00:00, 10.57it/s]\n",
      "100%|██████████| 20/20 [00:00<00:00, 27.01it/s]\n",
      "  1%|▏         | 1/80 [00:00<00:09,  8.38it/s]"
     ]
    },
    {
     "name": "stdout",
     "output_type": "stream",
     "text": [
      "Confusion Matrix:\n",
      "[[56 49]\n",
      " [36 59]]\n",
      "TRAIN_LOSS:  0.681 TRAIN_ACC:  57.000\n",
      "VAL_LOSS:  0.686 VAL_ACC:  57.500\n",
      "Train (epoch 4/10) [0/80 (0%)]\tLoss: 0.652408\n"
     ]
    },
    {
     "name": "stderr",
     "output_type": "stream",
     "text": [
      " 28%|██▊       | 22/80 [00:02<00:06,  9.02it/s]"
     ]
    },
    {
     "name": "stdout",
     "output_type": "stream",
     "text": [
      "Train (epoch 4/10) [20/80 (25%)]\tLoss: 0.685621\n"
     ]
    },
    {
     "name": "stderr",
     "output_type": "stream",
     "text": [
      " 52%|█████▎    | 42/80 [00:04<00:03,  9.82it/s]"
     ]
    },
    {
     "name": "stdout",
     "output_type": "stream",
     "text": [
      "Train (epoch 4/10) [40/80 (50%)]\tLoss: 0.741092\n"
     ]
    },
    {
     "name": "stderr",
     "output_type": "stream",
     "text": [
      " 78%|███████▊  | 62/80 [00:06<00:01,  9.11it/s]"
     ]
    },
    {
     "name": "stdout",
     "output_type": "stream",
     "text": [
      "Train (epoch 4/10) [60/80 (75%)]\tLoss: 0.721534\n"
     ]
    },
    {
     "name": "stderr",
     "output_type": "stream",
     "text": [
      "100%|██████████| 80/80 [00:08<00:00,  9.20it/s]\n",
      "100%|██████████| 20/20 [00:00<00:00, 29.10it/s]\n",
      "  0%|          | 0/80 [00:00<?, ?it/s]"
     ]
    },
    {
     "name": "stdout",
     "output_type": "stream",
     "text": [
      "Confusion Matrix:\n",
      "[[47 58]\n",
      " [28 67]]\n",
      "TRAIN_LOSS:  0.676 TRAIN_ACC:  59.500\n",
      "VAL_LOSS:  0.692 VAL_ACC:  57.000\n",
      "Train (epoch 5/10) [0/80 (0%)]\tLoss: 0.629052\n"
     ]
    },
    {
     "name": "stderr",
     "output_type": "stream",
     "text": [
      " 28%|██▊       | 22/80 [00:02<00:07,  8.02it/s]"
     ]
    },
    {
     "name": "stdout",
     "output_type": "stream",
     "text": [
      "Train (epoch 5/10) [20/80 (25%)]\tLoss: 0.731720\n"
     ]
    },
    {
     "name": "stderr",
     "output_type": "stream",
     "text": [
      " 54%|█████▍    | 43/80 [00:05<00:03,  9.63it/s]"
     ]
    },
    {
     "name": "stdout",
     "output_type": "stream",
     "text": [
      "Train (epoch 5/10) [40/80 (50%)]\tLoss: 0.691237\n"
     ]
    },
    {
     "name": "stderr",
     "output_type": "stream",
     "text": [
      " 78%|███████▊  | 62/80 [00:07<00:01,  9.96it/s]"
     ]
    },
    {
     "name": "stdout",
     "output_type": "stream",
     "text": [
      "Train (epoch 5/10) [60/80 (75%)]\tLoss: 0.720816\n"
     ]
    },
    {
     "name": "stderr",
     "output_type": "stream",
     "text": [
      "100%|██████████| 80/80 [00:08<00:00,  8.98it/s]\n",
      "100%|██████████| 20/20 [00:00<00:00, 27.98it/s]\n",
      "  1%|▏         | 1/80 [00:00<00:08,  9.14it/s]"
     ]
    },
    {
     "name": "stdout",
     "output_type": "stream",
     "text": [
      "Confusion Matrix:\n",
      "[[39 66]\n",
      " [22 73]]\n",
      "TRAIN_LOSS:  0.658 TRAIN_ACC:  61.250\n",
      "VAL_LOSS:  0.686 VAL_ACC:  56.000\n",
      "Train (epoch 6/10) [0/80 (0%)]\tLoss: 0.733524\n"
     ]
    },
    {
     "name": "stderr",
     "output_type": "stream",
     "text": [
      " 28%|██▊       | 22/80 [00:02<00:07,  7.60it/s]"
     ]
    },
    {
     "name": "stdout",
     "output_type": "stream",
     "text": [
      "Train (epoch 6/10) [20/80 (25%)]\tLoss: 0.770759\n"
     ]
    },
    {
     "name": "stderr",
     "output_type": "stream",
     "text": [
      " 52%|█████▎    | 42/80 [00:04<00:04,  9.44it/s]"
     ]
    },
    {
     "name": "stdout",
     "output_type": "stream",
     "text": [
      "Train (epoch 6/10) [40/80 (50%)]\tLoss: 0.603290\n"
     ]
    },
    {
     "name": "stderr",
     "output_type": "stream",
     "text": [
      " 76%|███████▋  | 61/80 [00:06<00:01, 10.09it/s]"
     ]
    },
    {
     "name": "stdout",
     "output_type": "stream",
     "text": [
      "Train (epoch 6/10) [60/80 (75%)]\tLoss: 0.545842\n"
     ]
    },
    {
     "name": "stderr",
     "output_type": "stream",
     "text": [
      "100%|██████████| 80/80 [00:08<00:00,  8.98it/s]\n",
      "100%|██████████| 20/20 [00:00<00:00, 26.88it/s]\n",
      "  1%|▏         | 1/80 [00:00<00:07,  9.88it/s]"
     ]
    },
    {
     "name": "stdout",
     "output_type": "stream",
     "text": [
      "Confusion Matrix:\n",
      "[[73 32]\n",
      " [47 48]]\n",
      "TRAIN_LOSS:  0.658 TRAIN_ACC:  61.750\n",
      "VAL_LOSS:  0.673 VAL_ACC:  60.500\n",
      "Train (epoch 7/10) [0/80 (0%)]\tLoss: 0.736770\n"
     ]
    },
    {
     "name": "stderr",
     "output_type": "stream",
     "text": [
      " 28%|██▊       | 22/80 [00:02<00:06,  9.47it/s]"
     ]
    },
    {
     "name": "stdout",
     "output_type": "stream",
     "text": [
      "Train (epoch 7/10) [20/80 (25%)]\tLoss: 0.613666\n"
     ]
    },
    {
     "name": "stderr",
     "output_type": "stream",
     "text": [
      " 54%|█████▍    | 43/80 [00:04<00:04,  8.42it/s]"
     ]
    },
    {
     "name": "stdout",
     "output_type": "stream",
     "text": [
      "Train (epoch 7/10) [40/80 (50%)]\tLoss: 0.626095\n"
     ]
    },
    {
     "name": "stderr",
     "output_type": "stream",
     "text": [
      " 79%|███████▉  | 63/80 [00:06<00:01,  8.56it/s]"
     ]
    },
    {
     "name": "stdout",
     "output_type": "stream",
     "text": [
      "Train (epoch 7/10) [60/80 (75%)]\tLoss: 0.623384\n"
     ]
    },
    {
     "name": "stderr",
     "output_type": "stream",
     "text": [
      "100%|██████████| 80/80 [00:08<00:00,  9.03it/s]\n",
      "100%|██████████| 20/20 [00:00<00:00, 28.03it/s]\n",
      "  0%|          | 0/80 [00:00<?, ?it/s]"
     ]
    },
    {
     "name": "stdout",
     "output_type": "stream",
     "text": [
      "Confusion Matrix:\n",
      "[[71 34]\n",
      " [43 52]]\n",
      "TRAIN_LOSS:  0.658 TRAIN_ACC:  62.625\n",
      "VAL_LOSS:  0.686 VAL_ACC:  61.500\n",
      "Train (epoch 8/10) [0/80 (0%)]\tLoss: 0.680777\n"
     ]
    },
    {
     "name": "stderr",
     "output_type": "stream",
     "text": [
      " 28%|██▊       | 22/80 [00:02<00:06,  8.54it/s]"
     ]
    },
    {
     "name": "stdout",
     "output_type": "stream",
     "text": [
      "Train (epoch 8/10) [20/80 (25%)]\tLoss: 0.640006\n"
     ]
    },
    {
     "name": "stderr",
     "output_type": "stream",
     "text": [
      " 52%|█████▎    | 42/80 [00:04<00:04,  7.79it/s]"
     ]
    },
    {
     "name": "stdout",
     "output_type": "stream",
     "text": [
      "Train (epoch 8/10) [40/80 (50%)]\tLoss: 0.732192\n"
     ]
    },
    {
     "name": "stderr",
     "output_type": "stream",
     "text": [
      " 78%|███████▊  | 62/80 [00:06<00:01,  9.65it/s]"
     ]
    },
    {
     "name": "stdout",
     "output_type": "stream",
     "text": [
      "Train (epoch 8/10) [60/80 (75%)]\tLoss: 0.598261\n"
     ]
    },
    {
     "name": "stderr",
     "output_type": "stream",
     "text": [
      "100%|██████████| 80/80 [00:08<00:00,  9.12it/s]\n",
      "100%|██████████| 20/20 [00:00<00:00, 25.62it/s]\n",
      "  0%|          | 0/80 [00:00<?, ?it/s]"
     ]
    },
    {
     "name": "stdout",
     "output_type": "stream",
     "text": [
      "Confusion Matrix:\n",
      "[[73 32]\n",
      " [48 47]]\n",
      "TRAIN_LOSS:  0.638 TRAIN_ACC:  66.375\n",
      "VAL_LOSS:  0.662 VAL_ACC:  60.000\n",
      "Train (epoch 9/10) [0/80 (0%)]\tLoss: 0.619932\n"
     ]
    },
    {
     "name": "stderr",
     "output_type": "stream",
     "text": [
      " 28%|██▊       | 22/80 [00:02<00:06,  9.44it/s]"
     ]
    },
    {
     "name": "stdout",
     "output_type": "stream",
     "text": [
      "Train (epoch 9/10) [20/80 (25%)]\tLoss: 0.692618\n"
     ]
    },
    {
     "name": "stderr",
     "output_type": "stream",
     "text": [
      " 52%|█████▎    | 42/80 [00:04<00:04,  8.91it/s]"
     ]
    },
    {
     "name": "stdout",
     "output_type": "stream",
     "text": [
      "Train (epoch 9/10) [40/80 (50%)]\tLoss: 0.540890\n"
     ]
    },
    {
     "name": "stderr",
     "output_type": "stream",
     "text": [
      " 78%|███████▊  | 62/80 [00:06<00:01,  9.21it/s]"
     ]
    },
    {
     "name": "stdout",
     "output_type": "stream",
     "text": [
      "Train (epoch 9/10) [60/80 (75%)]\tLoss: 0.719975\n"
     ]
    },
    {
     "name": "stderr",
     "output_type": "stream",
     "text": [
      "100%|██████████| 80/80 [00:08<00:00,  9.29it/s]\n",
      "100%|██████████| 20/20 [00:00<00:00, 25.62it/s]\n",
      "  1%|▏         | 1/80 [00:00<00:09,  8.58it/s]"
     ]
    },
    {
     "name": "stdout",
     "output_type": "stream",
     "text": [
      "Confusion Matrix:\n",
      "[[85 20]\n",
      " [69 26]]\n",
      "TRAIN_LOSS:  0.628 TRAIN_ACC:  65.875\n",
      "VAL_LOSS:  0.700 VAL_ACC:  55.500\n",
      "Train (epoch 10/10) [0/80 (0%)]\tLoss: 0.605083\n"
     ]
    },
    {
     "name": "stderr",
     "output_type": "stream",
     "text": [
      " 28%|██▊       | 22/80 [00:02<00:06,  9.16it/s]"
     ]
    },
    {
     "name": "stdout",
     "output_type": "stream",
     "text": [
      "Train (epoch 10/10) [20/80 (25%)]\tLoss: 0.783530\n"
     ]
    },
    {
     "name": "stderr",
     "output_type": "stream",
     "text": [
      " 52%|█████▎    | 42/80 [00:04<00:04,  8.58it/s]"
     ]
    },
    {
     "name": "stdout",
     "output_type": "stream",
     "text": [
      "Train (epoch 10/10) [40/80 (50%)]\tLoss: 0.589033\n"
     ]
    },
    {
     "name": "stderr",
     "output_type": "stream",
     "text": [
      " 76%|███████▋  | 61/80 [00:06<00:01,  9.85it/s]"
     ]
    },
    {
     "name": "stdout",
     "output_type": "stream",
     "text": [
      "Train (epoch 10/10) [60/80 (75%)]\tLoss: 0.591982\n"
     ]
    },
    {
     "name": "stderr",
     "output_type": "stream",
     "text": [
      "100%|██████████| 80/80 [00:08<00:00,  9.45it/s]\n",
      "100%|██████████| 20/20 [00:00<00:00, 26.23it/s]\n"
     ]
    },
    {
     "name": "stdout",
     "output_type": "stream",
     "text": [
      "Confusion Matrix:\n",
      "[[52 53]\n",
      " [26 69]]\n",
      "TRAIN_LOSS:  0.631 TRAIN_ACC:  65.500\n",
      "VAL_LOSS:  0.672 VAL_ACC:  60.500\n"
     ]
    },
    {
     "data": {
      "image/png": "[encoded data removed]",
      "text/plain": [
       "<Figure size 432x288 with 1 Axes>"
      ]
     },
     "metadata": {
      "needs_background": "light"
     },
     "output_type": "display_data"
    }
   ],
   "source": [
    "from tqdm import tqdm\n",
    "total_train_losses = []\n",
    "total_val_losses = []\n",
    "\n",
    "ff=open('{}/progress.txt'.format(save_folder),'w')\n",
    "\n",
    "for epoch in range(1,epochs+1):\n",
    "    ##TRAINING##\n",
    "    model.train()\n",
    "    train_losses = []\n",
    "    confusion_matrix.reset()\n",
    "\n",
    "    for i, batch, in enumerate(tqdm(train_dataloader)):\n",
    "        img_batch, lbl_batch = batch\n",
    "\n",
    "        optimizer.zero_grad()\n",
    "        output = model(img_batch.float())\n",
    "        loss=criterion(output, lbl_batch.long())\n",
    "        loss.backward()\n",
    "        optimizer.step()\n",
    "\n",
    "        train_losses.append(loss.item())\n",
    "        confusion_matrix.add(output.data.squeeze(), lbl_batch.long())\n",
    "\n",
    "        if i % 20 == 0:\n",
    "            print('Train (epoch {}/{}) [{}/{} ({:.0f}%)]\\tLoss: {:.6f}'.format(\n",
    "                epoch, epochs, i, len(train_dataloader),100.*i/len(train_dataloader), loss.item()))\n",
    "\n",
    "    train_acc=(np.trace(confusion_matrix.conf)/float(np.ndarray.sum(confusion_matrix.conf))) *100\n",
    "    train_loss_mean = np.mean(train_losses)\n",
    "    total_train_losses.append(train_loss_mean)\n",
    "    confusion_matrix.reset()\n",
    "\n",
    "     ##VALIDATION##\n",
    "    model.eval()\n",
    "    val_losses = []\n",
    "\n",
    "    for i, batch, in enumerate(tqdm(val_dataloader)):\n",
    "        img_batch, lbl_batch = batch\n",
    "        outputs=model(img_batch.float())\n",
    "        loss=criterion(outputs, lbl_batch.long())\n",
    "\n",
    "        confusion_matrix.add(outputs.data.squeeze(), lbl_batch.long())\n",
    "        val_losses.append(loss.item())\n",
    "\n",
    "    print('Confusion Matrix:')\n",
    "    print(confusion_matrix.conf)\n",
    "\n",
    "    val_acc=(np.trace(confusion_matrix.conf)/float(np.ndarray.sum(confusion_matrix.conf))) *100\n",
    "    val_loss_mean = np.mean(val_losses)\n",
    "    total_val_losses.append(val_loss_mean)\n",
    "\n",
    "    print('TRAIN_LOSS: ', '%.3f' % train_loss_mean, 'TRAIN_ACC: ', '%.3f' % train_acc)\n",
    "    print('VAL_LOSS: ', '%.3f' % val_loss_mean, 'VAL_ACC: ', '%.3f' % val_acc)\n",
    "    confusion_matrix.reset()\n",
    "    write_results(ff, save_folder, epoch, train_acc, val_acc, train_loss_mean, val_loss_mean)\n",
    "\n",
    "    torch.save(model.state_dict(), save_folder + '/model_{}.pt'.format(epoch))\n",
    "\n",
    "save_graph(total_train_losses, total_val_losses, epochs, save_folder)"
   ]
  },
  {
   "cell_type": "code",
   "execution_count": 21,
   "metadata": {
    "colab": {
     "base_uri": "https://localhost:8080/"
    },
    "id": "tkBI3vJS0n24",
    "outputId": "acdce669-49eb-4048-bd5e-3d103b300ab9"
   },
   "outputs": [
    {
     "name": "stdout",
     "output_type": "stream",
     "text": [
      "[[54 46]\n",
      " [38 62]]\n"
     ]
    }
   ],
   "source": [
    "from sklearn.metrics import confusion_matrix\n",
    "import torch.nn.functional as F\n",
    "\n",
    "test_images=list(glob.glob(os.path.join(\"./DL_LAB_4/DogsCats_Test.zip (Unzipped Files)/DogsCats_Test/*.jpg\")))\n",
    "\n",
    "net_args = {\n",
    "    \"block\": BasicBlock,\n",
    "    \"layers\": [2, 2, 2, 2]\n",
    "}\n",
    "model = ResNet(**net_args)\n",
    "model.load_state_dict(torch.load('./DL_LAB_4/models/model_10.pt'))\n",
    "model.eval()\n",
    "\n",
    "confusion_matrix = tnt.meter.ConfusionMeter(2) \n",
    "confusion_matrix.reset()\n",
    "\n",
    "for i in range(0, len(test_images)):\n",
    "    img = io.imread(test_images[i])\n",
    "    if 'dog' in test_images[i]:\n",
    "      label = torch.tensor([0])\n",
    "    else:\n",
    "      label = torch.tensor([1])\n",
    "    img = img/255.0 #normalization\n",
    "    img = np.transpose(img, (2,0,1))\n",
    "    img = np.reshape(img, (1, img.shape[0], img.shape[1], img.shape[2])) #reshape to (batchsize x channels x height x width)\n",
    "    img = torch.from_numpy(img)\n",
    "    output = F.log_softmax(model(img.float()), dim=1)\n",
    "    confusion_matrix.add(output.data, label.long())\n",
    "\n",
    "print(confusion_matrix.conf)"
   ]
  },
  {
   "cell_type": "code",
   "execution_count": null,
   "metadata": {},
   "outputs": [],
   "source": []
  }
 ],
 "metadata": {
  "colab": {
   "collapsed_sections": [],
   "name": "DL_Lab3_solutions.ipynb",
   "provenance": []
  },
  "kernelspec": {
   "display_name": "Python 3",
   "language": "python",
   "name": "python3"
  },
  "language_info": {
   "codemirror_mode": {
    "name": "ipython",
    "version": 3
   },
   "file_extension": ".py",
   "mimetype": "text/x-python",
   "name": "python",
   "nbconvert_exporter": "python",
   "pygments_lexer": "ipython3",
   "version": "3.8.5"
  }
 },
 "nbformat": 4,
 "nbformat_minor": 1
}
