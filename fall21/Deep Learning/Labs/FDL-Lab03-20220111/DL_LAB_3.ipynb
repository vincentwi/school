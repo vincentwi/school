{
 "cells": [
  {
   "cell_type": "markdown",
   "metadata": {
    "id": "D6NmTqH25KQ0"
   },
   "source": [
    "# Deep Learning Course: Lab Exercises"
   ]
  },
  {
   "cell_type": "markdown",
   "metadata": {
    "id": "C71IXP2U5Ooy"
   },
   "source": [
    "In this lab exercise you will:\n",
    "\n",
    "a) Learn about PyTorch DataLoaders and how to build your own on a custom dataset.\n",
    "\n",
    "b) Learn how to train and evaluate a convolutional neural network.\n",
    "\n"
   ]
  },
  {
   "cell_type": "markdown",
   "metadata": {
    "id": "q1Cs96VV2x4-"
   },
   "source": [
    "#**Q1 DataLoaders**"
   ]
  },
  {
   "cell_type": "markdown",
   "metadata": {
    "id": "wwW4GcTT5eWN"
   },
   "source": [
    "#Connect your drive account"
   ]
  },
  {
   "cell_type": "markdown",
   "metadata": {
    "id": "bdoIHKNO1P2P"
   },
   "source": [
    "In order to upload the numpy files of the given folder, you can use the ‘drive’ package from google.colab library like this:\n",
    "\n",
    "- from google.colab import drive\n",
    "\n",
    "Then, you define the destination of your Drive account like this:\n",
    "\n",
    "- drive=drive.mount('/content/drive')\n",
    "\n",
    "Finally, you can load files from the given folder in this way:\n",
    "\n",
    "- arr_train_labels=np.load('drive/.._folderdestination_../train_labels.npy')"
   ]
  },
  {
   "cell_type": "code",
   "execution_count": null,
   "metadata": {
    "id": "jGv0ECWtDqWG"
   },
   "outputs": [],
   "source": [
    "import numpy as np\n",
    "import pandas as pd\n",
    "from google.colab import drive\n",
    "\n",
    "drive = drive.mount('/content/drive')"
   ]
  },
  {
   "cell_type": "code",
   "execution_count": 2,
   "metadata": {
    "executionInfo": {
     "elapsed": 4423,
     "status": "ok",
     "timestamp": 1606567160353,
     "user": {
      "displayName": "Maria Papadomanolaki",
      "photoUrl": "https://lh3.googleusercontent.com/a-/AOh14Gi4GHUwVeObF5KIa6wwopWPLq1TtcjUaVSfpQ2Tcw=s64",
      "userId": "13049055197603200919"
     },
     "user_tz": -120
    },
    "id": "c4GKx-gu2NtO"
   },
   "outputs": [],
   "source": [
    "## load train, test and validation label arrays\n",
    "##here put your custom destination folder\n",
    "# *****START CODE\n",
    "train_images = np.load('drive/..../train_images.npy')\n",
    "val_images = np.load('drive/..../val_images.npy')\n",
    "\n",
    "train_labels = np.load('drive/..../train_labels.npy')\n",
    "val_labels = np.load('drive/..../mnist_less/val_labels.npy')\n",
    "# *****END CODE"
   ]
  },
  {
   "cell_type": "code",
   "execution_count": 3,
   "metadata": {
    "colab": {
     "base_uri": "https://localhost:8080/"
    },
    "executionInfo": {
     "elapsed": 1535,
     "status": "ok",
     "timestamp": 1606567164234,
     "user": {
      "displayName": "Maria Papadomanolaki",
      "photoUrl": "https://lh3.googleusercontent.com/a-/AOh14Gi4GHUwVeObF5KIa6wwopWPLq1TtcjUaVSfpQ2Tcw=s64",
      "userId": "13049055197603200919"
     },
     "user_tz": -120
    },
    "id": "kZIjZ6xf1g2N",
    "outputId": "195f5635-3ee8-4da8-8f13-236c20c768aa"
   },
   "outputs": [
    {
     "name": "stdout",
     "output_type": "stream",
     "text": [
      "train images (5000, 1, 28, 28)\n",
      "val images (1000, 1, 28, 28)\n",
      "train labels (5000,)\n",
      "val labels (1000,)\n"
     ]
    }
   ],
   "source": [
    "print('train images', train_images.shape)\n",
    "print('val images', val_images.shape)\n",
    "print('train labels', train_labels.shape)\n",
    "print('val labels', val_labels.shape)"
   ]
  },
  {
   "cell_type": "markdown",
   "metadata": {
    "id": "FSWRzeDgDxy6"
   },
   "source": [
    "Print a random training image."
   ]
  },
  {
   "cell_type": "code",
   "execution_count": null,
   "metadata": {
    "id": "vJ_okkEcD1zK"
   },
   "outputs": [],
   "source": [
    "from matplotlib import pyplot as plt\n",
    "\n",
    "##print a random image\n",
    "# *****START CODE\n",
    "\n",
    "\n",
    "# *****END CODE"
   ]
  },
  {
   "cell_type": "markdown",
   "metadata": {
    "id": "1wdoxGknD5Hq"
   },
   "source": [
    "Print the corresponding label for the image that you printed."
   ]
  },
  {
   "cell_type": "code",
   "execution_count": null,
   "metadata": {
    "id": "Pb0u5YGyD_E9"
   },
   "outputs": [],
   "source": [
    "##print the corresponding label\n",
    "# *****START CODE\n",
    "\n",
    "# *****END CODE"
   ]
  },
  {
   "cell_type": "markdown",
   "metadata": {
    "id": "B7lcFy5l1rJg"
   },
   "source": [
    "Iterate through the training images using a for loop and a batchsize of 10"
   ]
  },
  {
   "cell_type": "code",
   "execution_count": null,
   "metadata": {
    "id": "8TDYtmLCEB00"
   },
   "outputs": [],
   "source": [
    "# *****START CODE\n",
    "batchsize = \n",
    "\n",
    "\n",
    "\n",
    "# *****END CODE    "
   ]
  },
  {
   "cell_type": "markdown",
   "metadata": {
    "id": "QsV2hI1J1vxs"
   },
   "source": [
    "#Example: PyTorch DataLoader for MNIST dataset"
   ]
  },
  {
   "cell_type": "code",
   "execution_count": null,
   "metadata": {
    "id": "BNmLa5uyEEVL"
   },
   "outputs": [],
   "source": [
    "import torch\n",
    "from torchvision import datasets, transforms \n",
    "\n",
    "transform=transforms.Compose([\n",
    "        transforms.ToTensor(),\n",
    "        transforms.Normalize((0.1307,), (0.3081,))\n",
    "        ])\n",
    "\n",
    "dataset1 = datasets.MNIST('../data', train=True, download=True,\n",
    "                       transform=transform)\n",
    "dataset2 = datasets.MNIST('../data', train=False,\n",
    "                       transform=transform)"
   ]
  },
  {
   "cell_type": "code",
   "execution_count": 9,
   "metadata": {
    "executionInfo": {
     "elapsed": 1219,
     "status": "ok",
     "timestamp": 1606567216068,
     "user": {
      "displayName": "Maria Papadomanolaki",
      "photoUrl": "https://lh3.googleusercontent.com/a-/AOh14Gi4GHUwVeObF5KIa6wwopWPLq1TtcjUaVSfpQ2Tcw=s64",
      "userId": "13049055197603200919"
     },
     "user_tz": -120
    },
    "id": "SdBxrl9W1xE2"
   },
   "outputs": [],
   "source": [
    "train_loader = torch.utils.data.DataLoader(dataset1, batch_size=32, shuffle=True)\n",
    "val_loader = torch.utils.data.DataLoader(dataset2, batch_size=32, shuffle=False)"
   ]
  },
  {
   "cell_type": "code",
   "execution_count": null,
   "metadata": {
    "id": "f6_EICBoEGim"
   },
   "outputs": [],
   "source": [
    "for batch_idx, batch in enumerate(train_loader):\n",
    "        data, target = batch\n",
    "        print('data', data.shape)\n",
    "        print('target', target.shape)"
   ]
  },
  {
   "cell_type": "markdown",
   "metadata": {
    "id": "I7H6bGwp148V"
   },
   "source": [
    "#Familiarize with .csv files"
   ]
  },
  {
   "cell_type": "markdown",
   "metadata": {
    "id": "ekTpRUFk155T"
   },
   "source": [
    "Create a csv file for the following table:\n",
    "\n",
    "| Name         | Surname        | Gender | \n",
    "| ------------ | ------------ | ------- | \n",
    "| Mary         | Smith        | Female       |\n",
    "| James        | Williams     | Male     | \n",
    "| Sarah        | Martin       | Female      | \n",
    "| Peter        | Miller       | Male     | "
   ]
  },
  {
   "cell_type": "code",
   "execution_count": 11,
   "metadata": {
    "executionInfo": {
     "elapsed": 1775,
     "status": "ok",
     "timestamp": 1606567244038,
     "user": {
      "displayName": "Maria Papadomanolaki",
      "photoUrl": "https://lh3.googleusercontent.com/a-/AOh14Gi4GHUwVeObF5KIa6wwopWPLq1TtcjUaVSfpQ2Tcw=s64",
      "userId": "13049055197603200919"
     },
     "user_tz": -120
    },
    "id": "8LwD0i071wzO"
   },
   "outputs": [],
   "source": [
    "import pandas as pd\n",
    "\n",
    "names = ['Mary', 'James', 'Sarah', 'Peter']\n",
    "surnames = ['Smith', 'Williams', 'Martin', 'Miller']\n",
    "genders = ['Female', 'Male', 'Female', 'Male']\n",
    "\n",
    "df = pd.DataFrame({'Name': names ,\n",
    "                       'Surname': surnames ,\n",
    "                       'Gender': genders ,\n",
    "                      })\n",
    "\n",
    "# *****START CODE\n",
    "##save .csv file\n",
    "df.to_csv('drive/....../toy.csv', index=False, columns = ['Name', 'Surname', 'Gender'])"
   ]
  },
  {
   "cell_type": "code",
   "execution_count": null,
   "metadata": {
    "id": "0Tr7jlchESAa"
   },
   "outputs": [],
   "source": [
    "##read .csv file\n",
    "toy_file = pd.read_csv('drive/..../toy.csv')\n",
    "# *****END CODE"
   ]
  },
  {
   "cell_type": "code",
   "execution_count": null,
   "metadata": {
    "id": "SWhgdP2oEM7z"
   },
   "outputs": [],
   "source": [
    "##print .csv file\n",
    "# *****START CODE\n",
    "\n",
    "# *****END CODE"
   ]
  },
  {
   "cell_type": "markdown",
   "metadata": {
    "id": "jUTJaP87EYoG"
   },
   "source": [
    "Use iloc command from pandas library to access specific .csv items"
   ]
  },
  {
   "cell_type": "code",
   "execution_count": null,
   "metadata": {
    "id": "r9JztiuiEeIG"
   },
   "outputs": [],
   "source": [
    "##show first column\n",
    "toy.iloc[:,0]"
   ]
  },
  {
   "cell_type": "code",
   "execution_count": null,
   "metadata": {
    "id": "HdIu2uWpEeAM"
   },
   "outputs": [],
   "source": [
    "##show second row\n",
    "# *****START CODE\n",
    "\n",
    "# *****END CODE"
   ]
  },
  {
   "cell_type": "code",
   "execution_count": null,
   "metadata": {
    "id": "ngAHoko2Ed5o"
   },
   "outputs": [],
   "source": [
    "##show element in first row and second column\n",
    "# *****START CODE\n",
    "\n",
    "\n",
    "# *****END CODE"
   ]
  },
  {
   "cell_type": "markdown",
   "metadata": {
    "id": "89nYN2KZ2F7I"
   },
   "source": [
    "#Create your own custom DataLoader"
   ]
  },
  {
   "cell_type": "markdown",
   "metadata": {
    "id": "GYhUwHnH2H9S"
   },
   "source": [
    "Use the numpy files to define your own custom dataloader.\n",
    "\n",
    "a) First create and save a .csv file with 2 columns:\n",
    "\n",
    "- ‘image_ID’, which involves the image index locations\n",
    "- ‘labels’, which involves the corresponding label for every image index\n",
    "\n",
    "Create 2 .csv files; one for the training arrays and one for the validation arrays."
   ]
  },
  {
   "cell_type": "code",
   "execution_count": 23,
   "metadata": {
    "executionInfo": {
     "elapsed": 1203,
     "status": "ok",
     "timestamp": 1606567327347,
     "user": {
      "displayName": "Maria Papadomanolaki",
      "photoUrl": "https://lh3.googleusercontent.com/a-/AOh14Gi4GHUwVeObF5KIa6wwopWPLq1TtcjUaVSfpQ2Tcw=s64",
      "userId": "13049055197603200919"
     },
     "user_tz": -120
    },
    "id": "-93byCQG2DIT"
   },
   "outputs": [],
   "source": [
    "##create training .csv file\n",
    "# *****START CODE\n",
    "\n",
    "\n",
    "\n",
    "\n",
    "# *****END CODE"
   ]
  },
  {
   "cell_type": "code",
   "execution_count": 25,
   "metadata": {
    "executionInfo": {
     "elapsed": 1193,
     "status": "ok",
     "timestamp": 1606567361234,
     "user": {
      "displayName": "Maria Papadomanolaki",
      "photoUrl": "https://lh3.googleusercontent.com/a-/AOh14Gi4GHUwVeObF5KIa6wwopWPLq1TtcjUaVSfpQ2Tcw=s64",
      "userId": "13049055197603200919"
     },
     "user_tz": -120
    },
    "id": "yCuc0SUs2K2H"
   },
   "outputs": [],
   "source": [
    "##create validation .csv file\n",
    "# *****START CODE\n",
    "\n",
    "\n",
    "\n",
    "\n",
    "# *****END CODE"
   ]
  },
  {
   "cell_type": "markdown",
   "metadata": {
    "id": "E_R6PArr2RWl"
   },
   "source": [
    "b) Now create your own custom dataloader. When building a custom dataloader, it is necessary to define a class which involves 3 required functions:\n",
    "\n",
    "- __init__, for the class initialization\n",
    "\n",
    "- __getitem__, for data extraction according to given indexes\n",
    "\n",
    "-  __len__, for calculating the total number of data samples"
   ]
  },
  {
   "cell_type": "code",
   "execution_count": 28,
   "metadata": {
    "executionInfo": {
     "elapsed": 1199,
     "status": "ok",
     "timestamp": 1606567371291,
     "user": {
      "displayName": "Maria Papadomanolaki",
      "photoUrl": "https://lh3.googleusercontent.com/a-/AOh14Gi4GHUwVeObF5KIa6wwopWPLq1TtcjUaVSfpQ2Tcw=s64",
      "userId": "13049055197603200919"
     },
     "user_tz": -120
    },
    "id": "5LtkK5gS2O-J"
   },
   "outputs": [],
   "source": [
    "from torch.utils.data.dataset import Dataset\n",
    "\n",
    "class MyDataset(Dataset):\n",
    "    def __init__(self, csv_path, images_file):\n",
    "        ## Read the csv file with pandas library\n",
    "        # *****START CODE\n",
    "        self.data_info = \n",
    "        \n",
    "        ##Load the numpy array of images\n",
    "        self.images = \n",
    "        # *****END CODE\n",
    "        \n",
    "    def __getitem__(self, index):\n",
    "        ## Get the image-label set using the given index\n",
    "        ## Hint: use iloc command from pandas library\n",
    "        # *****START CODE\n",
    "        image_id = \n",
    "        image = \n",
    "        label = \n",
    "        # *****END CODE\n",
    "        ## bring all image spectral values to the range of [0,1]\n",
    "        image = image/255.0\n",
    "\n",
    "        return image, label\n",
    "\n",
    "    def __len__(self):\n",
    "        ## return the total number of data samples\n",
    "        return len(self.data_info)"
   ]
  },
  {
   "cell_type": "markdown",
   "metadata": {
    "id": "yCS1RS5H2V8x"
   },
   "source": [
    "c) Call the dataloader for both the training and the validation sets"
   ]
  },
  {
   "cell_type": "code",
   "execution_count": 31,
   "metadata": {
    "executionInfo": {
     "elapsed": 1546,
     "status": "ok",
     "timestamp": 1606567411254,
     "user": {
      "displayName": "Maria Papadomanolaki",
      "photoUrl": "https://lh3.googleusercontent.com/a-/AOh14Gi4GHUwVeObF5KIa6wwopWPLq1TtcjUaVSfpQ2Tcw=s64",
      "userId": "13049055197603200919"
     },
     "user_tz": -120
    },
    "id": "VFa3SCYD2O7v"
   },
   "outputs": [],
   "source": [
    "from torch.utils.data import DataLoader\n",
    "\n",
    "## training and validation .csv paths\n",
    "##here put your custom destination folder\n",
    "train_csv_file = 'drive/.../train.csv'\n",
    "val_csv_file = 'drive/.../val.csv'\n",
    "\n",
    "## paths for training and validation numpy array images\n",
    "##here put your custom destination folder\n",
    "train_images_file = 'drive/..../train_images.npy'\n",
    "val_images_file = 'drive/..../val_images.npy'\n",
    "\n",
    "## define and create training and validation dataloaders using MyDataset (fill the blanks)\n",
    "# *****START CODE\n",
    "## define and create training and validation dataloaders using MyDataset (fill the blanks)\n",
    "train_dataset = MyDataset( , )\n",
    "val_dataset = MyDataset( , )\n",
    "\n",
    "train_dataloader = DataLoader(  )\n",
    "val_dataloader = DataLoader(  )\n",
    "# *****END CODE"
   ]
  },
  {
   "cell_type": "markdown",
   "metadata": {
    "id": "_1VXP63k2Zgz"
   },
   "source": [
    "Iterate through your dataloader using a for loop."
   ]
  },
  {
   "cell_type": "code",
   "execution_count": null,
   "metadata": {
    "id": "hbhdVwoeE5jk"
   },
   "outputs": [],
   "source": [
    "# *****START CODE\n",
    "\n",
    "\n",
    "# *****END CODE"
   ]
  },
  {
   "cell_type": "markdown",
   "metadata": {
    "id": "-1jdzRA52lr3"
   },
   "source": [
    "#**Q2 Classification problem**"
   ]
  },
  {
   "cell_type": "markdown",
   "metadata": {
    "id": "iIQGMXjB5tAq"
   },
   "source": [
    "Define your custom convolutional neural network."
   ]
  },
  {
   "cell_type": "code",
   "execution_count": 33,
   "metadata": {
    "executionInfo": {
     "elapsed": 912,
     "status": "ok",
     "timestamp": 1606567421844,
     "user": {
      "displayName": "Maria Papadomanolaki",
      "photoUrl": "https://lh3.googleusercontent.com/a-/AOh14Gi4GHUwVeObF5KIa6wwopWPLq1TtcjUaVSfpQ2Tcw=s64",
      "userId": "13049055197603200919"
     },
     "user_tz": -120
    },
    "id": "7ak4nEAg25qb"
   },
   "outputs": [],
   "source": [
    "import torch.nn as nn\n",
    "\n",
    "class ConvNet(nn.Module):\n",
    "    def __init__(self, in_ch, out_ch):\n",
    "        super(ConvNet, self).__init__()\n",
    "        self.conv1 = nn.Conv2d(in_ch, 32, 3, 1) #W2=(W1−F+2P)/S+1\n",
    "        ##define a second convolutional layer, which outputs 64 channels\n",
    "        # *****START CODE\n",
    "\n",
    "        # *****END CODE\n",
    "        self.dropout1 = nn.Dropout2d(0.25)\n",
    "        self.dropout2 = nn.Dropout2d(0.5)\n",
    "        ##create the last two fully connected layers\n",
    "        # *****START CODE\n",
    "\n",
    "\n",
    "        # *****END CODE\n",
    "\n",
    "##define the forward propagation of the data\n",
    "##conv1--relu--conv2--maxpool--dropout1--fc1--dropout2--fc2\n",
    "    def forward(self, x):\n",
    "        x = self.conv1(x)\n",
    "        x = F.relu(x)\n",
    "        x = self.conv2(x)\n",
    "        x = F.max_pool2d(x, 2) #W2=(W1−F)/S+1\n",
    "        x = self.dropout1(x)\n",
    "        x = torch.flatten(x, 1)\n",
    "        # *****START CODE\n",
    "\n",
    "\n",
    "\n",
    "         # *****END CODE       \n",
    "\n",
    "        output = x  #F.log_softmax(x, dim=1)\n",
    "        return output"
   ]
  },
  {
   "cell_type": "code",
   "execution_count": 34,
   "metadata": {
    "executionInfo": {
     "elapsed": 1772,
     "status": "ok",
     "timestamp": 1606567425706,
     "user": {
      "displayName": "Maria Papadomanolaki",
      "photoUrl": "https://lh3.googleusercontent.com/a-/AOh14Gi4GHUwVeObF5KIa6wwopWPLq1TtcjUaVSfpQ2Tcw=s64",
      "userId": "13049055197603200919"
     },
     "user_tz": -120
    },
    "id": "rLxzBTyS3GZi"
   },
   "outputs": [],
   "source": [
    "# define model\n",
    "# *****START CODE\n",
    "\n",
    "# *****END CODE"
   ]
  },
  {
   "cell_type": "code",
   "execution_count": 35,
   "metadata": {
    "executionInfo": {
     "elapsed": 614,
     "status": "ok",
     "timestamp": 1606567427508,
     "user": {
      "displayName": "Maria Papadomanolaki",
      "photoUrl": "https://lh3.googleusercontent.com/a-/AOh14Gi4GHUwVeObF5KIa6wwopWPLq1TtcjUaVSfpQ2Tcw=s64",
      "userId": "13049055197603200919"
     },
     "user_tz": -120
    },
    "id": "70Q5YV8F3IUX"
   },
   "outputs": [],
   "source": [
    "import torch\n",
    "# define optimizer, criterion and number of training epochs\n",
    "# *****START CODE\n",
    "\n",
    "\n",
    "\n",
    "# *****END CODE"
   ]
  },
  {
   "cell_type": "code",
   "execution_count": null,
   "metadata": {
    "id": "fA3ki-UDF7av"
   },
   "outputs": [],
   "source": [
    "!pip install torchnet\n",
    "import torchnet as tnt\n",
    "\n",
    "# define confusion matrix using tnt package\n",
    "confusion_matrix = tnt.meter.ConfusionMeter(10)"
   ]
  },
  {
   "cell_type": "code",
   "execution_count": 37,
   "metadata": {
    "executionInfo": {
     "elapsed": 894,
     "status": "ok",
     "timestamp": 1606567451292,
     "user": {
      "displayName": "Maria Papadomanolaki",
      "photoUrl": "https://lh3.googleusercontent.com/a-/AOh14Gi4GHUwVeObF5KIa6wwopWPLq1TtcjUaVSfpQ2Tcw=s64",
      "userId": "13049055197603200919"
     },
     "user_tz": -120
    },
    "id": "BW3F6SC03VYw"
   },
   "outputs": [],
   "source": [
    "# create a directory for saving the models and the training progress\n",
    "save_folder = 'drive/..../models/'"
   ]
  },
  {
   "cell_type": "code",
   "execution_count": 38,
   "metadata": {
    "executionInfo": {
     "elapsed": 684,
     "status": "ok",
     "timestamp": 1606567452975,
     "user": {
      "displayName": "Maria Papadomanolaki",
      "photoUrl": "https://lh3.googleusercontent.com/a-/AOh14Gi4GHUwVeObF5KIa6wwopWPLq1TtcjUaVSfpQ2Tcw=s64",
      "userId": "13049055197603200919"
     },
     "user_tz": -120
    },
    "id": "wZcwkNBG3sG7"
   },
   "outputs": [],
   "source": [
    "##function which saves the overall accuracy and average loss at the end of each epoch,\n",
    "##both for the training and the validation set\n",
    "def write_results(save_folder, epoch, train_acc, val_acc, train_loss, val_loss):\n",
    "    ff=open('./{}/progress.txt'.format(save_folder),'a')\n",
    "    ff.write(' E: ')\n",
    "    ff.write(str(epoch))\n",
    "    ff.write('         ')\n",
    "    ff.write(' TRAIN_OA: ')\n",
    "    ff.write(str('%.3f' % train_acc))\n",
    "    ff.write(' VAL_OA: ')\n",
    "    ff.write(str('%.3f' % val_acc))\n",
    "    ff.write('         ')\n",
    "    ff.write(' TRAIN_LOSS: ')\n",
    "    ff.write(str('%.3f' % train_loss))\n",
    "    ff.write(' VAL_LOSS: ')\n",
    "    ff.write(str('%.3f' % val_loss))\n",
    "    ff.write('\\n')"
   ]
  },
  {
   "cell_type": "code",
   "execution_count": 39,
   "metadata": {
    "executionInfo": {
     "elapsed": 1018,
     "status": "ok",
     "timestamp": 1606567455078,
     "user": {
      "displayName": "Maria Papadomanolaki",
      "photoUrl": "https://lh3.googleusercontent.com/a-/AOh14Gi4GHUwVeObF5KIa6wwopWPLq1TtcjUaVSfpQ2Tcw=s64",
      "userId": "13049055197603200919"
     },
     "user_tz": -120
    },
    "id": "ZOopVY1W3uNQ"
   },
   "outputs": [],
   "source": [
    "import matplotlib.pyplot as plt\n",
    "#function that creates the train-val loss graph\n",
    "#variables 'train_loss' and 'val_loss' are losts containing the average losses for all the epochs\n",
    "def save_graph(train_loss, val_loss, nb_epochs, save_folder):\n",
    "    plt.plot(list(range(nb_epochs+1))[1:], train_loss)\n",
    "    plt.plot(list(range(nb_epochs+1))[1:], val_loss)\n",
    "    plt.legend(['train', 'val'])\n",
    "    plt.xlabel('Epochs')\n",
    "    plt.ylabel('Loss')\n",
    "    plt.savefig('{}/chart.png'.format(save_folder))"
   ]
  },
  {
   "cell_type": "code",
   "execution_count": null,
   "metadata": {
    "id": "QHG8JAXYGO1C"
   },
   "outputs": [],
   "source": [
    "from tqdm import tqdm\n",
    "import torch.nn.functional as F\n",
    "total_train_losses = []\n",
    "total_val_losses = []\n",
    "\n",
    "\n",
    "for epoch in range(1,epochs+1):\n",
    "    ##TRAINING##\n",
    "    model.train()\n",
    "    train_losses = []\n",
    "    confusion_matrix.reset()\n",
    "\n",
    "    for i, batch, in enumerate(tqdm(train_dataloader)):\n",
    "        img_batch, lbl_batch = batch\n",
    "\n",
    "        ##implement the forward and backward backpropagation\n",
    "        # *****START CODE\n",
    "\n",
    "\n",
    "\n",
    "\n",
    "        # *****END CODE\n",
    "\n",
    "        train_losses.append(loss.item())\n",
    "        confusion_matrix.add(output.data.squeeze(), lbl_batch.long())\n",
    "\n",
    "        if i % 100 == 0:\n",
    "            print('Train (epoch {}/{}) [{}/{} ({:.0f}%)]\\tLoss: {:.6f}'.format(\n",
    "                epoch, epochs, i, len(train_dataloader),100.*i/len(train_dataloader), loss.item()))\n",
    "\n",
    "    train_acc=(np.trace(confusion_matrix.conf)/float(np.ndarray.sum(confusion_matrix.conf))) *100\n",
    "    train_loss_mean = np.mean(train_losses)\n",
    "    total_train_losses.append(train_loss_mean)\n",
    "    confusion_matrix.reset()\n",
    "\n",
    "     ##VALIDATION##\n",
    "    model.eval()\n",
    "    val_losses = []\n",
    "\n",
    "    for i, batch, in enumerate(tqdm(val_dataloader)):\n",
    "        img_batch, lbl_batch = batch\n",
    "   \n",
    "        ##pass the images to the model and calculate the loss\n",
    "        # *****START CODE\n",
    "\n",
    "\n",
    "        # *****END CODE\n",
    "\n",
    "        confusion_matrix.add(outputs.data.squeeze(), lbl_batch.long())\n",
    "        val_losses.append(loss.item())\n",
    "\n",
    "    print('Confusion Matrix:')\n",
    "    print(confusion_matrix.conf)\n",
    "\n",
    "    val_acc=(np.trace(confusion_matrix.conf)/float(np.ndarray.sum(confusion_matrix.conf))) *100\n",
    "    val_loss_mean = np.mean(val_losses)\n",
    "    total_val_losses.append(val_loss_mean)\n",
    "\n",
    "    print('TRAIN_LOSS: ', '%.3f' % train_loss_mean, 'TRAIN_ACC: ', '%.3f' % train_acc)\n",
    "    print('VAL_LOSS: ', '%.3f' % val_loss_mean, 'VAL_ACC: ', '%.3f' % val_acc)\n",
    "    confusion_matrix.reset()\n",
    "\n",
    "    write_results(save_folder, epoch, train_acc, val_acc, train_loss_mean, val_loss_mean)\n",
    "\n",
    "    torch.save(model.state_dict(), save_folder + 'model_{}.pt'.format(epoch))\n",
    "\n",
    "save_graph(total_train_losses, total_val_losses, epochs, save_folder)\n",
    "\n"
   ]
  },
  {
   "cell_type": "markdown",
   "metadata": {
    "id": "dHtoEl-qaNX5"
   },
   "source": [
    "Test the trained model."
   ]
  },
  {
   "cell_type": "code",
   "execution_count": null,
   "metadata": {
    "id": "v-9v4cbEGb78"
   },
   "outputs": [],
   "source": [
    "test_images_file = 'drive/..../test_images.npy'\n",
    "test_labels_file = 'drive/..../test_labels.npy'\n",
    "\n",
    "##load the test images and the test labels\n",
    "# *****START CODE\n",
    "images = np.load(test_images_file)\n",
    "labels = np.load(test_labels_file)\n",
    "# *****END CODE\n",
    "\n",
    "##define the model, load it and put it in evaluation mode\n",
    "# *****START CODE\n",
    "\n",
    "\n",
    "\n",
    "# *****END CODE\n",
    "\n",
    "confusion_matrix = tnt.meter.ConfusionMeter(10) \n",
    "confusion_matrix.reset()\n",
    "\n",
    "\n",
    "for i in range(0, len(images)):\n",
    "    ##rad each image, normalize it, convert it to a pytorch tensor of type float\n",
    "    # *****START CODE\n",
    "\n",
    "\n",
    "\n",
    "\n",
    "    # *****END CODE\n",
    "\n",
    "    ##produce the model prediction\n",
    "    # *****START CODE\n",
    "\n",
    "    # *****END CODE\n",
    "\n",
    "    confusion_matrix.add(output.data, label.long())\n",
    "\n",
    "print(confusion_matrix.conf)"
   ]
  },
  {
   "cell_type": "markdown",
   "metadata": {
    "id": "sTn_BpReWVLX"
   },
   "source": [
    "Plot the first six testing images along with their true labels."
   ]
  },
  {
   "cell_type": "code",
   "execution_count": null,
   "metadata": {
    "id": "fhXDsRfuGhhp"
   },
   "outputs": [],
   "source": [
    "##plot the testing images\n",
    "# *****START CODE\n",
    "plt.figure(figsize=(10,6))\n",
    "n_images = 6\n",
    "for i in range(n_images):\n",
    "  plt.subplot(1, n_images, i+1)\n",
    "  one_image = images[i, 0, :, :]\n",
    "  one_title = labels[i]\n",
    "  plt.imshow(one_image,cmap='gray')\n",
    "  plt.title(one_title);\n",
    " # *****END CODE "
   ]
  },
  {
   "cell_type": "markdown",
   "metadata": {
    "id": "Hpzl-tNcWUDt"
   },
   "source": [
    "Print the model's predicted labels for the above images."
   ]
  },
  {
   "cell_type": "code",
   "execution_count": null,
   "metadata": {
    "id": "6WTlGS7FGjmS"
   },
   "outputs": [],
   "source": [
    "##print the predicted labels for the above images\n",
    "# *****START CODE\n",
    "for i in range(n_images):\n",
    "    img = images[i]\n",
    "    img = img/255.0 #normalization\n",
    "    img = np.expand_dims(img,0)#reshape to (batchsize x channels x height x width)\n",
    "    img = torch.from_numpy(img)\n",
    "    output = F.log_softmax(model(img.float()),1)\n",
    "    output = torch.argmax(output)\n",
    "    print(output)\n",
    "# *****END CODE"
   ]
  }
 ],
 "metadata": {
  "colab": {
   "collapsed_sections": [],
   "name": "DL_LAB_3.ipynb",
   "provenance": []
  },
  "kernelspec": {
   "display_name": "Python 3",
   "language": "python",
   "name": "python3"
  },
  "language_info": {
   "codemirror_mode": {
    "name": "ipython",
    "version": 3
   },
   "file_extension": ".py",
   "mimetype": "text/x-python",
   "name": "python",
   "nbconvert_exporter": "python",
   "pygments_lexer": "ipython3",
   "version": "3.8.5"
  }
 },
 "nbformat": 4,
 "nbformat_minor": 1
}
