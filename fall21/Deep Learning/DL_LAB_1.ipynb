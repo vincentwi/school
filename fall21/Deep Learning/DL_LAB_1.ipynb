{
 "cells": [
  {
   "cell_type": "markdown",
   "metadata": {
    "id": "JNx-DlWhUojN"
   },
   "source": [
    "# Deep Learning Course: Lab Exercises"
   ]
  },
  {
   "cell_type": "markdown",
   "metadata": {
    "id": "sfmNFn5pUojN"
   },
   "source": [
    "In this lab exercise you will become familiar with the PyTorch library in order to solve deep learning problems. The goals of this assignments are as follows:\n",
    "\n",
    "- familiarize with PyTorch Tensors\n",
    "\n",
    "- understand how feedforward backpropagation works in neural networks\n"
   ]
  },
  {
   "cell_type": "markdown",
   "metadata": {
    "id": "h4j7Gf5LUojO"
   },
   "source": [
    "# Setup"
   ]
  },
  {
   "cell_type": "markdown",
   "metadata": {
    "id": "efuanY_UUojO"
   },
   "source": [
    "For this exercise the only thing you need is this notebook."
   ]
  },
  {
   "cell_type": "markdown",
   "metadata": {
    "id": "pZumXYTYUojO"
   },
   "source": [
    "# Note"
   ]
  },
  {
   "cell_type": "markdown",
   "metadata": {
    "id": "P-6WBdq3UojO"
   },
   "source": [
    "Apart from the Questions, there are instruction comments throughout the notebook as well as comments inside the code cells beginning with two hashtags (##). In addition, there are #**START CODE  /  #**END CODE comments indicating the start and end of your code sections. Pay attention not to delete these comments."
   ]
  },
  {
   "cell_type": "markdown",
   "metadata": {
    "id": "_YQ2FNeqUojP"
   },
   "source": [
    "# Questions"
   ]
  },
  {
   "cell_type": "markdown",
   "metadata": {
    "id": "-2LYwZGKUojP"
   },
   "source": [
    "# Q1 - PyTorch Tensors"
   ]
  },
  {
   "cell_type": "markdown",
   "metadata": {
    "id": "aOus3aXGUojP"
   },
   "source": [
    "a) Get familiar with PyTorch Tensors and construct different types of them."
   ]
  },
  {
   "cell_type": "code",
   "execution_count": 1,
   "metadata": {
    "id": "g95S8R61UojP"
   },
   "outputs": [
    {
     "name": "stdout",
     "output_type": "stream",
     "text": [
      "tensor([[1.3556e-19, 1.8370e+25, 8.9038e-15],\n",
      "        [4.4721e+21, 1.5956e+25, 6.4620e-04],\n",
      "        [6.8608e+22, 1.8174e+31, 1.6930e+22],\n",
      "        [3.0304e+35, 1.1704e-19, 1.2686e+31],\n",
      "        [1.9203e+31, 1.7255e+25, 1.2703e+25]])\n"
     ]
    }
   ],
   "source": [
    "import torch\n",
    "\n",
    "##Construct a 5x3 matrix, uninitialized\n",
    "# *****START CODE\n",
    "x = torch.empty(5,3)\n",
    "# *****END CODE\n",
    "print(x)"
   ]
  },
  {
   "cell_type": "code",
   "execution_count": 2,
   "metadata": {
    "id": "MkCzwPzxUojQ"
   },
   "outputs": [
    {
     "name": "stdout",
     "output_type": "stream",
     "text": [
      "tensor([[-1.0406,  0.0231, -0.4314],\n",
      "        [-0.1850, -1.6643,  0.1134],\n",
      "        [-0.8627,  1.9705,  0.2076],\n",
      "        [ 0.1355, -1.0027,  0.9708],\n",
      "        [ 0.0202, -0.2064,  0.8382]])\n"
     ]
    }
   ],
   "source": [
    "##Construct a randomly initialized matrix from a normal distribution\n",
    "# *****START CODE\n",
    "\n",
    "x = torch.randn(5, 3)\n",
    "# *****END CODE\n",
    "print(x)"
   ]
  },
  {
   "cell_type": "code",
   "execution_count": 3,
   "metadata": {
    "id": "pe99pXJHUojQ"
   },
   "outputs": [
    {
     "name": "stdout",
     "output_type": "stream",
     "text": [
      "tensor([[0, 0, 0],\n",
      "        [0, 0, 0],\n",
      "        [0, 0, 0],\n",
      "        [0, 0, 0],\n",
      "        [0, 0, 0]])\n"
     ]
    }
   ],
   "source": [
    "##Construct a matrix filled with zeros and of dtype int64\n",
    "# *****START CODE\n",
    "\n",
    "x = torch.zeros(5, 3, dtype=torch.int64)\n",
    "# *****END CODE\n",
    "print(x)"
   ]
  },
  {
   "cell_type": "code",
   "execution_count": 4,
   "metadata": {
    "id": "R43-VxQ6UojQ"
   },
   "outputs": [
    {
     "name": "stdout",
     "output_type": "stream",
     "text": [
      "tensor([6, 9, 6, 9, 4, 3, 3, 5, 6, 5])\n"
     ]
    }
   ],
   "source": [
    "##Construct a tensor directly from data\n",
    "# *****START CODE\n",
    "import random\n",
    "\n",
    "x = torch.tensor([random.randint(3,10) for i in range(10)])\n",
    "# *****END CODE\n",
    "print(x)"
   ]
  },
  {
   "cell_type": "markdown",
   "metadata": {
    "id": "UORgptIYUojR"
   },
   "source": [
    "#Q2 Backpropagation from scratch\n",
    "\n",
    "- Create random input and output PyTorch tensors and train a simple network from scratch.\n",
    "\n",
    "  Warning: You should NOT use any forward/backward commands from PyTorch             library."
   ]
  },
  {
   "cell_type": "code",
   "execution_count": 12,
   "metadata": {
    "id": "QtrAESF-UojR"
   },
   "outputs": [
    {
     "name": "stdout",
     "output_type": "stream",
     "text": [
      "x torch.Size([64, 1000])\n",
      "y torch.Size([64, 10])\n"
     ]
    }
   ],
   "source": [
    "import torch.nn.functional as F\n",
    "\n",
    "## N is batch size; D_in is input dimension\n",
    "## H is hidden dimenion; D_out is output dimension\n",
    "\n",
    "N, D_in, H, D_out = 64, 1000, 100, 10\n",
    "\n",
    "## Create random input (x) and output (y) data\n",
    "# *****START CODE\n",
    "x = torch.empty((N,D_in)).normal_(mean=0, std=1)\n",
    "y = torch.empty((N,D_out)).normal_(mean=0, std=1)\n",
    "print('x', x.shape)\n",
    "print('y', y.shape)\n",
    "# *****END CODE\n",
    "    "
   ]
  },
  {
   "cell_type": "code",
   "execution_count": 22,
   "metadata": {
    "id": "zofILGJ3VCBz"
   },
   "outputs": [
    {
     "name": "stdout",
     "output_type": "stream",
     "text": [
      "w1 torch.Size([1000, 100])\n",
      "w2 torch.Size([100, 10])\n"
     ]
    }
   ],
   "source": [
    "##Randomly initialize weights from a normal distribution, skipping bias\n",
    "##Hint: You need 2 weight tensors; one for the raw input tensor (x) and one for the hidden dimension\n",
    "# *****START CODE\n",
    "w1 = torch.empty((D_in, H)).normal_(mean=0, std=1)\n",
    "w2 = torch.empty((H, D_out)).normal_(mean=0, std=1)\n",
    "# *****END CODE\n",
    "print('w1', w1.shape)\n",
    "print('w2', w2.shape)\n"
   ]
  },
  {
   "cell_type": "code",
   "execution_count": 23,
   "metadata": {
    "id": "9sQA5kvXVLge"
   },
   "outputs": [],
   "source": [
    "##define the learning rate\n",
    "learning_rate = 1e-6\n"
   ]
  },
  {
   "cell_type": "markdown",
   "metadata": {
    "id": "9xgDIJGcVfnb"
   },
   "source": [
    "First, implement the forward pass. Try to compute the predicted y_pred value."
   ]
  },
  {
   "cell_type": "code",
   "execution_count": 24,
   "metadata": {
    "id": "OlQ0tMGsVQrz"
   },
   "outputs": [
    {
     "name": "stdout",
     "output_type": "stream",
     "text": [
      "h torch.Size([64, 100])\n"
     ]
    }
   ],
   "source": [
    "## Calculate the output of the hidden dimension\n",
    "## Hint: make use of torch.matmul()\n",
    "# *****START CODE\n",
    "import torch.nn.functional as F\n",
    "h = torch.matmul(x, w1)                # output of the hidden dimension \n",
    "# *****END CODE  \n",
    "print('h', h.shape)"
   ]
  },
  {
   "cell_type": "code",
   "execution_count": 25,
   "metadata": {
    "id": "8NbtF0QtWA25"
   },
   "outputs": [],
   "source": [
    "## Pass the output of the hidden dimension to the ReLU activation function\n",
    "# *****START CODE\n",
    "h_relu = torch.relu(h)           # output of the ReLU function\n",
    "# *****END CODE  "
   ]
  },
  {
   "cell_type": "code",
   "execution_count": 26,
   "metadata": {
    "id": "xAMaSc7JWA-E"
   },
   "outputs": [
    {
     "name": "stdout",
     "output_type": "stream",
     "text": [
      "y_pred torch.Size([64, 10])\n"
     ]
    }
   ],
   "source": [
    "## Calculate the final output of the network\n",
    "# *****START CODE\n",
    "y_pred = torch.matmul(h_relu, w2)            # final output of the network\n",
    "# *****END CODE\n",
    "print('y_pred', y_pred.shape)"
   ]
  },
  {
   "cell_type": "markdown",
   "metadata": {
    "id": "6xHdnKovWvIk"
   },
   "source": [
    "Calculate the loss."
   ]
  },
  {
   "cell_type": "code",
   "execution_count": 27,
   "metadata": {
    "id": "usvfBgnWVQ4T"
   },
   "outputs": [
    {
     "name": "stdout",
     "output_type": "stream",
     "text": [
      "tensor(51117.1562)\n"
     ]
    }
   ],
   "source": [
    "## Compute loss\n",
    "loss = ((y_pred - y) ** 2).mean()\n",
    "print(loss)"
   ]
  },
  {
   "cell_type": "markdown",
   "metadata": {
    "id": "QklmgLMnW1k_"
   },
   "source": [
    "Now, implement the backward pass.\n",
    "You need to minimize the loss with respect to each weight using the chain rule of differentiation."
   ]
  },
  {
   "cell_type": "code",
   "execution_count": 29,
   "metadata": {
    "id": "rOlsl-15W35z"
   },
   "outputs": [
    {
     "ename": "RuntimeError",
     "evalue": "mat1 and mat2 shapes cannot be multiplied (64x10 and 64x100)",
     "output_type": "error",
     "traceback": [
      "\u001b[0;31m---------------------------------------------------------------------------\u001b[0m",
      "\u001b[0;31mRuntimeError\u001b[0m                              Traceback (most recent call last)",
      "\u001b[0;32m<ipython-input-29-2882ea2baf0c>\u001b[0m in \u001b[0;36m<module>\u001b[0;34m\u001b[0m\n\u001b[1;32m      2\u001b[0m \u001b[0;31m# *****START CODE\u001b[0m\u001b[0;34m\u001b[0m\u001b[0;34m\u001b[0m\u001b[0m\n\u001b[1;32m      3\u001b[0m \u001b[0mE1\u001b[0m \u001b[0;34m=\u001b[0m \u001b[0mloss\u001b[0m\u001b[0;34m*\u001b[0m\u001b[0my_pred\u001b[0m\u001b[0;34m\u001b[0m\u001b[0;34m\u001b[0m\u001b[0m\n\u001b[0;32m----> 4\u001b[0;31m \u001b[0mdw1\u001b[0m \u001b[0;34m=\u001b[0m \u001b[0mtorch\u001b[0m\u001b[0;34m.\u001b[0m\u001b[0mmatmul\u001b[0m\u001b[0;34m(\u001b[0m\u001b[0mE1\u001b[0m\u001b[0;34m,\u001b[0m \u001b[0mh_relu\u001b[0m\u001b[0;34m)\u001b[0m\u001b[0;34m\u001b[0m\u001b[0;34m\u001b[0m\u001b[0m\n\u001b[0m\u001b[1;32m      5\u001b[0m \u001b[0;34m\u001b[0m\u001b[0m\n\u001b[1;32m      6\u001b[0m \u001b[0;31m# *****END CODE\u001b[0m\u001b[0;34m\u001b[0m\u001b[0;34m\u001b[0m\u001b[0m\n",
      "\u001b[0;31mRuntimeError\u001b[0m: mat1 and mat2 shapes cannot be multiplied (64x10 and 64x100)"
     ]
    }
   ],
   "source": [
    "## Compute the gradient of w2 with respect to the loss\n",
    "# *****START CODE\n",
    "E1 = loss*y_pred\n",
    "dw1 = torch.matmul(E1, h_relu)\n",
    "\n",
    "# *****END CODE\n"
   ]
  },
  {
   "cell_type": "code",
   "execution_count": null,
   "metadata": {
    "id": "PVWLJdcwXF_C"
   },
   "outputs": [],
   "source": [
    "## Compute the gradient of w1 with respect to the loss (consider the derivative of ReLU equal to 1)\n",
    "# *****START CODE\n",
    "\n",
    "\n",
    "# *****END CODE"
   ]
  },
  {
   "cell_type": "code",
   "execution_count": null,
   "metadata": {
    "id": "cdZx29tlXNUx"
   },
   "outputs": [],
   "source": [
    "## Update weights\n",
    "# *****START CODE\n",
    "\n",
    "\n",
    "# *****END CODE"
   ]
  },
  {
   "cell_type": "markdown",
   "metadata": {
    "id": "2DWDA8CZXU5p"
   },
   "source": [
    "Repeat the above process for a number of epochs and notice how the value of the loss changes."
   ]
  },
  {
   "cell_type": "code",
   "execution_count": null,
   "metadata": {
    "id": "jWbfq-36XkRN"
   },
   "outputs": [],
   "source": [
    "##specify the number of epochs\n",
    "# *****START CODE\n",
    "epochs =\n",
    "# *****END CODE\n",
    "\n",
    "for t in range(epochs):\n",
    "  # *****START CODE\n",
    "\n",
    "\n",
    "\n",
    "\n",
    "  # *****END CODE\n",
    "\n",
    "\n"
   ]
  }
 ],
 "metadata": {
  "colab": {
   "collapsed_sections": [],
   "name": "DL_LAB_1.ipynb",
   "provenance": []
  },
  "kernelspec": {
   "display_name": "Python 3",
   "language": "python",
   "name": "python3"
  },
  "language_info": {
   "codemirror_mode": {
    "name": "ipython",
    "version": 3
   },
   "file_extension": ".py",
   "mimetype": "text/x-python",
   "name": "python",
   "nbconvert_exporter": "python",
   "pygments_lexer": "ipython3",
   "version": "3.9.7"
  },
  "latex_envs": {
   "LaTeX_envs_menu_present": true,
   "autoclose": false,
   "autocomplete": true,
   "bibliofile": "biblio.bib",
   "cite_by": "apalike",
   "current_citInitial": 1,
   "eqLabelWithNumbers": true,
   "eqNumInitial": 1,
   "hotkeys": {
    "equation": "Ctrl-E",
    "itemize": "Ctrl-I"
   },
   "labels_anchors": false,
   "latex_user_defs": false,
   "report_style_numbering": false,
   "user_envs_cfg": false
  }
 },
 "nbformat": 4,
 "nbformat_minor": 1
}
