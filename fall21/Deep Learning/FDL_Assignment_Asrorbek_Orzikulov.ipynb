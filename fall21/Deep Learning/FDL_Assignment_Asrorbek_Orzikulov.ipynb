{
  "cells": [
    {
      "cell_type": "markdown",
      "metadata": {
        "id": "HzT-fZzFRKly"
      },
      "source": [
        "## FDL- DSBA Assignment 2021-2022\n",
        "\n",
        "### Please fill the blanks in the code and answer to the questions that are asked in the Jupyter Notebook (\"Markdown\" cell). \n",
        "\n",
        "### Instructions: Rename the jupyter adding your name at the end of the title FDL_Assignment-<YOUR NAME\\>.ipynb\n",
        "\n",
        "### Send your solution to fdl.dsba@gmail.com by 20 / 12 / 2021, as subject for the mail please put FDL_Assignment-<YOUR NAME\\>"
      ]
    },
    {
      "cell_type": "markdown",
      "metadata": {
        "id": "zPUOV6dFRKl7"
      },
      "source": [
        "### Question 1 -  TRAIN ON CIFAR DATASET\n",
        "In this exercise you are asked to train a Convolutional Neural Network (CNN) on the CIFAR10 dataset and visualize its feature maps."
      ]
    },
    {
      "cell_type": "markdown",
      "metadata": {
        "id": "lCX0xLejRKl9"
      },
      "source": [
        "1a) Download the CIFAR10 dataset using the already provided PyTorch dataloaders. \n",
        "*   Read and understand the following code\n",
        "*   Feel free to add additional transformations for data augmentation. Explain if so. "
      ]
    },
    {
      "cell_type": "code",
      "source": [
        "# !ln -sf /opt/bin/nvidia-smi /usr/bin/nvidia-smi\n",
        "!pip install gputil\n",
        "# !pip install psutil\n",
        "# !pip install humanize\n",
        "\n",
        "import numpy as np\n",
        "import psutil\n",
        "import humanize\n",
        "import os\n",
        "import GPUtil as GPU\n",
        "import json \n",
        "from pprint import pprint\n",
        "import torch\n",
        "import torch.nn as nn\n",
        "import torchvision\n",
        "import torchvision.transforms as transforms\n",
        "import torchvision.utils as vutils\n",
        "import matplotlib.pyplot as plt\n",
        "import sys\n",
        "from skimage import io\n",
        "\n",
        "%matplotlib inline\n",
        "GPUs = GPU.getGPUs()\n",
        "gpu = GPUs[0]\n",
        "\n",
        "def printm():\n",
        " process = psutil.Process(os.getpid())\n",
        " print(\"Gen RAM Free: \" + humanize.naturalsize(psutil.virtual_memory().available),\n",
        "       \"| Process size: \" + humanize.naturalsize( process.memory_info().rss))\n",
        " print(f\"GPU RAM Free: {gpu.memoryFree:.0f} MB | Used: {gpu.memoryUsed:.0f} MB |\"\\\n",
        "       f\" Util{gpu.memoryUtil*100:3.0f}% | Total {gpu.memoryTotal:.0f} MB\")\n",
        "\n",
        "printm()"
      ],
      "metadata": {
        "colab": {
          "base_uri": "https://localhost:8080/"
        },
        "id": "4mnmF23zKuUR",
        "outputId": "c171b426-db00-4742-8df1-050a8af425a9"
      },
      "execution_count": 1,
      "outputs": [
        {
          "output_type": "stream",
          "name": "stdout",
          "text": [
            "Collecting gputil\n",
            "  Downloading GPUtil-1.4.0.tar.gz (5.5 kB)\n",
            "Building wheels for collected packages: gputil\n",
            "  Building wheel for gputil (setup.py) ... \u001b[?25l\u001b[?25hdone\n",
            "  Created wheel for gputil: filename=GPUtil-1.4.0-py3-none-any.whl size=7411 sha256=97f81f4e9729722225a8a9ef7df34ac3bf77c1ef5d620d354f8eee1c1aea279c\n",
            "  Stored in directory: /root/.cache/pip/wheels/6e/f8/83/534c52482d6da64622ddbf72cd93c35d2ef2881b78fd08ff0c\n",
            "Successfully built gputil\n",
            "Installing collected packages: gputil\n",
            "Successfully installed gputil-1.4.0\n",
            "Gen RAM Free: 12.4 GB | Process size: 1.2 GB\n",
            "GPU RAM Free: 11441 MB | Used: 0 MB | Util  0% | Total 11441 MB\n"
          ]
        }
      ]
    },
    {
      "cell_type": "code",
      "execution_count": 2,
      "metadata": {
        "ExecuteTime": {
          "end_time": "2022-01-06T15:27:52.312957Z",
          "start_time": "2022-01-06T15:27:42.925235Z"
        },
        "id": "5KyVunArRKl-",
        "colab": {
          "base_uri": "https://localhost:8080/",
          "height": 118,
          "referenced_widgets": [
            "1566926c25b54042b8ea25f9d3369a5a",
            "9630f895e98e4436ab91cb6664c7e160",
            "31ee51329fdc44eb864de9045d9feb78",
            "e6aea6553ba8488d9b7fd25108aa77cb",
            "36d2153b5e3a4e78b3b5fa9c6b076636",
            "0f6ee03230a74d17b844a0e99f4e3229",
            "c1b4243d44834a2fa64eea5f764690a7",
            "4cbac919d7654787aea97021218ffa94",
            "e9c0848426f94c9b9b099629c86fe408",
            "afab06e347a04d0b863c3f9fc9f5033b",
            "ca959913ebf04f3db452e44751ae6d11"
          ]
        },
        "outputId": "a059605e-2d1b-4f26-8d2c-7317ad9e0feb"
      },
      "outputs": [
        {
          "output_type": "stream",
          "name": "stdout",
          "text": [
            "==> Preparing data..\n",
            "Downloading https://www.cs.toronto.edu/~kriz/cifar-10-python.tar.gz to ./data/cifar-10-python.tar.gz\n"
          ]
        },
        {
          "output_type": "display_data",
          "data": {
            "application/vnd.jupyter.widget-view+json": {
              "model_id": "1566926c25b54042b8ea25f9d3369a5a",
              "version_minor": 0,
              "version_major": 2
            },
            "text/plain": [
              "  0%|          | 0/170498071 [00:00<?, ?it/s]"
            ]
          },
          "metadata": {}
        },
        {
          "output_type": "stream",
          "name": "stdout",
          "text": [
            "Extracting ./data/cifar-10-python.tar.gz to ./data\n",
            "Files already downloaded and verified\n"
          ]
        }
      ],
      "source": [
        "## Download the CIFAR10 dataset using the PyTorch dataloaders\n",
        "\n",
        "# *****START CODE \n",
        "## Data\n",
        "##Here you are free to add further transform functions if you wish\n",
        "np.random.seed(1)\n",
        "torch.manual_seed(1)\n",
        "\n",
        "BATCH_SIZE = 256\n",
        "\n",
        "print('==> Preparing data..')\n",
        "transform_train = transforms.Compose([\n",
        "    transforms.ToTensor(),\n",
        "])\n",
        "\n",
        "transform_test = transforms.Compose([\n",
        "    transforms.ToTensor(),\n",
        "])\n",
        "\n",
        "trainset = torchvision.datasets.CIFAR10(root='./data', train=True, download=True, transform=transform_train)\n",
        "train_dataloader = torch.utils.data.DataLoader(trainset, batch_size=BATCH_SIZE, shuffle=True)\n",
        "\n",
        "testset = torchvision.datasets.CIFAR10(root='./data', train=False, download=True, transform=transform_test)\n",
        "val_dataloader = torch.utils.data.DataLoader(testset, batch_size=BATCH_SIZE, shuffle=False)\n",
        "# *****END CODE"
      ]
    },
    {
      "cell_type": "code",
      "execution_count": 3,
      "metadata": {
        "ExecuteTime": {
          "end_time": "2022-01-06T15:27:53.235824Z",
          "start_time": "2022-01-06T15:27:53.140454Z"
        },
        "colab": {
          "base_uri": "https://localhost:8080/"
        },
        "id": "YkkeSUyiIbm2",
        "outputId": "bf0782e6-808f-4e13-8584-5e7fe160f5fa"
      },
      "outputs": [
        {
          "output_type": "stream",
          "name": "stdout",
          "text": [
            "Feature batch shape: torch.Size([256, 3, 32, 32])\n",
            "Labels batch shape: torch.Size([256])\n"
          ]
        }
      ],
      "source": [
        "train_features, train_labels = next(iter(train_dataloader))\n",
        "print(f\"Feature batch shape: {train_features.size()}\")\n",
        "print(f\"Labels batch shape: {train_labels.size()}\")"
      ]
    },
    {
      "cell_type": "markdown",
      "metadata": {
        "id": "3S-ITJo9RKmA"
      },
      "source": [
        "1b) Create your convolutional neural network.\n",
        "*   Go to https://dljudge.io/generate + /<YOUR NAME\\> or use curl below\n",
        "*   Save the page as json \n",
        "*   Build your CNN architecture based on those modules and hyperparameters\n",
        "*   Use the right value for 'COMPUTE' \n",
        "*   See the example below"
      ]
    },
    {
      "cell_type": "code",
      "execution_count": 4,
      "metadata": {
        "ExecuteTime": {
          "end_time": "2022-01-06T15:27:55.444107Z",
          "start_time": "2022-01-06T15:27:55.440092Z"
        },
        "id": "9QeYwS9tIbm4"
      },
      "outputs": [],
      "source": [
        "# !curl https://dljudge.io/generate/AsrorbekOrzikulov -o network1.json"
      ]
    },
    {
      "cell_type": "code",
      "execution_count": 5,
      "metadata": {
        "ExecuteTime": {
          "end_time": "2022-01-06T15:27:59.851648Z",
          "start_time": "2022-01-06T15:27:59.837839Z"
        },
        "id": "AcnzUQQHIbm5"
      },
      "outputs": [],
      "source": [
        "def validate_network(model, input_dict):\n",
        "    \"\"\"\n",
        "    Validate if your network definition is the same as provided archtiecture\n",
        "    \"\"\"\n",
        "    output = {}\n",
        "    i = 1\n",
        "    for layer in model.children():\n",
        "        if isinstance(layer, nn.Conv2d):\n",
        "            output[f'Layer_{str(i).zfill(3)}'] = {'type': 'Conv2d',\n",
        "                                                  'kernel_size': layer.kernel_size[0],\n",
        "                                                   'input': layer.in_channels,\n",
        "                                                   'output': layer.out_channels,\n",
        "                                                   'padding': layer.padding[0]}\n",
        "\n",
        "        if isinstance(layer, nn.ReLU):\n",
        "            output[f'Layer_{str(i).zfill(3)}'] = {'type': 'ReLU'}\n",
        "\n",
        "        if isinstance(layer, nn.MaxPool2d):\n",
        "            output[f'Layer_{str(i).zfill(3)}'] = {'type': 'MaxPool2d',\n",
        "                                                  'kernel_size': layer.kernel_size,\n",
        "                                                  'stride': layer.stride}\n",
        "\n",
        "        if isinstance(layer, nn.Flatten):\n",
        "            continue\n",
        "\n",
        "        if isinstance(layer, nn.AdaptiveAvgPool2d):\n",
        "            output[f'Layer_{str(i).zfill(3)}'] = {'type': 'AdaptiveAvgPool2d',\n",
        "                                                  'output': layer.output_size}\n",
        "\n",
        "        if isinstance(layer, nn.BatchNorm2d):\n",
        "            output[f'Layer_{str(i).zfill(3)}'] = {'type': 'BatchNorm2d',\n",
        "                                                  'input': layer.num_features}\n",
        "\n",
        "        if isinstance(layer, nn.Dropout):\n",
        "            output[f'Layer_{str(i).zfill(3)}'] = {'type': 'Dropout',\n",
        "                                                  'p': layer.p}\n",
        "\n",
        "        if isinstance(layer, nn.Linear):\n",
        "            output[f'Layer_{str(i).zfill(3)}'] = {'type': 'Linear',\n",
        "                                                  'input': layer.in_features,\n",
        "                                                  'output': layer.out_features}\n",
        "        i += 1\n",
        "  \n",
        "    correct = True\n",
        "    for l in output.keys():\n",
        "        if l in input_dict:\n",
        "            inp_kvs = input_dict[l]\n",
        "            out_kvs = output[l]\n",
        "            for k in out_kvs:\n",
        "                if inp_kvs[k] != 'COMPUTE':\n",
        "                    if out_kvs[k] != inp_kvs[k]:\n",
        "                        print (f'Error in {l}, {k}!')\n",
        "                        correct = False\n",
        "\n",
        "    if correct:\n",
        "        print ('Great job, Asror!')"
      ]
    },
    {
      "cell_type": "code",
      "execution_count": 6,
      "metadata": {
        "ExecuteTime": {
          "end_time": "2022-01-06T15:28:01.201244Z",
          "start_time": "2022-01-06T15:28:01.176603Z"
        },
        "colab": {
          "base_uri": "https://localhost:8080/"
        },
        "id": "nQIPzTlgIbm8",
        "outputId": "7fe2fc75-4fad-48de-b8d8-7fceefadb8cf"
      },
      "outputs": [
        {
          "output_type": "stream",
          "name": "stdout",
          "text": [
            "{'Layer_001': {'input': 3,\n",
            "               'kernel_size': 3,\n",
            "               'output': 50,\n",
            "               'padding': 1,\n",
            "               'type': 'Conv2d'},\n",
            " 'Layer_002': {'type': 'ReLU'},\n",
            " 'Layer_003': {'kernel_size': 2, 'stride': 2, 'type': 'MaxPool2d'},\n",
            " 'Layer_004': {'input': 50,\n",
            "               'kernel_size': 3,\n",
            "               'output': 127,\n",
            "               'padding': 1,\n",
            "               'type': 'Conv2d'},\n",
            " 'Layer_005': {'type': 'ReLU'},\n",
            " 'Layer_006': {'kernel_size': 2, 'stride': 2, 'type': 'MaxPool2d'},\n",
            " 'Layer_007': {'input': 127,\n",
            "               'kernel_size': 3,\n",
            "               'output': 243,\n",
            "               'padding': 1,\n",
            "               'type': 'Conv2d'},\n",
            " 'Layer_008': {'type': 'ReLU'},\n",
            " 'Layer_009': {'input': 243,\n",
            "               'kernel_size': 3,\n",
            "               'output': 243,\n",
            "               'padding': 1,\n",
            "               'type': 'Conv2d'},\n",
            " 'Layer_010': {'type': 'ReLU'},\n",
            " 'Layer_011': {'kernel_size': 2, 'stride': 2, 'type': 'MaxPool2d'},\n",
            " 'Layer_012': {'input': 243,\n",
            "               'kernel_size': 3,\n",
            "               'output': 513,\n",
            "               'padding': 1,\n",
            "               'type': 'Conv2d'},\n",
            " 'Layer_013': {'type': 'ReLU'},\n",
            " 'Layer_014': {'input': 513,\n",
            "               'kernel_size': 3,\n",
            "               'output': 513,\n",
            "               'padding': 1,\n",
            "               'type': 'Conv2d'},\n",
            " 'Layer_015': {'type': 'ReLU'},\n",
            " 'Layer_016': {'kernel_size': 2, 'stride': 2, 'type': 'MaxPool2d'},\n",
            " 'Layer_017': {'input': 513,\n",
            "               'kernel_size': 3,\n",
            "               'output': 513,\n",
            "               'padding': 1,\n",
            "               'type': 'Conv2d'},\n",
            " 'Layer_018': {'type': 'ReLU'},\n",
            " 'Layer_019': {'input': 513,\n",
            "               'kernel_size': 3,\n",
            "               'output': 513,\n",
            "               'padding': 1,\n",
            "               'type': 'Conv2d'},\n",
            " 'Layer_020': {'type': 'ReLU'},\n",
            " 'Layer_021': {'kernel_size': 2, 'stride': 2, 'type': 'MaxPool2d'},\n",
            " 'Layer_022': {'output': 'COMPUTE', 'type': 'AdaptiveAvgPool2d'},\n",
            " 'Layer_023': {'p': 0.4083871061345495, 'type': 'Dropout'},\n",
            " 'Layer_024': {'input': 'COMPUTE', 'output': 2124, 'type': 'Linear'},\n",
            " 'Layer_025': {'type': 'ReLU'},\n",
            " 'Layer_026': {'input': 2124, 'output': 'COMPUTE', 'type': 'Linear'},\n",
            " 'StudentName': 'AsrorbekOrzikulov',\n",
            " 'UUID': '1d2104b0729c4d15986c66687dce6513'}\n"
          ]
        }
      ],
      "source": [
        "# *****START CODE \n",
        "# Import your individual architecture dictionary here\n",
        "fin = open('network1.json', 'r')\n",
        "my_architecture_dict = json.load(fin)\n",
        "fin.close()\n",
        "pprint(my_architecture_dict)\n",
        "# *****END CODE"
      ]
    },
    {
      "cell_type": "code",
      "execution_count": 7,
      "metadata": {
        "ExecuteTime": {
          "end_time": "2022-01-06T15:57:30.683717Z",
          "start_time": "2022-01-06T15:57:30.661151Z"
        },
        "code_folding": [],
        "id": "9hb1skoXRKmA"
      },
      "outputs": [],
      "source": [
        "# *****START CODE\n",
        "class ConvNet(nn.Module):\n",
        "    def __init__(self):\n",
        "        \"\"\"\n",
        "        Number of layers should be exactly same as in the provided JSON. \n",
        "        Do not use any grouping function like Sequential \n",
        "        \"\"\"\n",
        "        super(ConvNet, self).__init__()  # [3, 32, 32]\n",
        "        self.conv1 = nn.Conv2d(in_channels=3, out_channels=50, kernel_size=3, padding=1)  # [50, 32, 32]\n",
        "        self.relu1 = nn.ReLU()\n",
        "        self.pool1 = nn.MaxPool2d(kernel_size=2, stride=2)  # [50, 16, 16]\n",
        "        self.conv2 = nn.Conv2d(in_channels=50, out_channels=127, kernel_size=3, padding=1)   # [127, 16, 16]\n",
        "        self.relu2 = nn.ReLU()\n",
        "        self.pool2 = nn.MaxPool2d(kernel_size=2, stride=2)  # [127, 8, 8]\n",
        "        self.conv3 = nn.Conv2d(in_channels=127, out_channels=243, kernel_size=3, padding=1)  # [243, 8, 8]\n",
        "        self.relu3 = nn.ReLU()\n",
        "        self.conv4 = nn.Conv2d(in_channels=243, out_channels=243, kernel_size=3, padding=1)  # [243, 8, 8]\n",
        "        self.relu4 = nn.ReLU()\n",
        "        self.pool3 = nn.MaxPool2d(kernel_size=2, stride=2)  # [243, 4, 4]\n",
        "        self.conv5 = nn.Conv2d(in_channels=243, out_channels=513, kernel_size=3, padding=1)  # [513, 4, 4]\n",
        "        self.relu5 = nn.ReLU()\n",
        "        self.conv6 = nn.Conv2d(in_channels=513, out_channels=513, kernel_size=3, padding=1)  # [513, 4, 4]\n",
        "        self.relu6 = nn.ReLU()\n",
        "        self.pool4 = nn.MaxPool2d(kernel_size=2, stride=2)  # [513, 2, 2]\n",
        "        self.conv7 = nn.Conv2d(in_channels=513, out_channels=513, kernel_size=3, padding=1)  # [513, 2, 2]\n",
        "        self.relu7 = nn.ReLU()\n",
        "        self.conv8 = nn.Conv2d(in_channels=513, out_channels=513, kernel_size=3, padding=1)  # [513, 2, 2]\n",
        "        self.relu8 = nn.ReLU()\n",
        "        self.pool5 = nn.MaxPool2d(kernel_size=2, stride=2)  # [513, 1, 1]\n",
        "        self.avg_pool1 = nn.AdaptiveAvgPool2d((1, 1))\n",
        "        self.dropout1 = nn.Dropout2d(p=0.4083871061345495)\n",
        "        self.flatten = nn.Flatten(1, -1)\n",
        "        self.fc1 = nn.Linear(in_features=513, out_features=2124)\n",
        "        self.relu9 = nn.ReLU()\n",
        "        self.fc2 = nn.Linear(in_features=2124, out_features=10)\n",
        "\n",
        "    def forward(self, x):\n",
        "        for layer in self.children():\n",
        "            x = layer(x)\n",
        "        return x\n",
        "# *****END CODE"
      ]
    },
    {
      "cell_type": "markdown",
      "metadata": {
        "id": "1oCW4FGORKmC"
      },
      "source": [
        "1c) Create the training scheme\n",
        "*    Initialize the model\n",
        "*    Validate the model\n",
        "*    Specify the training hyperparameters like type of optimizer, criterion and learning rate\n",
        "*    Specify number of epochs"
      ]
    },
    {
      "cell_type": "code",
      "execution_count": 8,
      "metadata": {
        "ExecuteTime": {
          "end_time": "2022-01-06T15:57:31.356353Z",
          "start_time": "2022-01-06T15:57:31.243494Z"
        },
        "id": "emDRadjhRKmD",
        "colab": {
          "base_uri": "https://localhost:8080/"
        },
        "outputId": "4b72d952-277d-47eb-d06a-e213d9f764ed"
      },
      "outputs": [
        {
          "output_type": "stream",
          "name": "stdout",
          "text": [
            "Great job, Asror!\n"
          ]
        }
      ],
      "source": [
        "# *****START CODE\n",
        "lr = 0.001\n",
        "model = ConvNet()\n",
        "validate_network(model, my_architecture_dict)\n",
        "optimizer = torch.optim.Adam(model.parameters(), lr=lr)\n",
        "criterion = nn.CrossEntropyLoss()\n",
        "epochs = 15\n",
        "# *****END CODE"
      ]
    },
    {
      "cell_type": "markdown",
      "metadata": {
        "id": "cIAwvLE7RKmD"
      },
      "source": [
        "1d) Plot the train and validation loss curves for the entire training process\n",
        "*   Validate the model after each epoch\n",
        "*   Plot both training and validation loss curves\n",
        "*   Write a small description discussing about the curves. What is the behaviour of the model?"
      ]
    },
    {
      "cell_type": "code",
      "source": [
        "if torch.cuda.is_available():\n",
        "\t  my_device = torch.device('cuda')\n",
        "else:\n",
        "\t  my_device = torch.device('cpu')\n",
        " \n",
        "model = model.to(my_device)"
      ],
      "metadata": {
        "id": "jnE5_bhoX-pB"
      },
      "execution_count": 9,
      "outputs": []
    },
    {
      "cell_type": "code",
      "source": [
        "def plot_losses(train_loss, val_loss, nb_epochs):\n",
        "    \"\"\"\n",
        "    Visualize the train and validation losses after each\n",
        "    epoch over the training process.\n",
        "    \"\"\"\n",
        "    plt.plot(range(1, nb_epochs+1), train_loss)\n",
        "    plt.plot(range(1, nb_epochs+1), val_loss)\n",
        "    plt.legend(['train', 'val'])\n",
        "    plt.xlabel('Epochs')\n",
        "    plt.ylabel('Loss')\n",
        "    plt.title(\"Training and Validation Losses\")"
      ],
      "metadata": {
        "id": "K65YFqAM01aq"
      },
      "execution_count": 10,
      "outputs": []
    },
    {
      "cell_type": "code",
      "execution_count": 11,
      "metadata": {
        "ExecuteTime": {
          "end_time": "2022-01-06T16:00:55.424309Z",
          "start_time": "2022-01-06T15:57:52.062031Z"
        },
        "id": "-UITTFW0RKmE"
      },
      "outputs": [],
      "source": [
        "## Train the model and validate it after each epoch.\n",
        "## Provide the train-val loss graph.\n",
        "\n",
        "# *****START CODE\n",
        "def train_network(model, train_iterator, valid_iterator, \n",
        "                  optimizer, criterion, epochs, model_name):\n",
        "    \"\"\"\n",
        "    Trains a model and validates it after each epoch. Subsequently,\n",
        "    plots the train and validation loss curves.\n",
        "    \"\"\"\n",
        "    train_losses = []\n",
        "    valid_losses = []\n",
        "    valid_loss_min = np.Inf\n",
        "\n",
        "    for epoch in range(1, epochs+1):\n",
        "        train_loss = 0.0\n",
        "        valid_loss = 0.0\n",
        "\n",
        "        model.train()\n",
        "        for images, labels in train_iterator:\n",
        "            images, labels = images.to(my_device), labels.to(my_device)\n",
        "            optimizer.zero_grad()\n",
        "            output = model(images)\n",
        "            loss = criterion(output, labels)\n",
        "            loss.backward()\n",
        "            optimizer.step()\n",
        "            train_loss += loss.item()\n",
        "\n",
        "        model.eval()\n",
        "        for images, labels in valid_iterator:\n",
        "            images, labels = images.to(my_device), labels.to(my_device)\n",
        "            output = model(images)\n",
        "            loss = criterion(output, labels)\n",
        "            valid_loss += loss.item()\n",
        "\n",
        "        train_loss = train_loss / len(train_iterator)\n",
        "        valid_loss = valid_loss / len(valid_iterator)\n",
        "        print(f\"Epoch: {epoch}. Training Loss: {train_loss:.6f}.  \"\\\n",
        "              f\"Validation_loss: {valid_loss:.6f}\")\n",
        "        train_losses.append(train_loss)\n",
        "        valid_losses.append(valid_loss)\n",
        "\n",
        "        # saving the model if validation loss has decreased\n",
        "        if valid_loss < valid_loss_min:\n",
        "            print(f\"Validation loss decreased ({valid_loss_min:.6f} --> \"\\\n",
        "                  f\"{valid_loss:.6f}). Saving model..\")\n",
        "            torch.save(model.state_dict(), f\"{model_name}_{epoch}.pt\")\n",
        "            print(\"Model Saved\")\n",
        "            valid_loss_min = valid_loss\n",
        "\n",
        "    plot_losses(train_losses, valid_losses, epochs)\n",
        "# *****END CODE"
      ]
    },
    {
      "cell_type": "code",
      "source": [
        "train_network(model, train_dataloader, val_dataloader,\n",
        "              optimizer, criterion, epochs, \"model1\")"
      ],
      "metadata": {
        "id": "AOFDRHji3-bv",
        "colab": {
          "base_uri": "https://localhost:8080/",
          "height": 903
        },
        "outputId": "fecf84ba-12bd-47f1-f124-8a36a00ef017"
      },
      "execution_count": 12,
      "outputs": [
        {
          "output_type": "stream",
          "name": "stdout",
          "text": [
            "Epoch: 1. Training Loss: 2.051156.  Validation_loss: 1.722120\n",
            "Validation loss decreased (inf --> 1.722120). Saving model..\n",
            "Model Saved\n",
            "Epoch: 2. Training Loss: 1.617123.  Validation_loss: 1.520798\n",
            "Validation loss decreased (1.722120 --> 1.520798). Saving model..\n",
            "Model Saved\n",
            "Epoch: 3. Training Loss: 1.372623.  Validation_loss: 1.297015\n",
            "Validation loss decreased (1.520798 --> 1.297015). Saving model..\n",
            "Model Saved\n",
            "Epoch: 4. Training Loss: 1.176091.  Validation_loss: 1.153001\n",
            "Validation loss decreased (1.297015 --> 1.153001). Saving model..\n",
            "Model Saved\n",
            "Epoch: 5. Training Loss: 1.057555.  Validation_loss: 1.070549\n",
            "Validation loss decreased (1.153001 --> 1.070549). Saving model..\n",
            "Model Saved\n",
            "Epoch: 6. Training Loss: 0.946517.  Validation_loss: 0.980519\n",
            "Validation loss decreased (1.070549 --> 0.980519). Saving model..\n",
            "Model Saved\n",
            "Epoch: 7. Training Loss: 0.844701.  Validation_loss: 0.922517\n",
            "Validation loss decreased (0.980519 --> 0.922517). Saving model..\n",
            "Model Saved\n",
            "Epoch: 8. Training Loss: 0.768030.  Validation_loss: 0.895675\n",
            "Validation loss decreased (0.922517 --> 0.895675). Saving model..\n",
            "Model Saved\n",
            "Epoch: 9. Training Loss: 0.696355.  Validation_loss: 0.877661\n",
            "Validation loss decreased (0.895675 --> 0.877661). Saving model..\n",
            "Model Saved\n",
            "Epoch: 10. Training Loss: 0.623028.  Validation_loss: 0.986414\n",
            "Epoch: 11. Training Loss: 0.554942.  Validation_loss: 0.864928\n",
            "Validation loss decreased (0.877661 --> 0.864928). Saving model..\n",
            "Model Saved\n",
            "Epoch: 12. Training Loss: 0.474651.  Validation_loss: 0.892093\n",
            "Epoch: 13. Training Loss: 0.419806.  Validation_loss: 0.966914\n",
            "Epoch: 14. Training Loss: 0.368375.  Validation_loss: 0.997980\n",
            "Epoch: 15. Training Loss: 0.334049.  Validation_loss: 0.979533\n"
          ]
        },
        {
          "output_type": "display_data",
          "data": {
            "image/png": "[encoded data removed]",
            "text/plain": [
              "<Figure size 432x288 with 1 Axes>"
            ]
          },
          "metadata": {
            "needs_background": "light"
          }
        }
      ]
    },
    {
      "cell_type": "markdown",
      "source": [
        "As expected, the training loss goes down throughout the training process. It decreases from 2.05 in Epoch 1 to 0.33 in Epoch 15. The validation loss also declines from 1.72 in Epoch 1 to 0.86 in Epoch 11. Afterwards, it starts to increase and reaches 0.98 in Epoch 15.\n",
        "\n",
        "This implies that our model is learning at the beginning (until around Epoch 11). After that, it starts to overfit the training data, memorizing the patterns in the training data rather than learning useful representations, hence the increase in the validation loss in later epochs."
      ],
      "metadata": {
        "id": "i-p0c4D_JF7V"
      }
    },
    {
      "cell_type": "markdown",
      "metadata": {
        "id": "1Kp8nRiGRKmF"
      },
      "source": [
        "1e) Get an intermediate layer from your convolutional neural network and visualize what patterns the network has learned\n",
        "*   Complete the following code that visualizes the patterns of the network\n",
        "*   Write a small description commenting on the visualized maps. What do you observe in the different visualizations of the feature maps?"
      ]
    },
    {
      "cell_type": "code",
      "source": [
        "def deprocess_image(x):\n",
        "    \"\"\"Deprocess the optimized image so that it can be visualized.\"\"\"\n",
        "    x -= x.mean()\n",
        "    x /= (x.std() + 1e-5)\n",
        "    x *= 0.1\n",
        "    x += 0.5\n",
        "    x = torch.clip(x, 0, 1)\n",
        "    x *= 255\n",
        "    x = torch.clip(x, 0, 255).int()\n",
        "    return x"
      ],
      "metadata": {
        "id": "Tc58YvWttsmf"
      },
      "execution_count": 13,
      "outputs": []
    },
    {
      "cell_type": "code",
      "execution_count": 34,
      "metadata": {
        "id": "TyvlqrunIbnF",
        "colab": {
          "base_uri": "https://localhost:8080/"
        },
        "outputId": "217447b1-a07e-4ab0-ed30-95a68f9e4c86"
      },
      "outputs": [
        {
          "output_type": "stream",
          "name": "stdout",
          "text": [
            "My intermediate layer to visualize is: {'input': 50, 'kernel_size': 3, 'output': 127, 'padding': 1, 'type': 'Conv2d'}\n"
          ]
        }
      ],
      "source": [
        "# The intermediate layer you should visualize:\n",
        "print('My intermediate layer to visualize is: %s'%(my_architecture_dict['Layer_004']))"
      ]
    },
    {
      "cell_type": "code",
      "execution_count": 15,
      "metadata": {
        "id": "xk4FadJSRKmG",
        "colab": {
          "base_uri": "https://localhost:8080/"
        },
        "outputId": "e324b511-d50d-4782-d008-acb691551607"
      },
      "outputs": [
        {
          "output_type": "stream",
          "name": "stdout",
          "text": [
            "Filter 1. Epoch 500. Loss = 30.0813\n",
            "Filter 2. Epoch 500. Loss = 37.5910\n",
            "Filter 3. Epoch 500. Loss = 35.4680\n",
            "Filter 4. Epoch 500. Loss = -22.4155\n",
            "Filter 5. Epoch 500. Loss = 37.5462\n",
            "Filter 6. Epoch 500. Loss = -20.1999\n",
            "Filter 7. Epoch 500. Loss = -236.2484\n",
            "Filter 8. Epoch 500. Loss = 17.3330\n",
            "Filter 9. Epoch 500. Loss = -181.7654\n",
            "Filter 10. Epoch 500. Loss = -36.2365\n",
            "Filter 11. Epoch 500. Loss = 55.2314\n",
            "Filter 12. Epoch 500. Loss = -66.7048\n",
            "Filter 13. Epoch 500. Loss = 64.6164\n",
            "Filter 14. Epoch 500. Loss = -144.8170\n",
            "Filter 15. Epoch 500. Loss = 22.9443\n",
            "Filter 16. Epoch 500. Loss = 37.0916\n",
            "Filter 17. Epoch 500. Loss = -4.3389\n",
            "Filter 18. Epoch 500. Loss = -22.6059\n",
            "Filter 19. Epoch 500. Loss = 64.7997\n",
            "Filter 20. Epoch 500. Loss = 23.8137\n",
            "Filter 21. Epoch 500. Loss = -176.2172\n",
            "Filter 22. Epoch 500. Loss = 16.8226\n",
            "Filter 23. Epoch 500. Loss = -26.7801\n",
            "Filter 24. Epoch 500. Loss = 47.8007\n",
            "Filter 25. Epoch 500. Loss = -225.5663\n",
            "Filter 26. Epoch 500. Loss = -74.4470\n",
            "Filter 27. Epoch 500. Loss = 6.0801\n",
            "Filter 28. Epoch 500. Loss = -112.5781\n",
            "Filter 29. Epoch 500. Loss = 32.9242\n",
            "Filter 30. Epoch 500. Loss = 23.9764\n",
            "Filter 31. Epoch 500. Loss = -9.1757\n",
            "Filter 32. Epoch 500. Loss = -72.1153\n"
          ]
        }
      ],
      "source": [
        "##function for printing the loss during optimization\n",
        "def write_flush(text, stream=sys.stdout):\n",
        "    stream.write(text)\n",
        "    stream.flush()\n",
        "    return\n",
        "\n",
        "## Number of feature maps in the intermediate layer that you have chosen. \n",
        "# *****START CODE\n",
        "# The number of filters is 127 in the layer I chose. However, I will visualize \n",
        "# only the first 32 filters to save time and space on this notebook.\n",
        "n_conv = 32\n",
        "# *****END CODE\n",
        "\n",
        "## Size of visualised filter.\n",
        "img_size = 32\n",
        "\n",
        "##load your optimal model\n",
        "# *****START CODE\n",
        "model = ConvNet()\n",
        "model.load_state_dict(torch.load('model1_11.pt'))\n",
        "# *****END CODE\n",
        "\n",
        "## Create a submodel, until the intermediate layer of your choice.\n",
        "## Hint: Use model.#name# to create the succession of layers, where #name#\n",
        "## stands for the layer names that you defined in the initialization function \n",
        "## of your model.\n",
        "# *****START CODE\n",
        "submodel = nn.Sequential(\n",
        "        model.conv1,\n",
        "        model.relu1,\n",
        "        model.pool1,\n",
        "        model.conv2\n",
        ")\n",
        "# *****END CODE\n",
        "\n",
        "## Put submodel in eval mode.\n",
        "submodel.eval()\n",
        "\n",
        "## Tensor to visualised filters. \n",
        "img_stack = torch.zeros((n_conv, 3, img_size, img_size))\n",
        "\n",
        "## Number of epochs to run for every filter. \n",
        "# *****START CODE\n",
        "n_epochs_per_filt = 500\n",
        "# *****END CODE\n",
        "\n",
        "## Visualise every convolution. \n",
        "for c in range(n_conv):\n",
        "    ## Initialise with random image. \n",
        "    img = torch.rand(1, 3, img_size, img_size)\n",
        "\n",
        "    ## Turn on gradient calculation on the image\n",
        "    # *****START CODE\n",
        "    img.requires_grad_(True)\n",
        "    # *****END CODE\n",
        "\n",
        "    ## Define optimizer.\n",
        "    # *****START CODE\n",
        "    optimizer1 = torch.optim.Adam([img], lr=0.001)\n",
        "    # *****END CODE\n",
        "    \n",
        "    for f in range(n_epochs_per_filt):\n",
        "        optimizer1.zero_grad()\n",
        "\n",
        "        ## Feedforward propagation\n",
        "        ## Hint: In order to find the loss, compute the negative of the activation of the hidden layer. \n",
        "        ## The objective is to produce an input image which maximizes the activation \n",
        "        ## of neurons in a particular hidden layer. \n",
        "        # *****START CODE\n",
        "        output = submodel(img)\n",
        "        activation_map = output[0, c, :, :]\n",
        "        loss = -torch.sum(activation_map)  # torch.mean should also work\n",
        "        loss.backward()\n",
        "        optimizer1.step()\n",
        "        # *****END CODE\n",
        "        write_flush('\\rFilter %d. Epoch %d. Loss = %.4f'%(c+1, f+1, loss.item()))\n",
        "\n",
        "    write_flush('\\n')\n",
        "    initial_img = img[0].detach()\n",
        "    img_stack[c, :, :, :] = deprocess_image(initial_img)"
      ]
    },
    {
      "cell_type": "code",
      "source": [
        "## Make grid out of visualized filters. \n",
        "##Here you may have to adjust the properties of vutils.make_grid, depending on your needs. \n",
        "##For example, you may need to change the number of rows.\n",
        "G = vutils.make_grid(img_stack, nrow=8, \n",
        "                     normalize=True, padding=1).permute(1,2,0).numpy()\n",
        "plt.figure(figsize=(20,20))\n",
        "plt.imshow(G)\n",
        "plt.axis('equal')\n",
        "plt.axis('off')\n",
        "plt.show()"
      ],
      "metadata": {
        "colab": {
          "base_uri": "https://localhost:8080/",
          "height": 1000
        },
        "id": "HCg1K1PkzGe1",
        "outputId": "3f60786a-dfec-48ab-8a7e-755994b48316"
      },
      "execution_count": 16,
      "outputs": [
        {
          "output_type": "display_data",
          "data": {
            "image/png": "[encoded data removed]",
            "text/plain": [
              "<Figure size 1440x1440 with 1 Axes>"
            ]
          },
          "metadata": {
            "needs_background": "light"
          }
        }
      ]
    },
    {
      "cell_type": "markdown",
      "source": [
        "It seems that the first 32 filters of Layer 14 (`conv2`) are responsive to different patterns and colors. But they all seem to be activated by some simple patterns. I expected that the filters would be looking for lines, edges or round shapes. However, I find it very hard to interpret what I see on the images above. (Though it might be because of low image resolution, 32x32.) \n",
        "\n",
        "Also, I believe that filters would have been the most responsive to images having some discernible (higher-order) patterns if I had chosen later layers (e.g., `conv6`)."
      ],
      "metadata": {
        "id": "tO531SOWag6Z"
      }
    },
    {
      "cell_type": "markdown",
      "metadata": {
        "id": "Y30oDa2eIbnG"
      },
      "source": [
        "1f) Use GradCAM algorithm to visualize the saliency maps of your trained model at the same intermediate layer\n",
        "*   Install pytorch grad cam package if needed (https://github.com/jacobgil/pytorch-grad-cam)\n",
        "*   Complete the following code that visualizes GradCAM heatmaps on an input image from your model\n",
        "*   Try on several input images / classes. \n",
        "*   Write a small description commenting on the visualized heatmaps. "
      ]
    },
    {
      "cell_type": "code",
      "execution_count": 17,
      "metadata": {
        "id": "lKOuwK9MIbnL",
        "colab": {
          "base_uri": "https://localhost:8080/"
        },
        "outputId": "c5d5e574-3f00-4c15-a981-bd9a907362fa"
      },
      "outputs": [
        {
          "output_type": "stream",
          "name": "stdout",
          "text": [
            "Collecting grad-cam\n",
            "  Downloading grad-cam-1.3.7.tar.gz (4.5 MB)\n",
            "\u001b[K     |████████████████████████████████| 4.5 MB 5.3 MB/s \n",
            "\u001b[?25h  Installing build dependencies ... \u001b[?25l\u001b[?25hdone\n",
            "  Getting requirements to build wheel ... \u001b[?25l\u001b[?25hdone\n",
            "    Preparing wheel metadata ... \u001b[?25l\u001b[?25hdone\n",
            "Requirement already satisfied: numpy in /usr/local/lib/python3.7/dist-packages (from grad-cam) (1.19.5)\n",
            "Collecting ttach\n",
            "  Downloading ttach-0.0.3-py3-none-any.whl (9.8 kB)\n",
            "Requirement already satisfied: tqdm in /usr/local/lib/python3.7/dist-packages (from grad-cam) (4.62.3)\n",
            "Requirement already satisfied: torchvision>=0.8.2 in /usr/local/lib/python3.7/dist-packages (from grad-cam) (0.11.1+cu111)\n",
            "Requirement already satisfied: opencv-python in /usr/local/lib/python3.7/dist-packages (from grad-cam) (4.1.2.30)\n",
            "Requirement already satisfied: torch>=1.7.1 in /usr/local/lib/python3.7/dist-packages (from grad-cam) (1.10.0+cu111)\n",
            "Requirement already satisfied: Pillow in /usr/local/lib/python3.7/dist-packages (from grad-cam) (7.1.2)\n",
            "Requirement already satisfied: typing-extensions in /usr/local/lib/python3.7/dist-packages (from torch>=1.7.1->grad-cam) (3.10.0.2)\n",
            "Building wheels for collected packages: grad-cam\n",
            "  Building wheel for grad-cam (PEP 517) ... \u001b[?25l\u001b[?25hdone\n",
            "  Created wheel for grad-cam: filename=grad_cam-1.3.7-py3-none-any.whl size=25953 sha256=af48650552c5921ce5d4e035272dc56bc0435333d8b776e52806aa4fec8fdaa3\n",
            "  Stored in directory: /root/.cache/pip/wheels/30/ab/9c/53c523785edffdc6c61755cf82e0dac3342d0d36190c187894\n",
            "Successfully built grad-cam\n",
            "Installing collected packages: ttach, grad-cam\n",
            "Successfully installed grad-cam-1.3.7 ttach-0.0.3\n"
          ]
        }
      ],
      "source": [
        "!pip install grad-cam\n",
        "from pytorch_grad_cam import GradCAM\n",
        "from pytorch_grad_cam.utils.image import show_cam_on_image\n",
        "use_cuda = True\n",
        "\n",
        "# Get your intermediate layer\n",
        "target_layers = [model.conv3]\n",
        "input_tensor = train_features\n",
        "\n",
        "# Create an input tensor from your image for your model..\n",
        "# Note: input_tensor can be a batch tensor with several images!\n",
        "target_category = train_labels\n",
        "# *****END CODE\n",
        "\n",
        "# Construct the CAM object once, and then re-use it on many images:\n",
        "cam = GradCAM(model=model, target_layers=target_layers, use_cuda=use_cuda)\n",
        "\n",
        "# You can also pass aug_smooth=True and eigen_smooth=True, to apply smoothing.\n",
        "grayscale_cam = cam(input_tensor=input_tensor,\n",
        "                    targets=None,\n",
        "                    aug_smooth=True,\n",
        "                    eigen_smooth=True)"
      ]
    },
    {
      "cell_type": "code",
      "source": [
        "img_indices = range(0, 50, 10)\n",
        "for index in img_indices:\n",
        "    img = train_features[index].permute(1,2,0)\n",
        "    heatmap = grayscale_cam[index, :]\n",
        "    visualization = show_cam_on_image(img.numpy(), heatmap, use_rgb=True)\n",
        "\n",
        "    fig, ax = plt.subplots(1,2)\n",
        "    ax[0].imshow(img)\n",
        "    ax[1].imshow(visualization)\n",
        "    plt.show()"
      ],
      "metadata": {
        "id": "AydtlBCGW0tw",
        "colab": {
          "base_uri": "https://localhost:8080/",
          "height": 942
        },
        "outputId": "25cf0d80-9414-4a49-8a91-8a7ade9211cc"
      },
      "execution_count": 18,
      "outputs": [
        {
          "output_type": "display_data",
          "data": {
            "image/png": "[encoded data removed]",
            "text/plain": [
              "<Figure size 432x288 with 2 Axes>"
            ]
          },
          "metadata": {
            "needs_background": "light"
          }
        },
        {
          "output_type": "display_data",
          "data": {
            "image/png": "[encoded data removed]",
            "text/plain": [
              "<Figure size 432x288 with 2 Axes>"
            ]
          },
          "metadata": {
            "needs_background": "light"
          }
        },
        {
          "output_type": "display_data",
          "data": {
            "image/png": "[encoded data removed]",
            "text/plain": [
              "<Figure size 432x288 with 2 Axes>"
            ]
          },
          "metadata": {
            "needs_background": "light"
          }
        },
        {
          "output_type": "display_data",
          "data": {
            "image/png": "[encoded data removed]",
            "text/plain": [
              "<Figure size 432x288 with 2 Axes>"
            ]
          },
          "metadata": {
            "needs_background": "light"
          }
        },
        {
          "output_type": "display_data",
          "data": {
            "image/png": "[encoded data removed]",
            "text/plain": [
              "<Figure size 432x288 with 2 Axes>"
            ]
          },
          "metadata": {
            "needs_background": "light"
          }
        }
      ]
    },
    {
      "cell_type": "markdown",
      "source": [
        "The visualized heatmaps show which parts of the images on the left are responsible (or \"correlated\") with the given labels. By inspecting these images, we can tell which patches played the most significant role in the decision of the class. For example, the deck of the ship (or a boat) in the first image played the most important role in the classification decision, while in the third case, the legs of a horse were the most influential patches.\n"
      ],
      "metadata": {
        "id": "O2gR1lf_ZpWr"
      }
    },
    {
      "cell_type": "markdown",
      "metadata": {
        "id": "o3QK7dhJRKmH"
      },
      "source": [
        "### Question 2 - Train on geometrical shapes"
      ]
    },
    {
      "cell_type": "markdown",
      "metadata": {
        "id": "-yudhcXrRKmH"
      },
      "source": [
        "Function 'generate_a_triangle' produces images depicting random triangles along with the (x,y) coordinates of the vertices. Create a convolutional neural network that receives as input the triangle image and predicts the corresponding (x,y) coordinates of the triangle's vertices. \n",
        "*  Read and understand the following code"
      ]
    },
    {
      "cell_type": "code",
      "execution_count": 19,
      "metadata": {
        "id": "aptobJOZbRZd",
        "colab": {
          "base_uri": "https://localhost:8080/",
          "height": 268
        },
        "outputId": "6bd645ee-19f7-49d2-f6cc-a1523cbd1cf5"
      },
      "outputs": [
        {
          "output_type": "display_data",
          "data": {
            "image/png": "[encoded data removed]",
            "text/plain": [
              "<Figure size 432x288 with 1 Axes>"
            ]
          },
          "metadata": {
            "needs_background": "light"
          }
        }
      ],
      "source": [
        "# On some implementations of matplotlib, you may need to change this value\n",
        "IMAGE_SIZE = 72\n",
        "\n",
        "def generate_a_drawing(figsize, U, V):\n",
        "    fig = plt.figure(figsize=(figsize,figsize))\n",
        "    ax = plt.subplot(111)\n",
        "    plt.axis('Off')\n",
        "    ax.set_xlim(0,figsize)\n",
        "    ax.set_ylim(0,figsize)\n",
        "    ax.fill(U, V, \"k\")\n",
        "    fig.canvas.draw()\n",
        "    imdata = np.frombuffer(fig.canvas.tostring_rgb(), dtype=np.uint8)[::3].astype(np.float32)\n",
        "    imdata = imdata + np.random.random(imdata.size)\n",
        "    plt.close(fig)\n",
        "    return imdata\n",
        "\n",
        "def generate_a_triangle():\n",
        "    figsize = 1.0\n",
        "    U = np.random.random(3)\n",
        "    V = np.random.random(3)\n",
        "    imdata = generate_a_drawing(figsize, U, V)\n",
        "    return [imdata, [U[0], V[0], U[1], V[1], U[2], V[2]]]\n",
        "\n",
        "[im, v] = generate_a_triangle()\n",
        "plt.imshow(im.reshape(IMAGE_SIZE,IMAGE_SIZE), cmap='gray')\n",
        "\n",
        "def generate_dataset_regression(nb_samples):\n",
        "    # Getting im_size:\n",
        "    im_size = generate_a_triangle()[0].shape[0]\n",
        "    X = np.zeros([nb_samples,im_size])\n",
        "    Y = np.zeros([nb_samples, 6])\n",
        "    print('Creating data:')\n",
        "    for i in range(nb_samples):\n",
        "        if i % (nb_samples // 10) == 0:\n",
        "            print(i)\n",
        "        [X[i], Y[i]] = generate_a_triangle()\n",
        "    X = X / 255\n",
        "    return [X, Y]\n",
        "\n",
        "import matplotlib.patches as patches\n",
        "\n",
        "def visualize_prediction(x, y):\n",
        "    fig, ax = plt.subplots(figsize=(5, 5))\n",
        "    I = x.reshape((IMAGE_SIZE,IMAGE_SIZE))\n",
        "    ax.imshow(I, extent=[-0.15,1.15,-0.15,1.15],cmap='gray')\n",
        "    ax.set_xlim([0,1])\n",
        "    ax.set_ylim([0,1])\n",
        "\n",
        "    xy = y.reshape(3,2)\n",
        "    tri = patches.Polygon(xy, closed=True, fill = False, \n",
        "                          edgecolor = 'r', linewidth = 5, alpha = 0.5)\n",
        "    ax.add_patch(tri)\n",
        "    plt.show()\n",
        "\n",
        "def generate_test_set_regression():\n",
        "    np.random.seed(42)\n",
        "    [X_test, Y_test] = generate_dataset_regression(300)\n",
        "    return [X_test, Y_test]"
      ]
    },
    {
      "cell_type": "code",
      "source": [
        "class My_Dataset:\n",
        "    \"\"\"A custom Dataset class for the images of Triangles.\"\"\"\n",
        "    def __init__(self, X, y):\n",
        "        self.x_data = torch.Tensor(X.reshape((-1, 1, IMAGE_SIZE, IMAGE_SIZE)))\n",
        "        self.y_data = torch.Tensor(y)\n",
        "\n",
        "    def __len__(self):\n",
        "        return len(self.x_data)\n",
        "\n",
        "    def __getitem__(self, idx):\n",
        "        if torch.is_tensor(idx):\n",
        "            idx = idx.tolist()\n",
        "        x_values = self.x_data[idx, :, :, :]\n",
        "        y_values = self.y_data[idx]\n",
        "        return x_values, y_values\n",
        "\n",
        "    def transform_inputs(self):\n",
        "        \"\"\"Transform X as described in Exercise 2g.\"\"\"\n",
        "        self.x_data = np.clip(self.x_data, 0, 1)\n",
        "        self.x_data -= 0.5\n"
      ],
      "metadata": {
        "id": "UX1s7jsnZ_u5"
      },
      "execution_count": 20,
      "outputs": []
    },
    {
      "cell_type": "markdown",
      "metadata": {
        "id": "clB8r3jMRKmI"
      },
      "source": [
        "2a) Use function 'generate_dataset_regression' to create the dataset. Split the dataset to training and validation parts."
      ]
    },
    {
      "cell_type": "code",
      "execution_count": 21,
      "metadata": {
        "id": "6Y7mW83fRKmJ",
        "colab": {
          "base_uri": "https://localhost:8080/"
        },
        "outputId": "633897b4-c6de-46d5-de23-03dabe343e94"
      },
      "outputs": [
        {
          "output_type": "stream",
          "name": "stdout",
          "text": [
            "Creating data:\n",
            "0\n",
            "200\n",
            "400\n",
            "600\n",
            "800\n",
            "1000\n",
            "1200\n",
            "1400\n",
            "1600\n",
            "1800\n"
          ]
        }
      ],
      "source": [
        "##generate dataset\n",
        "# *****START CODE\n",
        "X, y = generate_dataset_regression(2000)\n",
        "# *****END CODE"
      ]
    },
    {
      "cell_type": "code",
      "execution_count": 22,
      "metadata": {
        "id": "xIwVanB4RKmK"
      },
      "outputs": [],
      "source": [
        "##split the dataset to training and validation parts\n",
        "# *****START CODE\n",
        "X_train = X[:1600]\n",
        "X_valid = X[1600:]\n",
        "y_train = y[:1600]\n",
        "y_valid = y[1600:]\n",
        "# *****END CODE"
      ]
    },
    {
      "cell_type": "markdown",
      "metadata": {
        "id": "NEoZyhgZRKmK"
      },
      "source": [
        "2b) Use function 'generate_test_set' to create the testing dataset."
      ]
    },
    {
      "cell_type": "code",
      "execution_count": 23,
      "metadata": {
        "id": "PE6e3nszRKmK",
        "colab": {
          "base_uri": "https://localhost:8080/"
        },
        "outputId": "9b295a54-0293-4ead-9a1e-184f11c6b566"
      },
      "outputs": [
        {
          "output_type": "stream",
          "name": "stdout",
          "text": [
            "Creating data:\n",
            "0\n",
            "30\n",
            "60\n",
            "90\n",
            "120\n",
            "150\n",
            "180\n",
            "210\n",
            "240\n",
            "270\n"
          ]
        }
      ],
      "source": [
        "##generate test dataset\n",
        "# *****START CODE\n",
        "X_test, y_test = generate_test_set_regression()\n",
        "# *****END CODE"
      ]
    },
    {
      "cell_type": "markdown",
      "metadata": {
        "id": "tcsDj8eQRKmK"
      },
      "source": [
        "2c) Create your own convolutional neural network.\n",
        "* Begin with the previous exercise model architecture\n",
        "* Optimize the architecture to perform well on predicting the different coordinates"
      ]
    },
    {
      "cell_type": "code",
      "execution_count": 24,
      "metadata": {
        "id": "hQYXQV5LRKmL"
      },
      "outputs": [],
      "source": [
        "# *****START CODE\n",
        "class ConvNetR(nn.Module):\n",
        "    def __init__(self):\n",
        "        super(ConvNetR, self).__init__()  # [1, 72, 72]\n",
        "        self.conv1 = nn.Conv2d(in_channels=1, out_channels=8, kernel_size=3, padding=0)  # [8, 70, 70]\n",
        "        self.relu1 = nn.ReLU()\n",
        "        self.conv2 = nn.Conv2d(in_channels=8, out_channels=8, kernel_size=3, padding=0)   # [8, 68, 68]\n",
        "        self.relu2 = nn.ReLU()\n",
        "        self.conv3 = nn.Conv2d(in_channels=8, out_channels=16, kernel_size=3, padding=1)  # [16, 68, 68]\n",
        "        self.relu3 = nn.ReLU()\n",
        "        self.pool1 = nn.MaxPool2d(kernel_size=2, stride=2)  # [16, 34, 34]\n",
        "\n",
        "        self.conv4 = nn.Conv2d(in_channels=16, out_channels=32, kernel_size=3, padding=0)  # [32, 32, 32]\n",
        "        self.relu4 = nn.ReLU()\n",
        "        self.conv5 = nn.Conv2d(in_channels=32, out_channels=32, kernel_size=3, padding=0)  # [32, 30, 30]\n",
        "        self.relu5 = nn.ReLU()\n",
        "        self.conv6 = nn.Conv2d(in_channels=32, out_channels=32, kernel_size=3, padding=0)  # [32, 28, 28]\n",
        "        self.relu6 = nn.ReLU()\n",
        "        self.pool2 = nn.MaxPool2d(kernel_size=2, stride=2)  # [32, 14, 14]\n",
        "\n",
        "        self.conv7 = nn.Conv2d(in_channels=32, out_channels=64, kernel_size=3, padding=0)  # [64, 12, 12]\n",
        "        self.relu7 = nn.ReLU()\n",
        "        self.conv8 = nn.Conv2d(in_channels=64, out_channels=64, kernel_size=3, padding=0)  # [64, 10, 10]\n",
        "        self.relu8 = nn.ReLU()\n",
        "        self.conv9 = nn.Conv2d(in_channels=64, out_channels=128, kernel_size=3, padding=0)  # [128, 8, 8]\n",
        "        self.relu9 = nn.ReLU()\n",
        "        self.pool3 = nn.MaxPool2d(kernel_size=2, stride=2)  # [128, 4, 4]\n",
        "\n",
        "        self.flatten = nn.Flatten(1, -1)\n",
        "        self.fc1 = nn.Linear(in_features=2048, out_features=2048)\n",
        "        self.relu10 = nn.ReLU()\n",
        "        self.dropout1 = nn.Dropout2d(p=0.5)\n",
        "        self.fc2 = nn.Linear(in_features=2048, out_features=2048)\n",
        "        self.relu11 = nn.ReLU()\n",
        "        self.dropout2 = nn.Dropout2d(p=0.5)\n",
        "        self.fc3 = nn.Linear(in_features=2048, out_features=6)\n",
        "\n",
        "    def forward(self, x):\n",
        "        for layer in self.children():\n",
        "            x = layer(x)\n",
        "        return x\n",
        "# *****END CODE"
      ]
    },
    {
      "cell_type": "markdown",
      "metadata": {
        "id": "U6PxmyfqRKmM"
      },
      "source": [
        "2d) Define learning rate, model, optimizer, criterion and number of epochs."
      ]
    },
    {
      "cell_type": "code",
      "source": [
        "BATCH_SIZE2 = 64\n",
        "\n",
        "train_dataloader2 = torch.utils.data.DataLoader(\n",
        "    My_Dataset(X_train, y_train), batch_size=BATCH_SIZE2, shuffle=True)\n",
        "val_dataloader2 = torch.utils.data.DataLoader(\n",
        "    My_Dataset(X_valid, y_valid), batch_size=BATCH_SIZE2, shuffle=False)"
      ],
      "metadata": {
        "id": "3R5Ru4XTg4Js"
      },
      "execution_count": 25,
      "outputs": []
    },
    {
      "cell_type": "code",
      "execution_count": 26,
      "metadata": {
        "id": "vS9LIDmlRKmM"
      },
      "outputs": [],
      "source": [
        "# *****START CODE\n",
        "lr2 = 0.001\n",
        "model2 = ConvNetR().to(my_device)\n",
        "optimizer2 = torch.optim.Adam(model2.parameters(), lr=lr2)\n",
        "criterion2 = nn.MSELoss()\n",
        "epochs2 = 30\n",
        "# *****END CODE"
      ]
    },
    {
      "cell_type": "markdown",
      "metadata": {
        "id": "JNtKYgzTRKmM"
      },
      "source": [
        "2e) What criterion did you choose and why?\n",
        "* Write a small description for the loss function that you want to use for this specific problem.\n",
        "* What was your intuition for using this loss?"
      ]
    },
    {
      "cell_type": "markdown",
      "source": [
        "For this problem, I chose the Mean Squared Error Loss. The reason is threefold:\n",
        "\n",
        "<ol>\n",
        "  <li> The target variable is continuous.</li>\n",
        "  <li> I want to penalize more and more strongly as the Euclidean distance between actual and predicted coordinates increases. </li>\n",
        "  <li> For each observation, the loss will be proportional to the sum of Euclidean distances between the actual and predicted coordinates of 3 vertices.</li>\n",
        "</ol>"
      ],
      "metadata": {
        "id": "fx2brpIKaLmn"
      }
    },
    {
      "cell_type": "markdown",
      "metadata": {
        "id": "HmjN0W-KRKmN"
      },
      "source": [
        "2f) Train your model and validate it at the end of each epoch.\n",
        "* Similarly to the previous question train and validate your network for each epoch\n",
        "* Write a small description on how you decide which is the optimal epoch\n",
        "* Use this epoch and evaluate your model on the test set\n",
        "* Visualise some predictions using the function 'visualize_prediction'\n",
        "* What do you observe?"
      ]
    },
    {
      "cell_type": "code",
      "execution_count": 27,
      "metadata": {
        "id": "VZfRftoFRKmN",
        "colab": {
          "base_uri": "https://localhost:8080/",
          "height": 1000
        },
        "outputId": "58584589-42f3-4b9e-ab79-1d39257acbb6"
      },
      "outputs": [
        {
          "output_type": "stream",
          "name": "stdout",
          "text": [
            "Epoch: 1. Training Loss: 0.166075.  Validation_loss: 0.099042\n",
            "Validation loss decreased (inf --> 0.099042). Saving model..\n",
            "Model Saved\n",
            "Epoch: 2. Training Loss: 0.089618.  Validation_loss: 0.084689\n",
            "Validation loss decreased (0.099042 --> 0.084689). Saving model..\n",
            "Model Saved\n",
            "Epoch: 3. Training Loss: 0.085444.  Validation_loss: 0.085406\n",
            "Epoch: 4. Training Loss: 0.085254.  Validation_loss: 0.084759\n",
            "Epoch: 5. Training Loss: 0.085483.  Validation_loss: 0.086071\n",
            "Epoch: 6. Training Loss: 0.085338.  Validation_loss: 0.084828\n",
            "Epoch: 7. Training Loss: 0.080640.  Validation_loss: 0.075240\n",
            "Validation loss decreased (0.084689 --> 0.075240). Saving model..\n",
            "Model Saved\n",
            "Epoch: 8. Training Loss: 0.066432.  Validation_loss: 0.062754\n",
            "Validation loss decreased (0.075240 --> 0.062754). Saving model..\n",
            "Model Saved\n",
            "Epoch: 9. Training Loss: 0.063176.  Validation_loss: 0.063358\n",
            "Epoch: 10. Training Loss: 0.061080.  Validation_loss: 0.059000\n",
            "Validation loss decreased (0.062754 --> 0.059000). Saving model..\n",
            "Model Saved\n",
            "Epoch: 11. Training Loss: 0.060000.  Validation_loss: 0.059445\n",
            "Epoch: 12. Training Loss: 0.059726.  Validation_loss: 0.059471\n",
            "Epoch: 13. Training Loss: 0.059525.  Validation_loss: 0.060296\n",
            "Epoch: 14. Training Loss: 0.059740.  Validation_loss: 0.058479\n",
            "Validation loss decreased (0.059000 --> 0.058479). Saving model..\n",
            "Model Saved\n",
            "Epoch: 15. Training Loss: 0.058639.  Validation_loss: 0.058423\n",
            "Validation loss decreased (0.058479 --> 0.058423). Saving model..\n",
            "Model Saved\n",
            "Epoch: 16. Training Loss: 0.058516.  Validation_loss: 0.060020\n",
            "Epoch: 17. Training Loss: 0.058898.  Validation_loss: 0.057984\n",
            "Validation loss decreased (0.058423 --> 0.057984). Saving model..\n",
            "Model Saved\n",
            "Epoch: 18. Training Loss: 0.058048.  Validation_loss: 0.059031\n",
            "Epoch: 19. Training Loss: 0.058025.  Validation_loss: 0.057632\n",
            "Validation loss decreased (0.057984 --> 0.057632). Saving model..\n",
            "Model Saved\n",
            "Epoch: 20. Training Loss: 0.058214.  Validation_loss: 0.058440\n",
            "Epoch: 21. Training Loss: 0.057593.  Validation_loss: 0.057577\n",
            "Validation loss decreased (0.057632 --> 0.057577). Saving model..\n",
            "Model Saved\n",
            "Epoch: 22. Training Loss: 0.057423.  Validation_loss: 0.057758\n",
            "Epoch: 23. Training Loss: 0.057351.  Validation_loss: 0.057949\n",
            "Epoch: 24. Training Loss: 0.057761.  Validation_loss: 0.059744\n",
            "Epoch: 25. Training Loss: 0.057395.  Validation_loss: 0.058745\n",
            "Epoch: 26. Training Loss: 0.057286.  Validation_loss: 0.058190\n",
            "Epoch: 27. Training Loss: 0.057260.  Validation_loss: 0.058918\n",
            "Epoch: 28. Training Loss: 0.057198.  Validation_loss: 0.058256\n",
            "Epoch: 29. Training Loss: 0.057057.  Validation_loss: 0.058261\n",
            "Epoch: 30. Training Loss: 0.057140.  Validation_loss: 0.058399\n"
          ]
        },
        {
          "output_type": "display_data",
          "data": {
            "image/png": "[encoded data removed]",
            "text/plain": [
              "<Figure size 432x288 with 1 Axes>"
            ]
          },
          "metadata": {
            "needs_background": "light"
          }
        }
      ],
      "source": [
        "# *****START CODE\n",
        "train_network(model2, train_dataloader2, val_dataloader2, \n",
        "              optimizer2, criterion2, epochs2, \"model2\")\n",
        "# *****END CODE"
      ]
    },
    {
      "cell_type": "markdown",
      "source": [
        "Looking at the training and validation losses, we can see that after Epoch 14, the losses do not really decrease. That's why I believe this is an optimal point to stop since training longer is not bringing appreciable benefits and can eventually lead to overfitting."
      ],
      "metadata": {
        "id": "yztFu7C1CjEA"
      }
    },
    {
      "cell_type": "code",
      "source": [
        "test_dataloader2 = torch.utils.data.DataLoader(\n",
        "    My_Dataset(X_test, y_test), batch_size=len(y_test), shuffle=False)\n",
        "\n",
        "model2 = ConvNetR().to(my_device)\n",
        "model2.load_state_dict(torch.load('model2_14.pt'))\n",
        "model2.eval()\n",
        "for images, vertices in test_dataloader2:\n",
        "    images, vertices = images.to(my_device), vertices.to(my_device)\n",
        "    output = model2(images)\n",
        "    loss = criterion2(output, vertices)\n",
        "    test_loss = loss.item()\n",
        "\n",
        "print(f\"Test loss is: {test_loss:.6f}\")"
      ],
      "metadata": {
        "id": "Zig3qfIBCh9L",
        "colab": {
          "base_uri": "https://localhost:8080/"
        },
        "outputId": "f97a3e27-0fc1-437d-93de-4ec402eb7c7b"
      },
      "execution_count": 28,
      "outputs": [
        {
          "output_type": "stream",
          "name": "stdout",
          "text": [
            "Test loss is: 0.061251\n"
          ]
        }
      ]
    },
    {
      "cell_type": "markdown",
      "source": [
        "We can see that the test loss is quite close to the validation and training losses. This is a good sign implying that our model has good generalization power."
      ],
      "metadata": {
        "id": "SiWOv4JqNwx7"
      }
    },
    {
      "cell_type": "code",
      "source": [
        "output.shape"
      ],
      "metadata": {
        "id": "LlkD8Qc0QlGv",
        "colab": {
          "base_uri": "https://localhost:8080/"
        },
        "outputId": "a7c61747-c6e5-4909-fb1b-7b4954387873"
      },
      "execution_count": 29,
      "outputs": [
        {
          "output_type": "execute_result",
          "data": {
            "text/plain": [
              "torch.Size([300, 6])"
            ]
          },
          "metadata": {},
          "execution_count": 29
        }
      ]
    },
    {
      "cell_type": "code",
      "source": [
        "chosen_indices = range(0, 300, 60)\n",
        "for index in chosen_indices:\n",
        "  X_new = X_test[index, :]\n",
        "  # output_new = y_test[index]\n",
        "  output_new = output[index].detach().cpu().numpy()\n",
        "  visualize_prediction(X_new, output_new)"
      ],
      "metadata": {
        "id": "W21hzzqLHT1B",
        "colab": {
          "base_uri": "https://localhost:8080/",
          "height": 1000
        },
        "outputId": "3b9b6537-e2aa-4c6a-be41-94529a520f45"
      },
      "execution_count": 30,
      "outputs": [
        {
          "output_type": "display_data",
          "data": {
            "image/png": "[encoded data removed]",
            "text/plain": [
              "<Figure size 360x360 with 1 Axes>"
            ]
          },
          "metadata": {
            "needs_background": "light"
          }
        },
        {
          "output_type": "display_data",
          "data": {
            "image/png": "[encoded data removed]",
            "text/plain": [
              "<Figure size 360x360 with 1 Axes>"
            ]
          },
          "metadata": {
            "needs_background": "light"
          }
        },
        {
          "output_type": "display_data",
          "data": {
            "image/png": "[encoded data removed]",
            "text/plain": [
              "<Figure size 360x360 with 1 Axes>"
            ]
          },
          "metadata": {
            "needs_background": "light"
          }
        },
        {
          "output_type": "display_data",
          "data": {
            "image/png": "[encoded data removed]",
            "text/plain": [
              "<Figure size 360x360 with 1 Axes>"
            ]
          },
          "metadata": {
            "needs_background": "light"
          }
        },
        {
          "output_type": "display_data",
          "data": {
            "image/png": "[encoded data removed]",
            "text/plain": [
              "<Figure size 360x360 with 1 Axes>"
            ]
          },
          "metadata": {
            "needs_background": "light"
          }
        }
      ]
    },
    {
      "cell_type": "markdown",
      "source": [
        "My network performs very poorly. The predicted coordinates do not fit the triangles well. Most of the time, the network can only make sure that a predicted coordinate is within 0.20 distance from the corresponding actual coordinate."
      ],
      "metadata": {
        "id": "d3387xyudcoM"
      }
    },
    {
      "cell_type": "markdown",
      "metadata": {
        "id": "zTCMv88pRKmN"
      },
      "source": [
        "2g) Think and implement a preprocessing step that can boost the accuracy of your network"
      ]
    },
    {
      "cell_type": "code",
      "source": [
        "np.max(X_train)"
      ],
      "metadata": {
        "id": "q_we5KZFg0Bw",
        "colab": {
          "base_uri": "https://localhost:8080/"
        },
        "outputId": "c64b45a8-fa94-4d07-f8d3-18488f337867"
      },
      "execution_count": 31,
      "outputs": [
        {
          "output_type": "execute_result",
          "data": {
            "text/plain": [
              "1.003921458630258"
            ]
          },
          "metadata": {},
          "execution_count": 31
        }
      ]
    },
    {
      "cell_type": "markdown",
      "source": [
        "I noticed that X_values are not always the $[0, 1]$ range. So, I will clip them to be inside this range. Also, I will subtract $0.5$ from all values to see if centering inputs around zero helps. Finally, I will try Mean Absolute Error (`L1Loss`) this time instead of MSE."
      ],
      "metadata": {
        "id": "tVCZ743vlvDB"
      }
    },
    {
      "cell_type": "code",
      "execution_count": 32,
      "metadata": {
        "id": "jTqLTm8LRKmN",
        "colab": {
          "base_uri": "https://localhost:8080/",
          "height": 1000
        },
        "outputId": "b656a104-94e0-4d99-ee31-a56ae527bab4"
      },
      "outputs": [
        {
          "output_type": "stream",
          "name": "stdout",
          "text": [
            "Epoch: 1. Training Loss: 0.301991.  Validation_loss: 0.252503\n",
            "Validation loss decreased (inf --> 0.252503). Saving model..\n",
            "Model Saved\n",
            "Epoch: 2. Training Loss: 0.252288.  Validation_loss: 0.256724\n",
            "Epoch: 3. Training Loss: 0.252002.  Validation_loss: 0.257296\n",
            "Epoch: 4. Training Loss: 0.252501.  Validation_loss: 0.259071\n",
            "Epoch: 5. Training Loss: 0.252733.  Validation_loss: 0.250816\n",
            "Validation loss decreased (0.252503 --> 0.250816). Saving model..\n",
            "Model Saved\n",
            "Epoch: 6. Training Loss: 0.237871.  Validation_loss: 0.225863\n",
            "Validation loss decreased (0.250816 --> 0.225863). Saving model..\n",
            "Model Saved\n",
            "Epoch: 7. Training Loss: 0.214822.  Validation_loss: 0.211341\n",
            "Validation loss decreased (0.225863 --> 0.211341). Saving model..\n",
            "Model Saved\n",
            "Epoch: 8. Training Loss: 0.208522.  Validation_loss: 0.211548\n",
            "Epoch: 9. Training Loss: 0.206058.  Validation_loss: 0.203753\n",
            "Validation loss decreased (0.211341 --> 0.203753). Saving model..\n",
            "Model Saved\n",
            "Epoch: 10. Training Loss: 0.203207.  Validation_loss: 0.201790\n",
            "Validation loss decreased (0.203753 --> 0.201790). Saving model..\n",
            "Model Saved\n",
            "Epoch: 11. Training Loss: 0.200484.  Validation_loss: 0.202280\n",
            "Epoch: 12. Training Loss: 0.198793.  Validation_loss: 0.195190\n",
            "Validation loss decreased (0.201790 --> 0.195190). Saving model..\n",
            "Model Saved\n",
            "Epoch: 13. Training Loss: 0.195992.  Validation_loss: 0.194501\n",
            "Validation loss decreased (0.195190 --> 0.194501). Saving model..\n",
            "Model Saved\n",
            "Epoch: 14. Training Loss: 0.196115.  Validation_loss: 0.193327\n",
            "Validation loss decreased (0.194501 --> 0.193327). Saving model..\n",
            "Model Saved\n",
            "Epoch: 15. Training Loss: 0.192955.  Validation_loss: 0.194484\n",
            "Epoch: 16. Training Loss: 0.191842.  Validation_loss: 0.192471\n",
            "Validation loss decreased (0.193327 --> 0.192471). Saving model..\n",
            "Model Saved\n",
            "Epoch: 17. Training Loss: 0.190228.  Validation_loss: 0.189093\n",
            "Validation loss decreased (0.192471 --> 0.189093). Saving model..\n",
            "Model Saved\n",
            "Epoch: 18. Training Loss: 0.188861.  Validation_loss: 0.189905\n",
            "Epoch: 19. Training Loss: 0.188252.  Validation_loss: 0.190504\n",
            "Epoch: 20. Training Loss: 0.187320.  Validation_loss: 0.189094\n",
            "Epoch: 21. Training Loss: 0.186431.  Validation_loss: 0.187825\n",
            "Validation loss decreased (0.189093 --> 0.187825). Saving model..\n",
            "Model Saved\n",
            "Epoch: 22. Training Loss: 0.185776.  Validation_loss: 0.187994\n",
            "Epoch: 23. Training Loss: 0.184508.  Validation_loss: 0.186042\n",
            "Validation loss decreased (0.187825 --> 0.186042). Saving model..\n",
            "Model Saved\n",
            "Epoch: 24. Training Loss: 0.183993.  Validation_loss: 0.187198\n",
            "Epoch: 25. Training Loss: 0.184407.  Validation_loss: 0.184718\n",
            "Validation loss decreased (0.186042 --> 0.184718). Saving model..\n",
            "Model Saved\n",
            "Epoch: 26. Training Loss: 0.183835.  Validation_loss: 0.188050\n",
            "Epoch: 27. Training Loss: 0.183729.  Validation_loss: 0.184401\n",
            "Validation loss decreased (0.184718 --> 0.184401). Saving model..\n",
            "Model Saved\n",
            "Epoch: 28. Training Loss: 0.183258.  Validation_loss: 0.185561\n",
            "Epoch: 29. Training Loss: 0.183220.  Validation_loss: 0.184947\n",
            "Epoch: 30. Training Loss: 0.181850.  Validation_loss: 0.184902\n",
            "Epoch: 31. Training Loss: 0.181528.  Validation_loss: 0.185563\n",
            "Epoch: 32. Training Loss: 0.180914.  Validation_loss: 0.186111\n",
            "Epoch: 33. Training Loss: 0.181151.  Validation_loss: 0.185131\n",
            "Epoch: 34. Training Loss: 0.180835.  Validation_loss: 0.188139\n",
            "Epoch: 35. Training Loss: 0.179765.  Validation_loss: 0.186105\n",
            "Epoch: 36. Training Loss: 0.179091.  Validation_loss: 0.185806\n",
            "Epoch: 37. Training Loss: 0.179869.  Validation_loss: 0.189105\n",
            "Epoch: 38. Training Loss: 0.178588.  Validation_loss: 0.189479\n",
            "Epoch: 39. Training Loss: 0.177549.  Validation_loss: 0.190700\n",
            "Epoch: 40. Training Loss: 0.176411.  Validation_loss: 0.189498\n",
            "Epoch: 41. Training Loss: 0.176948.  Validation_loss: 0.190384\n",
            "Epoch: 42. Training Loss: 0.174307.  Validation_loss: 0.192654\n",
            "Epoch: 43. Training Loss: 0.174784.  Validation_loss: 0.193629\n",
            "Epoch: 44. Training Loss: 0.172570.  Validation_loss: 0.193513\n",
            "Epoch: 45. Training Loss: 0.170752.  Validation_loss: 0.194616\n",
            "Epoch: 46. Training Loss: 0.171553.  Validation_loss: 0.196619\n",
            "Epoch: 47. Training Loss: 0.168549.  Validation_loss: 0.201176\n",
            "Epoch: 48. Training Loss: 0.166710.  Validation_loss: 0.197799\n",
            "Epoch: 49. Training Loss: 0.166603.  Validation_loss: 0.200559\n",
            "Epoch: 50. Training Loss: 0.163451.  Validation_loss: 0.202357\n"
          ]
        },
        {
          "output_type": "display_data",
          "data": {
            "image/png": "[encoded data removed]",
            "text/plain": [
              "<Figure size 432x288 with 1 Axes>"
            ]
          },
          "metadata": {
            "needs_background": "light"
          }
        }
      ],
      "source": [
        "train_dataset = My_Dataset(X_train, y_train)\n",
        "train_dataset.transform_inputs()\n",
        "valid_dataset = My_Dataset(X_valid, y_valid)\n",
        "valid_dataset.transform_inputs()\n",
        "test_dataset = My_Dataset(X_test, y_test)\n",
        "test_dataset.transform_inputs()\n",
        "\n",
        "BATCH_SIZE2 = 64\n",
        "train_dataloader3 = torch.utils.data.DataLoader(\n",
        "    train_dataset, batch_size=BATCH_SIZE2, shuffle=True)\n",
        "val_dataloader3 = torch.utils.data.DataLoader(\n",
        "    valid_dataset, batch_size=BATCH_SIZE2, shuffle=False)\n",
        "test_dataloader3 = torch.utils.data.DataLoader(\n",
        "    test_dataset, batch_size=len(y_test), shuffle=False)\n",
        "\n",
        "lr3 = 0.001\n",
        "model3 = ConvNetR().to(my_device)\n",
        "optimizer3 = torch.optim.Adam(model3.parameters(), lr=lr3)\n",
        "criterion3 = nn.L1Loss()\n",
        "epochs3 = 50\n",
        "train_network(model3, train_dataloader3, val_dataloader3, \n",
        "              optimizer3, criterion3, epochs3, \"model3\")"
      ]
    },
    {
      "cell_type": "code",
      "source": [
        "model3 = ConvNetR().to(my_device)\n",
        "model3.load_state_dict(torch.load('model3_27.pt'))\n",
        "model3.eval()\n",
        "for images, vertices in test_dataloader3:\n",
        "    images, vertices = images.to(my_device), vertices.to(my_device)\n",
        "    output = model3(images)\n",
        "    loss = criterion3(output, vertices)\n",
        "    test_loss = loss.item()\n",
        "\n",
        "print(f\"Test loss is: {test_loss:.6f}\")"
      ],
      "metadata": {
        "id": "d0QiMgz5EuLn",
        "colab": {
          "base_uri": "https://localhost:8080/"
        },
        "outputId": "5ed37fd7-8e88-46f4-cae9-084880c56b54"
      },
      "execution_count": 35,
      "outputs": [
        {
          "output_type": "stream",
          "name": "stdout",
          "text": [
            "Test loss is: 0.189418\n"
          ]
        }
      ]
    },
    {
      "cell_type": "code",
      "source": [
        "chosen_indices = range(0, 300, 60)\n",
        "for index in chosen_indices:\n",
        "  X_new = X_test[index, :]\n",
        "  # output_new = y_test[index]\n",
        "  output_new = output[index].detach().cpu().numpy()\n",
        "  visualize_prediction(X_new, output_new)"
      ],
      "metadata": {
        "id": "P6utJbCxRKCa",
        "colab": {
          "base_uri": "https://localhost:8080/",
          "height": 1000
        },
        "outputId": "3fa16a3d-51ce-4855-d2b2-84ea4ea4ce52"
      },
      "execution_count": 36,
      "outputs": [
        {
          "output_type": "display_data",
          "data": {
            "image/png": "[encoded data removed]",
            "text/plain": [
              "<Figure size 360x360 with 1 Axes>"
            ]
          },
          "metadata": {
            "needs_background": "light"
          }
        },
        {
          "output_type": "display_data",
          "data": {
            "image/png": "[encoded data removed]",
            "text/plain": [
              "<Figure size 360x360 with 1 Axes>"
            ]
          },
          "metadata": {
            "needs_background": "light"
          }
        },
        {
          "output_type": "display_data",
          "data": {
            "image/png": "[encoded data removed]",
            "text/plain": [
              "<Figure size 360x360 with 1 Axes>"
            ]
          },
          "metadata": {
            "needs_background": "light"
          }
        },
        {
          "output_type": "display_data",
          "data": {
            "image/png": "[encoded data removed]",
            "text/plain": [
              "<Figure size 360x360 with 1 Axes>"
            ]
          },
          "metadata": {
            "needs_background": "light"
          }
        },
        {
          "output_type": "display_data",
          "data": {
            "image/png": "[encoded data removed]",
            "text/plain": [
              "<Figure size 360x360 with 1 Axes>"
            ]
          },
          "metadata": {
            "needs_background": "light"
          }
        }
      ]
    },
    {
      "cell_type": "markdown",
      "source": [
        "As we can see, the changes that I introduced did not really help: the predicted coordinates still fit the input triangles quite poorly."
      ],
      "metadata": {
        "id": "pHrH8Bmwe6Ku"
      }
    }
  ],
  "metadata": {
    "colab": {
      "collapsed_sections": [],
      "name": "FDL_Assignment_Asrorbek_Orzikulov.ipynb",
      "provenance": []
    },
    "kernelspec": {
      "display_name": "Python 3 (ipykernel)",
      "language": "python",
      "name": "python3"
    },
    "language_info": {
      "codemirror_mode": {
        "name": "ipython",
        "version": 3
      },
      "file_extension": ".py",
      "mimetype": "text/x-python",
      "name": "python",
      "nbconvert_exporter": "python",
      "pygments_lexer": "ipython3",
      "version": "3.8.12"
    },
    "toc": {
      "base_numbering": 1,
      "nav_menu": {
        "height": "121px",
        "width": "823px"
      },
      "number_sections": true,
      "sideBar": true,
      "skip_h1_title": false,
      "title_cell": "Table of Contents",
      "title_sidebar": "Contents",
      "toc_cell": false,
      "toc_position": {
        "height": "609px",
        "left": "25px",
        "top": "111.125px",
        "width": "341px"
      },
      "toc_section_display": true,
      "toc_window_display": false
    },
    "accelerator": "GPU",
    "widgets": {
      "application/vnd.jupyter.widget-state+json": {
        "1566926c25b54042b8ea25f9d3369a5a": {
          "model_module": "@jupyter-widgets/controls",
          "model_name": "HBoxModel",
          "model_module_version": "1.5.0",
          "state": {
            "_view_name": "HBoxView",
            "_dom_classes": [],
            "_model_name": "HBoxModel",
            "_view_module": "@jupyter-widgets/controls",
            "_model_module_version": "1.5.0",
            "_view_count": null,
            "_view_module_version": "1.5.0",
            "box_style": "",
            "layout": "IPY_MODEL_9630f895e98e4436ab91cb6664c7e160",
            "_model_module": "@jupyter-widgets/controls",
            "children": [
              "IPY_MODEL_31ee51329fdc44eb864de9045d9feb78",
              "IPY_MODEL_e6aea6553ba8488d9b7fd25108aa77cb",
              "IPY_MODEL_36d2153b5e3a4e78b3b5fa9c6b076636"
            ]
          }
        },
        "9630f895e98e4436ab91cb6664c7e160": {
          "model_module": "@jupyter-widgets/base",
          "model_name": "LayoutModel",
          "model_module_version": "1.2.0",
          "state": {
            "_view_name": "LayoutView",
            "grid_template_rows": null,
            "right": null,
            "justify_content": null,
            "_view_module": "@jupyter-widgets/base",
            "overflow": null,
            "_model_module_version": "1.2.0",
            "_view_count": null,
            "flex_flow": null,
            "width": null,
            "min_width": null,
            "border": null,
            "align_items": null,
            "bottom": null,
            "_model_module": "@jupyter-widgets/base",
            "top": null,
            "grid_column": null,
            "overflow_y": null,
            "overflow_x": null,
            "grid_auto_flow": null,
            "grid_area": null,
            "grid_template_columns": null,
            "flex": null,
            "_model_name": "LayoutModel",
            "justify_items": null,
            "grid_row": null,
            "max_height": null,
            "align_content": null,
            "visibility": null,
            "align_self": null,
            "height": null,
            "min_height": null,
            "padding": null,
            "grid_auto_rows": null,
            "grid_gap": null,
            "max_width": null,
            "order": null,
            "_view_module_version": "1.2.0",
            "grid_template_areas": null,
            "object_position": null,
            "object_fit": null,
            "grid_auto_columns": null,
            "margin": null,
            "display": null,
            "left": null
          }
        },
        "31ee51329fdc44eb864de9045d9feb78": {
          "model_module": "@jupyter-widgets/controls",
          "model_name": "HTMLModel",
          "model_module_version": "1.5.0",
          "state": {
            "_view_name": "HTMLView",
            "style": "IPY_MODEL_0f6ee03230a74d17b844a0e99f4e3229",
            "_dom_classes": [],
            "description": "",
            "_model_name": "HTMLModel",
            "placeholder": "​",
            "_view_module": "@jupyter-widgets/controls",
            "_model_module_version": "1.5.0",
            "value": "",
            "_view_count": null,
            "_view_module_version": "1.5.0",
            "description_tooltip": null,
            "_model_module": "@jupyter-widgets/controls",
            "layout": "IPY_MODEL_c1b4243d44834a2fa64eea5f764690a7"
          }
        },
        "e6aea6553ba8488d9b7fd25108aa77cb": {
          "model_module": "@jupyter-widgets/controls",
          "model_name": "FloatProgressModel",
          "model_module_version": "1.5.0",
          "state": {
            "_view_name": "ProgressView",
            "style": "IPY_MODEL_4cbac919d7654787aea97021218ffa94",
            "_dom_classes": [],
            "description": "",
            "_model_name": "FloatProgressModel",
            "bar_style": "success",
            "max": 170498071,
            "_view_module": "@jupyter-widgets/controls",
            "_model_module_version": "1.5.0",
            "value": 170498071,
            "_view_count": null,
            "_view_module_version": "1.5.0",
            "orientation": "horizontal",
            "min": 0,
            "description_tooltip": null,
            "_model_module": "@jupyter-widgets/controls",
            "layout": "IPY_MODEL_e9c0848426f94c9b9b099629c86fe408"
          }
        },
        "36d2153b5e3a4e78b3b5fa9c6b076636": {
          "model_module": "@jupyter-widgets/controls",
          "model_name": "HTMLModel",
          "model_module_version": "1.5.0",
          "state": {
            "_view_name": "HTMLView",
            "style": "IPY_MODEL_afab06e347a04d0b863c3f9fc9f5033b",
            "_dom_classes": [],
            "description": "",
            "_model_name": "HTMLModel",
            "placeholder": "​",
            "_view_module": "@jupyter-widgets/controls",
            "_model_module_version": "1.5.0",
            "value": " 170499072/? [00:02&lt;00:00, 67683420.68it/s]",
            "_view_count": null,
            "_view_module_version": "1.5.0",
            "description_tooltip": null,
            "_model_module": "@jupyter-widgets/controls",
            "layout": "IPY_MODEL_ca959913ebf04f3db452e44751ae6d11"
          }
        },
        "0f6ee03230a74d17b844a0e99f4e3229": {
          "model_module": "@jupyter-widgets/controls",
          "model_name": "DescriptionStyleModel",
          "model_module_version": "1.5.0",
          "state": {
            "_view_name": "StyleView",
            "_model_name": "DescriptionStyleModel",
            "description_width": "",
            "_view_module": "@jupyter-widgets/base",
            "_model_module_version": "1.5.0",
            "_view_count": null,
            "_view_module_version": "1.2.0",
            "_model_module": "@jupyter-widgets/controls"
          }
        },
        "c1b4243d44834a2fa64eea5f764690a7": {
          "model_module": "@jupyter-widgets/base",
          "model_name": "LayoutModel",
          "model_module_version": "1.2.0",
          "state": {
            "_view_name": "LayoutView",
            "grid_template_rows": null,
            "right": null,
            "justify_content": null,
            "_view_module": "@jupyter-widgets/base",
            "overflow": null,
            "_model_module_version": "1.2.0",
            "_view_count": null,
            "flex_flow": null,
            "width": null,
            "min_width": null,
            "border": null,
            "align_items": null,
            "bottom": null,
            "_model_module": "@jupyter-widgets/base",
            "top": null,
            "grid_column": null,
            "overflow_y": null,
            "overflow_x": null,
            "grid_auto_flow": null,
            "grid_area": null,
            "grid_template_columns": null,
            "flex": null,
            "_model_name": "LayoutModel",
            "justify_items": null,
            "grid_row": null,
            "max_height": null,
            "align_content": null,
            "visibility": null,
            "align_self": null,
            "height": null,
            "min_height": null,
            "padding": null,
            "grid_auto_rows": null,
            "grid_gap": null,
            "max_width": null,
            "order": null,
            "_view_module_version": "1.2.0",
            "grid_template_areas": null,
            "object_position": null,
            "object_fit": null,
            "grid_auto_columns": null,
            "margin": null,
            "display": null,
            "left": null
          }
        },
        "4cbac919d7654787aea97021218ffa94": {
          "model_module": "@jupyter-widgets/controls",
          "model_name": "ProgressStyleModel",
          "model_module_version": "1.5.0",
          "state": {
            "_view_name": "StyleView",
            "_model_name": "ProgressStyleModel",
            "description_width": "",
            "_view_module": "@jupyter-widgets/base",
            "_model_module_version": "1.5.0",
            "_view_count": null,
            "_view_module_version": "1.2.0",
            "bar_color": null,
            "_model_module": "@jupyter-widgets/controls"
          }
        },
        "e9c0848426f94c9b9b099629c86fe408": {
          "model_module": "@jupyter-widgets/base",
          "model_name": "LayoutModel",
          "model_module_version": "1.2.0",
          "state": {
            "_view_name": "LayoutView",
            "grid_template_rows": null,
            "right": null,
            "justify_content": null,
            "_view_module": "@jupyter-widgets/base",
            "overflow": null,
            "_model_module_version": "1.2.0",
            "_view_count": null,
            "flex_flow": null,
            "width": null,
            "min_width": null,
            "border": null,
            "align_items": null,
            "bottom": null,
            "_model_module": "@jupyter-widgets/base",
            "top": null,
            "grid_column": null,
            "overflow_y": null,
            "overflow_x": null,
            "grid_auto_flow": null,
            "grid_area": null,
            "grid_template_columns": null,
            "flex": null,
            "_model_name": "LayoutModel",
            "justify_items": null,
            "grid_row": null,
            "max_height": null,
            "align_content": null,
            "visibility": null,
            "align_self": null,
            "height": null,
            "min_height": null,
            "padding": null,
            "grid_auto_rows": null,
            "grid_gap": null,
            "max_width": null,
            "order": null,
            "_view_module_version": "1.2.0",
            "grid_template_areas": null,
            "object_position": null,
            "object_fit": null,
            "grid_auto_columns": null,
            "margin": null,
            "display": null,
            "left": null
          }
        },
        "afab06e347a04d0b863c3f9fc9f5033b": {
          "model_module": "@jupyter-widgets/controls",
          "model_name": "DescriptionStyleModel",
          "model_module_version": "1.5.0",
          "state": {
            "_view_name": "StyleView",
            "_model_name": "DescriptionStyleModel",
            "description_width": "",
            "_view_module": "@jupyter-widgets/base",
            "_model_module_version": "1.5.0",
            "_view_count": null,
            "_view_module_version": "1.2.0",
            "_model_module": "@jupyter-widgets/controls"
          }
        },
        "ca959913ebf04f3db452e44751ae6d11": {
          "model_module": "@jupyter-widgets/base",
          "model_name": "LayoutModel",
          "model_module_version": "1.2.0",
          "state": {
            "_view_name": "LayoutView",
            "grid_template_rows": null,
            "right": null,
            "justify_content": null,
            "_view_module": "@jupyter-widgets/base",
            "overflow": null,
            "_model_module_version": "1.2.0",
            "_view_count": null,
            "flex_flow": null,
            "width": null,
            "min_width": null,
            "border": null,
            "align_items": null,
            "bottom": null,
            "_model_module": "@jupyter-widgets/base",
            "top": null,
            "grid_column": null,
            "overflow_y": null,
            "overflow_x": null,
            "grid_auto_flow": null,
            "grid_area": null,
            "grid_template_columns": null,
            "flex": null,
            "_model_name": "LayoutModel",
            "justify_items": null,
            "grid_row": null,
            "max_height": null,
            "align_content": null,
            "visibility": null,
            "align_self": null,
            "height": null,
            "min_height": null,
            "padding": null,
            "grid_auto_rows": null,
            "grid_gap": null,
            "max_width": null,
            "order": null,
            "_view_module_version": "1.2.0",
            "grid_template_areas": null,
            "object_position": null,
            "object_fit": null,
            "grid_auto_columns": null,
            "margin": null,
            "display": null,
            "left": null
          }
        }
      }
    }
  },
  "nbformat": 4,
  "nbformat_minor": 0
}