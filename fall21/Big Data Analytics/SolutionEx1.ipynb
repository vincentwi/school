{
 "cells": [
  {
   "cell_type": "markdown",
   "metadata": {},
   "source": [
    "### Homework 3: Text similarity\n",
    "\n",
    "\n",
    "\n",
    "## Excercise 1\n",
    "\n",
    "We will start by writing a simple similarity-matching function that computes the similarity between two input strings.\n",
    "\n",
    "\n"
   ]
  },
  {
   "cell_type": "markdown",
   "metadata": {},
   "source": [
    "Initialize a score variable, and set it to 0:"
   ]
  },
  {
   "cell_type": "code",
   "execution_count": 1,
   "metadata": {},
   "outputs": [],
   "source": [
    "score = 0.0"
   ]
  },
  {
   "cell_type": "markdown",
   "metadata": {},
   "source": [
    "Split text into elements. Write a function to convert the input text into elements of three characters."
   ]
  },
  {
   "cell_type": "code",
   "execution_count": 2,
   "metadata": {},
   "outputs": [],
   "source": [
    "shingles = lambda s: set(s[i:i+3] for i in range(len(s)-2))"
   ]
  },
  {
   "cell_type": "markdown",
   "metadata": {},
   "source": [
    "test out the results by running the following code:"
   ]
  },
  {
   "cell_type": "code",
   "execution_count": 5,
   "metadata": {},
   "outputs": [
    {
     "name": "stdout",
     "output_type": "stream",
     "text": [
      "{'ere', 'her', 'How', 'e y', 'llo', 'Hel', ' th', 'ow ', 'the', 'lo,', 'u ?', '! H', 'w a', ' yo', ' ! ', ' Ho', 'ou ', 'ell', ' ar', 'are', 'o, ', 're ', ', t', 'you', 'e !'}\n"
     ]
    }
   ],
   "source": [
    "print(shingles('Hello, there ! How are you ?'))"
   ]
  },
  {
   "cell_type": "markdown",
   "metadata": {},
   "source": [
    "Calculate Jaccard distance. Create an anonymous function that accepts two inputs."
   ]
  },
  {
   "cell_type": "code",
   "execution_count": 6,
   "metadata": {},
   "outputs": [],
   "source": [
    "jaccard_distance = lambda seta, setb: len(seta & setb)/float(len(seta | setb))"
   ]
  },
  {
   "cell_type": "code",
   "execution_count": 7,
   "metadata": {},
   "outputs": [],
   "source": [
    "def minhash(input_question, compare_question):\n",
    "    score = 0.0\n",
    "    shingles = lambda s: set(s[i:i+3] for i in range(len(s)-2))\n",
    "    jaccard_distance = lambda seta, setb: len(seta & setb)/float(len(seta | setb))\n",
    "    #main code (inside a try except call)\n",
    "    try:\n",
    "        score = jaccard_distance(shingles(input_question), shingles(compare_question))\n",
    "    except ZeroDivisionError:\n",
    "        print('ZeroDivisionError')\n",
    "#The last step is to return the score.\n",
    "    return score"
   ]
  },
  {
   "cell_type": "code",
   "execution_count": 8,
   "metadata": {},
   "outputs": [
    {
     "name": "stdout",
     "output_type": "stream",
     "text": [
      "0.1\n",
      "0.5384615384615384\n"
     ]
    }
   ],
   "source": [
    "print(minhash('welcome to medium', 'medium is a publishing platform'))\n",
    "print(minhash('i have a cat', 'i have a dog'))"
   ]
  },
  {
   "cell_type": "markdown",
   "metadata": {},
   "source": [
    "Case sensitivity: he function we’ve just implemented is case sensitive. This means casing will affect the result of the similarity matching. The best way is to lower the casing to lowercase before calling the `minhash` function."
   ]
  },
  {
   "cell_type": "code",
   "execution_count": 9,
   "metadata": {},
   "outputs": [
    {
     "name": "stdout",
     "output_type": "stream",
     "text": [
      "0.1\n"
     ]
    }
   ],
   "source": [
    "input = 'Welcome to Medium'\n",
    "compare = 'Medium is a publishing platform'\n",
    "print(minhash(input.lower(), compare.lower()))"
   ]
  },
  {
   "cell_type": "code",
   "execution_count": 10,
   "metadata": {},
   "outputs": [
    {
     "name": "stdout",
     "output_type": "stream",
     "text": [
      "0.7756563245823389\n"
     ]
    }
   ],
   "source": [
    "input='In computer science and data mining, MinHash (or the min-wise independent permutations locality sensitive hashing scheme) is a technique for quickly estimating how similar two sets are. The scheme was invented by Andrei Broder (1997), and initially used in the AltaVista search engine to detect duplicate web pages and eliminate them from search results. It has also been applied in large-scale clustering problems, such as clustering documents by the similarity of their sets of words.[1]'\n",
    "compare='In massive data mining and computer science, MinHash (or the min-wise independent permutations locality sensitive hashing scheme) is a popular technique for  estimating how similar two sets are. The scheme was first introduced by A. Broder in 1997, and first used in the AltaVista search engine to detect duplicate web pages and eliminate them from search results. It can be also applied in large-scale clustering problems, such as clustering documents by the similarity of their sets of words.[1]'\n",
    "print(minhash(input.lower(), compare.lower()))"
   ]
  },
  {
   "cell_type": "code",
   "execution_count": 11,
   "metadata": {},
   "outputs": [
    {
     "name": "stdout",
     "output_type": "stream",
     "text": [
      "0.5541666666666667\n"
     ]
    }
   ],
   "source": [
    "input='In computer science and data mining, MinHash (or the min-wise independent permutations locality sensitive hashing scheme) is a technique for quickly estimating how similar two sets are. The scheme was invented by Andrei Broder (1997), and initially used in the AltaVista search engine to detect duplicate web pages and eliminate them from search results. It has also been applied in large-scale clustering problems, such as clustering documents by the similarity of their sets of words.[1]'\n",
    "compare='In Big Data Analytics, Min Hashing, which also called the min-wise independent permutations locality sensitive hashing scheme, is a  technique that is used to  estimate how similar two sets are. This method was first introduced by A. Broder in 1997. in particular, it was used in the AltaVista search engine in order to eliminate the duplicate web pages a from search results. Another application of this method is large-scale clustering problems. For example, clustering documents by  their lexical similarity.[1]'\n",
    "print(minhash(input.lower(), compare.lower()))"
   ]
  },
  {
   "cell_type": "code",
   "execution_count": 12,
   "metadata": {},
   "outputs": [
    {
     "name": "stdout",
     "output_type": "stream",
     "text": [
      "0.1838074398249453\n"
     ]
    }
   ],
   "source": [
    "input='In computer science and data mining, MinHash (or the min-wise independent permutations locality sensitive hashing scheme) is a technique for quickly estimating how similar two sets are. The scheme was invented by Andrei Broder (1997), and initially used in the AltaVista search engine to detect duplicate web pages and eliminate them from search results. It has also been applied in large-scale clustering problems, such as clustering documents by the similarity of their sets of words.[1]'\n",
    "compare='The Jaccard similarity coefficient is a commonly used indicator of the similarity between two sets. Let U be a set and A and B be subsets of U, then the Jaccard index is defined to be the ratio of the number of elements of their intersection and the number of elements of their union.'\n",
    "print(minhash(input.lower(), compare.lower()))"
   ]
  },
  {
   "cell_type": "code",
   "execution_count": 13,
   "metadata": {},
   "outputs": [
    {
     "name": "stdout",
     "output_type": "stream",
     "text": [
      "0.12987012987012986\n"
     ]
    }
   ],
   "source": [
    "input='Computer science and Data Mining'\n",
    "compare='One of the primary foundations of Machine Learning is Data Mining'\n",
    "print(minhash(input.lower(), compare.lower()))"
   ]
  },
  {
   "cell_type": "code",
   "execution_count": 17,
   "metadata": {},
   "outputs": [
    {
     "name": "stdout",
     "output_type": "stream",
     "text": [
      "0.2077922077922078\n"
     ]
    }
   ],
   "source": [
    "input=\"Computer science and Machine Learning \" \n",
    "\n",
    "compare=\"One of the primary foundations of Machine Learning is Data Mining\"\n",
    "print(minhash(input.lower(), compare.lower()))"
   ]
  },
  {
   "cell_type": "code",
   "execution_count": null,
   "metadata": {},
   "outputs": [],
   "source": []
  },
  {
   "cell_type": "code",
   "execution_count": null,
   "metadata": {},
   "outputs": [],
   "source": []
  },
  {
   "cell_type": "code",
   "execution_count": null,
   "metadata": {},
   "outputs": [],
   "source": []
  },
  {
   "cell_type": "code",
   "execution_count": null,
   "metadata": {},
   "outputs": [],
   "source": []
  },
  {
   "cell_type": "code",
   "execution_count": null,
   "metadata": {},
   "outputs": [],
   "source": []
  }
 ],
 "metadata": {
  "kernelspec": {
   "display_name": "Python 3",
   "language": "python",
   "name": "python3"
  },
  "language_info": {
   "codemirror_mode": {
    "name": "ipython",
    "version": 3
   },
   "file_extension": ".py",
   "mimetype": "text/x-python",
   "name": "python",
   "nbconvert_exporter": "python",
   "pygments_lexer": "ipython3",
   "version": "3.9.7"
  },
  "latex_envs": {
   "LaTeX_envs_menu_present": true,
   "autoclose": false,
   "autocomplete": true,
   "bibliofile": "biblio.bib",
   "cite_by": "apalike",
   "current_citInitial": 1,
   "eqLabelWithNumbers": true,
   "eqNumInitial": 1,
   "hotkeys": {
    "equation": "Ctrl-E",
    "itemize": "Ctrl-I"
   },
   "labels_anchors": false,
   "latex_user_defs": false,
   "report_style_numbering": false,
   "user_envs_cfg": false
  }
 },
 "nbformat": 4,
 "nbformat_minor": 4
}
