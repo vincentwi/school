{
 "cells": [
  {
   "cell_type": "code",
   "execution_count": 1,
   "id": "musical-processing",
   "metadata": {},
   "outputs": [],
   "source": [
    "s = \"Computer science and Data Mining\" \n",
    "s2= \"One of the primary foundations of Machine Learning is Data Mining\""
   ]
  },
  {
   "cell_type": "code",
   "execution_count": 3,
   "id": "interracial-enhancement",
   "metadata": {},
   "outputs": [],
   "source": [
    "unions = set(s).union(set(s2))"
   ]
  },
  {
   "cell_type": "code",
   "execution_count": 8,
   "id": "regulated-novelty",
   "metadata": {},
   "outputs": [
    {
     "data": {
      "text/plain": [
       "0.7391304347826086"
      ]
     },
     "execution_count": 8,
     "metadata": {},
     "output_type": "execute_result"
    }
   ],
   "source": [
    "len(ssw)/len(unions)"
   ]
  },
  {
   "cell_type": "code",
   "execution_count": 10,
   "id": "invisible-essex",
   "metadata": {},
   "outputs": [],
   "source": [
    "u= ''.join(unions)"
   ]
  },
  {
   "cell_type": "code",
   "execution_count": 11,
   "id": "responsible-knitting",
   "metadata": {},
   "outputs": [
    {
     "data": {
      "text/plain": [
       "'MD csCtLguoiOyrmhaefnpd'"
      ]
     },
     "execution_count": 11,
     "metadata": {},
     "output_type": "execute_result"
    }
   ],
   "source": [
    "u"
   ]
  },
  {
   "cell_type": "code",
   "execution_count": 13,
   "id": "practical-dimension",
   "metadata": {},
   "outputs": [
    {
     "data": {
      "text/plain": [
       "0.7391304347826086"
      ]
     },
     "execution_count": 13,
     "metadata": {},
     "output_type": "execute_result"
    }
   ],
   "source": [
    "len(ssw)/len(u)"
   ]
  },
  {
   "cell_type": "code",
   "execution_count": null,
   "id": "enhanced-engagement",
   "metadata": {},
   "outputs": [],
   "source": []
  }
 ],
 "metadata": {
  "kernelspec": {
   "display_name": "Python 3",
   "language": "python",
   "name": "python3"
  },
  "language_info": {
   "codemirror_mode": {
    "name": "ipython",
    "version": 3
   },
   "file_extension": ".py",
   "mimetype": "text/x-python",
   "name": "python",
   "nbconvert_exporter": "python",
   "pygments_lexer": "ipython3",
   "version": "3.9.7"
  },
  "latex_envs": {
   "LaTeX_envs_menu_present": true,
   "autoclose": false,
   "autocomplete": true,
   "bibliofile": "biblio.bib",
   "cite_by": "apalike",
   "current_citInitial": 1,
   "eqLabelWithNumbers": true,
   "eqNumInitial": 1,
   "hotkeys": {
    "equation": "Ctrl-E",
    "itemize": "Ctrl-I"
   },
   "labels_anchors": false,
   "latex_user_defs": false,
   "report_style_numbering": false,
   "user_envs_cfg": false
  }
 },
 "nbformat": 4,
 "nbformat_minor": 5
}
