{
 "cells": [
  {
   "cell_type": "markdown",
   "metadata": {
    "ein.tags": [
     "worksheet-0"
    ],
    "id": "eOeG1er1Sjum"
   },
   "source": [
    "<h6><center>Big Data Algorithms Techniques & Platforms</center></h6>\n",
    "\n",
    "<h1>\n",
    "<hr style=\" border:none; height:3px;\">\n",
    "<center>Assignment 1: Introduction to MapReduce</center>\n",
    "<hr style=\" border:none; height:3px;\">\n",
    "</h1>\n",
    "\n",
    "\n",
    "# <strong> Important </strong>\n",
    "\n",
    "For this assignment, as you did in the first lab, do not use the native fuctions <code>map()</code> and <code>reduce()</code> of Python.\n",
    "\n",
    "\n",
    "<hr>\n",
    "\n"
   ]
  },
  {
   "cell_type": "markdown",
   "metadata": {
    "id": "KTePkMCiSjun"
   },
   "source": [
    "## Flights and Airports Data\n",
    "\n",
    "For this assignment you are going to analyze a dataset that will include flight data.\n",
    "\n",
    "The dataset comes from <a href=\"https://www.kaggle.com/flashgordon/usa-airport-dataset\">Kaggle</a> and is presented here as an extract called <code>extract_flights.csv</code>\n",
    "\n",
    "The dataset is in a <code>.csv</code> file. Each line of the file represents a different flight. The data collected contain:\n",
    "\n",
    "\n",
    "<code>Origin_airport</code>: Three letter airport code of the origin airport </br>\n",
    "<code>Destination_airport</code>: Three letter airport code of the destination airport</br>\n",
    "<code>Origin_city</code>: Origin city name</br>\n",
    "<code>Destination_city</code>: Destination city name</br>\n",
    "<code>Passengers</code>: Number of passengers transported from origin to destination</br>\n",
    "<code>Seats</code>: Number of seats available on flights from origin to destination</br>\n",
    "<code>Flights</code>: Number of flights between origin and destination (multiple records for one month, many with flights > 1)</br>\n",
    "<code>Distance</code>: Distance (to nearest mile) flown between origin and destination</br>\n",
    "<code>Fly_date</code>: The date (yyyymm) of flight</br>\n",
    "<code>Origin_population</code>: Origin city's population as reported by US Census</br>\n",
    "<code>Destination_population</code>: Destination city's population as reported by US Census</br>\n",
    "\n",
    "\n",
    "Two files are available in the folder:\n",
    "\n",
    "<ul>\n",
    "  <li> <code> small_file.csv</code> </li>\n",
    "  <li> <code> medium_file.csv</code> </li>\n",
    "</ul>\n",
    "\n",
    "For more complex analysis/statistics you can also download the original file available on kaggle.\n",
    "\n"
   ]
  },
  {
   "cell_type": "markdown",
   "metadata": {
    "id": "cSGllJ6IJufD"
   },
   "source": [
    "### Helper function ... just in case\n",
    "\n",
    "Here is a function that you can modify, reuse, not-use for giving you an idea about how to read a <code>.csv</code> file and remove the header."
   ]
  },
  {
   "cell_type": "code",
   "execution_count": 81,
   "metadata": {
    "colab": {
     "base_uri": "https://localhost:8080/"
    },
    "id": "0QkQIs-PHxMU",
    "outputId": "068ea058-c173-412b-ee25-d743bafdeb35"
   },
   "outputs": [
    {
     "name": "stdout",
     "output_type": "stream",
     "text": [
      "file correctly saved\n"
     ]
    }
   ],
   "source": [
    "# Here a simple function that reads a .csv file, removes the header,\n",
    "# and writes the output on a .txt file having the same name of the input file + the keyword \"no_header\"\n",
    "# input: a csv file\n",
    "def remove_header(filename) :\n",
    "    with open(filename + \".csv\",'r') as f:\n",
    "        with open(filename + \"no_header.txt\",'w') as f1:\n",
    "            next(f) # skip header line\n",
    "            for line in f:\n",
    "                f1.write(line)\n",
    "    return f1\n",
    "\n",
    "remove_header('/Users/viceroy/Downloads/assignment_1_airports/data/small_file')\n",
    "print(\"file correctly saved\")\n"
   ]
  },
  {
   "cell_type": "code",
   "execution_count": 82,
   "metadata": {},
   "outputs": [],
   "source": [
    "import pandas as pd\n",
    "import numpy as np\n",
    "from collections import defaultdict"
   ]
  },
  {
   "cell_type": "code",
   "execution_count": 83,
   "metadata": {
    "scrolled": true
   },
   "outputs": [
    {
     "data": {
      "text/html": [
       "<div>\n",
       "<style scoped>\n",
       "    .dataframe tbody tr th:only-of-type {\n",
       "        vertical-align: middle;\n",
       "    }\n",
       "\n",
       "    .dataframe tbody tr th {\n",
       "        vertical-align: top;\n",
       "    }\n",
       "\n",
       "    .dataframe thead th {\n",
       "        text-align: right;\n",
       "    }\n",
       "</style>\n",
       "<table border=\"1\" class=\"dataframe\">\n",
       "  <thead>\n",
       "    <tr style=\"text-align: right;\">\n",
       "      <th></th>\n",
       "      <th>Origin_airport</th>\n",
       "      <th>Destination_airport</th>\n",
       "      <th>Origin_city</th>\n",
       "      <th>Destination_city</th>\n",
       "      <th>Passengers</th>\n",
       "      <th>Seats</th>\n",
       "      <th>Flights</th>\n",
       "      <th>Distance</th>\n",
       "      <th>Fly_date</th>\n",
       "      <th>Origin_population</th>\n",
       "      <th>Destination_population</th>\n",
       "      <th>Org_airport_lat</th>\n",
       "      <th>Org_airport_long</th>\n",
       "      <th>Dest_airport_lat</th>\n",
       "      <th>Dest_airport_long</th>\n",
       "    </tr>\n",
       "  </thead>\n",
       "  <tbody>\n",
       "    <tr>\n",
       "      <th>4527</th>\n",
       "      <td>SEA</td>\n",
       "      <td>EKO</td>\n",
       "      <td>Seattle, WA</td>\n",
       "      <td>Elko, NV</td>\n",
       "      <td>742</td>\n",
       "      <td>868</td>\n",
       "      <td>7</td>\n",
       "      <td>560</td>\n",
       "      <td>1996-08-01</td>\n",
       "      <td>5621538</td>\n",
       "      <td>45034</td>\n",
       "      <td>47.449001</td>\n",
       "      <td>-122.308998</td>\n",
       "      <td>40.824902</td>\n",
       "      <td>-115.792</td>\n",
       "    </tr>\n",
       "    <tr>\n",
       "      <th>9611</th>\n",
       "      <td>SLC</td>\n",
       "      <td>EKO</td>\n",
       "      <td>Salt Lake City, UT</td>\n",
       "      <td>Elko, NV</td>\n",
       "      <td>1632</td>\n",
       "      <td>3540</td>\n",
       "      <td>118</td>\n",
       "      <td>200</td>\n",
       "      <td>2009-11-01</td>\n",
       "      <td>1130293</td>\n",
       "      <td>49603</td>\n",
       "      <td>40.788399</td>\n",
       "      <td>-111.977997</td>\n",
       "      <td>40.824902</td>\n",
       "      <td>-115.792</td>\n",
       "    </tr>\n",
       "    <tr>\n",
       "      <th>5646</th>\n",
       "      <td>CRP</td>\n",
       "      <td>EKO</td>\n",
       "      <td>Corpus Christi, TX</td>\n",
       "      <td>Elko, NV</td>\n",
       "      <td>113</td>\n",
       "      <td>124</td>\n",
       "      <td>1</td>\n",
       "      <td>1375</td>\n",
       "      <td>1998-08-01</td>\n",
       "      <td>409279</td>\n",
       "      <td>48011</td>\n",
       "      <td>27.770399</td>\n",
       "      <td>-97.501198</td>\n",
       "      <td>40.824902</td>\n",
       "      <td>-115.792</td>\n",
       "    </tr>\n",
       "    <tr>\n",
       "      <th>6087</th>\n",
       "      <td>OKC</td>\n",
       "      <td>EKO</td>\n",
       "      <td>Oklahoma City, OK</td>\n",
       "      <td>Elko, NV</td>\n",
       "      <td>121</td>\n",
       "      <td>121</td>\n",
       "      <td>1</td>\n",
       "      <td>1057</td>\n",
       "      <td>1999-08-01</td>\n",
       "      <td>1061524</td>\n",
       "      <td>47319</td>\n",
       "      <td>35.393101</td>\n",
       "      <td>-97.600700</td>\n",
       "      <td>40.824902</td>\n",
       "      <td>-115.792</td>\n",
       "    </tr>\n",
       "    <tr>\n",
       "      <th>3856</th>\n",
       "      <td>FSM</td>\n",
       "      <td>EKO</td>\n",
       "      <td>Fort Smith, AR</td>\n",
       "      <td>Elko, NV</td>\n",
       "      <td>124</td>\n",
       "      <td>124</td>\n",
       "      <td>1</td>\n",
       "      <td>1224</td>\n",
       "      <td>1995-06-01</td>\n",
       "      <td>249759</td>\n",
       "      <td>42918</td>\n",
       "      <td>35.336601</td>\n",
       "      <td>-94.367401</td>\n",
       "      <td>40.824902</td>\n",
       "      <td>-115.792</td>\n",
       "    </tr>\n",
       "  </tbody>\n",
       "</table>\n",
       "</div>"
      ],
      "text/plain": [
       "     Origin_airport Destination_airport         Origin_city Destination_city  \\\n",
       "4527            SEA                 EKO         Seattle, WA         Elko, NV   \n",
       "9611            SLC                 EKO  Salt Lake City, UT         Elko, NV   \n",
       "5646            CRP                 EKO  Corpus Christi, TX         Elko, NV   \n",
       "6087            OKC                 EKO   Oklahoma City, OK         Elko, NV   \n",
       "3856            FSM                 EKO      Fort Smith, AR         Elko, NV   \n",
       "\n",
       "      Passengers  Seats  Flights  Distance    Fly_date  Origin_population  \\\n",
       "4527         742    868        7       560  1996-08-01            5621538   \n",
       "9611        1632   3540      118       200  2009-11-01            1130293   \n",
       "5646         113    124        1      1375  1998-08-01             409279   \n",
       "6087         121    121        1      1057  1999-08-01            1061524   \n",
       "3856         124    124        1      1224  1995-06-01             249759   \n",
       "\n",
       "      Destination_population  Org_airport_lat  Org_airport_long  \\\n",
       "4527                   45034        47.449001       -122.308998   \n",
       "9611                   49603        40.788399       -111.977997   \n",
       "5646                   48011        27.770399        -97.501198   \n",
       "6087                   47319        35.393101        -97.600700   \n",
       "3856                   42918        35.336601        -94.367401   \n",
       "\n",
       "      Dest_airport_lat  Dest_airport_long  \n",
       "4527         40.824902           -115.792  \n",
       "9611         40.824902           -115.792  \n",
       "5646         40.824902           -115.792  \n",
       "6087         40.824902           -115.792  \n",
       "3856         40.824902           -115.792  "
      ]
     },
     "execution_count": 83,
     "metadata": {},
     "output_type": "execute_result"
    }
   ],
   "source": [
    "#using pandas to visualize/store data\n",
    "#one could argue that it takes up (local) RAM but it is the same procedureas the above \"remove header\"\n",
    "#since the data is still stored in a .txt file on (local) RAM\n",
    "df = pd.read_csv('/Users/viceroy/Downloads/assignment_1_airports/data/small_file.csv')\n",
    "df.sample(5)"
   ]
  },
  {
   "cell_type": "code",
   "execution_count": 84,
   "metadata": {},
   "outputs": [
    {
     "data": {
      "text/html": [
       "<div>\n",
       "<style scoped>\n",
       "    .dataframe tbody tr th:only-of-type {\n",
       "        vertical-align: middle;\n",
       "    }\n",
       "\n",
       "    .dataframe tbody tr th {\n",
       "        vertical-align: top;\n",
       "    }\n",
       "\n",
       "    .dataframe thead th {\n",
       "        text-align: right;\n",
       "    }\n",
       "</style>\n",
       "<table border=\"1\" class=\"dataframe\">\n",
       "  <thead>\n",
       "    <tr style=\"text-align: right;\">\n",
       "      <th></th>\n",
       "      <th>Origin_airport</th>\n",
       "      <th>Destination_airport</th>\n",
       "      <th>Origin_city</th>\n",
       "      <th>Destination_city</th>\n",
       "      <th>Passengers</th>\n",
       "      <th>Seats</th>\n",
       "      <th>Flights</th>\n",
       "      <th>Distance</th>\n",
       "      <th>Fly_date</th>\n",
       "      <th>Origin_population</th>\n",
       "      <th>Destination_population</th>\n",
       "      <th>Org_airport_lat</th>\n",
       "      <th>Org_airport_long</th>\n",
       "      <th>Dest_airport_lat</th>\n",
       "      <th>Dest_airport_long</th>\n",
       "    </tr>\n",
       "  </thead>\n",
       "  <tbody>\n",
       "    <tr>\n",
       "      <th>23723</th>\n",
       "      <td>SFO</td>\n",
       "      <td>RNO</td>\n",
       "      <td>San Francisco, CA</td>\n",
       "      <td>Reno, NV</td>\n",
       "      <td>2815</td>\n",
       "      <td>4388</td>\n",
       "      <td>34</td>\n",
       "      <td>192</td>\n",
       "      <td>2003-04-01</td>\n",
       "      <td>8306286</td>\n",
       "      <td>374743</td>\n",
       "      <td>37.618999</td>\n",
       "      <td>-122.375000</td>\n",
       "      <td>39.499100</td>\n",
       "      <td>-119.767998</td>\n",
       "    </tr>\n",
       "    <tr>\n",
       "      <th>94195</th>\n",
       "      <td>EWR</td>\n",
       "      <td>MIA</td>\n",
       "      <td>Newark, NJ</td>\n",
       "      <td>Miami, FL</td>\n",
       "      <td>15115</td>\n",
       "      <td>17290</td>\n",
       "      <td>92</td>\n",
       "      <td>1086</td>\n",
       "      <td>2009-07-01</td>\n",
       "      <td>19069796</td>\n",
       "      <td>11094102</td>\n",
       "      <td>40.692501</td>\n",
       "      <td>-74.168701</td>\n",
       "      <td>25.793200</td>\n",
       "      <td>-80.290604</td>\n",
       "    </tr>\n",
       "    <tr>\n",
       "      <th>46379</th>\n",
       "      <td>PIR</td>\n",
       "      <td>HON</td>\n",
       "      <td>Pierre, SD</td>\n",
       "      <td>Huron, SD</td>\n",
       "      <td>246</td>\n",
       "      <td>1007</td>\n",
       "      <td>53</td>\n",
       "      <td>102</td>\n",
       "      <td>2008-05-01</td>\n",
       "      <td>19555</td>\n",
       "      <td>15946</td>\n",
       "      <td>44.382702</td>\n",
       "      <td>-100.286003</td>\n",
       "      <td>44.385201</td>\n",
       "      <td>-98.228500</td>\n",
       "    </tr>\n",
       "    <tr>\n",
       "      <th>87823</th>\n",
       "      <td>PHX</td>\n",
       "      <td>MIA</td>\n",
       "      <td>Phoenix, AZ</td>\n",
       "      <td>Miami, FL</td>\n",
       "      <td>3311</td>\n",
       "      <td>3720</td>\n",
       "      <td>30</td>\n",
       "      <td>1972</td>\n",
       "      <td>2006-03-01</td>\n",
       "      <td>4046571</td>\n",
       "      <td>10933486</td>\n",
       "      <td>33.434299</td>\n",
       "      <td>-112.012001</td>\n",
       "      <td>25.793200</td>\n",
       "      <td>-80.290604</td>\n",
       "    </tr>\n",
       "    <tr>\n",
       "      <th>31701</th>\n",
       "      <td>PHX</td>\n",
       "      <td>YUM</td>\n",
       "      <td>Phoenix, AZ</td>\n",
       "      <td>Yuma, AZ</td>\n",
       "      <td>4127</td>\n",
       "      <td>6669</td>\n",
       "      <td>351</td>\n",
       "      <td>160</td>\n",
       "      <td>1997-01-01</td>\n",
       "      <td>2841395</td>\n",
       "      <td>129070</td>\n",
       "      <td>33.434299</td>\n",
       "      <td>-112.012001</td>\n",
       "      <td>32.656601</td>\n",
       "      <td>-114.606003</td>\n",
       "    </tr>\n",
       "  </tbody>\n",
       "</table>\n",
       "</div>"
      ],
      "text/plain": [
       "      Origin_airport Destination_airport        Origin_city Destination_city  \\\n",
       "23723            SFO                 RNO  San Francisco, CA         Reno, NV   \n",
       "94195            EWR                 MIA         Newark, NJ        Miami, FL   \n",
       "46379            PIR                 HON         Pierre, SD        Huron, SD   \n",
       "87823            PHX                 MIA        Phoenix, AZ        Miami, FL   \n",
       "31701            PHX                 YUM        Phoenix, AZ         Yuma, AZ   \n",
       "\n",
       "       Passengers  Seats  Flights  Distance    Fly_date  Origin_population  \\\n",
       "23723        2815   4388       34       192  2003-04-01            8306286   \n",
       "94195       15115  17290       92      1086  2009-07-01           19069796   \n",
       "46379         246   1007       53       102  2008-05-01              19555   \n",
       "87823        3311   3720       30      1972  2006-03-01            4046571   \n",
       "31701        4127   6669      351       160  1997-01-01            2841395   \n",
       "\n",
       "       Destination_population  Org_airport_lat  Org_airport_long  \\\n",
       "23723                  374743        37.618999       -122.375000   \n",
       "94195                11094102        40.692501        -74.168701   \n",
       "46379                   15946        44.382702       -100.286003   \n",
       "87823                10933486        33.434299       -112.012001   \n",
       "31701                  129070        33.434299       -112.012001   \n",
       "\n",
       "       Dest_airport_lat  Dest_airport_long  \n",
       "23723         39.499100        -119.767998  \n",
       "94195         25.793200         -80.290604  \n",
       "46379         44.385201         -98.228500  \n",
       "87823         25.793200         -80.290604  \n",
       "31701         32.656601        -114.606003  "
      ]
     },
     "execution_count": 84,
     "metadata": {},
     "output_type": "execute_result"
    }
   ],
   "source": [
    "df_medium = pd.read_csv('/Users/viceroy/Downloads/assignment_1_airports/data/medium_file.csv')\n",
    "df_medium.sample(5)"
   ]
  },
  {
   "cell_type": "markdown",
   "metadata": {
    "id": "RFD6BvLDNs4E"
   },
   "source": [
    "### <strong> Exercise 1 - Almost-empty flights</strong> \n",
    "#### <strong> 4 points </strong>\n",
    "Describe and define a MapReduce procedure that gives as output the number of flights that departed with 10% of capacity maximum (i.e. empty, 1%, 6%, etc.) . \n",
    "\n",
    "The output can be of any form you like. \n",
    "\n",
    "You can use any data structure you want to support your implementation.\n",
    "\n",
    "\n"
   ]
  },
  {
   "cell_type": "code",
   "execution_count": 85,
   "metadata": {
    "id": "trRDY4haSjuo"
   },
   "outputs": [
    {
     "name": "stdout",
     "output_type": "stream",
     "text": [
      "Small:  ('total empty flights', 1267)\n",
      "Medium:  ('total empty flights', 13812)\n"
     ]
    }
   ],
   "source": [
    "#The goal of this map function is to first take the ratio of Passengers/Seats\n",
    "#then append a pair(index, # of empty flights) if the condition is met (ratio[index] is less than 0.10)\n",
    "#thus res = a list of flights that had <10% capacity [ (row #, # of empty flights), ..., (row #, # of empty flights)] \n",
    "def map_e_flights(df):\n",
    "    res = []\n",
    "    ratio = df[\"Passengers\"]/df[\"Seats\"]\n",
    "    res.append([(i, df[\"Flights\"][i]) for i in df.index if (ratio[i] <= 0.1)])\n",
    "    return res \n",
    "\n",
    "#using res from above, we assign each index to be a key in the default dict, and # of empty flights to be it's value\n",
    "def shuffle_e_flights(inpt): \n",
    "    d = defaultdict(list)\n",
    "    for array in inpt : \n",
    "        for k, v in array:\n",
    "            d[k].append(v)\n",
    "    return d \n",
    "\n",
    "\n",
    "#finally, going through each key in our default dictionary, we sum the number of empty flights for all keys (and their values)\n",
    "def reduce_e_flights(d): \n",
    "    total = 0\n",
    "    for key in d:\n",
    "        total += d[key][0]\n",
    "    return (\"total empty flights\", total)\n",
    "\n",
    "small = reduce_e_flights(\n",
    "            shuffle_e_flights(\n",
    "                    map_e_flights( df )))\n",
    "medium = reduce_e_flights(\n",
    "            shuffle_e_flights(\n",
    "                    map_e_flights( df_medium )))\n",
    "print(\"Small: \", small)\n",
    "print(\"Medium: \", medium)"
   ]
  },
  {
   "cell_type": "markdown",
   "metadata": {
    "id": "WKEj52ZsZUnP"
   },
   "source": [
    "Look at your implementation and think about your program. Is there any option to add a `combine` operation?  If yes describe your new approach and provide an improved version of your code.\n",
    "\n",
    "Describe in detail your procedure before the code (in the comment lines)."
   ]
  },
  {
   "cell_type": "code",
   "execution_count": 106,
   "metadata": {
    "id": "fI6QmXGu4TkK"
   },
   "outputs": [
    {
     "data": {
      "text/plain": [
       "13812"
      ]
     },
     "execution_count": 106,
     "metadata": {},
     "output_type": "execute_result"
    }
   ],
   "source": [
    "#since there is not several groups of data/yielded/SQL query results, we can not combine any process of our code. \n",
    "#This being said, we can use pandas for a much simpler and condensed answer\n",
    "#df.loc[df[\"Passengers\"]/df[\"Seats\"] <= 0.1][\"Flights\"].sum()\n",
    "df_medium.loc[df_medium[\"Passengers\"]/df_medium[\"Seats\"] <= 0.1][\"Flights\"].sum()"
   ]
  },
  {
   "cell_type": "markdown",
   "metadata": {
    "id": "iqa7Q8TASjuu"
   },
   "source": [
    "### <strong> Exercise 2 - Top five destination airports </strong>\n",
    "### <strong> 4 points </strong>\n",
    "\n",
    "Provide now a function that lists the top five destination <strong>airports</strong>: the ones that have the highest number of incoming flights. Implement an algorithm that uses the MapReduce procedure.\n",
    "\n"
   ]
  },
  {
   "cell_type": "code",
   "execution_count": 87,
   "metadata": {
    "id": "YA5It5kQSjuv"
   },
   "outputs": [
    {
     "name": "stdout",
     "output_type": "stream",
     "text": [
      "Small:  [['RDM', 108593], ['EKO', 25742], ['ERI', 7101], ['WDG', 3295], ['END', 7]]\n",
      "Medium:  [['MIA', 1486648], ['RNO', 551046], ['ITO', 201861], ['CAK', 161237], ['FNT', 127985]]\n"
     ]
    }
   ],
   "source": [
    "#The goal of this map function is to append a pair(Destination Airport, # of flights) \n",
    "#thus res = a list of destination airports and their corresponding number of flights\n",
    "#[ (Destination Airport, # of flights), ..., (Destination Airport, # of flights)] \n",
    "def map_top_flights(df):\n",
    "    res = []\n",
    "    res.append([(df[\"Destination_airport\"][i], df[\"Flights\"][i]) for i in df.index])\n",
    "    return res  #to be completed\n",
    "\n",
    "#using res from above, we assign each Destination Airport to be a key in the default dict, and # of flights to be it's value\n",
    "def shuffle_top_flights(inpt): \n",
    "    d = defaultdict(list)\n",
    "    for array in inpt : \n",
    "        for k, v in array:\n",
    "            d[k].append(v)\n",
    "    return d  #to be completed\n",
    "\n",
    "\n",
    "#finally, going through each key in our default dictionary, we sum the number of flights for all keys (and their values)\n",
    "#then sort for only the top 5 (descending order)\n",
    "def reduce_top_flights(d): \n",
    "    res = []\n",
    "    for k,v in d.items(): #could use d[0], d[1] but k=key, v=val more intuitive\n",
    "        res.append([k, sum(v)]) #could also use len(v)\n",
    "    return sorted(res, key =lambda l:l[1], reverse=True)[:5]\n",
    "\n",
    "small = reduce_top_flights(\n",
    "            shuffle_top_flights(\n",
    "                    map_top_flights( df )))\n",
    "medium = reduce_top_flights(\n",
    "            shuffle_top_flights(\n",
    "                    map_top_flights( df_medium )))\n",
    "print(\"Small: \", small)\n",
    "print(\"Medium: \", medium)"
   ]
  },
  {
   "cell_type": "markdown",
   "metadata": {
    "id": "Q4p2_JHi0NHw"
   },
   "source": [
    "### <strong> Exercise 3 - Top 5 destination cities </strong>\n",
    "#### <strong>  2 points </strong>\n",
    "\n",
    "Try to reuse the code you run before and define a function that lists the top five destination <strong>cities</strong>: the ones that have the highest number of incoming flights. Implement an algorithm that uses the MapReduce procedure.\n"
   ]
  },
  {
   "cell_type": "code",
   "execution_count": 88,
   "metadata": {
    "id": "UOJ603rJ0z4x"
   },
   "outputs": [
    {
     "name": "stdout",
     "output_type": "stream",
     "text": [
      "Small:  [['Bend, OR', 108593], ['Elko, NV', 25742], ['Erie, PA', 7101], ['Enid, OK', 3302], ['Ames, IA', 1]]\n",
      "Medium:  [['Miami, FL', 1487169], ['Reno, NV', 551046], ['Hilo, HI', 201861], ['Akron, OH', 161237], ['Flint, MI', 127985]]\n"
     ]
    }
   ],
   "source": [
    "#The goal of this map function is to append a pair(City Airport, # of flights) \n",
    "#thus res = a list of destination cities and their corresponding number of flights\n",
    "#[ (Destination City, # of flights), ..., (Destination City, # of flights)] \n",
    "def map_top_cities(df):\n",
    "    res = []\n",
    "    res.append([(df[\"Destination_city\"][i], df[\"Flights\"][i]) for i in df.index])\n",
    "    return res  #to be completed\n",
    "\n",
    "#using res from above, we assign each destination city to be a key in the default dict, and # of flights to be it's value\n",
    "def shuffle_top_cities(inpt): \n",
    "    d = defaultdict(list)\n",
    "    for array in inpt : \n",
    "        for k, v in array:\n",
    "            d[k].append(v)\n",
    "    return d  #to be completed\n",
    "\n",
    "\n",
    "#finally, going through each key in our default dictionary, we sum the number of flights for all keys (and their values)\n",
    "def reduce_top_cities(d): \n",
    "    res = []\n",
    "    for k,v in d.items(): #could use d[0], d[1] but k=key, v=val more intuitive\n",
    "        res.append([k, sum(v)]) #could also use len(v)\n",
    "    return sorted(res, key =lambda l:l[1], reverse=True)[:5]\n",
    "\n",
    "small = reduce_top_cities(\n",
    "            shuffle_top_cities(\n",
    "                    map_top_cities( df )))\n",
    "medium = reduce_top_cities(\n",
    "            shuffle_top_cities(\n",
    "                    map_top_cities( df_medium )))\n",
    "print(\"Small: \", small)\n",
    "print(\"Medium: \", medium)"
   ]
  },
  {
   "cell_type": "markdown",
   "metadata": {
    "id": "Rk34RU8JSjuz"
   },
   "source": [
    "## Statistics on flights\n",
    "\n",
    "<p align=\"justify\">\n",
    "<font size=\"3\">\n",
    "Now we want to run some more complex analysis on the flights. \n",
    "</font>\n",
    "</p>\n",
    "\n",
    "\n",
    "\n"
   ]
  },
  {
   "cell_type": "markdown",
   "metadata": {
    "id": "FwbGGzCg2WlY"
   },
   "source": [
    "### <strong> Exercise 4 - Top five connections by month</strong>\n",
    "#### <strong> 4 points </strong>\n",
    "\n",
    "Try to reuse the code you run before and define now a function that lists the top five connections by each month: the top five pairs of cities that have the most number of connections (the function takes into account the flights from A to B and from B to A by month/year). Implement an algorithm that uses the MapReduce procedure."
   ]
  },
  {
   "cell_type": "code",
   "execution_count": 110,
   "metadata": {
    "id": "cHbkfinx27Dx"
   },
   "outputs": [],
   "source": [
    "#The goal of this map function is identify the source city, destination city, # of flights and fly date, \n",
    "#then append a pair((source, destination, date), # of flights) \n",
    "# after rearranging source/destinations to always be alphabetically sorted\n",
    "#thus res = [ ((source, destination, date), # of flights), ..., ((source, destination, date), # of flights)] \n",
    "def map_top_connections(df): #to be completed\n",
    "    res = []\n",
    "    for i in df.index:\n",
    "        source = df[\"Origin_city\"][i]\n",
    "        destination = df[\"Destination_city\"][i]\n",
    "        flights = df[\"Flights\"][i]\n",
    "        date = df[\"Fly_date\"][i][:-3] #we dont want the day numbers\n",
    "        if source > destination: #sort alphabetically such that Miami -> NYC => NYC -> Miami \n",
    "            destination, source = source, destination\n",
    "        key = (source, destination, date)\n",
    "        res.append( (key, flights) )\n",
    "    return res\n",
    "\n",
    "#using res from above, we assign each (source, destination, date) to be a key in the default dict, and # of flights to be it's value\n",
    "def shuffle_top_connections(inpt):\n",
    "    d = defaultdict(list)\n",
    "    for array in inpt : \n",
    "        d[array[0]].append(array[1])\n",
    "    return d #to be completed\n",
    "\n",
    "\n",
    "#in this last step of the first map/shuffle/reduce part, we through each key in our default dictionary, \n",
    "# then sum the number of flights for all keys (and their values)\n",
    "def reduce_top_connections(d):\n",
    "    res = []\n",
    "    for k,v in d.items(): #could use d[0], d[1] but k=key, v=val more intuitive\n",
    "        res.append([k, sum(v)]) #could also use len(v)\n",
    "    return res \n",
    "\n",
    "part1_s = reduce_top_connections(\n",
    "            shuffle_top_connections(\n",
    "                    map_top_connections( df )))\n",
    "part1_m = reduce_top_connections(\n",
    "            shuffle_top_connections(\n",
    "                    map_top_connections( df_medium )))\n",
    "#part1 format:\n",
    "#[((source, destination, date), sum(# of flights)), ..., ((source, destination, date), sum(# of flights))]"
   ]
  },
  {
   "cell_type": "code",
   "execution_count": 112,
   "metadata": {},
   "outputs": [
    {
     "name": "stdout",
     "output_type": "stream",
     "text": [
      "Small:  [('1990-01', [('Bend, OR', 'Portland, OR', 184), ('Erie, PA', 'Pittsburgh, PA', 150), ('Bend, OR', 'San Francisco, CA', 86), ('Bend, OR', 'Klamath Falls, OR', 46), ('Erie, PA', 'Ithaca, NY', 30)]), ('1990-02', [('Bend, OR', 'Portland, OR', 176), ('Erie, PA', 'Pittsburgh, PA', 128), ('Bend, OR', 'San Francisco, CA', 83), ('Bend, OR', 'Klamath Falls, OR', 38), ('Erie, PA', 'Ithaca, NY', 24)]), ('1990-03', [('Bend, OR', 'Portland, OR', 203), ('Erie, PA', 'Pittsburgh, PA', 146), ('Bend, OR', 'San Francisco, CA', 92), ('Bend, OR', 'Klamath Falls, OR', 51), ('Erie, PA', 'Ithaca, NY', 29)]), ('1990-04', [('Bend, OR', 'Portland, OR', 197), ('Erie, PA', 'Pittsburgh, PA', 144), ('Bend, OR', 'San Francisco, CA', 83), ('Bend, OR', 'Klamath Falls, OR', 49), ('Erie, PA', 'Ithaca, NY', 28)]), ('1990-05', [('Bend, OR', 'Portland, OR', 205), ('Erie, PA', 'Pittsburgh, PA', 151), ('Bend, OR', 'San Francisco, CA', 88), ('Bend, OR', 'Klamath Falls, OR', 53), ('Erie, PA', 'Ithaca, NY', 1)]), ('1990-06', [('Bend, OR', 'Portland, OR', 215), ('Erie, PA', 'Pittsburgh, PA', 144), ('Bend, OR', 'San Francisco, CA', 88), ('Bend, OR', 'Klamath Falls, OR', 48)]), ('1990-07', [('Bend, OR', 'Portland, OR', 230), ('Erie, PA', 'Pittsburgh, PA', 153), ('Bend, OR', 'San Francisco, CA', 92), ('Bend, OR', 'Klamath Falls, OR', 48)]), ('1990-08', [('Bend, OR', 'Portland, OR', 231), ('Erie, PA', 'Pittsburgh, PA', 153), ('Bend, OR', 'San Francisco, CA', 93), ('Bend, OR', 'Klamath Falls, OR', 50), ('Atlanta, GA', 'Erie, PA', 1)]), ('1990-09', [('Bend, OR', 'Portland, OR', 219), ('Erie, PA', 'Pittsburgh, PA', 147), ('Bend, OR', 'Klamath Falls, OR', 44), ('Bend, OR', 'Medford, OR', 1), ('Elko, NV', 'San Jose, CA', 1)]), ('1990-10', [('Bend, OR', 'Portland, OR', 230), ('Erie, PA', 'Pittsburgh, PA', 152), ('Bend, OR', 'San Francisco, CA', 85), ('Bend, OR', 'Klamath Falls, OR', 50), ('Bend, OR', 'Eugene, OR', 4)]), ('1990-11', [('Bend, OR', 'Portland, OR', 220), ('Erie, PA', 'Pittsburgh, PA', 149), ('Bend, OR', 'San Francisco, CA', 79), ('Bend, OR', 'Klamath Falls, OR', 41), ('Bend, OR', 'Eugene, OR', 22)]), ('1990-12', [('Bend, OR', 'Portland, OR', 223), ('Erie, PA', 'Pittsburgh, PA', 153), ('Bend, OR', 'San Francisco, CA', 78), ('Bend, OR', 'Klamath Falls, OR', 47), ('Bend, OR', 'Eugene, OR', 19)]), ('1991-01', [('Bend, OR', 'Portland, OR', 383), ('Erie, PA', 'Pittsburgh, PA', 148), ('Bend, OR', 'San Francisco, CA', 83), ('Bend, OR', 'Klamath Falls, OR', 44), ('Bend, OR', 'Eugene, OR', 18)]), ('1991-02', [('Bend, OR', 'Portland, OR', 351), ('Erie, PA', 'Pittsburgh, PA', 130), ('Bend, OR', 'San Francisco, CA', 73), ('Bend, OR', 'Klamath Falls, OR', 40), ('Bend, OR', 'Eugene, OR', 19)]), ('1991-03', [('Bend, OR', 'Portland, OR', 400), ('Erie, PA', 'Pittsburgh, PA', 154), ('Bend, OR', 'San Francisco, CA', 85), ('Bend, OR', 'Klamath Falls, OR', 47), ('Bend, OR', 'Eugene, OR', 21)]), ('1991-04', [('Bend, OR', 'Portland, OR', 390), ('Erie, PA', 'Pittsburgh, PA', 149), ('Bend, OR', 'San Francisco, CA', 85), ('Bend, OR', 'Klamath Falls, OR', 48), ('Bend, OR', 'Eugene, OR', 22)]), ('1991-05', [('Bend, OR', 'Portland, OR', 408), ('Erie, PA', 'Pittsburgh, PA', 153), ('Bend, OR', 'San Francisco, CA', 88), ('Bend, OR', 'Klamath Falls, OR', 50), ('Bend, OR', 'Eugene, OR', 23)]), ('1991-06', [('Bend, OR', 'Portland, OR', 393), ('Erie, PA', 'Pittsburgh, PA', 149), ('Bend, OR', 'San Francisco, CA', 89), ('Bend, OR', 'Klamath Falls, OR', 45), ('Bend, OR', 'Eugene, OR', 20)]), ('1991-07', [('Bend, OR', 'Portland, OR', 410), ('Erie, PA', 'Pittsburgh, PA', 155), ('Bend, OR', 'San Francisco, CA', 92), ('Bend, OR', 'Klamath Falls, OR', 50), ('Bend, OR', 'Eugene, OR', 23)]), ('1991-08', [('Bend, OR', 'Portland, OR', 411), ('Erie, PA', 'Pittsburgh, PA', 154), ('Bend, OR', 'San Francisco, CA', 93), ('Bend, OR', 'Klamath Falls, OR', 49), ('Bend, OR', 'Eugene, OR', 22)]), ('1991-09', [('Bend, OR', 'Portland, OR', 386), ('Erie, PA', 'Pittsburgh, PA', 150), ('Bend, OR', 'San Francisco, CA', 89), ('Bend, OR', 'Klamath Falls, OR', 46), ('Bend, OR', 'Eugene, OR', 21)]), ('1991-10', [('Bend, OR', 'Portland, OR', 412), ('Erie, PA', 'Pittsburgh, PA', 155), ('Bend, OR', 'San Francisco, CA', 93), ('Bend, OR', 'Klamath Falls, OR', 50), ('Bend, OR', 'Eugene, OR', 23)]), ('1991-11', [('Bend, OR', 'Portland, OR', 387), ('Erie, PA', 'Pittsburgh, PA', 148), ('Bend, OR', 'San Francisco, CA', 90), ('Bend, OR', 'Klamath Falls, OR', 39), ('Bend, OR', 'Eugene, OR', 20)]), ('1991-12', [('Bend, OR', 'Portland, OR', 397), ('Erie, PA', 'Pittsburgh, PA', 145), ('Bend, OR', 'San Francisco, CA', 93), ('Bend, OR', 'Klamath Falls, OR', 34), ('Bend, OR', 'Eugene, OR', 18)]), ('1992-01', [('Bend, OR', 'Portland, OR', 399), ('Erie, PA', 'Pittsburgh, PA', 147), ('Bend, OR', 'San Francisco, CA', 93), ('Bend, OR', 'Klamath Falls, OR', 39), ('Bend, OR', 'Eugene, OR', 19)]), ('1992-02', [('Bend, OR', 'Portland, OR', 382), ('Erie, PA', 'Pittsburgh, PA', 143), ('Bend, OR', 'San Francisco, CA', 85), ('Bend, OR', 'Klamath Falls, OR', 41), ('Bend, OR', 'Eugene, OR', 18)]), ('1992-03', [('Bend, OR', 'Portland, OR', 435), ('Erie, PA', 'Pittsburgh, PA', 150), ('Bend, OR', 'San Francisco, CA', 84), ('Bend, OR', 'Klamath Falls, OR', 47), ('Bend, OR', 'Eugene, OR', 20)]), ('1992-04', [('Bend, OR', 'Portland, OR', 437), ('Erie, PA', 'Pittsburgh, PA', 150), ('Bend, OR', 'San Francisco, CA', 82), ('Bend, OR', 'Klamath Falls, OR', 26), ('Elko, NV', 'Portland, OR', 9)]), ('1992-05', [('Bend, OR', 'Portland, OR', 425), ('Erie, PA', 'Pittsburgh, PA', 123), ('Bend, OR', 'San Francisco, CA', 78), ('Bend, OR', 'Klamath Falls, OR', 21), ('Elko, NV', 'Portland, OR', 11)]), ('1992-06', [('Bend, OR', 'Portland, OR', 420), ('Erie, PA', 'Pittsburgh, PA', 119), ('Bend, OR', 'San Francisco, CA', 82), ('Bend, OR', 'Klamath Falls, OR', 22), ('Elko, NV', 'Portland, OR', 8)]), ('1992-07', [('Bend, OR', 'Portland, OR', 442), ('Erie, PA', 'Pittsburgh, PA', 122), ('Bend, OR', 'San Francisco, CA', 54), ('Bend, OR', 'Klamath Falls, OR', 23), ('Elko, NV', 'Portland, OR', 8)]), ('1992-08', [('Bend, OR', 'Portland, OR', 435), ('Erie, PA', 'Pittsburgh, PA', 123), ('Bend, OR', 'San Francisco, CA', 55), ('Bend, OR', 'Klamath Falls, OR', 21), ('Elko, NV', 'Portland, OR', 6)]), ('1992-09', [('Bend, OR', 'Portland, OR', 421), ('Erie, PA', 'Pittsburgh, PA', 119), ('Bend, OR', 'San Francisco, CA', 56), ('Bend, OR', 'Klamath Falls, OR', 22), ('Elko, NV', 'Seattle, WA', 9)]), ('1992-10', [('Bend, OR', 'Portland, OR', 435), ('Erie, PA', 'Pittsburgh, PA', 115), ('Bend, OR', 'San Francisco, CA', 57), ('Bend, OR', 'Klamath Falls, OR', 21), ('Elko, NV', 'Seattle, WA', 4)]), ('1992-11', [('Bend, OR', 'Portland, OR', 402), ('Erie, PA', 'Pittsburgh, PA', 117), ('Bend, OR', 'San Francisco, CA', 52), ('Bend, OR', 'Klamath Falls, OR', 13), ('Elko, NV', 'Portland, OR', 7)]), ('1992-12', [('Bend, OR', 'Portland, OR', 371), ('Erie, PA', 'Pittsburgh, PA', 118), ('Bend, OR', 'San Francisco, CA', 57), ('Bend, OR', 'Seattle, WA', 13), ('Elko, NV', 'Seattle, WA', 8)]), ('1993-01', [('Bend, OR', 'Portland, OR', 419), ('Erie, PA', 'Pittsburgh, PA', 124), ('Bend, OR', 'San Francisco, CA', 57), ('Bend, OR', 'Seattle, WA', 29), ('Elko, NV', 'Portland, OR', 6)]), ('1993-02', [('Bend, OR', 'Portland, OR', 387), ('Erie, PA', 'Pittsburgh, PA', 107), ('Bend, OR', 'San Francisco, CA', 51), ('Bend, OR', 'Seattle, WA', 27), ('Elko, NV', 'Seattle, WA', 4)]), ('1993-03', [('Bend, OR', 'Portland, OR', 442), ('Erie, PA', 'Pittsburgh, PA', 106), ('Bend, OR', 'San Francisco, CA', 56), ('Bend, OR', 'Seattle, WA', 31), ('Elko, NV', 'Seattle, WA', 6)]), ('1993-04', [('Bend, OR', 'Portland, OR', 456), ('Erie, PA', 'Pittsburgh, PA', 119), ('Bend, OR', 'San Francisco, CA', 55), ('Elko, NV', 'Seattle, WA', 8), ('Elko, NV', 'Portland, OR', 7)]), ('1993-05', [('Bend, OR', 'Portland, OR', 450), ('Erie, PA', 'Pittsburgh, PA', 124), ('Bend, OR', 'San Francisco, CA', 56), ('Elko, NV', 'Portland, OR', 9), ('Elko, NV', 'Seattle, WA', 7)]), ('1993-06', [('Bend, OR', 'Portland, OR', 420), ('Erie, PA', 'Pittsburgh, PA', 120), ('Bend, OR', 'San Francisco, CA', 56), ('Elko, NV', 'Salt Lake City, UT', 5), ('Elko, NV', 'Scottsbluff, NE', 3)]), ('1993-07', [('Bend, OR', 'Portland, OR', 266), ('Erie, PA', 'Pittsburgh, PA', 123), ('Elko, NV', 'Portland, OR', 9), ('Elko, NV', 'Seattle, WA', 7), ('Elko, NV', 'Salt Lake City, UT', 6)]), ('1993-08', [('Bend, OR', 'Portland, OR', 271), ('Erie, PA', 'Pittsburgh, PA', 121), ('Elko, NV', 'Portland, OR', 9), ('Elko, NV', 'Seattle, WA', 7), ('Elko, NV', 'Scottsbluff, NE', 4)]), ('1993-09', [('Bend, OR', 'Portland, OR', 251), ('Erie, PA', 'Pittsburgh, PA', 120), ('Elko, NV', 'Seattle, WA', 7), ('Elko, NV', 'Portland, OR', 4), ('Elko, NV', 'Salt Lake City, UT', 4)]), ('1993-10', [('Bend, OR', 'Portland, OR', 259), ('Erie, PA', 'Pittsburgh, PA', 123), ('Elko, NV', 'Seattle, WA', 7), ('Elko, NV', 'Portland, OR', 6), ('Elko, NV', 'Salt Lake City, UT', 3)]), ('1993-11', [('Bend, OR', 'Portland, OR', 243), ('Erie, PA', 'Pittsburgh, PA', 119), ('Bend, OR', 'Klamath Falls, OR', 24), ('Elko, NV', 'Seattle, WA', 6), ('Elko, NV', 'Portland, OR', 3)]), ('1993-12', [('Bend, OR', 'Portland, OR', 252), ('Erie, PA', 'Pittsburgh, PA', 119), ('Bend, OR', 'Klamath Falls, OR', 25), ('Elko, NV', 'Seattle, WA', 5), ('Elko, NV', 'Portland, OR', 4)]), ('1994-01', [('Bend, OR', 'Portland, OR', 248), ('Erie, PA', 'Pittsburgh, PA', 76), ('Bend, OR', 'Klamath Falls, OR', 24), ('Elko, NV', 'Portland, OR', 8), ('Elko, NV', 'Seattle, WA', 8)]), ('1994-02', [('Bend, OR', 'Portland, OR', 231), ('Erie, PA', 'Pittsburgh, PA', 38), ('Bend, OR', 'Klamath Falls, OR', 23), ('Elko, NV', 'Portland, OR', 6), ('Elko, NV', 'Seattle, WA', 6)]), ('1994-03', [('Bend, OR', 'Portland, OR', 261), ('Bend, OR', 'Klamath Falls, OR', 27), ('Elko, NV', 'Seattle, WA', 7), ('Elko, NV', 'Portland, OR', 6), ('Elko, NV', 'Milwaukee, WI', 3)]), ('1994-04', [('Bend, OR', 'Portland, OR', 224), ('Erie, PA', 'Pittsburgh, PA', 87), ('Bend, OR', 'Klamath Falls, OR', 25), ('Elko, NV', 'Portland, OR', 6), ('Elko, NV', 'Seattle, WA', 5)]), ('1994-05', [('Bend, OR', 'Portland, OR', 231), ('Bend, OR', 'Klamath Falls, OR', 26), ('Elko, NV', 'Seattle, WA', 6), ('Elko, NV', 'Portland, OR', 5), ('Elko, NV', 'Salt Lake City, UT', 4)]), ('1994-06', [('Bend, OR', 'Portland, OR', 232), ('Bend, OR', 'Klamath Falls, OR', 26), ('Elko, NV', 'Portland, OR', 4), ('Elko, NV', 'Seattle, WA', 3), ('Elko, NV', 'Milwaukee, WI', 2)]), ('1994-07', [('Bend, OR', 'Portland, OR', 242), ('Bend, OR', 'Klamath Falls, OR', 25), ('Elko, NV', 'Portland, OR', 5), ('Elko, NV', 'Milwaukee, WI', 3), ('Elko, NV', 'Seattle, WA', 3)]), ('1994-08', [('Bend, OR', 'Portland, OR', 245), ('Erie, PA', 'Pittsburgh, PA', 123), ('Bend, OR', 'Klamath Falls, OR', 27), ('Elko, NV', 'San Jose, CA', 3), ('Elko, NV', 'Omaha, NE', 2)]), ('1994-09', [('Bend, OR', 'Portland, OR', 234), ('Erie, PA', 'Pittsburgh, PA', 117), ('Bend, OR', 'Klamath Falls, OR', 26), ('Elko, NV', 'Seattle, WA', 3), ('Elko, NV', 'San Jose, CA', 2)]), ('1994-10', [('Bend, OR', 'Portland, OR', 241), ('Bend, OR', 'Klamath Falls, OR', 26), ('Elko, NV', 'Seattle, WA', 13), ('Elko, NV', 'Portland, OR', 6), ('Elko, NV', 'San Jose, CA', 3)]), ('1994-11', [('Bend, OR', 'Portland, OR', 231), ('Bend, OR', 'Klamath Falls, OR', 22), ('Elko, NV', 'Seattle, WA', 8), ('Elko, NV', 'Milwaukee, WI', 2), ('Bellingham, WA', 'Elko, NV', 2)]), ('1994-12', [('Bend, OR', 'Portland, OR', 237), ('Bend, OR', 'Klamath Falls, OR', 21), ('Elko, NV', 'Milwaukee, WI', 5), ('Albuquerque, NM', 'Elko, NV', 5), ('Elko, NV', 'Seattle, WA', 4)]), ('1995-01', [('Bend, OR', 'Portland, OR', 235), ('Bend, OR', 'Klamath Falls, OR', 23), ('Elko, NV', 'Seattle, WA', 9), ('Elko, NV', 'Milwaukee, WI', 4), ('Albuquerque, NM', 'Elko, NV', 4)]), ('1995-02', [('Bend, OR', 'Portland, OR', 199), ('Bend, OR', 'Klamath Falls, OR', 20), ('Elko, NV', 'Seattle, WA', 8), ('Elko, NV', 'Portland, OR', 5), ('Elko, NV', 'Salt Lake City, UT', 5)]), ('1995-03', [('Bend, OR', 'Portland, OR', 234), ('Bend, OR', 'Klamath Falls, OR', 26), ('Elko, NV', 'Omaha, NE', 9), ('Elko, NV', 'Seattle, WA', 8), ('Elko, NV', 'Portland, OR', 4)]), ('1995-04', [('Bend, OR', 'Portland, OR', 229), ('Bend, OR', 'Klamath Falls, OR', 21), ('Elko, NV', 'Seattle, WA', 12), ('Elko, NV', 'Portland, OR', 8), ('Elko, NV', 'Omaha, NE', 8)]), ('1995-05', [('Bend, OR', 'Portland, OR', 204), ('Elko, NV', 'Salt Lake City, UT', 10), ('Elko, NV', 'Omaha, NE', 9), ('Bend, OR', 'Klamath Falls, OR', 8), ('Bend, OR', 'San Jose, CA', 7)]), ('1995-06', [('Bend, OR', 'Portland, OR', 234), ('Bend, OR', 'San Jose, CA', 29), ('Elko, NV', 'Seattle, WA', 9), ('Elko, NV', 'Portland, OR', 5), ('Elko, NV', 'Salt Lake City, UT', 4)]), ('1995-07', [('Bend, OR', 'Portland, OR', 241), ('Bend, OR', 'San Jose, CA', 31), ('Elko, NV', 'Salt Lake City, UT', 6), ('Elko, NV', 'Portland, OR', 5), ('Elko, NV', 'Seattle, WA', 3)]), ('1995-08', [('Bend, OR', 'Portland, OR', 245), ('Bend, OR', 'San Jose, CA', 30), ('Elko, NV', 'Salt Lake City, UT', 5), ('Elko, NV', 'Omaha, NE', 5), ('Elko, NV', 'Seattle, WA', 4)]), ('1995-09', [('Bend, OR', 'Portland, OR', 231), ('Elko, NV', 'Portland, OR', 6), ('Bend, OR', 'San Jose, CA', 5), ('Elko, NV', 'Seattle, WA', 5), ('Elko, NV', 'Salt Lake City, UT', 3)]), ('1995-10', [('Bend, OR', 'Portland, OR', 237), ('Elko, NV', 'Omaha, NE', 7), ('Elko, NV', 'Seattle, WA', 6), ('Amarillo, TX', 'Elko, NV', 3), ('Elko, NV', 'Portland, OR', 3)]), ('1995-11', [('Bend, OR', 'Portland, OR', 227), ('Elko, NV', 'Salt Lake City, UT', 5), ('Elko, NV', 'Seattle, WA', 4), ('Elko, NV', 'Omaha, NE', 4), ('Elko, NV', 'Portland, OR', 3)]), ('1995-12', [('Bend, OR', 'Portland, OR', 227), ('Bend, OR', 'Seattle, WA', 14), ('Elko, NV', 'Omaha, NE', 7), ('Elko, NV', 'Seattle, WA', 6), ('Elko, NV', 'Portland, OR', 5)]), ('1996-01', [('Bend, OR', 'Portland, OR', 229), ('Bend, OR', 'Seattle, WA', 28), ('Elko, NV', 'Omaha, NE', 8), ('Elko, NV', 'Rapid City, SD', 7), ('Elko, NV', 'Seattle, WA', 6)]), ('1996-02', [('Bend, OR', 'Portland, OR', 220), ('Bend, OR', 'Seattle, WA', 27), ('Elko, NV', 'Omaha, NE', 9), ('Elko, NV', 'Seattle, WA', 6), ('Elko, NV', 'Salt Lake City, UT', 5)]), ('1996-03', [('Bend, OR', 'Portland, OR', 233), ('Bend, OR', 'Seattle, WA', 29), ('Elko, NV', 'Omaha, NE', 11), ('Albuquerque, NM', 'Elko, NV', 9), ('Elko, NV', 'Seattle, WA', 6)]), ('1996-04', [('Bend, OR', 'Portland, OR', 225), ('Bend, OR', 'Seattle, WA', 26), ('Elko, NV', 'Seattle, WA', 12), ('Elko, NV', 'Omaha, NE', 10), ('Elko, NV', 'Portland, OR', 5)]), ('1996-05', [('Bend, OR', 'Portland, OR', 261), ('Bend, OR', 'Seattle, WA', 24), ('Elko, NV', 'Seattle, WA', 9), ('Elko, NV', 'Salt Lake City, UT', 8), ('Elko, NV', 'Omaha, NE', 6)]), ('1996-06', [('Bend, OR', 'Portland, OR', 245), ('Bend, OR', 'Seattle, WA', 52), ('Elko, NV', 'Seattle, WA', 11), ('Elko, NV', 'Topeka, KS', 7), ('Elko, NV', 'Omaha, NE', 5)]), ('1996-07', [('Bend, OR', 'Portland, OR', 262), ('Bend, OR', 'Seattle, WA', 66), ('Elko, NV', 'Seattle, WA', 9), ('Elko, NV', 'Portland, OR', 4), ('Elko, NV', 'Houston, TX', 3)]), ('1996-08', [('Bend, OR', 'Portland, OR', 261), ('Bend, OR', 'Seattle, WA', 65), ('Elko, NV', 'Omaha, NE', 13), ('Elko, NV', 'Seattle, WA', 7), ('Elko, NV', 'Portland, OR', 5)]), ('1996-09', [('Bend, OR', 'Portland, OR', 254), ('Bend, OR', 'Seattle, WA', 57), ('Elko, NV', 'Omaha, NE', 9), ('Elko, NV', 'Seattle, WA', 7), ('Elko, NV', 'Topeka, KS', 6)]), ('1996-10', [('Bend, OR', 'Portland, OR', 263), ('Bend, OR', 'Seattle, WA', 54), ('Elko, NV', 'Omaha, NE', 11), ('Elko, NV', 'Seattle, WA', 9), ('Elko, NV', 'Portland, OR', 7)]), ('1996-11', [('Bend, OR', 'Portland, OR', 364), ('Bend, OR', 'Seattle, WA', 46), ('Elko, NV', 'Omaha, NE', 6), ('Elko, NV', 'Seattle, WA', 5), ('Elko, NV', 'Portland, OR', 4)]), ('1996-12', [('Bend, OR', 'Portland, OR', 434), ('Bend, OR', 'Seattle, WA', 49), ('Elko, NV', 'Omaha, NE', 9), ('Elko, NV', 'Salt Lake City, UT', 7), ('Elko, NV', 'Rapid City, SD', 4)]), ('1997-01', [('Bend, OR', 'Portland, OR', 434), ('Bend, OR', 'Seattle, WA', 51), ('Elko, NV', 'Seattle, WA', 10), ('Elko, NV', 'Omaha, NE', 8), ('Elko, NV', 'Portland, OR', 6)]), ('1997-02', [('Bend, OR', 'Portland, OR', 396), ('Bend, OR', 'Seattle, WA', 50), ('Elko, NV', 'Seattle, WA', 9), ('Elko, NV', 'Omaha, NE', 9), ('Elko, NV', 'Portland, OR', 7)]), ('1997-03', [('Bend, OR', 'Portland, OR', 440), ('Bend, OR', 'Seattle, WA', 55), ('Elko, NV', 'Omaha, NE', 10), ('Elko, NV', 'Seattle, WA', 7), ('Elko, NV', 'Portland, OR', 7)]), ('1997-04', [('Bend, OR', 'Portland, OR', 425), ('Bend, OR', 'Seattle, WA', 50), ('Elko, NV', 'Seattle, WA', 7), ('Elko, NV', 'Omaha, NE', 6), ('Elko, NV', 'Portland, OR', 6)]), ('1997-05', [('Bend, OR', 'Portland, OR', 440), ('Bend, OR', 'Seattle, WA', 51), ('Elko, NV', 'Portland, OR', 10), ('Elko, NV', 'Seattle, WA', 9), ('Elko, NV', 'Salt Lake City, UT', 7)]), ('1997-06', [('Bend, OR', 'Portland, OR', 431), ('Bend, OR', 'Seattle, WA', 58), ('Elko, NV', 'Seattle, WA', 6), ('Elko, NV', 'Portland, OR', 4), ('Elko, NV', 'Grand Junction, CO', 3)]), ('1997-07', [('Bend, OR', 'Portland, OR', 244), ('Bend, OR', 'Seattle, WA', 62), ('Elko, NV', 'Seattle, WA', 9), ('Elko, NV', 'Portland, OR', 6), ('Bellingham, WA', 'Elko, NV', 3)]), ('1997-08', [('Bend, OR', 'Portland, OR', 238), ('Bend, OR', 'Seattle, WA', 90), ('Elko, NV', 'Seattle, WA', 5), ('Bellingham, WA', 'Elko, NV', 3), ('Elko, NV', 'Portland, OR', 3)]), ('1997-09', [('Bend, OR', 'Portland, OR', 229), ('Bend, OR', 'Seattle, WA', 85), ('Elko, NV', 'Seattle, WA', 8), ('Elko, NV', 'Omaha, NE', 8), ('Bend, OR', 'Medford, OR', 3)]), ('1997-10', [('Bend, OR', 'Portland, OR', 233), ('Bend, OR', 'Seattle, WA', 88), ('Elko, NV', 'Omaha, NE', 7), ('Elko, NV', 'Seattle, WA', 6), ('Elko, NV', 'San Jose, CA', 3)]), ('1997-11', [('Bend, OR', 'Portland, OR', 221), ('Bend, OR', 'Seattle, WA', 83), ('Elko, NV', 'Omaha, NE', 6), ('Elko, NV', 'Seattle, WA', 5), ('Elko, NV', 'Portland, OR', 3)]), ('1997-12', [('Bend, OR', 'Portland, OR', 237), ('Bend, OR', 'Seattle, WA', 85), ('Elko, NV', 'Omaha, NE', 10), ('Elko, NV', 'Seattle, WA', 9), ('Elko, NV', 'Portland, OR', 5)]), ('1998-01', [('Bend, OR', 'Portland, OR', 220), ('Bend, OR', 'Seattle, WA', 87), ('Elko, NV', 'Omaha, NE', 5), ('Elko, NV', 'Seattle, WA', 5), ('Albuquerque, NM', 'Elko, NV', 5)]), ('1998-02', [('Bend, OR', 'Portland, OR', 205), ('Bend, OR', 'Seattle, WA', 74), ('Elko, NV', 'Seattle, WA', 8), ('Elko, NV', 'Rapid City, SD', 6), ('Elko, NV', 'Portland, OR', 5)]), ('1998-03', [('Bend, OR', 'Portland, OR', 238), ('Bend, OR', 'Seattle, WA', 82), ('Elko, NV', 'Seattle, WA', 11), ('Elko, NV', 'Omaha, NE', 8), ('Albuquerque, NM', 'Elko, NV', 6)]), ('1998-04', [('Bend, OR', 'Portland, OR', 231), ('Bend, OR', 'Seattle, WA', 81), ('Elko, NV', 'Rapid City, SD', 10), ('Dallas, TX', 'Elko, NV', 4), ('Elko, NV', 'Omaha, NE', 4)]), ('1998-05', [('Bend, OR', 'Portland, OR', 238), ('Bend, OR', 'Seattle, WA', 83), ('Elko, NV', 'Omaha, NE', 4), ('Elko, NV', 'Salt Lake City, UT', 3), ('El Paso, TX', 'Elko, NV', 2)]), ('1998-06', [('Bend, OR', 'Portland, OR', 235), ('Bend, OR', 'Seattle, WA', 87), ('Albuquerque, NM', 'Elko, NV', 4), ('Bend, OR', 'Redding, CA', 2), ('Elko, NV', 'Houston, TX', 2)]), ('1998-07', [('Bend, OR', 'Portland, OR', 241), ('Bend, OR', 'Seattle, WA', 88), ('Elko, NV', 'Seattle, WA', 3), ('Bend, OR', 'Redding, CA', 2), ('Elko, NV', 'Omaha, NE', 2)]), ('1998-08', [('Bend, OR', 'Portland, OR', 241), ('Bend, OR', 'Seattle, WA', 92), ('Bend, OR', 'Redding, CA', 3), ('Elko, NV', 'Topeka, KS', 3), ('Elko, NV', 'Seattle, WA', 3)]), ('1998-09', [('Bend, OR', 'Portland, OR', 228), ('Bend, OR', 'Seattle, WA', 87), ('Elko, NV', 'Omaha, NE', 4), ('Elko, NV', 'Seattle, WA', 3), ('Elko, NV', 'Spokane, WA', 2)]), ('1998-10', [('Bend, OR', 'Portland, OR', 236), ('Bend, OR', 'Seattle, WA', 89), ('Elko, NV', 'Omaha, NE', 2), ('Elko, NV', 'Grand Junction, CO', 2), ('Elko, NV', 'Salt Lake City, UT', 2)]), ('1998-11', [('Bend, OR', 'Portland, OR', 222), ('Bend, OR', 'Seattle, WA', 108), ('Elko, NV', 'Omaha, NE', 4), ('Elko, NV', 'Seattle, WA', 4), ('Elko, NV', 'Salt Lake City, UT', 3)]), ('1998-12', [('Bend, OR', 'Portland, OR', 241), ('Bend, OR', 'Seattle, WA', 118), ('Elko, NV', 'Omaha, NE', 4), ('Albuquerque, NM', 'Elko, NV', 4), ('Elko, NV', 'Seattle, WA', 3)]), ('1999-01', [('Bend, OR', 'Portland, OR', 236), ('Bend, OR', 'Seattle, WA', 116), ('Elko, NV', 'Omaha, NE', 4), ('Elko, NV', 'Rapid City, SD', 4), ('Albuquerque, NM', 'Elko, NV', 3)]), ('1999-02', [('Bend, OR', 'Portland, OR', 215), ('Bend, OR', 'Seattle, WA', 102), ('Elko, NV', 'Omaha, NE', 4), ('Elko, NV', 'Rapid City, SD', 4), ('Albuquerque, NM', 'Elko, NV', 3)]), ('1999-03', [('Bend, OR', 'Portland, OR', 239), ('Bend, OR', 'Seattle, WA', 114), ('Elko, NV', 'North Platte, NE', 6), ('Elko, NV', 'Omaha, NE', 4), ('Elko, NV', 'Rapid City, SD', 4)]), ('1999-04', [('Bend, OR', 'Portland, OR', 228), ('Bend, OR', 'Seattle, WA', 109), ('Elko, NV', 'Omaha, NE', 7), ('Elko, NV', 'Salt Lake City, UT', 5), ('Albuquerque, NM', 'Elko, NV', 3)]), ('1999-05', [('Bend, OR', 'Portland, OR', 237), ('Bend, OR', 'Seattle, WA', 113), ('Elko, NV', 'Houston, TX', 3), ('Elko, NV', 'San Antonio, TX', 2), ('Elko, NV', 'Wichita Falls, TX', 2)]), ('1999-06', [('Bend, OR', 'Portland, OR', 230), ('Bend, OR', 'Seattle, WA', 119), ('Elko, NV', 'Seattle, WA', 4), ('Elko, NV', 'San Antonio, TX', 2), ('Elko, NV', 'Wichita Falls, TX', 2)]), ('1999-07', [('Bend, OR', 'Portland, OR', 239), ('Bend, OR', 'Seattle, WA', 124), ('Elko, NV', 'Seattle, WA', 3), ('Elko, NV', 'San Antonio, TX', 2), ('Corpus Christi, TX', 'Elko, NV', 2)]), ('1999-08', [('Bend, OR', 'Portland, OR', 242), ('Bend, OR', 'Seattle, WA', 124), ('Amarillo, TX', 'Elko, NV', 3), ('Elko, NV', 'Seattle, WA', 3), ('Elko, NV', 'San Antonio, TX', 2)]), ('1999-09', [('Bend, OR', 'Portland, OR', 231), ('Bend, OR', 'Seattle, WA', 115), ('Elko, NV', 'Omaha, NE', 3), ('Elko, NV', 'Seattle, WA', 3), ('Elko, NV', 'Portland, OR', 3)]), ('1999-10', [('Bend, OR', 'Portland, OR', 229), ('Bend, OR', 'Seattle, WA', 113), ('Elko, NV', 'Seattle, WA', 4), ('Elko, NV', 'Portland, OR', 3), ('Elko, NV', 'Springfield, MO', 2)]), ('1999-11', [('Bend, OR', 'Portland, OR', 220), ('Bend, OR', 'Seattle, WA', 114), ('Elko, NV', 'Seattle, WA', 3), ('Elko, NV', 'Portland, OR', 3), ('Elko, NV', 'San Antonio, TX', 2)]), ('1999-12', [('Bend, OR', 'Portland, OR', 219), ('Bend, OR', 'Seattle, WA', 104), ('Elko, NV', 'Seattle, WA', 6), ('Elko, NV', 'San Antonio, TX', 3), ('Elko, NV', 'Portland, OR', 3)]), ('2000-01', [('Bend, OR', 'Portland, OR', 226), ('Bend, OR', 'Seattle, WA', 112), ('Elko, NV', 'Seattle, WA', 6), ('Elko, NV', 'Portland, OR', 3), ('Elko, NV', 'San Antonio, TX', 3)]), ('2000-02', [('Bend, OR', 'Portland, OR', 200), ('Bend, OR', 'Seattle, WA', 120), ('Elko, NV', 'Omaha, NE', 4), ('Elko, NV', 'Portland, OR', 3), ('Elko, NV', 'Seattle, WA', 3)]), ('2000-03', [('Bend, OR', 'Portland, OR', 228), ('Bend, OR', 'Seattle, WA', 140), ('Elko, NV', 'Salt Lake City, UT', 6), ('Elko, NV', 'Portland, OR', 3), ('Elko, NV', 'Green Bay, WI', 2)]), ('2000-04', [('Bend, OR', 'Portland, OR', 225), ('Bend, OR', 'Seattle, WA', 133), ('Elko, NV', 'Houston, TX', 3), ('Elko, NV', 'Green Bay, WI', 2), ('Elko, NV', 'Portland, OR', 2)]), ('2000-05', [('Bend, OR', 'Portland, OR', 235), ('Bend, OR', 'Seattle, WA', 145), ('Elko, NV', 'Seattle, WA', 4), ('Elko, NV', 'Portland, OR', 3), ('Elko, NV', 'Green Bay, WI', 2)]), ('2000-06', [('Bend, OR', 'Portland, OR', 230), ('Bend, OR', 'Seattle, WA', 144), ('Elko, NV', 'Portland, OR', 4), ('Elko, NV', 'Wichita, KS', 3), ('Chicago, IL', 'Elko, NV', 2)]), ('2000-07', [('Bend, OR', 'Portland, OR', 243), ('Bend, OR', 'Seattle, WA', 151), ('Elko, NV', 'Tulsa, OK', 3), ('Elko, NV', 'Green Bay, WI', 2), ('Elko, NV', 'Portland, OR', 2)]), ('2000-08', [('Bend, OR', 'Portland, OR', 243), ('Bend, OR', 'Seattle, WA', 153), ('Elko, NV', 'Green Bay, WI', 2), ('Elko, NV', 'Portland, OR', 2), ('Elko, NV', 'Houston, TX', 2)]), ('2000-09', [('Bend, OR', 'Portland, OR', 228), ('Bend, OR', 'Seattle, WA', 144), ('Albuquerque, NM', 'Elko, NV', 3), ('Elko, NV', 'Seattle, WA', 3), ('Elko, NV', 'Houston, TX', 2)]), ('2000-10', [('Bend, OR', 'Portland, OR', 223), ('Bend, OR', 'Seattle, WA', 138), ('Elko, NV', 'Portland, OR', 3), ('Elko, NV', 'San Jose, CA', 2), ('Abilene, TX', 'Elko, NV', 2)]), ('2000-11', [('Bend, OR', 'Portland, OR', 218), ('Bend, OR', 'Seattle, WA', 135), ('Elko, NV', 'Portland, OR', 2), ('Elko, NV', 'Houston, TX', 2), ('Elko, NV', 'Seattle, WA', 2)]), ('2000-12', [('Bend, OR', 'Portland, OR', 205), ('Bend, OR', 'Seattle, WA', 127), ('Elko, NV', 'Portland, OR', 2), ('Corpus Christi, TX', 'Elko, NV', 2), ('Elko, NV', 'Wichita, KS', 2)]), ('2001-01', [('Bend, OR', 'Portland, OR', 209), ('Bend, OR', 'Seattle, WA', 137), ('Elko, NV', 'Portland, OR', 2), ('Amarillo, TX', 'Elko, NV', 2), ('Elko, NV', 'Rapid City, SD', 1)]), ('2001-02', [('Bend, OR', 'Portland, OR', 183), ('Bend, OR', 'Seattle, WA', 121), ('Elko, NV', 'Rapid City, SD', 3), ('Elko, NV', 'Portland, OR', 2), ('Amarillo, TX', 'Elko, NV', 2)]), ('2001-03', [('Bend, OR', 'Portland, OR', 199), ('Bend, OR', 'Seattle, WA', 129), ('Albuquerque, NM', 'Elko, NV', 3), ('Elko, NV', 'Rapid City, SD', 2), ('Elko, NV', 'Portland, OR', 2)]), ('2001-04', [('Bend, OR', 'Portland, OR', 193), ('Bend, OR', 'Seattle, WA', 139), ('Elko, NV', 'Salt Lake City, UT', 3), ('Elko, NV', 'Seattle, WA', 3), ('Elko, NV', 'Portland, OR', 2)]), ('2001-05', [('Bend, OR', 'Portland, OR', 201), ('Bend, OR', 'Seattle, WA', 145), ('Elko, NV', 'Omaha, NE', 3), ('Elko, NV', 'Portland, OR', 2), ('Elko, NV', 'Milwaukee, WI', 1)]), ('2001-06', [('Bend, OR', 'Portland, OR', 209), ('Bend, OR', 'Seattle, WA', 137), ('Elko, NV', 'Omaha, NE', 3), ('Elko, NV', 'Seattle, WA', 3), ('Abilene, TX', 'Elko, NV', 2)]), ('2001-07', [('Bend, OR', 'Portland, OR', 241), ('Bend, OR', 'Seattle, WA', 143), ('Elko, NV', 'Seattle, WA', 3), ('Elko, NV', 'Minneapolis, MN', 2), ('Elko, NV', 'Portland, OR', 2)]), ('2001-08', [('Bend, OR', 'Portland, OR', 241), ('Bend, OR', 'Seattle, WA', 144), ('Elko, NV', 'Omaha, NE', 4), ('Elko, NV', 'Great Falls, MT', 2), ('Elko, NV', 'Salt Lake City, UT', 2)]), ('2001-09', [('Bend, OR', 'Portland, OR', 143), ('Bend, OR', 'Seattle, WA', 106), ('Elko, NV', 'Green Bay, WI', 2), ('Abilene, TX', 'Elko, NV', 2), ('Elko, NV', 'Omaha, NE', 2)]), ('2001-10', [('Bend, OR', 'Portland, OR', 142), ('Bend, OR', 'Seattle, WA', 116), ('Elko, NV', 'Omaha, NE', 4), ('Albuquerque, NM', 'Elko, NV', 2), ('Elko, NV', 'Portland, OR', 2)]), ('2001-11', [('Bend, OR', 'Portland, OR', 173), ('Bend, OR', 'Seattle, WA', 103), ('Elko, NV', 'Omaha, NE', 3), ('Amarillo, TX', 'Elko, NV', 2), ('Bend, OR', 'Fort Lauderdale, FL', 1)]), ('2001-12', [('Bend, OR', 'Portland, OR', 194), ('Bend, OR', 'Seattle, WA', 77), ('Elko, NV', 'Omaha, NE', 2), ('Elko, NV', 'Grand Junction, CO', 2), ('Elko, NV', 'Spokane, WA', 2)]), ('2002-01', [('Bend, OR', 'Portland, OR', 200), ('Bend, OR', 'Seattle, WA', 84), ('Elko, NV', 'Springfield, MO', 2), ('Elko, NV', 'Kansas City, MO', 2), ('Albuquerque, NM', 'Elko, NV', 2)]), ('2002-02', [('Bend, OR', 'Portland, OR', 165), ('Bend, OR', 'Seattle, WA', 76), ('Elko, NV', 'Portland, OR', 2), ('Elko, NV', 'Wichita Falls, TX', 2), ('Elko, NV', 'Salt Lake City, UT', 2)]), ('2002-03', [('Bend, OR', 'Portland, OR', 180), ('Bend, OR', 'Seattle, WA', 82), ('Elko, NV', 'Salt Lake City, UT', 3), ('Elko, NV', 'Omaha, NE', 3), ('Elko, NV', 'Jackson, WY', 2)]), ('2002-04', [('Bend, OR', 'Portland, OR', 176), ('Bend, OR', 'Seattle, WA', 81), ('Amarillo, TX', 'Elko, NV', 2), ('Elko, NV', 'San Antonio, TX', 2), ('Elko, NV', 'Wichita Falls, TX', 2)]), ('2002-05', [('Bend, OR', 'Portland, OR', 180), ('Bend, OR', 'Seattle, WA', 83), ('Elko, NV', 'Seattle, WA', 3), ('Elko, NV', 'Green Bay, WI', 2), ('Elko, NV', 'Milwaukee, WI', 2)]), ('2002-06', [('Bend, OR', 'Portland, OR', 173), ('Bend, OR', 'Seattle, WA', 91), ('Elko, NV', 'Medford, OR', 2), ('Elko, NV', 'Seattle, WA', 2), ('Elko, NV', 'Missoula, MT', 1)]), ('2002-07', [('Bend, OR', 'Portland, OR', 183), ('Bend, OR', 'Seattle, WA', 122), ('Elko, NV', 'Seattle, WA', 2), ('Albuquerque, NM', 'Elko, NV', 2), ('Elko, NV', 'Omaha, NE', 2)]), ('2002-08', [('Bend, OR', 'Portland, OR', 186), ('Bend, OR', 'Seattle, WA', 124), ('Elko, NV', 'Seattle, WA', 2), ('Elko, NV', 'Spokane, WA', 2), ('Elko, NV', 'Lincoln, NE', 1)]), ('2002-09', [('Bend, OR', 'Portland, OR', 174), ('Bend, OR', 'Seattle, WA', 110), ('Elko, NV', 'Helena, MT', 2), ('Elko, NV', 'Midland, TX', 1), ('Elko, NV', 'Lubbock, TX', 1)]), ('2002-10', [('Bend, OR', 'Portland, OR', 377), ('Bend, OR', 'Seattle, WA', 115), ('Bend, OR', 'San Francisco, CA', 92), ('Dallas, TX', 'Enid, OK', 47), ('El Paso, TX', 'Elko, NV', 2)]), ('2002-11', [('Bend, OR', 'Portland, OR', 363), ('Elko, NV', 'Salt Lake City, UT', 168), ('Elko, NV', 'Reno, NV', 110), ('Bend, OR', 'Seattle, WA', 107), ('Bend, OR', 'San Francisco, CA', 87)]), ('2002-12', [('Bend, OR', 'Portland, OR', 374), ('Elko, NV', 'Salt Lake City, UT', 167), ('Bend, OR', 'Seattle, WA', 113), ('Elko, NV', 'Reno, NV', 101), ('Bend, OR', 'San Francisco, CA', 93)]), ('2003-01', [('Bend, OR', 'Portland, OR', 359), ('Elko, NV', 'Salt Lake City, UT', 175), ('Elko, NV', 'Reno, NV', 113), ('Bend, OR', 'Seattle, WA', 107), ('Bend, OR', 'San Francisco, CA', 89)]), ('2003-02', [('Bend, OR', 'Portland, OR', 345), ('Elko, NV', 'Salt Lake City, UT', 161), ('Elko, NV', 'Reno, NV', 105), ('Bend, OR', 'Seattle, WA', 104), ('Bend, OR', 'San Francisco, CA', 84)]), ('2003-03', [('Bend, OR', 'Portland, OR', 380), ('Elko, NV', 'Salt Lake City, UT', 181), ('Elko, NV', 'Reno, NV', 119), ('Bend, OR', 'Seattle, WA', 113), ('Bend, OR', 'San Francisco, CA', 93)]), ('2003-04', [('Bend, OR', 'Portland, OR', 334), ('Elko, NV', 'Salt Lake City, UT', 176), ('Elko, NV', 'Reno, NV', 115), ('Bend, OR', 'Seattle, WA', 108), ('Bend, OR', 'San Francisco, CA', 89)]), ('2003-05', [('Bend, OR', 'Portland, OR', 339), ('Elko, NV', 'Salt Lake City, UT', 119), ('Bend, OR', 'Seattle, WA', 114), ('Elko, NV', 'Reno, NV', 86), ('Bend, OR', 'San Francisco, CA', 66)]), ('2003-06', [('Bend, OR', 'Portland, OR', 355), ('Elko, NV', 'Salt Lake City, UT', 177), ('Bend, OR', 'Seattle, WA', 141), ('Elko, NV', 'Reno, NV', 115), ('Bend, OR', 'San Francisco, CA', 60)]), ('2003-07', [('Bend, OR', 'Portland, OR', 376), ('Bend, OR', 'Seattle, WA', 154), ('Elko, NV', 'Salt Lake City, UT', 148), ('Elko, NV', 'Reno, NV', 83), ('Bend, OR', 'San Francisco, CA', 61)]), ('2003-08', [('Bend, OR', 'Portland, OR', 376), ('Elko, NV', 'Salt Lake City, UT', 143), ('Bend, OR', 'Seattle, WA', 136), ('Elko, NV', 'Reno, NV', 80), ('Bend, OR', 'San Francisco, CA', 62)]), ('2003-09', [('Bend, OR', 'Portland, OR', 331), ('Elko, NV', 'Salt Lake City, UT', 143), ('Bend, OR', 'Seattle, WA', 113), ('Elko, NV', 'Reno, NV', 82), ('Bend, OR', 'San Francisco, CA', 61)]), ('2003-10', [('Bend, OR', 'Portland, OR', 342), ('Elko, NV', 'Salt Lake City, UT', 145), ('Bend, OR', 'Seattle, WA', 116), ('Elko, NV', 'Reno, NV', 82), ('Bend, OR', 'San Francisco, CA', 62)]), ('2003-11', [('Bend, OR', 'Portland, OR', 328), ('Elko, NV', 'Salt Lake City, UT', 133), ('Bend, OR', 'Seattle, WA', 113), ('Elko, NV', 'Reno, NV', 73), ('Bend, OR', 'San Francisco, CA', 59)]), ('2003-12', [('Bend, OR', 'Portland, OR', 369), ('Elko, NV', 'Salt Lake City, UT', 134), ('Bend, OR', 'Seattle, WA', 113), ('Elko, NV', 'Reno, NV', 71), ('Bend, OR', 'San Francisco, CA', 58)]), ('2004-01', [('Bend, OR', 'Portland, OR', 297), ('Elko, NV', 'Salt Lake City, UT', 136), ('Bend, OR', 'Seattle, WA', 102), ('Elko, NV', 'Reno, NV', 74), ('Bend, OR', 'San Francisco, CA', 60)]), ('2004-02', [('Bend, OR', 'Portland, OR', 325), ('Elko, NV', 'Salt Lake City, UT', 126), ('Bend, OR', 'Seattle, WA', 114), ('Elko, NV', 'Reno, NV', 72), ('Bend, OR', 'San Francisco, CA', 58)]), ('2004-03', [('Bend, OR', 'Portland, OR', 343), ('Elko, NV', 'Salt Lake City, UT', 144), ('Bend, OR', 'Seattle, WA', 123), ('Elko, NV', 'Reno, NV', 81), ('Bend, OR', 'San Francisco, CA', 61)]), ('2004-04', [('Bend, OR', 'Portland, OR', 329), ('Elko, NV', 'Salt Lake City, UT', 141), ('Bend, OR', 'Seattle, WA', 120), ('Elko, NV', 'Reno, NV', 82), ('Bend, OR', 'San Francisco, CA', 60)]), ('2004-05', [('Bend, OR', 'Portland, OR', 342), ('Elko, NV', 'Salt Lake City, UT', 143), ('Bend, OR', 'Seattle, WA', 123), ('Elko, NV', 'Reno, NV', 81), ('Bend, OR', 'San Francisco, CA', 62)]), ('2004-06', [('Bend, OR', 'Portland, OR', 364), ('Bend, OR', 'Seattle, WA', 145), ('Elko, NV', 'Salt Lake City, UT', 141), ('Elko, NV', 'Reno, NV', 81), ('Bend, OR', 'San Francisco, CA', 60)]), ('2004-07', [('Bend, OR', 'Portland, OR', 377), ('Bend, OR', 'Seattle, WA', 154), ('Elko, NV', 'Salt Lake City, UT', 143), ('Elko, NV', 'Reno, NV', 82), ('Bend, OR', 'San Francisco, CA', 61)]), ('2004-08', [('Bend, OR', 'Portland, OR', 382), ('Bend, OR', 'Seattle, WA', 155), ('Elko, NV', 'Salt Lake City, UT', 147), ('Elko, NV', 'Reno, NV', 84), ('Bend, OR', 'San Francisco, CA', 62)]), ('2004-09', [('Bend, OR', 'Portland, OR', 344), ('Bend, OR', 'Seattle, WA', 144), ('Elko, NV', 'Salt Lake City, UT', 133), ('Elko, NV', 'Reno, NV', 76), ('Bend, OR', 'San Francisco, CA', 60)]), ('2004-10', [('Bend, OR', 'Portland, OR', 344), ('Bend, OR', 'Seattle, WA', 145), ('Elko, NV', 'Salt Lake City, UT', 142), ('Elko, NV', 'Reno, NV', 81), ('Bend, OR', 'San Francisco, CA', 59)]), ('2004-11', [('Bend, OR', 'Portland, OR', 341), ('Bend, OR', 'Seattle, WA', 143), ('Elko, NV', 'Salt Lake City, UT', 130), ('Elko, NV', 'Reno, NV', 69), ('Bend, OR', 'San Francisco, CA', 59)]), ('2004-12', [('Bend, OR', 'Portland, OR', 356), ('Bend, OR', 'Seattle, WA', 150), ('Elko, NV', 'Salt Lake City, UT', 136), ('Elko, NV', 'Reno, NV', 75), ('Bend, OR', 'San Francisco, CA', 58)]), ('2005-01', [('Bend, OR', 'Portland, OR', 330), ('Bend, OR', 'Seattle, WA', 146), ('Elko, NV', 'Salt Lake City, UT', 103), ('Bend, OR', 'San Francisco, CA', 62), ('Elko, NV', 'Reno, NV', 48)]), ('2005-02', [('Bend, OR', 'Portland, OR', 312), ('Bend, OR', 'Seattle, WA', 130), ('Elko, NV', 'Salt Lake City, UT', 125), ('Elko, NV', 'Reno, NV', 64), ('Bend, OR', 'San Francisco, CA', 55)]), ('2005-03', [('Bend, OR', 'Portland, OR', 353), ('Bend, OR', 'Seattle, WA', 148), ('Elko, NV', 'Salt Lake City, UT', 134), ('Elko, NV', 'Reno, NV', 64), ('Bend, OR', 'Salt Lake City, UT', 61)]), ('2005-04', [('Bend, OR', 'Portland, OR', 338), ('Bend, OR', 'Seattle, WA', 141), ('Elko, NV', 'Salt Lake City, UT', 128), ('Bend, OR', 'San Francisco, CA', 59), ('Bend, OR', 'Salt Lake City, UT', 59)]), ('2005-05', [('Bend, OR', 'Portland, OR', 345), ('Bend, OR', 'Seattle, WA', 145), ('Elko, NV', 'Salt Lake City, UT', 135), ('Bend, OR', 'San Francisco, CA', 85), ('Bend, OR', 'Salt Lake City, UT', 62)]), ('2005-06', [('Bend, OR', 'Portland, OR', 351), ('Elko, NV', 'Salt Lake City, UT', 166), ('Bend, OR', 'Seattle, WA', 145), ('Bend, OR', 'San Francisco, CA', 89), ('Bend, OR', 'Salt Lake City, UT', 60)]), ('2005-07', [('Bend, OR', 'Portland, OR', 385), ('Elko, NV', 'Salt Lake City, UT', 167), ('Bend, OR', 'Seattle, WA', 154), ('Bend, OR', 'San Francisco, CA', 88), ('Bend, OR', 'Salt Lake City, UT', 62)]), ('2005-08', [('Bend, OR', 'Portland, OR', 387), ('Elko, NV', 'Salt Lake City, UT', 172), ('Bend, OR', 'Seattle, WA', 153), ('Bend, OR', 'San Francisco, CA', 93), ('Bend, OR', 'Salt Lake City, UT', 62)]), ('2005-09', [('Bend, OR', 'Portland, OR', 367), ('Elko, NV', 'Salt Lake City, UT', 167), ('Bend, OR', 'Seattle, WA', 144), ('Bend, OR', 'San Francisco, CA', 66), ('Bend, OR', 'Salt Lake City, UT', 60)]), ('2005-10', [('Bend, OR', 'Portland, OR', 374), ('Elko, NV', 'Salt Lake City, UT', 168), ('Bend, OR', 'Seattle, WA', 145), ('Bend, OR', 'Salt Lake City, UT', 62), ('Bend, OR', 'San Francisco, CA', 61)]), ('2005-11', [('Bend, OR', 'Portland, OR', 339), ('Elko, NV', 'Salt Lake City, UT', 156), ('Bend, OR', 'Seattle, WA', 127), ('Bend, OR', 'San Francisco, CA', 54), ('Bend, OR', 'Salt Lake City, UT', 54)]), ('2005-12', [('Bend, OR', 'Portland, OR', 384), ('Bend, OR', 'Seattle, WA', 139), ('Elko, NV', 'Salt Lake City, UT', 128), ('Bend, OR', 'Salt Lake City, UT', 81), ('Bend, OR', 'San Francisco, CA', 75)]), ('2006-01', [('Bend, OR', 'Portland, OR', 351), ('Bend, OR', 'Seattle, WA', 147), ('Elko, NV', 'Salt Lake City, UT', 146), ('Bend, OR', 'San Francisco, CA', 90), ('Bend, OR', 'Salt Lake City, UT', 79)]), ('2006-02', [('Bend, OR', 'Portland, OR', 299), ('Bend, OR', 'Seattle, WA', 132), ('Elko, NV', 'Salt Lake City, UT', 131), ('Bend, OR', 'San Francisco, CA', 80), ('Bend, OR', 'Salt Lake City, UT', 71)]), ('2006-03', [('Bend, OR', 'Portland, OR', 340), ('Bend, OR', 'Seattle, WA', 145), ('Elko, NV', 'Salt Lake City, UT', 140), ('Bend, OR', 'San Francisco, CA', 87), ('Bend, OR', 'Salt Lake City, UT', 84)]), ('2006-04', [('Bend, OR', 'Portland, OR', 337), ('Bend, OR', 'Seattle, WA', 147), ('Elko, NV', 'Salt Lake City, UT', 140), ('Bend, OR', 'San Francisco, CA', 88), ('Bend, OR', 'Salt Lake City, UT', 80)]), ('2006-05', [('Bend, OR', 'Portland, OR', 345), ('Elko, NV', 'Salt Lake City, UT', 148), ('Bend, OR', 'Seattle, WA', 129), ('Bend, OR', 'San Francisco, CA', 92), ('Bend, OR', 'Salt Lake City, UT', 85)]), ('2006-06', [('Bend, OR', 'Portland, OR', 337), ('Bend, OR', 'Seattle, WA', 147), ('Elko, NV', 'Salt Lake City, UT', 143), ('Bend, OR', 'San Francisco, CA', 89), ('Bend, OR', 'Salt Lake City, UT', 85)]), ('2006-07', [('Bend, OR', 'Portland, OR', 337), ('Bend, OR', 'Seattle, WA', 153), ('Elko, NV', 'Salt Lake City, UT', 144), ('Bend, OR', 'San Francisco, CA', 92), ('Bend, OR', 'Salt Lake City, UT', 87)]), ('2006-08', [('Bend, OR', 'Portland, OR', 352), ('Bend, OR', 'Seattle, WA', 153), ('Elko, NV', 'Salt Lake City, UT', 148), ('Bend, OR', 'San Francisco, CA', 93), ('Bend, OR', 'Salt Lake City, UT', 89)]), ('2006-09', [('Bend, OR', 'Portland, OR', 330), ('Bend, OR', 'Seattle, WA', 145), ('Elko, NV', 'Salt Lake City, UT', 144), ('Bend, OR', 'San Francisco, CA', 89), ('Bend, OR', 'Salt Lake City, UT', 63)]), ('2006-10', [('Bend, OR', 'Portland, OR', 352), ('Elko, NV', 'Salt Lake City, UT', 151), ('Bend, OR', 'Seattle, WA', 147), ('Bend, OR', 'San Francisco, CA', 92), ('Bend, OR', 'Salt Lake City, UT', 62)]), ('2006-11', [('Bend, OR', 'Portland, OR', 333), ('Elko, NV', 'Salt Lake City, UT', 143), ('Bend, OR', 'Seattle, WA', 141), ('Bend, OR', 'San Francisco, CA', 88), ('Bend, OR', 'Salt Lake City, UT', 58)]), ('2006-12', [('Bend, OR', 'Portland, OR', 361), ('Elko, NV', 'Salt Lake City, UT', 144), ('Bend, OR', 'Seattle, WA', 141), ('Bend, OR', 'San Francisco, CA', 91), ('Bend, OR', 'Salt Lake City, UT', 61)]), ('2007-01', [('Bend, OR', 'Portland, OR', 356), ('Elko, NV', 'Salt Lake City, UT', 144), ('Bend, OR', 'Seattle, WA', 117), ('Bend, OR', 'San Francisco, CA', 90), ('Bend, OR', 'Salt Lake City, UT', 61)]), ('2007-02', [('Bend, OR', 'Portland, OR', 317), ('Elko, NV', 'Salt Lake City, UT', 132), ('Bend, OR', 'Seattle, WA', 106), ('Bend, OR', 'San Francisco, CA', 80), ('Bend, OR', 'Salt Lake City, UT', 54)]), ('2007-03', [('Bend, OR', 'Portland, OR', 356), ('Elko, NV', 'Salt Lake City, UT', 150), ('Bend, OR', 'Seattle, WA', 119), ('Bend, OR', 'San Francisco, CA', 93), ('Bend, OR', 'Salt Lake City, UT', 62)]), ('2007-04', [('Bend, OR', 'Portland, OR', 333), ('Elko, NV', 'Salt Lake City, UT', 150), ('Bend, OR', 'Seattle, WA', 139), ('Bend, OR', 'San Francisco, CA', 90), ('Bend, OR', 'Salt Lake City, UT', 60)]), ('2007-05', [('Bend, OR', 'Portland, OR', 356), ('Bend, OR', 'Seattle, WA', 150), ('Elko, NV', 'Salt Lake City, UT', 150), ('Bend, OR', 'San Francisco, CA', 91), ('Bend, OR', 'Salt Lake City, UT', 62)]), ('2007-06', [('Bend, OR', 'Portland, OR', 347), ('Elko, NV', 'Salt Lake City, UT', 158), ('Bend, OR', 'Seattle, WA', 149), ('Bend, OR', 'San Francisco, CA', 90), ('Bend, OR', 'Salt Lake City, UT', 84)]), ('2007-07', [('Bend, OR', 'Portland, OR', 349), ('Elko, NV', 'Salt Lake City, UT', 167), ('Bend, OR', 'Seattle, WA', 122), ('Bend, OR', 'San Francisco, CA', 92), ('Bend, OR', 'Salt Lake City, UT', 90)]), ('2007-08', [('Bend, OR', 'Portland, OR', 361), ('Elko, NV', 'Salt Lake City, UT', 168), ('Bend, OR', 'Seattle, WA', 124), ('Bend, OR', 'San Francisco, CA', 93), ('Bend, OR', 'Salt Lake City, UT', 92)]), ('2007-09', [('Bend, OR', 'Portland, OR', 322), ('Elko, NV', 'Salt Lake City, UT', 156), ('Bend, OR', 'Seattle, WA', 113), ('Bend, OR', 'San Francisco, CA', 89), ('Bend, OR', 'Salt Lake City, UT', 62)]), ('2007-10', [('Bend, OR', 'Portland, OR', 349), ('Elko, NV', 'Salt Lake City, UT', 150), ('Bend, OR', 'Seattle, WA', 115), ('Bend, OR', 'San Francisco, CA', 93), ('Bend, OR', 'Salt Lake City, UT', 62)]), ('2007-11', [('Bend, OR', 'Portland, OR', 331), ('Elko, NV', 'Salt Lake City, UT', 143), ('Bend, OR', 'Seattle, WA', 108), ('Bend, OR', 'San Francisco, CA', 90), ('Bend, OR', 'Salt Lake City, UT', 59)]), ('2007-12', [('Bend, OR', 'Portland, OR', 366), ('Elko, NV', 'Salt Lake City, UT', 137), ('Bend, OR', 'Seattle, WA', 115), ('Bend, OR', 'San Francisco, CA', 91), ('Bend, OR', 'Salt Lake City, UT', 66)]), ('2008-01', [('Bend, OR', 'Portland, OR', 351), ('Elko, NV', 'Salt Lake City, UT', 136), ('Bend, OR', 'Seattle, WA', 117), ('Bend, OR', 'San Francisco, CA', 85), ('Bend, OR', 'Salt Lake City, UT', 57)]), ('2008-02', [('Bend, OR', 'Portland, OR', 338), ('Elko, NV', 'Salt Lake City, UT', 138), ('Bend, OR', 'Seattle, WA', 109), ('Bend, OR', 'San Francisco, CA', 83), ('Bend, OR', 'Salt Lake City, UT', 56)]), ('2008-03', [('Bend, OR', 'Portland, OR', 350), ('Elko, NV', 'Salt Lake City, UT', 149), ('Bend, OR', 'Seattle, WA', 119), ('Bend, OR', 'San Francisco, CA', 93), ('Bend, OR', 'Salt Lake City, UT', 62)]), ('2008-04', [('Bend, OR', 'Portland, OR', 336), ('Elko, NV', 'Salt Lake City, UT', 146), ('Bend, OR', 'Seattle, WA', 114), ('Bend, OR', 'San Francisco, CA', 90), ('Bend, OR', 'Salt Lake City, UT', 60)]), ('2008-05', [('Bend, OR', 'Portland, OR', 344), ('Elko, NV', 'Salt Lake City, UT', 150), ('Bend, OR', 'Seattle, WA', 116), ('Bend, OR', 'San Francisco, CA', 92), ('Bend, OR', 'Salt Lake City, UT', 62)]), ('2008-06', [('Bend, OR', 'Portland, OR', 336), ('Elko, NV', 'Salt Lake City, UT', 124), ('Bend, OR', 'Seattle, WA', 118), ('Bend, OR', 'San Francisco, CA', 88), ('Bend, OR', 'Salt Lake City, UT', 61)]), ('2008-07', [('Bend, OR', 'Portland, OR', 350), ('Elko, NV', 'Salt Lake City, UT', 122), ('Bend, OR', 'Seattle, WA', 121), ('Bend, OR', 'San Francisco, CA', 92), ('Bend, OR', 'Salt Lake City, UT', 61)]), ('2008-08', [('Bend, OR', 'Portland, OR', 347), ('Elko, NV', 'Salt Lake City, UT', 121), ('Bend, OR', 'Seattle, WA', 114), ('Bend, OR', 'San Francisco, CA', 91), ('Bend, OR', 'Salt Lake City, UT', 62)]), ('2008-09', [('Bend, OR', 'Portland, OR', 282), ('Elko, NV', 'Salt Lake City, UT', 119), ('Bend, OR', 'San Francisco, CA', 90), ('Bend, OR', 'Seattle, WA', 84), ('Bend, OR', 'Salt Lake City, UT', 60)]), ('2008-10', [('Bend, OR', 'Portland, OR', 280), ('Elko, NV', 'Salt Lake City, UT', 124), ('Bend, OR', 'San Francisco, CA', 93), ('Bend, OR', 'Seattle, WA', 89), ('Bend, OR', 'Salt Lake City, UT', 62)]), ('2008-11', [('Bend, OR', 'Portland, OR', 239), ('Elko, NV', 'Salt Lake City, UT', 116), ('Bend, OR', 'San Francisco, CA', 91), ('Bend, OR', 'Seattle, WA', 84), ('Bend, OR', 'Salt Lake City, UT', 59)]), ('2008-12', [('Bend, OR', 'Portland, OR', 251), ('Elko, NV', 'Salt Lake City, UT', 119), ('Bend, OR', 'San Francisco, CA', 89), ('Bend, OR', 'Seattle, WA', 83), ('Bend, OR', 'Salt Lake City, UT', 60)]), ('2009-01', [('Bend, OR', 'Portland, OR', 241), ('Elko, NV', 'Salt Lake City, UT', 117), ('Bend, OR', 'San Francisco, CA', 87), ('Bend, OR', 'Seattle, WA', 78), ('Bend, OR', 'Salt Lake City, UT', 55)]), ('2009-02', [('Bend, OR', 'Portland, OR', 227), ('Elko, NV', 'Salt Lake City, UT', 111), ('Bend, OR', 'San Francisco, CA', 79), ('Bend, OR', 'Seattle, WA', 78), ('Bend, OR', 'Salt Lake City, UT', 54)]), ('2009-03', [('Bend, OR', 'Portland, OR', 251), ('Elko, NV', 'Salt Lake City, UT', 124), ('Bend, OR', 'San Francisco, CA', 90), ('Bend, OR', 'Seattle, WA', 88), ('Bend, OR', 'Salt Lake City, UT', 57)]), ('2009-04', [('Bend, OR', 'Portland, OR', 244), ('Elko, NV', 'Salt Lake City, UT', 114), ('Bend, OR', 'San Francisco, CA', 90), ('Bend, OR', 'Seattle, WA', 85), ('Bend, OR', 'Salt Lake City, UT', 60)]), ('2009-05', [('Bend, OR', 'Portland, OR', 249), ('Elko, NV', 'Salt Lake City, UT', 116), ('Bend, OR', 'San Francisco, CA', 91), ('Bend, OR', 'Seattle, WA', 82), ('Bend, OR', 'Salt Lake City, UT', 56)]), ('2009-06', [('Bend, OR', 'Portland, OR', 245), ('Elko, NV', 'Salt Lake City, UT', 116), ('Bend, OR', 'Seattle, WA', 84), ('Bend, OR', 'San Francisco, CA', 63), ('Bend, OR', 'Salt Lake City, UT', 61)]), ('2009-07', [('Bend, OR', 'Portland, OR', 255), ('Elko, NV', 'Salt Lake City, UT', 119), ('Bend, OR', 'Seattle, WA', 90), ('Bend, OR', 'San Francisco, CA', 63), ('Bend, OR', 'Salt Lake City, UT', 61)]), ('2009-08', [('Bend, OR', 'Portland, OR', 261), ('Elko, NV', 'Salt Lake City, UT', 118), ('Bend, OR', 'Seattle, WA', 88), ('Bend, OR', 'Salt Lake City, UT', 62), ('Bend, OR', 'San Francisco, CA', 61)]), ('2009-09', [('Bend, OR', 'Portland, OR', 244), ('Elko, NV', 'Salt Lake City, UT', 116), ('Bend, OR', 'Seattle, WA', 84), ('Bend, OR', 'San Francisco, CA', 60), ('Bend, OR', 'Salt Lake City, UT', 60)]), ('2009-10', [('Bend, OR', 'Portland, OR', 255), ('Elko, NV', 'Salt Lake City, UT', 118), ('Bend, OR', 'Seattle, WA', 84), ('Bend, OR', 'San Francisco, CA', 62), ('Bend, OR', 'Salt Lake City, UT', 53)]), ('2009-11', [('Bend, OR', 'Portland, OR', 242), ('Elko, NV', 'Salt Lake City, UT', 118), ('Bend, OR', 'Seattle, WA', 81), ('Bend, OR', 'San Francisco, CA', 59), ('Bend, OR', 'Salt Lake City, UT', 52)]), ('2009-12', [('Bend, OR', 'Portland, OR', 268), ('Elko, NV', 'Salt Lake City, UT', 111), ('Bend, OR', 'Seattle, WA', 88), ('Bend, OR', 'San Francisco, CA', 63), ('Bend, OR', 'Salt Lake City, UT', 57)])]\n",
      "\n",
      " Medium:  [('1990-01', [('Miami, FL', 'New York, NY', 845), ('Hilo, HI', 'Honolulu, HI', 611), ('Atlanta, GA', 'Miami, FL', 603), ('Miami, FL', 'Orlando, FL', 603), ('Miami, FL', 'Tampa, FL', 498)]), ('1990-02', [('Miami, FL', 'New York, NY', 793), ('Atlanta, GA', 'Miami, FL', 558), ('Hilo, HI', 'Honolulu, HI', 533), ('Miami, FL', 'Orlando, FL', 418), ('Miami, FL', 'Washington, DC', 382)]), ('1990-03', [('Miami, FL', 'New York, NY', 838), ('Hilo, HI', 'Honolulu, HI', 592), ('Atlanta, GA', 'Miami, FL', 577), ('Miami, FL', 'Orlando, FL', 467), ('Miami, FL', 'Washington, DC', 428)]), ('1990-04', [('Miami, FL', 'New York, NY', 829), ('Hilo, HI', 'Honolulu, HI', 593), ('Atlanta, GA', 'Miami, FL', 532), ('Miami, FL', 'Orlando, FL', 445), ('Miami, FL', 'Washington, DC', 396)]), ('1990-05', [('Miami, FL', 'New York, NY', 772), ('Hilo, HI', 'Honolulu, HI', 620), ('Atlanta, GA', 'Miami, FL', 549), ('Miami, FL', 'Tampa, FL', 421), ('Miami, FL', 'Orlando, FL', 414)]), ('1990-06', [('Miami, FL', 'New York, NY', 767), ('Hilo, HI', 'Honolulu, HI', 635), ('Atlanta, GA', 'Miami, FL', 530), ('Miami, FL', 'Orlando, FL', 421), ('Miami, FL', 'Tampa, FL', 407)]), ('1990-07', [('Miami, FL', 'New York, NY', 828), ('Hilo, HI', 'Honolulu, HI', 669), ('Atlanta, GA', 'Miami, FL', 556), ('Miami, FL', 'Orlando, FL', 450), ('Miami, FL', 'Tampa, FL', 432)]), ('1990-08', [('Miami, FL', 'New York, NY', 821), ('Hilo, HI', 'Honolulu, HI', 723), ('Atlanta, GA', 'Miami, FL', 540), ('Miami, FL', 'Orlando, FL', 511), ('Miami, FL', 'Tampa, FL', 428)]), ('1990-09', [('Miami, FL', 'New York, NY', 749), ('Hilo, HI', 'Honolulu, HI', 662), ('Miami, FL', 'Orlando, FL', 573), ('Atlanta, GA', 'Miami, FL', 535), ('Miami, FL', 'Tampa, FL', 464)]), ('1990-10', [('Miami, FL', 'New York, NY', 736), ('Hilo, HI', 'Honolulu, HI', 672), ('Miami, FL', 'Orlando, FL', 617), ('Atlanta, GA', 'Miami, FL', 554), ('Miami, FL', 'Tampa, FL', 510)]), ('1990-11', [('Miami, FL', 'Orlando, FL', 692), ('Miami, FL', 'New York, NY', 670), ('Hilo, HI', 'Honolulu, HI', 641), ('Miami, FL', 'Tampa, FL', 551), ('Atlanta, GA', 'Miami, FL', 533)]), ('1990-12', [('Miami, FL', 'New York, NY', 756), ('Hilo, HI', 'Honolulu, HI', 674), ('Miami, FL', 'Orlando, FL', 658), ('Miami, FL', 'Tampa, FL', 592), ('Atlanta, GA', 'Miami, FL', 554)]), ('1991-01', [('Miami, FL', 'New York, NY', 730), ('Hilo, HI', 'Honolulu, HI', 686), ('Miami, FL', 'Orlando, FL', 635), ('Miami, FL', 'Tampa, FL', 517), ('Atlanta, GA', 'Miami, FL', 440)]), ('1991-02', [('Hilo, HI', 'Honolulu, HI', 615), ('Miami, FL', 'New York, NY', 569), ('Miami, FL', 'Orlando, FL', 551), ('Miami, FL', 'Tampa, FL', 436), ('Bend, OR', 'Portland, OR', 351)]), ('1991-03', [('Miami, FL', 'New York, NY', 705), ('Hilo, HI', 'Honolulu, HI', 668), ('Miami, FL', 'Orlando, FL', 624), ('Miami, FL', 'Tampa, FL', 490), ('Atlanta, GA', 'Miami, FL', 432)]), ('1991-04', [('Miami, FL', 'New York, NY', 780), ('Hilo, HI', 'Honolulu, HI', 616), ('Miami, FL', 'Orlando, FL', 597), ('Miami, FL', 'Tampa, FL', 447), ('Atlanta, GA', 'Miami, FL', 416)]), ('1991-05', [('Miami, FL', 'New York, NY', 771), ('Miami, FL', 'Orlando, FL', 655), ('Hilo, HI', 'Honolulu, HI', 638), ('Atlanta, GA', 'Miami, FL', 434), ('Las Vegas, NV', 'Reno, NV', 412)]), ('1991-06', [('Miami, FL', 'New York, NY', 736), ('Miami, FL', 'Orlando, FL', 693), ('Hilo, HI', 'Honolulu, HI', 614), ('Atlanta, GA', 'Miami, FL', 459), ('Las Vegas, NV', 'Reno, NV', 400)]), ('1991-07', [('Miami, FL', 'New York, NY', 801), ('Miami, FL', 'Orlando, FL', 705), ('Hilo, HI', 'Honolulu, HI', 703), ('Atlanta, GA', 'Miami, FL', 464), ('Bend, OR', 'Portland, OR', 410)]), ('1991-08', [('Miami, FL', 'New York, NY', 795), ('Miami, FL', 'Orlando, FL', 704), ('Hilo, HI', 'Honolulu, HI', 675), ('Atlanta, GA', 'Miami, FL', 479), ('Bend, OR', 'Portland, OR', 411)]), ('1991-09', [('Miami, FL', 'New York, NY', 749), ('Miami, FL', 'Orlando, FL', 658), ('Hilo, HI', 'Honolulu, HI', 611), ('Atlanta, GA', 'Miami, FL', 437), ('Bend, OR', 'Portland, OR', 386)]), ('1991-10', [('Miami, FL', 'New York, NY', 801), ('Miami, FL', 'Orlando, FL', 735), ('Hilo, HI', 'Honolulu, HI', 623), ('Atlanta, GA', 'Miami, FL', 456), ('Bend, OR', 'Portland, OR', 412)]), ('1991-11', [('Miami, FL', 'New York, NY', 739), ('Hilo, HI', 'Honolulu, HI', 613), ('Miami, FL', 'Orlando, FL', 582), ('Atlanta, GA', 'Miami, FL', 415), ('Bend, OR', 'Portland, OR', 387)]), ('1991-12', [('Hilo, HI', 'Honolulu, HI', 660), ('Miami, FL', 'New York, NY', 638), ('Miami, FL', 'Orlando, FL', 540), ('Atlanta, GA', 'Miami, FL', 407), ('Bend, OR', 'Portland, OR', 397)]), ('1992-01', [('Hilo, HI', 'Honolulu, HI', 677), ('Miami, FL', 'New York, NY', 640), ('Miami, FL', 'Orlando, FL', 538), ('Las Vegas, NV', 'Reno, NV', 401), ('Bend, OR', 'Portland, OR', 399)]), ('1992-02', [('Miami, FL', 'New York, NY', 758), ('Hilo, HI', 'Honolulu, HI', 635), ('Miami, FL', 'Orlando, FL', 502), ('Atlanta, GA', 'Miami, FL', 402), ('Bend, OR', 'Portland, OR', 382)]), ('1992-03', [('Miami, FL', 'New York, NY', 841), ('Hilo, HI', 'Honolulu, HI', 680), ('Miami, FL', 'Orlando, FL', 566), ('Bend, OR', 'Portland, OR', 435), ('Atlanta, GA', 'Miami, FL', 429)]), ('1992-04', [('Miami, FL', 'New York, NY', 810), ('Hilo, HI', 'Honolulu, HI', 664), ('Miami, FL', 'Orlando, FL', 557), ('Bend, OR', 'Portland, OR', 437), ('Atlanta, GA', 'Miami, FL', 416)]), ('1992-05', [('Miami, FL', 'New York, NY', 746), ('Hilo, HI', 'Honolulu, HI', 692), ('Miami, FL', 'Orlando, FL', 550), ('Atlanta, GA', 'Miami, FL', 432), ('Bend, OR', 'Portland, OR', 425)]), ('1992-06', [('Miami, FL', 'New York, NY', 717), ('Hilo, HI', 'Honolulu, HI', 688), ('Miami, FL', 'Orlando, FL', 540), ('Atlanta, GA', 'Miami, FL', 428), ('Bend, OR', 'Portland, OR', 420)]), ('1992-07', [('Hilo, HI', 'Honolulu, HI', 798), ('Miami, FL', 'New York, NY', 760), ('Miami, FL', 'Orlando, FL', 558), ('Bend, OR', 'Portland, OR', 442), ('Atlanta, GA', 'Miami, FL', 441)]), ('1992-08', [('Hilo, HI', 'Honolulu, HI', 799), ('Miami, FL', 'New York, NY', 714), ('Miami, FL', 'Orlando, FL', 510), ('Bend, OR', 'Portland, OR', 435), ('Atlanta, GA', 'Miami, FL', 406)]), ('1992-09', [('Hilo, HI', 'Honolulu, HI', 738), ('Miami, FL', 'New York, NY', 715), ('Miami, FL', 'Orlando, FL', 537), ('Atlanta, GA', 'Miami, FL', 423), ('Bend, OR', 'Portland, OR', 421)]), ('1992-10', [('Hilo, HI', 'Honolulu, HI', 780), ('Miami, FL', 'New York, NY', 743), ('Miami, FL', 'Orlando, FL', 549), ('Atlanta, GA', 'Miami, FL', 443), ('Bend, OR', 'Portland, OR', 435)]), ('1992-11', [('Miami, FL', 'New York, NY', 799), ('Hilo, HI', 'Honolulu, HI', 737), ('Miami, FL', 'Orlando, FL', 587), ('Atlanta, GA', 'Miami, FL', 427), ('Miami, FL', 'Washington, DC', 417)]), ('1992-12', [('Miami, FL', 'New York, NY', 811), ('Hilo, HI', 'Honolulu, HI', 773), ('Miami, FL', 'Orlando, FL', 596), ('Atlanta, GA', 'Miami, FL', 441), ('Miami, FL', 'Washington, DC', 439)]), ('1993-01', [('Miami, FL', 'New York, NY', 902), ('Hilo, HI', 'Honolulu, HI', 787), ('Miami, FL', 'Orlando, FL', 570), ('Miami, FL', 'Washington, DC', 456), ('Atlanta, GA', 'Miami, FL', 445)]), ('1993-02', [('Miami, FL', 'New York, NY', 818), ('Hilo, HI', 'Honolulu, HI', 649), ('Miami, FL', 'Orlando, FL', 559), ('Atlanta, GA', 'Miami, FL', 399), ('Bend, OR', 'Portland, OR', 387)]), ('1993-03', [('Miami, FL', 'New York, NY', 869), ('Hilo, HI', 'Honolulu, HI', 708), ('Miami, FL', 'Orlando, FL', 615), ('Bend, OR', 'Portland, OR', 442), ('Atlanta, GA', 'Miami, FL', 422)]), ('1993-04', [('Miami, FL', 'New York, NY', 895), ('Hilo, HI', 'Honolulu, HI', 679), ('Miami, FL', 'Orlando, FL', 588), ('Bend, OR', 'Portland, OR', 456), ('Atlanta, GA', 'Miami, FL', 430)]), ('1993-05', [('Miami, FL', 'New York, NY', 890), ('Hilo, HI', 'Honolulu, HI', 693), ('Miami, FL', 'Orlando, FL', 599), ('Atlanta, GA', 'Miami, FL', 452), ('Bend, OR', 'Portland, OR', 450)]), ('1993-06', [('Miami, FL', 'New York, NY', 850), ('Hilo, HI', 'Honolulu, HI', 726), ('Miami, FL', 'Orlando, FL', 583), ('Atlanta, GA', 'Miami, FL', 454), ('Bend, OR', 'Portland, OR', 420)]), ('1993-07', [('Miami, FL', 'New York, NY', 904), ('Hilo, HI', 'Honolulu, HI', 687), ('Miami, FL', 'Orlando, FL', 547), ('Atlanta, GA', 'Miami, FL', 510), ('Las Vegas, NV', 'Reno, NV', 401)]), ('1993-08', [('Miami, FL', 'New York, NY', 905), ('Hilo, HI', 'Honolulu, HI', 715), ('Atlanta, GA', 'Miami, FL', 600), ('Miami, FL', 'Orlando, FL', 549), ('Las Vegas, NV', 'Reno, NV', 402)]), ('1993-09', [('Miami, FL', 'New York, NY', 858), ('Hilo, HI', 'Honolulu, HI', 684), ('Atlanta, GA', 'Miami, FL', 573), ('Miami, FL', 'Orlando, FL', 523), ('Las Vegas, NV', 'Reno, NV', 390)]), ('1993-10', [('Miami, FL', 'New York, NY', 900), ('Hilo, HI', 'Honolulu, HI', 675), ('Atlanta, GA', 'Miami, FL', 590), ('Miami, FL', 'Orlando, FL', 508), ('Las Vegas, NV', 'Reno, NV', 404)]), ('1993-11', [('Miami, FL', 'New York, NY', 905), ('Hilo, HI', 'Honolulu, HI', 698), ('Atlanta, GA', 'Miami, FL', 563), ('Miami, FL', 'Orlando, FL', 483), ('Chicago, IL', 'Miami, FL', 387)]), ('1993-12', [('Miami, FL', 'New York, NY', 978), ('Hilo, HI', 'Honolulu, HI', 750), ('Atlanta, GA', 'Miami, FL', 588), ('Miami, FL', 'Orlando, FL', 483), ('Las Vegas, NV', 'Reno, NV', 426)]), ('1994-01', [('Miami, FL', 'New York, NY', 955), ('Hilo, HI', 'Honolulu, HI', 728), ('Atlanta, GA', 'Miami, FL', 574), ('Miami, FL', 'Orlando, FL', 465), ('Las Vegas, NV', 'Reno, NV', 459)]), ('1994-02', [('Miami, FL', 'New York, NY', 839), ('Hilo, HI', 'Honolulu, HI', 654), ('Atlanta, GA', 'Miami, FL', 518), ('Las Vegas, NV', 'Reno, NV', 413), ('Miami, FL', 'Orlando, FL', 410)]), ('1994-03', [('Miami, FL', 'New York, NY', 979), ('Hilo, HI', 'Honolulu, HI', 715), ('Atlanta, GA', 'Miami, FL', 558), ('Las Vegas, NV', 'Reno, NV', 483), ('Miami, FL', 'Orlando, FL', 452)]), ('1994-04', [('Miami, FL', 'New York, NY', 961), ('Hilo, HI', 'Honolulu, HI', 688), ('Atlanta, GA', 'Miami, FL', 526), ('Las Vegas, NV', 'Reno, NV', 480), ('Miami, FL', 'Orlando, FL', 449)]), ('1994-05', [('Miami, FL', 'New York, NY', 1006), ('Hilo, HI', 'Honolulu, HI', 733), ('Atlanta, GA', 'Miami, FL', 548), ('Las Vegas, NV', 'Reno, NV', 495), ('Miami, FL', 'Orlando, FL', 427)]), ('1994-06', [('Miami, FL', 'New York, NY', 1000), ('Hilo, HI', 'Honolulu, HI', 737), ('Las Vegas, NV', 'Reno, NV', 506), ('Atlanta, GA', 'Miami, FL', 467), ('Miami, FL', 'Orlando, FL', 440)]), ('1994-07', [('Miami, FL', 'New York, NY', 1012), ('Hilo, HI', 'Honolulu, HI', 776), ('Las Vegas, NV', 'Reno, NV', 525), ('Atlanta, GA', 'Miami, FL', 502), ('Miami, FL', 'Orlando, FL', 475)]), ('1994-08', [('Miami, FL', 'New York, NY', 975), ('Hilo, HI', 'Honolulu, HI', 771), ('Las Vegas, NV', 'Reno, NV', 525), ('Atlanta, GA', 'Miami, FL', 504), ('Miami, FL', 'Orlando, FL', 480)]), ('1994-09', [('Miami, FL', 'New York, NY', 847), ('Hilo, HI', 'Honolulu, HI', 711), ('Miami, FL', 'Orlando, FL', 540), ('Las Vegas, NV', 'Reno, NV', 507), ('Atlanta, GA', 'Miami, FL', 483)]), ('1994-10', [('Miami, FL', 'New York, NY', 900), ('Hilo, HI', 'Honolulu, HI', 719), ('Miami, FL', 'Orlando, FL', 588), ('Las Vegas, NV', 'Reno, NV', 517), ('Atlanta, GA', 'Miami, FL', 459)]), ('1994-11', [('Miami, FL', 'New York, NY', 867), ('Hilo, HI', 'Honolulu, HI', 711), ('Miami, FL', 'Orlando, FL', 548), ('Las Vegas, NV', 'Reno, NV', 488), ('Atlanta, GA', 'Miami, FL', 442)]), ('1994-12', [('Miami, FL', 'New York, NY', 841), ('Hilo, HI', 'Honolulu, HI', 748), ('Miami, FL', 'Orlando, FL', 554), ('Las Vegas, NV', 'Reno, NV', 513), ('Atlanta, GA', 'Miami, FL', 456)]), ('1995-01', [('Miami, FL', 'New York, NY', 826), ('Hilo, HI', 'Honolulu, HI', 721), ('Atlanta, GA', 'Miami, FL', 554), ('Las Vegas, NV', 'Reno, NV', 519), ('Miami, FL', 'Tampa, FL', 444)]), ('1995-02', [('Miami, FL', 'New York, NY', 730), ('Hilo, HI', 'Honolulu, HI', 621), ('Atlanta, GA', 'Miami, FL', 507), ('Las Vegas, NV', 'Reno, NV', 482), ('Dallas, TX', 'Miami, FL', 387)]), ('1995-03', [('Miami, FL', 'New York, NY', 796), ('Hilo, HI', 'Honolulu, HI', 689), ('Atlanta, GA', 'Miami, FL', 562), ('Las Vegas, NV', 'Reno, NV', 533), ('Miami, FL', 'Orlando, FL', 474)]), ('1995-04', [('Miami, FL', 'New York, NY', 789), ('Hilo, HI', 'Honolulu, HI', 667), ('Atlanta, GA', 'Miami, FL', 545), ('Las Vegas, NV', 'Reno, NV', 517), ('Miami, FL', 'Orlando, FL', 459)]), ('1995-05', [('Miami, FL', 'New York, NY', 889), ('Hilo, HI', 'Honolulu, HI', 717), ('Atlanta, GA', 'Miami, FL', 553), ('Las Vegas, NV', 'Reno, NV', 541), ('Dallas, TX', 'Miami, FL', 505)]), ('1995-06', [('Miami, FL', 'New York, NY', 883), ('Hilo, HI', 'Honolulu, HI', 736), ('Atlanta, GA', 'Miami, FL', 549), ('Las Vegas, NV', 'Reno, NV', 530), ('Dallas, TX', 'Miami, FL', 508)]), ('1995-07', [('Miami, FL', 'New York, NY', 945), ('Hilo, HI', 'Honolulu, HI', 787), ('Atlanta, GA', 'Miami, FL', 577), ('Las Vegas, NV', 'Reno, NV', 540), ('Dallas, TX', 'Miami, FL', 539)]), ('1995-08', [('Miami, FL', 'New York, NY', 930), ('Hilo, HI', 'Honolulu, HI', 787), ('Atlanta, GA', 'Miami, FL', 559), ('Las Vegas, NV', 'Reno, NV', 547), ('Dallas, TX', 'Miami, FL', 522)]), ('1995-09', [('Miami, FL', 'New York, NY', 919), ('Hilo, HI', 'Honolulu, HI', 761), ('Atlanta, GA', 'Miami, FL', 551), ('Dallas, TX', 'Miami, FL', 516), ('Las Vegas, NV', 'Reno, NV', 493)]), ('1995-10', [('Miami, FL', 'New York, NY', 943), ('Hilo, HI', 'Honolulu, HI', 759), ('Atlanta, GA', 'Miami, FL', 576), ('Dallas, TX', 'Miami, FL', 544), ('Las Vegas, NV', 'Reno, NV', 502)]), ('1995-11', [('Miami, FL', 'New York, NY', 885), ('Hilo, HI', 'Honolulu, HI', 688), ('Atlanta, GA', 'Miami, FL', 571), ('Dallas, TX', 'Miami, FL', 499), ('Las Vegas, NV', 'Reno, NV', 476)]), ('1995-12', [('Miami, FL', 'New York, NY', 869), ('Hilo, HI', 'Honolulu, HI', 747), ('Atlanta, GA', 'Miami, FL', 615), ('Dallas, TX', 'Miami, FL', 573), ('Las Vegas, NV', 'Reno, NV', 425)]), ('1996-01', [('Miami, FL', 'New York, NY', 787), ('Hilo, HI', 'Honolulu, HI', 735), ('Atlanta, GA', 'Miami, FL', 617), ('Dallas, TX', 'Miami, FL', 552), ('Chicago, IL', 'Miami, FL', 405)]), ('1996-02', [('Miami, FL', 'New York, NY', 792), ('Hilo, HI', 'Honolulu, HI', 665), ('Atlanta, GA', 'Miami, FL', 573), ('Dallas, TX', 'Miami, FL', 506), ('Chicago, IL', 'Miami, FL', 397)]), ('1996-03', [('Miami, FL', 'New York, NY', 822), ('Hilo, HI', 'Honolulu, HI', 722), ('Atlanta, GA', 'Miami, FL', 620), ('Dallas, TX', 'Miami, FL', 547), ('Chicago, IL', 'Miami, FL', 451)]), ('1996-04', [('Miami, FL', 'New York, NY', 793), ('Hilo, HI', 'Honolulu, HI', 701), ('Atlanta, GA', 'Miami, FL', 585), ('Dallas, TX', 'Miami, FL', 519), ('Chicago, IL', 'Miami, FL', 441)]), ('1996-05', [('Miami, FL', 'New York, NY', 808), ('Hilo, HI', 'Honolulu, HI', 703), ('Atlanta, GA', 'Miami, FL', 569), ('Dallas, TX', 'Miami, FL', 533), ('Las Vegas, NV', 'Reno, NV', 444)]), ('1996-06', [('Miami, FL', 'New York, NY', 819), ('Hilo, HI', 'Honolulu, HI', 687), ('Dallas, TX', 'Miami, FL', 519), ('Atlanta, GA', 'Miami, FL', 507), ('Las Vegas, NV', 'Reno, NV', 429)]), ('1996-07', [('Miami, FL', 'New York, NY', 864), ('Hilo, HI', 'Honolulu, HI', 702), ('Dallas, TX', 'Miami, FL', 530), ('Atlanta, GA', 'Miami, FL', 505), ('Las Vegas, NV', 'Reno, NV', 446)]), ('1996-08', [('Miami, FL', 'New York, NY', 863), ('Hilo, HI', 'Honolulu, HI', 692), ('Dallas, TX', 'Miami, FL', 516), ('Atlanta, GA', 'Miami, FL', 489), ('Las Vegas, NV', 'Reno, NV', 448)]), ('1996-09', [('Miami, FL', 'New York, NY', 752), ('Hilo, HI', 'Honolulu, HI', 634), ('Dallas, TX', 'Miami, FL', 510), ('Atlanta, GA', 'Miami, FL', 468), ('Las Vegas, NV', 'Reno, NV', 425)]), ('1996-10', [('Miami, FL', 'New York, NY', 801), ('Hilo, HI', 'Honolulu, HI', 641), ('Dallas, TX', 'Miami, FL', 537), ('Atlanta, GA', 'Miami, FL', 482), ('Las Vegas, NV', 'Reno, NV', 445)]), ('1996-11', [('Miami, FL', 'New York, NY', 819), ('Hilo, HI', 'Honolulu, HI', 645), ('Dallas, TX', 'Miami, FL', 503), ('Atlanta, GA', 'Miami, FL', 469), ('Las Vegas, NV', 'Reno, NV', 427)]), ('1996-12', [('Miami, FL', 'New York, NY', 876), ('Hilo, HI', 'Honolulu, HI', 678), ('Dallas, TX', 'Miami, FL', 508), ('Atlanta, GA', 'Miami, FL', 495), ('Chicago, IL', 'Miami, FL', 453)]), ('1997-01', [('Miami, FL', 'New York, NY', 864), ('Hilo, HI', 'Honolulu, HI', 685), ('Atlanta, GA', 'Miami, FL', 508), ('Chicago, IL', 'Miami, FL', 482), ('Dallas, TX', 'Miami, FL', 452)]), ('1997-02', [('Miami, FL', 'New York, NY', 779), ('Hilo, HI', 'Honolulu, HI', 584), ('Atlanta, GA', 'Miami, FL', 469), ('Chicago, IL', 'Miami, FL', 439), ('Las Vegas, NV', 'Reno, NV', 404)]), ('1997-03', [('Miami, FL', 'New York, NY', 848), ('Hilo, HI', 'Honolulu, HI', 662), ('Chicago, IL', 'Miami, FL', 560), ('Atlanta, GA', 'Miami, FL', 538), ('Las Vegas, NV', 'Reno, NV', 446)]), ('1997-04', [('Miami, FL', 'New York, NY', 803), ('Hilo, HI', 'Honolulu, HI', 698), ('Atlanta, GA', 'Miami, FL', 548), ('Chicago, IL', 'Miami, FL', 513), ('Las Vegas, NV', 'Reno, NV', 437)]), ('1997-05', [('Miami, FL', 'New York, NY', 776), ('Hilo, HI', 'Honolulu, HI', 734), ('Atlanta, GA', 'Miami, FL', 556), ('Chicago, IL', 'Miami, FL', 497), ('Las Vegas, NV', 'Reno, NV', 448)]), ('1997-06', [('Miami, FL', 'New York, NY', 728), ('Hilo, HI', 'Honolulu, HI', 724), ('Atlanta, GA', 'Miami, FL', 522), ('Chicago, IL', 'Miami, FL', 478), ('Las Vegas, NV', 'Reno, NV', 445)]), ('1997-07', [('Miami, FL', 'New York, NY', 786), ('Atlanta, GA', 'Miami, FL', 522), ('Chicago, IL', 'Miami, FL', 484), ('Hilo, HI', 'Honolulu, HI', 477), ('Las Vegas, NV', 'Reno, NV', 468)]), ('1997-08', [('Miami, FL', 'New York, NY', 804), ('Hilo, HI', 'Honolulu, HI', 792), ('Atlanta, GA', 'Miami, FL', 526), ('Chicago, IL', 'Miami, FL', 483), ('Las Vegas, NV', 'Reno, NV', 455)]), ('1997-09', [('Miami, FL', 'New York, NY', 729), ('Hilo, HI', 'Honolulu, HI', 686), ('Atlanta, GA', 'Miami, FL', 508), ('Las Vegas, NV', 'Reno, NV', 477), ('Chicago, IL', 'Miami, FL', 423)]), ('1997-10', [('Miami, FL', 'New York, NY', 760), ('Hilo, HI', 'Honolulu, HI', 710), ('Atlanta, GA', 'Miami, FL', 528), ('Las Vegas, NV', 'Reno, NV', 508), ('Chicago, IL', 'Miami, FL', 444)]), ('1997-11', [('Miami, FL', 'New York, NY', 744), ('Hilo, HI', 'Honolulu, HI', 693), ('Atlanta, GA', 'Miami, FL', 538), ('Las Vegas, NV', 'Reno, NV', 464), ('Chicago, IL', 'Miami, FL', 460)]), ('1997-12', [('Miami, FL', 'New York, NY', 779), ('Hilo, HI', 'Honolulu, HI', 715), ('Atlanta, GA', 'Miami, FL', 554), ('Chicago, IL', 'Miami, FL', 490), ('Las Vegas, NV', 'Reno, NV', 486)]), ('1998-01', [('Miami, FL', 'New York, NY', 755), ('Hilo, HI', 'Honolulu, HI', 716), ('Las Vegas, NV', 'Reno, NV', 642), ('Miami, FL', 'Orlando, FL', 564), ('Atlanta, GA', 'Miami, FL', 552)]), ('1998-02', [('Miami, FL', 'New York, NY', 669), ('Hilo, HI', 'Honolulu, HI', 640), ('Atlanta, GA', 'Miami, FL', 501), ('Miami, FL', 'Orlando, FL', 493), ('Chicago, IL', 'Miami, FL', 442)]), ('1998-03', [('Hilo, HI', 'Honolulu, HI', 708), ('Miami, FL', 'New York, NY', 642), ('Atlanta, GA', 'Miami, FL', 546), ('Miami, FL', 'Orlando, FL', 536), ('Las Vegas, NV', 'Reno, NV', 500)]), ('1998-04', [('Hilo, HI', 'Honolulu, HI', 709), ('Miami, FL', 'New York, NY', 639), ('Atlanta, GA', 'Miami, FL', 533), ('Miami, FL', 'Orlando, FL', 507), ('Las Vegas, NV', 'Reno, NV', 497)]), ('1998-05', [('Hilo, HI', 'Honolulu, HI', 742), ('Miami, FL', 'New York, NY', 650), ('Miami, FL', 'Orlando, FL', 554), ('Atlanta, GA', 'Miami, FL', 546), ('Las Vegas, NV', 'Reno, NV', 502)]), ('1998-06', [('Hilo, HI', 'Honolulu, HI', 704), ('Miami, FL', 'New York, NY', 653), ('Atlanta, GA', 'Miami, FL', 528), ('Miami, FL', 'Orlando, FL', 506), ('Las Vegas, NV', 'Reno, NV', 488)]), ('1998-07', [('Hilo, HI', 'Honolulu, HI', 783), ('Miami, FL', 'New York, NY', 684), ('Miami, FL', 'Orlando, FL', 549), ('Atlanta, GA', 'Miami, FL', 546), ('Las Vegas, NV', 'Reno, NV', 499)]), ('1998-08', [('Hilo, HI', 'Honolulu, HI', 766), ('Miami, FL', 'New York, NY', 706), ('Atlanta, GA', 'Miami, FL', 548), ('Miami, FL', 'Orlando, FL', 522), ('Las Vegas, NV', 'Reno, NV', 495)]), ('1998-09', [('Hilo, HI', 'Honolulu, HI', 722), ('Miami, FL', 'New York, NY', 611), ('Atlanta, GA', 'Miami, FL', 566), ('Miami, FL', 'Orlando, FL', 502), ('Las Vegas, NV', 'Reno, NV', 468)]), ('1998-10', [('Hilo, HI', 'Honolulu, HI', 724), ('Atlanta, GA', 'Miami, FL', 669), ('Miami, FL', 'New York, NY', 643), ('Miami, FL', 'Orlando, FL', 545), ('Las Vegas, NV', 'Reno, NV', 468)]), ('1998-11', [('Hilo, HI', 'Honolulu, HI', 660), ('Atlanta, GA', 'Miami, FL', 638), ('Miami, FL', 'New York, NY', 634), ('Miami, FL', 'Orlando, FL', 458), ('Las Vegas, NV', 'Reno, NV', 449)]), ('1998-12', [('Hilo, HI', 'Honolulu, HI', 683), ('Atlanta, GA', 'Miami, FL', 678), ('Miami, FL', 'New York, NY', 652), ('Miami, FL', 'Orlando, FL', 475), ('Las Vegas, NV', 'Reno, NV', 463)]), ('1999-01', [('Hilo, HI', 'Honolulu, HI', 701), ('Atlanta, GA', 'Miami, FL', 648), ('Miami, FL', 'New York, NY', 623), ('Las Vegas, NV', 'Reno, NV', 477), ('Miami, FL', 'Orlando, FL', 462)]), ('1999-02', [('Hilo, HI', 'Honolulu, HI', 634), ('Atlanta, GA', 'Miami, FL', 600), ('Miami, FL', 'New York, NY', 538), ('Las Vegas, NV', 'Reno, NV', 440), ('Miami, FL', 'Orlando, FL', 392)]), ('1999-03', [('Hilo, HI', 'Honolulu, HI', 714), ('Atlanta, GA', 'Miami, FL', 712), ('Miami, FL', 'New York, NY', 679), ('Las Vegas, NV', 'Reno, NV', 487), ('Chicago, IL', 'Miami, FL', 441)]), ('1999-04', [('Hilo, HI', 'Honolulu, HI', 675), ('Atlanta, GA', 'Miami, FL', 660), ('Miami, FL', 'New York, NY', 634), ('Las Vegas, NV', 'Reno, NV', 471), ('Miami, FL', 'Washington, DC', 448)]), ('1999-05', [('Hilo, HI', 'Honolulu, HI', 712), ('Atlanta, GA', 'Miami, FL', 668), ('Miami, FL', 'New York, NY', 638), ('Miami, FL', 'Washington, DC', 507), ('Las Vegas, NV', 'Reno, NV', 446)]), ('1999-06', [('Hilo, HI', 'Honolulu, HI', 694), ('Atlanta, GA', 'Miami, FL', 646), ('Miami, FL', 'New York, NY', 609), ('Miami, FL', 'Washington, DC', 472), ('Las Vegas, NV', 'Reno, NV', 432)]), ('1999-07', [('Hilo, HI', 'Honolulu, HI', 745), ('Miami, FL', 'New York, NY', 659), ('Atlanta, GA', 'Miami, FL', 644), ('Miami, FL', 'Washington, DC', 505), ('Las Vegas, NV', 'Reno, NV', 438)]), ('1999-08', [('Hilo, HI', 'Honolulu, HI', 736), ('Miami, FL', 'New York, NY', 661), ('Atlanta, GA', 'Miami, FL', 641), ('Miami, FL', 'Washington, DC', 510), ('Las Vegas, NV', 'Reno, NV', 472)]), ('1999-09', [('Hilo, HI', 'Honolulu, HI', 674), ('Atlanta, GA', 'Miami, FL', 598), ('Miami, FL', 'New York, NY', 563), ('Miami, FL', 'Washington, DC', 464), ('Las Vegas, NV', 'Reno, NV', 448)]), ('1999-10', [('Hilo, HI', 'Honolulu, HI', 681), ('Atlanta, GA', 'Miami, FL', 648), ('Miami, FL', 'New York, NY', 613), ('Miami, FL', 'Washington, DC', 504), ('Las Vegas, NV', 'Reno, NV', 462)]), ('1999-11', [('Hilo, HI', 'Honolulu, HI', 727), ('Atlanta, GA', 'Miami, FL', 657), ('Miami, FL', 'New York, NY', 611), ('Miami, FL', 'Washington, DC', 509), ('Las Vegas, NV', 'Reno, NV', 455)]), ('1999-12', [('Hilo, HI', 'Honolulu, HI', 756), ('Atlanta, GA', 'Miami, FL', 676), ('Miami, FL', 'New York, NY', 637), ('Miami, FL', 'Washington, DC', 520), ('Las Vegas, NV', 'Reno, NV', 469)]), ('2000-01', [('Hilo, HI', 'Honolulu, HI', 750), ('Atlanta, GA', 'Miami, FL', 643), ('Miami, FL', 'New York, NY', 631), ('Miami, FL', 'Washington, DC', 486), ('Miami, FL', 'Orlando, FL', 476)]), ('2000-02', [('Hilo, HI', 'Honolulu, HI', 691), ('Atlanta, GA', 'Miami, FL', 610), ('Miami, FL', 'New York, NY', 589), ('Miami, FL', 'Washington, DC', 480), ('Miami, FL', 'Orlando, FL', 438)]), ('2000-03', [('Hilo, HI', 'Honolulu, HI', 746), ('Miami, FL', 'New York, NY', 649), ('Atlanta, GA', 'Miami, FL', 648), ('Miami, FL', 'Washington, DC', 524), ('Miami, FL', 'Orlando, FL', 469)]), ('2000-04', [('Hilo, HI', 'Honolulu, HI', 727), ('Atlanta, GA', 'Miami, FL', 626), ('Miami, FL', 'New York, NY', 610), ('Miami, FL', 'Washington, DC', 500), ('Miami, FL', 'Orlando, FL', 482)]), ('2000-05', [('Hilo, HI', 'Honolulu, HI', 746), ('Miami, FL', 'Orlando, FL', 617), ('Atlanta, GA', 'Miami, FL', 613), ('Miami, FL', 'New York, NY', 592), ('Miami, FL', 'Washington, DC', 504)]), ('2000-06', [('Hilo, HI', 'Honolulu, HI', 709), ('Miami, FL', 'Orlando, FL', 601), ('Atlanta, GA', 'Miami, FL', 595), ('Miami, FL', 'New York, NY', 547), ('Miami, FL', 'Washington, DC', 493)]), ('2000-07', [('Hilo, HI', 'Honolulu, HI', 738), ('Miami, FL', 'New York, NY', 681), ('Miami, FL', 'Orlando, FL', 621), ('Atlanta, GA', 'Miami, FL', 606), ('Miami, FL', 'Washington, DC', 500)]), ('2000-08', [('Hilo, HI', 'Honolulu, HI', 739), ('Atlanta, GA', 'Miami, FL', 614), ('Miami, FL', 'Orlando, FL', 607), ('Miami, FL', 'New York, NY', 606), ('Miami, FL', 'Washington, DC', 503)]), ('2000-09', [('Hilo, HI', 'Honolulu, HI', 695), ('Miami, FL', 'Orlando, FL', 607), ('Atlanta, GA', 'Miami, FL', 598), ('Miami, FL', 'New York, NY', 568), ('Chicago, IL', 'Miami, FL', 436)]), ('2000-10', [('Hilo, HI', 'Honolulu, HI', 714), ('Miami, FL', 'Orlando, FL', 663), ('Atlanta, GA', 'Miami, FL', 614), ('Miami, FL', 'New York, NY', 612), ('Chicago, IL', 'Miami, FL', 423)]), ('2000-11', [('Hilo, HI', 'Honolulu, HI', 693), ('Miami, FL', 'New York, NY', 645), ('Atlanta, GA', 'Miami, FL', 602), ('Miami, FL', 'Orlando, FL', 595), ('Chicago, IL', 'Miami, FL', 452)]), ('2000-12', [('Hilo, HI', 'Honolulu, HI', 719), ('Miami, FL', 'Orlando, FL', 662), ('Miami, FL', 'New York, NY', 623), ('Atlanta, GA', 'Miami, FL', 615), ('Chicago, IL', 'Miami, FL', 462)]), ('2001-01', [('Hilo, HI', 'Honolulu, HI', 716), ('Miami, FL', 'Orlando, FL', 681), ('Miami, FL', 'New York, NY', 631), ('Atlanta, GA', 'Miami, FL', 611), ('Chicago, IL', 'Miami, FL', 429)]), ('2001-02', [('Hilo, HI', 'Honolulu, HI', 641), ('Miami, FL', 'Orlando, FL', 621), ('Miami, FL', 'New York, NY', 587), ('Atlanta, GA', 'Miami, FL', 540), ('Miami, FL', 'Washington, DC', 383)]), ('2001-03', [('Hilo, HI', 'Honolulu, HI', 692), ('Miami, FL', 'Orlando, FL', 669), ('Miami, FL', 'New York, NY', 639), ('Atlanta, GA', 'Miami, FL', 601), ('Miami, FL', 'Washington, DC', 419)]), ('2001-04', [('Hilo, HI', 'Honolulu, HI', 699), ('Miami, FL', 'New York, NY', 644), ('Atlanta, GA', 'Miami, FL', 612), ('Miami, FL', 'Orlando, FL', 507), ('Miami, FL', 'Washington, DC', 415)]), ('2001-05', [('Hilo, HI', 'Honolulu, HI', 716), ('Miami, FL', 'New York, NY', 645), ('Atlanta, GA', 'Miami, FL', 623), ('Miami, FL', 'Orlando, FL', 515), ('Miami, FL', 'Washington, DC', 421)]), ('2001-06', [('Hilo, HI', 'Honolulu, HI', 685), ('Miami, FL', 'New York, NY', 603), ('Atlanta, GA', 'Miami, FL', 593), ('Miami, FL', 'Orlando, FL', 478), ('Miami, FL', 'Washington, DC', 411)]), ('2001-07', [('Hilo, HI', 'Honolulu, HI', 718), ('Miami, FL', 'New York, NY', 631), ('Atlanta, GA', 'Miami, FL', 610), ('Miami, FL', 'Orlando, FL', 500), ('Miami, FL', 'Washington, DC', 426)]), ('2001-08', [('Hilo, HI', 'Honolulu, HI', 713), ('Miami, FL', 'New York, NY', 619), ('Atlanta, GA', 'Miami, FL', 617), ('Miami, FL', 'Orlando, FL', 554), ('Miami, FL', 'Washington, DC', 424)]), ('2001-09', [('Hilo, HI', 'Honolulu, HI', 605), ('Atlanta, GA', 'Miami, FL', 488), ('Miami, FL', 'Orlando, FL', 460), ('Miami, FL', 'New York, NY', 395), ('Las Vegas, NV', 'Reno, NV', 308)]), ('2001-10', [('Atlanta, GA', 'Miami, FL', 531), ('Miami, FL', 'Orlando, FL', 523), ('Hilo, HI', 'Honolulu, HI', 515), ('Miami, FL', 'New York, NY', 464), ('Las Vegas, NV', 'Reno, NV', 362)]), ('2001-11', [('Hilo, HI', 'Honolulu, HI', 528), ('Atlanta, GA', 'Miami, FL', 508), ('Miami, FL', 'Orlando, FL', 463), ('Miami, FL', 'New York, NY', 410), ('Chicago, IL', 'Miami, FL', 347)]), ('2001-12', [('Hilo, HI', 'Honolulu, HI', 548), ('Atlanta, GA', 'Miami, FL', 490), ('Miami, FL', 'Orlando, FL', 489), ('Miami, FL', 'New York, NY', 453), ('Chicago, IL', 'Miami, FL', 416)]), ('2002-01', [('Hilo, HI', 'Honolulu, HI', 598), ('Atlanta, GA', 'Miami, FL', 486), ('Miami, FL', 'Orlando, FL', 452), ('Miami, FL', 'New York, NY', 434), ('Chicago, IL', 'Miami, FL', 400)]), ('2002-02', [('Hilo, HI', 'Honolulu, HI', 535), ('Atlanta, GA', 'Miami, FL', 465), ('Miami, FL', 'Orlando, FL', 420), ('Miami, FL', 'New York, NY', 395), ('Chicago, IL', 'Miami, FL', 379)]), ('2002-03', [('Hilo, HI', 'Honolulu, HI', 601), ('Atlanta, GA', 'Miami, FL', 521), ('Chicago, IL', 'Miami, FL', 491), ('Miami, FL', 'New York, NY', 451), ('Miami, FL', 'Orlando, FL', 427)]), ('2002-04', [('Hilo, HI', 'Honolulu, HI', 602), ('Atlanta, GA', 'Miami, FL', 507), ('Chicago, IL', 'Miami, FL', 433), ('Miami, FL', 'New York, NY', 429), ('Miami, FL', 'Orlando, FL', 391)]), ('2002-05', [('Hilo, HI', 'Honolulu, HI', 592), ('Atlanta, GA', 'Miami, FL', 525), ('Miami, FL', 'New York, NY', 448), ('Chicago, IL', 'Miami, FL', 435), ('Miami, FL', 'Orlando, FL', 401)]), ('2002-06', [('Hilo, HI', 'Honolulu, HI', 567), ('Atlanta, GA', 'Miami, FL', 506), ('Miami, FL', 'New York, NY', 451), ('Chicago, IL', 'Miami, FL', 446), ('Miami, FL', 'Orlando, FL', 397)]), ('2002-07', [('Hilo, HI', 'Honolulu, HI', 592), ('Atlanta, GA', 'Miami, FL', 521), ('Miami, FL', 'New York, NY', 471), ('Chicago, IL', 'Miami, FL', 467), ('Miami, FL', 'Washington, DC', 391)]), ('2002-08', [('Hilo, HI', 'Honolulu, HI', 612), ('Atlanta, GA', 'Miami, FL', 525), ('Miami, FL', 'New York, NY', 474), ('Chicago, IL', 'Miami, FL', 463), ('Miami, FL', 'Washington, DC', 369)]), ('2002-09', [('Hilo, HI', 'Honolulu, HI', 538), ('Atlanta, GA', 'Miami, FL', 502), ('Miami, FL', 'New York, NY', 451), ('Chicago, IL', 'Miami, FL', 435), ('Las Vegas, NV', 'Reno, NV', 351)]), ('2002-10', [('Hilo, HI', 'Honolulu, HI', 641), ('Atlanta, GA', 'Miami, FL', 552), ('Miami, FL', 'New York, NY', 475), ('Miami, FL', 'Orlando, FL', 473), ('Chicago, IL', 'Miami, FL', 458)]), ('2002-11', [('Hilo, HI', 'Honolulu, HI', 597), ('Atlanta, GA', 'Miami, FL', 533), ('Miami, FL', 'Orlando, FL', 522), ('Chicago, IL', 'Miami, FL', 439), ('Key West, FL', 'Miami, FL', 438)]), ('2002-12', [('Hilo, HI', 'Honolulu, HI', 589), ('Atlanta, GA', 'Miami, FL', 550), ('Miami, FL', 'Orlando, FL', 534), ('Chicago, IL', 'Miami, FL', 467), ('Key West, FL', 'Miami, FL', 456)]), ('2003-01', [('Hilo, HI', 'Honolulu, HI', 583), ('Atlanta, GA', 'Miami, FL', 552), ('Miami, FL', 'Orlando, FL', 515), ('Chicago, IL', 'Miami, FL', 460), ('Miami, FL', 'New York, NY', 447)]), ('2003-02', [('Hilo, HI', 'Honolulu, HI', 538), ('Atlanta, GA', 'Miami, FL', 514), ('Chicago, IL', 'Miami, FL', 444), ('Miami, FL', 'Orlando, FL', 420), ('Miami, FL', 'New York, NY', 406)]), ('2003-03', [('Hilo, HI', 'Honolulu, HI', 659), ('Atlanta, GA', 'Miami, FL', 575), ('Chicago, IL', 'Miami, FL', 494), ('Miami, FL', 'Orlando, FL', 465), ('Miami, FL', 'New York, NY', 449)]), ('2003-04', [('Hilo, HI', 'Honolulu, HI', 597), ('Atlanta, GA', 'Miami, FL', 562), ('Chicago, IL', 'Miami, FL', 452), ('Miami, FL', 'Orlando, FL', 448), ('Miami, FL', 'New York, NY', 432)]), ('2003-05', [('Hilo, HI', 'Honolulu, HI', 596), ('Atlanta, GA', 'Miami, FL', 537), ('Chicago, IL', 'Miami, FL', 453), ('Miami, FL', 'New York, NY', 443), ('Miami, FL', 'Orlando, FL', 432)]), ('2003-06', [('Hilo, HI', 'Honolulu, HI', 602), ('Atlanta, GA', 'Miami, FL', 526), ('Miami, FL', 'Orlando, FL', 467), ('Miami, FL', 'New York, NY', 426), ('Chicago, IL', 'Miami, FL', 419)]), ('2003-07', [('Hilo, HI', 'Honolulu, HI', 632), ('Atlanta, GA', 'Miami, FL', 539), ('Miami, FL', 'Tampa, FL', 446), ('Miami, FL', 'New York, NY', 433), ('Miami, FL', 'Orlando, FL', 428)]), ('2003-08', [('Hilo, HI', 'Honolulu, HI', 609), ('Atlanta, GA', 'Miami, FL', 541), ('Miami, FL', 'Tampa, FL', 484), ('Chicago, IL', 'Miami, FL', 431), ('Miami, FL', 'New York, NY', 429)]), ('2003-09', [('Hilo, HI', 'Honolulu, HI', 590), ('Atlanta, GA', 'Miami, FL', 522), ('Miami, FL', 'Tampa, FL', 515), ('Miami, FL', 'Orlando, FL', 412), ('Chicago, IL', 'Miami, FL', 408)]), ('2003-10', [('Hilo, HI', 'Honolulu, HI', 610), ('Atlanta, GA', 'Miami, FL', 548), ('Miami, FL', 'Tampa, FL', 512), ('Miami, FL', 'New York, NY', 434), ('Chicago, IL', 'Miami, FL', 424)]), ('2003-11', [('Hilo, HI', 'Honolulu, HI', 1130), ('Atlanta, GA', 'Miami, FL', 535), ('Miami, FL', 'Tampa, FL', 448), ('Miami, FL', 'New York, NY', 427), ('Chicago, IL', 'Miami, FL', 417)]), ('2003-12', [('Hilo, HI', 'Honolulu, HI', 628), ('Atlanta, GA', 'Miami, FL', 567), ('Miami, FL', 'Tampa, FL', 477), ('Chicago, IL', 'Miami, FL', 431), ('Miami, FL', 'New York, NY', 430)]), ('2004-01', [('Hilo, HI', 'Honolulu, HI', 609), ('Atlanta, GA', 'Miami, FL', 575), ('Miami, FL', 'New York, NY', 438), ('Chicago, IL', 'Miami, FL', 435), ('Las Vegas, NV', 'Reno, NV', 433)]), ('2004-02', [('Hilo, HI', 'Honolulu, HI', 567), ('Atlanta, GA', 'Miami, FL', 555), ('Miami, FL', 'New York, NY', 424), ('Las Vegas, NV', 'Reno, NV', 416), ('Chicago, IL', 'Miami, FL', 416)]), ('2004-03', [('Hilo, HI', 'Honolulu, HI', 611), ('Atlanta, GA', 'Miami, FL', 604), ('Las Vegas, NV', 'Reno, NV', 451), ('Miami, FL', 'New York, NY', 448), ('Chicago, IL', 'Miami, FL', 442)]), ('2004-04', [('Hilo, HI', 'Honolulu, HI', 594), ('Atlanta, GA', 'Miami, FL', 572), ('Las Vegas, NV', 'Reno, NV', 439), ('Miami, FL', 'New York, NY', 432), ('Chicago, IL', 'Miami, FL', 427)]), ('2004-05', [('Atlanta, GA', 'Miami, FL', 597), ('Hilo, HI', 'Honolulu, HI', 577), ('Miami, FL', 'Orlando, FL', 457), ('Miami, FL', 'New York, NY', 448), ('Las Vegas, NV', 'Reno, NV', 442)]), ('2004-06', [('Hilo, HI', 'Honolulu, HI', 615), ('Atlanta, GA', 'Miami, FL', 580), ('Las Vegas, NV', 'Reno, NV', 444), ('Miami, FL', 'New York, NY', 438), ('Miami, FL', 'Orlando, FL', 437)]), ('2004-07', [('Hilo, HI', 'Honolulu, HI', 676), ('Atlanta, GA', 'Miami, FL', 599), ('Miami, FL', 'New York, NY', 472), ('Miami, FL', 'Orlando, FL', 455), ('Las Vegas, NV', 'Reno, NV', 448)]), ('2004-08', [('Hilo, HI', 'Honolulu, HI', 680), ('Atlanta, GA', 'Miami, FL', 594), ('Miami, FL', 'New York, NY', 481), ('Las Vegas, NV', 'Reno, NV', 456), ('Chicago, IL', 'Miami, FL', 436)]), ('2004-09', [('Hilo, HI', 'Honolulu, HI', 700), ('Atlanta, GA', 'Miami, FL', 530), ('Las Vegas, NV', 'Reno, NV', 426), ('Miami, FL', 'Orlando, FL', 386), ('Miami, FL', 'New York, NY', 363)]), ('2004-10', [('Hilo, HI', 'Honolulu, HI', 707), ('Atlanta, GA', 'Miami, FL', 599), ('Miami, FL', 'Orlando, FL', 464), ('Las Vegas, NV', 'Reno, NV', 436), ('Miami, FL', 'New York, NY', 412)]), ('2004-11', [('Hilo, HI', 'Honolulu, HI', 692), ('Atlanta, GA', 'Miami, FL', 601), ('Miami, FL', 'New York, NY', 468), ('Miami, FL', 'Orlando, FL', 436), ('Las Vegas, NV', 'Reno, NV', 418)]), ('2004-12', [('Hilo, HI', 'Honolulu, HI', 698), ('Atlanta, GA', 'Miami, FL', 634), ('Miami, FL', 'New York, NY', 481), ('Miami, FL', 'Orlando, FL', 454), ('Las Vegas, NV', 'Reno, NV', 443)]), ('2005-01', [('Hilo, HI', 'Honolulu, HI', 663), ('Atlanta, GA', 'Miami, FL', 614), ('Miami, FL', 'Orlando, FL', 460), ('Miami, FL', 'New York, NY', 437), ('Las Vegas, NV', 'Reno, NV', 400)]), ('2005-02', [('Atlanta, GA', 'Miami, FL', 602), ('Hilo, HI', 'Honolulu, HI', 584), ('Miami, FL', 'New York, NY', 435), ('Miami, FL', 'Orlando, FL', 419), ('Las Vegas, NV', 'Reno, NV', 401)]), ('2005-03', [('Atlanta, GA', 'Miami, FL', 692), ('Hilo, HI', 'Honolulu, HI', 657), ('Miami, FL', 'New York, NY', 474), ('Miami, FL', 'Orlando, FL', 448), ('Las Vegas, NV', 'Reno, NV', 447)]), ('2005-04', [('Atlanta, GA', 'Miami, FL', 663), ('Hilo, HI', 'Honolulu, HI', 652), ('Miami, FL', 'Orlando, FL', 436), ('Miami, FL', 'New York, NY', 431), ('Las Vegas, NV', 'Reno, NV', 425)]), ('2005-05', [('Hilo, HI', 'Honolulu, HI', 680), ('Atlanta, GA', 'Miami, FL', 667), ('Miami, FL', 'Orlando, FL', 473), ('Miami, FL', 'New York, NY', 441), ('Las Vegas, NV', 'Reno, NV', 437)]), ('2005-06', [('Hilo, HI', 'Honolulu, HI', 663), ('Atlanta, GA', 'Miami, FL', 608), ('Miami, FL', 'Orlando, FL', 488), ('Las Vegas, NV', 'Reno, NV', 450), ('Miami, FL', 'New York, NY', 438)]), ('2005-07', [('Hilo, HI', 'Honolulu, HI', 687), ('Atlanta, GA', 'Miami, FL', 617), ('Miami, FL', 'Orlando, FL', 497), ('Miami, FL', 'New York, NY', 491), ('Las Vegas, NV', 'Reno, NV', 413)]), ('2005-08', [('Hilo, HI', 'Honolulu, HI', 691), ('Atlanta, GA', 'Miami, FL', 595), ('Miami, FL', 'Orlando, FL', 474), ('Las Vegas, NV', 'Reno, NV', 468), ('Miami, FL', 'New York, NY', 446)]), ('2005-09', [('Hilo, HI', 'Honolulu, HI', 663), ('Atlanta, GA', 'Miami, FL', 529), ('Miami, FL', 'Orlando, FL', 475), ('Las Vegas, NV', 'Reno, NV', 444), ('Miami, FL', 'New York, NY', 417)]), ('2005-10', [('Hilo, HI', 'Honolulu, HI', 652), ('Atlanta, GA', 'Miami, FL', 535), ('Miami, FL', 'Orlando, FL', 469), ('Las Vegas, NV', 'Reno, NV', 448), ('Miami, FL', 'New York, NY', 398)]), ('2005-11', [('Hilo, HI', 'Honolulu, HI', 652), ('Atlanta, GA', 'Miami, FL', 591), ('Miami, FL', 'Orlando, FL', 494), ('Miami, FL', 'New York, NY', 460), ('Las Vegas, NV', 'Reno, NV', 427)]), ('2005-12', [('Hilo, HI', 'Honolulu, HI', 677), ('Atlanta, GA', 'Miami, FL', 611), ('Miami, FL', 'New York, NY', 524), ('Miami, FL', 'Orlando, FL', 507), ('Las Vegas, NV', 'Reno, NV', 441)]), ('2006-01', [('Hilo, HI', 'Honolulu, HI', 694), ('Atlanta, GA', 'Miami, FL', 617), ('Miami, FL', 'New York, NY', 537), ('Miami, FL', 'Orlando, FL', 487), ('Las Vegas, NV', 'Reno, NV', 437)]), ('2006-02', [('Hilo, HI', 'Honolulu, HI', 622), ('Atlanta, GA', 'Miami, FL', 572), ('Miami, FL', 'New York, NY', 499), ('Miami, FL', 'Orlando, FL', 447), ('Las Vegas, NV', 'Reno, NV', 395)]), ('2006-03', [('Hilo, HI', 'Honolulu, HI', 694), ('Atlanta, GA', 'Miami, FL', 678), ('Miami, FL', 'New York, NY', 604), ('Miami, FL', 'Orlando, FL', 494), ('Las Vegas, NV', 'Reno, NV', 444)]), ('2006-04', [('Hilo, HI', 'Honolulu, HI', 677), ('Atlanta, GA', 'Miami, FL', 648), ('Miami, FL', 'New York, NY', 557), ('Miami, FL', 'Orlando, FL', 479), ('Las Vegas, NV', 'Reno, NV', 423)]), ('2006-05', [('Hilo, HI', 'Honolulu, HI', 710), ('Atlanta, GA', 'Miami, FL', 616), ('Miami, FL', 'New York, NY', 557), ('Miami, FL', 'Orlando, FL', 504), ('Las Vegas, NV', 'Reno, NV', 433)]), ('2006-06', [('Hilo, HI', 'Honolulu, HI', 696), ('Atlanta, GA', 'Miami, FL', 583), ('Miami, FL', 'New York, NY', 531), ('Miami, FL', 'Orlando, FL', 453), ('Las Vegas, NV', 'Reno, NV', 433)]), ('2006-07', [('Hilo, HI', 'Honolulu, HI', 926), ('Atlanta, GA', 'Miami, FL', 604), ('Miami, FL', 'New York, NY', 552), ('Miami, FL', 'Orlando, FL', 457), ('Las Vegas, NV', 'Reno, NV', 444)]), ('2006-08', [('Hilo, HI', 'Honolulu, HI', 955), ('Atlanta, GA', 'Miami, FL', 580), ('Miami, FL', 'New York, NY', 553), ('Miami, FL', 'Orlando, FL', 475), ('Las Vegas, NV', 'Reno, NV', 452)]), ('2006-09', [('Hilo, HI', 'Honolulu, HI', 882), ('Atlanta, GA', 'Miami, FL', 531), ('Miami, FL', 'New York, NY', 482), ('Miami, FL', 'Orlando, FL', 450), ('Las Vegas, NV', 'Reno, NV', 415)]), ('2006-10', [('Hilo, HI', 'Honolulu, HI', 913), ('Atlanta, GA', 'Miami, FL', 555), ('Miami, FL', 'New York, NY', 490), ('Miami, FL', 'Orlando, FL', 480), ('Las Vegas, NV', 'Reno, NV', 427)]), ('2006-11', [('Hilo, HI', 'Honolulu, HI', 897), ('Atlanta, GA', 'Miami, FL', 559), ('Miami, FL', 'New York, NY', 479), ('Miami, FL', 'Orlando, FL', 450), ('Las Vegas, NV', 'Reno, NV', 417)]), ('2006-12', [('Hilo, HI', 'Honolulu, HI', 958), ('Atlanta, GA', 'Miami, FL', 571), ('Miami, FL', 'New York, NY', 513), ('Miami, FL', 'Orlando, FL', 475), ('Las Vegas, NV', 'Reno, NV', 422)]), ('2007-01', [('Hilo, HI', 'Honolulu, HI', 913), ('Atlanta, GA', 'Miami, FL', 601), ('Miami, FL', 'New York, NY', 519), ('Miami, FL', 'Orlando, FL', 472), ('Las Vegas, NV', 'Reno, NV', 441)]), ('2007-02', [('Hilo, HI', 'Honolulu, HI', 857), ('Atlanta, GA', 'Miami, FL', 573), ('Miami, FL', 'New York, NY', 460), ('Miami, FL', 'Orlando, FL', 436), ('Las Vegas, NV', 'Reno, NV', 386)]), ('2007-03', [('Hilo, HI', 'Honolulu, HI', 959), ('Atlanta, GA', 'Miami, FL', 625), ('Miami, FL', 'New York, NY', 510), ('Miami, FL', 'Orlando, FL', 480), ('Las Vegas, NV', 'Reno, NV', 442)]), ('2007-04', [('Hilo, HI', 'Honolulu, HI', 935), ('Atlanta, GA', 'Miami, FL', 594), ('Miami, FL', 'New York, NY', 510), ('Miami, FL', 'Orlando, FL', 459), ('Las Vegas, NV', 'Reno, NV', 430)]), ('2007-05', [('Hilo, HI', 'Honolulu, HI', 948), ('Atlanta, GA', 'Miami, FL', 595), ('Miami, FL', 'New York, NY', 540), ('Miami, FL', 'Orlando, FL', 460), ('Las Vegas, NV', 'Reno, NV', 441)]), ('2007-06', [('Hilo, HI', 'Honolulu, HI', 921), ('Atlanta, GA', 'Miami, FL', 583), ('Miami, FL', 'New York, NY', 512), ('Miami, FL', 'Orlando, FL', 451), ('Las Vegas, NV', 'Reno, NV', 430)]), ('2007-07', [('Hilo, HI', 'Honolulu, HI', 949), ('Atlanta, GA', 'Miami, FL', 600), ('Miami, FL', 'New York, NY', 533), ('Miami, FL', 'Orlando, FL', 469), ('Las Vegas, NV', 'Reno, NV', 443)]), ('2007-08', [('Hilo, HI', 'Honolulu, HI', 959), ('Atlanta, GA', 'Miami, FL', 595), ('Miami, FL', 'New York, NY', 536), ('Miami, FL', 'Orlando, FL', 444), ('Las Vegas, NV', 'Reno, NV', 442)]), ('2007-09', [('Hilo, HI', 'Honolulu, HI', 914), ('Atlanta, GA', 'Miami, FL', 558), ('Miami, FL', 'New York, NY', 505), ('Miami, FL', 'Orlando, FL', 434), ('Las Vegas, NV', 'Reno, NV', 412)]), ('2007-10', [('Hilo, HI', 'Honolulu, HI', 930), ('Atlanta, GA', 'Miami, FL', 610), ('Miami, FL', 'New York, NY', 512), ('Miami, FL', 'Orlando, FL', 449), ('Las Vegas, NV', 'Reno, NV', 420)]), ('2007-11', [('Hilo, HI', 'Honolulu, HI', 900), ('Atlanta, GA', 'Miami, FL', 595), ('Miami, FL', 'New York, NY', 502), ('Miami, FL', 'Orlando, FL', 445), ('Las Vegas, NV', 'Reno, NV', 407)]), ('2007-12', [('Hilo, HI', 'Honolulu, HI', 924), ('Atlanta, GA', 'Miami, FL', 607), ('Miami, FL', 'New York, NY', 507), ('Miami, FL', 'Orlando, FL', 474), ('Las Vegas, NV', 'Reno, NV', 414)]), ('2008-01', [('Hilo, HI', 'Honolulu, HI', 902), ('Atlanta, GA', 'Miami, FL', 587), ('Miami, FL', 'Orlando, FL', 500), ('Miami, FL', 'New York, NY', 485), ('Las Vegas, NV', 'Reno, NV', 422)]), ('2008-02', [('Hilo, HI', 'Honolulu, HI', 852), ('Atlanta, GA', 'Miami, FL', 575), ('Miami, FL', 'New York, NY', 458), ('Miami, FL', 'Orlando, FL', 446), ('Las Vegas, NV', 'Reno, NV', 387)]), ('2008-03', [('Hilo, HI', 'Honolulu, HI', 904), ('Atlanta, GA', 'Miami, FL', 593), ('Miami, FL', 'New York, NY', 486), ('Miami, FL', 'Orlando, FL', 468), ('Las Vegas, NV', 'Reno, NV', 407)]), ('2008-04', [('Hilo, HI', 'Honolulu, HI', 820), ('Atlanta, GA', 'Miami, FL', 576), ('Miami, FL', 'New York, NY', 531), ('Miami, FL', 'Orlando, FL', 439), ('Las Vegas, NV', 'Reno, NV', 401)]), ('2008-05', [('Hilo, HI', 'Honolulu, HI', 767), ('Miami, FL', 'New York, NY', 553), ('Atlanta, GA', 'Miami, FL', 529), ('Miami, FL', 'Tampa, FL', 402), ('Las Vegas, NV', 'Reno, NV', 389)]), ('2008-06', [('Hilo, HI', 'Honolulu, HI', 810), ('Atlanta, GA', 'Miami, FL', 538), ('Miami, FL', 'New York, NY', 518), ('Miami, FL', 'Tampa, FL', 381), ('Las Vegas, NV', 'Reno, NV', 377)]), ('2008-07', [('Hilo, HI', 'Honolulu, HI', 786), ('Atlanta, GA', 'Miami, FL', 559), ('Miami, FL', 'New York, NY', 544), ('Las Vegas, NV', 'Reno, NV', 385), ('Miami, FL', 'Orlando, FL', 380)]), ('2008-08', [('Hilo, HI', 'Honolulu, HI', 762), ('Miami, FL', 'New York, NY', 576), ('Atlanta, GA', 'Miami, FL', 550), ('Las Vegas, NV', 'Reno, NV', 365), ('Chicago, IL', 'Miami, FL', 358)]), ('2008-09', [('Hilo, HI', 'Honolulu, HI', 725), ('Atlanta, GA', 'Miami, FL', 536), ('Miami, FL', 'New York, NY', 506), ('Las Vegas, NV', 'Reno, NV', 336), ('Miami, FL', 'Washington, DC', 328)]), ('2008-10', [('Hilo, HI', 'Honolulu, HI', 761), ('Atlanta, GA', 'Miami, FL', 552), ('Miami, FL', 'New York, NY', 516), ('Las Vegas, NV', 'Reno, NV', 348), ('Miami, FL', 'Washington, DC', 339)]), ('2008-11', [('Hilo, HI', 'Honolulu, HI', 742), ('Atlanta, GA', 'Miami, FL', 557), ('Miami, FL', 'New York, NY', 530), ('Miami, FL', 'Washington, DC', 357), ('Akron, OH', 'Atlanta, GA', 349)]), ('2008-12', [('Hilo, HI', 'Honolulu, HI', 811), ('Atlanta, GA', 'Miami, FL', 567), ('Miami, FL', 'New York, NY', 543), ('Miami, FL', 'Washington, DC', 373), ('Akron, OH', 'Atlanta, GA', 350)]), ('2009-01', [('Hilo, HI', 'Honolulu, HI', 790), ('Atlanta, GA', 'Miami, FL', 583), ('Miami, FL', 'New York, NY', 545), ('Miami, FL', 'Washington, DC', 372), ('Chicago, IL', 'Miami, FL', 339)]), ('2009-02', [('Hilo, HI', 'Honolulu, HI', 718), ('Atlanta, GA', 'Miami, FL', 523), ('Miami, FL', 'New York, NY', 498), ('Miami, FL', 'Washington, DC', 335), ('Chicago, IL', 'Miami, FL', 307)]), ('2009-03', [('Hilo, HI', 'Honolulu, HI', 829), ('Atlanta, GA', 'Miami, FL', 581), ('Miami, FL', 'New York, NY', 541), ('Miami, FL', 'Washington, DC', 368), ('Las Vegas, NV', 'Reno, NV', 351)]), ('2009-04', [('Hilo, HI', 'Honolulu, HI', 823), ('Miami, FL', 'New York, NY', 597), ('Atlanta, GA', 'Miami, FL', 570), ('Miami, FL', 'Washington, DC', 365), ('Las Vegas, NV', 'Reno, NV', 348)]), ('2009-05', [('Hilo, HI', 'Honolulu, HI', 957), ('Miami, FL', 'New York, NY', 575), ('Atlanta, GA', 'Miami, FL', 545), ('Miami, FL', 'Washington, DC', 368), ('Las Vegas, NV', 'Reno, NV', 347)]), ('2009-06', [('Hilo, HI', 'Honolulu, HI', 932), ('Miami, FL', 'New York, NY', 558), ('Atlanta, GA', 'Miami, FL', 515), ('Miami, FL', 'Washington, DC', 357), ('Las Vegas, NV', 'Reno, NV', 340)]), ('2009-07', [('Hilo, HI', 'Honolulu, HI', 977), ('Miami, FL', 'New York, NY', 575), ('Atlanta, GA', 'Miami, FL', 533), ('Miami, FL', 'Washington, DC', 367), ('Las Vegas, NV', 'Reno, NV', 366)]), ('2009-08', [('Hilo, HI', 'Honolulu, HI', 929), ('Miami, FL', 'New York, NY', 565), ('Atlanta, GA', 'Miami, FL', 526), ('Miami, FL', 'Washington, DC', 366), ('Las Vegas, NV', 'Reno, NV', 362)]), ('2009-09', [('Hilo, HI', 'Honolulu, HI', 866), ('Miami, FL', 'New York, NY', 507), ('Atlanta, GA', 'Miami, FL', 485), ('Las Vegas, NV', 'Reno, NV', 350), ('Miami, FL', 'Washington, DC', 329)]), ('2009-10', [('Hilo, HI', 'Honolulu, HI', 846), ('Miami, FL', 'New York, NY', 527), ('Atlanta, GA', 'Miami, FL', 514), ('Las Vegas, NV', 'Reno, NV', 364), ('Akron, OH', 'Atlanta, GA', 358)]), ('2009-11', [('Hilo, HI', 'Honolulu, HI', 741), ('Miami, FL', 'New York, NY', 533), ('Atlanta, GA', 'Miami, FL', 516), ('Miami, FL', 'Washington, DC', 354), ('Las Vegas, NV', 'Reno, NV', 323)]), ('2009-12', [('Hilo, HI', 'Honolulu, HI', 766), ('Miami, FL', 'New York, NY', 586), ('Atlanta, GA', 'Miami, FL', 534), ('Miami, FL', 'Washington, DC', 378), ('Miami, FL', 'Orlando, FL', 350)])]\n"
     ]
    }
   ],
   "source": [
    "### The goal of this second map function reformat the structure of the pairs\n",
    "#where we now have pair(date, (source, destination, sum(# of flights))) \n",
    "#thus res = a list of source,destination pairs with their total flights on the date they are mapped to \n",
    "#[(date, (source, destination, sum(# of flights))), ..., (date, (source, destination, sum(# of flights)))]\n",
    "def map_date(inpt):\n",
    "    res = []\n",
    "    for k, v in inpt:\n",
    "        source, destination, date = k\n",
    "        val = (source, destination, v)\n",
    "        res.append( (date, val))\n",
    "    return res\n",
    "\n",
    "#using res from above, we assign each date to be a key in the default dict, \n",
    "#and (source, destination, sum(# of flights)) to be it's value\n",
    "def shuffle_date(inpt):\n",
    "    d = defaultdict(list)\n",
    "    for array in inpt : \n",
    "        d[array[0]].append(array[1])\n",
    "    return d \n",
    "\n",
    "#finally, going through each key in our default dictionary, we sum the number of flights for all date keys (and their values)\n",
    "def reduce_date(d):\n",
    "    res = []\n",
    "    for k,v in d.items(): #could use d[0], d[1] but k=key, v=val more intuitive\n",
    "        v.sort(key=lambda x: x[2], reverse=True) #descending sort by (source, destination, sum(# of flights))[2] = sum(# of flights)\n",
    "        res.append((k,v[:5])) #take the top 5\n",
    "    res.sort() \n",
    "    return res \n",
    "\n",
    "small = reduce_date(\n",
    "            shuffle_date(\n",
    "                    map_date( part1_s ) ))\n",
    "medium = reduce_date(\n",
    "            shuffle_date(\n",
    "                    map_date( part1_m ) ))\n",
    "print(\"Small: \", small)\n",
    "print(\"\\n Medium: \", medium)"
   ]
  },
  {
   "cell_type": "markdown",
   "metadata": {
    "id": "9VBatJCf22oZ"
   },
   "source": [
    "Look at your code. Can you use a <code>combine()</code> operation? \n",
    "\n",
    "If you cannot directly think about how you can represent the key-value pairs in a way that allows you to take advantage of a combine."
   ]
  },
  {
   "cell_type": "code",
   "execution_count": null,
   "metadata": {
    "id": "oL15JcrK3vCd"
   },
   "outputs": [],
   "source": [
    "#since we need to first organize by total flights in a source, destination, date tuple\n",
    "#then organize by all source, destination, flights in a date, we cannot use combine.\n",
    "#these are seperate operations that cannot and need not to be combined. "
   ]
  },
  {
   "cell_type": "markdown",
   "metadata": {
    "id": "yIqc-JJDbdgX"
   },
   "source": [
    "### <strong> Exercise 5 - Number of full flights</strong>\n",
    "#### <strong> 2 points </strong>\n",
    "<p align=\"justify\">\n",
    "<font size=\"3\">\n",
    "Describe and implement an algorithm that, following MapReduce procedure, shows how many full flights have departed. This exercise gives you an idea about how many times you can re-use code in MapReduce with minimum effort for repetitive analysis.\n",
    "</font>\n",
    "</p>\n",
    "\n"
   ]
  },
  {
   "cell_type": "code",
   "execution_count": 91,
   "metadata": {
    "id": "ved9CtvMSju0",
    "scrolled": true
   },
   "outputs": [
    {
     "name": "stdout",
     "output_type": "stream",
     "text": [
      "Small:  ('total full flights', 554)\n",
      "Medium:  ('total full flights', 1470)\n"
     ]
    }
   ],
   "source": [
    "#The goal of this map function is to first take the ratio of Passengers/Seats\n",
    "#then append a pair(index, # of full flights) if the condition is met (ratio[index] is equal to 1.0)\n",
    "#thus res = a list of flights that had 100% capacity [ (row #, # of full flights), ..., (row #, # of full flights)] \n",
    "def map_f_flights(df):\n",
    "    res = []\n",
    "    ratio = df[\"Passengers\"]/df[\"Seats\"]\n",
    "    res.append([(i, df[\"Flights\"][i]) for i in df.index if (ratio[i] == 1)])\n",
    "    return res \n",
    "\n",
    "#using res from above, we assign each index to be a key in the default dict, and # of full flights to be it's value\n",
    "def shuffle_f_flights(inpt): \n",
    "    d = defaultdict(list)\n",
    "    for array in inpt : \n",
    "        for k, v in array:\n",
    "            d[k].append(v)\n",
    "    return d \n",
    "\n",
    "#finally, going through each key in our default dictionary, \n",
    "#we sum the number of full flights for all key (and their values)\n",
    "def reduce_f_flights(d): \n",
    "    total = 0\n",
    "    for key in d:\n",
    "        total += d[key][0]\n",
    "    return (\"total full flights\", total)\n",
    "\n",
    "small = reduce_f_flights(\n",
    "            shuffle_f_flights(\n",
    "                    map_f_flights( df )))\n",
    "medium = reduce_f_flights(\n",
    "            shuffle_f_flights(\n",
    "                    map_f_flights( df_medium )))\n",
    "print(\"Small: \", small)\n",
    "print(\"Medium: \", medium)"
   ]
  },
  {
   "cell_type": "markdown",
   "metadata": {
    "id": "lYM8qhAuSju5",
    "scrolled": true
   },
   "source": [
    "\n",
    "### <strong> Exercise 6 -  Average/percentage </strong>\n",
    "#### <strong> 4 points </strong>\n",
    "\n",
    "<p align=\"justify\">\n",
    "<font size=\"3\">\n",
    "Describe and implement a MapReduce procedure that gives, for each city, the percentage/average, of full flights that have departed.\n",
    "\n",
    "Notice that this exercise shares some similarities with one of the previous exercises. Think how and if you can modify (generalize) one of the functions already implemented before. \n",
    "</font>\n",
    "</p>\n",
    "\n"
   ]
  },
  {
   "cell_type": "code",
   "execution_count": 104,
   "metadata": {
    "id": "zPywU-Hu6UF7"
   },
   "outputs": [],
   "source": [
    "#The goal of this map function is to first take the ratio of Passengers/Seats\n",
    "#then append a pair(Origin City, # of full flights) if the condition is met (ratio[index] is equal to 1.0)\n",
    "#thus res = a list of flights that had 100% capacity [ (Origin City, # of full flights), ..., (Origin City, # of full flights)] \n",
    "def map_a_flights(df):\n",
    "    res = []\n",
    "    ratio = df[\"Passengers\"]/df[\"Seats\"]\n",
    "    res.append([(df[\"Origin_city\"][i], df[\"Flights\"][i]) for i in df.index if (ratio[i] == 1)])\n",
    "    return res \n",
    "\n",
    "#using res from above, we assign each Origin City to be a key in the default dict, and # of full flights to be it's value\n",
    "def shuffle_a_flights(inpt): \n",
    "    d = defaultdict(list)\n",
    "    for array in inpt : \n",
    "        for k, v in array:\n",
    "            d[k].append(v)\n",
    "    return d \n",
    "\n",
    "#finally, going through each key in our default dictionary, \n",
    "#we sum the number of full flights for all Origin Cities (and their values)\n",
    "def reduce_a_flights(d): \n",
    "    res = []\n",
    "    for k,v in d.items(): #could use d[0], d[1] but k=key, v=val more intuitive\n",
    "        res.append([k, sum(v)]) \n",
    "    return res \n",
    "#format: \n",
    "#[[Origin City, sum(# of full flights)], ..., [Origin City, sum(# of full flights)]\n",
    "\n",
    "#function that goes through all the Origin Cities, \n",
    "#finds the sum of all flights taken for this Origin City\n",
    "#safely divides sum(# of full flights) sum(all flights from Origin City)\n",
    "#l[combo][1] = Origin City; l[combo][1] = sum(# of full flights)\n",
    "def percentage(df, l):\n",
    "    for combo in range(len(l)):\n",
    "        full_flights = l[combo][1] #sum(# of full flights) for each tuple\n",
    "        all_flights = df.loc[df[\"Origin_city\"] == l[combo][0] ][\"Flights\"].sum() #sum of all flights taken for this Origin City\n",
    "        avg = np.divide(full_flights, all_flights, where=all_flights!=0) #avoid division by 0\n",
    "        l[combo][1] = f\"{np.round(avg*100, 2)}%\"\n",
    "    return l"
   ]
  },
  {
   "cell_type": "code",
   "execution_count": 109,
   "metadata": {},
   "outputs": [
    {
     "name": "stdout",
     "output_type": "stream",
     "text": [
      "Small:  [['Elko, NV', '2.27%'], ['Seattle, WA', '0.02%'], ['Eugene, OR', '0.33%'], ['Portland, OR', '0.0%'], ['Duluth, MN', '11.11%'], ['Tulsa, OK', '3.92%'], ['Austin, TX', '6.9%'], ['Omaha, NE', '2.77%'], ['Wausau, WI', '14.44%'], ['Topeka, KS', '4.91%'], ['Peoria, IL', '9.88%'], ['Colorado Springs, CO', '7.14%'], ['Oklahoma City, OK', '9.9%'], ['Salt Lake City, UT', '0.03%'], ['North Platte, NE', '14.89%'], ['Spokane, WA', '4.71%'], ['Bismarck, ND', '15.79%'], ['Madison, WI', '10.61%'], ['Lincoln, NE', '10.87%'], ['Waterloo, IA', '22.86%'], ['Rockford, IL', '17.35%'], ['Green Bay, WI', '17.19%'], ['La Crosse, WI', '22.5%'], ['Milwaukee, WI', '7.3%'], ['Bellingham, WA', '6.63%'], ['Eau Claire, WI', '9.09%'], ['Mason City, IA', '33.33%'], ['Kansas City, MO', '5.31%'], ['San Antonio, TX', '5.35%'], ['Sioux Falls, SD', '18.18%'], ['Scottsbluff, NE', '5.88%'], ['Minneapolis, MN', '8.0%'], ['Cedar Rapids, IA', '10.83%'], ['Grand Island, NE', '5.26%'], ['Shreveport, LA', '20.0%'], ['Albuquerque, NM', '3.02%'], ['Little Rock, AR', '7.94%'], ['Great Falls, MT', '5.71%'], ['Idaho Falls, ID', '50.0%'], ['Springfield, MO', '10.0%'], ['Port Angeles, WA', '6.98%'], ['Grand Junction, CO', '4.65%'], ['Wichita Falls, TX', '5.99%'], ['Dubuque, IA', '14.58%'], ['Chicago, IL', '2.41%'], ['Yakima, WA', '4.76%'], ['Houston, TX', '1.96%'], ['Tucson, AZ', '3.45%'], ['Dallas, TX', '0.51%'], ['Waco, TX', '7.46%'], ['Minot, ND', '9.23%'], ['Butte, MT', '5.68%'], ['Fargo, ND', '14.63%'], ['Rapid City, SD', '4.64%'], ['Rochester, MN', '14.29%'], ['St. Louis, MO', '3.57%'], ['Des Moines, IA', '9.4%'], ['Moses Lake, WA', '16.67%'], ['Fort Dodge, IA', '8.33%'], ['Liberal, KS', '0.22%'], ['Modesto, CA', '6.25%'], ['Wichita, KS', '3.3%'], ['Cheyenne, WY', '1.56%'], ['Lewiston, ID', '6.36%'], ['Kalispell, MT', '5.83%'], ['El Paso, TX', '1.82%'], ['Springfield, IL', '9.41%'], ['Twin Falls, ID', '5.88%'], ['Corpus Christi, TX', '3.25%'], ['Medford, OR', '1.64%'], ['Amarillo, TX', '4.26%'], ['Salem, OR', '4.35%'], ['Yuma, AZ', '14.29%'], ['Bend, OR', '2.63%'], ['Gary, IN', '4.49%'], ['Pueblo, CO', '8.0%'], ['Fresno, CA', '1.22%'], ['Fort Smith, AR', '8.43%'], ['Evansville, IN', '10.53%'], ['San Diego, CA', '2.27%'], ['Bloomington, IL', '5.56%'], ['Indianapolis, IN', '6.45%'], ['Champaign, IL', '7.5%'], ['Montrose, CO', '12.5%'], ['Aberdeen, SD', '33.33%'], ['Grand Forks, ND', '1.19%'], ['Laredo, TX', '15.94%'], ['Reno, NV', '0.03%'], ['Abilene, TX', '6.12%'], ['Dayton, OH', '3.7%'], ['Nashville, TN', '4.76%'], ['Cincinnati, OH', '7.69%'], ['South Bend, IN', '4.08%'], ['Akron, OH', '3.03%'], ['Casper, WY', '2.78%'], ['Salina, KS', '7.69%'], ['Toledo, OH', '30.77%'], ['Beaumont, TX', '9.09%'], ['Longview, TX', '3.03%'], ['Fort Wayne, IN', '3.85%'], ['Lubbock, TX', '2.56%'], ['Cleveland, OH', '2.63%'], ['Pittsburgh, PA', '0.01%']]\n",
      "\n",
      " Medium:  [['Elko, NV', '0.52%'], ['Seattle, WA', '0.04%'], ['Eugene, OR', '0.24%'], ['Portland, OR', '0.01%'], ['Duluth, MN', '9.3%'], ['Tulsa, OK', '0.72%'], ['Austin, TX', '1.83%'], ['Omaha, NE', '1.71%'], ['Wausau, WI', '13.33%'], ['Topeka, KS', '4.76%'], ['Peoria, IL', '8.6%'], ['Colorado Springs, CO', '0.79%'], ['Oklahoma City, OK', '5.87%'], ['Salt Lake City, UT', '0.05%'], ['North Platte, NE', '13.21%'], ['Spokane, WA', '0.17%'], ['Bismarck, ND', '0.07%'], ['Madison, WI', '10.53%'], ['Lincoln, NE', '4.48%'], ['Waterloo, IA', '20.0%'], ['Rockford, IL', '13.57%'], ['Green Bay, WI', '17.01%'], ['La Crosse, WI', '19.15%'], ['Milwaukee, WI', '0.16%'], ['Bellingham, WA', '2.88%'], ['Eau Claire, WI', '8.99%'], ['Mason City, IA', '33.33%'], ['Kansas City, MO', '0.26%'], ['San Antonio, TX', '3.61%'], ['Sioux Falls, SD', '0.22%'], ['Scottsbluff, NE', '5.31%'], ['Minneapolis, MN', '0.03%'], ['Cedar Rapids, IA', '2.77%'], ['Grand Island, NE', '4.96%'], ['Shreveport, LA', '6.35%'], ['Albuquerque, NM', '0.63%'], ['Little Rock, AR', '4.26%'], ['Great Falls, MT', '2.25%'], ['Idaho Falls, ID', '20.0%'], ['Springfield, MO', '8.75%'], ['Port Angeles, WA', '6.98%'], ['Grand Junction, CO', '4.32%'], ['Wichita Falls, TX', '5.41%'], ['Dubuque, IA', '14.29%'], ['Chicago, IL', '0.02%'], ['Yakima, WA', '4.65%'], ['Houston, TX', '0.03%'], ['Tucson, AZ', '0.6%'], ['Dallas, TX', '0.01%'], ['Waco, TX', '6.45%'], ['Minot, ND', '7.23%'], ['Butte, MT', '5.68%'], ['Fargo, ND', '11.27%'], ['Rapid City, SD', '5.53%'], ['Rochester, MN', '12.0%'], ['St. Louis, MO', '0.02%'], ['Des Moines, IA', '0.85%'], ['Moses Lake, WA', '16.67%'], ['Fort Dodge, IA', '8.33%'], ['Liberal, KS', '0.32%'], ['Modesto, CA', '5.88%'], ['Wichita, KS', '0.9%'], ['Cheyenne, WY', '1.45%'], ['Lewiston, ID', '6.09%'], ['Kalispell, MT', '0.2%'], ['El Paso, TX', '1.75%'], ['Springfield, IL', '10.48%'], ['Twin Falls, ID', '5.26%'], ['Corpus Christi, TX', '3.57%'], ['Medford, OR', '1.61%'], ['Amarillo, TX', '3.65%'], ['Salem, OR', '4.35%'], ['Yuma, AZ', '8.33%'], ['Bend, OR', '4.44%'], ['Gary, IN', '3.25%'], ['Pueblo, CO', '6.45%'], ['Fresno, CA', '0.02%'], ['Fort Smith, AR', '7.69%'], ['Evansville, IN', '5.71%'], ['San Diego, CA', '0.04%'], ['Bloomington, IL', '6.35%'], ['Indianapolis, IN', '0.13%'], ['Champaign, IL', '2.48%'], ['Montrose, CO', '12.5%'], ['Aberdeen, SD', '0.17%'], ['Grand Forks, ND', '0.15%'], ['Laredo, TX', '4.8%'], ['Reno, NV', '0.06%'], ['Abilene, TX', '5.3%'], ['Dayton, OH', '0.03%'], ['Nashville, TN', '0.03%'], ['Cincinnati, OH', '0.03%'], ['South Bend, IN', '2.13%'], ['Akron, OH', '2.04%'], ['Casper, WY', '2.7%'], ['Salina, KS', '3.12%'], ['Toledo, OH', '1.63%'], ['Beaumont, TX', '10.0%'], ['Longview, TX', '2.7%'], ['Fort Wayne, IN', '0.09%'], ['Lubbock, TX', '1.93%'], ['Cleveland, OH', '0.02%'], ['Pittsburgh, PA', '0.03%'], ['Atlantic City, NJ', '0.25%'], ['New Orleans, LA', '0.03%'], ['Buffalo, NY', '4.49%'], ['Charleston, SC', '1.65%'], ['Providence, RI', '12.24%'], ['New York, NY', '0.02%'], ['Memphis, TN', '0.02%'], ['Kahului, HI', '0.05%'], ['Honolulu, HI', '0.0%'], ['Phoenix, AZ', '0.02%'], ['Detroit, MI', '0.01%'], ['Los Angeles, CA', '0.02%'], ['Las Vegas, NV', '0.17%'], ['Sacramento, CA', '0.12%'], ['San Jose, CA', '0.01%'], ['Santa Ana, CA', '0.1%'], ['Newark, NJ', '0.04%'], ['Oakland, CA', '0.0%'], ['San Angelo, TX', '5.77%'], ['San Francisco, CA', '0.01%'], ['Billings, MT', '0.11%'], ['Boston, MA', '0.05%'], ['Garden City, KS', '0.78%'], ['Bakersfield, CA', '8.11%'], ['Washington, DC', '0.01%'], ['College Station, TX', '3.45%'], ['Baton Rouge, LA', '4.84%'], ['Jackson, MS', '3.51%'], ['Tampa, FL', '0.01%'], ['Huntsville, AL', '0.95%'], ['Hartford, CT', '0.07%'], ['Knoxville, TN', '1.85%'], ['Birmingham, AL', '2.33%'], ['Orlando, FL', '0.01%'], ['Pensacola, FL', '0.37%'], ['San Luis Obispo, CA', '6.67%'], ['Flint, MI', '11.11%'], ['Miami, FL', '0.21%'], ['Atlanta, GA', '0.01%'], ['Ithaca, NY', '0.85%'], ['Reading, PA', '1.72%'], ['Richmond, VA', '0.12%'], ['Charlotte, NC', '0.02%'], ['Portland, ME', '8.33%'], ['Gulfport, MS', '2.13%'], ['Missoula, MT', '0.08%'], ['Bozeman, MT', '0.01%'], ['Traverse City, MI', '11.76%'], ['Alpena, MI', '0.11%'], ['Syracuse, NY', '3.77%'], ['Greenville, SC', '5.0%'], ['Wilmington, NC', '3.03%'], ['Florence, SC', '5.26%'], ['Valdosta, GA', '0.76%'], ['Jacksonville, NC', '4.17%'], ['Myrtle Beach, SC', '1.72%'], ['Brunswick, GA', '1.64%'], ['Panama City, FL', '5.88%'], ['Gainesville, FL', '0.02%'], ['Fayetteville, AR', '0.24%'], ['Philadelphia, PA', '0.01%'], ['Lafayette, LA', '2.33%'], ['Bangor, ME', '0.42%'], ['West Palm Beach, FL', '0.12%'], ['Fort Lauderdale, FL', '0.36%'], ['Greensboro, NC', '0.05%'], ['Rochester, NY', '3.12%'], ['Tallahassee, FL', '0.01%'], ['Baltimore, MD', '0.01%'], ['Key West, FL', '0.01%'], ['Columbus, OH', '0.08%'], ['Allentown, PA', '0.78%'], ['Jacksonville, FL', '0.01%'], ['Scranton, PA', '4.35%'], ['Raleigh, NC', '0.0%']]\n"
     ]
    }
   ],
   "source": [
    "small = percentage(df, reduce_a_flights(\n",
    "            shuffle_a_flights(\n",
    "                    map_a_flights( df ))))\n",
    "medium = percentage(df_medium, reduce_a_flights(\n",
    "            shuffle_a_flights(\n",
    "                    map_a_flights( df_medium ))))\n",
    "print(\"Small: \", small)\n",
    "print(\"\\n Medium: \", medium)"
   ]
  },
  {
   "cell_type": "markdown",
   "metadata": {
    "id": "_o-3JT1L659s"
   },
   "source": [
    "Look at your code. Can you use a <code>combine()</code> operation? \n",
    "\n",
    "If you cannot directly think about how you can represent the key-value pairs in a way that allows you to take advantage of a combine."
   ]
  },
  {
   "cell_type": "code",
   "execution_count": 47,
   "metadata": {
    "id": "dEOIsmdE7LQh"
   },
   "outputs": [],
   "source": [
    "# perhaps we could use combine for the full flights and \"all\" flights but this would be very expensive on RAM. "
   ]
  },
  {
   "cell_type": "markdown",
   "metadata": {
    "id": "rNFDKY4u-0jY"
   },
   "source": [
    "\n",
    "### <strong> Bonus - Data Analysis </strong>\n",
    "#### Data analysis\n",
    "\n",
    "<p align=\"justify\">\n",
    "<font size=\"3\">\n",
    "Look at the number of almost empty flights and full flights and propose an analysis that explores if there is a correlation between the number of flights connecting two cities, the number of full flights and the percentage of almost empty flights. \n",
    "\n",
    "The granularity of the analysis is important: consider for example the week, the month and the year.\n",
    "</font>\n",
    "</p>\n"
   ]
  },
  {
   "cell_type": "code",
   "execution_count": 46,
   "metadata": {
    "id": "Wi4qRKmeBM7s"
   },
   "outputs": [],
   "source": [
    "# Define here your considerations and your code"
   ]
  },
  {
   "cell_type": "code",
   "execution_count": null,
   "metadata": {},
   "outputs": [],
   "source": []
  },
  {
   "cell_type": "code",
   "execution_count": null,
   "metadata": {},
   "outputs": [],
   "source": []
  },
  {
   "cell_type": "code",
   "execution_count": null,
   "metadata": {},
   "outputs": [],
   "source": []
  },
  {
   "cell_type": "code",
   "execution_count": null,
   "metadata": {},
   "outputs": [],
   "source": []
  },
  {
   "cell_type": "code",
   "execution_count": null,
   "metadata": {},
   "outputs": [],
   "source": []
  },
  {
   "cell_type": "code",
   "execution_count": null,
   "metadata": {},
   "outputs": [],
   "source": []
  },
  {
   "cell_type": "code",
   "execution_count": null,
   "metadata": {},
   "outputs": [],
   "source": []
  }
 ],
 "metadata": {
  "anaconda-cloud": {},
  "colab": {
   "collapsed_sections": [],
   "name": "ass1_mapReduce_2021_final.ipynb",
   "provenance": [],
   "toc_visible": true
  },
  "kernelspec": {
   "display_name": "Python 3",
   "language": "python",
   "name": "python3"
  },
  "language_info": {
   "codemirror_mode": {
    "name": "ipython",
    "version": 3
   },
   "file_extension": ".py",
   "mimetype": "text/x-python",
   "name": "python",
   "nbconvert_exporter": "python",
   "pygments_lexer": "ipython3",
   "version": "3.9.7"
  },
  "latex_envs": {
   "LaTeX_envs_menu_present": true,
   "autoclose": false,
   "autocomplete": true,
   "bibliofile": "biblio.bib",
   "cite_by": "apalike",
   "current_citInitial": 1,
   "eqLabelWithNumbers": true,
   "eqNumInitial": 1,
   "hotkeys": {
    "equation": "Ctrl-E",
    "itemize": "Ctrl-I"
   },
   "labels_anchors": false,
   "latex_user_defs": false,
   "report_style_numbering": false,
   "user_envs_cfg": false
  },
  "name": "BE4-Spark.ipynb"
 },
 "nbformat": 4,
 "nbformat_minor": 1
}
