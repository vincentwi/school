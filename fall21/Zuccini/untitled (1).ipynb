{
  "cells": [
    {
      "cell_type": "code",
      "source": [
        ""
      ],
      "metadata": {
        "id": "ZlCxr25McdEG"
      },
      "execution_count": null,
      "outputs": []
    },
    {
      "cell_type": "code",
      "source": [
        ""
      ],
      "metadata": {
        "id": "ojAmnDltcdBt"
      },
      "execution_count": null,
      "outputs": []
    },
    {
      "cell_type": "code",
      "source": [
        ""
      ],
      "metadata": {
        "id": "hhU8_i9Kcc_Y"
      },
      "execution_count": null,
      "outputs": []
    },
    {
      "cell_type": "code",
      "source": [
        ""
      ],
      "metadata": {
        "id": "5xX3i9dZcc9a"
      },
      "execution_count": null,
      "outputs": []
    },
    {
      "cell_type": "code",
      "source": [
        ""
      ],
      "metadata": {
        "id": "G8_CDBEwcc8D"
      },
      "execution_count": null,
      "outputs": []
    },
    {
      "cell_type": "code",
      "source": [
        ""
      ],
      "metadata": {
        "id": "QFgJPhxKcc5C"
      },
      "execution_count": null,
      "outputs": []
    },
    {
      "cell_type": "code",
      "source": [
        ""
      ],
      "metadata": {
        "id": "GnRMyg9rcc2O"
      },
      "execution_count": null,
      "outputs": []
    },
    {
      "cell_type": "code",
      "source": [
        ""
      ],
      "metadata": {
        "id": "BKwl7H67cc0Q"
      },
      "execution_count": null,
      "outputs": []
    },
    {
      "cell_type": "code",
      "source": [
        ""
      ],
      "metadata": {
        "id": "rfpP3u7Lccxu"
      },
      "execution_count": null,
      "outputs": []
    },
    {
      "cell_type": "code",
      "source": [
        ""
      ],
      "metadata": {
        "id": "SSwxsXjzccu0"
      },
      "execution_count": null,
      "outputs": []
    },
    {
      "cell_type": "code",
      "source": [
        ""
      ],
      "metadata": {
        "id": "Z26swKbXQF8H"
      },
      "execution_count": null,
      "outputs": []
    },
    {
      "cell_type": "code",
      "source": [
        ""
      ],
      "metadata": {
        "id": "88N-AIeEQF0F"
      },
      "execution_count": null,
      "outputs": []
    },
    {
      "cell_type": "markdown",
      "source": [
        "# HW 2: Word Counting"
      ],
      "metadata": {
        "id": "KgwcwLSYSH4-"
      }
    },
    {
      "cell_type": "code",
      "source": [
        "!pip3 uninstall pyspark\n",
        "!pip3 install pyspark==3.0.2"
      ],
      "metadata": {
        "colab": {
          "base_uri": "https://localhost:8080/"
        },
        "id": "3wqCXj0uSsVB",
        "outputId": "2dabe7ff-a6b7-42c9-c97b-4a16b8431746"
      },
      "execution_count": 11,
      "outputs": [
        {
          "output_type": "stream",
          "name": "stdout",
          "text": [
            "\u001b[33mWARNING: Skipping pyspark as it is not installed.\u001b[0m\n",
            "Collecting pyspark==3.0.2\n",
            "  Downloading pyspark-3.0.2.tar.gz (204.8 MB)\n",
            "\u001b[K     |████████████████████████████████| 204.8 MB 55 kB/s \n",
            "\u001b[?25hCollecting py4j==0.10.9\n",
            "  Downloading py4j-0.10.9-py2.py3-none-any.whl (198 kB)\n",
            "\u001b[K     |████████████████████████████████| 198 kB 30.2 MB/s \n",
            "\u001b[?25hBuilding wheels for collected packages: pyspark\n",
            "  Building wheel for pyspark (setup.py) ... \u001b[?25l\u001b[?25hdone\n",
            "  Created wheel for pyspark: filename=pyspark-3.0.2-py2.py3-none-any.whl size=205186690 sha256=dc9cc2d4a8b26c0f32c86d850443a630814c2e56972d3ca2d31f541de696d750\n",
            "  Stored in directory: /root/.cache/pip/wheels/9a/39/f6/970565f38054a830e9a8593f388b36e14d75dba6c6fdafc1ec\n",
            "Successfully built pyspark\n",
            "Installing collected packages: py4j, pyspark\n",
            "Successfully installed py4j-0.10.9 pyspark-3.0.2\n"
          ]
        }
      ]
    },
    {
      "cell_type": "code",
      "source": [
        "import re\n",
        "import sys\n",
        "from pyspark import SparkConf, SparkContext\n",
        "\n",
        "\n",
        "conf = SparkConf()\n",
        "sc = SparkContext(conf=conf)"
      ],
      "metadata": {
        "id": "aKoGFv6fQFwr"
      },
      "execution_count": 12,
      "outputs": []
    },
    {
      "cell_type": "code",
      "source": [
        "\n",
        "# Load the data\n",
        "data = sc.textFile('/content/100-0.txt')\n",
        "\n",
        "# Parse the data into words\n",
        "words = data.flatMap(lambda line: re.split(r'[^\\w]+', line))\n",
        "\n",
        "# Deal with case\n",
        "caps = words.map(lambda word: word.upper())\n",
        "\n",
        "# Remove empty words\n",
        "final = caps.filter(lambda word: word != '')\n",
        "\n",
        "# Convert each word into a tuple of its first letter and 1\n",
        "pairs = final.map(lambda word: (word[0], 1))\n",
        "\n",
        "# Sum the counts for each character and save them to disk\n",
        "pairs.reduceByKey(lambda c1, c2: c1 + c2).sortByKey().saveAsTextFile(\"output2\")"
      ],
      "metadata": {
        "id": "_ap9JE0vSWbi"
      },
      "execution_count": 14,
      "outputs": []
    },
    {
      "cell_type": "code",
      "source": [
        "sc.stop"
      ],
      "metadata": {
        "id": "Go9CqEtVSaDY"
      },
      "execution_count": null,
      "outputs": []
    },
    {
      "cell_type": "markdown",
      "source": [
        "# HW 3: Text Similarity"
      ],
      "metadata": {
        "id": "JvlnGJFJQGig"
      }
    },
    {
      "cell_type": "markdown",
      "source": [
        "## Ex 1: jaccard sim (comp sci.lower())"
      ],
      "metadata": {
        "id": "NKHZJzpxQ1Am"
      }
    },
    {
      "cell_type": "markdown",
      "source": [
        "We will start by writing a simple similarity-matching function that computes the similarity between two input strings.\n",
        "\n",
        "Initialize a score variable, and set it to 0:"
      ],
      "metadata": {
        "id": "VR5wUHgzQuQ-"
      }
    },
    {
      "cell_type": "code",
      "source": [
        "score = 0.0"
      ],
      "metadata": {
        "id": "OyaO88WDQFpR"
      },
      "execution_count": 1,
      "outputs": []
    },
    {
      "cell_type": "markdown",
      "source": [
        "Split text into elements. Write a function to convert the input text into elements of three characters."
      ],
      "metadata": {
        "id": "os8O0nqIQwRc"
      }
    },
    {
      "cell_type": "code",
      "source": [
        "shingles = lambda s: set(s[i:i+3] for i in range(len(s)-2))"
      ],
      "metadata": {
        "id": "VdyCx67FQUUD"
      },
      "execution_count": 2,
      "outputs": []
    },
    {
      "cell_type": "markdown",
      "source": [
        "test out the results by running the following code:"
      ],
      "metadata": {
        "id": "mIAppbFQQyB1"
      }
    },
    {
      "cell_type": "code",
      "source": [
        "print(shingles('Hello, there ! How are you ?'))"
      ],
      "metadata": {
        "colab": {
          "base_uri": "https://localhost:8080/"
        },
        "id": "s4BxVe7vQUR2",
        "outputId": "40b71f39-034f-4ddb-bb26-50a8bb1592e0"
      },
      "execution_count": 3,
      "outputs": [
        {
          "output_type": "stream",
          "name": "stdout",
          "text": [
            "{'e !', ', t', 'her', 'o, ', 'e y', ' ar', 'llo', ' ! ', 'How', 'ere', 'Hel', ' Ho', 'the', 'lo,', 'you', ' th', '! H', 're ', 'are', 'ou ', 'ow ', 'w a', 'ell', 'u ?', ' yo'}\n"
          ]
        }
      ]
    },
    {
      "cell_type": "code",
      "source": [
        "jaccard_distance = lambda seta, setb: len(seta & setb)/float(len(seta | setb))"
      ],
      "metadata": {
        "id": "mgftKzoJQUPw"
      },
      "execution_count": 4,
      "outputs": []
    },
    {
      "cell_type": "code",
      "source": [
        "def minhash(input_question, compare_question):\n",
        "    score = 0.0\n",
        "    shingles = lambda s: set(s[i:i+3] for i in range(len(s)-2))\n",
        "    jaccard_distance = lambda seta, setb: len(seta & setb)/float(len(seta | setb))\n",
        "    #main code (inside a try except call)\n",
        "    try:\n",
        "        score = jaccard_distance(shingles(input_question), shingles(compare_question))\n",
        "    except ZeroDivisionError:\n",
        "        print('ZeroDivisionError')\n",
        "#The last step is to return the score.\n",
        "    return score"
      ],
      "metadata": {
        "id": "PryA1m1lQUNg"
      },
      "execution_count": 5,
      "outputs": []
    },
    {
      "cell_type": "code",
      "source": [
        "print(minhash('welcome to medium', 'medium is a publishing platform'))\n",
        "print(minhash('i have a cat', 'i have a dog'))"
      ],
      "metadata": {
        "colab": {
          "base_uri": "https://localhost:8080/"
        },
        "id": "7LEzveF0Qlpd",
        "outputId": "6f16b05e-a5cc-484a-92e0-98f7e797cd87"
      },
      "execution_count": 6,
      "outputs": [
        {
          "output_type": "stream",
          "name": "stdout",
          "text": [
            "0.1\n",
            "0.5384615384615384\n"
          ]
        }
      ]
    },
    {
      "cell_type": "code",
      "source": [
        "input = 'Welcome to Medium'\n",
        "compare = 'Medium is a publishing platform'\n",
        "print(minhash(input.lower(), compare.lower()))"
      ],
      "metadata": {
        "colab": {
          "base_uri": "https://localhost:8080/"
        },
        "id": "XDpSKCoQQlnK",
        "outputId": "e30c606f-05b2-4f71-d571-e5d1dfb9fc89"
      },
      "execution_count": 7,
      "outputs": [
        {
          "output_type": "stream",
          "name": "stdout",
          "text": [
            "0.1\n"
          ]
        }
      ]
    },
    {
      "cell_type": "code",
      "source": [
        "input='Computer science and Data Mining'\n",
        "compare='One of the primary foundations of Machine Learning is Data Mining'\n",
        "print(minhash(input.lower(), compare.lower()))"
      ],
      "metadata": {
        "colab": {
          "base_uri": "https://localhost:8080/"
        },
        "id": "n-9rbErPQllH",
        "outputId": "4804c716-4d7f-4c03-b294-38dd36ba1b36"
      },
      "execution_count": 8,
      "outputs": [
        {
          "output_type": "stream",
          "name": "stdout",
          "text": [
            "0.12987012987012986\n"
          ]
        }
      ]
    },
    {
      "cell_type": "code",
      "source": [
        "input=\"Computer science and Machine Learning \" \n",
        "\n",
        "compare=\"One of the primary foundations of Machine Learning is Data Mining\"\n",
        "print(minhash(input.lower(), compare.lower()))"
      ],
      "metadata": {
        "colab": {
          "base_uri": "https://localhost:8080/"
        },
        "id": "KaoFL81AQlfv",
        "outputId": "349a81e9-f761-4b9a-9050-bba1cda2cb14"
      },
      "execution_count": 9,
      "outputs": [
        {
          "output_type": "stream",
          "name": "stdout",
          "text": [
            "0.2077922077922078\n"
          ]
        }
      ]
    },
    {
      "cell_type": "markdown",
      "source": [
        "### ,"
      ],
      "metadata": {
        "id": "7iJwANNAyc9w"
      }
    },
    {
      "cell_type": "markdown",
      "source": [
        "ESSEC Business School - Big Data Analytics\n",
        "Big Data Analytics\n",
        "ESSEC\n",
        "Olga Klopp\n",
        "Home work 3 : Finding Similar Items, part 2\n",
        "1\n",
        "ESSEC Business School - Big Data Analytics\n",
        "1. (Exercise 3.2.3 MMDS book ) What is the largest number of k-shingles a document of n bytes can have? You may assume that the size of the alphabet is large\n",
        "enough that the number of possible strings of length k is at least as n. (In UTF-8\n",
        "encoding each letter occupies 1 byte(8 bits).)\n",
        "Solution: The number of k-shingles = the number of characters −k + 1 = n−k + 1\n",
        "\n",
        "2. (Exercise 3.3.2 MMDS book ) Using the data from Fig. 3.4, add to the signatures\n",
        "of the columns the values of the following hash functions:\n",
        " h3(x) = 2x + 4 mod 5\n",
        " h4(x) = 3x − 1 mod 5\n",
        "Solution: \n",
        "Rows 2x + 4 mod 5 3x − 1 mod 5\n",
        "0 4 4\n",
        "1 1 2\n",
        "2 3 0\n",
        "3 0 3\n",
        "4 2 1\n",
        "\n",
        "3. (Exercise 3.3.3 MMDS book ) In Fig. 3.5 is a matrix with six rows.\n",
        " Compute the minhash signature for each column if we use the following three\n",
        "hash functions: h1(x) = 2x + 1 mod 6; h2(x) = 3x + 2 mod 6 ; h3(x) =\n",
        "5x + 2 mod 6.\n",
        " Which of these hash functions are true permutations?\n",
        " How close are the estimated Jaccard similarities for the six pairs of columns to\n",
        "the true Jaccard similarities?\n",
        "\n",
        "Solution: \n",
        "2\n",
        "ESSEC Business School - Big Data Analytics\n",
        "Rows 2x + 1 mod 6 3x + 2 mod 6 5x + 2 mod 6\n",
        "0 1 2 2\n",
        "1 3 5 1\n",
        "2 5 2 0\n",
        "3 1 5 5\n",
        "4 3 2 4\n",
        "5 5 5 3\n",
        "h3 is a true permutation.\n",
        "\n",
        "To compute the signatures: Let SIG(i, c) be the element of the signature matrix for\n",
        "the ith hash function and column c. Initially, set SIG(i, c) to ∞ for all i and c. We\n",
        "handle row r by doing the following:\n",
        "(a) Compute h1(r), h2(r), ..., hn(r).\n",
        "(b) For each column c do the following:\n",
        "i. If c has 0 in row r, do nothing.\n",
        "ii. However, if c has 1 in row r, then for each i = 1, 2, ..., n set SIG(i, c) to\n",
        "the smaller of the current value of SIG(i, c) and hi(r).\n",
        "\n",
        "Applying this algorithm we get:\n",
        "S1 S2 S3 S4\n",
        "h1 5 1 1 1\n",
        "h2 2 2 2 2\n",
        "h3 0 1 4 0\n",
        "\n",
        " Sim(S1, S2) = 0, estimated 1/3\n",
        " Sim(S1, S3) = 0, estimated 1/3\n",
        " Sim(S1, S4) = 1/4, estimated 2/3\n",
        " Sim(S2, S3) = 0, estimated 2/3\n",
        " Sim(S2, S4) = 1/4, estimated 2/3\n",
        " Sim(S3, S4) = 1/4, estimated 2/3\n",
        "3"
      ],
      "metadata": {
        "id": "a5hrN8Y-yNGr"
      }
    },
    {
      "cell_type": "code",
      "source": [
        ""
      ],
      "metadata": {
        "id": "SqjrJ6LuQldM"
      },
      "execution_count": null,
      "outputs": []
    },
    {
      "cell_type": "markdown",
      "source": [
        "## Ex 2: Quora "
      ],
      "metadata": {
        "id": "SJBQMIc6Q3fx"
      }
    },
    {
      "cell_type": "code",
      "source": [
        "#Step 1: Data Extraction¶\n",
        "import numpy as np # linear algebra\n",
        "import pandas as pd # data processing, CSV file I/O (e.g. pd.read_csv)\n",
        "from tqdm import tqdm # make your loops show the progress\n",
        "import nltk # The Natural Language Toolkit "
      ],
      "metadata": {
        "id": "7rclvABuQ6Mr"
      },
      "execution_count": null,
      "outputs": []
    },
    {
      "cell_type": "code",
      "source": [
        "qa_pairs = pd.read_csv('/content/quora_train.csv')\n",
        "qa_pairs.tail()"
      ],
      "metadata": {
        "id": "XzRCit7fRNbG"
      },
      "execution_count": null,
      "outputs": []
    },
    {
      "cell_type": "code",
      "source": [
        "qa_pairs.sample(10, random_state=42)"
      ],
      "metadata": {
        "id": "1rN_Mc45RNYQ"
      },
      "execution_count": null,
      "outputs": []
    },
    {
      "cell_type": "code",
      "source": [
        "#Step 2: MinHast and LSH¶\n",
        "!pip3 install datasketch"
      ],
      "metadata": {
        "id": "nEx9QVGfRNWD"
      },
      "execution_count": null,
      "outputs": []
    },
    {
      "cell_type": "code",
      "source": [
        "import datasketch\n",
        "sents_pairs = pd.concat([qa_pairs[qa_pairs['is_duplicate'] == 0].sample(100, random_state=42), \n",
        "                   qa_pairs[qa_pairs['is_duplicate'] == 1].sample(100, random_state=42)]).reset_index(drop=True).sample(frac=1.)\n",
        "sents_pairs.shape\n",
        "# drops the current index of the DataFrame and replaces it with an index of increasing integers.\n",
        "# sample(frac=1.) shuffles the order of the DataFrame's rows: The frac keyword argument specifies the fraction of rows to return in the random sample, so frac=1 means return all rows (in random order).\n",
        "# pandas.DataFrame.sample returns a random sample of items from an axis of object.\n",
        "# NumPy arrays have an attribute called shape that returns a tuple with each index having the number of corresponding elements."
      ],
      "metadata": {
        "id": "QbOMoF9yRNUB"
      },
      "execution_count": null,
      "outputs": []
    },
    {
      "cell_type": "code",
      "source": [
        "sents_pairs.head()"
      ],
      "metadata": {
        "id": "2oiFiTSURNR-"
      },
      "execution_count": null,
      "outputs": []
    },
    {
      "cell_type": "code",
      "source": [
        "sents = pd.concat([sents_pairs['question1'], sents_pairs['question2']])\n",
        "sents.head()"
      ],
      "metadata": {
        "id": "Yw1PcYMgRNPo"
      },
      "execution_count": null,
      "outputs": []
    },
    {
      "cell_type": "code",
      "source": [
        "import nltk\n",
        "nltk.download('stopwords')"
      ],
      "metadata": {
        "id": "M8SU_RZ0RNNi"
      },
      "execution_count": null,
      "outputs": []
    },
    {
      "cell_type": "code",
      "source": [
        "from nltk.corpus import stopwords\n",
        "stop_words = stopwords.words('english')\n",
        "print(stop_words)"
      ],
      "metadata": {
        "id": "5mApOmGBRNLu"
      },
      "execution_count": null,
      "outputs": []
    },
    {
      "cell_type": "markdown",
      "source": [
        "We will create two dictionaries: 'set_dict' and 'norm_dict'. The dictionary 'set_dict' has as keys m1,m2, etc and as elements set_dict[mi], the set of shingles. The dictionary 'norm_dict' maps question id (eg 'm23') to the actual question. We will use this dictionary to evaluate the results of LSH output.\n",
        "\n",
        "We loop through each question, convert them into shingles, and if the shingle isn’t a stop word, we add them to a hashset which will be the value for the set_dict dictionary."
      ],
      "metadata": {
        "id": "UiZjhf_oRrc4"
      }
    },
    {
      "cell_type": "code",
      "source": [
        "'''\n",
        "format(value)  puts value in the replacement  defined by a pair of curly braces { } into a string\n",
        "'''\n",
        "\n",
        "set_dict={} \n",
        "\n",
        "norm_dict={} \n",
        "count=1\n",
        "for question in sents:\n",
        "    temp_list = []\n",
        "    for shingle in question.split(' '):\n",
        "        if shingle not in stop_words:\n",
        "            temp_list.append(shingle.lower())\n",
        "    set_dict[\"m{0}\".format(count)] = set(temp_list)\n",
        "    norm_dict[\"m{0}\".format(count)] = question\n",
        "    count +=1\n"
      ],
      "metadata": {
        "id": "L172Yg6GRNJr"
      },
      "execution_count": null,
      "outputs": []
    },
    {
      "cell_type": "code",
      "source": [
        "set_dict['m2']"
      ],
      "metadata": {
        "id": "VpNnfcS9RNHb"
      },
      "execution_count": null,
      "outputs": []
    },
    {
      "cell_type": "code",
      "source": [
        "norm_dict['m1']"
      ],
      "metadata": {
        "id": "0bS72ncpRNFI"
      },
      "execution_count": null,
      "outputs": []
    },
    {
      "cell_type": "markdown",
      "source": [
        "Step 3: Create minHash signatures¶\n",
        "\n",
        "We loop through all the set representations of questions and calculate the signatures and store them in the min_dict dictionary. We encode the shingles using the utf8 format."
      ],
      "metadata": {
        "id": "MbYNC196RxhY"
      }
    },
    {
      "cell_type": "code",
      "source": [
        "\n",
        "\n",
        "'''\n",
        "num_perm is the number of permutations we want for the MinHash algorithm. \n",
        "\n",
        "min_dict maps question id (eg 'm23') to min hash signatures.\n",
        "\n",
        "\n",
        "'''\n",
        "\n",
        "num_perm = 256\n",
        "min_dict = {}\n",
        "count2 = 1\n",
        "for val in tqdm(set_dict.values()):\n",
        "    m = datasketch.MinHash(num_perm=num_perm)\n",
        "    for shingle in val:\n",
        "        m.update(shingle.encode('utf8'))\n",
        "    min_dict[\"m{}\".format(count2)] = m\n",
        "    count2+=1"
      ],
      "metadata": {
        "id": "56JFRs-3Rv5M"
      },
      "execution_count": null,
      "outputs": []
    },
    {
      "cell_type": "code",
      "source": [
        "#MinHash data structure:\n",
        "min_dict['m1']"
      ],
      "metadata": {
        "id": "eGeAqiVuRv2u"
      },
      "execution_count": null,
      "outputs": []
    },
    {
      "cell_type": "markdown",
      "source": [
        "Step 4: Create LSH index\n",
        "\n",
        "We set the Jaccard similarity threshold as a parameter in MinHashLSH. We loop through the signatures or keys in the min_dict dictionary. Datasketch stores these in a dictionary format, where the key is a question and the values are all the questions deemed similar based on the threshold."
      ],
      "metadata": {
        "id": "xtSxL8IZR4Z0"
      }
    },
    {
      "cell_type": "code",
      "source": [
        "'''\n",
        "Create an MinHashLSH index optimized for Jaccard threshold 0.4,\n",
        "that accepts MinHash objects with num_perm permutations functions\n",
        "'''\n",
        "\n",
        "lsh = datasketch.MinHashLSH(threshold=0.4, num_perm=num_perm)\n",
        "for key in tqdm(min_dict.keys()):\n",
        "    lsh.insert(key,min_dict[key]) # insert minhash data structure\n"
      ],
      "metadata": {
        "id": "qpLWBHFBRv0s"
      },
      "execution_count": null,
      "outputs": []
    },
    {
      "cell_type": "code",
      "source": [
        "big_list = []\n",
        "for query in min_dict.keys():\n",
        "    big_list.append(lsh.query(min_dict[query]))"
      ],
      "metadata": {
        "id": "kPX5KqxQRvyb"
      },
      "execution_count": null,
      "outputs": []
    },
    {
      "cell_type": "code",
      "source": [
        "norm_dict[big_list[4][0]]"
      ],
      "metadata": {
        "id": "2WD3AAMnRvwG"
      },
      "execution_count": null,
      "outputs": []
    },
    {
      "cell_type": "markdown",
      "metadata": {
        "id": "eoGiE_JfSE6C"
      },
      "source": [
        "# Homework 4, part 1: Bloom Filters and Pokemon\n",
        "\n",
        "The goal of this exercise is to illustrate how the Bloom filter works. It is based on the following blog: https://notebook.community/vprusso/youtube_tutorials/data_structures/bloom_filter/Bloom%20Filters%20and%20Pokemon \n",
        "Start by creating a bit vector `bit_vector` of size 20 and initialize it to all zeros. "
      ]
    },
    {
      "cell_type": "code",
      "execution_count": null,
      "metadata": {
        "colab": {
          "base_uri": "https://localhost:8080/"
        },
        "id": "HLTtRZWFSE6E",
        "outputId": "970a4524-7899-4765-8b7f-69db2382f9d4"
      },
      "outputs": [
        {
          "output_type": "stream",
          "name": "stdout",
          "text": [
            "[0, 0, 0, 0, 0, 0, 0, 0, 0, 0, 0, 0, 0, 0, 0, 0, 0, 0, 0, 0]\n"
          ]
        }
      ],
      "source": [
        "bit_vector = [0] * 20\n",
        "print(bit_vector)"
      ]
    },
    {
      "cell_type": "markdown",
      "metadata": {
        "id": "zzRlBhR_SE6G"
      },
      "source": [
        "Define two hash function `first_hasher` and `second_hasher`. For example, you can istall the package pyhash: https://pypi.org/project/pyhash/ and use MurmurHash and FNV (Fowler-Noll-Vo) hash algorithms."
      ]
    },
    {
      "cell_type": "code",
      "execution_count": null,
      "metadata": {
        "colab": {
          "base_uri": "https://localhost:8080/"
        },
        "id": "QjonrqtFSE6G",
        "outputId": "7bb59a31-7f6b-4354-e39c-913e873d5610"
      },
      "outputs": [
        {
          "output_type": "stream",
          "name": "stdout",
          "text": [
            "Collecting pyhash\n",
            "  Downloading pyhash-0.9.3.tar.gz (602 kB)\n",
            "\u001b[K     |████████████████████████████████| 602 kB 5.1 MB/s \n",
            "\u001b[?25hBuilding wheels for collected packages: pyhash\n",
            "  Building wheel for pyhash (setup.py) ... \u001b[?25l\u001b[?25hdone\n",
            "  Created wheel for pyhash: filename=pyhash-0.9.3-cp37-cp37m-linux_x86_64.whl size=2208460 sha256=590ff9821eefbd8f130daa8534f3171e31e6f4d75a91762453179de324dfe2f4\n",
            "  Stored in directory: /root/.cache/pip/wheels/bb/d5/a3/bd57d75a2aad35e62fb67903bffc4ca558c3f9b128147a3b8f\n",
            "Successfully built pyhash\n",
            "Installing collected packages: pyhash\n",
            "Successfully installed pyhash-0.9.3\n"
          ]
        }
      ],
      "source": [
        "!pip install pyhash"
      ]
    },
    {
      "cell_type": "code",
      "execution_count": null,
      "metadata": {
        "id": "b4vImLOxSE6G"
      },
      "outputs": [],
      "source": [
        "import pyhash"
      ]
    },
    {
      "cell_type": "code",
      "execution_count": null,
      "metadata": {
        "id": "iK4CwUPsSE6H"
      },
      "outputs": [],
      "source": [
        "first_hasher = pyhash.fnv1_64()\n",
        "second_hasher = pyhash.murmur1_32()"
      ]
    },
    {
      "cell_type": "markdown",
      "metadata": {
        "id": "yfIiGzSRSE6H"
      },
      "source": [
        "Calculate the output of `first_hasher` and `second_hasher` modulus 20 for Pikachu and Charmander and print them."
      ]
    },
    {
      "cell_type": "code",
      "execution_count": null,
      "metadata": {
        "colab": {
          "base_uri": "https://localhost:8080/"
        },
        "id": "hK8lx2fwSE6H",
        "outputId": "fd2427d4-2fb9-4398-8725-75dfcc9a8c53"
      },
      "outputs": [
        {
          "output_type": "stream",
          "name": "stdout",
          "text": [
            "FNV hash output for Pikachu: 19\n",
            "Murmur hash output for Pikachu: 4\n",
            "FNV hash output for Charmander: 7\n",
            "Murmur hash output for Charmander: 15\n"
          ]
        }
      ],
      "source": [
        "first_hash_pikachu = first_hasher(\"Pikachu\") % 20\n",
        "second_hash_pikachu = second_hasher(\"Pikachu\") % 20\n",
        "\n",
        "first_hash_charmander = first_hasher(\"Charmander\") % 20\n",
        "second_hash_charmander = second_hasher(\"Charmander\") % 20\n",
        "print(\"FNV hash output for Pikachu: \" + str(first_hash_pikachu))\n",
        "print(\"Murmur hash output for Pikachu: \" + str(second_hash_pikachu))\n",
        "\n",
        "print(\"FNV hash output for Charmander: \" + str(first_hash_charmander))\n",
        "print(\"Murmur hash output for Charmander: \" + str(second_hash_charmander))"
      ]
    },
    {
      "cell_type": "markdown",
      "metadata": {
        "id": "ooWnjGHLSE6I"
      },
      "source": [
        "Flip the bits of `bit_vector` in the corresponding locations from the above hashes."
      ]
    },
    {
      "cell_type": "code",
      "execution_count": null,
      "metadata": {
        "colab": {
          "base_uri": "https://localhost:8080/"
        },
        "id": "KLPD8d0LSE6I",
        "outputId": "36bbb87a-aa6a-40b7-e252-660e43718406"
      },
      "outputs": [
        {
          "output_type": "stream",
          "name": "stdout",
          "text": [
            "[0, 0, 0, 0, 1, 0, 0, 1, 0, 0, 0, 0, 0, 0, 0, 1, 0, 0, 0, 1]\n"
          ]
        }
      ],
      "source": [
        "bit_vector[first_hash_pikachu] = 1\n",
        "bit_vector[second_hash_pikachu] = 1\n",
        "\n",
        "bit_vector[first_hash_charmander] = 1\n",
        "bit_vector[second_hash_charmander] = 1\n",
        "\n",
        "print(bit_vector)"
      ]
    },
    {
      "cell_type": "markdown",
      "metadata": {
        "id": "lu3dSqEySE6J"
      },
      "source": [
        "A wild Bulbasaur appears! Use your filter to check if Bulbasaur have been already caught. If not, update the filter. "
      ]
    },
    {
      "cell_type": "code",
      "execution_count": null,
      "metadata": {
        "colab": {
          "base_uri": "https://localhost:8080/"
        },
        "id": "Zn1KuFQ0SE6J",
        "outputId": "13de80f7-762e-4b54-bec0-503dea316b9b"
      },
      "outputs": [
        {
          "output_type": "stream",
          "name": "stdout",
          "text": [
            "FNV hash output for Bulbasaur: 7\n",
            "Murmur hash output for Bulbasaur: 16\n"
          ]
        }
      ],
      "source": [
        "# Calculate output of first_hash and second_hash for Bulbasaur.\n",
        "first_hash_bulbasaur = first_hasher(\"Bulbasaur\") % 20\n",
        "second_hash_bulbasaur = second_hasher(\"Bulbasaur\") % 20\n",
        "\n",
        "# Print the FNV and Murmur hashes of Bulbasaur.\n",
        "print(\"FNV hash output for Bulbasaur: \" + str(first_hash_bulbasaur))\n",
        "print(\"Murmur hash output for Bulbasaur: \" + str(second_hash_bulbasaur))"
      ]
    },
    {
      "cell_type": "code",
      "execution_count": null,
      "metadata": {
        "colab": {
          "base_uri": "https://localhost:8080/"
        },
        "id": "5Jq6R5J4SE6J",
        "outputId": "da291e0d-96a6-4027-d614-7abb3da59220"
      },
      "outputs": [
        {
          "output_type": "stream",
          "name": "stdout",
          "text": [
            "1\n",
            "0\n"
          ]
        }
      ],
      "source": [
        "print(bit_vector[first_hash_bulbasaur])\n",
        "print(bit_vector[second_hash_bulbasaur])"
      ]
    },
    {
      "cell_type": "code",
      "execution_count": null,
      "metadata": {
        "colab": {
          "base_uri": "https://localhost:8080/"
        },
        "id": "961CBFNSSE6K",
        "outputId": "a22d9b67-8591-4827-c883-0a1446432e5a"
      },
      "outputs": [
        {
          "output_type": "stream",
          "name": "stdout",
          "text": [
            "[0, 0, 0, 0, 1, 0, 0, 1, 0, 0, 0, 0, 0, 0, 0, 1, 1, 0, 0, 1]\n"
          ]
        }
      ],
      "source": [
        "# Flip the bits in the Bloom filter to indicate that we now have captured Bulbasaur.\n",
        "bit_vector[first_hash_bulbasaur] = 1\n",
        "bit_vector[second_hash_bulbasaur] = 1\n",
        "print(bit_vector)"
      ]
    },
    {
      "cell_type": "markdown",
      "metadata": {
        "id": "oxAm8eDVSE6K"
      },
      "source": [
        "Assume that you have caught the following pokemons:"
      ]
    },
    {
      "cell_type": "code",
      "execution_count": null,
      "metadata": {
        "id": "fhOp-ps_SE6K"
      },
      "outputs": [],
      "source": [
        "caught_pokemon1 = [\"Bulbasaur\", \"Ivysaur\", \"Venusaur\", \"Charmander\", \"Charmeleon\", \"Charizard\", \n",
        "                  \"Squirtle\", \"Wartortle\", \"Blastoise\", \"Caterpie\", \"Metapod\", \"Butterfree\", \"Weedle\", \n",
        "                  \"Kakuna\", \"Beedrill\", \"Pidgeotto\", \"Pidgeot\", \"Rattata\", \"Raticate\", \"Spearow\", \"Fearow\", \n",
        "                  \"Ekans\", \"Arbok\", \"Pikachu\", \"Raichu\", \"Sandshrew\", \"Sandslash\", \"Nidoran (female)\", \"Nidorina\",\n",
        "                  \"Nidoqueen\", \"Nidoran (male)\", \"Nidorino\", \"Nidoking\", \"Clefairy\", \"Clefable\", \"Vulpix\", \n",
        "                  \"Ninetales\", \"Jigglypuff\", \"Wigglytuff\", \"Zubat\", \"Golbat\", \"Oddish\", \"Gloom\", \"Vileplume\", \n",
        "                  \"Paras\", \"Parasect\", \"Venonat\", \"Venomoth\", \"Diglet\", \"Dugtrio\", \"Meowth\", \"Persian\", \"Psyduck\",\n",
        "                  \"Golduck\", \"Mankey\", \"Primeape\", \"Growlithe\", \"Pidgey\" ]"
      ]
    },
    {
      "cell_type": "markdown",
      "metadata": {
        "id": "EZT2xrr8SE6L"
      },
      "source": [
        "Write a loop which allows you to update the filter. Print it out. What do you observe? "
      ]
    },
    {
      "cell_type": "code",
      "execution_count": null,
      "metadata": {
        "colab": {
          "base_uri": "https://localhost:8080/"
        },
        "id": "iuzTkHL-SE6L",
        "outputId": "eff4b92c-9e9e-47f8-8b7f-0336a3aafb0a"
      },
      "outputs": [
        {
          "output_type": "stream",
          "name": "stdout",
          "text": [
            "[1, 1, 1, 1, 1, 1, 1, 1, 1, 1, 1, 1, 1, 1, 1, 1, 1, 1, 1, 1]\n"
          ]
        }
      ],
      "source": [
        "pokedex_bloom_filter = [0] * 20\n",
        "\n",
        "# Update the Bloom filter positions of the bit vector.\n",
        "for pokemon in caught_pokemon1:\n",
        "    fnv_hash = first_hasher(pokemon) % 20\n",
        "    murmur_hash = second_hasher(pokemon) % 20\n",
        "    \n",
        "    pokedex_bloom_filter[fnv_hash] = 1\n",
        "    pokedex_bloom_filter[murmur_hash] = 1\n",
        "    \n",
        "# The Pokedex Bloom filter.    \n",
        "print(pokedex_bloom_filter)"
      ]
    },
    {
      "cell_type": "markdown",
      "metadata": {
        "id": "omxdcg90SE6L"
      },
      "source": [
        "We observe that our filter is not big enough...\n",
        "\n",
        "Assuming that the total number of Pokemon one can encounter is 151, find how big your Bloom filter needs to be? Determine also how many hash functions we should use: \n",
        "\n",
        "Let $k$ be the number of hash functions and $n$ the size of our bloom filter. Then if we caught 150 pokemons, the probability for a new pockemon to be a false positive is $(1-e^{-\\frac{150\\times k}{n}})^k$. For $k=2$ we get $(1-e^{-\\frac{300}{n}})^2$. Taking $n=3000$ we will get the probability of a false positive equal to $(1-e^{-\\frac{1}{10}})^2\\approx 0.009$. Quite good! Generally, given $n$ we can minimize the probability of having a false positive by taking $k=\\frac{n\\ln 2}{150}$.  Here, if $n=3000$, the optimal number of hash function is $15$. Using $k=15$ will improve the false negative rate to be  $0,000068389$ but $0.009$, which we get with only 2 hash functions, is already low enough."
      ]
    },
    {
      "cell_type": "code",
      "execution_count": null,
      "metadata": {
        "colab": {
          "base_uri": "https://localhost:8080/"
        },
        "id": "TSI6qP6sSE6L",
        "outputId": "49ee2cd4-a4ec-44b1-e5ce-f7b72fa8edc8"
      },
      "outputs": [
        {
          "output_type": "stream",
          "name": "stdout",
          "text": [
            "[1, 1, 0, 0, 1, 1, 0, 1, 1, 1, 1, 1, 0, 1, 0, 0, 0, 0, 1, 0, 1, 0, 1, 0, 1, 1, 0, 1, 0, 1, 1, 1, 1, 1, 1, 1, 1, 0, 0, 1, 0, 0, 1, 1, 1, 1, 1, 1, 0, 1, 1, 1, 1, 1, 1, 1, 0, 1, 1, 1, 0, 0, 1, 1, 1, 0, 1, 0, 1, 1, 1, 1, 0, 1, 1, 0, 1, 1, 1, 1, 1, 1, 0, 1, 1, 1, 0, 0, 1, 1, 1, 1, 1, 1, 0, 1, 1, 0, 0, 1, 0, 1, 1, 0, 0, 0, 1, 0, 0, 1, 1, 1, 1, 1, 0, 1, 1, 1, 0, 1, 0, 1, 1, 1, 1, 1, 0, 1, 1, 1, 1, 1, 1, 1, 0, 1, 1, 1, 1, 1, 1, 1, 0, 1, 0, 1, 1, 1, 0, 1, 0, 0, 1, 0, 0, 0, 1, 1, 1, 0, 0, 1, 0, 0, 1, 1, 0, 1, 0, 1, 1, 0, 0, 0, 0, 1, 1, 1, 1, 1, 1, 1, 1, 1, 1, 0, 1, 1, 0, 1, 0, 1, 0, 1, 0, 0, 1, 1, 1, 1, 0, 0, 1, 0, 0, 1, 0, 0, 0, 0, 0, 1, 1, 1, 0, 1, 1, 1, 1, 1, 0, 1, 0, 1, 0, 0, 1, 1, 1, 1, 1, 1, 1, 0, 0, 1, 1, 0, 0, 1, 0, 1, 1, 1, 0, 1, 1, 1, 1, 1, 0, 1, 1, 0, 1, 1, 0, 0, 1, 0, 1, 0, 1, 1, 1, 0, 1, 1, 1, 1, 0, 1, 1, 1, 0, 1, 1, 1, 1, 0, 0, 0, 0, 0, 0, 1, 0, 1, 0, 1, 1, 0, 1, 1, 0, 1, 1, 0, 1, 1]\n"
          ]
        }
      ],
      "source": [
        "# 150 of the 152 Pokemon (excluding Pidgey)\n",
        "caught_pokemon = [\"Bulbasaur\", \"Ivysaur\", \"Venusaur\", \"Charmander\", \"Charmeleon\", \"Charizard\", \n",
        "                  \"Squirtle\", \"Wartortle\", \"Blastoise\", \"Caterpie\", \"Metapod\", \"Butterfree\", \"Weedle\", \n",
        "                  \"Kakuna\", \"Beedrill\", \"Pidgeotto\", \"Pidgeot\", \"Rattata\", \"Raticate\", \"Spearow\", \"Fearow\", \n",
        "                  \"Ekans\", \"Arbok\", \"Pikachu\", \"Raichu\", \"Sandshrew\", \"Sandslash\", \"Nidoran (female)\", \"Nidorina\",\n",
        "                  \"Nidoqueen\", \"Nidoran (male)\", \"Nidorino\", \"Nidoking\", \"Clefairy\", \"Clefable\", \"Vulpix\", \n",
        "                  \"Ninetales\", \"Jigglypuff\", \"Wigglytuff\", \"Zubat\", \"Golbat\", \"Oddish\", \"Gloom\", \"Vileplume\", \n",
        "                  \"Paras\", \"Parasect\", \"Venonat\", \"Venomoth\", \"Diglet\", \"Dugtrio\", \"Meowth\", \"Persian\", \"Psyduck\",\n",
        "                  \"Golduck\", \"Mankey\", \"Primeape\", \"Growlithe\", \"Arcanine\", \"Poliwag\", \"Poliwhirl\", \"Poliwrath\",\n",
        "                  \"Abra\", \"Kadabra\", \"Alakazam\", \"Machop\", \"Machoke\", \"Machamp\", \"Bellsprout\", \"Weepinbell\", \n",
        "                  \"Victreebel\", \"Tentacool\", \"Tentacruel\", \"Geodude\", \"Graveler\", \"Golem\", \"Ponyta\", \"Rapidash\",\n",
        "                  \"Slowpoke\", \"Slowbro\", \"Magnemite\", \"Magneton\", \"Farfetc'd\", \"Doduo\", \"Dodrio\", \"Seel\",\n",
        "                  \"Dewgong\", \"Grimer\", \"Muk\", \"Shellder\", \"Cloyster\", \"Gastly\", \"Haunter\", \"Gengar\", \"Onyx\",\n",
        "                  \"Drowzee\", \"Hypno\", \"Krabby\", \"Kingler\", \"Voltorb\", \"Electrode\", \"Exeggcute\", \"Exeggutor\", \n",
        "                  \"Cubone\", \"Marowak\", \"Hitmonlee\", \"Hitmonchan\", \"Lickitung\", \"Koffing\", \"Weezing\", \"Rhyhorn\", \n",
        "                  \"Rhydon\", \"Chansey\", \"Tangela\", \"Kangaskhan\", \"Horsea\", \"Seadra\", \"Goldeen\", \"Seaking\", \n",
        "                  \"Staryu\", \"Starmie\", \"Mr. Mime\", \"Scyther\", \"Jynx\", \"Electabuzz\", \"Magmar\", \"Pinsir\", \"Tauros\",\n",
        "                  \"Magikarp\", \"Gyrados\", \"Lapras\", \"Ditto\", \"Eevee\", \"Vaporeon\", \"Jolteon\", \"Flareon\", \"Porygon\", \n",
        "                  \"Omanyte\", \"Omastar\", \"Kabuto\", \"Kabutops\", \"Aerodactyl\", \"Snorlax\", \"Articuno\", \"Zapdos\",\n",
        "                  \"Moltres\", \"Dratini\", \"Dragonair\", \"Dragonite\", \"Mewtwo\", \"Mew\"]\n",
        "pokedex_bloom_filter = [0] * 300\n",
        "\n",
        "# Update the Bloom filter positions of the bit vector.\n",
        "for pokemon in caught_pokemon:\n",
        "    first_hash = first_hasher(pokemon) % 300\n",
        "    second_hash = second_hasher(pokemon) % 300\n",
        "    \n",
        "    pokedex_bloom_filter[first_hash] = 1\n",
        "    pokedex_bloom_filter[second_hash] = 1\n",
        "    \n",
        "# The Pokedex Bloom filter.    \n",
        "print(pokedex_bloom_filter)"
      ]
    },
    {
      "cell_type": "code",
      "execution_count": null,
      "metadata": {
        "colab": {
          "base_uri": "https://localhost:8080/",
          "height": 218
        },
        "id": "qddT8roySE6M",
        "outputId": "6a8e2c78-77dd-4a24-ec28-7bc50acf7343"
      },
      "outputs": [
        {
          "output_type": "error",
          "ename": "IndexError",
          "evalue": "ignored",
          "traceback": [
            "\u001b[0;31m---------------------------------------------------------------------------\u001b[0m",
            "\u001b[0;31mIndexError\u001b[0m                                Traceback (most recent call last)",
            "\u001b[0;32m<ipython-input-40-9ae191a2b648>\u001b[0m in \u001b[0;36m<module>\u001b[0;34m()\u001b[0m\n\u001b[1;32m      2\u001b[0m \u001b[0msecond_hash_pidgey\u001b[0m \u001b[0;34m=\u001b[0m \u001b[0msecond_hasher\u001b[0m\u001b[0;34m(\u001b[0m\u001b[0;34m\"Pidgey\"\u001b[0m\u001b[0;34m)\u001b[0m \u001b[0;34m%\u001b[0m \u001b[0;36m3000\u001b[0m\u001b[0;34m\u001b[0m\u001b[0;34m\u001b[0m\u001b[0m\n\u001b[1;32m      3\u001b[0m \u001b[0;34m\u001b[0m\u001b[0m\n\u001b[0;32m----> 4\u001b[0;31m \u001b[0mprint\u001b[0m\u001b[0;34m(\u001b[0m\u001b[0mpokedex_bloom_filter\u001b[0m\u001b[0;34m[\u001b[0m\u001b[0mfirst_hash_pidgey\u001b[0m\u001b[0;34m]\u001b[0m\u001b[0;34m)\u001b[0m\u001b[0;34m\u001b[0m\u001b[0;34m\u001b[0m\u001b[0m\n\u001b[0m\u001b[1;32m      5\u001b[0m \u001b[0mprint\u001b[0m\u001b[0;34m(\u001b[0m\u001b[0mpokedex_bloom_filter\u001b[0m\u001b[0;34m[\u001b[0m\u001b[0msecond_hash_pidgey\u001b[0m\u001b[0;34m]\u001b[0m\u001b[0;34m)\u001b[0m\u001b[0;34m\u001b[0m\u001b[0;34m\u001b[0m\u001b[0m\n",
            "\u001b[0;31mIndexError\u001b[0m: list index out of range"
          ]
        }
      ],
      "source": [
        "first_hash_pidgey = first_hasher(\"Pidgey\") % 3000\n",
        "second_hash_pidgey = second_hasher(\"Pidgey\") % 3000\n",
        "\n",
        "print(pokedex_bloom_filter[first_hash_pidgey])\n",
        "print(pokedex_bloom_filter[second_hash_pidgey])"
      ]
    },
    {
      "cell_type": "code",
      "execution_count": null,
      "metadata": {
        "colab": {
          "base_uri": "https://localhost:8080/"
        },
        "id": "Mv5yWrijSE6M",
        "outputId": "567ddb20-19ac-4567-cc4c-3d3cd73744e0"
      },
      "outputs": [
        {
          "output_type": "stream",
          "name": "stdout",
          "text": [
            "1\n",
            "0\n"
          ]
        }
      ],
      "source": [
        "fnv_hash_pidgey = first_hasher(\"Pidgey\") % 300\n",
        "murmur_hash_pidgey = second_hasher(\"Pidgey\") % 300\n",
        "\n",
        "print(pokedex_bloom_filter[fnv_hash_pidgey])\n",
        "print(pokedex_bloom_filter[murmur_hash_pidgey])"
      ]
    },
    {
      "cell_type": "code",
      "source": [
        ""
      ],
      "metadata": {
        "id": "kPkjs5HKSgPI"
      },
      "execution_count": null,
      "outputs": []
    },
    {
      "cell_type": "markdown",
      "source": [
        "# HW 5: Page Rank and graphing"
      ],
      "metadata": {
        "id": "5e2w-Nyc7PnQ"
      }
    },
    {
      "cell_type": "code",
      "source": [
        "import itertools #implements a number of iterator building blocks\n",
        "import random\n",
        "\n",
        "import networkx as nx\n",
        "from matplotlib import pyplot as plt\n",
        "\n",
        "\n",
        "nodes = ['a', 'b', 'c', 'd', 'e', 'f', 'g', 'h','i','j']\n",
        "\n",
        "# Generate Networkx Graph\n",
        "G = nx.Graph()\n",
        "G.add_nodes_from(nodes)\n",
        "\n",
        "# randomly determine vertices\n",
        "for (node1, node2) in itertools.combinations(nodes, 2):\n",
        "    if random.uniform(0,1) < 0.5:\n",
        "        G.add_edge(node1, node2)\n",
        "\n",
        "# Draw generated graph\n",
        "nx.draw_networkx(G, pos=nx.circular_layout(G), with_labels=True)\n",
        "\n",
        "# Compute Page Rank\n",
        "pr = nx.pagerank(G, alpha=0.85)\n",
        "\n",
        "\n",
        "pr"
      ],
      "metadata": {
        "colab": {
          "base_uri": "https://localhost:8080/",
          "height": 422
        },
        "id": "q74BdLRP7QqP",
        "outputId": "fe72de23-1c2b-423c-b7c5-b6e6ea20e050"
      },
      "execution_count": null,
      "outputs": [
        {
          "output_type": "execute_result",
          "data": {
            "text/plain": [
              "{'a': 0.0619690258077035,\n",
              " 'b': 0.12635890764174812,\n",
              " 'c': 0.0920075149804586,\n",
              " 'd': 0.12637596593013478,\n",
              " 'e': 0.07762324161715958,\n",
              " 'f': 0.09294400158189524,\n",
              " 'g': 0.10987936713048102,\n",
              " 'h': 0.10894505364869526,\n",
              " 'i': 0.09576586951345373,\n",
              " 'j': 0.10813105214827}"
            ]
          },
          "metadata": {},
          "execution_count": 1
        },
        {
          "output_type": "display_data",
          "data": {
            "image/png": "[encoded data removed]",
            "text/plain": [
              "<Figure size 432x288 with 1 Axes>"
            ]
          },
          "metadata": {}
        }
      ]
    },
    {
      "cell_type": "code",
      "source": [
        "dolphins_graph = nx.Graph()\n",
        "dolphins_graph = nx.read_gml('/content/dolphins.gml')"
      ],
      "metadata": {
        "id": "2HNWuiTy7XAC"
      },
      "execution_count": null,
      "outputs": []
    },
    {
      "cell_type": "code",
      "source": [
        "fig_size = plt.rcParams[\"figure.figsize\"]\n",
        "fig_size[0] = 10\n",
        "fig_size[1] = 8\n",
        "plt.rcParams[\"figure.figsize\"] = fig_size\n",
        "# The above script changes the default size of the Matplotlib plots to 10 x 8 inches."
      ],
      "metadata": {
        "id": "lM13QteF7kUI"
      },
      "execution_count": null,
      "outputs": []
    },
    {
      "cell_type": "code",
      "source": [
        "options = {\n",
        "    \"node_color\": \"magenta\",\n",
        "    \"node_size\": 50,\n",
        "    \"linewidths\": 0,\n",
        "    \"width\": 0.1,\n",
        "    \"font_size\":12\n",
        "}\n",
        "\n",
        "nx.draw_kamada_kawai(dolphins_graph, with_labels=True,**options)"
      ],
      "metadata": {
        "colab": {
          "base_uri": "https://localhost:8080/",
          "height": 607
        },
        "id": "Jpyq25OW7mQc",
        "outputId": "13cfbc51-8fb0-40cd-e4b0-a6d581823132"
      },
      "execution_count": null,
      "outputs": [
        {
          "output_type": "display_data",
          "data": {
            "image/png": "[encoded data removed]",
            "text/plain": [
              "<Figure size 720x576 with 1 Axes>"
            ]
          },
          "metadata": {}
        }
      ]
    },
    {
      "cell_type": "code",
      "source": [
        "pr = nx.pagerank(dolphins_graph, alpha=0.45)\n",
        "plt.show()\n",
        "pr"
      ],
      "metadata": {
        "colab": {
          "base_uri": "https://localhost:8080/"
        },
        "id": "L9dYh-UF7n5H",
        "outputId": "c5a6cb80-5e81-4133-8e75-2d4442b95e5c"
      },
      "execution_count": null,
      "outputs": [
        {
          "output_type": "execute_result",
          "data": {
            "text/plain": [
              "{'Beak': 0.016962206735765765,\n",
              " 'Beescratch': 0.024657779163893456,\n",
              " 'Bumper': 0.013335733674746102,\n",
              " 'CCL': 0.009627334957614968,\n",
              " 'Cross': 0.005079101632863055,\n",
              " 'DN16': 0.014434748216370162,\n",
              " 'DN21': 0.020063144455665028,\n",
              " 'DN63': 0.01564571966634353,\n",
              " 'Double': 0.017095254673197,\n",
              " 'Feather': 0.02347021551520822,\n",
              " 'Fish': 0.015105623761720376,\n",
              " 'Five': 0.005079101632863055,\n",
              " 'Fork': 0.004834672050768328,\n",
              " 'Gallatin': 0.026169925979057256,\n",
              " 'Grin': 0.032137029718865714,\n",
              " 'Haecksel': 0.019878693559467992,\n",
              " 'Hook': 0.016623110455451107,\n",
              " 'Jet': 0.0317411226125807,\n",
              " 'Jonah': 0.01939089776938836,\n",
              " 'Knit': 0.01293094177744182,\n",
              " 'Kringel': 0.02463646831978113,\n",
              " 'MN105': 0.016934972605708244,\n",
              " 'MN23': 0.005417443345758518,\n",
              " 'MN60': 0.009861995696270574,\n",
              " 'MN83': 0.016901707992051738,\n",
              " 'Mus': 0.011508033929094379,\n",
              " 'Notch': 0.011213415672020617,\n",
              " 'Number1': 0.0171355079823567,\n",
              " 'Oscar': 0.014845201153005742,\n",
              " 'PL': 0.015302368341419285,\n",
              " 'Patchback': 0.026452435542402352,\n",
              " 'Quasi': 0.005417443345758518,\n",
              " 'Ripplefluke': 0.013313928897279621,\n",
              " 'SMN5': 0.004917509664233046,\n",
              " 'SN100': 0.020612335397333263,\n",
              " 'SN4': 0.029868954502794757,\n",
              " 'SN63': 0.023934211002516637,\n",
              " 'SN89': 0.007766174012190614,\n",
              " 'SN9': 0.021963068899042957,\n",
              " 'SN90': 0.01614465557108976,\n",
              " 'SN96': 0.01761586423543476,\n",
              " 'Scabs': 0.028416738215896523,\n",
              " 'Shmuddel': 0.01591676077236302,\n",
              " 'Stripes': 0.02168654443551452,\n",
              " 'TR120': 0.008824553336390241,\n",
              " 'TR77': 0.017337284683481224,\n",
              " 'TR82': 0.005263257942261389,\n",
              " 'TR88': 0.008875430027408569,\n",
              " 'TR99': 0.019227657759572744,\n",
              " 'TSN103': 0.012070150637939633,\n",
              " 'TSN83': 0.008179721210497344,\n",
              " 'Thumper': 0.01282838719819995,\n",
              " 'Topless': 0.02950713720344268,\n",
              " 'Trigger': 0.031292342498045814,\n",
              " 'Upbang': 0.0216594518249355,\n",
              " 'Vau': 0.007492839172228223,\n",
              " 'Wave': 0.008329735718986276,\n",
              " 'Web': 0.03010894136248934,\n",
              " 'Whitetip': 0.004962247282902534,\n",
              " 'Zap': 0.014765350940706749,\n",
              " 'Zig': 0.006192110658192512,\n",
              " 'Zipfel': 0.011037303001729701}"
            ]
          },
          "metadata": {},
          "execution_count": 5
        }
      ]
    },
    {
      "cell_type": "markdown",
      "source": [
        "## Hw5 Ex 2"
      ],
      "metadata": {
        "id": "Pq3ik1c27rlH"
      }
    },
    {
      "cell_type": "code",
      "source": [
        "import pandas as pd\n",
        "df = pd.read_csv('/content/NCAA2.csv')\n",
        "df.head()"
      ],
      "metadata": {
        "colab": {
          "base_uri": "https://localhost:8080/",
          "height": 452
        },
        "id": "H8uX2GYx7pXb",
        "outputId": "fb8ae726-e7c5-4084-fc9c-67a20a686a23"
      },
      "execution_count": null,
      "outputs": [
        {
          "output_type": "execute_result",
          "data": {
            "text/html": [
              "<div>\n",
              "<style scoped>\n",
              "    .dataframe tbody tr th:only-of-type {\n",
              "        vertical-align: middle;\n",
              "    }\n",
              "\n",
              "    .dataframe tbody tr th {\n",
              "        vertical-align: top;\n",
              "    }\n",
              "\n",
              "    .dataframe thead th {\n",
              "        text-align: right;\n",
              "    }\n",
              "</style>\n",
              "<table border=\"1\" class=\"dataframe\">\n",
              "  <thead>\n",
              "    <tr style=\"text-align: right;\">\n",
              "      <th></th>\n",
              "      <th>GameId</th>\n",
              "      <th>GameDate</th>\n",
              "      <th>NeutralSite</th>\n",
              "      <th>AwayTeam</th>\n",
              "      <th>HomeTeam</th>\n",
              "      <th>Team</th>\n",
              "      <th>Home</th>\n",
              "      <th>Score</th>\n",
              "      <th>AST</th>\n",
              "      <th>TOV</th>\n",
              "      <th>STL</th>\n",
              "      <th>BLK</th>\n",
              "      <th>Rebounds</th>\n",
              "      <th>ORB</th>\n",
              "      <th>DRB</th>\n",
              "      <th>FGA</th>\n",
              "      <th>FGM</th>\n",
              "      <th>3FGM</th>\n",
              "      <th>3FGA</th>\n",
              "      <th>FTA</th>\n",
              "      <th>FTM</th>\n",
              "      <th>Fouls</th>\n",
              "    </tr>\n",
              "  </thead>\n",
              "  <tbody>\n",
              "    <tr>\n",
              "      <th>0</th>\n",
              "      <td>1</td>\n",
              "      <td>1/1/2019 13:00</td>\n",
              "      <td>0</td>\n",
              "      <td>Notre Dame Fighting Irish</td>\n",
              "      <td>Virginia Tech Hokies</td>\n",
              "      <td>Notre Dame Fighting Irish</td>\n",
              "      <td>0</td>\n",
              "      <td>66</td>\n",
              "      <td>13</td>\n",
              "      <td>11</td>\n",
              "      <td>2</td>\n",
              "      <td>5</td>\n",
              "      <td>30</td>\n",
              "      <td>13</td>\n",
              "      <td>17</td>\n",
              "      <td>56</td>\n",
              "      <td>23</td>\n",
              "      <td>13</td>\n",
              "      <td>34</td>\n",
              "      <td>13</td>\n",
              "      <td>7</td>\n",
              "      <td>10</td>\n",
              "    </tr>\n",
              "    <tr>\n",
              "      <th>1</th>\n",
              "      <td>1</td>\n",
              "      <td>1/1/2019 13:00</td>\n",
              "      <td>0</td>\n",
              "      <td>Notre Dame Fighting Irish</td>\n",
              "      <td>Virginia Tech Hokies</td>\n",
              "      <td>Virginia Tech Hokies</td>\n",
              "      <td>1</td>\n",
              "      <td>81</td>\n",
              "      <td>19</td>\n",
              "      <td>7</td>\n",
              "      <td>5</td>\n",
              "      <td>1</td>\n",
              "      <td>24</td>\n",
              "      <td>2</td>\n",
              "      <td>22</td>\n",
              "      <td>55</td>\n",
              "      <td>33</td>\n",
              "      <td>11</td>\n",
              "      <td>18</td>\n",
              "      <td>5</td>\n",
              "      <td>4</td>\n",
              "      <td>13</td>\n",
              "    </tr>\n",
              "    <tr>\n",
              "      <th>2</th>\n",
              "      <td>2</td>\n",
              "      <td>1/3/2019 19:00</td>\n",
              "      <td>0</td>\n",
              "      <td>North Carolina State Wolfpack</td>\n",
              "      <td>Miami (FL) Hurricanes</td>\n",
              "      <td>Miami (FL) Hurricanes</td>\n",
              "      <td>1</td>\n",
              "      <td>82</td>\n",
              "      <td>12</td>\n",
              "      <td>7</td>\n",
              "      <td>7</td>\n",
              "      <td>1</td>\n",
              "      <td>27</td>\n",
              "      <td>9</td>\n",
              "      <td>18</td>\n",
              "      <td>61</td>\n",
              "      <td>28</td>\n",
              "      <td>10</td>\n",
              "      <td>25</td>\n",
              "      <td>29</td>\n",
              "      <td>16</td>\n",
              "      <td>14</td>\n",
              "    </tr>\n",
              "    <tr>\n",
              "      <th>3</th>\n",
              "      <td>2</td>\n",
              "      <td>1/3/2019 19:00</td>\n",
              "      <td>0</td>\n",
              "      <td>North Carolina State Wolfpack</td>\n",
              "      <td>Miami (FL) Hurricanes</td>\n",
              "      <td>North Carolina State Wolfpack</td>\n",
              "      <td>0</td>\n",
              "      <td>87</td>\n",
              "      <td>17</td>\n",
              "      <td>16</td>\n",
              "      <td>4</td>\n",
              "      <td>3</td>\n",
              "      <td>50</td>\n",
              "      <td>17</td>\n",
              "      <td>33</td>\n",
              "      <td>68</td>\n",
              "      <td>31</td>\n",
              "      <td>11</td>\n",
              "      <td>30</td>\n",
              "      <td>18</td>\n",
              "      <td>14</td>\n",
              "      <td>23</td>\n",
              "    </tr>\n",
              "    <tr>\n",
              "      <th>4</th>\n",
              "      <td>3</td>\n",
              "      <td>1/5/2019 3:27</td>\n",
              "      <td>0</td>\n",
              "      <td>Clemson Tigers</td>\n",
              "      <td>Duke Blue Devils</td>\n",
              "      <td>Clemson Tigers</td>\n",
              "      <td>0</td>\n",
              "      <td>68</td>\n",
              "      <td>14</td>\n",
              "      <td>16</td>\n",
              "      <td>6</td>\n",
              "      <td>2</td>\n",
              "      <td>35</td>\n",
              "      <td>9</td>\n",
              "      <td>26</td>\n",
              "      <td>63</td>\n",
              "      <td>27</td>\n",
              "      <td>6</td>\n",
              "      <td>15</td>\n",
              "      <td>12</td>\n",
              "      <td>8</td>\n",
              "      <td>16</td>\n",
              "    </tr>\n",
              "  </tbody>\n",
              "</table>\n",
              "</div>"
            ],
            "text/plain": [
              "   GameId        GameDate  NeutralSite  ... FTA FTM Fouls\n",
              "0       1  1/1/2019 13:00            0  ...  13   7    10\n",
              "1       1  1/1/2019 13:00            0  ...   5   4    13\n",
              "2       2  1/3/2019 19:00            0  ...  29  16    14\n",
              "3       2  1/3/2019 19:00            0  ...  18  14    23\n",
              "4       3   1/5/2019 3:27            0  ...  12   8    16\n",
              "\n",
              "[5 rows x 22 columns]"
            ]
          },
          "metadata": {},
          "execution_count": 6
        }
      ]
    },
    {
      "cell_type": "code",
      "source": [
        "import numpy as np\n",
        "scores = df.groupby('GameId')['Score'].diff().to_list()"
      ],
      "metadata": {
        "id": "4l_w4rm270VJ"
      },
      "execution_count": null,
      "outputs": []
    },
    {
      "cell_type": "code",
      "source": [
        "scores = [scores[idx+1]*(-1) if np.isnan(s) == True else s for idx,s in enumerate(scores)] "
      ],
      "metadata": {
        "id": "dKUJOtaQ72fx"
      },
      "execution_count": null,
      "outputs": []
    },
    {
      "cell_type": "code",
      "source": [
        "df['delta'] = scores\n",
        "df.head()"
      ],
      "metadata": {
        "colab": {
          "base_uri": "https://localhost:8080/",
          "height": 452
        },
        "id": "4jHqsn8w735-",
        "outputId": "579721ba-16e6-461e-8ca5-3170c934785a"
      },
      "execution_count": null,
      "outputs": [
        {
          "output_type": "execute_result",
          "data": {
            "text/html": [
              "<div>\n",
              "<style scoped>\n",
              "    .dataframe tbody tr th:only-of-type {\n",
              "        vertical-align: middle;\n",
              "    }\n",
              "\n",
              "    .dataframe tbody tr th {\n",
              "        vertical-align: top;\n",
              "    }\n",
              "\n",
              "    .dataframe thead th {\n",
              "        text-align: right;\n",
              "    }\n",
              "</style>\n",
              "<table border=\"1\" class=\"dataframe\">\n",
              "  <thead>\n",
              "    <tr style=\"text-align: right;\">\n",
              "      <th></th>\n",
              "      <th>GameId</th>\n",
              "      <th>GameDate</th>\n",
              "      <th>NeutralSite</th>\n",
              "      <th>AwayTeam</th>\n",
              "      <th>HomeTeam</th>\n",
              "      <th>Team</th>\n",
              "      <th>Home</th>\n",
              "      <th>Score</th>\n",
              "      <th>AST</th>\n",
              "      <th>TOV</th>\n",
              "      <th>STL</th>\n",
              "      <th>BLK</th>\n",
              "      <th>Rebounds</th>\n",
              "      <th>ORB</th>\n",
              "      <th>DRB</th>\n",
              "      <th>FGA</th>\n",
              "      <th>FGM</th>\n",
              "      <th>3FGM</th>\n",
              "      <th>3FGA</th>\n",
              "      <th>FTA</th>\n",
              "      <th>FTM</th>\n",
              "      <th>Fouls</th>\n",
              "      <th>delta</th>\n",
              "    </tr>\n",
              "  </thead>\n",
              "  <tbody>\n",
              "    <tr>\n",
              "      <th>0</th>\n",
              "      <td>1</td>\n",
              "      <td>1/1/2019 13:00</td>\n",
              "      <td>0</td>\n",
              "      <td>Notre Dame Fighting Irish</td>\n",
              "      <td>Virginia Tech Hokies</td>\n",
              "      <td>Notre Dame Fighting Irish</td>\n",
              "      <td>0</td>\n",
              "      <td>66</td>\n",
              "      <td>13</td>\n",
              "      <td>11</td>\n",
              "      <td>2</td>\n",
              "      <td>5</td>\n",
              "      <td>30</td>\n",
              "      <td>13</td>\n",
              "      <td>17</td>\n",
              "      <td>56</td>\n",
              "      <td>23</td>\n",
              "      <td>13</td>\n",
              "      <td>34</td>\n",
              "      <td>13</td>\n",
              "      <td>7</td>\n",
              "      <td>10</td>\n",
              "      <td>-15.0</td>\n",
              "    </tr>\n",
              "    <tr>\n",
              "      <th>1</th>\n",
              "      <td>1</td>\n",
              "      <td>1/1/2019 13:00</td>\n",
              "      <td>0</td>\n",
              "      <td>Notre Dame Fighting Irish</td>\n",
              "      <td>Virginia Tech Hokies</td>\n",
              "      <td>Virginia Tech Hokies</td>\n",
              "      <td>1</td>\n",
              "      <td>81</td>\n",
              "      <td>19</td>\n",
              "      <td>7</td>\n",
              "      <td>5</td>\n",
              "      <td>1</td>\n",
              "      <td>24</td>\n",
              "      <td>2</td>\n",
              "      <td>22</td>\n",
              "      <td>55</td>\n",
              "      <td>33</td>\n",
              "      <td>11</td>\n",
              "      <td>18</td>\n",
              "      <td>5</td>\n",
              "      <td>4</td>\n",
              "      <td>13</td>\n",
              "      <td>15.0</td>\n",
              "    </tr>\n",
              "    <tr>\n",
              "      <th>2</th>\n",
              "      <td>2</td>\n",
              "      <td>1/3/2019 19:00</td>\n",
              "      <td>0</td>\n",
              "      <td>North Carolina State Wolfpack</td>\n",
              "      <td>Miami (FL) Hurricanes</td>\n",
              "      <td>Miami (FL) Hurricanes</td>\n",
              "      <td>1</td>\n",
              "      <td>82</td>\n",
              "      <td>12</td>\n",
              "      <td>7</td>\n",
              "      <td>7</td>\n",
              "      <td>1</td>\n",
              "      <td>27</td>\n",
              "      <td>9</td>\n",
              "      <td>18</td>\n",
              "      <td>61</td>\n",
              "      <td>28</td>\n",
              "      <td>10</td>\n",
              "      <td>25</td>\n",
              "      <td>29</td>\n",
              "      <td>16</td>\n",
              "      <td>14</td>\n",
              "      <td>-5.0</td>\n",
              "    </tr>\n",
              "    <tr>\n",
              "      <th>3</th>\n",
              "      <td>2</td>\n",
              "      <td>1/3/2019 19:00</td>\n",
              "      <td>0</td>\n",
              "      <td>North Carolina State Wolfpack</td>\n",
              "      <td>Miami (FL) Hurricanes</td>\n",
              "      <td>North Carolina State Wolfpack</td>\n",
              "      <td>0</td>\n",
              "      <td>87</td>\n",
              "      <td>17</td>\n",
              "      <td>16</td>\n",
              "      <td>4</td>\n",
              "      <td>3</td>\n",
              "      <td>50</td>\n",
              "      <td>17</td>\n",
              "      <td>33</td>\n",
              "      <td>68</td>\n",
              "      <td>31</td>\n",
              "      <td>11</td>\n",
              "      <td>30</td>\n",
              "      <td>18</td>\n",
              "      <td>14</td>\n",
              "      <td>23</td>\n",
              "      <td>5.0</td>\n",
              "    </tr>\n",
              "    <tr>\n",
              "      <th>4</th>\n",
              "      <td>3</td>\n",
              "      <td>1/5/2019 3:27</td>\n",
              "      <td>0</td>\n",
              "      <td>Clemson Tigers</td>\n",
              "      <td>Duke Blue Devils</td>\n",
              "      <td>Clemson Tigers</td>\n",
              "      <td>0</td>\n",
              "      <td>68</td>\n",
              "      <td>14</td>\n",
              "      <td>16</td>\n",
              "      <td>6</td>\n",
              "      <td>2</td>\n",
              "      <td>35</td>\n",
              "      <td>9</td>\n",
              "      <td>26</td>\n",
              "      <td>63</td>\n",
              "      <td>27</td>\n",
              "      <td>6</td>\n",
              "      <td>15</td>\n",
              "      <td>12</td>\n",
              "      <td>8</td>\n",
              "      <td>16</td>\n",
              "      <td>-19.0</td>\n",
              "    </tr>\n",
              "  </tbody>\n",
              "</table>\n",
              "</div>"
            ],
            "text/plain": [
              "   GameId        GameDate  NeutralSite  ... FTM Fouls delta\n",
              "0       1  1/1/2019 13:00            0  ...   7    10 -15.0\n",
              "1       1  1/1/2019 13:00            0  ...   4    13  15.0\n",
              "2       2  1/3/2019 19:00            0  ...  16    14  -5.0\n",
              "3       2  1/3/2019 19:00            0  ...  14    23   5.0\n",
              "4       3   1/5/2019 3:27            0  ...   8    16 -19.0\n",
              "\n",
              "[5 rows x 23 columns]"
            ]
          },
          "metadata": {},
          "execution_count": 9
        }
      ]
    },
    {
      "cell_type": "code",
      "source": [
        "edges = []\n",
        "for idx,row in df.iterrows():\n",
        "  if idx % 2 == 1:\n",
        "    continue\n",
        "  else:\n",
        "    away = row[3]\n",
        "    home = row[4]\n",
        "    relative_team = row[5]\n",
        "    delta = row[22]\n",
        "    \n",
        "    if relative_team == away:\n",
        "      delta = -1* delta\n",
        "\n",
        "    if delta > 0:\n",
        "      winner = home\n",
        "      loser = away\n",
        "      points = delta\n",
        "    elif delta <0:\n",
        "      winner = away\n",
        "      loser = home\n",
        "      points = delta * -1\n",
        "    else:\n",
        "      continue\n",
        "\n",
        "    edges.append((loser,winner,points)) \n",
        "edges[1]"
      ],
      "metadata": {
        "colab": {
          "base_uri": "https://localhost:8080/"
        },
        "id": "aFtwv4cw758m",
        "outputId": "9423cb0d-1436-4578-bb24-5cc7433194a8"
      },
      "execution_count": null,
      "outputs": [
        {
          "output_type": "execute_result",
          "data": {
            "text/plain": [
              "('Miami (FL) Hurricanes', 'North Carolina State Wolfpack', 5.0)"
            ]
          },
          "metadata": {},
          "execution_count": 10
        }
      ]
    },
    {
      "cell_type": "code",
      "source": [
        "!pip install igraph"
      ],
      "metadata": {
        "colab": {
          "base_uri": "https://localhost:8080/"
        },
        "id": "VVD4nM1Q7-lV",
        "outputId": "98486ba5-943f-451b-d4e5-05baae88b1e9"
      },
      "execution_count": null,
      "outputs": [
        {
          "output_type": "stream",
          "name": "stdout",
          "text": [
            "Collecting igraph\n",
            "  Downloading igraph-0.9.8-cp37-cp37m-manylinux_2_12_x86_64.manylinux2010_x86_64.whl (3.2 MB)\n",
            "\u001b[K     |████████████████████████████████| 3.2 MB 7.6 MB/s \n",
            "\u001b[?25hCollecting texttable>=1.6.2\n",
            "  Downloading texttable-1.6.4-py2.py3-none-any.whl (10 kB)\n",
            "Installing collected packages: texttable, igraph\n",
            "Successfully installed igraph-0.9.8 texttable-1.6.4\n"
          ]
        }
      ]
    },
    {
      "cell_type": "code",
      "source": [
        "import igraph\n",
        "from igraph import Graph\n",
        "game_graph = igraph.Graph.TupleList(edges,weights=True,directed=True)#create the graph"
      ],
      "metadata": {
        "id": "59eAo7fG775u"
      },
      "execution_count": null,
      "outputs": []
    },
    {
      "cell_type": "code",
      "source": [
        "g=game_graph\n",
        "igraph.plot(g, vertex_label = game_graph.vs['name'], )"
      ],
      "metadata": {
        "colab": {
          "base_uri": "https://localhost:8080/",
          "height": 329
        },
        "id": "horxdWF979eD",
        "outputId": "30443e76-7fea-480b-87d7-ef9332014e00"
      },
      "execution_count": null,
      "outputs": [
        {
          "output_type": "error",
          "ename": "AttributeError",
          "evalue": "ignored",
          "traceback": [
            "\u001b[0;31m---------------------------------------------------------------------------\u001b[0m",
            "\u001b[0;31mAttributeError\u001b[0m                            Traceback (most recent call last)",
            "\u001b[0;32m<ipython-input-15-486a6dc587a5>\u001b[0m in \u001b[0;36m<module>\u001b[0;34m()\u001b[0m\n\u001b[1;32m      1\u001b[0m \u001b[0mg\u001b[0m\u001b[0;34m=\u001b[0m\u001b[0mgame_graph\u001b[0m\u001b[0;34m\u001b[0m\u001b[0;34m\u001b[0m\u001b[0m\n\u001b[0;32m----> 2\u001b[0;31m \u001b[0migraph\u001b[0m\u001b[0;34m.\u001b[0m\u001b[0mplot\u001b[0m\u001b[0;34m(\u001b[0m\u001b[0mg\u001b[0m\u001b[0;34m,\u001b[0m \u001b[0mvertex_label\u001b[0m \u001b[0;34m=\u001b[0m \u001b[0mgame_graph\u001b[0m\u001b[0;34m.\u001b[0m\u001b[0mvs\u001b[0m\u001b[0;34m[\u001b[0m\u001b[0;34m'name'\u001b[0m\u001b[0;34m]\u001b[0m\u001b[0;34m,\u001b[0m \u001b[0;34m)\u001b[0m\u001b[0;34m\u001b[0m\u001b[0;34m\u001b[0m\u001b[0m\n\u001b[0m",
            "\u001b[0;32m/usr/local/lib/python3.7/dist-packages/igraph/drawing/__init__.py\u001b[0m in \u001b[0;36mplot\u001b[0;34m(obj, target, bbox, *args, **kwds)\u001b[0m\n\u001b[1;32m    479\u001b[0m         \u001b[0mbbox\u001b[0m \u001b[0;34m=\u001b[0m \u001b[0mBoundingBox\u001b[0m\u001b[0;34m(\u001b[0m\u001b[0mbbox\u001b[0m\u001b[0;34m)\u001b[0m\u001b[0;34m\u001b[0m\u001b[0;34m\u001b[0m\u001b[0m\n\u001b[1;32m    480\u001b[0m \u001b[0;34m\u001b[0m\u001b[0m\n\u001b[0;32m--> 481\u001b[0;31m     \u001b[0mresult\u001b[0m \u001b[0;34m=\u001b[0m \u001b[0mPlot\u001b[0m\u001b[0;34m(\u001b[0m\u001b[0mtarget\u001b[0m\u001b[0;34m,\u001b[0m \u001b[0mbbox\u001b[0m\u001b[0;34m,\u001b[0m \u001b[0mbackground\u001b[0m\u001b[0;34m=\u001b[0m\u001b[0mkwds\u001b[0m\u001b[0;34m.\u001b[0m\u001b[0mget\u001b[0m\u001b[0;34m(\u001b[0m\u001b[0;34m\"background\"\u001b[0m\u001b[0;34m,\u001b[0m \u001b[0;34m\"white\"\u001b[0m\u001b[0;34m)\u001b[0m\u001b[0;34m)\u001b[0m\u001b[0;34m\u001b[0m\u001b[0;34m\u001b[0m\u001b[0m\n\u001b[0m\u001b[1;32m    482\u001b[0m \u001b[0;34m\u001b[0m\u001b[0m\n\u001b[1;32m    483\u001b[0m     \u001b[0;32mif\u001b[0m \u001b[0;34m\"margin\"\u001b[0m \u001b[0;32min\u001b[0m \u001b[0mkwds\u001b[0m\u001b[0;34m:\u001b[0m\u001b[0;34m\u001b[0m\u001b[0;34m\u001b[0m\u001b[0m\n",
            "\u001b[0;32m/usr/local/lib/python3.7/dist-packages/igraph/drawing/__init__.py\u001b[0m in \u001b[0;36m__init__\u001b[0;34m(self, target, bbox, palette, background)\u001b[0m\n\u001b[1;32m    119\u001b[0m         \"\"\"\n\u001b[1;32m    120\u001b[0m         \u001b[0mself\u001b[0m\u001b[0;34m.\u001b[0m\u001b[0m_filename\u001b[0m \u001b[0;34m=\u001b[0m \u001b[0;32mNone\u001b[0m\u001b[0;34m\u001b[0m\u001b[0;34m\u001b[0m\u001b[0m\n\u001b[0;32m--> 121\u001b[0;31m         \u001b[0mself\u001b[0m\u001b[0;34m.\u001b[0m\u001b[0m_surface_was_created\u001b[0m \u001b[0;34m=\u001b[0m \u001b[0;32mnot\u001b[0m \u001b[0misinstance\u001b[0m\u001b[0;34m(\u001b[0m\u001b[0mtarget\u001b[0m\u001b[0;34m,\u001b[0m \u001b[0mcairo\u001b[0m\u001b[0;34m.\u001b[0m\u001b[0mSurface\u001b[0m\u001b[0;34m)\u001b[0m\u001b[0;34m\u001b[0m\u001b[0;34m\u001b[0m\u001b[0m\n\u001b[0m\u001b[1;32m    122\u001b[0m         \u001b[0mself\u001b[0m\u001b[0;34m.\u001b[0m\u001b[0m_need_tmpfile\u001b[0m \u001b[0;34m=\u001b[0m \u001b[0;32mFalse\u001b[0m\u001b[0;34m\u001b[0m\u001b[0;34m\u001b[0m\u001b[0m\n\u001b[1;32m    123\u001b[0m \u001b[0;34m\u001b[0m\u001b[0m\n",
            "\u001b[0;32m/usr/local/lib/python3.7/dist-packages/igraph/drawing/utils.py\u001b[0m in \u001b[0;36m__getattr__\u001b[0;34m(self, _)\u001b[0m\n\u001b[1;32m    412\u001b[0m \u001b[0;34m\u001b[0m\u001b[0m\n\u001b[1;32m    413\u001b[0m     \u001b[0;32mdef\u001b[0m \u001b[0m__getattr__\u001b[0m\u001b[0;34m(\u001b[0m\u001b[0mself\u001b[0m\u001b[0;34m,\u001b[0m \u001b[0m_\u001b[0m\u001b[0;34m)\u001b[0m\u001b[0;34m:\u001b[0m\u001b[0;34m\u001b[0m\u001b[0;34m\u001b[0m\u001b[0m\n\u001b[0;32m--> 414\u001b[0;31m         \u001b[0;32mraise\u001b[0m \u001b[0mAttributeError\u001b[0m\u001b[0;34m(\u001b[0m\u001b[0mself\u001b[0m\u001b[0;34m.\u001b[0m\u001b[0m_message\u001b[0m\u001b[0;34m)\u001b[0m\u001b[0;34m\u001b[0m\u001b[0;34m\u001b[0m\u001b[0m\n\u001b[0m\u001b[1;32m    415\u001b[0m \u001b[0;34m\u001b[0m\u001b[0m\n\u001b[1;32m    416\u001b[0m     \u001b[0;32mdef\u001b[0m \u001b[0m__call__\u001b[0m\u001b[0;34m(\u001b[0m\u001b[0mself\u001b[0m\u001b[0;34m,\u001b[0m \u001b[0m_\u001b[0m\u001b[0;34m)\u001b[0m\u001b[0;34m:\u001b[0m\u001b[0;34m\u001b[0m\u001b[0;34m\u001b[0m\u001b[0m\n",
            "\u001b[0;31mAttributeError\u001b[0m: Plotting not available; please install pycairo or cairocffi"
          ]
        }
      ]
    },
    {
      "cell_type": "code",
      "source": [
        "import operator\n",
        "vectors = game_graph.pagerank()#creates the vector of rankings\n",
        "e = {name:cen for cen, name in  zip([v for v in vectors],game_graph.vs['name'])}#we create a dict. with the names and scores\n",
        "sorted_eigen = sorted(e.items(), key=operator.itemgetter(1),reverse=True)#we sort the teams accordingly the rankings\n",
        "sorted_eigen"
      ],
      "metadata": {
        "colab": {
          "base_uri": "https://localhost:8080/"
        },
        "id": "5MhIPy4J8CV9",
        "outputId": "7add935b-e4d7-4c2f-d4ae-f6a4c7c9d13f"
      },
      "execution_count": null,
      "outputs": [
        {
          "output_type": "execute_result",
          "data": {
            "text/plain": [
              "[('Duke Blue Devils', 0.18701215826953893),\n",
              " ('North Carolina Tar Heels', 0.15201923838621956),\n",
              " ('Virginia Cavaliers', 0.12424148988346527),\n",
              " ('Florida State Seminoles', 0.09481511469157541),\n",
              " ('Louisville Cardinals', 0.07752197728366199),\n",
              " ('Virginia Tech Hokies', 0.07310353575259473),\n",
              " ('Syracuse Orange', 0.0728390788302208),\n",
              " ('Clemson Tigers', 0.0366776772777835),\n",
              " ('Boston College Eagles', 0.0346795937311922),\n",
              " ('North Carolina State Wolfpack', 0.03397914060551954),\n",
              " ('Pittsburgh Panthers', 0.03379168787220402),\n",
              " ('Georgia Tech Yellow Jackets', 0.025552395760336584),\n",
              " ('Miami (FL) Hurricanes', 0.0194194243594586),\n",
              " ('Notre Dame Fighting Irish', 0.01755256066239208),\n",
              " ('Wake Forest Demon Deacons', 0.016794926633836707)]"
            ]
          },
          "metadata": {},
          "execution_count": 16
        }
      ]
    },
    {
      "cell_type": "code",
      "source": [
        ""
      ],
      "metadata": {
        "id": "5IG8aPNq8G0B"
      },
      "execution_count": null,
      "outputs": []
    },
    {
      "cell_type": "markdown",
      "source": [
        "# HW 6"
      ],
      "metadata": {
        "id": "9uajBTJH8OfY"
      }
    },
    {
      "cell_type": "markdown",
      "source": [
        "Exercise 1.¶\n",
        "This exercise is inspired by the following blog https://stackabuse.com/association-rule-mining-via-apriori-algorithm-in-python/. We will use the Apriori algorithm to find rules that describe associations between different products given 7500 transactions over the course of a week at a French retail store. The dataset is available on the Moodle.\n",
        "\n",
        "First, we import the Libraries:"
      ],
      "metadata": {
        "id": "kS-ZO89R8gR9"
      }
    },
    {
      "cell_type": "code",
      "source": [
        "import numpy as np\n",
        "import matplotlib.pyplot as plt\n",
        "import pandas as pd\n",
        "from apyori import apriori"
      ],
      "metadata": {
        "id": "cpT3YLS78QFy"
      },
      "execution_count": null,
      "outputs": []
    },
    {
      "cell_type": "code",
      "source": [
        "store_data = pd.read_csv('/content/store_data.csv', header=None)\n",
        "store_data.head()"
      ],
      "metadata": {
        "colab": {
          "base_uri": "https://localhost:8080/",
          "height": 278
        },
        "id": "kZMOM1I08iEl",
        "outputId": "2c5172c8-20fa-48d6-edae-98c18c778c73"
      },
      "execution_count": null,
      "outputs": [
        {
          "output_type": "execute_result",
          "data": {
            "text/html": [
              "<div>\n",
              "<style scoped>\n",
              "    .dataframe tbody tr th:only-of-type {\n",
              "        vertical-align: middle;\n",
              "    }\n",
              "\n",
              "    .dataframe tbody tr th {\n",
              "        vertical-align: top;\n",
              "    }\n",
              "\n",
              "    .dataframe thead th {\n",
              "        text-align: right;\n",
              "    }\n",
              "</style>\n",
              "<table border=\"1\" class=\"dataframe\">\n",
              "  <thead>\n",
              "    <tr style=\"text-align: right;\">\n",
              "      <th></th>\n",
              "      <th>0</th>\n",
              "      <th>1</th>\n",
              "      <th>2</th>\n",
              "      <th>3</th>\n",
              "      <th>4</th>\n",
              "      <th>5</th>\n",
              "      <th>6</th>\n",
              "      <th>7</th>\n",
              "      <th>8</th>\n",
              "      <th>9</th>\n",
              "      <th>10</th>\n",
              "      <th>11</th>\n",
              "      <th>12</th>\n",
              "      <th>13</th>\n",
              "      <th>14</th>\n",
              "      <th>15</th>\n",
              "      <th>16</th>\n",
              "      <th>17</th>\n",
              "      <th>18</th>\n",
              "      <th>19</th>\n",
              "    </tr>\n",
              "  </thead>\n",
              "  <tbody>\n",
              "    <tr>\n",
              "      <th>0</th>\n",
              "      <td>shrimp</td>\n",
              "      <td>almonds</td>\n",
              "      <td>avocado</td>\n",
              "      <td>vegetables mix</td>\n",
              "      <td>green grapes</td>\n",
              "      <td>whole weat flour</td>\n",
              "      <td>yams</td>\n",
              "      <td>cottage cheese</td>\n",
              "      <td>energy drink</td>\n",
              "      <td>tomato juice</td>\n",
              "      <td>low fat yogurt</td>\n",
              "      <td>green tea</td>\n",
              "      <td>honey</td>\n",
              "      <td>salad</td>\n",
              "      <td>mineral water</td>\n",
              "      <td>salmon</td>\n",
              "      <td>antioxydant juice</td>\n",
              "      <td>frozen smoothie</td>\n",
              "      <td>spinach</td>\n",
              "      <td>olive oil</td>\n",
              "    </tr>\n",
              "    <tr>\n",
              "      <th>1</th>\n",
              "      <td>burgers</td>\n",
              "      <td>meatballs</td>\n",
              "      <td>eggs</td>\n",
              "      <td>NaN</td>\n",
              "      <td>NaN</td>\n",
              "      <td>NaN</td>\n",
              "      <td>NaN</td>\n",
              "      <td>NaN</td>\n",
              "      <td>NaN</td>\n",
              "      <td>NaN</td>\n",
              "      <td>NaN</td>\n",
              "      <td>NaN</td>\n",
              "      <td>NaN</td>\n",
              "      <td>NaN</td>\n",
              "      <td>NaN</td>\n",
              "      <td>NaN</td>\n",
              "      <td>NaN</td>\n",
              "      <td>NaN</td>\n",
              "      <td>NaN</td>\n",
              "      <td>NaN</td>\n",
              "    </tr>\n",
              "    <tr>\n",
              "      <th>2</th>\n",
              "      <td>chutney</td>\n",
              "      <td>NaN</td>\n",
              "      <td>NaN</td>\n",
              "      <td>NaN</td>\n",
              "      <td>NaN</td>\n",
              "      <td>NaN</td>\n",
              "      <td>NaN</td>\n",
              "      <td>NaN</td>\n",
              "      <td>NaN</td>\n",
              "      <td>NaN</td>\n",
              "      <td>NaN</td>\n",
              "      <td>NaN</td>\n",
              "      <td>NaN</td>\n",
              "      <td>NaN</td>\n",
              "      <td>NaN</td>\n",
              "      <td>NaN</td>\n",
              "      <td>NaN</td>\n",
              "      <td>NaN</td>\n",
              "      <td>NaN</td>\n",
              "      <td>NaN</td>\n",
              "    </tr>\n",
              "    <tr>\n",
              "      <th>3</th>\n",
              "      <td>turkey</td>\n",
              "      <td>avocado</td>\n",
              "      <td>NaN</td>\n",
              "      <td>NaN</td>\n",
              "      <td>NaN</td>\n",
              "      <td>NaN</td>\n",
              "      <td>NaN</td>\n",
              "      <td>NaN</td>\n",
              "      <td>NaN</td>\n",
              "      <td>NaN</td>\n",
              "      <td>NaN</td>\n",
              "      <td>NaN</td>\n",
              "      <td>NaN</td>\n",
              "      <td>NaN</td>\n",
              "      <td>NaN</td>\n",
              "      <td>NaN</td>\n",
              "      <td>NaN</td>\n",
              "      <td>NaN</td>\n",
              "      <td>NaN</td>\n",
              "      <td>NaN</td>\n",
              "    </tr>\n",
              "    <tr>\n",
              "      <th>4</th>\n",
              "      <td>mineral water</td>\n",
              "      <td>milk</td>\n",
              "      <td>energy bar</td>\n",
              "      <td>whole wheat rice</td>\n",
              "      <td>green tea</td>\n",
              "      <td>NaN</td>\n",
              "      <td>NaN</td>\n",
              "      <td>NaN</td>\n",
              "      <td>NaN</td>\n",
              "      <td>NaN</td>\n",
              "      <td>NaN</td>\n",
              "      <td>NaN</td>\n",
              "      <td>NaN</td>\n",
              "      <td>NaN</td>\n",
              "      <td>NaN</td>\n",
              "      <td>NaN</td>\n",
              "      <td>NaN</td>\n",
              "      <td>NaN</td>\n",
              "      <td>NaN</td>\n",
              "      <td>NaN</td>\n",
              "    </tr>\n",
              "  </tbody>\n",
              "</table>\n",
              "</div>"
            ],
            "text/plain": [
              "              0          1           2   ...               17       18         19\n",
              "0         shrimp    almonds     avocado  ...  frozen smoothie  spinach  olive oil\n",
              "1        burgers  meatballs        eggs  ...              NaN      NaN        NaN\n",
              "2        chutney        NaN         NaN  ...              NaN      NaN        NaN\n",
              "3         turkey    avocado         NaN  ...              NaN      NaN        NaN\n",
              "4  mineral water       milk  energy bar  ...              NaN      NaN        NaN\n",
              "\n",
              "[5 rows x 20 columns]"
            ]
          },
          "metadata": {},
          "execution_count": 22
        }
      ]
    },
    {
      "cell_type": "code",
      "source": [
        "records = []\n",
        "for i in range(0, 7501):\n",
        "    records.append([str(store_data.values[i,j]) for j in range(0, 20) if str(store_data.values[i,j]) != \"nan\"])\n",
        "print(records[0:10])"
      ],
      "metadata": {
        "colab": {
          "base_uri": "https://localhost:8080/"
        },
        "id": "JnU5jQZx8kkp",
        "outputId": "7ca5b2c2-5672-4046-b803-66a377797558"
      },
      "execution_count": null,
      "outputs": [
        {
          "output_type": "stream",
          "name": "stdout",
          "text": [
            "[['shrimp', 'almonds', 'avocado', 'vegetables mix', 'green grapes', 'whole weat flour', 'yams', 'cottage cheese', 'energy drink', 'tomato juice', 'low fat yogurt', 'green tea', 'honey', 'salad', 'mineral water', 'salmon', 'antioxydant juice', 'frozen smoothie', 'spinach', 'olive oil'], ['burgers', 'meatballs', 'eggs'], ['chutney'], ['turkey', 'avocado'], ['mineral water', 'milk', 'energy bar', 'whole wheat rice', 'green tea'], ['low fat yogurt'], ['whole wheat pasta', 'french fries'], ['soup', 'light cream', 'shallot'], ['frozen vegetables', 'spaghetti', 'green tea'], ['french fries']]\n"
          ]
        }
      ]
    },
    {
      "cell_type": "markdown",
      "source": [
        "Find rules for items that are purchased at least 5 times a day, or  7×5=35  times in one week. As the dataset is for a one-week time period, the support for those items is  35/7500=0.0045 . Let fix the minimum confidence for the rules to 0.2 and lift to 3."
      ],
      "metadata": {
        "id": "frkoVC9iODp_"
      }
    },
    {
      "cell_type": "code",
      "source": [
        "association_rules = apriori(records, min_support=0.00933, min_confidence=0.2, min_lift=2, max_length=5)\n",
        "association_results = list(association_rules)\n",
        "print(len(association_results))"
      ],
      "metadata": {
        "colab": {
          "base_uri": "https://localhost:8080/"
        },
        "id": "z30QtklQ8vDW",
        "outputId": "d5f2741c-32be-4fdb-de83-22d505cb4eca"
      },
      "execution_count": null,
      "outputs": [
        {
          "output_type": "stream",
          "name": "stdout",
          "text": [
            "22\n"
          ]
        }
      ]
    },
    {
      "cell_type": "code",
      "source": [
        "print(association_results[0])"
      ],
      "metadata": {
        "colab": {
          "base_uri": "https://localhost:8080/"
        },
        "id": "IfpCX5GW8y8U",
        "outputId": "a90841e2-0c79-4e77-c974-d4e64be49a4f"
      },
      "execution_count": null,
      "outputs": [
        {
          "output_type": "stream",
          "name": "stdout",
          "text": [
            "RelationRecord(items=frozenset({'chicken', 'light cream'}), support=0.004532728969470737, ordered_statistics=[OrderedStatistic(items_base=frozenset({'light cream'}), items_add=frozenset({'chicken'}), confidence=0.29059829059829057, lift=4.84395061728395)])\n"
          ]
        }
      ]
    },
    {
      "cell_type": "code",
      "source": [
        "for item in association_results:\n",
        "\n",
        "    # first index of the inner list\n",
        "    # Contains base item and add item\n",
        "    pair = item[0] \n",
        "    items = [x for x in pair]\n",
        "    print(\"Rule: \" + items[0] + \" -> \" + items[1])\n",
        "\n",
        "    #second index of the inner list\n",
        "    print(\"Support: \" + str(item[1]))\n",
        "\n",
        "    #third index of the list located at 0th\n",
        "    #of the third index of the inner list\n",
        "\n",
        "    print(\"Confidence: \" + str(item[2][0][2]))\n",
        "    print(\"Lift: \" + str(item[2][0][3]))\n",
        "    print(\"=====================================\")"
      ],
      "metadata": {
        "colab": {
          "base_uri": "https://localhost:8080/"
        },
        "id": "KY2hdOjs80Kd",
        "outputId": "c7c48282-9d12-48d6-e547-1621a4c54956"
      },
      "execution_count": null,
      "outputs": [
        {
          "output_type": "stream",
          "name": "stdout",
          "text": [
            "Rule: chicken -> light cream\n",
            "Support: 0.004532728969470737\n",
            "Confidence: 0.29059829059829057\n",
            "Lift: 4.84395061728395\n",
            "=====================================\n",
            "Rule: escalope -> mushroom cream sauce\n",
            "Support: 0.005732568990801226\n",
            "Confidence: 0.3006993006993007\n",
            "Lift: 3.790832696715049\n",
            "=====================================\n",
            "Rule: escalope -> pasta\n",
            "Support: 0.005865884548726837\n",
            "Confidence: 0.3728813559322034\n",
            "Lift: 4.700811850163794\n",
            "=====================================\n",
            "Rule: herb & pepper -> ground beef\n",
            "Support: 0.015997866951073192\n",
            "Confidence: 0.3234501347708895\n",
            "Lift: 3.2919938411349285\n",
            "=====================================\n",
            "Rule: ground beef -> tomato sauce\n",
            "Support: 0.005332622317024397\n",
            "Confidence: 0.3773584905660377\n",
            "Lift: 3.840659481324083\n",
            "=====================================\n",
            "Rule: whole wheat pasta -> olive oil\n",
            "Support: 0.007998933475536596\n",
            "Confidence: 0.2714932126696833\n",
            "Lift: 4.122410097642296\n",
            "=====================================\n",
            "Rule: pasta -> shrimp\n",
            "Support: 0.005065991201173177\n",
            "Confidence: 0.3220338983050847\n",
            "Lift: 4.506672147735896\n",
            "=====================================\n",
            "Rule: chocolate -> frozen vegetables\n",
            "Support: 0.005332622317024397\n",
            "Confidence: 0.23255813953488375\n",
            "Lift: 3.2545123221103784\n",
            "=====================================\n",
            "Rule: spaghetti -> cooking oil\n",
            "Support: 0.004799360085321957\n",
            "Confidence: 0.5714285714285714\n",
            "Lift: 3.2819951870487856\n",
            "=====================================\n",
            "Rule: spaghetti -> frozen vegetables\n",
            "Support: 0.008665511265164644\n",
            "Confidence: 0.31100478468899523\n",
            "Lift: 3.165328208890303\n",
            "=====================================\n",
            "Rule: frozen vegetables -> olive oil\n",
            "Support: 0.004799360085321957\n",
            "Confidence: 0.20338983050847456\n",
            "Lift: 3.088314005352364\n",
            "=====================================\n",
            "Rule: mineral water -> frozen vegetables\n",
            "Support: 0.007199040127982935\n",
            "Confidence: 0.30508474576271183\n",
            "Lift: 3.200616332819722\n",
            "=====================================\n",
            "Rule: spaghetti -> frozen vegetables\n",
            "Support: 0.005732568990801226\n",
            "Confidence: 0.20574162679425836\n",
            "Lift: 3.1240241752707125\n",
            "=====================================\n",
            "Rule: spaghetti -> frozen vegetables\n",
            "Support: 0.005999200106652446\n",
            "Confidence: 0.21531100478468898\n",
            "Lift: 3.0131489680782684\n",
            "=====================================\n",
            "Rule: spaghetti -> frozen vegetables\n",
            "Support: 0.006665777896280496\n",
            "Confidence: 0.23923444976076558\n",
            "Lift: 3.4980460188216425\n",
            "=====================================\n",
            "Rule: spaghetti -> ground beef\n",
            "Support: 0.005332622317024397\n",
            "Confidence: 0.3225806451612903\n",
            "Lift: 3.283144395325426\n",
            "=====================================\n",
            "Rule: herb & pepper -> mineral water\n",
            "Support: 0.006665777896280496\n",
            "Confidence: 0.39062500000000006\n",
            "Lift: 3.975682666214383\n",
            "=====================================\n",
            "Rule: herb & pepper -> spaghetti\n",
            "Support: 0.006399146780429276\n",
            "Confidence: 0.3934426229508197\n",
            "Lift: 4.004359721511667\n",
            "=====================================\n",
            "Rule: olive oil -> ground beef\n",
            "Support: 0.004932675643247567\n",
            "Confidence: 0.22424242424242427\n",
            "Lift: 3.40494417862839\n",
            "=====================================\n",
            "Rule: spaghetti -> shrimp\n",
            "Support: 0.005999200106652446\n",
            "Confidence: 0.5232558139534884\n",
            "Lift: 3.005315360233627\n",
            "=====================================\n",
            "Rule: spaghetti -> olive oil\n",
            "Support: 0.007199040127982935\n",
            "Confidence: 0.20300751879699247\n",
            "Lift: 3.0825089038385434\n",
            "=====================================\n",
            "Rule: mineral water -> soup\n",
            "Support: 0.005199306759098787\n",
            "Confidence: 0.22543352601156072\n",
            "Lift: 3.4230301186492245\n",
            "=====================================\n",
            "Rule: spaghetti -> pancakes\n",
            "Support: 0.005065991201173177\n",
            "Confidence: 0.20105820105820105\n",
            "Lift: 3.0529100529100526\n",
            "=====================================\n",
            "Rule: mineral water -> spaghetti\n",
            "Support: 0.004532728969470737\n",
            "Confidence: 0.28813559322033894\n",
            "Lift: 3.0228043143297376\n",
            "=====================================\n"
          ]
        }
      ]
    },
    {
      "cell_type": "code",
      "source": [
        ""
      ],
      "metadata": {
        "id": "tD68mB5k81jt"
      },
      "execution_count": null,
      "outputs": []
    },
    {
      "cell_type": "markdown",
      "source": [
        "# HW 7: Rec Systems"
      ],
      "metadata": {
        "id": "0ssYE4dp9t97"
      }
    },
    {
      "cell_type": "code",
      "source": [
        "import pyspark\n",
        "conf = pyspark.SparkConf()\n",
        "sc = pyspark.SparkContext(conf=conf)\n",
        "network = sc.textFile(\"/content/soc-LiveJournal1Adj.txt\")\n"
      ],
      "metadata": {
        "id": "-xByAd4C9w0_"
      },
      "execution_count": null,
      "outputs": []
    },
    {
      "cell_type": "markdown",
      "source": [
        "Algorithm: for each user  𝑈 , the algorithm recommends  𝑁=10  users who are not already friends with  𝑈 , but have the most number of mutual friends in common with  𝑈 .\n",
        "\n",
        "\n",
        "Output: The output contains one line per user in the following format:  <𝑈𝑠𝑒𝑟> <𝑇𝐴𝐵> <𝑅𝑒𝑐𝑜𝑚𝑚𝑒𝑛𝑑𝑎𝑡𝑖𝑜𝑛𝑠>  where  <𝑈𝑠𝑒𝑟>  is a unique ID corresponding to a user and  <𝑅𝑒𝑐𝑜𝑚𝑚𝑒𝑛𝑑𝑎𝑡𝑖𝑜𝑛𝑠>  is a comma separated list of unique IDs corresponding to the algorithm’s recommendation of people that  <𝑈𝑠𝑒𝑟>  might know, ordered in decreasing number of mutual friends.\n",
        "If a user has less than 10 second-degree friends: output all of them in decreasing order of the number of mutual friends.\n",
        "If a user has no friends, you can provide an empty list of recommendations. If there are recommended users with the same number of mutual friends, then output those user IDs in numerically ascending order."
      ],
      "metadata": {
        "id": "IRpoksApMpkz"
      }
    },
    {
      "cell_type": "code",
      "source": [
        "def mapper(line):\n",
        "    data = line.split()\n",
        "    u = data[0] # always exists\n",
        "    \n",
        "    result = []\n",
        "    result.append(((u, u), 0))\n",
        "    \n",
        "    if len(data) == 1:\n",
        "        return result\n",
        "\n",
        "    V = data[1].split(\",\")\n",
        "\n",
        "    for v in V:\n",
        "        result.append(((u, v), 0))\n",
        "\n",
        "    for v1 in V:\n",
        "        for v2 in V:\n",
        "            if v1 != v2:\n",
        "                result.append(((v1, v2), 1))\n",
        "\n",
        "    return result\n",
        "\n",
        "def aggregateMutualFriends(values):\n",
        "    if any(value == 0 for value in values):\n",
        "        return 0\n",
        "    else:\n",
        "        return sum(values)\n",
        "\n",
        "def sortRecs(values):\n",
        "    sorted_recs = sorted(values, key = lambda rec_count: (-1 * rec_count[1], rec_count[0]))[:10]\n",
        "    return [pair[0] for pair in sorted_recs]\n",
        "\n",
        "mapped_data = network.flatMap(mapper)\n",
        "reduced_data = mapped_data.groupByKey().mapValues(aggregateMutualFriends)\n"
      ],
      "metadata": {
        "colab": {
          "base_uri": "https://localhost:8080/",
          "height": 364
        },
        "id": "BW5R_Q3cMmwv",
        "outputId": "fff55243-3f62-4928-d89a-65c534d54fb0"
      },
      "execution_count": null,
      "outputs": [
        {
          "output_type": "error",
          "ename": "KeyboardInterrupt",
          "evalue": "ignored",
          "traceback": [
            "\u001b[0;31m---------------------------------------------------------------------------\u001b[0m",
            "\u001b[0;31mKeyboardInterrupt\u001b[0m                         Traceback (most recent call last)",
            "\u001b[0;32m<ipython-input-35-8f594b594985>\u001b[0m in \u001b[0;36m<module>\u001b[0;34m()\u001b[0m\n\u001b[1;32m     31\u001b[0m     \u001b[0;32mreturn\u001b[0m \u001b[0;34m[\u001b[0m\u001b[0mpair\u001b[0m\u001b[0;34m[\u001b[0m\u001b[0;36m0\u001b[0m\u001b[0;34m]\u001b[0m \u001b[0;32mfor\u001b[0m \u001b[0mpair\u001b[0m \u001b[0;32min\u001b[0m \u001b[0msorted_recs\u001b[0m\u001b[0;34m]\u001b[0m\u001b[0;34m\u001b[0m\u001b[0;34m\u001b[0m\u001b[0m\n\u001b[1;32m     32\u001b[0m \u001b[0;34m\u001b[0m\u001b[0m\n\u001b[0;32m---> 33\u001b[0;31m \u001b[0mmapped_data\u001b[0m \u001b[0;34m=\u001b[0m \u001b[0mnetwork\u001b[0m\u001b[0;34m.\u001b[0m\u001b[0mflatMap\u001b[0m\u001b[0;34m(\u001b[0m\u001b[0mmapper\u001b[0m\u001b[0;34m)\u001b[0m\u001b[0;34m\u001b[0m\u001b[0;34m\u001b[0m\u001b[0m\n\u001b[0m\u001b[1;32m     34\u001b[0m \u001b[0mreduced_data\u001b[0m \u001b[0;34m=\u001b[0m \u001b[0mmapped_data\u001b[0m\u001b[0;34m.\u001b[0m\u001b[0mgroupByKey\u001b[0m\u001b[0;34m(\u001b[0m\u001b[0;34m)\u001b[0m\u001b[0;34m.\u001b[0m\u001b[0mmapValues\u001b[0m\u001b[0;34m(\u001b[0m\u001b[0maggregateMutualFriends\u001b[0m\u001b[0;34m)\u001b[0m\u001b[0;34m\u001b[0m\u001b[0;34m\u001b[0m\u001b[0m\n",
            "\u001b[0;32m/usr/local/lib/python3.7/dist-packages/pyspark/rdd.py\u001b[0m in \u001b[0;36mflatMap\u001b[0;34m(self, f, preservesPartitioning)\u001b[0m\n\u001b[1;32m    401\u001b[0m         \u001b[0;32mdef\u001b[0m \u001b[0mfunc\u001b[0m\u001b[0;34m(\u001b[0m\u001b[0ms\u001b[0m\u001b[0;34m,\u001b[0m \u001b[0miterator\u001b[0m\u001b[0;34m)\u001b[0m\u001b[0;34m:\u001b[0m\u001b[0;34m\u001b[0m\u001b[0;34m\u001b[0m\u001b[0m\n\u001b[1;32m    402\u001b[0m             \u001b[0;32mreturn\u001b[0m \u001b[0mchain\u001b[0m\u001b[0;34m.\u001b[0m\u001b[0mfrom_iterable\u001b[0m\u001b[0;34m(\u001b[0m\u001b[0mmap\u001b[0m\u001b[0;34m(\u001b[0m\u001b[0mfail_on_stopiteration\u001b[0m\u001b[0;34m(\u001b[0m\u001b[0mf\u001b[0m\u001b[0;34m)\u001b[0m\u001b[0;34m,\u001b[0m \u001b[0miterator\u001b[0m\u001b[0;34m)\u001b[0m\u001b[0;34m)\u001b[0m\u001b[0;34m\u001b[0m\u001b[0;34m\u001b[0m\u001b[0m\n\u001b[0;32m--> 403\u001b[0;31m         \u001b[0;32mreturn\u001b[0m \u001b[0mself\u001b[0m\u001b[0;34m.\u001b[0m\u001b[0mmapPartitionsWithIndex\u001b[0m\u001b[0;34m(\u001b[0m\u001b[0mfunc\u001b[0m\u001b[0;34m,\u001b[0m \u001b[0mpreservesPartitioning\u001b[0m\u001b[0;34m)\u001b[0m\u001b[0;34m\u001b[0m\u001b[0;34m\u001b[0m\u001b[0m\n\u001b[0m\u001b[1;32m    404\u001b[0m \u001b[0;34m\u001b[0m\u001b[0m\n\u001b[1;32m    405\u001b[0m     \u001b[0;32mdef\u001b[0m \u001b[0mmapPartitions\u001b[0m\u001b[0;34m(\u001b[0m\u001b[0mself\u001b[0m\u001b[0;34m,\u001b[0m \u001b[0mf\u001b[0m\u001b[0;34m,\u001b[0m \u001b[0mpreservesPartitioning\u001b[0m\u001b[0;34m=\u001b[0m\u001b[0;32mFalse\u001b[0m\u001b[0;34m)\u001b[0m\u001b[0;34m:\u001b[0m\u001b[0;34m\u001b[0m\u001b[0;34m\u001b[0m\u001b[0m\n",
            "\u001b[0;32m/usr/local/lib/python3.7/dist-packages/pyspark/rdd.py\u001b[0m in \u001b[0;36mmapPartitionsWithIndex\u001b[0;34m(self, f, preservesPartitioning)\u001b[0m\n\u001b[1;32m    430\u001b[0m         \u001b[0;36m6\u001b[0m\u001b[0;34m\u001b[0m\u001b[0;34m\u001b[0m\u001b[0m\n\u001b[1;32m    431\u001b[0m         \"\"\"\n\u001b[0;32m--> 432\u001b[0;31m         \u001b[0;32mreturn\u001b[0m \u001b[0mPipelinedRDD\u001b[0m\u001b[0;34m(\u001b[0m\u001b[0mself\u001b[0m\u001b[0;34m,\u001b[0m \u001b[0mf\u001b[0m\u001b[0;34m,\u001b[0m \u001b[0mpreservesPartitioning\u001b[0m\u001b[0;34m)\u001b[0m\u001b[0;34m\u001b[0m\u001b[0;34m\u001b[0m\u001b[0m\n\u001b[0m\u001b[1;32m    433\u001b[0m \u001b[0;34m\u001b[0m\u001b[0m\n\u001b[1;32m    434\u001b[0m     \u001b[0;32mdef\u001b[0m \u001b[0mmapPartitionsWithSplit\u001b[0m\u001b[0;34m(\u001b[0m\u001b[0mself\u001b[0m\u001b[0;34m,\u001b[0m \u001b[0mf\u001b[0m\u001b[0;34m,\u001b[0m \u001b[0mpreservesPartitioning\u001b[0m\u001b[0;34m=\u001b[0m\u001b[0;32mFalse\u001b[0m\u001b[0;34m)\u001b[0m\u001b[0;34m:\u001b[0m\u001b[0;34m\u001b[0m\u001b[0;34m\u001b[0m\u001b[0m\n",
            "\u001b[0;32m/usr/local/lib/python3.7/dist-packages/pyspark/rdd.py\u001b[0m in \u001b[0;36m__init__\u001b[0;34m(self, prev, func, preservesPartitioning, isFromBarrier)\u001b[0m\n\u001b[1;32m   2932\u001b[0m         \u001b[0mself\u001b[0m\u001b[0;34m.\u001b[0m\u001b[0m_bypass_serializer\u001b[0m \u001b[0;34m=\u001b[0m \u001b[0;32mFalse\u001b[0m\u001b[0;34m\u001b[0m\u001b[0;34m\u001b[0m\u001b[0m\n\u001b[1;32m   2933\u001b[0m         \u001b[0mself\u001b[0m\u001b[0;34m.\u001b[0m\u001b[0mpartitioner\u001b[0m \u001b[0;34m=\u001b[0m \u001b[0mprev\u001b[0m\u001b[0;34m.\u001b[0m\u001b[0mpartitioner\u001b[0m \u001b[0;32mif\u001b[0m \u001b[0mself\u001b[0m\u001b[0;34m.\u001b[0m\u001b[0mpreservesPartitioning\u001b[0m \u001b[0;32melse\u001b[0m \u001b[0;32mNone\u001b[0m\u001b[0;34m\u001b[0m\u001b[0;34m\u001b[0m\u001b[0m\n\u001b[0;32m-> 2934\u001b[0;31m         \u001b[0mself\u001b[0m\u001b[0;34m.\u001b[0m\u001b[0mis_barrier\u001b[0m \u001b[0;34m=\u001b[0m \u001b[0misFromBarrier\u001b[0m \u001b[0;32mor\u001b[0m \u001b[0mprev\u001b[0m\u001b[0;34m.\u001b[0m\u001b[0m_is_barrier\u001b[0m\u001b[0;34m(\u001b[0m\u001b[0;34m)\u001b[0m\u001b[0;34m\u001b[0m\u001b[0;34m\u001b[0m\u001b[0m\n\u001b[0m\u001b[1;32m   2935\u001b[0m \u001b[0;34m\u001b[0m\u001b[0m\n\u001b[1;32m   2936\u001b[0m     \u001b[0;32mdef\u001b[0m \u001b[0mgetNumPartitions\u001b[0m\u001b[0;34m(\u001b[0m\u001b[0mself\u001b[0m\u001b[0;34m)\u001b[0m\u001b[0;34m:\u001b[0m\u001b[0;34m\u001b[0m\u001b[0;34m\u001b[0m\u001b[0m\n",
            "\u001b[0;32m/usr/local/lib/python3.7/dist-packages/pyspark/rdd.py\u001b[0m in \u001b[0;36m_is_barrier\u001b[0;34m(self)\u001b[0m\n\u001b[1;32m   2759\u001b[0m         \u001b[0mWhether\u001b[0m \u001b[0mthis\u001b[0m \u001b[0mRDD\u001b[0m \u001b[0;32mis\u001b[0m \u001b[0;32min\u001b[0m \u001b[0ma\u001b[0m \u001b[0mbarrier\u001b[0m \u001b[0mstage\u001b[0m\u001b[0;34m.\u001b[0m\u001b[0;34m\u001b[0m\u001b[0;34m\u001b[0m\u001b[0m\n\u001b[1;32m   2760\u001b[0m         \"\"\"\n\u001b[0;32m-> 2761\u001b[0;31m         \u001b[0;32mreturn\u001b[0m \u001b[0mself\u001b[0m\u001b[0;34m.\u001b[0m\u001b[0m_jrdd\u001b[0m\u001b[0;34m.\u001b[0m\u001b[0mrdd\u001b[0m\u001b[0;34m(\u001b[0m\u001b[0;34m)\u001b[0m\u001b[0;34m.\u001b[0m\u001b[0misBarrier\u001b[0m\u001b[0;34m(\u001b[0m\u001b[0;34m)\u001b[0m\u001b[0;34m\u001b[0m\u001b[0;34m\u001b[0m\u001b[0m\n\u001b[0m\u001b[1;32m   2762\u001b[0m \u001b[0;34m\u001b[0m\u001b[0m\n\u001b[1;32m   2763\u001b[0m     \u001b[0;32mdef\u001b[0m \u001b[0mwithResources\u001b[0m\u001b[0;34m(\u001b[0m\u001b[0mself\u001b[0m\u001b[0;34m,\u001b[0m \u001b[0mprofile\u001b[0m\u001b[0;34m)\u001b[0m\u001b[0;34m:\u001b[0m\u001b[0;34m\u001b[0m\u001b[0;34m\u001b[0m\u001b[0m\n",
            "\u001b[0;32m/usr/local/lib/python3.7/dist-packages/py4j/java_gateway.py\u001b[0m in \u001b[0;36m__call__\u001b[0;34m(self, *args)\u001b[0m\n\u001b[1;32m   1306\u001b[0m             \u001b[0mproto\u001b[0m\u001b[0;34m.\u001b[0m\u001b[0mEND_COMMAND_PART\u001b[0m\u001b[0;34m\u001b[0m\u001b[0;34m\u001b[0m\u001b[0m\n\u001b[1;32m   1307\u001b[0m \u001b[0;34m\u001b[0m\u001b[0m\n\u001b[0;32m-> 1308\u001b[0;31m         \u001b[0manswer\u001b[0m \u001b[0;34m=\u001b[0m \u001b[0mself\u001b[0m\u001b[0;34m.\u001b[0m\u001b[0mgateway_client\u001b[0m\u001b[0;34m.\u001b[0m\u001b[0msend_command\u001b[0m\u001b[0;34m(\u001b[0m\u001b[0mcommand\u001b[0m\u001b[0;34m)\u001b[0m\u001b[0;34m\u001b[0m\u001b[0;34m\u001b[0m\u001b[0m\n\u001b[0m\u001b[1;32m   1309\u001b[0m         return_value = get_return_value(\n\u001b[1;32m   1310\u001b[0m             answer, self.gateway_client, self.target_id, self.name)\n",
            "\u001b[0;32m/usr/local/lib/python3.7/dist-packages/py4j/java_gateway.py\u001b[0m in \u001b[0;36msend_command\u001b[0;34m(self, command, retry, binary)\u001b[0m\n\u001b[1;32m   1036\u001b[0m         \u001b[0mconnection\u001b[0m \u001b[0;34m=\u001b[0m \u001b[0mself\u001b[0m\u001b[0;34m.\u001b[0m\u001b[0m_get_connection\u001b[0m\u001b[0;34m(\u001b[0m\u001b[0;34m)\u001b[0m\u001b[0;34m\u001b[0m\u001b[0;34m\u001b[0m\u001b[0m\n\u001b[1;32m   1037\u001b[0m         \u001b[0;32mtry\u001b[0m\u001b[0;34m:\u001b[0m\u001b[0;34m\u001b[0m\u001b[0;34m\u001b[0m\u001b[0m\n\u001b[0;32m-> 1038\u001b[0;31m             \u001b[0mresponse\u001b[0m \u001b[0;34m=\u001b[0m \u001b[0mconnection\u001b[0m\u001b[0;34m.\u001b[0m\u001b[0msend_command\u001b[0m\u001b[0;34m(\u001b[0m\u001b[0mcommand\u001b[0m\u001b[0;34m)\u001b[0m\u001b[0;34m\u001b[0m\u001b[0;34m\u001b[0m\u001b[0m\n\u001b[0m\u001b[1;32m   1039\u001b[0m             \u001b[0;32mif\u001b[0m \u001b[0mbinary\u001b[0m\u001b[0;34m:\u001b[0m\u001b[0;34m\u001b[0m\u001b[0;34m\u001b[0m\u001b[0m\n\u001b[1;32m   1040\u001b[0m                 \u001b[0;32mreturn\u001b[0m \u001b[0mresponse\u001b[0m\u001b[0;34m,\u001b[0m \u001b[0mself\u001b[0m\u001b[0;34m.\u001b[0m\u001b[0m_create_connection_guard\u001b[0m\u001b[0;34m(\u001b[0m\u001b[0mconnection\u001b[0m\u001b[0;34m)\u001b[0m\u001b[0;34m\u001b[0m\u001b[0;34m\u001b[0m\u001b[0m\n",
            "\u001b[0;32m/usr/local/lib/python3.7/dist-packages/py4j/clientserver.py\u001b[0m in \u001b[0;36msend_command\u001b[0;34m(self, command)\u001b[0m\n\u001b[1;32m    473\u001b[0m         \u001b[0;32mtry\u001b[0m\u001b[0;34m:\u001b[0m\u001b[0;34m\u001b[0m\u001b[0;34m\u001b[0m\u001b[0m\n\u001b[1;32m    474\u001b[0m             \u001b[0;32mwhile\u001b[0m \u001b[0;32mTrue\u001b[0m\u001b[0;34m:\u001b[0m\u001b[0;34m\u001b[0m\u001b[0;34m\u001b[0m\u001b[0m\n\u001b[0;32m--> 475\u001b[0;31m                 \u001b[0manswer\u001b[0m \u001b[0;34m=\u001b[0m \u001b[0msmart_decode\u001b[0m\u001b[0;34m(\u001b[0m\u001b[0mself\u001b[0m\u001b[0;34m.\u001b[0m\u001b[0mstream\u001b[0m\u001b[0;34m.\u001b[0m\u001b[0mreadline\u001b[0m\u001b[0;34m(\u001b[0m\u001b[0;34m)\u001b[0m\u001b[0;34m[\u001b[0m\u001b[0;34m:\u001b[0m\u001b[0;34m-\u001b[0m\u001b[0;36m1\u001b[0m\u001b[0;34m]\u001b[0m\u001b[0;34m)\u001b[0m\u001b[0;34m\u001b[0m\u001b[0;34m\u001b[0m\u001b[0m\n\u001b[0m\u001b[1;32m    476\u001b[0m                 \u001b[0mlogger\u001b[0m\u001b[0;34m.\u001b[0m\u001b[0mdebug\u001b[0m\u001b[0;34m(\u001b[0m\u001b[0;34m\"Answer received: {0}\"\u001b[0m\u001b[0;34m.\u001b[0m\u001b[0mformat\u001b[0m\u001b[0;34m(\u001b[0m\u001b[0manswer\u001b[0m\u001b[0;34m)\u001b[0m\u001b[0;34m)\u001b[0m\u001b[0;34m\u001b[0m\u001b[0;34m\u001b[0m\u001b[0m\n\u001b[1;32m    477\u001b[0m                 \u001b[0;31m# Happens when a the other end is dead. There might be an empty\u001b[0m\u001b[0;34m\u001b[0m\u001b[0;34m\u001b[0m\u001b[0;34m\u001b[0m\u001b[0m\n",
            "\u001b[0;32m/usr/lib/python3.7/socket.py\u001b[0m in \u001b[0;36mreadinto\u001b[0;34m(self, b)\u001b[0m\n\u001b[1;32m    587\u001b[0m         \u001b[0;32mwhile\u001b[0m \u001b[0;32mTrue\u001b[0m\u001b[0;34m:\u001b[0m\u001b[0;34m\u001b[0m\u001b[0;34m\u001b[0m\u001b[0m\n\u001b[1;32m    588\u001b[0m             \u001b[0;32mtry\u001b[0m\u001b[0;34m:\u001b[0m\u001b[0;34m\u001b[0m\u001b[0;34m\u001b[0m\u001b[0m\n\u001b[0;32m--> 589\u001b[0;31m                 \u001b[0;32mreturn\u001b[0m \u001b[0mself\u001b[0m\u001b[0;34m.\u001b[0m\u001b[0m_sock\u001b[0m\u001b[0;34m.\u001b[0m\u001b[0mrecv_into\u001b[0m\u001b[0;34m(\u001b[0m\u001b[0mb\u001b[0m\u001b[0;34m)\u001b[0m\u001b[0;34m\u001b[0m\u001b[0;34m\u001b[0m\u001b[0m\n\u001b[0m\u001b[1;32m    590\u001b[0m             \u001b[0;32mexcept\u001b[0m \u001b[0mtimeout\u001b[0m\u001b[0;34m:\u001b[0m\u001b[0;34m\u001b[0m\u001b[0;34m\u001b[0m\u001b[0m\n\u001b[1;32m    591\u001b[0m                 \u001b[0mself\u001b[0m\u001b[0;34m.\u001b[0m\u001b[0m_timeout_occurred\u001b[0m \u001b[0;34m=\u001b[0m \u001b[0;32mTrue\u001b[0m\u001b[0;34m\u001b[0m\u001b[0;34m\u001b[0m\u001b[0m\n",
            "\u001b[0;31mKeyboardInterrupt\u001b[0m: "
          ]
        }
      ]
    },
    {
      "cell_type": "code",
      "source": [
        "top_recs = reduced_data \\\n",
        "                .filter(lambda pair_count: pair_count[1] > 0) \\\n",
        "                .map(lambda pair_count: (pair_count[0][0], (pair_count[0][1], pair_count[1]))) \\\n",
        "                .groupByKey() \\\n",
        "                .mapValues(sortRecs)\n",
        "top_recs"
      ],
      "metadata": {
        "colab": {
          "base_uri": "https://localhost:8080/",
          "height": 364
        },
        "id": "JD-17tirMsPH",
        "outputId": "15727daa-eb0e-4d92-aef7-1fc07fe161fd"
      },
      "execution_count": null,
      "outputs": [
        {
          "output_type": "error",
          "ename": "KeyboardInterrupt",
          "evalue": "ignored",
          "traceback": [
            "\u001b[0;31m---------------------------------------------------------------------------\u001b[0m",
            "\u001b[0;31mKeyboardInterrupt\u001b[0m                         Traceback (most recent call last)",
            "\u001b[0;32m<ipython-input-36-52c07bd54654>\u001b[0m in \u001b[0;36m<module>\u001b[0;34m()\u001b[0m\n\u001b[0;32m----> 1\u001b[0;31m \u001b[0mtop_recs\u001b[0m \u001b[0;34m=\u001b[0m \u001b[0mreduced_data\u001b[0m                 \u001b[0;34m.\u001b[0m\u001b[0mfilter\u001b[0m\u001b[0;34m(\u001b[0m\u001b[0;32mlambda\u001b[0m \u001b[0mpair_count\u001b[0m\u001b[0;34m:\u001b[0m \u001b[0mpair_count\u001b[0m\u001b[0;34m[\u001b[0m\u001b[0;36m1\u001b[0m\u001b[0;34m]\u001b[0m \u001b[0;34m>\u001b[0m \u001b[0;36m0\u001b[0m\u001b[0;34m)\u001b[0m                 \u001b[0;34m.\u001b[0m\u001b[0mmap\u001b[0m\u001b[0;34m(\u001b[0m\u001b[0;32mlambda\u001b[0m \u001b[0mpair_count\u001b[0m\u001b[0;34m:\u001b[0m \u001b[0;34m(\u001b[0m\u001b[0mpair_count\u001b[0m\u001b[0;34m[\u001b[0m\u001b[0;36m0\u001b[0m\u001b[0;34m]\u001b[0m\u001b[0;34m[\u001b[0m\u001b[0;36m0\u001b[0m\u001b[0;34m]\u001b[0m\u001b[0;34m,\u001b[0m \u001b[0;34m(\u001b[0m\u001b[0mpair_count\u001b[0m\u001b[0;34m[\u001b[0m\u001b[0;36m0\u001b[0m\u001b[0;34m]\u001b[0m\u001b[0;34m[\u001b[0m\u001b[0;36m1\u001b[0m\u001b[0;34m]\u001b[0m\u001b[0;34m,\u001b[0m \u001b[0mpair_count\u001b[0m\u001b[0;34m[\u001b[0m\u001b[0;36m1\u001b[0m\u001b[0;34m]\u001b[0m\u001b[0;34m)\u001b[0m\u001b[0;34m)\u001b[0m\u001b[0;34m)\u001b[0m                 \u001b[0;34m.\u001b[0m\u001b[0mgroupByKey\u001b[0m\u001b[0;34m(\u001b[0m\u001b[0;34m)\u001b[0m                 \u001b[0;34m.\u001b[0m\u001b[0mmapValues\u001b[0m\u001b[0;34m(\u001b[0m\u001b[0msortRecs\u001b[0m\u001b[0;34m)\u001b[0m\u001b[0;34m\u001b[0m\u001b[0;34m\u001b[0m\u001b[0m\n\u001b[0m\u001b[1;32m      2\u001b[0m \u001b[0mtop_recs\u001b[0m\u001b[0;34m\u001b[0m\u001b[0;34m\u001b[0m\u001b[0m\n",
            "\u001b[0;32m/usr/local/lib/python3.7/dist-packages/pyspark/rdd.py\u001b[0m in \u001b[0;36mgroupByKey\u001b[0;34m(self, numPartitions, partitionFunc)\u001b[0m\n\u001b[1;32m   2228\u001b[0m             \u001b[0;32mreturn\u001b[0m \u001b[0ma\u001b[0m\u001b[0;34m\u001b[0m\u001b[0;34m\u001b[0m\u001b[0m\n\u001b[1;32m   2229\u001b[0m \u001b[0;34m\u001b[0m\u001b[0m\n\u001b[0;32m-> 2230\u001b[0;31m         \u001b[0mmemory\u001b[0m \u001b[0;34m=\u001b[0m \u001b[0mself\u001b[0m\u001b[0;34m.\u001b[0m\u001b[0m_memory_limit\u001b[0m\u001b[0;34m(\u001b[0m\u001b[0;34m)\u001b[0m\u001b[0;34m\u001b[0m\u001b[0;34m\u001b[0m\u001b[0m\n\u001b[0m\u001b[1;32m   2231\u001b[0m         \u001b[0mserializer\u001b[0m \u001b[0;34m=\u001b[0m \u001b[0mself\u001b[0m\u001b[0;34m.\u001b[0m\u001b[0m_jrdd_deserializer\u001b[0m\u001b[0;34m\u001b[0m\u001b[0;34m\u001b[0m\u001b[0m\n\u001b[1;32m   2232\u001b[0m         \u001b[0magg\u001b[0m \u001b[0;34m=\u001b[0m \u001b[0mAggregator\u001b[0m\u001b[0;34m(\u001b[0m\u001b[0mcreateCombiner\u001b[0m\u001b[0;34m,\u001b[0m \u001b[0mmergeValue\u001b[0m\u001b[0;34m,\u001b[0m \u001b[0mmergeCombiners\u001b[0m\u001b[0;34m)\u001b[0m\u001b[0;34m\u001b[0m\u001b[0;34m\u001b[0m\u001b[0m\n",
            "\u001b[0;32m/usr/local/lib/python3.7/dist-packages/pyspark/rdd.py\u001b[0m in \u001b[0;36m_memory_limit\u001b[0;34m(self)\u001b[0m\n\u001b[1;32m   2195\u001b[0m \u001b[0;34m\u001b[0m\u001b[0m\n\u001b[1;32m   2196\u001b[0m     \u001b[0;32mdef\u001b[0m \u001b[0m_memory_limit\u001b[0m\u001b[0;34m(\u001b[0m\u001b[0mself\u001b[0m\u001b[0;34m)\u001b[0m\u001b[0;34m:\u001b[0m\u001b[0;34m\u001b[0m\u001b[0;34m\u001b[0m\u001b[0m\n\u001b[0;32m-> 2197\u001b[0;31m         \u001b[0;32mreturn\u001b[0m \u001b[0m_parse_memory\u001b[0m\u001b[0;34m(\u001b[0m\u001b[0mself\u001b[0m\u001b[0;34m.\u001b[0m\u001b[0mctx\u001b[0m\u001b[0;34m.\u001b[0m\u001b[0m_conf\u001b[0m\u001b[0;34m.\u001b[0m\u001b[0mget\u001b[0m\u001b[0;34m(\u001b[0m\u001b[0;34m\"spark.python.worker.memory\"\u001b[0m\u001b[0;34m,\u001b[0m \u001b[0;34m\"512m\"\u001b[0m\u001b[0;34m)\u001b[0m\u001b[0;34m)\u001b[0m\u001b[0;34m\u001b[0m\u001b[0;34m\u001b[0m\u001b[0m\n\u001b[0m\u001b[1;32m   2198\u001b[0m \u001b[0;34m\u001b[0m\u001b[0m\n\u001b[1;32m   2199\u001b[0m     \u001b[0;31m# TODO: support variant with custom partitioner\u001b[0m\u001b[0;34m\u001b[0m\u001b[0;34m\u001b[0m\u001b[0;34m\u001b[0m\u001b[0m\n",
            "\u001b[0;32m/usr/local/lib/python3.7/dist-packages/pyspark/conf.py\u001b[0m in \u001b[0;36mget\u001b[0;34m(self, key, defaultValue)\u001b[0m\n\u001b[1;32m    192\u001b[0m         \u001b[0;32melse\u001b[0m\u001b[0;34m:\u001b[0m\u001b[0;34m\u001b[0m\u001b[0;34m\u001b[0m\u001b[0m\n\u001b[1;32m    193\u001b[0m             \u001b[0;32mif\u001b[0m \u001b[0mself\u001b[0m\u001b[0;34m.\u001b[0m\u001b[0m_jconf\u001b[0m \u001b[0;32mis\u001b[0m \u001b[0;32mnot\u001b[0m \u001b[0;32mNone\u001b[0m\u001b[0;34m:\u001b[0m\u001b[0;34m\u001b[0m\u001b[0;34m\u001b[0m\u001b[0m\n\u001b[0;32m--> 194\u001b[0;31m                 \u001b[0;32mreturn\u001b[0m \u001b[0mself\u001b[0m\u001b[0;34m.\u001b[0m\u001b[0m_jconf\u001b[0m\u001b[0;34m.\u001b[0m\u001b[0mget\u001b[0m\u001b[0;34m(\u001b[0m\u001b[0mkey\u001b[0m\u001b[0;34m,\u001b[0m \u001b[0mdefaultValue\u001b[0m\u001b[0;34m)\u001b[0m\u001b[0;34m\u001b[0m\u001b[0;34m\u001b[0m\u001b[0m\n\u001b[0m\u001b[1;32m    195\u001b[0m             \u001b[0;32melse\u001b[0m\u001b[0;34m:\u001b[0m\u001b[0;34m\u001b[0m\u001b[0;34m\u001b[0m\u001b[0m\n\u001b[1;32m    196\u001b[0m                 \u001b[0;32mreturn\u001b[0m \u001b[0mself\u001b[0m\u001b[0;34m.\u001b[0m\u001b[0m_conf\u001b[0m\u001b[0;34m.\u001b[0m\u001b[0mget\u001b[0m\u001b[0;34m(\u001b[0m\u001b[0mkey\u001b[0m\u001b[0;34m,\u001b[0m \u001b[0mdefaultValue\u001b[0m\u001b[0;34m)\u001b[0m\u001b[0;34m\u001b[0m\u001b[0;34m\u001b[0m\u001b[0m\n",
            "\u001b[0;32m/usr/local/lib/python3.7/dist-packages/py4j/java_gateway.py\u001b[0m in \u001b[0;36m__call__\u001b[0;34m(self, *args)\u001b[0m\n\u001b[1;32m   1306\u001b[0m             \u001b[0mproto\u001b[0m\u001b[0;34m.\u001b[0m\u001b[0mEND_COMMAND_PART\u001b[0m\u001b[0;34m\u001b[0m\u001b[0;34m\u001b[0m\u001b[0m\n\u001b[1;32m   1307\u001b[0m \u001b[0;34m\u001b[0m\u001b[0m\n\u001b[0;32m-> 1308\u001b[0;31m         \u001b[0manswer\u001b[0m \u001b[0;34m=\u001b[0m \u001b[0mself\u001b[0m\u001b[0;34m.\u001b[0m\u001b[0mgateway_client\u001b[0m\u001b[0;34m.\u001b[0m\u001b[0msend_command\u001b[0m\u001b[0;34m(\u001b[0m\u001b[0mcommand\u001b[0m\u001b[0;34m)\u001b[0m\u001b[0;34m\u001b[0m\u001b[0;34m\u001b[0m\u001b[0m\n\u001b[0m\u001b[1;32m   1309\u001b[0m         return_value = get_return_value(\n\u001b[1;32m   1310\u001b[0m             answer, self.gateway_client, self.target_id, self.name)\n",
            "\u001b[0;32m/usr/local/lib/python3.7/dist-packages/py4j/java_gateway.py\u001b[0m in \u001b[0;36msend_command\u001b[0;34m(self, command, retry, binary)\u001b[0m\n\u001b[1;32m   1036\u001b[0m         \u001b[0mconnection\u001b[0m \u001b[0;34m=\u001b[0m \u001b[0mself\u001b[0m\u001b[0;34m.\u001b[0m\u001b[0m_get_connection\u001b[0m\u001b[0;34m(\u001b[0m\u001b[0;34m)\u001b[0m\u001b[0;34m\u001b[0m\u001b[0;34m\u001b[0m\u001b[0m\n\u001b[1;32m   1037\u001b[0m         \u001b[0;32mtry\u001b[0m\u001b[0;34m:\u001b[0m\u001b[0;34m\u001b[0m\u001b[0;34m\u001b[0m\u001b[0m\n\u001b[0;32m-> 1038\u001b[0;31m             \u001b[0mresponse\u001b[0m \u001b[0;34m=\u001b[0m \u001b[0mconnection\u001b[0m\u001b[0;34m.\u001b[0m\u001b[0msend_command\u001b[0m\u001b[0;34m(\u001b[0m\u001b[0mcommand\u001b[0m\u001b[0;34m)\u001b[0m\u001b[0;34m\u001b[0m\u001b[0;34m\u001b[0m\u001b[0m\n\u001b[0m\u001b[1;32m   1039\u001b[0m             \u001b[0;32mif\u001b[0m \u001b[0mbinary\u001b[0m\u001b[0;34m:\u001b[0m\u001b[0;34m\u001b[0m\u001b[0;34m\u001b[0m\u001b[0m\n\u001b[1;32m   1040\u001b[0m                 \u001b[0;32mreturn\u001b[0m \u001b[0mresponse\u001b[0m\u001b[0;34m,\u001b[0m \u001b[0mself\u001b[0m\u001b[0;34m.\u001b[0m\u001b[0m_create_connection_guard\u001b[0m\u001b[0;34m(\u001b[0m\u001b[0mconnection\u001b[0m\u001b[0;34m)\u001b[0m\u001b[0;34m\u001b[0m\u001b[0;34m\u001b[0m\u001b[0m\n",
            "\u001b[0;32m/usr/local/lib/python3.7/dist-packages/py4j/clientserver.py\u001b[0m in \u001b[0;36msend_command\u001b[0;34m(self, command)\u001b[0m\n\u001b[1;32m    473\u001b[0m         \u001b[0;32mtry\u001b[0m\u001b[0;34m:\u001b[0m\u001b[0;34m\u001b[0m\u001b[0;34m\u001b[0m\u001b[0m\n\u001b[1;32m    474\u001b[0m             \u001b[0;32mwhile\u001b[0m \u001b[0;32mTrue\u001b[0m\u001b[0;34m:\u001b[0m\u001b[0;34m\u001b[0m\u001b[0;34m\u001b[0m\u001b[0m\n\u001b[0;32m--> 475\u001b[0;31m                 \u001b[0manswer\u001b[0m \u001b[0;34m=\u001b[0m \u001b[0msmart_decode\u001b[0m\u001b[0;34m(\u001b[0m\u001b[0mself\u001b[0m\u001b[0;34m.\u001b[0m\u001b[0mstream\u001b[0m\u001b[0;34m.\u001b[0m\u001b[0mreadline\u001b[0m\u001b[0;34m(\u001b[0m\u001b[0;34m)\u001b[0m\u001b[0;34m[\u001b[0m\u001b[0;34m:\u001b[0m\u001b[0;34m-\u001b[0m\u001b[0;36m1\u001b[0m\u001b[0;34m]\u001b[0m\u001b[0;34m)\u001b[0m\u001b[0;34m\u001b[0m\u001b[0;34m\u001b[0m\u001b[0m\n\u001b[0m\u001b[1;32m    476\u001b[0m                 \u001b[0mlogger\u001b[0m\u001b[0;34m.\u001b[0m\u001b[0mdebug\u001b[0m\u001b[0;34m(\u001b[0m\u001b[0;34m\"Answer received: {0}\"\u001b[0m\u001b[0;34m.\u001b[0m\u001b[0mformat\u001b[0m\u001b[0;34m(\u001b[0m\u001b[0manswer\u001b[0m\u001b[0;34m)\u001b[0m\u001b[0;34m)\u001b[0m\u001b[0;34m\u001b[0m\u001b[0;34m\u001b[0m\u001b[0m\n\u001b[1;32m    477\u001b[0m                 \u001b[0;31m# Happens when a the other end is dead. There might be an empty\u001b[0m\u001b[0;34m\u001b[0m\u001b[0;34m\u001b[0m\u001b[0;34m\u001b[0m\u001b[0m\n",
            "\u001b[0;32m/usr/lib/python3.7/socket.py\u001b[0m in \u001b[0;36mreadinto\u001b[0;34m(self, b)\u001b[0m\n\u001b[1;32m    587\u001b[0m         \u001b[0;32mwhile\u001b[0m \u001b[0;32mTrue\u001b[0m\u001b[0;34m:\u001b[0m\u001b[0;34m\u001b[0m\u001b[0;34m\u001b[0m\u001b[0m\n\u001b[1;32m    588\u001b[0m             \u001b[0;32mtry\u001b[0m\u001b[0;34m:\u001b[0m\u001b[0;34m\u001b[0m\u001b[0;34m\u001b[0m\u001b[0m\n\u001b[0;32m--> 589\u001b[0;31m                 \u001b[0;32mreturn\u001b[0m \u001b[0mself\u001b[0m\u001b[0;34m.\u001b[0m\u001b[0m_sock\u001b[0m\u001b[0;34m.\u001b[0m\u001b[0mrecv_into\u001b[0m\u001b[0;34m(\u001b[0m\u001b[0mb\u001b[0m\u001b[0;34m)\u001b[0m\u001b[0;34m\u001b[0m\u001b[0;34m\u001b[0m\u001b[0m\n\u001b[0m\u001b[1;32m    590\u001b[0m             \u001b[0;32mexcept\u001b[0m \u001b[0mtimeout\u001b[0m\u001b[0;34m:\u001b[0m\u001b[0;34m\u001b[0m\u001b[0;34m\u001b[0m\u001b[0m\n\u001b[1;32m    591\u001b[0m                 \u001b[0mself\u001b[0m\u001b[0;34m.\u001b[0m\u001b[0m_timeout_occurred\u001b[0m \u001b[0;34m=\u001b[0m \u001b[0;32mTrue\u001b[0m\u001b[0;34m\u001b[0m\u001b[0;34m\u001b[0m\u001b[0m\n",
            "\u001b[0;31mKeyboardInterrupt\u001b[0m: "
          ]
        }
      ]
    },
    {
      "cell_type": "code",
      "source": [
        "top_recs.saveAsTextFile(\"Q1_answer\")"
      ],
      "metadata": {
        "id": "0QaGnQlBNNiE"
      },
      "execution_count": null,
      "outputs": []
    },
    {
      "cell_type": "code",
      "source": [
        "\n",
        "sc.stop()"
      ],
      "metadata": {
        "id": "Aq1XuEBlNOMe"
      },
      "execution_count": null,
      "outputs": []
    },
    {
      "cell_type": "code",
      "source": [
        ""
      ],
      "metadata": {
        "id": "AmpIx8UmNSu8"
      },
      "execution_count": null,
      "outputs": []
    }
  ],
  "metadata": {
    "kernelspec": {
      "display_name": "Python 3",
      "language": "python",
      "name": "python3"
    },
    "language_info": {
      "codemirror_mode": {
        "name": "ipython",
        "version": 3
      },
      "file_extension": ".py",
      "mimetype": "text/x-python",
      "name": "python",
      "nbconvert_exporter": "python",
      "pygments_lexer": "ipython3",
      "version": "3.8.10"
    },
    "colab": {
      "name": "untitled",
      "provenance": []
    }
  },
  "nbformat": 4,
  "nbformat_minor": 0
}