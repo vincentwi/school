{
 "cells": [
  {
   "cell_type": "markdown",
   "metadata": {
    "ein.tags": [
     "worksheet-0"
    ],
    "id": "eOeG1er1Sjum"
   },
   "source": [
    "<h6><center>Big Data Algorithms Techniques & Platforms</center></h6>\n",
    "\n",
    "<h1>\n",
    "<hr style=\" border:none; height:3px;\">\n",
    "<center>Lab Assignment 1: Introduction to MapReduce</center>\n",
    "<hr style=\" border:none; height:3px;\">\n",
    "</h1>\n",
    "\n",
    "\n",
    "# First Part : Introduction - The MapReduce programming model\n",
    "\n",
    "\n",
    "MapReduce is a programming model useful in for big data processing and allows running a parallel and distributed  algorithm on a cluster.\n",
    "\n",
    "A MapReduce algorithm following the MapReduce programming model is composed of:\n",
    "<ul>\n",
    "    <li> a <strong> map </strong>function, which performs a first set of operations on the input data and, usually, produces a set of <strong>key-value</strong> pairs as output;  </li>\n",
    "    <li> a <strong>reduce</strong> function, which performs an operation on data usually coming as output from the <strong> map </strong> function somehow grouped on the basis of the key.</li>\n",
    "</ul>\n",
    "\n",
    "<hr>\n",
    "\n",
    "The MapReduce algorithm can be run on a framework (i.e. Hadoop). In this case the framework will handle the process of\n",
    "running the algorithm on the distributed architecture executing the various tasks in parallel, managing all communications and data transfers between the various parts of the system, and providing for redundancy and fault tolerance. The <code>map()</code> function and the <code>reduce()</code> function will then become <strong>independent procedures</strong> running in multiple instances in parallel.\n",
    "\n",
    "The map and the reduce procedures can be seen then as two main functions: <code>map()</code> et <code>reduce()</code>.\n",
    "\n",
    "### The Map function - how to code it\n",
    "\n",
    "In general the <code>map()</code> function is seen as a function that:\n",
    "<ul>\n",
    "    <li> takes as input one (or a series, set, etc.) key-value pair(s);  </li>\n",
    "    <li> processes each key-value pair according to the procedure it implements;</li>\n",
    "    <li> generates as output zero, one or more key-value pairs.</li>\n",
    "</ul>\n",
    "\n",
    "It is important to notice that:\n",
    "<ul>\n",
    "    <li> if the input data is composed by single values each single value can be seen as a key-value pair having an empty value;  </li>\n",
    "    <li> the types of the input key-value pair and the output key-value pair(s) can be (and often are) different from each other;</li>\n",
    "    <li> the output key-value pair (or key-value pairs) can have a dummy key;</li>\n",
    "    <li> also the output key-value pair can have an empty/dummy value.</li>\n",
    "</ul>\n",
    "\n",
    "<hr>\n",
    "\n",
    "In the example shown in the slides the application is counting the number of occurrences of each word in the provided file. The map function would take as input a single line. This single line can be seen as a key-value pair having as key the whole line and as value an empty value. The map function will break the line into words and output a key-value pair for each word. The key will be the string representing the word and the value will be the integer 1. \n",
    "\n",
    "\n",
    "### The Shuffle function - how to code it\n",
    "Between the <code>map()</code> and <code>reduce()</code> functions, the data are shuffled in order to move together data sharing the same key.\n",
    "Data will be then processed by the <code>reduce()</code> function. \n",
    "When you run a MapReduce procedure on a framework the shuffle operation is fully and transparently handled by the framework. This means that the coding of this function can be skipped.\n",
    "\n",
    "<hr>\n",
    "\n",
    "In the example the shuffle operation is going to put together the key-value pairs sharing the same key, then all the key-value pairs that share the same word.\n",
    "\n",
    "\n",
    "### The Reduce function - how to code it\n",
    "The <code>reduce()</code> function applies a procedure on all the pairs that share the same key.  \n",
    "\n",
    "It is important to notice that:\n",
    "<ul>\n",
    "    <li> the reduce function produces zero or more outputs for each <strong>group</strong> of key-value pairs  </li>\n",
    "    <li> the type of the output can be different from the input and can be also one or a set of key-value pair(s);</li>\n",
    "    <li> even in this case the key-value pair can have an empty/dummy value.</li>\n",
    "</ul>\n",
    "\n",
    "<hr>\n",
    "\n",
    "In the word count example, the reduce function takes the input values, sums them, and generates a single output containing a set of key-value pairs having as key the value of each word and as value the final sum. \n",
    "\n",
    "Notice that the global result is composed of all the counts made by the different reduce instances. We can think a set of different reduce instances that are processing in parallel data. The last step will group the partial result and will give the final count.\n",
    "\n",
    "\n",
    "\n"
   ]
  },
  {
   "cell_type": "markdown",
   "metadata": {
    "id": "U0PufSejrRa2"
   },
   "source": [
    "# <strong>Example</strong>\n",
    "### Counting global number of integers\n",
    "\n",
    "\n",
    "As first step you have as input some integers that are stored in multiple lists.\n",
    "\n",
    "Suppose that you have as input these lists: \n",
    "\n",
    "<code>\n",
    "a = [1, 2, 4.3, 3] <br>\n",
    "b = [4, 5, 1.2, 6, 7] <br>\n",
    "c = [8, 9, 5.2, 1, 2, 3] <br>\n",
    "</code>\n",
    "\n",
    "A possible solution can run two steps:\n",
    "\n",
    "<ul>\n",
    "    <li> a <code>map()</code> function that verifies if a number is an integer and *gives* as output a key-value pair for each integer in each list; </li>\n",
    "<code>\n",
    "(_,1), (_,1), (_,1) <br>\n",
    "(_,1), (_,1), (_,1), (_,1) <br>\n",
    "(_,1), (_,1), (_,1), (_,1), (_,1) <br>\n",
    "</code>\n",
    "with the dummy key \"_\". \n",
    "    <li> a <code>reduce()</code> function that adds the partial results coming from the map (using the dummy key) and returns 12.</li>\n",
    "</ul>\n",
    "\n",
    "### Improved counting global number of integers\n",
    "\n",
    "A possible solution can run two steps:\n",
    "\n",
    "<ul>\n",
    "    <li> a <code>map()</code> function that verifies if a number is an integer and *gives* as output the number of integer elements in each list; </li>\n",
    "<code>\n",
    "(_,3) <br>\n",
    "(_,4) <br>\n",
    "(_,5) <br>\n",
    "</code>\n",
    "with the dummy key \"_\". \n",
    "    <li> a <code>reduce()</code> function that adds the partial results coming from the map (using the dummy key) and returns 12.</li>\n",
    "</ul>\n",
    "\n",
    "Notice that in this case the map function is checking and counting for each list. \n",
    "\n",
    "\n"
   ]
  },
  {
   "cell_type": "markdown",
   "metadata": {
    "id": "NXzeI3L-vrJk"
   },
   "source": [
    "#Exercises \n",
    "\n",
    "In this first series of exercises we will learn how to write programs according to the MapReduce paradigm.\n",
    "\n",
    "##Important \n",
    "For this lab <strong> do not use </strong> the native functions <code>map()</code> and <code> reduce()</code> of Python."
   ]
  },
  {
   "cell_type": "markdown",
   "metadata": {
    "id": "KTePkMCiSjun"
   },
   "source": [
    "## <strong> Exercise 1 </strong>\n",
    "### Counting even and odd numbers\n",
    "\n",
    "\n",
    "\n",
    "\n",
    "\n",
    "<p align=\"justify\">\n",
    "<font size=\"3\">\n",
    "Suppose that we have a file that contains multiple lines of integers. We must find how many even and how many odd numbers are present in the file.\n",
    "\n",
    "We can implement a MapReduce procedure. \n",
    "\n",
    "\n",
    "<ol>\n",
    "    <li> Define a map function that for each odd number produces a key-value pair <code>(o,1)</code> and for each even number produces <code>(e,1)</code>.</li>\n",
    "    <li> Define a reduce function that adds the values. </li>\n",
    "  </ol>\n",
    "</font>\n",
    "</p>\n",
    "\n",
    "\n",
    "\n",
    "### Step 1 - <code>map()</code>\n",
    "\n",
    "\n",
    "<p align=\"justify\">\n",
    "<font size=\"3\">\n",
    "We can encode each line of the document as a list of integers.\n",
    "The map function will then take as input this list of integers and we are going to define a Python function that generates, given a list of integer, a pair <code>(o,1)</code> for each odd number and a pair <code>(e,1)</code> for each even number.  \n",
    "\n",
    "Suppose that the file contains the following lines:\n",
    "<font size=\"4\">\n",
    "```\n",
    "1 2 3 3\n",
    "\n",
    "3 4 4\n",
    "\n",
    "5 6 7\n",
    "\n",
    "9 8 7 4\n",
    "```\n",
    "</font>\n",
    "In this example for the first line we will have\n",
    "\n",
    "<code>(o,1), (e,1), (o,1), (o,1)</code>\n",
    "\n",
    "For the second line:\n",
    "\n",
    "<code>(o,1), (e,1), (e,1)</code>\n",
    "\n",
    "etc.\n",
    "\n",
    "In order to read the line you can use the function <code>array_reader</code> that takes as input a file name and reads the file:\n",
    "\n",
    "</font>\n",
    "</p>\n",
    "\n",
    "\n"
   ]
  },
  {
   "cell_type": "code",
   "execution_count": 9,
   "metadata": {
    "id": "EBoKOEIpAuZK"
   },
   "outputs": [],
   "source": [
    "# an array_reader function \n",
    "# input: the finename to be read\n",
    "# output: a list containing a list of numbers for each line \n",
    "def array_reader(filename):\n",
    "    numbers = [line.strip() for line in open(filename)]\n",
    "    newnumbers = []\n",
    "    for ln in numbers :\n",
    "        newnumbers.append([int(i) for i in ln.split(\" \")])\n",
    "    return (newnumbers)"
   ]
  },
  {
   "cell_type": "code",
   "execution_count": 10,
   "metadata": {
    "colab": {
     "base_uri": "https://localhost:8080/"
    },
    "id": "trRDY4haSjuo",
    "outputId": "3617336e-80ce-46a1-ce32-b06b437f7adc"
   },
   "outputs": [
    {
     "name": "stdout",
     "output_type": "stream",
     "text": [
      "[[('o', 1), ('e', 1), ('o', 1), ('o', 1)], [('o', 1), ('e', 1), ('e', 1)], [('o', 1), ('e', 1), ('o', 1)], [('o', 1), ('e', 1), ('o', 1), ('e', 1)]]\n"
     ]
    }
   ],
   "source": [
    "# The proposed solution:\n",
    "# 1) in the map operation creates key-value pairs of the form ('o', 1) ('o', 1) in the map operation according to the input value\n",
    "\n",
    "def map_odd_even_sol(array):\n",
    "    pairs = []\n",
    "    for l in array :\n",
    "        resPart = []\n",
    "        for num in l :\n",
    "            if (num % 2 == 1) :\n",
    "                resPart.append(('o',1)) \n",
    "            else :\n",
    "                resPart.append(('e',1))\n",
    "        pairs.append(resPart)\n",
    "    return (pairs)\n",
    "\n",
    "array_numbers = array_reader(\"numbers.txt\")\n",
    "res = map_odd_even_sol(array_numbers)\n",
    "print(res)"
   ]
  },
  {
   "cell_type": "markdown",
   "metadata": {
    "id": "jFrNBM1PSjus"
   },
   "source": [
    "How can we improve our function?"
   ]
  },
  {
   "cell_type": "code",
   "execution_count": 7,
   "metadata": {
    "colab": {
     "base_uri": "https://localhost:8080/"
    },
    "id": "yEJyRZplaNT4",
    "outputId": "cd8fcca3-1b03-4d2d-cc2e-ca6ebaddfb82"
   },
   "outputs": [
    {
     "name": "stdout",
     "output_type": "stream",
     "text": [
      "[[('o', 1), ('e', 1), ('o', 1), ('o', 1)], [('o', 1), ('e', 1), ('e', 1)], [('o', 1), ('e', 1), ('o', 1)], [('o', 1), ('e', 1), ('o', 1), ('e', 1)]]\n"
     ]
    }
   ],
   "source": [
    "#From python point of view:\n",
    "def map_odd_even_simple_sol(array):\n",
    "    res = []\n",
    "    for a in array:\n",
    "        res.append([('o',1) if (num % 2 == 1) else ('e',1) for num in a])\n",
    "    return res\n",
    "\n",
    "array_numbers = array_reader(\"numbers.txt\")\n",
    "res = map_odd_even_simple_sol(array_numbers)\n",
    "print(res)\n"
   ]
  },
  {
   "cell_type": "code",
   "execution_count": 11,
   "metadata": {
    "colab": {
     "base_uri": "https://localhost:8080/"
    },
    "id": "finq5FnBSjus",
    "outputId": "4007e4c4-c853-4894-e8ee-81aed9157a8e"
   },
   "outputs": [
    {
     "name": "stdout",
     "output_type": "stream",
     "text": [
      "[[[('o', 1)], [('e', 1)], [('o', 1)], [('o', 1)]], [[('o', 1)], [('e', 1)], [('e', 1)]], [[('o', 1)], [('e', 1)], [('o', 1)]], [[('o', 1)], [('e', 1)], [('o', 1)], [('e', 1)]]]\n"
     ]
    }
   ],
   "source": [
    "\n",
    "#From conceptual point of view it is important to divide the map operation and the scan\n",
    "# of each array:\n",
    "def map_odd_even_map_step(a):\n",
    "    res = []\n",
    "    for num in a:\n",
    "        res.append([('o',1) if (num % 2 == 1) else ('e',1)])\n",
    "    return res\n",
    "\n",
    "def map_odd_even_separated_map(array):\n",
    "    res = []\n",
    "    for a in array:\n",
    "        res.append(map_odd_even_map_step(a))\n",
    "    return res\n",
    "        \n",
    "array_numbers = array_reader(\"numbers.txt\")\n",
    "res = map_odd_even_separated_map(array_numbers)\n",
    "print(res)"
   ]
  },
  {
   "cell_type": "markdown",
   "metadata": {
    "id": "iqa7Q8TASjuu"
   },
   "source": [
    "### Step 2 - <code>shuffle()</code>\n",
    "\n",
    "<p align=\"justify\">\n",
    "<font size=\"3\">\n",
    "Here we are going to define a functions that groups the pairs according to the values of the key.\n",
    "\n",
    "We have a list of list of pairs:\n",
    "\n",
    "<code>[[(o, 1), (e, 1), (o,1), (e,1)], [(o, 1),(e,1),(e,1)], [(o, 1), (e, 1), (o,1)], [(o, 1), (e, 1), (o,1), (e,1)]]</code>\n",
    "\n",
    "and we have to create two lists of pairs:\n",
    "\n",
    "<code>[[(o, 1), (o, 1), (o, 1), (o, 1), (o, 1), (o, 1), (o, 1)], [(e, 1), (e, 1), (e, 1), (e, 1), (e, 1), (e, 1), (e, 1)]]</code>\n",
    "\n",
    "</font>\n",
    "</p>\n",
    "\n"
   ]
  },
  {
   "cell_type": "code",
   "execution_count": null,
   "metadata": {
    "colab": {
     "base_uri": "https://localhost:8080/"
    },
    "id": "YA5It5kQSjuv",
    "outputId": "4d41b94b-edd1-4cd4-b78f-b49991b5bc97",
    "scrolled": true
   },
   "outputs": [
    {
     "name": "stdout",
     "output_type": "stream",
     "text": [
      "[[('o', 1), ('o', 1), ('o', 1), ('o', 1), ('o', 1), ('o', 1), ('o', 1), ('o', 1)], [('e', 1), ('e', 1), ('e', 1), ('e', 1), ('e', 1), ('e', 1)]]\n"
     ]
    }
   ],
   "source": [
    "# The proposed solution:\n",
    "# 2) in the shuffle operation groups the key-value pairs according to the key\n",
    "\n",
    "def shuffle_odd_even_sol(pairs):\n",
    "    flat = [val for sublist in pairs for val in sublist]\n",
    "    odd = []\n",
    "    even = []\n",
    "    for pair in flat :\n",
    "        if (pair[0] == 'o') :\n",
    "            odd.append(pair)\n",
    "        else :\n",
    "            even.append(pair)\n",
    "    result = []\n",
    "    result.append(odd)\n",
    "    result.append(even)\n",
    "    return (result)\n",
    "\n",
    "res = shuffle_odd_even_sol(map_odd_even_sol(array_numbers))\n",
    "print(res)"
   ]
  },
  {
   "cell_type": "markdown",
   "metadata": {
    "id": "d_cZDMJbSjux"
   },
   "source": [
    "### Step 3 - <code>reduce()</code>\n",
    "\n",
    "<p align=\"justify\">\n",
    "<font size=\"3\">\n",
    "Here we are going to define the function that it is going to produce the final result. \n",
    "We are going to run the reduce function for each key (here for each different group, then twice).\n",
    "</font>\n",
    "</p>\n"
   ]
  },
  {
   "cell_type": "code",
   "execution_count": null,
   "metadata": {
    "colab": {
     "base_uri": "https://localhost:8080/"
    },
    "id": "AZXx0VRVSjux",
    "outputId": "f4e46a84-3f9e-47fb-d5dc-7f6186511a64",
    "scrolled": true
   },
   "outputs": [
    {
     "name": "stdout",
     "output_type": "stream",
     "text": [
      "('o', 8)\n",
      "('e', 6)\n"
     ]
    }
   ],
   "source": [
    "# The proposed solution :\n",
    "# 3) in the reduce operation counts the number of key-value pairs producing the result\n",
    "\n",
    "def reduce_sol(pairs):\n",
    "    return (pairs[0][0],len(pairs))\n",
    "\n",
    "#Provide here the code that calls your reduce function according to your implementation\n",
    "for a in shuffle_odd_even_sol(map_odd_even_sol(array_numbers)):\n",
    "    print(reduce_sol(a))"
   ]
  },
  {
   "cell_type": "markdown",
   "metadata": {
    "id": "Rk34RU8JSjuz"
   },
   "source": [
    "## <strong>Exercise 2</strong>\n",
    "### A simple program for counting occurrences\n",
    "\n",
    "<p align=\"justify\">\n",
    "<font size=\"3\">\n",
    "Suppose now that we want to count the number of occurrences of each number as we did for the file containing words.\n",
    "<font size=\"4\">    \n",
    "\n",
    "```    \n",
    "1 2 3 3\n",
    "\n",
    "3 4 4\n",
    "\n",
    "5 6 7\n",
    "\n",
    "9 8 7 4\n",
    "```\n",
    "\n",
    "</font>\n",
    "</font>\n",
    "</p>\n",
    "\n",
    "\n",
    "\n",
    "\n",
    "<p align=\"justify\">\n",
    "<font size=\"3\">\n",
    "For our file we will have as result:\n",
    "    \n",
    "<code>[[1, 1], [2, 1], [3, 2], [4, 4], [5, 1], [6, 1], [7, 2], [8, 1], [9, 1]]</code>\n",
    "\n",
    "</font>\n",
    "</p>\n",
    "\n",
    "\n",
    "\n",
    "\n",
    "\n",
    "<p align=\"justify\">\n",
    "<font size=\"3\">\n",
    "We can go again step by step:\n",
    "\n",
    "\n",
    "\n",
    "<ol>\n",
    "<li> Define a function that produces pairs for each line </li>\n",
    "    <code>[(1, 1), (2, 1), (3, 1), (4, 1), (3, 1), (4, 1), (4,1), (5, 1), (6, 1), (7, 1), (9, 1), ...]</code>\n",
    "\n",
    "<li> define a function that shuffles and groups in general according to the key </li>\n",
    "    <code>[[[1, 1]], [[2, 1]], [[3, 1], [3, 1]], [[4, 1], [4, 1]], ...]</code>\n",
    "\n",
    "<li> define a function reduce that sums up the results </li>\n",
    "    <code>[[1, 1], [2, 1], [3, 2], [4, 4], [5, 1], [6, 1], [7, 2], [8, 1], [9, 1]]</code>\n",
    "\n",
    "</ol>\n",
    "We try to reuse the functions previously defined. \n",
    "</font>\n",
    "</p>\n",
    "\n",
    "\n",
    "\n",
    "### Step 1 - map()\n",
    "<p align=\"justify\">\n",
    "<font size=\"3\">\n",
    "We are going to define a Python function that generates, given a list of list of integers a pair (n,1) for each element\n",
    "of the list. \n",
    "\n",
    "\n",
    "<font size=\"4\">\n",
    "\n",
    "```\n",
    "1 2 3 4\n",
    "\n",
    "3 4 4\n",
    "\n",
    "5 6 7\n",
    "\n",
    "9 8 7 4\n",
    "```\n",
    "</font>\n",
    "</font>\n",
    "</p>\n",
    "<p align=\"justify\">\n",
    "<font size=\"3\">\n",
    "For the first line we will have: \n",
    "</font>\n",
    "</p>\n",
    "\n",
    "<code>(1,1), (2,1), (3,1), (4,1)</code>\n",
    "\n",
    "\n",
    "\n",
    "<p align=\"justify\">\n",
    "<font size=\"3\">\n",
    "For the second:\n",
    "</font>\n",
    "</p>\n",
    "\n",
    "<code>(3,1), (4,1), (4,1)</code>\n",
    "\n",
    "etc.\n",
    "\n"
   ]
  },
  {
   "cell_type": "code",
   "execution_count": null,
   "metadata": {
    "colab": {
     "base_uri": "https://localhost:8080/"
    },
    "id": "ved9CtvMSju0",
    "outputId": "b0fbc0ee-3f3e-4c99-8a48-b1d8dd9f76a3",
    "scrolled": true
   },
   "outputs": [
    {
     "name": "stdout",
     "output_type": "stream",
     "text": [
      "[(1, 1), (2, 1), (3, 1), (3, 1), (3, 1), (4, 1), (4, 1), (5, 1), (6, 1), (7, 1), (9, 1), (8, 1), (7, 1), (4, 1)]\n"
     ]
    }
   ],
   "source": [
    "# The map operation produces a set of key-value pairs. One key-value pair is produced for \n",
    "# each input number. The key is the input number and the value is 1.\n",
    "\n",
    "def map_num_counter_sol(array):\n",
    "    numPairs = []\n",
    "    for num in array :\n",
    "      numPairs.append((num,1))\n",
    "    return (numPairs)\n",
    "\n",
    "array_numbers = array_reader(\"numbers.txt\")\n",
    "res = []\n",
    "for line in array_numbers :\n",
    "  res += map_num_counter_sol(line)\n",
    "print(res)\n"
   ]
  },
  {
   "cell_type": "markdown",
   "metadata": {
    "id": "oe-FkbgCSju2",
    "scrolled": true
   },
   "source": [
    "\n",
    "### Step 2 - <code>shuffle()</code>\n",
    "\n",
    "<p align=\"justify\">\n",
    "<font size=\"3\">\n",
    "In this function we are going to group according to the integer in the key and we can store the result in a dictionary.\n",
    "</font>\n",
    "</p>\n",
    "\n"
   ]
  },
  {
   "cell_type": "code",
   "execution_count": null,
   "metadata": {
    "colab": {
     "base_uri": "https://localhost:8080/"
    },
    "id": "gnHyNaXzSju2",
    "outputId": "4f369acf-24cf-4c78-c82b-8fa310d1972f"
   },
   "outputs": [
    {
     "name": "stdout",
     "output_type": "stream",
     "text": [
      "defaultdict(<class 'list'>, {1: [1], 2: [1], 3: [1, 1, 1], 4: [1, 1, 1], 5: [1], 6: [1], 7: [1, 1], 9: [1], 8: [1]})\n"
     ]
    }
   ],
   "source": [
    "# The shuffle operation groups the key-value pairs according to the key. Here we use a dictionary.  For each different number we find in the computation\n",
    "# we create an item in the dictionary and we add one occurrence of the value of the key-value pair (the number 1 in this case) to the value of\n",
    "# the the item. \n",
    "\n",
    "from collections import defaultdict\n",
    "\n",
    "def shuffle_pairs_sol(input) :\n",
    "    d = defaultdict(list)\n",
    "    for k, v in input:\n",
    "        d[k].append(v)\n",
    "    return d\n",
    "\n",
    "res = shuffle_pairs_sol(res)\n",
    "print(res)"
   ]
  },
  {
   "cell_type": "markdown",
   "metadata": {
    "id": "lYM8qhAuSju5",
    "scrolled": true
   },
   "source": [
    "\n",
    "### Step 3 - <code>reduce()</code>\n",
    "\n",
    "<p align=\"justify\">\n",
    "<font size=\"3\">\n",
    "Here we are going to define a function that does the sum:\n",
    "</font>\n",
    "</p>\n",
    "\n"
   ]
  },
  {
   "cell_type": "code",
   "execution_count": null,
   "metadata": {
    "colab": {
     "base_uri": "https://localhost:8080/"
    },
    "id": "4s7hYmDwSju5",
    "outputId": "8d7936c7-adf1-4ced-c879-86c9782f63dc"
   },
   "outputs": [
    {
     "name": "stdout",
     "output_type": "stream",
     "text": [
      "[(1, 1), (2, 1), (3, 3), (4, 3), (5, 1), (6, 1), (7, 2), (9, 1), (8, 1)]\n"
     ]
    }
   ],
   "source": [
    "#The reduce operation just sum-up the list of the values associated with each item.\n",
    "\n",
    "def reduce_num_counter_sol(dict) :\n",
    "    res = []\n",
    "    for key in dict:\n",
    "      cnum = sum(dict[key])\n",
    "      res.append((key,cnum))\n",
    "    return res\n",
    "\n",
    "res = reduce_num_counter_sol(res)\n",
    "print(res)"
   ]
  },
  {
   "cell_type": "markdown",
   "metadata": {
    "id": "mS8xi0BRSju7"
   },
   "source": [
    "## <strong> Exercise 3</strong>\n",
    "###  Inverted index\n",
    "\n",
    "<p align=\"justify\">\n",
    "<font size=\"3\">\n",
    "In this exercise, we want to create an inverted index. An inverted index is an index that associates each word to the list of the file names in which the word occurs in. \n",
    "</font>\n",
    "</p>\n",
    "\n",
    "<p align=\"justify\">\n",
    "<font size=\"3\">\n",
    "We are going to read the file <code>books.json</code>. This file contains some lines. Each line represents a different file containing a book.  We are going to provide you the function for reading this file. The function will ignore the detail of the representation of each book. \n",
    "</font>\n",
    "</p>\n",
    "\n",
    "\n",
    "\n",
    "### The function that reads the json file\n",
    "\n",
    "<p align=\"justify\">\n",
    "<font size=\"3\">\n",
    "Python provides functions for reading JSON files and producing <code>(dict, list)</code> for what has been read. The function reads the data stored in the book.json file\n",
    "\n",
    "Moreover the <code>yield()</code> instruction allows to code a generator that produces the data only when the function is called (the <code> yield </code> function can be seen as a <code>return</code>-once statement that moreover freezes the state of the execution till the next run). \n",
    "</font>\n",
    "</p>\n",
    "\n",
    " "
   ]
  },
  {
   "cell_type": "code",
   "execution_count": null,
   "metadata": {
    "colab": {
     "base_uri": "https://localhost:8080/"
    },
    "id": "wN8-P1PUSju7",
    "outputId": "a9de5937-4e41-4a24-a399-50fb51894aae"
   },
   "outputs": [
    {
     "name": "stdout",
     "output_type": "stream",
     "text": [
      "[['milton-paradise.txt', \"[ Paradise Lost by John Milton 1667 ] Book I Of Man ' s first disobedience , and the fruit Of that forbidden tree whose mortal taste Brought death into the World , and all our woe , With loss of Eden , till one greater Man Restore us , and regain the blissful seat , Sing , Heavenly Muse , that , on the secret top Of Oreb , or of Sinai , didst inspire That shepherd who first taught the chosen seed In the beginning how the heavens and earth Rose out of Chaos : or , if Sion hill Delight thee more , and Siloa ' s brook that flowed Fast by the oracle of God , I thence Invoke thy aid to my adventurous song , That with no middle flight intends to soar Above th ' Aonian mount , while it pursues Things unattempted yet in prose or rhyme .\"], ['edgeworth-parents.txt', \"[ The Parent ' s Assistant , by Maria Edgeworth ] THE ORPHANS . Near the ruins of the castle of Rossmore , in Ireland , is a small cabin , in which there once lived a widow and her four children . As long as she was able to work , she was very industrious , and was accounted the best spinner in the parish ; but she overworked herself at last , and fell ill , so that she could not sit to her wheel as she used to do , and was obliged to give it up to her eldest daughter , Mary .\"], ['austen-emma.txt', \"[ Emma by Jane Austen 1816 ] VOLUME I CHAPTER I Emma Woodhouse , handsome , clever , and rich , with a comfortable home and happy disposition , seemed to unite some of the best blessings of existence ; and had lived nearly twenty - one years in the world with very little to distress or vex her . She was the youngest of the two daughters of a most affectionate , indulgent father ; and had , in consequence of her sister ' s marriage , been mistress of his house from a very early period . Her mother had died too long ago for her to have more than an indistinct remembrance of her caresses ; and her place had been supplied by an excellent woman as governess , who had fallen little short of a mother in affection .\"], ['chesterton-ball.txt', '[ The Ball and The Cross by G . K . Chesterton 1909 ] I . A DISCUSSION SOMEWHAT IN THE AIR The flying ship of Professor Lucifer sang through the skies like a silver arrow ; the bleak white steel of it , gleaming in the bleak blue emptiness of the evening . That it was far above the earth was no expression for it ; to the two men in it , it seemed to be far above the stars . The professor had himself invented the flying machine , and had also invented nearly everything in it .'], ['bible-kjv.txt', '[ The King James Bible ] The Old Testament of the King James Bible The First Book of Moses : Called Genesis 1 : 1 In the beginning God created the heaven and the earth . 1 : 2 And the earth was without form , and void ; and darkness was upon the face of the deep . And the Spirit of God moved upon the face of the waters . 1 : 3 And God said , Let there be light : and there was light . 1 : 4 And God saw the light , that it was good : and God divided the light from the darkness . 1 : 5 And God called the light Day , and the darkness he called Night . And the evening and the morning were the first day .'], ['chesterton-thursday.txt', '[ The Man Who Was Thursday by G . K . Chesterton 1908 ] To Edmund Clerihew Bentley A cloud was on the mind of men , and wailing went the weather , Yea , a sick cloud upon the soul when we were boys together . Science announced nonentity and art admired decay ; The world was old and ended : but you and I were gay ; Round us in antic order their crippled vices came -- Lust that had lost its laughter , fear that had lost its shame . Like the white lock of Whistler , that lit our aimless gloom , Men showed their own white feather as proudly as a plume . Life was a fly that faded , and death a drone that stung ; The world was very old indeed when you and I were young .'], ['blake-poems.txt', '[ Poems by William Blake 1789 ] SONGS OF INNOCENCE AND OF EXPERIENCE and THE BOOK of THEL SONGS OF INNOCENCE INTRODUCTION Piping down the valleys wild , Piping songs of pleasant glee , On a cloud I saw a child , And he laughing said to me : \" Pipe a song about a Lamb !\" So I piped with merry cheer . \" Piper , pipe that song again ;\" So I piped : he wept to hear . \" Drop thy pipe , thy happy pipe ; Sing thy songs of happy cheer :!\" So I sang the same again , While he wept with joy to hear . \" Piper , sit thee down and write In a book , that all may read .\" So he vanish \\' d from my sight ; And I pluck \\' d a hollow reed , And I made a rural pen , And I stain \\' d the water clear , And I wrote my happy songs Every child may joy to hear .'], ['shakespeare-caesar.txt', '[ The Tragedie of Julius Caesar by William Shakespeare 1599 ] Actus Primus . Scoena Prima . Enter Flauius , Murellus , and certaine Commoners ouer the Stage . Flauius . Hence : home you idle Creatures , get you home : Is this a Holiday ? What , know you not ( Being Mechanicall ) you ought not walke Vpon a labouring day , without the signe Of your Profession ? Speake , what Trade art thou ? Car . Why Sir , a Carpenter Mur . Where is thy Leather Apron , and thy Rule ? What dost thou with thy best Apparrell on ? You sir , what Trade are you ? Cobl . Truely Sir , in respect of a fine Workman , I am but as you would say , a Cobler Mur . But what Trade art thou ? Answer me directly Cob . A Trade Sir , that I hope I may vse , with a safe Conscience , which is indeed Sir , a Mender of bad soules Fla .'], ['whitman-leaves.txt', \"[ Leaves of Grass by Walt Whitman 1855 ] Come , said my soul , Such verses for my Body let us write , ( for we are one ,) That should I after return , Or , long , long hence , in other spheres , There to some group of mates the chants resuming , ( Tallying Earth ' s soil , trees , winds , tumultuous waves ,) Ever with pleas ' d smile I may keep on , Ever and ever yet the verses owning -- as , first , I here and now Signing for Soul and Body , set to them my name , Walt Whitman [ BOOK I . INSCRIPTIONS ] } One ' s - Self I Sing One ' s - self I sing , a simple separate person , Yet utter the word Democratic , the word En - Masse .\"], ['melville-moby_dick.txt', '[ Moby Dick by Herman Melville 1851 ] ETYMOLOGY . ( Supplied by a Late Consumptive Usher to a Grammar School ) The pale Usher -- threadbare in coat , heart , body , and brain ; I see him now . He was ever dusting his old lexicons and grammars , with a queer handkerchief , mockingly embellished with all the gay flags of all the known nations of the world . He loved to dust his old grammars ; it somehow mildly reminded him of his mortality .']]\n"
     ]
    }
   ],
   "source": [
    "import json \n",
    "def readData(filename):\n",
    "    with open(filename, mode='r', encoding='utf-8') as file:\n",
    "        for line in file:\n",
    "            record = json.loads(line)\n",
    "            yield(record)\n",
    "print(list(readData('books.json')))"
   ]
  },
  {
   "cell_type": "markdown",
   "metadata": {
    "id": "Tg3-4LU_Sju9"
   },
   "source": [
    "<p align=\"justify\">\n",
    "<font size=\"3\">\n",
    "    \n",
    "You can store the output of the reading in a list where the first element of the list will be the file name and the second element will contain the title and the content of the book.\n",
    "    \n",
    "Now that you have the function that reads the file you can focus on the MapReduce procedure.\n",
    "    \n",
    "The expected output of the MapReduce procedure is a list [] that contains a set of <code>(w, L)</code> elements, where <code>w</code> is a word appearing in at least one text of the given books and <code>L</code> is the list of the names of the files containing <code>w</code> (without repetition).\n",
    "Given this book representation describe a possible implementation of the :\n",
    "    \n",
    "<ol>\n",
    "    <li> <code>map()</code> function that given the text produces a set of key-value pairs</li>\n",
    "    <li> <code>shuffle()</code> function that groups the key-value pairs according to a criteria </li>\n",
    "    <li> <code>reduce()</code> function that produces the final result</li>\n",
    "</ol>\n",
    "detailing all the actions that the <code>map()</code> function and a <code>reduce()</code> functions must perform. \n",
    "</font>"
   ]
  },
  {
   "cell_type": "code",
   "execution_count": null,
   "metadata": {
    "colab": {
     "base_uri": "https://localhost:8080/"
    },
    "id": "fiSieoDPSju-",
    "outputId": "715c49c5-4983-4fe0-8662-8f81c4b9dc4a"
   },
   "outputs": [
    {
     "name": "stdout",
     "output_type": "stream",
     "text": [
      "[('[', ['whitman-leaves.txt', 'edgeworth-parents.txt', 'chesterton-thursday.txt', 'blake-poems.txt', 'milton-paradise.txt', 'melville-moby_dick.txt', 'chesterton-ball.txt', 'shakespeare-caesar.txt', 'austen-emma.txt', 'bible-kjv.txt']), ('Paradise', ['milton-paradise.txt']), ('Lost', ['milton-paradise.txt']), ('by', ['whitman-leaves.txt', 'edgeworth-parents.txt', 'chesterton-thursday.txt', 'blake-poems.txt', 'milton-paradise.txt', 'melville-moby_dick.txt', 'chesterton-ball.txt', 'shakespeare-caesar.txt', 'austen-emma.txt']), ('John', ['milton-paradise.txt']), ('Milton', ['milton-paradise.txt']), ('1667', ['milton-paradise.txt']), (']', ['whitman-leaves.txt', 'edgeworth-parents.txt', 'chesterton-thursday.txt', 'blake-poems.txt', 'milton-paradise.txt', 'melville-moby_dick.txt', 'chesterton-ball.txt', 'shakespeare-caesar.txt', 'austen-emma.txt', 'bible-kjv.txt']), ('Book', ['milton-paradise.txt', 'bible-kjv.txt']), ('I', ['whitman-leaves.txt', 'blake-poems.txt', 'chesterton-thursday.txt', 'milton-paradise.txt', 'melville-moby_dick.txt', 'chesterton-ball.txt', 'shakespeare-caesar.txt', 'austen-emma.txt']), ('Of', ['milton-paradise.txt', 'shakespeare-caesar.txt']), ('Man', ['milton-paradise.txt', 'chesterton-thursday.txt']), (\"'\", ['whitman-leaves.txt', 'edgeworth-parents.txt', 'blake-poems.txt', 'milton-paradise.txt', 'austen-emma.txt']), ('s', ['whitman-leaves.txt', 'milton-paradise.txt', 'edgeworth-parents.txt', 'austen-emma.txt']), ('first', ['whitman-leaves.txt', 'milton-paradise.txt', 'bible-kjv.txt']), ('disobedience', ['milton-paradise.txt']), (',', ['whitman-leaves.txt', 'edgeworth-parents.txt', 'chesterton-thursday.txt', 'blake-poems.txt', 'milton-paradise.txt', 'melville-moby_dick.txt', 'chesterton-ball.txt', 'shakespeare-caesar.txt', 'austen-emma.txt', 'bible-kjv.txt']), ('and', ['whitman-leaves.txt', 'edgeworth-parents.txt', 'chesterton-thursday.txt', 'blake-poems.txt', 'milton-paradise.txt', 'melville-moby_dick.txt', 'chesterton-ball.txt', 'shakespeare-caesar.txt', 'austen-emma.txt', 'bible-kjv.txt']), ('the', ['whitman-leaves.txt', 'edgeworth-parents.txt', 'chesterton-thursday.txt', 'blake-poems.txt', 'milton-paradise.txt', 'melville-moby_dick.txt', 'chesterton-ball.txt', 'shakespeare-caesar.txt', 'austen-emma.txt', 'bible-kjv.txt']), ('fruit', ['milton-paradise.txt']), ('that', ['edgeworth-parents.txt', 'chesterton-thursday.txt', 'blake-poems.txt', 'milton-paradise.txt', 'shakespeare-caesar.txt', 'bible-kjv.txt']), ('forbidden', ['milton-paradise.txt']), ('tree', ['milton-paradise.txt']), ('whose', ['milton-paradise.txt']), ('mortal', ['milton-paradise.txt']), ('taste', ['milton-paradise.txt']), ('Brought', ['milton-paradise.txt']), ('death', ['milton-paradise.txt', 'chesterton-thursday.txt']), ('into', ['milton-paradise.txt']), ('World', ['milton-paradise.txt']), ('all', ['milton-paradise.txt', 'blake-poems.txt', 'melville-moby_dick.txt']), ('our', ['milton-paradise.txt', 'chesterton-thursday.txt']), ('woe', ['milton-paradise.txt']), ('With', ['milton-paradise.txt']), ('loss', ['milton-paradise.txt']), ('of', ['whitman-leaves.txt', 'edgeworth-parents.txt', 'chesterton-thursday.txt', 'blake-poems.txt', 'milton-paradise.txt', 'melville-moby_dick.txt', 'chesterton-ball.txt', 'shakespeare-caesar.txt', 'austen-emma.txt', 'bible-kjv.txt']), ('Eden', ['milton-paradise.txt']), ('till', ['milton-paradise.txt']), ('one', ['whitman-leaves.txt', 'milton-paradise.txt', 'austen-emma.txt']), ('greater', ['milton-paradise.txt']), ('Restore', ['milton-paradise.txt']), ('us', ['whitman-leaves.txt', 'milton-paradise.txt', 'chesterton-thursday.txt']), ('regain', ['milton-paradise.txt']), ('blissful', ['milton-paradise.txt']), ('seat', ['milton-paradise.txt']), ('Sing', ['whitman-leaves.txt', 'milton-paradise.txt', 'blake-poems.txt']), ('Heavenly', ['milton-paradise.txt']), ('Muse', ['milton-paradise.txt']), ('on', ['whitman-leaves.txt', 'milton-paradise.txt', 'chesterton-thursday.txt', 'shakespeare-caesar.txt']), ('secret', ['milton-paradise.txt']), ('top', ['milton-paradise.txt']), ('Oreb', ['milton-paradise.txt']), ('or', ['milton-paradise.txt', 'austen-emma.txt']), ('Sinai', ['milton-paradise.txt']), ('didst', ['milton-paradise.txt']), ('inspire', ['milton-paradise.txt']), ('That', ['whitman-leaves.txt', 'milton-paradise.txt', 'chesterton-ball.txt']), ('shepherd', ['milton-paradise.txt']), ('who', ['milton-paradise.txt', 'austen-emma.txt']), ('taught', ['milton-paradise.txt']), ('chosen', ['milton-paradise.txt']), ('seed', ['milton-paradise.txt']), ('In', ['milton-paradise.txt', 'blake-poems.txt', 'bible-kjv.txt']), ('beginning', ['milton-paradise.txt', 'bible-kjv.txt']), ('how', ['milton-paradise.txt']), ('heavens', ['milton-paradise.txt']), ('earth', ['milton-paradise.txt', 'chesterton-ball.txt', 'bible-kjv.txt']), ('Rose', ['milton-paradise.txt']), ('out', ['milton-paradise.txt']), ('Chaos', ['milton-paradise.txt']), (':', ['blake-poems.txt', 'chesterton-thursday.txt', 'milton-paradise.txt', 'shakespeare-caesar.txt', 'bible-kjv.txt']), ('if', ['milton-paradise.txt']), ('Sion', ['milton-paradise.txt']), ('hill', ['milton-paradise.txt']), ('Delight', ['milton-paradise.txt']), ('thee', ['milton-paradise.txt', 'blake-poems.txt']), ('more', ['milton-paradise.txt', 'austen-emma.txt']), ('Siloa', ['milton-paradise.txt']), ('brook', ['milton-paradise.txt']), ('flowed', ['milton-paradise.txt']), ('Fast', ['milton-paradise.txt']), ('oracle', ['milton-paradise.txt']), ('God', ['milton-paradise.txt', 'bible-kjv.txt']), ('thence', ['milton-paradise.txt']), ('Invoke', ['milton-paradise.txt']), ('thy', ['milton-paradise.txt', 'blake-poems.txt', 'shakespeare-caesar.txt']), ('aid', ['milton-paradise.txt']), ('to', ['whitman-leaves.txt', 'edgeworth-parents.txt', 'blake-poems.txt', 'milton-paradise.txt', 'melville-moby_dick.txt', 'chesterton-ball.txt', 'austen-emma.txt']), ('my', ['whitman-leaves.txt', 'milton-paradise.txt', 'blake-poems.txt']), ('adventurous', ['milton-paradise.txt']), ('song', ['milton-paradise.txt', 'blake-poems.txt']), ('with', ['whitman-leaves.txt', 'blake-poems.txt', 'milton-paradise.txt', 'melville-moby_dick.txt', 'shakespeare-caesar.txt', 'austen-emma.txt']), ('no', ['milton-paradise.txt', 'chesterton-ball.txt']), ('middle', ['milton-paradise.txt']), ('flight', ['milton-paradise.txt']), ('intends', ['milton-paradise.txt']), ('soar', ['milton-paradise.txt']), ('Above', ['milton-paradise.txt']), ('th', ['milton-paradise.txt']), ('Aonian', ['milton-paradise.txt']), ('mount', ['milton-paradise.txt']), ('while', ['milton-paradise.txt']), ('it', ['edgeworth-parents.txt', 'milton-paradise.txt', 'melville-moby_dick.txt', 'chesterton-ball.txt', 'bible-kjv.txt']), ('pursues', ['milton-paradise.txt']), ('Things', ['milton-paradise.txt']), ('unattempted', ['milton-paradise.txt']), ('yet', ['whitman-leaves.txt', 'milton-paradise.txt']), ('in', ['whitman-leaves.txt', 'edgeworth-parents.txt', 'chesterton-thursday.txt', 'milton-paradise.txt', 'melville-moby_dick.txt', 'chesterton-ball.txt', 'shakespeare-caesar.txt', 'austen-emma.txt']), ('prose', ['milton-paradise.txt']), ('rhyme', ['milton-paradise.txt']), ('.', ['whitman-leaves.txt', 'edgeworth-parents.txt', 'chesterton-thursday.txt', 'blake-poems.txt', 'milton-paradise.txt', 'melville-moby_dick.txt', 'chesterton-ball.txt', 'shakespeare-caesar.txt', 'austen-emma.txt', 'bible-kjv.txt']), ('The', ['edgeworth-parents.txt', 'chesterton-thursday.txt', 'melville-moby_dick.txt', 'chesterton-ball.txt', 'shakespeare-caesar.txt', 'bible-kjv.txt']), ('Parent', ['edgeworth-parents.txt']), ('Assistant', ['edgeworth-parents.txt']), ('Maria', ['edgeworth-parents.txt']), ('Edgeworth', ['edgeworth-parents.txt']), ('THE', ['edgeworth-parents.txt', 'chesterton-ball.txt', 'blake-poems.txt']), ('ORPHANS', ['edgeworth-parents.txt']), ('Near', ['edgeworth-parents.txt']), ('ruins', ['edgeworth-parents.txt']), ('castle', ['edgeworth-parents.txt']), ('Rossmore', ['edgeworth-parents.txt']), ('Ireland', ['edgeworth-parents.txt']), ('is', ['edgeworth-parents.txt', 'shakespeare-caesar.txt']), ('a', ['whitman-leaves.txt', 'edgeworth-parents.txt', 'chesterton-thursday.txt', 'blake-poems.txt', 'melville-moby_dick.txt', 'chesterton-ball.txt', 'shakespeare-caesar.txt', 'austen-emma.txt']), ('small', ['edgeworth-parents.txt']), ('cabin', ['edgeworth-parents.txt']), ('which', ['edgeworth-parents.txt', 'shakespeare-caesar.txt']), ('there', ['edgeworth-parents.txt', 'bible-kjv.txt']), ('once', ['edgeworth-parents.txt']), ('lived', ['edgeworth-parents.txt', 'austen-emma.txt']), ('widow', ['edgeworth-parents.txt']), ('her', ['edgeworth-parents.txt', 'austen-emma.txt']), ('four', ['edgeworth-parents.txt']), ('children', ['edgeworth-parents.txt']), ('As', ['edgeworth-parents.txt']), ('long', ['whitman-leaves.txt', 'edgeworth-parents.txt', 'austen-emma.txt']), ('as', ['whitman-leaves.txt', 'edgeworth-parents.txt', 'chesterton-thursday.txt', 'shakespeare-caesar.txt', 'austen-emma.txt']), ('she', ['edgeworth-parents.txt']), ('was', ['edgeworth-parents.txt', 'chesterton-thursday.txt', 'melville-moby_dick.txt', 'chesterton-ball.txt', 'austen-emma.txt', 'bible-kjv.txt']), ('able', ['edgeworth-parents.txt']), ('work', ['edgeworth-parents.txt']), ('very', ['edgeworth-parents.txt', 'austen-emma.txt', 'chesterton-thursday.txt']), ('industrious', ['edgeworth-parents.txt']), ('accounted', ['edgeworth-parents.txt']), ('best', ['edgeworth-parents.txt', 'austen-emma.txt', 'shakespeare-caesar.txt']), ('spinner', ['edgeworth-parents.txt']), ('parish', ['edgeworth-parents.txt']), (';', ['edgeworth-parents.txt', 'chesterton-thursday.txt', 'blake-poems.txt', 'melville-moby_dick.txt', 'chesterton-ball.txt', 'austen-emma.txt', 'bible-kjv.txt']), ('but', ['edgeworth-parents.txt', 'chesterton-thursday.txt', 'shakespeare-caesar.txt']), ('overworked', ['edgeworth-parents.txt']), ('herself', ['edgeworth-parents.txt']), ('at', ['edgeworth-parents.txt']), ('last', ['edgeworth-parents.txt']), ('fell', ['edgeworth-parents.txt']), ('ill', ['edgeworth-parents.txt']), ('so', ['edgeworth-parents.txt']), ('could', ['edgeworth-parents.txt']), ('not', ['edgeworth-parents.txt', 'shakespeare-caesar.txt']), ('sit', ['edgeworth-parents.txt', 'blake-poems.txt']), ('wheel', ['edgeworth-parents.txt']), ('used', ['edgeworth-parents.txt']), ('do', ['edgeworth-parents.txt']), ('obliged', ['edgeworth-parents.txt']), ('give', ['edgeworth-parents.txt']), ('up', ['edgeworth-parents.txt']), ('eldest', ['edgeworth-parents.txt']), ('daughter', ['edgeworth-parents.txt']), ('Mary', ['edgeworth-parents.txt']), ('Emma', ['austen-emma.txt']), ('Jane', ['austen-emma.txt']), ('Austen', ['austen-emma.txt']), ('1816', ['austen-emma.txt']), ('VOLUME', ['austen-emma.txt']), ('CHAPTER', ['austen-emma.txt']), ('Woodhouse', ['austen-emma.txt']), ('handsome', ['austen-emma.txt']), ('clever', ['austen-emma.txt']), ('rich', ['austen-emma.txt']), ('comfortable', ['austen-emma.txt']), ('home', ['austen-emma.txt', 'shakespeare-caesar.txt']), ('happy', ['blake-poems.txt', 'austen-emma.txt']), ('disposition', ['austen-emma.txt']), ('seemed', ['austen-emma.txt', 'chesterton-ball.txt']), ('unite', ['austen-emma.txt']), ('some', ['whitman-leaves.txt', 'austen-emma.txt']), ('blessings', ['austen-emma.txt']), ('existence', ['austen-emma.txt']), ('had', ['austen-emma.txt', 'chesterton-ball.txt', 'chesterton-thursday.txt']), ('nearly', ['austen-emma.txt', 'chesterton-ball.txt']), ('twenty', ['austen-emma.txt']), ('-', ['whitman-leaves.txt', 'austen-emma.txt']), ('years', ['austen-emma.txt']), ('world', ['austen-emma.txt', 'melville-moby_dick.txt', 'chesterton-thursday.txt']), ('little', ['austen-emma.txt']), ('distress', ['austen-emma.txt']), ('vex', ['austen-emma.txt']), ('She', ['austen-emma.txt']), ('youngest', ['austen-emma.txt']), ('two', ['austen-emma.txt', 'chesterton-ball.txt']), ('daughters', ['austen-emma.txt']), ('most', ['austen-emma.txt']), ('affectionate', ['austen-emma.txt']), ('indulgent', ['austen-emma.txt']), ('father', ['austen-emma.txt']), ('consequence', ['austen-emma.txt']), ('sister', ['austen-emma.txt']), ('marriage', ['austen-emma.txt']), ('been', ['austen-emma.txt']), ('mistress', ['austen-emma.txt']), ('his', ['austen-emma.txt', 'melville-moby_dick.txt']), ('house', ['austen-emma.txt']), ('from', ['blake-poems.txt', 'austen-emma.txt', 'bible-kjv.txt']), ('early', ['austen-emma.txt']), ('period', ['austen-emma.txt']), ('Her', ['austen-emma.txt']), ('mother', ['austen-emma.txt']), ('died', ['austen-emma.txt']), ('too', ['austen-emma.txt']), ('ago', ['austen-emma.txt']), ('for', ['whitman-leaves.txt', 'austen-emma.txt', 'chesterton-ball.txt']), ('have', ['austen-emma.txt']), ('than', ['austen-emma.txt']), ('an', ['austen-emma.txt']), ('indistinct', ['austen-emma.txt']), ('remembrance', ['austen-emma.txt']), ('caresses', ['austen-emma.txt']), ('place', ['austen-emma.txt']), ('supplied', ['austen-emma.txt']), ('excellent', ['austen-emma.txt']), ('woman', ['austen-emma.txt']), ('governess', ['austen-emma.txt']), ('fallen', ['austen-emma.txt']), ('short', ['austen-emma.txt']), ('affection', ['austen-emma.txt']), ('Ball', ['chesterton-ball.txt']), ('Cross', ['chesterton-ball.txt']), ('G', ['chesterton-ball.txt', 'chesterton-thursday.txt']), ('K', ['chesterton-ball.txt', 'chesterton-thursday.txt']), ('Chesterton', ['chesterton-ball.txt', 'chesterton-thursday.txt']), ('1909', ['chesterton-ball.txt']), ('A', ['chesterton-ball.txt', 'chesterton-thursday.txt', 'shakespeare-caesar.txt']), ('DISCUSSION', ['chesterton-ball.txt']), ('SOMEWHAT', ['chesterton-ball.txt']), ('IN', ['chesterton-ball.txt']), ('AIR', ['chesterton-ball.txt']), ('flying', ['chesterton-ball.txt']), ('ship', ['chesterton-ball.txt']), ('Professor', ['chesterton-ball.txt']), ('Lucifer', ['chesterton-ball.txt']), ('sang', ['blake-poems.txt', 'chesterton-ball.txt']), ('through', ['chesterton-ball.txt']), ('skies', ['chesterton-ball.txt']), ('like', ['chesterton-ball.txt']), ('silver', ['chesterton-ball.txt']), ('arrow', ['chesterton-ball.txt']), ('bleak', ['chesterton-ball.txt']), ('white', ['chesterton-ball.txt', 'chesterton-thursday.txt']), ('steel', ['chesterton-ball.txt']), ('gleaming', ['chesterton-ball.txt']), ('blue', ['chesterton-ball.txt']), ('emptiness', ['chesterton-ball.txt']), ('evening', ['chesterton-ball.txt', 'bible-kjv.txt']), ('far', ['chesterton-ball.txt']), ('above', ['chesterton-ball.txt']), ('expression', ['chesterton-ball.txt']), ('men', ['chesterton-ball.txt', 'chesterton-thursday.txt']), ('be', ['chesterton-ball.txt', 'bible-kjv.txt']), ('stars', ['chesterton-ball.txt']), ('professor', ['chesterton-ball.txt']), ('himself', ['chesterton-ball.txt']), ('invented', ['chesterton-ball.txt']), ('machine', ['chesterton-ball.txt']), ('also', ['chesterton-ball.txt']), ('everything', ['chesterton-ball.txt']), ('King', ['bible-kjv.txt']), ('James', ['bible-kjv.txt']), ('Bible', ['bible-kjv.txt']), ('Old', ['bible-kjv.txt']), ('Testament', ['bible-kjv.txt']), ('First', ['bible-kjv.txt']), ('Moses', ['bible-kjv.txt']), ('Called', ['bible-kjv.txt']), ('Genesis', ['bible-kjv.txt']), ('1', ['bible-kjv.txt']), ('created', ['bible-kjv.txt']), ('heaven', ['bible-kjv.txt']), ('2', ['bible-kjv.txt']), ('And', ['blake-poems.txt', 'bible-kjv.txt']), ('without', ['shakespeare-caesar.txt', 'bible-kjv.txt']), ('form', ['bible-kjv.txt']), ('void', ['bible-kjv.txt']), ('darkness', ['bible-kjv.txt']), ('upon', ['chesterton-thursday.txt', 'bible-kjv.txt']), ('face', ['bible-kjv.txt']), ('deep', ['bible-kjv.txt']), ('Spirit', ['bible-kjv.txt']), ('moved', ['bible-kjv.txt']), ('waters', ['bible-kjv.txt']), ('3', ['bible-kjv.txt']), ('said', ['whitman-leaves.txt', 'blake-poems.txt', 'bible-kjv.txt']), ('Let', ['bible-kjv.txt']), ('light', ['bible-kjv.txt']), ('4', ['bible-kjv.txt']), ('saw', ['blake-poems.txt', 'bible-kjv.txt']), ('good', ['bible-kjv.txt']), ('divided', ['bible-kjv.txt']), ('5', ['bible-kjv.txt']), ('called', ['bible-kjv.txt']), ('Day', ['bible-kjv.txt']), ('he', ['blake-poems.txt', 'bible-kjv.txt']), ('Night', ['bible-kjv.txt']), ('morning', ['bible-kjv.txt']), ('were', ['chesterton-thursday.txt', 'bible-kjv.txt']), ('day', ['shakespeare-caesar.txt', 'bible-kjv.txt']), ('Who', ['chesterton-thursday.txt']), ('Was', ['chesterton-thursday.txt']), ('Thursday', ['chesterton-thursday.txt']), ('1908', ['chesterton-thursday.txt']), ('To', ['chesterton-thursday.txt']), ('Edmund', ['chesterton-thursday.txt']), ('Clerihew', ['chesterton-thursday.txt']), ('Bentley', ['chesterton-thursday.txt']), ('cloud', ['blake-poems.txt', 'chesterton-thursday.txt']), ('mind', ['chesterton-thursday.txt']), ('wailing', ['chesterton-thursday.txt']), ('went', ['chesterton-thursday.txt']), ('weather', ['chesterton-thursday.txt']), ('Yea', ['chesterton-thursday.txt']), ('sick', ['chesterton-thursday.txt']), ('soul', ['whitman-leaves.txt', 'chesterton-thursday.txt']), ('when', ['chesterton-thursday.txt']), ('we', ['whitman-leaves.txt', 'chesterton-thursday.txt']), ('boys', ['chesterton-thursday.txt']), ('together', ['chesterton-thursday.txt']), ('Science', ['chesterton-thursday.txt']), ('announced', ['chesterton-thursday.txt']), ('nonentity', ['chesterton-thursday.txt']), ('art', ['chesterton-thursday.txt', 'shakespeare-caesar.txt']), ('admired', ['chesterton-thursday.txt']), ('decay', ['chesterton-thursday.txt']), ('old', ['chesterton-thursday.txt', 'melville-moby_dick.txt']), ('ended', ['chesterton-thursday.txt']), ('you', ['chesterton-thursday.txt', 'shakespeare-caesar.txt']), ('gay', ['chesterton-thursday.txt', 'melville-moby_dick.txt']), ('Round', ['chesterton-thursday.txt']), ('antic', ['chesterton-thursday.txt']), ('order', ['chesterton-thursday.txt']), ('their', ['chesterton-thursday.txt']), ('crippled', ['chesterton-thursday.txt']), ('vices', ['chesterton-thursday.txt']), ('came', ['chesterton-thursday.txt']), ('--', ['whitman-leaves.txt', 'chesterton-thursday.txt', 'melville-moby_dick.txt']), ('Lust', ['chesterton-thursday.txt']), ('lost', ['chesterton-thursday.txt']), ('its', ['chesterton-thursday.txt']), ('laughter', ['chesterton-thursday.txt']), ('fear', ['chesterton-thursday.txt']), ('shame', ['chesterton-thursday.txt']), ('Like', ['chesterton-thursday.txt']), ('lock', ['chesterton-thursday.txt']), ('Whistler', ['chesterton-thursday.txt']), ('lit', ['chesterton-thursday.txt']), ('aimless', ['chesterton-thursday.txt']), ('gloom', ['chesterton-thursday.txt']), ('Men', ['chesterton-thursday.txt']), ('showed', ['chesterton-thursday.txt']), ('own', ['chesterton-thursday.txt']), ('feather', ['chesterton-thursday.txt']), ('proudly', ['chesterton-thursday.txt']), ('plume', ['chesterton-thursday.txt']), ('Life', ['chesterton-thursday.txt']), ('fly', ['chesterton-thursday.txt']), ('faded', ['chesterton-thursday.txt']), ('drone', ['chesterton-thursday.txt']), ('stung', ['chesterton-thursday.txt']), ('indeed', ['chesterton-thursday.txt', 'shakespeare-caesar.txt']), ('young', ['chesterton-thursday.txt']), ('Poems', ['blake-poems.txt']), ('William', ['blake-poems.txt', 'shakespeare-caesar.txt']), ('Blake', ['blake-poems.txt']), ('1789', ['blake-poems.txt']), ('SONGS', ['blake-poems.txt']), ('OF', ['blake-poems.txt']), ('INNOCENCE', ['blake-poems.txt']), ('AND', ['blake-poems.txt']), ('EXPERIENCE', ['blake-poems.txt']), ('BOOK', ['whitman-leaves.txt', 'blake-poems.txt']), ('THEL', ['blake-poems.txt']), ('INTRODUCTION', ['blake-poems.txt']), ('Piping', ['blake-poems.txt']), ('down', ['blake-poems.txt']), ('valleys', ['blake-poems.txt']), ('wild', ['blake-poems.txt']), ('songs', ['blake-poems.txt']), ('pleasant', ['blake-poems.txt']), ('glee', ['blake-poems.txt']), ('On', ['blake-poems.txt']), ('child', ['blake-poems.txt']), ('laughing', ['blake-poems.txt']), ('me', ['blake-poems.txt', 'shakespeare-caesar.txt']), ('\"', ['blake-poems.txt']), ('Pipe', ['blake-poems.txt']), ('about', ['blake-poems.txt']), ('Lamb', ['blake-poems.txt']), ('!\"', ['blake-poems.txt']), ('So', ['blake-poems.txt']), ('piped', ['blake-poems.txt']), ('merry', ['blake-poems.txt']), ('cheer', ['blake-poems.txt']), ('Piper', ['blake-poems.txt']), ('pipe', ['blake-poems.txt']), ('again', ['blake-poems.txt']), (';\"', ['blake-poems.txt']), ('wept', ['blake-poems.txt']), ('hear', ['blake-poems.txt']), ('Drop', ['blake-poems.txt']), (':!\"', ['blake-poems.txt']), ('same', ['blake-poems.txt']), ('While', ['blake-poems.txt']), ('joy', ['blake-poems.txt']), ('write', ['whitman-leaves.txt', 'blake-poems.txt']), ('book', ['blake-poems.txt']), ('may', ['whitman-leaves.txt', 'blake-poems.txt', 'shakespeare-caesar.txt']), ('read', ['blake-poems.txt']), ('.\"', ['blake-poems.txt']), ('vanish', ['blake-poems.txt']), ('d', ['whitman-leaves.txt', 'blake-poems.txt']), ('sight', ['blake-poems.txt']), ('pluck', ['blake-poems.txt']), ('hollow', ['blake-poems.txt']), ('reed', ['blake-poems.txt']), ('made', ['blake-poems.txt']), ('rural', ['blake-poems.txt']), ('pen', ['blake-poems.txt']), ('stain', ['blake-poems.txt']), ('water', ['blake-poems.txt']), ('clear', ['blake-poems.txt']), ('wrote', ['blake-poems.txt']), ('Every', ['blake-poems.txt']), ('Tragedie', ['shakespeare-caesar.txt']), ('Julius', ['shakespeare-caesar.txt']), ('Caesar', ['shakespeare-caesar.txt']), ('Shakespeare', ['shakespeare-caesar.txt']), ('1599', ['shakespeare-caesar.txt']), ('Actus', ['shakespeare-caesar.txt']), ('Primus', ['shakespeare-caesar.txt']), ('Scoena', ['shakespeare-caesar.txt']), ('Prima', ['shakespeare-caesar.txt']), ('Enter', ['shakespeare-caesar.txt']), ('Flauius', ['shakespeare-caesar.txt']), ('Murellus', ['shakespeare-caesar.txt']), ('certaine', ['shakespeare-caesar.txt']), ('Commoners', ['shakespeare-caesar.txt']), ('ouer', ['shakespeare-caesar.txt']), ('Stage', ['shakespeare-caesar.txt']), ('Hence', ['shakespeare-caesar.txt']), ('idle', ['shakespeare-caesar.txt']), ('Creatures', ['shakespeare-caesar.txt']), ('get', ['shakespeare-caesar.txt']), ('Is', ['shakespeare-caesar.txt']), ('this', ['shakespeare-caesar.txt']), ('Holiday', ['shakespeare-caesar.txt']), ('?', ['shakespeare-caesar.txt']), ('What', ['shakespeare-caesar.txt']), ('know', ['shakespeare-caesar.txt']), ('(', ['whitman-leaves.txt', 'melville-moby_dick.txt', 'shakespeare-caesar.txt']), ('Being', ['shakespeare-caesar.txt']), ('Mechanicall', ['shakespeare-caesar.txt']), (')', ['melville-moby_dick.txt', 'shakespeare-caesar.txt']), ('ought', ['shakespeare-caesar.txt']), ('walke', ['shakespeare-caesar.txt']), ('Vpon', ['shakespeare-caesar.txt']), ('labouring', ['shakespeare-caesar.txt']), ('signe', ['shakespeare-caesar.txt']), ('your', ['shakespeare-caesar.txt']), ('Profession', ['shakespeare-caesar.txt']), ('Speake', ['shakespeare-caesar.txt']), ('what', ['shakespeare-caesar.txt']), ('Trade', ['shakespeare-caesar.txt']), ('thou', ['shakespeare-caesar.txt']), ('Car', ['shakespeare-caesar.txt']), ('Why', ['shakespeare-caesar.txt']), ('Sir', ['shakespeare-caesar.txt']), ('Carpenter', ['shakespeare-caesar.txt']), ('Mur', ['shakespeare-caesar.txt']), ('Where', ['shakespeare-caesar.txt']), ('Leather', ['shakespeare-caesar.txt']), ('Apron', ['shakespeare-caesar.txt']), ('Rule', ['shakespeare-caesar.txt']), ('dost', ['shakespeare-caesar.txt']), ('Apparrell', ['shakespeare-caesar.txt']), ('You', ['shakespeare-caesar.txt']), ('sir', ['shakespeare-caesar.txt']), ('are', ['whitman-leaves.txt', 'shakespeare-caesar.txt']), ('Cobl', ['shakespeare-caesar.txt']), ('Truely', ['shakespeare-caesar.txt']), ('respect', ['shakespeare-caesar.txt']), ('fine', ['shakespeare-caesar.txt']), ('Workman', ['shakespeare-caesar.txt']), ('am', ['shakespeare-caesar.txt']), ('would', ['shakespeare-caesar.txt']), ('say', ['shakespeare-caesar.txt']), ('Cobler', ['shakespeare-caesar.txt']), ('But', ['shakespeare-caesar.txt']), ('Answer', ['shakespeare-caesar.txt']), ('directly', ['shakespeare-caesar.txt']), ('Cob', ['shakespeare-caesar.txt']), ('hope', ['shakespeare-caesar.txt']), ('vse', ['shakespeare-caesar.txt']), ('safe', ['shakespeare-caesar.txt']), ('Conscience', ['shakespeare-caesar.txt']), ('Mender', ['shakespeare-caesar.txt']), ('bad', ['shakespeare-caesar.txt']), ('soules', ['shakespeare-caesar.txt']), ('Fla', ['shakespeare-caesar.txt']), ('Leaves', ['whitman-leaves.txt']), ('Grass', ['whitman-leaves.txt']), ('Walt', ['whitman-leaves.txt']), ('Whitman', ['whitman-leaves.txt']), ('1855', ['whitman-leaves.txt']), ('Come', ['whitman-leaves.txt']), ('Such', ['whitman-leaves.txt']), ('verses', ['whitman-leaves.txt']), ('Body', ['whitman-leaves.txt']), ('let', ['whitman-leaves.txt']), (',)', ['whitman-leaves.txt']), ('should', ['whitman-leaves.txt']), ('after', ['whitman-leaves.txt']), ('return', ['whitman-leaves.txt']), ('Or', ['whitman-leaves.txt']), ('hence', ['whitman-leaves.txt']), ('other', ['whitman-leaves.txt']), ('spheres', ['whitman-leaves.txt']), ('There', ['whitman-leaves.txt']), ('group', ['whitman-leaves.txt']), ('mates', ['whitman-leaves.txt']), ('chants', ['whitman-leaves.txt']), ('resuming', ['whitman-leaves.txt']), ('Tallying', ['whitman-leaves.txt']), ('Earth', ['whitman-leaves.txt']), ('soil', ['whitman-leaves.txt']), ('trees', ['whitman-leaves.txt']), ('winds', ['whitman-leaves.txt']), ('tumultuous', ['whitman-leaves.txt']), ('waves', ['whitman-leaves.txt']), ('Ever', ['whitman-leaves.txt']), ('pleas', ['whitman-leaves.txt']), ('smile', ['whitman-leaves.txt']), ('keep', ['whitman-leaves.txt']), ('ever', ['whitman-leaves.txt', 'melville-moby_dick.txt']), ('owning', ['whitman-leaves.txt']), ('here', ['whitman-leaves.txt']), ('now', ['whitman-leaves.txt', 'melville-moby_dick.txt']), ('Signing', ['whitman-leaves.txt']), ('Soul', ['whitman-leaves.txt']), ('set', ['whitman-leaves.txt']), ('them', ['whitman-leaves.txt']), ('name', ['whitman-leaves.txt']), ('INSCRIPTIONS', ['whitman-leaves.txt']), ('}', ['whitman-leaves.txt']), ('One', ['whitman-leaves.txt']), ('Self', ['whitman-leaves.txt']), ('self', ['whitman-leaves.txt']), ('sing', ['whitman-leaves.txt']), ('simple', ['whitman-leaves.txt']), ('separate', ['whitman-leaves.txt']), ('person', ['whitman-leaves.txt']), ('Yet', ['whitman-leaves.txt']), ('utter', ['whitman-leaves.txt']), ('word', ['whitman-leaves.txt']), ('Democratic', ['whitman-leaves.txt']), ('En', ['whitman-leaves.txt']), ('Masse', ['whitman-leaves.txt']), ('Moby', ['melville-moby_dick.txt']), ('Dick', ['melville-moby_dick.txt']), ('Herman', ['melville-moby_dick.txt']), ('Melville', ['melville-moby_dick.txt']), ('1851', ['melville-moby_dick.txt']), ('ETYMOLOGY', ['melville-moby_dick.txt']), ('Supplied', ['melville-moby_dick.txt']), ('Late', ['melville-moby_dick.txt']), ('Consumptive', ['melville-moby_dick.txt']), ('Usher', ['melville-moby_dick.txt']), ('Grammar', ['melville-moby_dick.txt']), ('School', ['melville-moby_dick.txt']), ('pale', ['melville-moby_dick.txt']), ('threadbare', ['melville-moby_dick.txt']), ('coat', ['melville-moby_dick.txt']), ('heart', ['melville-moby_dick.txt']), ('body', ['melville-moby_dick.txt']), ('brain', ['melville-moby_dick.txt']), ('see', ['melville-moby_dick.txt']), ('him', ['melville-moby_dick.txt']), ('He', ['melville-moby_dick.txt']), ('dusting', ['melville-moby_dick.txt']), ('lexicons', ['melville-moby_dick.txt']), ('grammars', ['melville-moby_dick.txt']), ('queer', ['melville-moby_dick.txt']), ('handkerchief', ['melville-moby_dick.txt']), ('mockingly', ['melville-moby_dick.txt']), ('embellished', ['melville-moby_dick.txt']), ('flags', ['melville-moby_dick.txt']), ('known', ['melville-moby_dick.txt']), ('nations', ['melville-moby_dick.txt']), ('loved', ['melville-moby_dick.txt']), ('dust', ['melville-moby_dick.txt']), ('somehow', ['melville-moby_dick.txt']), ('mildly', ['melville-moby_dick.txt']), ('reminded', ['melville-moby_dick.txt']), ('mortality', ['melville-moby_dick.txt'])]\n"
     ]
    }
   ],
   "source": [
    "#In this exercise:\n",
    "# 1) the map operation for each word of each file creates a key-value pair in which the key is the word and the value is the name of the file containing the book\n",
    "# 2) the shuffle operation groups all the key-value pairs sharing the same key (here the same word) taking advantage of a dictionary (as in the exercise before)\n",
    "# 3) the reduce operation produces the list of books from the dictionary\n",
    "\n",
    "def mapper_inv_index(input):\n",
    "    res = []\n",
    "    for data in input :\n",
    "        key = data[0]\n",
    "        words = data[1].split()\n",
    "        res.append([(w, key) for w in words])\n",
    "    return res\n",
    "\n",
    "def shuffler_inv_index(input): \n",
    "    d = defaultdict(list)\n",
    "    for array in input : \n",
    "        for k, v in array:\n",
    "            d[k].append(v)\n",
    "    return d\n",
    "        \n",
    "def reducer_inv_index(dict): \n",
    "    res = []\n",
    "    for key in dict:\n",
    "        res.append((key, list(set(dict[key]))))\n",
    "    return res\n",
    "\n",
    "print(reducer_inv_index(shuffler_inv_index(mapper_inv_index(list(readData('books.json'))))))\n",
    "    "
   ]
  },
  {
   "cell_type": "markdown",
   "metadata": {
    "id": "4Isj-A4ySju_"
   },
   "source": [
    "Discuss what can be improved in the algorithm you provided and check which operations can be nice that a framework provides for you."
   ]
  },
  {
   "cell_type": "markdown",
   "metadata": {
    "id": "tpR4onNaLdmj"
   },
   "source": [
    "## <strong> Exercise 4 </strong>\n",
    "### Matrix Multiplication : the most challenging exercise of lab 1\n",
    "\n",
    "#### The input\n",
    "<p>\n",
    "<font size=\"3\">\n",
    "We want to define the MapReduce procedure to obtain the matrix $A \\times B$. Here you are not suppose to write code but just to think about the representation of the two matrix and to define the general description of the two procedures.\n",
    "</font>\n",
    "</p>\n",
    "\n",
    "<p>\n",
    "<font size=\"3\">\n",
    "We have as input:\n",
    "<ul>\n",
    "<li> $A$: an $n \\times m$ matrix\n",
    "<li> $B$: an $m \\times p$ matrix.\n",
    "</ul>\n",
    "The procedure returns the matrix obtained by multiplying the first and the second matrix.\n",
    "The multiplication can only be computed if the number of columns of $A$ equals the number of rows of $B$.\n",
    "</font>\n",
    "    \n",
    "</p>\n",
    "\n",
    "\n",
    "<p>\n",
    "Consider the following A matrix:\n",
    "<p>\n",
    "<center>\n",
    "  $A= \\begin{bmatrix}\n",
    "    1 & 2 & 4   \\\\\n",
    "    4 & 5 & 6 \n",
    "\\end{bmatrix}$\n",
    "</center>\n",
    "</p>\n",
    "\n",
    "<p>\n",
    "Then consider the following B matrix:\n",
    "<p>\n",
    "<center>\n",
    "  $B= \\begin{bmatrix}\n",
    "    a & b    \\\\\n",
    "    c & d   \\\\\n",
    "    e & f \n",
    "\\end{bmatrix}$\n",
    "</center>\n",
    "</p>"
   ]
  },
  {
   "cell_type": "markdown",
   "metadata": {
    "id": "IVrc3WeeSjvA"
   },
   "source": [
    "### The matrix representation \n",
    "<p>\n",
    "<font size=\"3\">\n",
    "Since we are in a MapReduce context can represent these two matrix as a set of key-value pairs, where \n",
    "<ul>\n",
    "<li> the key is the coordinate <code>(row identifier, column identifier)</code> of an element</li>\n",
    "<li> and the value is the <code>element</code> itself.</li>\n",
    "</ul>\n",
    "\n",
    "Remember that in a program you manipulate data and you are free to chose how to represent data. The matrix representation is the starting point for defining your matrix representation in the following part of the exercise.\n",
    "</font>\n",
    "</p>\n",
    "\n",
    "<p>\n",
    "<font size=\"3\">\n",
    "For the matrix A we will have: <font size=\"4\"><code>( (0, 0), 1 ), ( (0, 1), 2 ), ( (0, 2), 4 ), ( (1, 0), 4 ), ( (1, 1), 5 ), ( (1, 2), 6 )</code></font>\n",
    "    \n",
    "For the matrix B we will have: <font size=\"4\"><code>( (0, 0), a ), ( (0, 1), b ), ( (1, 0), c ), ( (1, 1), d ), ( (2, 0), e ), ( (2, 1), f )</code></font>\n",
    "\n",
    "</font>\n",
    "</p>\n",
    "\n",
    "<hr>\n",
    "\n"
   ]
  },
  {
   "cell_type": "markdown",
   "metadata": {
    "id": "rKxijDgIA6jH"
   },
   "source": [
    "### How each element of the C matrix is calculated\n",
    "\n",
    "<p>\n",
    "<font size=\"3\">\n",
    "The result of the matrix multiplication will be a matrix $C = A \\times B$ is a $n \\times p$ matrix, where each element $c_{i, k}$ is computed as \n",
    "follows:\n",
    "<center>\n",
    "  $c_{i, k} = \\sum\\limits_{j=0}^{m-1} a_{i, j} \\cdot b_{j, k} \\quad\\quad (1)$ \n",
    "</center>\n",
    "</font>\n",
    "</p>\n",
    "\n",
    "<p>\n",
    "<center>\n",
    "  $C= \\begin{bmatrix}\n",
    "    1a + 2c + 4e & 1b + 2d + 4f   \\\\\n",
    "    4a + 5c + 6e & 4b + 5d + 6f   \\\\\n",
    "\\end{bmatrix}$\n",
    "</center>\n",
    "</p>\n",
    "\n",
    "\n",
    "\n",
    "<p>\n",
    "<font size=\"3\">\n",
    "\n",
    "As you can see, for a given $(i, k)$, the element of $A$ that is in the j-th column is multiplied by the value of $B$ that is in the j-th row, for any column $j$.\n",
    "   \n",
    "    \n",
    "\n",
    "    \n",
    "    \n",
    "For example the element <font size=\"4\"><code>C(0,0) = A(0,0) B(0,0) + A(0,1) B(1,0) + A(0,2) B(2,0)</code></font> where $j = 0, 1, 2$ respectively\n",
    "</font>\n",
    "</p>\n"
   ]
  },
  {
   "cell_type": "markdown",
   "metadata": {
    "id": "UoEHiehY5f7N"
   },
   "source": [
    "### Changing again the representation of A and B\n",
    "\n",
    "<p>\n",
    "<font size=\"3\">\n",
    "Therefore, we can change the representation of $A$ and $B$ so that their elements are indexed by using $j$ as the key. The $j$ will be used to correctly group the elements to run the map and reduce functions.\n",
    "\n",
    "<br>\n",
    "\n",
    "<font size=\"3\">    \n",
    "Remember that the element <font size=\"5\"><code> C(0,0) </code></font> is computed according to $j = 0$, $ j = 1 $, $j = 2$, $k = 0$, and $i = 0$ .\n",
    "</font>\n",
    "</font>\n",
    "</p>\n",
    "\n",
    "<p>\n",
    "<font size=\"3\">\n",
    "More specifically, we can represent the matrix $A$ as follows:\n",
    "<center>    \n",
    "    $(j, (0, i, a_{i, j})) \\quad 0 \\leq i \\leq n-1 \\quad 0 \\leq j \\leq m-1  \\quad\\quad (2)$\n",
    "</center> \n",
    "\n",
    "\n",
    "Since we must still be able to identify to which input matrix each value belongs to, we must add a marker in the representation. In this example we choose the value $0$ in the triple $(0, i, a_{i, j})$ meaning that the element $a_{i, j}$ comes from the matrix $A$. \n",
    "    \n",
    "Notice that in this example we can think that $(j, (0, i, a_{i, j}))$ is a key-value pair where the key is $j$ and the value is $(0, i, a_{i, j})$\n",
    "</font>\n",
    "</p>\n",
    "\n",
    "<p>\n",
    "<font size=\"3\">\n",
    "For the matrix A we will then have: <font size=\"4\"><code>( 0, (0, 0, 1 )), ( 1, (0, 0, 2 )), ( 2, (0, 0, 4 )), ( 0, (0, 1, 4 )), ( 1, (0, 1, 5 ), ( 2, (0, 1, 6 ))</code></font>\n",
    "</font>\n",
    "</p>\n",
    "\n",
    "<p>\n",
    "<font size=\"3\">\n",
    "Similarly, we can represent the matrix $B$ as follows:\n",
    "<center>    \n",
    "    $(j, (1, k, b_{j, k})) \\quad 0 \\leq j \\leq m-1 \\quad 0 \\leq k \\leq p-1 \\quad\\quad (3) $\n",
    "</center>    \n",
    "even in this case the value $1$ in the triple $(1, k, b_{j, k})$ means that the element $b_{j, k}$ comes from the matrix $B$.\n",
    "</font>\n",
    "</p>\n",
    "\n",
    "<p>\n",
    "<font size=\"3\">\n",
    "For the matrix B we will then have: <font size=\"4\"><code>( 0, (1, 0, a )), ( 0, (1, 1, b )), ( 1, (1, 0, c )), ( 1, (1, 1, d )), ( 2, (1, 0, e ), ( 2, (1, 1, f ))</code></font>\n",
    "</font>\n",
    "</p>\n",
    "\n"
   ]
  },
  {
   "cell_type": "markdown",
   "metadata": {
    "id": "nvtiq2xwGmzz"
   },
   "source": [
    "## Grouping according to <code>j</code>\n",
    "\n",
    "\n",
    "<p>\n",
    "<font size=\"3\">\n",
    "Now we can group the values obtained above by their key $j$. \n",
    "    \n",
    "We will have:\n",
    "<ol>\n",
    "    <li> <code>( 0, (0, 0, 1 )), ( 0, (0, 1, 4 )), ( 0, (1, 0, a )), ( 0, (1, 1, b ))</code></li>\n",
    "    <li> <code>( 1, (0, 0, 2 )), ( 1, (0, 1, 5 )), ( 1, (1, 0, c )), ( 1, (1, 1, d ))</code></li>\n",
    "    <li> <code>( 2, (0, 0, 4 )), ( 2, (0, 1, 6 )), ( 2, (1, 0, e )), ( 2, (1, 1, f ))</code></li>\n",
    "</ol>\n",
    "</font>\n",
    "</p>\n",
    "\n",
    "<p>\n",
    "<font size=\"3\">\n",
    "As we have seen each element can be seen as a key-value pair, where the key is the index $j$ and the value is a triple corresponding to the elements of matrix $A$ in the $j-$th column  and the elements of matrix $B$  in the $j-$row, as follows: \n",
    "<p>\n",
    "<font size=\"3\">\n",
    "<center>\n",
    "$(0, i, a_{i, j})\\ 0 \\leq i \\leq n-1 \\quad (1, k, b_{j, k})\\ 0 \\leq k \\leq p-1$\n",
    "</center>\n",
    "</p>\n",
    "<p>\n",
    "<font size=\"3\">\n",
    "Remember that all triples corresponding to matrix $A$ have 0 as their first value, while those corresponding to matrix $B$ have 1.\n",
    "</p>\n",
    "<p>\n",
    "From Equation (1), you can see that the product $a_{i, j} \\cdot b_{j, k}$ contributes to the value $c_{i, k}$, for $0 \\leq i \\leq n-1$ and $0 \\leq k \\leq p-1$. \n",
    "Therefore, given the triple, we associate each value $a_{i, j} \\cdot b_{j, k}$  with the pair $(i, k)$.\n",
    "</p>\n",
    "<p>\n",
    "Each element is a key-value pair, where the key is $(i, k)$ and the value is $a_{i, j} \\cdot b_{j, k}$.\n",
    "</p> \n",
    "    \n",
    "    \n",
    "<p>\n",
    "<font size=\"3\">\n",
    "\n",
    "We will have:\n",
    "<font size=\"3\">\n",
    "\n",
    "<ol>    \n",
    "    <li> <code>((0,0), (1a)), ((0,1), (1b)), ((1,0), (4a)), ((1,1), (4b))</code></li>\n",
    "    <li> <code>((0,0), (2c)), ((0,1), (2d)), ((1,0), (5c)), ((1,1), (5d))</code></li>\n",
    "    <li> <code>((0,0), (4e)), ((0,1), (6f)), ((1,0), (6e)), ((1,1), (6f))</code></li>\n",
    "\n",
    "</ol>\n",
    "</font>\n",
    "</p>\n",
    "    \n"
   ]
  },
  {
   "cell_type": "markdown",
   "metadata": {
    "id": "oa2TsNaKLCqT"
   },
   "source": [
    "## Re-distributing and sum-up\n",
    "\n",
    "<p>\n",
    "<font size=\"3\">\n",
    "\n",
    "Now we can group the elements, where each element is a pair $((i, k), a_{i, j} \\cdot b_{j, k})$, $0 \\leq i \\leq n-1$ and $0 \\leq k \\leq p-1$.  \n",
    "\n",
    "<font size=\"3\">\n",
    "\n",
    "<ol>\n",
    "    <li> <code>((0,0), (1a)), ((0,0), (2c)), ((0,0), (4e)) </code></li>\n",
    "    <li> <code>((0,1), (1b)), ((0,1), (2d)), ((0,1), (6f)) </code></li>\n",
    "    <li> <code>((1,0), (4a)), ((1,0), (5c)), ((1,0), (6e)) </code></li>\n",
    "    <li> <code>((1,1), (4b)), ((1,1), (5d)), ((1,1), (6f)) </code></li>\n",
    "</ol>\n",
    "</font>  \n",
    "</p>\n",
    "\n",
    "\n",
    "\n",
    "\n",
    "\n",
    "<p>\n",
    "<font size=\"3\">\n",
    "From Equation (1), we can see that each $c_{i, k}$ is obtained by summing up the products $a_{i, j} \\cdot b_{j, k}$, $0 \\leq j \\leq m-1$.\n",
    "<p>\n",
    "Therefore, in order to obtain the matrix $C = A \\times B$, the only thing that we need to do is to sum all \n",
    "values $a_{i, j} \\cdot b_{j, k}$ associated with the same key $(i, k)$.\n",
    "</p>\n",
    "</font>\n",
    "</p>\n",
    "\n",
    "<p>\n",
    "<center>\n",
    "  $C= \\begin{bmatrix}\n",
    "    1a + 2c + 4e & 1b + 2d + 4f   \\\\\n",
    "    4a + 5c + 6e & 4b + 5d + 6f   \\\\\n",
    "\\end{bmatrix}$\n",
    "</center>\n",
    "</p>\n"
   ]
  },
  {
   "cell_type": "markdown",
   "metadata": {
    "id": "XzH2g8qafmym"
   },
   "source": [
    "### <strong>Questions</strong>\n",
    "####Given the provided algorithm write here a description of a MapReduce procedure implementing the matrix product. \n",
    "\n",
    "#### Detail the MapReduce steps\n",
    "\n",
    "#### How many MapReduce rounds do you need?\n",
    "\n",
    "\n",
    "---\n",
    "\n",
    "\n"
   ]
  },
  {
   "cell_type": "markdown",
   "metadata": {
    "id": "JFpaIN937yII"
   },
   "source": [
    "### <strong>Back to the code</strong>\n",
    "\n",
    "Now that you have clear the steps that your algorithm must implement try to code in python all the steps you defined."
   ]
  },
  {
   "cell_type": "code",
   "execution_count": null,
   "metadata": {
    "id": "gp6dKw6EfktL"
   },
   "outputs": [],
   "source": [
    "#Provide here the python code of the MapReduce procedure you just described.\n"
   ]
  }
 ],
 "metadata": {
  "anaconda-cloud": {},
  "colab": {
   "collapsed_sections": [],
   "history_visible": true,
   "name": "lab1_mapReduce_2021_sol.ipynb",
   "provenance": []
  },
  "kernelspec": {
   "display_name": "Python 3",
   "language": "python",
   "name": "python3"
  },
  "language_info": {
   "codemirror_mode": {
    "name": "ipython",
    "version": 3
   },
   "file_extension": ".py",
   "mimetype": "text/x-python",
   "name": "python",
   "nbconvert_exporter": "python",
   "pygments_lexer": "ipython3",
   "version": "3.9.7"
  },
  "latex_envs": {
   "LaTeX_envs_menu_present": true,
   "autoclose": false,
   "autocomplete": true,
   "bibliofile": "biblio.bib",
   "cite_by": "apalike",
   "current_citInitial": 1,
   "eqLabelWithNumbers": true,
   "eqNumInitial": 1,
   "hotkeys": {
    "equation": "Ctrl-E",
    "itemize": "Ctrl-I"
   },
   "labels_anchors": false,
   "latex_user_defs": false,
   "report_style_numbering": false,
   "user_envs_cfg": false
  },
  "name": "BE4-Spark.ipynb"
 },
 "nbformat": 4,
 "nbformat_minor": 1
}
