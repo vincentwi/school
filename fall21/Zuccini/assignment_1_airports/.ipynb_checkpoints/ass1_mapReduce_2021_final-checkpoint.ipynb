{
 "cells": [
  {
   "cell_type": "markdown",
   "metadata": {
    "ein.tags": [
     "worksheet-0"
    ],
    "id": "eOeG1er1Sjum"
   },
   "source": [
    "<h6><center>Big Data Algorithms Techniques & Platforms</center></h6>\n",
    "\n",
    "<h1>\n",
    "<hr style=\" border:none; height:3px;\">\n",
    "<center>Assignment 1: Introduction to MapReduce</center>\n",
    "<hr style=\" border:none; height:3px;\">\n",
    "</h1>\n",
    "\n",
    "\n",
    "# <strong> Important </strong>\n",
    "\n",
    "For this assignment, as you did in the first lab, do not use the native fuctions <code>map()</code> and <code>reduce()</code> of Python.\n",
    "\n",
    "\n",
    "<hr>\n",
    "\n"
   ]
  },
  {
   "cell_type": "markdown",
   "metadata": {
    "id": "KTePkMCiSjun"
   },
   "source": [
    "## Flights and Airports Data\n",
    "\n",
    "For this assignment you are going to analyze a dataset that will include flight data.\n",
    "\n",
    "The dataset comes from <a href=\"https://www.kaggle.com/flashgordon/usa-airport-dataset\">Kaggle</a> and is presented here as an extract called <code>extract_flights.csv</code>\n",
    "\n",
    "The dataset is in a <code>.csv</code> file. Each line of the file represents a different flight. The data collected contain:\n",
    "\n",
    "\n",
    "<code>Origin_airport</code>: Three letter airport code of the origin airport </br>\n",
    "<code>Destination_airport</code>: Three letter airport code of the destination airport</br>\n",
    "<code>Origin_city</code>: Origin city name</br>\n",
    "<code>Destination_city</code>: Destination city name</br>\n",
    "<code>Passengers</code>: Number of passengers transported from origin to destination</br>\n",
    "<code>Seats</code>: Number of seats available on flights from origin to destination</br>\n",
    "<code>Flights</code>: Number of flights between origin and destination (multiple records for one month, many with flights > 1)</br>\n",
    "<code>Distance</code>: Distance (to nearest mile) flown between origin and destination</br>\n",
    "<code>Fly_date</code>: The date (yyyymm) of flight</br>\n",
    "<code>Origin_population</code>: Origin city's population as reported by US Census</br>\n",
    "<code>Destination_population</code>: Destination city's population as reported by US Census</br>\n",
    "\n",
    "\n",
    "Two files are available in the folder:\n",
    "\n",
    "<ul>\n",
    "  <li> <code> small_file.csv</code> </li>\n",
    "  <li> <code> medium_file.csv</code> </li>\n",
    "</ul>\n",
    "\n",
    "For more complex analysis/statistics you can also download the original file available on kaggle.\n",
    "\n"
   ]
  },
  {
   "cell_type": "markdown",
   "metadata": {
    "id": "cSGllJ6IJufD"
   },
   "source": [
    "### Helper function ... just in case\n",
    "\n",
    "Here is a function that you can modify, reuse, not-use for giving you an idea about how to read a <code>.csv</code> file and remove the header."
   ]
  },
  {
   "cell_type": "code",
   "execution_count": 2,
   "metadata": {
    "colab": {
     "base_uri": "https://localhost:8080/"
    },
    "id": "0QkQIs-PHxMU",
    "outputId": "068ea058-c173-412b-ee25-d743bafdeb35"
   },
   "outputs": [
    {
     "ename": "FileNotFoundError",
     "evalue": "[Errno 2] No such file or directory: '/Downloads/assignment_1_airports/data/small_file.csv'",
     "output_type": "error",
     "traceback": [
      "\u001b[0;31m---------------------------------------------------------------------------\u001b[0m",
      "\u001b[0;31mFileNotFoundError\u001b[0m                         Traceback (most recent call last)",
      "\u001b[0;32m<ipython-input-2-58aa1dde3472>\u001b[0m in \u001b[0;36m<module>\u001b[0;34m\u001b[0m\n\u001b[1;32m     10\u001b[0m   \u001b[0;32mreturn\u001b[0m \u001b[0mf1\u001b[0m\u001b[0;34m\u001b[0m\u001b[0;34m\u001b[0m\u001b[0m\n\u001b[1;32m     11\u001b[0m \u001b[0;34m\u001b[0m\u001b[0m\n\u001b[0;32m---> 12\u001b[0;31m \u001b[0mremove_header\u001b[0m\u001b[0;34m(\u001b[0m\u001b[0;34m'/Downloads/assignment_1_airports/data/small_file'\u001b[0m\u001b[0;34m)\u001b[0m\u001b[0;34m\u001b[0m\u001b[0;34m\u001b[0m\u001b[0m\n\u001b[0m\u001b[1;32m     13\u001b[0m \u001b[0mprint\u001b[0m\u001b[0;34m(\u001b[0m\u001b[0;34m\"file correctly saved\"\u001b[0m\u001b[0;34m)\u001b[0m\u001b[0;34m\u001b[0m\u001b[0;34m\u001b[0m\u001b[0m\n",
      "\u001b[0;32m<ipython-input-2-58aa1dde3472>\u001b[0m in \u001b[0;36mremove_header\u001b[0;34m(filename)\u001b[0m\n\u001b[1;32m      3\u001b[0m \u001b[0;31m# input: a csv file\u001b[0m\u001b[0;34m\u001b[0m\u001b[0;34m\u001b[0m\u001b[0m\n\u001b[1;32m      4\u001b[0m \u001b[0;32mdef\u001b[0m \u001b[0mremove_header\u001b[0m\u001b[0;34m(\u001b[0m\u001b[0mfilename\u001b[0m\u001b[0;34m)\u001b[0m \u001b[0;34m:\u001b[0m\u001b[0;34m\u001b[0m\u001b[0;34m\u001b[0m\u001b[0m\n\u001b[0;32m----> 5\u001b[0;31m   \u001b[0;32mwith\u001b[0m \u001b[0mopen\u001b[0m\u001b[0;34m(\u001b[0m\u001b[0mfilename\u001b[0m \u001b[0;34m+\u001b[0m \u001b[0;34m\".csv\"\u001b[0m\u001b[0;34m,\u001b[0m\u001b[0;34m'r'\u001b[0m\u001b[0;34m)\u001b[0m \u001b[0;32mas\u001b[0m \u001b[0mf\u001b[0m\u001b[0;34m:\u001b[0m\u001b[0;34m\u001b[0m\u001b[0;34m\u001b[0m\u001b[0m\n\u001b[0m\u001b[1;32m      6\u001b[0m     \u001b[0;32mwith\u001b[0m \u001b[0mopen\u001b[0m\u001b[0;34m(\u001b[0m\u001b[0mfilename\u001b[0m \u001b[0;34m+\u001b[0m \u001b[0;34m\"no_header.txt\"\u001b[0m\u001b[0;34m,\u001b[0m\u001b[0;34m'w'\u001b[0m\u001b[0;34m)\u001b[0m \u001b[0;32mas\u001b[0m \u001b[0mf1\u001b[0m\u001b[0;34m:\u001b[0m\u001b[0;34m\u001b[0m\u001b[0;34m\u001b[0m\u001b[0m\n\u001b[1;32m      7\u001b[0m         \u001b[0mnext\u001b[0m\u001b[0;34m(\u001b[0m\u001b[0mf\u001b[0m\u001b[0;34m)\u001b[0m \u001b[0;31m# skip header line\u001b[0m\u001b[0;34m\u001b[0m\u001b[0;34m\u001b[0m\u001b[0m\n",
      "\u001b[0;31mFileNotFoundError\u001b[0m: [Errno 2] No such file or directory: '/Downloads/assignment_1_airports/data/small_file.csv'"
     ]
    }
   ],
   "source": [
    "# Here a simple function that reads a .csv file, removes the header,\n",
    "# and writes the output on a .txt file having the same name of the input file + the keyword \"no_header\"\n",
    "# input: a csv file\n",
    "def remove_header(filename) :\n",
    "  with open(filename + \".csv\",'r') as f:\n",
    "    with open(filename + \"no_header.txt\",'w') as f1:\n",
    "        next(f) # skip header line\n",
    "        for line in f:\n",
    "            f1.write(line)\n",
    "  return f1\n",
    "\n",
    "remove_header('/Downloads/assignment_1_airports/data/small_file')\n",
    "print(\"file correctly saved\")\n"
   ]
  },
  {
   "cell_type": "markdown",
   "metadata": {
    "id": "RFD6BvLDNs4E"
   },
   "source": [
    "### <strong> Exercise 1 - Almost-empty flights</strong> \n",
    "#### <strong> 4 points </strong>\n",
    "Describe and define a MapReduce procedure that gives as output the number of flights that departed with 10% of capacity maximum (i.e. empty, 1%, 6%, etc.) . \n",
    "\n",
    "The output can be of any form you like. \n",
    "\n",
    "You can use any data structure you want to support your implementation.\n",
    "\n",
    "\n"
   ]
  },
  {
   "cell_type": "code",
   "execution_count": null,
   "metadata": {
    "id": "trRDY4haSjuo"
   },
   "outputs": [],
   "source": [
    "#Provide here few comment lines that describe your map function\n",
    "\n",
    "def map_e_flights( #to be completed\n",
    "\n",
    "#Provide here few comment lines that describe your shuffle function\n",
    "\n",
    "def shuffle_e_flights( #to be completed\n",
    "\n",
    "\n",
    "#Provide here few comment lines that describe your reduce function\n",
    "\n",
    "def reduce_e_flights( #to be completed\n",
    "\n"
   ]
  },
  {
   "cell_type": "markdown",
   "metadata": {
    "id": "WKEj52ZsZUnP"
   },
   "source": [
    "Look at your implementation and think about your program. Is there any option to add a `combine` operation?  If yes describe your new approach and provide an improved version of your code.\n",
    "\n",
    "Describe in detail your procedure before the code (in the comment lines)."
   ]
  },
  {
   "cell_type": "code",
   "execution_count": null,
   "metadata": {
    "id": "fI6QmXGu4TkK"
   },
   "outputs": [],
   "source": [
    "#Provide here a detailed comment that describes your new function\n",
    "\n",
    "def  #to be completed with all the functions you need.\n"
   ]
  },
  {
   "cell_type": "markdown",
   "metadata": {
    "id": "iqa7Q8TASjuu"
   },
   "source": [
    "### <strong> Exercise 2 - Top five destination airports </strong>\n",
    "### <strong> 4 points </strong>\n",
    "\n",
    "Provide now a function that lists the top five destination <strong>airports</strong>: the ones that have the highest number of incoming flights. Implement an algorithm that uses the MapReduce procedure.\n",
    "\n"
   ]
  },
  {
   "cell_type": "code",
   "execution_count": null,
   "metadata": {
    "id": "YA5It5kQSjuv",
    "scrolled": true
   },
   "outputs": [],
   "source": [
    "#Provide here few comment lines that describe your map function\n",
    "\n",
    "def map_top_flights( #to be completed\n",
    "\n",
    "#Provide here few comment lines that describe your shuffle function\n",
    "\n",
    "def shuffle_top_flights( #to be completed\n",
    "\n",
    "\n",
    "#Provide here few comment lines that describe your reduce function\n",
    "\n",
    "def reduce_top_flights( #to be completed"
   ]
  },
  {
   "cell_type": "markdown",
   "metadata": {
    "id": "Q4p2_JHi0NHw"
   },
   "source": [
    "### <strong> Exercise 3 - Top 5 destination cities </strong>\n",
    "#### <strong>  2 points </strong>\n",
    "\n",
    "Try to reuse the code you run before and define a function that lists the top five destination <strong>cities</strong>: the ones that have the highest number of incoming flights. Implement an algorithm that uses the MapReduce procedure.\n"
   ]
  },
  {
   "cell_type": "code",
   "execution_count": null,
   "metadata": {
    "id": "UOJ603rJ0z4x"
   },
   "outputs": [],
   "source": [
    "#Provide here few comment lines that describe your map function\n",
    "\n",
    "def map_top_cities( #to be completed\n",
    "\n",
    "#Provide here few comment lines that describe your shuffle function\n",
    "\n",
    "def shuffle_top_cities( #to be completed\n",
    "\n",
    "\n",
    "#Provide here few comment lines that describe your reduce function\n",
    "\n",
    "def reduce_top_cities( #to be completed"
   ]
  },
  {
   "cell_type": "markdown",
   "metadata": {
    "id": "Rk34RU8JSjuz"
   },
   "source": [
    "## Statistics on flights\n",
    "\n",
    "<p align=\"justify\">\n",
    "<font size=\"3\">\n",
    "Now we want to run some more complex analysis on the flights. \n",
    "</font>\n",
    "</p>\n",
    "\n",
    "\n",
    "\n"
   ]
  },
  {
   "cell_type": "markdown",
   "metadata": {
    "id": "FwbGGzCg2WlY"
   },
   "source": [
    "### <strong> Exercise 4 - Top five connections by month</strong>\n",
    "#### <strong> 4 points </strong>\n",
    "\n",
    "Try to reuse the code you run before and define now a function that lists the top five connections by each month: the top five pairs of cities that have the most number of connections (the function takes into account the flights from A to B and from B to A by month/year). Implement an algorithm that uses the MapReduce procedure."
   ]
  },
  {
   "cell_type": "code",
   "execution_count": null,
   "metadata": {
    "id": "cHbkfinx27Dx"
   },
   "outputs": [],
   "source": [
    "#Provide here few comment lines that describe your map function\n",
    "\n",
    "def map_top_connections( #to be completed\n",
    "\n",
    "#Provide here few comment lines that describe your shuffle function\n",
    "\n",
    "def shuffle_top_connections( #to be completed\n",
    "\n",
    "\n",
    "#Provide here few comment lines that describe your reduce function\n",
    "\n",
    "def reduce_top_connections( #to be completed"
   ]
  },
  {
   "cell_type": "markdown",
   "metadata": {
    "id": "9VBatJCf22oZ"
   },
   "source": [
    "Look at your code. Can you use a <code>combine()</code> operation? \n",
    "\n",
    "If you cannot directly think about how you can represent the key-value pairs in a way that allows you to take advantage of a combine."
   ]
  },
  {
   "cell_type": "code",
   "execution_count": null,
   "metadata": {
    "id": "oL15JcrK3vCd"
   },
   "outputs": [],
   "source": [
    "#Provide here few comment lines that describe your map function\n",
    "\n",
    "def map_top_connections( #to be completed\n",
    "\n",
    "#Provide here few comment lines that describe your shuffle function\n",
    "\n",
    "def shuffle_top_connections( #to be completed\n",
    "\n",
    "\n",
    "#Provide here few comment lines that describe your reduce function\n",
    "\n",
    "def reduce_top_connections( #to be completed"
   ]
  },
  {
   "cell_type": "markdown",
   "metadata": {
    "id": "yIqc-JJDbdgX"
   },
   "source": [
    "### <strong> Exercise 5 - Number of full flights</strong>\n",
    "#### <strong> 2 points </strong>\n",
    "<p align=\"justify\">\n",
    "<font size=\"3\">\n",
    "Describe and implement an algorithm that, following MapReduce procedure, shows how many full flights have departed. This exercise gives you an idea about how many times you can re-use code in MapReduce with minimum effort for repetitive analysis.\n",
    "</font>\n",
    "</p>\n",
    "\n"
   ]
  },
  {
   "cell_type": "code",
   "execution_count": null,
   "metadata": {
    "id": "ved9CtvMSju0",
    "scrolled": true
   },
   "outputs": [],
   "source": [
    "#Provide here few comment lines that describe your map function\n",
    "\n",
    "def  #to be completed\n",
    "\n",
    "#Provide here few comment lines that describe your shuffle function\n",
    "\n",
    "def  #to be completed\n",
    "\n",
    "#Provide here few comment lines that describe your reduce function\n",
    "\n",
    "def  #to be completed\n"
   ]
  },
  {
   "cell_type": "markdown",
   "metadata": {
    "id": "lYM8qhAuSju5",
    "scrolled": true
   },
   "source": [
    "\n",
    "### <strong> Exercise 6 -  Average/percentage </strong>\n",
    "#### <strong> 4 points </strong>\n",
    "\n",
    "<p align=\"justify\">\n",
    "<font size=\"3\">\n",
    "Describe and implement a MapReduce procedure that gives, for each city, the percentage/average, of full flights that have departed.\n",
    "\n",
    "Notice that this exercise shares some similarities with one of the previous exercises. Think how and if you can modify (generalize) one of the functions already implemented before. \n",
    "</font>\n",
    "</p>\n",
    "\n"
   ]
  },
  {
   "cell_type": "code",
   "execution_count": null,
   "metadata": {
    "id": "zPywU-Hu6UF7"
   },
   "outputs": [],
   "source": [
    "#Provide here few comment lines that describe your map function\n",
    "\n",
    "def  #to be completed\n",
    "\n",
    "#Provide here few comment lines that describe your shuffle function\n",
    "\n",
    "def  #to be completed\n",
    "\n",
    "#Provide here few comment lines that describe your reduce function\n",
    "\n",
    "def  #to be completed"
   ]
  },
  {
   "cell_type": "markdown",
   "metadata": {
    "id": "_o-3JT1L659s"
   },
   "source": [
    "Look at your code. Can you use a <code>combine()</code> operation? \n",
    "\n",
    "If you cannot directly think about how you can represent the key-value pairs in a way that allows you to take advantage of a combine."
   ]
  },
  {
   "cell_type": "code",
   "execution_count": null,
   "metadata": {
    "id": "dEOIsmdE7LQh"
   },
   "outputs": [],
   "source": [
    "#Provide here few comment lines that describe your map function\n",
    "\n",
    "def  #to be completed\n",
    "\n",
    "#Provide here few comment lines that describe your shuffle function\n",
    "\n",
    "def  #to be completed\n",
    "\n",
    "#Provide here few comment lines that describe your reduce function\n",
    "\n",
    "def  #to be completed"
   ]
  },
  {
   "cell_type": "markdown",
   "metadata": {
    "id": "rNFDKY4u-0jY"
   },
   "source": [
    "\n",
    "### <strong> Bonus - Data Analysis </strong>\n",
    "#### Data analysis\n",
    "\n",
    "<p align=\"justify\">\n",
    "<font size=\"3\">\n",
    "Look at the number of almost empty flights and full flights and propose an analysis that explores if there is a correlation between the number of flights connecting two cities, the number of full flights and the percentage of almost empty flights. \n",
    "\n",
    "The granularity of the analysis is important: consider for example the week, the month and the year.\n",
    "</font>\n",
    "</p>\n"
   ]
  },
  {
   "cell_type": "code",
   "execution_count": null,
   "metadata": {
    "id": "Wi4qRKmeBM7s"
   },
   "outputs": [],
   "source": [
    "# Define here your considerations and your code"
   ]
  }
 ],
 "metadata": {
  "anaconda-cloud": {},
  "colab": {
   "collapsed_sections": [],
   "name": "ass1_mapReduce_2021_final.ipynb",
   "provenance": [],
   "toc_visible": true
  },
  "kernelspec": {
   "display_name": "Python 3",
   "language": "python",
   "name": "python3"
  },
  "language_info": {
   "codemirror_mode": {
    "name": "ipython",
    "version": 3
   },
   "file_extension": ".py",
   "mimetype": "text/x-python",
   "name": "python",
   "nbconvert_exporter": "python",
   "pygments_lexer": "ipython3",
   "version": "3.9.7"
  },
  "latex_envs": {
   "LaTeX_envs_menu_present": true,
   "autoclose": false,
   "autocomplete": true,
   "bibliofile": "biblio.bib",
   "cite_by": "apalike",
   "current_citInitial": 1,
   "eqLabelWithNumbers": true,
   "eqNumInitial": 1,
   "hotkeys": {
    "equation": "Ctrl-E",
    "itemize": "Ctrl-I"
   },
   "labels_anchors": false,
   "latex_user_defs": false,
   "report_style_numbering": false,
   "user_envs_cfg": false
  },
  "name": "BE4-Spark.ipynb"
 },
 "nbformat": 4,
 "nbformat_minor": 1
}
