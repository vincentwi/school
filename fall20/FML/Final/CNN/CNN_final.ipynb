{
 "cells": [
  {
   "cell_type": "code",
   "execution_count": 1,
   "metadata": {},
   "outputs": [
    {
     "name": "stdout",
     "output_type": "stream",
     "text": [
      "/Users/hakonsandaker/MEGA/Studier/H20/Machine Learning/Last project\n"
     ]
    }
   ],
   "source": [
    "# Convolution Neural Network\n",
    "# Src for dataset:\n",
    "# https://www.mvtec.com/company/research/datasets/mvtec-ad\n",
    "import tensorflow as tf\n",
    "from tensorflow.keras.preprocessing.image import ImageDataGenerator\n",
    "from sklearn.metrics import roc_curve, auc, f1_score, roc_auc_score, precision_recall_curve,  \\\n",
    "    accuracy_score, precision_score, recall_score, confusion_matrix\n",
    "from sklearn import metrics\n",
    "import matplotlib.pyplot as plt\n",
    "import shutil\n",
    "import sys\n",
    "from distutils.dir_util import copy_tree\n",
    "\n",
    "# Directory setup\n",
    "import os\n",
    "import sys\n",
    "nb_dir = os.path.split(os.getcwd())[0]\n",
    "if nb_dir not in sys.path:\n",
    "    sys.path.append(nb_dir)\n",
    "print(nb_dir)"
   ]
  },
  {
   "cell_type": "markdown",
   "metadata": {},
   "source": [
    "# Copy images to right place"
   ]
  },
  {
   "cell_type": "code",
   "execution_count": 2,
   "metadata": {},
   "outputs": [
    {
     "data": {
      "text/plain": [
       "['case_folder_2_1_1_1_1_1_1_1_1/train/good/002.png',\n",
       " 'case_folder_2_1_1_1_1_1_1_1_1/train/good/003.png',\n",
       " 'case_folder_2_1_1_1_1_1_1_1_1/train/good/001.png',\n",
       " 'case_folder_2_1_1_1_1_1_1_1_1/train/good/000.png',\n",
       " 'case_folder_2_1_1_1_1_1_1_1_1/train/good/010.png',\n",
       " 'case_folder_2_1_1_1_1_1_1_1_1/train/good/004.png',\n",
       " 'case_folder_2_1_1_1_1_1_1_1_1/train/good/005.png',\n",
       " 'case_folder_2_1_1_1_1_1_1_1_1/train/good/011.png',\n",
       " 'case_folder_2_1_1_1_1_1_1_1_1/train/good/007.png',\n",
       " 'case_folder_2_1_1_1_1_1_1_1_1/train/good/006.png',\n",
       " 'case_folder_2_1_1_1_1_1_1_1_1/train/good/008.png',\n",
       " 'case_folder_2_1_1_1_1_1_1_1_1/train/good/009.png']"
      ]
     },
     "execution_count": 2,
     "metadata": {},
     "output_type": "execute_result"
    }
   ],
   "source": [
    "TYPE = 'toothbrush'\n",
    "CASE_FOLDER = \"case_folder_2\"\n",
    "\n",
    "while os.path.exists(CASE_FOLDER):\n",
    "    CASE_FOLDER += \"_1\"\n",
    "\n",
    "if not os.path.exists(CASE_FOLDER):\n",
    "    os.makedirs(CASE_FOLDER)\n",
    "\n",
    "# Copy samples\n",
    "copy_tree(TYPE + '/train/good', CASE_FOLDER + '/test/good')\n",
    "copy_tree(TYPE + '/test/defective', CASE_FOLDER + '/test/defective')\n",
    "copy_tree(TYPE + '/test/good', CASE_FOLDER + '/train/good')"
   ]
  },
  {
   "cell_type": "markdown",
   "metadata": {},
   "source": [
    "# Import the images"
   ]
  },
  {
   "cell_type": "code",
   "execution_count": 3,
   "metadata": {},
   "outputs": [
    {
     "name": "stdout",
     "output_type": "stream",
     "text": [
      "Found 12 images belonging to 2 classes.\n",
      "Train done...\n",
      "Found 90 images belonging to 2 classes.\n",
      "Vailidation done...\n"
     ]
    }
   ],
   "source": [
    "IMAGE_SIZE = 256\n",
    "\n",
    "TRAIN_DIR = CASE_FOLDER + '/train'\n",
    "VALID_DIR = CASE_FOLDER + '/test'\n",
    "\n",
    "train_datagen = ImageDataGenerator(rescale = 1/(255))\n",
    "validation_datagen = ImageDataGenerator(rescale = 1/(255))\n",
    "\n",
    "train_generator = train_datagen.flow_from_directory(\n",
    "    TRAIN_DIR,\n",
    "    classes = ['defective', 'good'],\n",
    "    target_size= (IMAGE_SIZE, IMAGE_SIZE),  # All images will be resized to 512x512\n",
    "    batch_size= 120,\n",
    "    class_mode='binary')\n",
    "print(\"Train done...\")\n",
    "\n",
    "validation_generator = validation_datagen.flow_from_directory(\n",
    "    VALID_DIR,\n",
    "    classes = ['defective', 'good'],\n",
    "    target_size= (IMAGE_SIZE, IMAGE_SIZE),\n",
    "    batch_size= 4,\n",
    "    class_mode= 'binary',\n",
    "    shuffle= False)\n",
    "print(\"Vailidation done...\")"
   ]
  },
  {
   "cell_type": "markdown",
   "metadata": {},
   "source": [
    "# CNN"
   ]
  },
  {
   "cell_type": "code",
   "execution_count": 4,
   "metadata": {},
   "outputs": [
    {
     "data": {
      "text/plain": [
       "<tensorflow.python.keras.layers.pooling.MaxPooling2D at 0x7fe50d3788d0>"
      ]
     },
     "execution_count": 4,
     "metadata": {},
     "output_type": "execute_result"
    }
   ],
   "source": [
    "tf.keras.layers.Conv2D(16, (3,3), activation='relu', input_shape=(IMAGE_SIZE, IMAGE_SIZE, 3))\n",
    "tf.keras.layers.MaxPooling2D(2, 2)"
   ]
  },
  {
   "cell_type": "code",
   "execution_count": 5,
   "metadata": {},
   "outputs": [],
   "source": [
    "\n",
    "model = tf.keras.models.Sequential([\n",
    "    # Note the input shape is the desired size of the image 512x512 with 3 bytes color\n",
    "    # 1st convolution\n",
    "    tf.keras.layers.Conv2D(16, (3,3), activation='relu', input_shape=(IMAGE_SIZE, IMAGE_SIZE, 3)),\n",
    "    tf.keras.layers.MaxPooling2D(2, 2),\n",
    "    # 2nd convolution\n",
    "    tf.keras.layers.Conv2D(32, (3,3), activation='relu'),\n",
    "    tf.keras.layers.MaxPooling2D(2,2),\n",
    "    # 3rd convolution\n",
    "    tf.keras.layers.Conv2D(64, (3,3), activation='relu'),\n",
    "    tf.keras.layers.MaxPooling2D(2,2),\n",
    "    # 4th convolution\n",
    "    tf.keras.layers.Conv2D(64, (3,3), activation='relu'),\n",
    "    tf.keras.layers.MaxPooling2D(2,2),\n",
    "    # 5th convolution\n",
    "    tf.keras.layers.Conv2D(64, (3,3), activation='relu'),\n",
    "    tf.keras.layers.MaxPooling2D(2,2),\n",
    "    # Flatten the results to feed into a DNN\n",
    "    tf.keras.layers.Flatten(),\n",
    "    # 512 neuron hidden layer\n",
    "    tf.keras.layers.Dense(IMAGE_SIZE, activation='relu'),\n",
    "    # Only 1 output neuron. \n",
    "    # It will contain a value from 0-1 where 0 for 1 class ('dandelions') and 1 for the other ('grass')\n",
    "    tf.keras.layers.Dense(1, activation='sigmoid')\n",
    "])"
   ]
  },
  {
   "cell_type": "code",
   "execution_count": 6,
   "metadata": {},
   "outputs": [],
   "source": [
    "model.compile(loss='binary_crossentropy', optimizer=tf.keras.optimizers.RMSprop(lr=0.001), metrics=['accuracy'])"
   ]
  },
  {
   "cell_type": "code",
   "execution_count": 7,
   "metadata": {},
   "outputs": [
    {
     "name": "stdout",
     "output_type": "stream",
     "text": [
      "Train for 40 steps, validate for 100 steps\n",
      "Epoch 1/15\n",
      "23/23 [==============================] - 4s 191ms/step - loss: 1.4621 - accuracy: 0.6667\n",
      "23/23 [==============================] - 5s 196ms/step\n"
     ]
    }
   ],
   "source": [
    "history = model.fit(train_generator, steps_per_epoch=40, \n",
    "    epochs=15, verbose=1, validation_data=validation_generator, validation_steps=100)\n",
    "\n",
    "model.evaluate(validation_generator)\n",
    "\n",
    "validation_generator.reset()\n",
    "\n",
    "preds = model.predict(x=validation_generator, verbose=1)\n",
    "y_pred = preds.argmax(axis=1)"
   ]
  },
  {
   "cell_type": "code",
   "execution_count": 8,
   "metadata": {},
   "outputs": [
    {
     "name": "stdout",
     "output_type": "stream",
     "text": [
      ">>>> Confusion matrix\n",
      "[[30  0]\n",
      " [60  0]]\n",
      ">>>> Accuracy 0.33\n",
      ">>>> Precision 0.17\n",
      ">>>> Recall 0.50\n",
      ">>>> F1_score 0.25\n",
      ">>>> ROC AUC: 0.60\n"
     ]
    },
    {
     "name": "stderr",
     "output_type": "stream",
     "text": [
      "/Users/hakonsandaker/opt/anaconda3/lib/python3.7/site-packages/sklearn/metrics/_classification.py:1221: UndefinedMetricWarning: Precision is ill-defined and being set to 0.0 in labels with no predicted samples. Use `zero_division` parameter to control this behavior.\n",
      "  _warn_prf(average, modifier, msg_start, len(result))\n"
     ]
    }
   ],
   "source": [
    "fpr, tpr, _thresholds = roc_curve(validation_generator.classes, preds)\n",
    "roc_auc = auc(fpr, tpr)\n",
    "\n",
    "print(\">>>> Confusion matrix\")\n",
    "print(confusion_matrix(validation_generator.classes, y_pred))\n",
    "\n",
    "print(\">>>> Accuracy %.2f\" % accuracy_score(validation_generator.classes, y_pred))\n",
    "print(\">>>> Precision %.2f\" % precision_score(validation_generator.classes, y_pred, average='macro'))\n",
    "print(\">>>> Recall %.2f\" % recall_score(validation_generator.classes, y_pred, average='macro'))\n",
    "print(\">>>> F1_score %.2f\" % f1_score(validation_generator.classes, y_pred, average='macro'))\n",
    "print('>>>> ROC AUC: %0.2f' % roc_auc)"
   ]
  },
  {
   "cell_type": "code",
   "execution_count": 9,
   "metadata": {},
   "outputs": [
    {
     "data": {
      "image/png": "[encoded data removed]",
      "text/plain": [
       "<Figure size 432x288 with 1 Axes>"
      ]
     },
     "metadata": {
      "needs_background": "light"
     },
     "output_type": "display_data"
    },
    {
     "data": {
      "image/png": "[encoded data removed]",
      "text/plain": [
       "<Figure size 432x288 with 1 Axes>"
      ]
     },
     "metadata": {
      "needs_background": "light"
     },
     "output_type": "display_data"
    }
   ],
   "source": [
    "# Plot the ROC\n",
    "plt.figure()\n",
    "lw = 2\n",
    "plt.plot(fpr, tpr, color='darkorange', lw=lw, label='ROC curve (area = %0.2f)' % roc_auc)\n",
    "plt.plot([0, 1], [0, 1], color='navy', lw=lw, linestyle='--')\n",
    "plt.xlim([0.0, 1.0])\n",
    "plt.ylim([0.0, 1.05])\n",
    "plt.xlabel('False Positive Rate')\n",
    "plt.ylabel('True Positive Rate')\n",
    "plt.title('Receiver Operating Characteristic (ROC)')\n",
    "plt.legend(loc=\"lower right\")\n",
    "plt.show()\n",
    "\n",
    "# Plot the Precision / Recall\n",
    "plt.figure()\n",
    "precision, recall, _ = precision_recall_curve(validation_generator.classes, preds)\n",
    "plt.plot(precision, recall)\n",
    "plt.xlabel('Precision')\n",
    "plt.ylabel('Recall')\n",
    "plt.title('Precision Recall Curve')\n",
    "plt.show()"
   ]
  },
  {
   "cell_type": "code",
   "execution_count": null,
   "metadata": {},
   "outputs": [],
   "source": []
  },
  {
   "cell_type": "code",
   "execution_count": null,
   "metadata": {},
   "outputs": [],
   "source": []
  }
 ],
 "metadata": {
  "kernelspec": {
   "display_name": "Python 3",
   "language": "python",
   "name": "python3"
  },
  "language_info": {
   "codemirror_mode": {
    "name": "ipython",
    "version": 3
   },
   "file_extension": ".py",
   "mimetype": "text/x-python",
   "name": "python",
   "nbconvert_exporter": "python",
   "pygments_lexer": "ipython3",
   "version": "3.7.4"
  }
 },
 "nbformat": 4,
 "nbformat_minor": 2
}
