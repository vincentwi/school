{
  "cells": [
    {
      "cell_type": "markdown",
      "metadata": {
        "id": "gZ68KLNLmI_U"
      },
      "source": [
        "# Tutorial: Exploring the Cars Dataset\n",
        "\n",
        "This notebook provides a quick introduction to [Altair](https://altair-viz.github.io) for effective data visualization. \n",
        "\n",
        "**Acknowledgement** This tutorial is mainly based on the [Altair tutorial](https://altair-viz.github.io/altair-tutorial/notebooks/01-Cars-Demo.html) by Jake Vanderplas.\n",
        "\n",
        "### Outline\n",
        "1. Load data using pandas\n",
        "2. Draw charts\n",
        "3. Facet charts\n",
        "3. Binning & Aggregation\n",
        "4. Time series"
      ]
    },
    {
      "cell_type": "code",
      "execution_count": null,
      "metadata": {
        "id": "Ltk7fML2mI_b"
      },
      "outputs": [],
      "source": [
        "import pandas as pd"
      ]
    },
    {
      "cell_type": "code",
      "execution_count": null,
      "metadata": {
        "id": "auIaziynmI_d"
      },
      "outputs": [],
      "source": [
        "import altair as alt\n",
        "from altair import expr, datum\n",
        "\n",
        "# Run this line to enable Altair in the Jupyter notebook\n",
        "# Comment this line if you are using Google Colaboratory\n",
        "#alt.renderers.enable('notebook')"
      ]
    },
    {
      "cell_type": "markdown",
      "metadata": {
        "id": "9BbM2RO2mI_e"
      },
      "source": [
        "## 1. Load data using pandas\n",
        "\n",
        "Load the cars dataset from a csv file using panda"
      ]
    },
    {
      "cell_type": "code",
      "execution_count": null,
      "metadata": {
        "id": "Bs7h-Cm1mI_f"
      },
      "outputs": [],
      "source": [
        "# Load car data from example datasets\n",
        "from vega_datasets import data\n",
        "cars = data.cars()\n",
        "\n",
        "# Load data from the local csv file\n",
        "#cars = pd.read_csv('cars.csv')"
      ]
    },
    {
      "cell_type": "code",
      "execution_count": null,
      "metadata": {
        "id": "b5OW3IsYmI_f"
      },
      "outputs": [],
      "source": [
        "# Size of the dataframe"
      ]
    },
    {
      "cell_type": "code",
      "execution_count": null,
      "metadata": {
        "id": "S38B6vpxmI_g"
      },
      "outputs": [],
      "source": [
        "# Dimensions of the dataframe"
      ]
    },
    {
      "cell_type": "code",
      "execution_count": null,
      "metadata": {
        "id": "Ec2HJEg1mI_h"
      },
      "outputs": [],
      "source": [
        "# Dataset first rows"
      ]
    },
    {
      "cell_type": "markdown",
      "metadata": {
        "id": "j60WBOMlmI_i"
      },
      "source": [
        "## 2. Draw charts\n",
        "\n",
        "The fundamental object in Altair is the Chart which takes a dataframe as a single argument. \n",
        "\n",
        "The chart is used in conjunction [**marks**](https://altair-viz.github.io/user_guide/marks.html) and [**encodings**](https://altair-viz.github.io/user_guide/encoding.html):\n",
        "- **Marks** enables us to represent each row in the data with a point, circle, square, bar, tick, ...\n",
        "- **Encodings** specifies how a given data column should be mapped onto the visual properties of the visualization:\n",
        "  - _x_: x-axis value\n",
        "  - _y_: y-axis value\n",
        "  - _color_: color of the mark\n",
        "  - _opacity_: transparency/opacity of the mark\n",
        "  - _shape_: shape of the mark\n",
        "  - _size_: size of the mark\n",
        "  - _row_: row within a grid of facet plots\n",
        "  - _column_: column within a grid of facet plots\n",
        "  \n",
        "### Step 1: Load data and set the mark\n",
        "The most basic chart contains the dataset, along with a **mark** to represent each row:"
      ]
    },
    {
      "cell_type": "code",
      "execution_count": null,
      "metadata": {
        "id": "sna1YRtpmI_j"
      },
      "outputs": [],
      "source": [
        ""
      ]
    },
    {
      "cell_type": "markdown",
      "metadata": {
        "id": "pGU2XIYEmI_k"
      },
      "source": [
        "### Step 2: Add encoding on the x-axis\n",
        "Then, we need to **encode** columns of the data into visual features of the plot (e.g. x position, y position, size, color, etc.)"
      ]
    },
    {
      "cell_type": "code",
      "execution_count": null,
      "metadata": {
        "id": "8fd0ww0vmI_k",
        "outputId": "13596a2b-6279-418c-e32b-91e72427d86e",
        "colab": {
          "base_uri": "https://localhost:8080/",
          "height": 206
        }
      },
      "outputs": [
        {
          "output_type": "execute_result",
          "data": {
            "text/html": [
              "\n",
              "  <div id=\"df-88f844af-4546-4482-9564-b55e85545385\">\n",
              "    <div class=\"colab-df-container\">\n",
              "      <div>\n",
              "<style scoped>\n",
              "    .dataframe tbody tr th:only-of-type {\n",
              "        vertical-align: middle;\n",
              "    }\n",
              "\n",
              "    .dataframe tbody tr th {\n",
              "        vertical-align: top;\n",
              "    }\n",
              "\n",
              "    .dataframe thead th {\n",
              "        text-align: right;\n",
              "    }\n",
              "</style>\n",
              "<table border=\"1\" class=\"dataframe\">\n",
              "  <thead>\n",
              "    <tr style=\"text-align: right;\">\n",
              "      <th></th>\n",
              "      <th>Name</th>\n",
              "      <th>Miles_per_Gallon</th>\n",
              "      <th>Cylinders</th>\n",
              "      <th>Displacement</th>\n",
              "      <th>Horsepower</th>\n",
              "      <th>Weight_in_lbs</th>\n",
              "      <th>Acceleration</th>\n",
              "      <th>Year</th>\n",
              "      <th>Origin</th>\n",
              "    </tr>\n",
              "  </thead>\n",
              "  <tbody>\n",
              "    <tr>\n",
              "      <th>0</th>\n",
              "      <td>chevrolet chevelle malibu</td>\n",
              "      <td>18.0</td>\n",
              "      <td>8</td>\n",
              "      <td>307.0</td>\n",
              "      <td>130.0</td>\n",
              "      <td>3504</td>\n",
              "      <td>12.0</td>\n",
              "      <td>1970-01-01</td>\n",
              "      <td>USA</td>\n",
              "    </tr>\n",
              "    <tr>\n",
              "      <th>1</th>\n",
              "      <td>buick skylark 320</td>\n",
              "      <td>15.0</td>\n",
              "      <td>8</td>\n",
              "      <td>350.0</td>\n",
              "      <td>165.0</td>\n",
              "      <td>3693</td>\n",
              "      <td>11.5</td>\n",
              "      <td>1970-01-01</td>\n",
              "      <td>USA</td>\n",
              "    </tr>\n",
              "    <tr>\n",
              "      <th>2</th>\n",
              "      <td>plymouth satellite</td>\n",
              "      <td>18.0</td>\n",
              "      <td>8</td>\n",
              "      <td>318.0</td>\n",
              "      <td>150.0</td>\n",
              "      <td>3436</td>\n",
              "      <td>11.0</td>\n",
              "      <td>1970-01-01</td>\n",
              "      <td>USA</td>\n",
              "    </tr>\n",
              "    <tr>\n",
              "      <th>3</th>\n",
              "      <td>amc rebel sst</td>\n",
              "      <td>16.0</td>\n",
              "      <td>8</td>\n",
              "      <td>304.0</td>\n",
              "      <td>150.0</td>\n",
              "      <td>3433</td>\n",
              "      <td>12.0</td>\n",
              "      <td>1970-01-01</td>\n",
              "      <td>USA</td>\n",
              "    </tr>\n",
              "    <tr>\n",
              "      <th>4</th>\n",
              "      <td>ford torino</td>\n",
              "      <td>17.0</td>\n",
              "      <td>8</td>\n",
              "      <td>302.0</td>\n",
              "      <td>140.0</td>\n",
              "      <td>3449</td>\n",
              "      <td>10.5</td>\n",
              "      <td>1970-01-01</td>\n",
              "      <td>USA</td>\n",
              "    </tr>\n",
              "  </tbody>\n",
              "</table>\n",
              "</div>\n",
              "      <button class=\"colab-df-convert\" onclick=\"convertToInteractive('df-88f844af-4546-4482-9564-b55e85545385')\"\n",
              "              title=\"Convert this dataframe to an interactive table.\"\n",
              "              style=\"display:none;\">\n",
              "        \n",
              "  <svg xmlns=\"http://www.w3.org/2000/svg\" height=\"24px\"viewBox=\"0 0 24 24\"\n",
              "       width=\"24px\">\n",
              "    <path d=\"M0 0h24v24H0V0z\" fill=\"none\"/>\n",
              "    <path d=\"M18.56 5.44l.94 2.06.94-2.06 2.06-.94-2.06-.94-.94-2.06-.94 2.06-2.06.94zm-11 1L8.5 8.5l.94-2.06 2.06-.94-2.06-.94L8.5 2.5l-.94 2.06-2.06.94zm10 10l.94 2.06.94-2.06 2.06-.94-2.06-.94-.94-2.06-.94 2.06-2.06.94z\"/><path d=\"M17.41 7.96l-1.37-1.37c-.4-.4-.92-.59-1.43-.59-.52 0-1.04.2-1.43.59L10.3 9.45l-7.72 7.72c-.78.78-.78 2.05 0 2.83L4 21.41c.39.39.9.59 1.41.59.51 0 1.02-.2 1.41-.59l7.78-7.78 2.81-2.81c.8-.78.8-2.07 0-2.86zM5.41 20L4 18.59l7.72-7.72 1.47 1.35L5.41 20z\"/>\n",
              "  </svg>\n",
              "      </button>\n",
              "      \n",
              "  <style>\n",
              "    .colab-df-container {\n",
              "      display:flex;\n",
              "      flex-wrap:wrap;\n",
              "      gap: 12px;\n",
              "    }\n",
              "\n",
              "    .colab-df-convert {\n",
              "      background-color: #E8F0FE;\n",
              "      border: none;\n",
              "      border-radius: 50%;\n",
              "      cursor: pointer;\n",
              "      display: none;\n",
              "      fill: #1967D2;\n",
              "      height: 32px;\n",
              "      padding: 0 0 0 0;\n",
              "      width: 32px;\n",
              "    }\n",
              "\n",
              "    .colab-df-convert:hover {\n",
              "      background-color: #E2EBFA;\n",
              "      box-shadow: 0px 1px 2px rgba(60, 64, 67, 0.3), 0px 1px 3px 1px rgba(60, 64, 67, 0.15);\n",
              "      fill: #174EA6;\n",
              "    }\n",
              "\n",
              "    [theme=dark] .colab-df-convert {\n",
              "      background-color: #3B4455;\n",
              "      fill: #D2E3FC;\n",
              "    }\n",
              "\n",
              "    [theme=dark] .colab-df-convert:hover {\n",
              "      background-color: #434B5C;\n",
              "      box-shadow: 0px 1px 3px 1px rgba(0, 0, 0, 0.15);\n",
              "      filter: drop-shadow(0px 1px 2px rgba(0, 0, 0, 0.3));\n",
              "      fill: #FFFFFF;\n",
              "    }\n",
              "  </style>\n",
              "\n",
              "      <script>\n",
              "        const buttonEl =\n",
              "          document.querySelector('#df-88f844af-4546-4482-9564-b55e85545385 button.colab-df-convert');\n",
              "        buttonEl.style.display =\n",
              "          google.colab.kernel.accessAllowed ? 'block' : 'none';\n",
              "\n",
              "        async function convertToInteractive(key) {\n",
              "          const element = document.querySelector('#df-88f844af-4546-4482-9564-b55e85545385');\n",
              "          const dataTable =\n",
              "            await google.colab.kernel.invokeFunction('convertToInteractive',\n",
              "                                                     [key], {});\n",
              "          if (!dataTable) return;\n",
              "\n",
              "          const docLinkHtml = 'Like what you see? Visit the ' +\n",
              "            '<a target=\"_blank\" href=https://colab.research.google.com/notebooks/data_table.ipynb>data table notebook</a>'\n",
              "            + ' to learn more about interactive tables.';\n",
              "          element.innerHTML = '';\n",
              "          dataTable['output_type'] = 'display_data';\n",
              "          await google.colab.output.renderOutput(dataTable, element);\n",
              "          const docLink = document.createElement('div');\n",
              "          docLink.innerHTML = docLinkHtml;\n",
              "          element.appendChild(docLink);\n",
              "        }\n",
              "      </script>\n",
              "    </div>\n",
              "  </div>\n",
              "  "
            ],
            "text/plain": [
              "                        Name  Miles_per_Gallon  ...       Year  Origin\n",
              "0  chevrolet chevelle malibu              18.0  ... 1970-01-01     USA\n",
              "1          buick skylark 320              15.0  ... 1970-01-01     USA\n",
              "2         plymouth satellite              18.0  ... 1970-01-01     USA\n",
              "3              amc rebel sst              16.0  ... 1970-01-01     USA\n",
              "4                ford torino              17.0  ... 1970-01-01     USA\n",
              "\n",
              "[5 rows x 9 columns]"
            ]
          },
          "metadata": {},
          "execution_count": 4
        }
      ],
      "source": [
        "cars.head()"
      ]
    },
    {
      "cell_type": "code",
      "execution_count": null,
      "metadata": {
        "id": "3LqpMCpOmI_l"
      },
      "outputs": [],
      "source": [
        "# Add a x-axis encoding one of the dimensions\n"
      ]
    },
    {
      "cell_type": "code",
      "execution_count": null,
      "metadata": {
        "id": "0d_d2cLEmI_m"
      },
      "outputs": [],
      "source": [
        "# Use tick to better visualize each item\n"
      ]
    },
    {
      "cell_type": "markdown",
      "metadata": {
        "id": "mB6G7XHemI_m"
      },
      "source": [
        "### Step 3: Add encoding on the y-axis\n",
        "We can expand the chart into 2D by also encoding the *y position*. In this way, you can see the correlation between two data variables."
      ]
    },
    {
      "cell_type": "code",
      "execution_count": null,
      "metadata": {
        "id": "iPM-XkSumI_n",
        "outputId": "5c8afb87-7646-4fac-9a5b-1f9a0cc73069",
        "colab": {
          "base_uri": "https://localhost:8080/",
          "height": 206
        }
      },
      "outputs": [
        {
          "output_type": "execute_result",
          "data": {
            "text/html": [
              "\n",
              "  <div id=\"df-85bd630f-6407-49a8-8375-8f9d1dca8730\">\n",
              "    <div class=\"colab-df-container\">\n",
              "      <div>\n",
              "<style scoped>\n",
              "    .dataframe tbody tr th:only-of-type {\n",
              "        vertical-align: middle;\n",
              "    }\n",
              "\n",
              "    .dataframe tbody tr th {\n",
              "        vertical-align: top;\n",
              "    }\n",
              "\n",
              "    .dataframe thead th {\n",
              "        text-align: right;\n",
              "    }\n",
              "</style>\n",
              "<table border=\"1\" class=\"dataframe\">\n",
              "  <thead>\n",
              "    <tr style=\"text-align: right;\">\n",
              "      <th></th>\n",
              "      <th>Name</th>\n",
              "      <th>Miles_per_Gallon</th>\n",
              "      <th>Cylinders</th>\n",
              "      <th>Displacement</th>\n",
              "      <th>Horsepower</th>\n",
              "      <th>Weight_in_lbs</th>\n",
              "      <th>Acceleration</th>\n",
              "      <th>Year</th>\n",
              "      <th>Origin</th>\n",
              "    </tr>\n",
              "  </thead>\n",
              "  <tbody>\n",
              "    <tr>\n",
              "      <th>0</th>\n",
              "      <td>chevrolet chevelle malibu</td>\n",
              "      <td>18.0</td>\n",
              "      <td>8</td>\n",
              "      <td>307.0</td>\n",
              "      <td>130.0</td>\n",
              "      <td>3504</td>\n",
              "      <td>12.0</td>\n",
              "      <td>1970-01-01</td>\n",
              "      <td>USA</td>\n",
              "    </tr>\n",
              "    <tr>\n",
              "      <th>1</th>\n",
              "      <td>buick skylark 320</td>\n",
              "      <td>15.0</td>\n",
              "      <td>8</td>\n",
              "      <td>350.0</td>\n",
              "      <td>165.0</td>\n",
              "      <td>3693</td>\n",
              "      <td>11.5</td>\n",
              "      <td>1970-01-01</td>\n",
              "      <td>USA</td>\n",
              "    </tr>\n",
              "    <tr>\n",
              "      <th>2</th>\n",
              "      <td>plymouth satellite</td>\n",
              "      <td>18.0</td>\n",
              "      <td>8</td>\n",
              "      <td>318.0</td>\n",
              "      <td>150.0</td>\n",
              "      <td>3436</td>\n",
              "      <td>11.0</td>\n",
              "      <td>1970-01-01</td>\n",
              "      <td>USA</td>\n",
              "    </tr>\n",
              "    <tr>\n",
              "      <th>3</th>\n",
              "      <td>amc rebel sst</td>\n",
              "      <td>16.0</td>\n",
              "      <td>8</td>\n",
              "      <td>304.0</td>\n",
              "      <td>150.0</td>\n",
              "      <td>3433</td>\n",
              "      <td>12.0</td>\n",
              "      <td>1970-01-01</td>\n",
              "      <td>USA</td>\n",
              "    </tr>\n",
              "    <tr>\n",
              "      <th>4</th>\n",
              "      <td>ford torino</td>\n",
              "      <td>17.0</td>\n",
              "      <td>8</td>\n",
              "      <td>302.0</td>\n",
              "      <td>140.0</td>\n",
              "      <td>3449</td>\n",
              "      <td>10.5</td>\n",
              "      <td>1970-01-01</td>\n",
              "      <td>USA</td>\n",
              "    </tr>\n",
              "  </tbody>\n",
              "</table>\n",
              "</div>\n",
              "      <button class=\"colab-df-convert\" onclick=\"convertToInteractive('df-85bd630f-6407-49a8-8375-8f9d1dca8730')\"\n",
              "              title=\"Convert this dataframe to an interactive table.\"\n",
              "              style=\"display:none;\">\n",
              "        \n",
              "  <svg xmlns=\"http://www.w3.org/2000/svg\" height=\"24px\"viewBox=\"0 0 24 24\"\n",
              "       width=\"24px\">\n",
              "    <path d=\"M0 0h24v24H0V0z\" fill=\"none\"/>\n",
              "    <path d=\"M18.56 5.44l.94 2.06.94-2.06 2.06-.94-2.06-.94-.94-2.06-.94 2.06-2.06.94zm-11 1L8.5 8.5l.94-2.06 2.06-.94-2.06-.94L8.5 2.5l-.94 2.06-2.06.94zm10 10l.94 2.06.94-2.06 2.06-.94-2.06-.94-.94-2.06-.94 2.06-2.06.94z\"/><path d=\"M17.41 7.96l-1.37-1.37c-.4-.4-.92-.59-1.43-.59-.52 0-1.04.2-1.43.59L10.3 9.45l-7.72 7.72c-.78.78-.78 2.05 0 2.83L4 21.41c.39.39.9.59 1.41.59.51 0 1.02-.2 1.41-.59l7.78-7.78 2.81-2.81c.8-.78.8-2.07 0-2.86zM5.41 20L4 18.59l7.72-7.72 1.47 1.35L5.41 20z\"/>\n",
              "  </svg>\n",
              "      </button>\n",
              "      \n",
              "  <style>\n",
              "    .colab-df-container {\n",
              "      display:flex;\n",
              "      flex-wrap:wrap;\n",
              "      gap: 12px;\n",
              "    }\n",
              "\n",
              "    .colab-df-convert {\n",
              "      background-color: #E8F0FE;\n",
              "      border: none;\n",
              "      border-radius: 50%;\n",
              "      cursor: pointer;\n",
              "      display: none;\n",
              "      fill: #1967D2;\n",
              "      height: 32px;\n",
              "      padding: 0 0 0 0;\n",
              "      width: 32px;\n",
              "    }\n",
              "\n",
              "    .colab-df-convert:hover {\n",
              "      background-color: #E2EBFA;\n",
              "      box-shadow: 0px 1px 2px rgba(60, 64, 67, 0.3), 0px 1px 3px 1px rgba(60, 64, 67, 0.15);\n",
              "      fill: #174EA6;\n",
              "    }\n",
              "\n",
              "    [theme=dark] .colab-df-convert {\n",
              "      background-color: #3B4455;\n",
              "      fill: #D2E3FC;\n",
              "    }\n",
              "\n",
              "    [theme=dark] .colab-df-convert:hover {\n",
              "      background-color: #434B5C;\n",
              "      box-shadow: 0px 1px 3px 1px rgba(0, 0, 0, 0.15);\n",
              "      filter: drop-shadow(0px 1px 2px rgba(0, 0, 0, 0.3));\n",
              "      fill: #FFFFFF;\n",
              "    }\n",
              "  </style>\n",
              "\n",
              "      <script>\n",
              "        const buttonEl =\n",
              "          document.querySelector('#df-85bd630f-6407-49a8-8375-8f9d1dca8730 button.colab-df-convert');\n",
              "        buttonEl.style.display =\n",
              "          google.colab.kernel.accessAllowed ? 'block' : 'none';\n",
              "\n",
              "        async function convertToInteractive(key) {\n",
              "          const element = document.querySelector('#df-85bd630f-6407-49a8-8375-8f9d1dca8730');\n",
              "          const dataTable =\n",
              "            await google.colab.kernel.invokeFunction('convertToInteractive',\n",
              "                                                     [key], {});\n",
              "          if (!dataTable) return;\n",
              "\n",
              "          const docLinkHtml = 'Like what you see? Visit the ' +\n",
              "            '<a target=\"_blank\" href=https://colab.research.google.com/notebooks/data_table.ipynb>data table notebook</a>'\n",
              "            + ' to learn more about interactive tables.';\n",
              "          element.innerHTML = '';\n",
              "          dataTable['output_type'] = 'display_data';\n",
              "          await google.colab.output.renderOutput(dataTable, element);\n",
              "          const docLink = document.createElement('div');\n",
              "          docLink.innerHTML = docLinkHtml;\n",
              "          element.appendChild(docLink);\n",
              "        }\n",
              "      </script>\n",
              "    </div>\n",
              "  </div>\n",
              "  "
            ],
            "text/plain": [
              "                        Name  Miles_per_Gallon  ...       Year  Origin\n",
              "0  chevrolet chevelle malibu              18.0  ... 1970-01-01     USA\n",
              "1          buick skylark 320              15.0  ... 1970-01-01     USA\n",
              "2         plymouth satellite              18.0  ... 1970-01-01     USA\n",
              "3              amc rebel sst              16.0  ... 1970-01-01     USA\n",
              "4                ford torino              17.0  ... 1970-01-01     USA\n",
              "\n",
              "[5 rows x 9 columns]"
            ]
          },
          "metadata": {},
          "execution_count": 7
        }
      ],
      "source": [
        "cars.head()"
      ]
    },
    {
      "cell_type": "code",
      "execution_count": null,
      "metadata": {
        "id": "GqCCby0rmI_o"
      },
      "outputs": [],
      "source": [
        "# Add a y-axis encoding another quantitative dimension\n"
      ]
    },
    {
      "cell_type": "markdown",
      "metadata": {
        "id": "9ssFI44ZmI_p"
      },
      "source": [
        "### Step 4: Add the color encoding\n",
        "Next, we add the *color* encoding to display nominal attribute (color hue) or quantitative variable (color saturation) to display the 3rd data variable.\n",
        "\n",
        "**Tip 1:** Altair will infer the type of data before creating the chart. But it is always good that we specify the type of data in the encoding.\n",
        "\n",
        "[Altair](https://altair-viz.github.io/user_guide/encoding.html) allows to map four main types of data:\n",
        "- Quantitative (Q): a continuous real-valued quantity\n",
        "- Ordinal (O): a discrete ordered quantity\n",
        "- Nominal (N): a discrete unordered category\n",
        "- Temporal (T): a time or date value\n",
        "\n",
        "**Tip 2:** Altair provides the interaction to pan and zoom along charts; Altair contains a shortcut to enable this via the ``interactive()`` method.\n",
        "\n",
        "**Tip 3:** Add tooltip in the ``encoding()`` to show tooltip when hover on the mark."
      ]
    },
    {
      "cell_type": "code",
      "execution_count": null,
      "metadata": {
        "id": "Q_nneiw1mI_p"
      },
      "outputs": [],
      "source": [
        "# Add color to encode colors for a nominal variable.\n"
      ]
    },
    {
      "cell_type": "code",
      "execution_count": null,
      "metadata": {
        "id": "zE4_GvwNmI_q"
      },
      "outputs": [],
      "source": [
        "# We can also bind color scale to a quantitative variable.\n"
      ]
    },
    {
      "cell_type": "markdown",
      "source": [
        "### Step 5: Chart configutation\n",
        "\n",
        "1. The chart is too big? or too small? You can adjust the size and more by setting ``properties()`` of the chart (e.g., height, width, title).\n",
        "\n",
        "2. Change axis labels to help your charts be more readable.\n",
        "\n",
        "There are many things that you can change on the chart to make it looks better. Please read for more details from [chart configuration](https://altair-viz.github.io/user_guide/customization.html) and [top-levl configuration](https://altair-viz.github.io/user_guide/configuration.html)."
      ],
      "metadata": {
        "id": "7uojT0IvBCAp"
      }
    },
    {
      "cell_type": "code",
      "source": [
        "# Add color to encode colors for a nominal variable.\n"
      ],
      "metadata": {
        "id": "ngCzlZszCEbg"
      },
      "execution_count": null,
      "outputs": []
    },
    {
      "cell_type": "markdown",
      "metadata": {
        "id": "HTETYxrAmI_r"
      },
      "source": [
        "## 3. Facet chart\n",
        "\n",
        "Altair provides a number of [compound plot](https://altair-viz.github.io/user_guide/compound_charts.html) types that can be used to create stacked, layered, faceted, and repeated charts.\n",
        "\n",
        "The easiest way to create facet charts using *column* and *row* in ``encode()`` function."
      ]
    },
    {
      "cell_type": "code",
      "execution_count": null,
      "metadata": {
        "id": "5_q14DWkmI_r"
      },
      "outputs": [],
      "source": [
        "# Horsepower and Miles_per_Gallon per origin\n"
      ]
    },
    {
      "cell_type": "markdown",
      "metadata": {
        "id": "-EN9NCErmI_s"
      },
      "source": [
        "Scatter plot: https://altair-viz.github.io/gallery/scatter_matrix.html\n",
        "I will just copy and paste and change some code.\n",
        "\n",
        "For more detail, please look at [Compound Charts: Layer, HConcat, VConcat, Repeat, Facet](https://altair-viz.github.io/user_guide/compound_charts.html)\n",
        "\n",
        "## 4. Binning and aggregation\n",
        "Altair provides [data transformation](https://altair-viz.github.io/user_guide/transform/index.html) functions to aggregate or filter data in the process of visualizing it. We just demonstrate a histogram here to give some idea."
      ]
    },
    {
      "cell_type": "code",
      "execution_count": null,
      "metadata": {
        "id": "AKxbE0p2mI_s"
      },
      "outputs": [],
      "source": [
        "# We aggregate the values on the x-axis (binning) and encode the count of each bin on the y-axis.\n"
      ]
    },
    {
      "cell_type": "code",
      "execution_count": null,
      "metadata": {
        "id": "WKWgWjtvmI_t"
      },
      "outputs": [],
      "source": [
        "# We can change the number of bins.\n"
      ]
    },
    {
      "cell_type": "code",
      "execution_count": null,
      "metadata": {
        "id": "jlCgq81hmI_t"
      },
      "outputs": [],
      "source": [
        "# We can use the count() transformation in every encoding\n"
      ]
    },
    {
      "cell_type": "markdown",
      "metadata": {
        "id": "5YlDIApCmI_t"
      },
      "source": [
        "More information on Binning and Aggregation functions in Alrair is [here](https://altair-viz.github.io/user_guide/encoding.html#binning-and-aggregation).\n",
        "\n",
        "## 5. Time series\n",
        "\n",
        "Altair also provides modules to help with [time series](https://altair-viz.github.io/user_guide/times_and_dates.html).\n",
        "\n",
        "**Tip:** Convert the time into ```YYYY-mm-dd``` format so that Altair understand that it is time series and don't forget to add ```{variable}:T``` at the end of the encoding."
      ]
    },
    {
      "cell_type": "code",
      "execution_count": null,
      "metadata": {
        "id": "eoZkBpajmI_t"
      },
      "outputs": [],
      "source": [
        "# Convert Year column into datetime\n"
      ]
    },
    {
      "cell_type": "code",
      "execution_count": null,
      "metadata": {
        "id": "oJ00F0ZnmI_u"
      },
      "outputs": [],
      "source": [
        ""
      ]
    },
    {
      "cell_type": "code",
      "execution_count": null,
      "metadata": {
        "id": "1YunX6QImI_u"
      },
      "outputs": [],
      "source": [
        "# We can see the trends of miles per gallon over the years.\n"
      ]
    },
    {
      "cell_type": "code",
      "execution_count": null,
      "metadata": {
        "id": "4PDH3ezlmI_u"
      },
      "outputs": [],
      "source": [
        "# We can draw the mean for each group.\n"
      ]
    },
    {
      "cell_type": "code",
      "execution_count": null,
      "metadata": {
        "id": "4hZCRQfimI_v"
      },
      "outputs": [],
      "source": [
        "# We can use area marks to visualize the confidence interval of the estimate of the mean.\n"
      ]
    },
    {
      "cell_type": "code",
      "execution_count": null,
      "metadata": {
        "id": "47uKUnQYmI_v"
      },
      "outputs": [],
      "source": [
        "# We can split between the contries.\n",
        "# We can use area marks to visualize the confidence interval of the estimate of the mean.\n"
      ]
    },
    {
      "cell_type": "code",
      "execution_count": null,
      "metadata": {
        "id": "RkPDcxIxmI_v"
      },
      "outputs": [],
      "source": [
        "# We can add line layer to the chart.\n"
      ]
    },
    {
      "cell_type": "markdown",
      "metadata": {
        "id": "p6Hfo1MTmI_v"
      },
      "source": [
        "Altair provide the build-in functions for [data transformation](https://altair-viz.github.io/user_guide/transform/index.html). Some interesting functions are as follows:\n",
        "- Regression Transform https://altair-viz.github.io/user_guide/transform/regression.html#user-guide-regression-transform\n",
        "- LOESS Transform https://altair-viz.github.io/user_guide/transform/loess.html#user-guide-loess-transform"
      ]
    },
    {
      "cell_type": "markdown",
      "metadata": {
        "id": "kLDj5hJ5mI_w"
      },
      "source": [
        "## 7. Summary\n",
        "**Building blocks of data visualization**\n",
        "\n",
        "1. Marks: mark_point(), mark_line(), mark_tick(), mark_bar(), mark_area(), mark_rect(), etc.\n",
        "2. Encodings: x, y, color, shape, size, row, column, text, tooltip, etc.\n",
        "3. Binning and aggregations: a List of available aggregations can be found in Altair’s documentation\n",
        "4. Stacking and layering (alt.layer <-> +, alt.hconcat <-> |, alt.vconcat <-> &)\n",
        "\n",
        "**What's next**\n",
        "\n",
        "See more examples of data visualizations with Altair at: https://altair-viz.github.io/gallery/\n",
        "\n",
        "Learn in more detail from the Altair tutorial: https://altair-viz.github.io/altair-tutorial/README.html"
      ]
    },
    {
      "cell_type": "code",
      "source": [
        ""
      ],
      "metadata": {
        "id": "tUMHmNG9Bp93"
      },
      "execution_count": null,
      "outputs": []
    }
  ],
  "metadata": {
    "kernelspec": {
      "display_name": "Python 3",
      "language": "python",
      "name": "python3"
    },
    "language_info": {
      "codemirror_mode": {
        "name": "ipython",
        "version": 3
      },
      "file_extension": ".py",
      "mimetype": "text/x-python",
      "name": "python",
      "nbconvert_exporter": "python",
      "pygments_lexer": "ipython3",
      "version": "3.8.5"
    },
    "colab": {
      "name": "T3 Data Visualization with Altair_workbook.ipynb",
      "provenance": [],
      "collapsed_sections": []
    }
  },
  "nbformat": 4,
  "nbformat_minor": 0
}