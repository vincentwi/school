{
  "nbformat": 4,
  "nbformat_minor": 0,
  "metadata": {
    "colab": {
      "name": "LMwS_Lecture1_Vincent_Wilmet_ex2.ipynb",
      "provenance": []
    },
    "kernelspec": {
      "name": "python3",
      "display_name": "Python 3"
    },
    "language_info": {
      "name": "python"
    }
  },
  "cells": [
    {
      "cell_type": "markdown",
      "source": [
        "# Learning Models with Simulation\n",
        "Lecture 1, Exercise 2\n",
        "\n",
        "Vincent Wilmet"
      ],
      "metadata": {
        "id": "zHrKSHassxqO"
      }
    },
    {
      "cell_type": "code",
      "execution_count": 45,
      "metadata": {
        "id": "zGxhUHsUoNWm"
      },
      "outputs": [],
      "source": [
        "import numpy as np\n",
        "import pandas as pd\n",
        "import matplotlib.pyplot as plt"
      ]
    },
    {
      "cell_type": "code",
      "source": [
        "alpha = 0.5\n",
        "beta = 10e-4\n",
        "gamma = 0.5\n",
        "N = 100\n",
        "T = 20"
      ],
      "metadata": {
        "id": "G9ywEbN6oO5f"
      },
      "execution_count": 46,
      "outputs": []
    },
    {
      "cell_type": "markdown",
      "source": [
        "## Deterministic Case"
      ],
      "metadata": {
        "id": "_CDWpVOErBI1"
      }
    },
    {
      "cell_type": "code",
      "source": [
        "x_det = []\n",
        "x0_det = 0\n",
        "x_det.append(x0_det)\n",
        "for i in range(1, T+1):\n",
        "  val = x_det[-1] + (N-x_det[-1])*(alpha + beta*x_det[-1]/N)\n",
        "  x_det.append(val)\n",
        "\n",
        "\n",
        "x_det[:4]"
      ],
      "metadata": {
        "colab": {
          "base_uri": "https://localhost:8080/"
        },
        "id": "SQkUGPL7oP78",
        "outputId": "1d7a9ce7-18db-4dbf-911c-fe9fa16b51d4"
      },
      "execution_count": 47,
      "outputs": [
        {
          "output_type": "execute_result",
          "data": {
            "text/plain": [
              "[0, 50.0, 75.025, 87.53123749375]"
            ]
          },
          "metadata": {},
          "execution_count": 47
        }
      ]
    },
    {
      "cell_type": "code",
      "source": [
        "y_det = []\n",
        "for i in range(0, T+1):\n",
        "  x_i = x_det[i]\n",
        "  y_det_i = np.random.binomial(x_i, gamma)\n",
        "  y_det.append(y_det_i)\n",
        "y_det[:4]"
      ],
      "metadata": {
        "colab": {
          "base_uri": "https://localhost:8080/"
        },
        "id": "HZ_RDDwXqWyy",
        "outputId": "c165abec-fd37-4511-c142-d304a9b82ad6"
      },
      "execution_count": 48,
      "outputs": [
        {
          "output_type": "execute_result",
          "data": {
            "text/plain": [
              "[0, 27, 36, 49]"
            ]
          },
          "metadata": {},
          "execution_count": 48
        }
      ]
    },
    {
      "cell_type": "code",
      "source": [
        "plt.plot(x_det)\n",
        "plt.plot(y_det)\n",
        "plt.show()"
      ],
      "metadata": {
        "colab": {
          "base_uri": "https://localhost:8080/",
          "height": 265
        },
        "id": "BatMc6C4qv-1",
        "outputId": "76bd31f2-b8c3-4c76-ae30-c08ac3c350aa"
      },
      "execution_count": 49,
      "outputs": [
        {
          "output_type": "display_data",
          "data": {
            "text/plain": [
              "<Figure size 432x288 with 1 Axes>"
            ],
            "image/png": "[encoded data removed]"
          },
          "metadata": {
            "needs_background": "light"
          }
        }
      ]
    },
    {
      "cell_type": "markdown",
      "source": [
        "## Binomial Case"
      ],
      "metadata": {
        "id": "J-UZZsziq_P0"
      }
    },
    {
      "cell_type": "code",
      "source": [
        "x_random = []\n",
        "x0_random = 0\n",
        "x_random.append(x0_random)\n",
        "for i in range(1, T+1):\n",
        "  epsilon = np.random.binomial(N-x_random[-1], alpha+beta*x_random[-1]/N)\n",
        "  x_random.append(x_random[-1]+epsilon)\n",
        "\n",
        "\n",
        "x_random[:4]"
      ],
      "metadata": {
        "colab": {
          "base_uri": "https://localhost:8080/"
        },
        "id": "czq9VSuoo39B",
        "outputId": "307dafa1-83fb-447a-d140-f7eb9f0c80f3"
      },
      "execution_count": 50,
      "outputs": [
        {
          "output_type": "execute_result",
          "data": {
            "text/plain": [
              "[0, 61, 81, 90]"
            ]
          },
          "metadata": {},
          "execution_count": 50
        }
      ]
    },
    {
      "cell_type": "code",
      "source": [
        "y_random = []\n",
        "for i in range(0, T+1):\n",
        "  x_i = x_det[i]\n",
        "  y_random_i = np.random.binomial(x_i, gamma)\n",
        "  y_random.append(y_random_i)\n",
        "y_random[:4]"
      ],
      "metadata": {
        "colab": {
          "base_uri": "https://localhost:8080/"
        },
        "id": "WdsM4YGCq2xv",
        "outputId": "275bebf8-d8b0-4ae9-b51b-54e459b2f7c4"
      },
      "execution_count": 51,
      "outputs": [
        {
          "output_type": "execute_result",
          "data": {
            "text/plain": [
              "[0, 22, 37, 50]"
            ]
          },
          "metadata": {},
          "execution_count": 51
        }
      ]
    },
    {
      "cell_type": "code",
      "source": [
        "plt.plot(x_random, label = \"X\")\n",
        "plt.plot(y_random, label = \"Y\")\n",
        "plt.legend()\n",
        "plt.show()"
      ],
      "metadata": {
        "colab": {
          "base_uri": "https://localhost:8080/",
          "height": 265
        },
        "id": "QahX50pApMFn",
        "outputId": "284a0d9d-da46-47a7-dff0-ef43fa02fa1b"
      },
      "execution_count": 52,
      "outputs": [
        {
          "output_type": "display_data",
          "data": {
            "text/plain": [
              "<Figure size 432x288 with 1 Axes>"
            ],
            "image/png": "[encoded data removed]"
          },
          "metadata": {
            "needs_background": "light"
          }
        }
      ]
    },
    {
      "cell_type": "markdown",
      "source": [
        "# all"
      ],
      "metadata": {
        "id": "RvDHmWKFrhRw"
      }
    },
    {
      "cell_type": "code",
      "source": [
        "plt.plot(x_random, label = \"X_random\")\n",
        "plt.plot(x_det, label = \"X_det\")\n",
        "plt.plot(y_random, label = \"Y_random\")\n",
        "plt.plot(y_det, label = \"Y_det\")\n",
        "plt.legend()\n",
        "plt.show()"
      ],
      "metadata": {
        "colab": {
          "base_uri": "https://localhost:8080/",
          "height": 265
        },
        "id": "qgT0CrFOrKJS",
        "outputId": "0818f031-f93f-49bf-a42a-11dfb092be2f"
      },
      "execution_count": 53,
      "outputs": [
        {
          "output_type": "display_data",
          "data": {
            "text/plain": [
              "<Figure size 432x288 with 1 Axes>"
            ],
            "image/png": "[encoded data removed]"
          },
          "metadata": {
            "needs_background": "light"
          }
        }
      ]
    },
    {
      "cell_type": "code",
      "source": [
        ""
      ],
      "metadata": {
        "id": "ef9K8iXUshrh"
      },
      "execution_count": 53,
      "outputs": []
    }
  ]
}