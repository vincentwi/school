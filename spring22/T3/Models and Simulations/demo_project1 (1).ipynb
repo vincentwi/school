{
 "cells": [
  {
   "cell_type": "code",
   "execution_count": 55,
   "metadata": {},
   "outputs": [],
   "source": [
    "import numpy as np\n",
    "import matplotlib.pyplot as plt\n",
    "import pandas as pd "
   ]
  },
  {
   "cell_type": "code",
   "execution_count": 56,
   "metadata": {},
   "outputs": [],
   "source": [
    "# Q1: reading and formatting dataset \n",
    "\n",
    "# Q1.1: read German credit dataset \n",
    "dataset = pd.read_csv('GermanCredit.txt', delim_whitespace = True, header = None)\n",
    "dataset.shape\n",
    "\n",
    "# Q1.2: credit risk data \n",
    "m = 800 \n",
    "n = 200\n",
    "ytrain = np.array(dataset.iloc[0:m,-1]) - 1\n",
    "ytest = np.array(dataset.iloc[m:(m+n),-1]) - 1\n",
    "\n",
    "# Q1.3: center and scale features \n",
    "xdata = np.array(dataset.iloc[:, 0:24])\n",
    "xdata = (xdata - np.mean(xdata, axis = 0)) / np.std(xdata, axis = 0)\n",
    "xtrain = xdata[0:m, :]\n",
    "xtest = xdata[m:(m+n), :]\n",
    "\n",
    "# Q1.4 add a column of ones \n",
    "xtrain = np.concatenate((np.ones([m, 1]), xtrain), axis = 1)\n",
    "xtest = np.concatenate((np.ones([n, 1]), xtest), axis = 1)\n",
    "\n",
    "# dimension\n",
    "D = 25"
   ]
  },
  {
   "cell_type": "code",
   "execution_count": null,
   "metadata": {},
   "outputs": [],
   "source": [
    "# install jax package\n",
    "import sys\n",
    "!{sys.executable} -m pip install jax "
   ]
  },
  {
   "cell_type": "code",
   "execution_count": 57,
   "metadata": {},
   "outputs": [
    {
     "name": "stdout",
     "output_type": "stream",
     "text": [
      "-2246.502872737364\n"
     ]
    }
   ],
   "source": [
    "# Q5 write log-likelihood function in numpy \n",
    "def loglikelihood_numpy(beta):\n",
    "    x_beta = np.matmul(xtrain, beta)\n",
    "    output = np.sum(ytrain * x_beta - np.log(1 + np.exp(x_beta)))\n",
    "    return output\n",
    "\n",
    "# simulate regression coeff\n",
    "beta = np.random.randn(D)  \n",
    "print(loglikelihood_numpy(beta))\n"
   ]
  },
  {
   "cell_type": "code",
   "execution_count": 58,
   "metadata": {},
   "outputs": [
    {
     "name": "stdout",
     "output_type": "stream",
     "text": [
      "-2246.5027\n",
      "36.4 µs ± 2.51 µs per loop (mean ± std. dev. of 7 runs, 10000 loops each)\n",
      "44.9 µs ± 9.38 µs per loop (mean ± std. dev. of 7 runs, 10000 loops each)\n"
     ]
    }
   ],
   "source": [
    "import jax.numpy as jnp\n",
    "from jax import jit\n",
    "\n",
    "# write log-likelihood function in a JAX-compatiable way\n",
    "@jit\n",
    "def loglikelihood_jax(beta):\n",
    "    x_beta = jnp.matmul(xtrain, beta)\n",
    "    output = jnp.sum(ytrain * x_beta - jnp.log(1 + jnp.exp(x_beta)))\n",
    "    return output\n",
    "\n",
    "# check that we get the same result as the numpy implementation\n",
    "print(loglikelihood_jax(beta))\n",
    "\n",
    "# there is no point using JIT for the log-likelihood\n",
    "jit_loglikelihood_jax = jit(loglikelihood_jax)\n",
    "\n",
    "import time\n",
    "%timeit jit_loglikelihood_jax(beta) # timing with JIT \n",
    "%timeit loglikelihood_jax(beta) # timing without JIT\n",
    "\n",
    "# use the implementation without JIT\n",
    "loglikelihood = loglikelihood_jax\n"
   ]
  },
  {
   "cell_type": "code",
   "execution_count": 59,
   "metadata": {},
   "outputs": [
    {
     "name": "stdout",
     "output_type": "stream",
     "text": [
      "1.99 ms ± 459 µs per loop (mean ± std. dev. of 7 runs, 1 loop each)\n",
      "38.7 µs ± 3.93 µs per loop (mean ± std. dev. of 7 runs, 10000 loops each)\n"
     ]
    }
   ],
   "source": [
    "# Q6: auto-diff to get the gradient of the log-likelihood\n",
    "from jax import grad\n",
    "gradloglikelihood1 = grad(loglikelihood_jax) # without JIT\n",
    "gradloglikelihood2 = jit(grad(loglikelihood_jax)) # with JIT \n",
    "\n",
    "# for the gradient, there is a signfiicant speedup with JIT\n",
    "%timeit gradloglikelihood1(beta)\n",
    "%timeit gradloglikelihood2(beta)\n",
    "\n",
    "# use the faster implementation\n",
    "gradloglikelihood = jit(grad(loglikelihood_jax))"
   ]
  },
  {
   "cell_type": "code",
   "execution_count": 60,
   "metadata": {},
   "outputs": [],
   "source": [
    "# Q7: prior density\n",
    "constant = np.pi**2 * m / (3 * D)\n",
    "Sigma = constant * np.linalg.inv(np.matmul(xtrain.transpose(), xtrain))\n",
    "\n",
    "from jax.scipy.stats import multivariate_normal\n",
    "\n",
    "@jit\n",
    "def logprior(beta):\n",
    "    return multivariate_normal.logpdf(beta, mean = jnp.zeros(D), cov = Sigma)\n"
   ]
  },
  {
   "cell_type": "code",
   "execution_count": 62,
   "metadata": {},
   "outputs": [
    {
     "name": "stdout",
     "output_type": "stream",
     "text": [
      "36.4 µs ± 3.51 µs per loop (mean ± std. dev. of 7 runs, 10000 loops each)\n",
      "1.63 ms ± 108 µs per loop (mean ± std. dev. of 7 runs, 1000 loops each)\n"
     ]
    }
   ],
   "source": [
    "# Q8: gradient of log-prior density\n",
    "gradlogprior1 = jit(grad(logprior))\n",
    "gradlogprior2 = grad(logprior)\n",
    "\n",
    "%timeit gradlogprior1(beta)\n",
    "%timeit gradlogprior2(beta)\n",
    "\n",
    "# use JIT because it is faster\n",
    "gradlogprior = jit(grad(logprior))\n"
   ]
  },
  {
   "cell_type": "code",
   "execution_count": 65,
   "metadata": {},
   "outputs": [],
   "source": [
    "# Q9: log-unnormalized posterior density\n",
    "def logdensity(beta):\n",
    "    return logprior(beta) + loglikelihood(beta)\n",
    "\n",
    "# Q10: gradient of log-unnormalized posterior density\n",
    "def gradlogdensity(beta):\n",
    "    return gradlogprior(beta) + gradloglikelihood(beta)\n"
   ]
  },
  {
   "cell_type": "code",
   "execution_count": 76,
   "metadata": {},
   "outputs": [],
   "source": [
    "# Section 3\n",
    "# Q1: independent Metropolis-Hastings\n",
    "import scipy\n",
    "\n",
    "def sample_prior():\n",
    "    return scipy.stats.multivariate_normal.rvs(mean = np.zeros(D), cov = Sigma)\n",
    "\n",
    "\n",
    "# initialize the Markov chain\n",
    "beta = sample_prior()\n",
    "\n",
    "N = 10000\n",
    "store_beta = np.zeros((N, D))\n",
    "num_accept = 0 \n",
    "for n in range(N):\n",
    "    # 1) sample proposed state\n",
    "    proposed_state = sample_prior()\n",
    "\n",
    "    # 2) evaluate posterior densities\n",
    "    logdensity_proposed = logdensity(proposed_state)\n",
    "    logdensity_current = logdensity(beta)\n",
    "\n",
    "    # 3) evaluate prior densities\n",
    "    logprior_proposed = logprior(proposed_state)\n",
    "    logprior_beta = logprior(beta)\n",
    "\n",
    "    # 4) log-acceptance prob\n",
    "    logacceptprob = float(logdensity_proposed + logprior_beta - logdensity_current - logprior_proposed)\n",
    "\n",
    "    # 5) accept or reject\n",
    "    uniform = np.random.rand(1) # sample a uniform on [0,1]\n",
    "    if np.log(uniform) < logacceptprob:\n",
    "        beta = proposed_state.copy() # accepting \n",
    "        num_accept += 1\n",
    "\n",
    "    # 6) store states \n",
    "    store_beta[n,:] = beta\n"
   ]
  },
  {
   "cell_type": "code",
   "execution_count": 67,
   "metadata": {},
   "outputs": [
    {
     "data": {
      "text/plain": [
       "0.0008"
      ]
     },
     "execution_count": 67,
     "metadata": {},
     "output_type": "execute_result"
    }
   ],
   "source": [
    "# acceptance rate\n",
    "num_accept / N "
   ]
  },
  {
   "cell_type": "code",
   "execution_count": 71,
   "metadata": {},
   "outputs": [
    {
     "data": {
      "text/plain": [
       "Text(0, 0.5, 'beta0')"
      ]
     },
     "execution_count": 71,
     "metadata": {},
     "output_type": "execute_result"
    },
    {
     "data": {
      "image/png": "[encoded data removed]",
      "text/plain": [
       "<Figure size 432x288 with 1 Axes>"
      ]
     },
     "metadata": {
      "needs_background": "light"
     },
     "output_type": "display_data"
    }
   ],
   "source": [
    "# trace plot\n",
    "iteration = np.arange(1, N+1)\n",
    "plt.figure()\n",
    "plt.plot(iteration, store_beta[:,0])\n",
    "plt.plot(iteration, store_beta[:,1])\n",
    "plt.plot(iteration, store_beta[:,2])\n",
    "plt.xlabel('iteration')\n",
    "plt.ylabel('beta0')"
   ]
  },
  {
   "cell_type": "code",
   "execution_count": 75,
   "metadata": {},
   "outputs": [
    {
     "data": {
      "image/png": "[encoded data removed]",
      "text/plain": [
       "<Figure size 432x288 with 1 Axes>"
      ]
     },
     "execution_count": 75,
     "metadata": {},
     "output_type": "execute_result"
    },
    {
     "data": {
      "text/plain": [
       "<Figure size 432x288 with 0 Axes>"
      ]
     },
     "metadata": {},
     "output_type": "display_data"
    },
    {
     "data": {
      "image/png": "[encoded data removed]",
      "text/plain": [
       "<Figure size 432x288 with 1 Axes>"
      ]
     },
     "metadata": {
      "needs_background": "light"
     },
     "output_type": "display_data"
    },
    {
     "data": {
      "image/png": "[encoded data removed]",
      "text/plain": [
       "<Figure size 432x288 with 1 Axes>"
      ]
     },
     "metadata": {
      "needs_background": "light"
     },
     "output_type": "display_data"
    }
   ],
   "source": [
    "# auto-correlation function\n",
    "from statsmodels.graphics.tsaplots import plot_acf\n",
    "\n",
    "plt.figure()\n",
    "plot_acf(store_beta[:,0], lags = 30, alpha = None)\n",
    "plot_acf(store_beta[:,1], lags = 30, alpha = None)"
   ]
  },
  {
   "cell_type": "code",
   "execution_count": null,
   "metadata": {},
   "outputs": [],
   "source": []
  }
 ],
 "metadata": {
  "interpreter": {
   "hash": "92682f8464e9044ba142483ddeefd87e1deb5806fbb1da5a3f470e5bd39935be"
  },
  "kernelspec": {
   "display_name": "Python 3.8.3 ('base')",
   "language": "python",
   "name": "python3"
  },
  "language_info": {
   "codemirror_mode": {
    "name": "ipython",
    "version": 3
   },
   "file_extension": ".py",
   "mimetype": "text/x-python",
   "name": "python",
   "nbconvert_exporter": "python",
   "pygments_lexer": "ipython3",
   "version": "3.8.3"
  }
 },
 "nbformat": 4,
 "nbformat_minor": 4
}
