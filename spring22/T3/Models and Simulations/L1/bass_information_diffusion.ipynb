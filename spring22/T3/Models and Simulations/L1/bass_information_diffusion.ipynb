{
 "cells": [
  {
   "cell_type": "markdown",
   "metadata": {},
   "source": [
    "# Exercise 2: Bass information diffusion"
   ]
  },
  {
   "cell_type": "code",
   "execution_count": 1,
   "metadata": {},
   "outputs": [],
   "source": [
    "import numpy as np\n",
    "import matplotlib.pyplot as plt"
   ]
  },
  {
   "cell_type": "code",
   "execution_count": 2,
   "metadata": {},
   "outputs": [],
   "source": [
    "# number of time steps \n",
    "T = 20\n",
    "\n",
    "# number of users \n",
    "N = 100\n",
    "\n",
    "# parameters \n",
    "alpha = 0.5\n",
    "beta = 1e-4\n",
    "gamma = 0.5"
   ]
  },
  {
   "cell_type": "code",
   "execution_count": 3,
   "metadata": {},
   "outputs": [],
   "source": [
    "# determinstic Bass model\n",
    "deterministic_X = np.zeros(T+1) # store latent states\n",
    "deterministic_X[0] = 0 # initial time \n",
    "    \n",
    "# forward in time \n",
    "for t in range(T):\n",
    "    probability = alpha + beta * deterministic_X[t] / N \n",
    "    deterministic_X[t+1] = deterministic_X[t] + (N - deterministic_X[t]) * probability\n"
   ]
  },
  {
   "cell_type": "code",
   "execution_count": 4,
   "metadata": {},
   "outputs": [],
   "source": [
    "# stochastic Bass model\n",
    "X = np.zeros(T+1) # store latent states\n",
    "Y = np.zeros(T+1) # store observations\n",
    "\n",
    "# initial time \n",
    "X[0] = 0\n",
    "Y[0] = 0\n",
    "    \n",
    "# forward in time \n",
    "for t in range(T):\n",
    "    probability = alpha + beta * X[t] / N \n",
    "    epsilon = np.random.binomial(N - X[t], probability) # simulated increment \n",
    "    X[t+1] = X[t] + epsilon \n",
    "    Y[t+1] = np.random.binomial(X[t+1], gamma) \n"
   ]
  },
  {
   "cell_type": "code",
   "execution_count": 5,
   "metadata": {},
   "outputs": [
    {
     "data": {
      "text/plain": [
       "<matplotlib.legend.Legend at 0x7ffa502ef520>"
      ]
     },
     "execution_count": 5,
     "metadata": {},
     "output_type": "execute_result"
    },
    {
     "data": {
      "image/png": "[encoded data removed]",
      "text/plain": [
       "<Figure size 432x288 with 1 Axes>"
      ]
     },
     "metadata": {
      "needs_background": "light"
     },
     "output_type": "display_data"
    }
   ],
   "source": [
    "# plot simulated \n",
    "time = np.arange(T+1)\n",
    "plt.scatter(time, deterministic_X) \n",
    "plt.scatter(time, X) \n",
    "plt.scatter(time, Y) \n",
    "plt.legend([\"Determinstic states\", \"Latent states\", \"Observations\"], fontsize = 15) \n",
    "\n",
    "# Both simulated Bass processes look close "
   ]
  }
 ],
 "metadata": {
  "kernelspec": {
   "display_name": "Python 3",
   "language": "python",
   "name": "python3"
  },
  "language_info": {
   "codemirror_mode": {
    "name": "ipython",
    "version": 3
   },
   "file_extension": ".py",
   "mimetype": "text/x-python",
   "name": "python",
   "nbconvert_exporter": "python",
   "pygments_lexer": "ipython3",
   "version": "3.8.3"
  }
 },
 "nbformat": 4,
 "nbformat_minor": 4
}
