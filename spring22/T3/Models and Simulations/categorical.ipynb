{
 "cells": [
  {
   "cell_type": "code",
   "execution_count": 1,
   "metadata": {},
   "outputs": [],
   "source": [
    "import numpy as np\n",
    "import matplotlib.pyplot as plt"
   ]
  },
  {
   "cell_type": "code",
   "execution_count": 2,
   "metadata": {},
   "outputs": [],
   "source": [
    "def inverseCDF(pmf, N):\n",
    "    \"\"\"Simulate N samples from categorical distribution\"\"\"\n",
    "    samples = np.zeros(N)\n",
    "    cdf = np.cumsum(pmf)\n",
    "    for n in range(N):\n",
    "        # sample uniform\n",
    "        U = np.random.rand(1)\n",
    "        k = 0 \n",
    "        while (cdf[k] < U):\n",
    "            k = k + 1\n",
    "        samples[n] = k\n",
    "    return samples"
   ]
  },
  {
   "cell_type": "code",
   "execution_count": 3,
   "metadata": {},
   "outputs": [],
   "source": [
    "# number of categories\n",
    "K = 5\n",
    "\n",
    "# creating a probability mass function\n",
    "pmf = np.random.rand(K)\n",
    "pmf = pmf / np.sum(pmf)\n",
    "\n",
    "# sample size\n",
    "N = 10000\n",
    "\n",
    "# sample using inverse CDF method\n",
    "X = inverseCDF(pmf, N)"
   ]
  },
  {
   "cell_type": "code",
   "execution_count": 4,
   "metadata": {},
   "outputs": [
    {
     "data": {
      "text/plain": [
       "array([0.1498, 0.0087, 0.3703, 0.4107, 0.0605])"
      ]
     },
     "execution_count": 4,
     "metadata": {},
     "output_type": "execute_result"
    }
   ],
   "source": [
    "# sample proportions of taking integers \n",
    "sample_proportion = np.unique(X, return_counts = True)[1] / N\n",
    "sample_proportion"
   ]
  },
  {
   "cell_type": "code",
   "execution_count": 5,
   "metadata": {},
   "outputs": [
    {
     "data": {
      "text/plain": [
       "array([0.14946057, 0.00952753, 0.37023321, 0.41658569, 0.05419299])"
      ]
     },
     "execution_count": 5,
     "metadata": {},
     "output_type": "execute_result"
    }
   ],
   "source": [
    "# compare with theoretical probabilities\n",
    "pmf"
   ]
  }
 ],
 "metadata": {
  "kernelspec": {
   "display_name": "Python 3",
   "language": "python",
   "name": "python3"
  },
  "language_info": {
   "codemirror_mode": {
    "name": "ipython",
    "version": 3
   },
   "file_extension": ".py",
   "mimetype": "text/x-python",
   "name": "python",
   "nbconvert_exporter": "python",
   "pygments_lexer": "ipython3",
   "version": "3.8.3"
  }
 },
 "nbformat": 4,
 "nbformat_minor": 4
}
