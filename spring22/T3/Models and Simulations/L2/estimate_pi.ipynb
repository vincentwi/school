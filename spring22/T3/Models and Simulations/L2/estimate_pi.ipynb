{
 "cells": [
  {
   "cell_type": "code",
   "execution_count": 9,
   "metadata": {},
   "outputs": [],
   "source": [
    "import numpy as np\n",
    "import matplotlib.pyplot as plt"
   ]
  },
  {
   "cell_type": "code",
   "execution_count": 10,
   "metadata": {},
   "outputs": [
    {
     "data": {
      "text/plain": [
       "0.0014132076039221782"
      ]
     },
     "execution_count": 10,
     "metadata": {},
     "output_type": "execute_result"
    }
   ],
   "source": [
    "# sample size\n",
    "N = 1000\n",
    "\n",
    "# sample from uniform distribution on the square\n",
    "X = 2 * np.random.rand(N) - 1 # uniforms on [-1, 1]\n",
    "Y = 2 * np.random.rand(N) - 1 # uniforms on [-1, 1]\n",
    "\n",
    "# compute Monte Carlo estimator \n",
    "sample_proportion = np.mean(X**2 + Y **2 <= 1)\n",
    "pi_estimate = 4 * sample_proportion\n",
    "\n",
    "# squared error\n",
    "(pi_estimate - np.pi)**2\n"
   ]
  },
  {
   "cell_type": "code",
   "execution_count": 11,
   "metadata": {},
   "outputs": [],
   "source": [
    "# consider different sample sizes\n",
    "sample_sizes = [250, 500, 750, 1000, 1250]\n",
    "num_repeats = 10000\n",
    "squared_error = np.zeros([num_repeats, 5])\n",
    "for k in range(5):\n",
    "    # current sample size\n",
    "    N = sample_sizes[k]\n",
    "    for i in range(num_repeats):\n",
    "        # sample from uniform distribution on the square\n",
    "        X = 2 * np.random.rand(N) - 1 # uniforms on [-1, 1]\n",
    "        Y = 2 * np.random.rand(N) - 1 # uniforms on [-1, 1]\n",
    "\n",
    "        # compute Monte Carlo estimator \n",
    "        sample_proportion = np.mean(X**2 + Y **2 <= 1)\n",
    "        pi_estimate = 4 * sample_proportion\n",
    "\n",
    "        # squared error\n",
    "        squared_error[i, k] = (pi_estimate - np.pi)**2        \n",
    "    "
   ]
  },
  {
   "cell_type": "code",
   "execution_count": 12,
   "metadata": {},
   "outputs": [],
   "source": [
    "# compute root mean squared error\n",
    "rmse = np.sqrt(np.mean(squared_error, axis = 0))"
   ]
  },
  {
   "cell_type": "code",
   "execution_count": 13,
   "metadata": {},
   "outputs": [
    {
     "data": {
      "text/plain": [
       "<matplotlib.legend.Legend at 0x7feae06d4370>"
      ]
     },
     "execution_count": 13,
     "metadata": {},
     "output_type": "execute_result"
    },
    {
     "data": {
      "image/png": "[encoded data removed]",
      "text/plain": [
       "<Figure size 432x288 with 1 Axes>"
      ]
     },
     "metadata": {
      "needs_background": "light"
     },
     "output_type": "display_data"
    }
   ],
   "source": [
    "# from theory, we know that RMSE = constant / N^{0.5}\n",
    "# so in logarithmic scale, log(RMSE) = log(constant) - 0.5 * log(N)\n",
    "# therefore we plot log(RMSE) against log(N)\n",
    "plt.plot(np.log(sample_sizes), np.log(rmse))\n",
    "plt.plot(np.log(sample_sizes), -0.5 * np.log(sample_sizes))\n",
    "plt.legend(['RMSE', 'Slope = -0.5'], fontsize = 15)\n",
    "\n",
    "# this shows that we have the correct Monte Carlo as the slopes are the same!"
   ]
  }
 ],
 "metadata": {
  "kernelspec": {
   "display_name": "Python 3",
   "language": "python",
   "name": "python3"
  },
  "language_info": {
   "codemirror_mode": {
    "name": "ipython",
    "version": 3
   },
   "file_extension": ".py",
   "mimetype": "text/x-python",
   "name": "python",
   "nbconvert_exporter": "python",
   "pygments_lexer": "ipython3",
   "version": "3.8.3"
  }
 },
 "nbformat": 4,
 "nbformat_minor": 4
}
