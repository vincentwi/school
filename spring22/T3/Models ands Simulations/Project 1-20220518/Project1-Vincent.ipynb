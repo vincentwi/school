{
 "cells": [
  {
   "cell_type": "code",
   "execution_count": 36,
   "id": "close-colombia",
   "metadata": {},
   "outputs": [],
   "source": [
    "#Project 1\n",
    "import pandas as pd\n",
    "# import numpy as np\n",
    "import jax.numpy as jnp\n",
    "import matplotlib.pyplot as plt\n",
    "import time\n",
    "import scipy"
   ]
  },
  {
   "cell_type": "markdown",
   "id": "secure-wyoming",
   "metadata": {},
   "source": [
    "# Question 1: Reading and formatting dataset"
   ]
  },
  {
   "cell_type": "code",
   "execution_count": 80,
   "id": "permanent-anatomy",
   "metadata": {},
   "outputs": [
    {
     "data": {
      "text/html": [
       "<div>\n",
       "<style scoped>\n",
       "    .dataframe tbody tr th:only-of-type {\n",
       "        vertical-align: middle;\n",
       "    }\n",
       "\n",
       "    .dataframe tbody tr th {\n",
       "        vertical-align: top;\n",
       "    }\n",
       "\n",
       "    .dataframe thead th {\n",
       "        text-align: right;\n",
       "    }\n",
       "</style>\n",
       "<table border=\"1\" class=\"dataframe\">\n",
       "  <thead>\n",
       "    <tr style=\"text-align: right;\">\n",
       "      <th></th>\n",
       "      <th>0</th>\n",
       "      <th>1</th>\n",
       "      <th>2</th>\n",
       "      <th>3</th>\n",
       "      <th>4</th>\n",
       "      <th>5</th>\n",
       "      <th>6</th>\n",
       "      <th>7</th>\n",
       "      <th>8</th>\n",
       "      <th>9</th>\n",
       "      <th>...</th>\n",
       "      <th>15</th>\n",
       "      <th>16</th>\n",
       "      <th>17</th>\n",
       "      <th>18</th>\n",
       "      <th>19</th>\n",
       "      <th>20</th>\n",
       "      <th>21</th>\n",
       "      <th>22</th>\n",
       "      <th>23</th>\n",
       "      <th>24</th>\n",
       "    </tr>\n",
       "  </thead>\n",
       "  <tbody>\n",
       "    <tr>\n",
       "      <th>0</th>\n",
       "      <td>1</td>\n",
       "      <td>6</td>\n",
       "      <td>4</td>\n",
       "      <td>12</td>\n",
       "      <td>5</td>\n",
       "      <td>5</td>\n",
       "      <td>3</td>\n",
       "      <td>4</td>\n",
       "      <td>1</td>\n",
       "      <td>67</td>\n",
       "      <td>...</td>\n",
       "      <td>0</td>\n",
       "      <td>0</td>\n",
       "      <td>1</td>\n",
       "      <td>0</td>\n",
       "      <td>0</td>\n",
       "      <td>1</td>\n",
       "      <td>0</td>\n",
       "      <td>0</td>\n",
       "      <td>1</td>\n",
       "      <td>1</td>\n",
       "    </tr>\n",
       "    <tr>\n",
       "      <th>1</th>\n",
       "      <td>2</td>\n",
       "      <td>48</td>\n",
       "      <td>2</td>\n",
       "      <td>60</td>\n",
       "      <td>1</td>\n",
       "      <td>3</td>\n",
       "      <td>2</td>\n",
       "      <td>2</td>\n",
       "      <td>1</td>\n",
       "      <td>22</td>\n",
       "      <td>...</td>\n",
       "      <td>0</td>\n",
       "      <td>0</td>\n",
       "      <td>1</td>\n",
       "      <td>0</td>\n",
       "      <td>0</td>\n",
       "      <td>1</td>\n",
       "      <td>0</td>\n",
       "      <td>0</td>\n",
       "      <td>1</td>\n",
       "      <td>2</td>\n",
       "    </tr>\n",
       "    <tr>\n",
       "      <th>2</th>\n",
       "      <td>4</td>\n",
       "      <td>12</td>\n",
       "      <td>4</td>\n",
       "      <td>21</td>\n",
       "      <td>1</td>\n",
       "      <td>4</td>\n",
       "      <td>3</td>\n",
       "      <td>3</td>\n",
       "      <td>1</td>\n",
       "      <td>49</td>\n",
       "      <td>...</td>\n",
       "      <td>0</td>\n",
       "      <td>0</td>\n",
       "      <td>1</td>\n",
       "      <td>0</td>\n",
       "      <td>0</td>\n",
       "      <td>1</td>\n",
       "      <td>0</td>\n",
       "      <td>1</td>\n",
       "      <td>0</td>\n",
       "      <td>1</td>\n",
       "    </tr>\n",
       "    <tr>\n",
       "      <th>3</th>\n",
       "      <td>1</td>\n",
       "      <td>42</td>\n",
       "      <td>2</td>\n",
       "      <td>79</td>\n",
       "      <td>1</td>\n",
       "      <td>4</td>\n",
       "      <td>3</td>\n",
       "      <td>4</td>\n",
       "      <td>2</td>\n",
       "      <td>45</td>\n",
       "      <td>...</td>\n",
       "      <td>0</td>\n",
       "      <td>0</td>\n",
       "      <td>0</td>\n",
       "      <td>0</td>\n",
       "      <td>0</td>\n",
       "      <td>0</td>\n",
       "      <td>0</td>\n",
       "      <td>0</td>\n",
       "      <td>1</td>\n",
       "      <td>1</td>\n",
       "    </tr>\n",
       "    <tr>\n",
       "      <th>4</th>\n",
       "      <td>1</td>\n",
       "      <td>24</td>\n",
       "      <td>3</td>\n",
       "      <td>49</td>\n",
       "      <td>1</td>\n",
       "      <td>3</td>\n",
       "      <td>3</td>\n",
       "      <td>4</td>\n",
       "      <td>4</td>\n",
       "      <td>53</td>\n",
       "      <td>...</td>\n",
       "      <td>1</td>\n",
       "      <td>0</td>\n",
       "      <td>1</td>\n",
       "      <td>0</td>\n",
       "      <td>0</td>\n",
       "      <td>0</td>\n",
       "      <td>0</td>\n",
       "      <td>0</td>\n",
       "      <td>1</td>\n",
       "      <td>2</td>\n",
       "    </tr>\n",
       "    <tr>\n",
       "      <th>...</th>\n",
       "      <td>...</td>\n",
       "      <td>...</td>\n",
       "      <td>...</td>\n",
       "      <td>...</td>\n",
       "      <td>...</td>\n",
       "      <td>...</td>\n",
       "      <td>...</td>\n",
       "      <td>...</td>\n",
       "      <td>...</td>\n",
       "      <td>...</td>\n",
       "      <td>...</td>\n",
       "      <td>...</td>\n",
       "      <td>...</td>\n",
       "      <td>...</td>\n",
       "      <td>...</td>\n",
       "      <td>...</td>\n",
       "      <td>...</td>\n",
       "      <td>...</td>\n",
       "      <td>...</td>\n",
       "      <td>...</td>\n",
       "      <td>...</td>\n",
       "    </tr>\n",
       "    <tr>\n",
       "      <th>995</th>\n",
       "      <td>4</td>\n",
       "      <td>12</td>\n",
       "      <td>2</td>\n",
       "      <td>17</td>\n",
       "      <td>1</td>\n",
       "      <td>4</td>\n",
       "      <td>2</td>\n",
       "      <td>4</td>\n",
       "      <td>1</td>\n",
       "      <td>31</td>\n",
       "      <td>...</td>\n",
       "      <td>0</td>\n",
       "      <td>0</td>\n",
       "      <td>1</td>\n",
       "      <td>0</td>\n",
       "      <td>0</td>\n",
       "      <td>1</td>\n",
       "      <td>0</td>\n",
       "      <td>1</td>\n",
       "      <td>0</td>\n",
       "      <td>1</td>\n",
       "    </tr>\n",
       "    <tr>\n",
       "      <th>996</th>\n",
       "      <td>1</td>\n",
       "      <td>30</td>\n",
       "      <td>2</td>\n",
       "      <td>39</td>\n",
       "      <td>1</td>\n",
       "      <td>3</td>\n",
       "      <td>1</td>\n",
       "      <td>4</td>\n",
       "      <td>2</td>\n",
       "      <td>40</td>\n",
       "      <td>...</td>\n",
       "      <td>0</td>\n",
       "      <td>1</td>\n",
       "      <td>1</td>\n",
       "      <td>0</td>\n",
       "      <td>0</td>\n",
       "      <td>1</td>\n",
       "      <td>0</td>\n",
       "      <td>0</td>\n",
       "      <td>0</td>\n",
       "      <td>1</td>\n",
       "    </tr>\n",
       "    <tr>\n",
       "      <th>997</th>\n",
       "      <td>4</td>\n",
       "      <td>12</td>\n",
       "      <td>2</td>\n",
       "      <td>8</td>\n",
       "      <td>1</td>\n",
       "      <td>5</td>\n",
       "      <td>3</td>\n",
       "      <td>4</td>\n",
       "      <td>3</td>\n",
       "      <td>38</td>\n",
       "      <td>...</td>\n",
       "      <td>0</td>\n",
       "      <td>0</td>\n",
       "      <td>1</td>\n",
       "      <td>0</td>\n",
       "      <td>0</td>\n",
       "      <td>1</td>\n",
       "      <td>0</td>\n",
       "      <td>0</td>\n",
       "      <td>1</td>\n",
       "      <td>1</td>\n",
       "    </tr>\n",
       "    <tr>\n",
       "      <th>998</th>\n",
       "      <td>1</td>\n",
       "      <td>45</td>\n",
       "      <td>2</td>\n",
       "      <td>18</td>\n",
       "      <td>1</td>\n",
       "      <td>3</td>\n",
       "      <td>3</td>\n",
       "      <td>4</td>\n",
       "      <td>4</td>\n",
       "      <td>23</td>\n",
       "      <td>...</td>\n",
       "      <td>0</td>\n",
       "      <td>0</td>\n",
       "      <td>1</td>\n",
       "      <td>0</td>\n",
       "      <td>0</td>\n",
       "      <td>0</td>\n",
       "      <td>0</td>\n",
       "      <td>0</td>\n",
       "      <td>1</td>\n",
       "      <td>2</td>\n",
       "    </tr>\n",
       "    <tr>\n",
       "      <th>999</th>\n",
       "      <td>2</td>\n",
       "      <td>45</td>\n",
       "      <td>4</td>\n",
       "      <td>46</td>\n",
       "      <td>2</td>\n",
       "      <td>1</td>\n",
       "      <td>3</td>\n",
       "      <td>4</td>\n",
       "      <td>3</td>\n",
       "      <td>27</td>\n",
       "      <td>...</td>\n",
       "      <td>0</td>\n",
       "      <td>1</td>\n",
       "      <td>1</td>\n",
       "      <td>0</td>\n",
       "      <td>0</td>\n",
       "      <td>1</td>\n",
       "      <td>0</td>\n",
       "      <td>0</td>\n",
       "      <td>1</td>\n",
       "      <td>1</td>\n",
       "    </tr>\n",
       "  </tbody>\n",
       "</table>\n",
       "<p>1000 rows × 25 columns</p>\n",
       "</div>"
      ],
      "text/plain": [
       "     0   1   2   3   4   5   6   7   8   9   ...  15  16  17  18  19  20  21  \\\n",
       "0     1   6   4  12   5   5   3   4   1  67  ...   0   0   1   0   0   1   0   \n",
       "1     2  48   2  60   1   3   2   2   1  22  ...   0   0   1   0   0   1   0   \n",
       "2     4  12   4  21   1   4   3   3   1  49  ...   0   0   1   0   0   1   0   \n",
       "3     1  42   2  79   1   4   3   4   2  45  ...   0   0   0   0   0   0   0   \n",
       "4     1  24   3  49   1   3   3   4   4  53  ...   1   0   1   0   0   0   0   \n",
       "..   ..  ..  ..  ..  ..  ..  ..  ..  ..  ..  ...  ..  ..  ..  ..  ..  ..  ..   \n",
       "995   4  12   2  17   1   4   2   4   1  31  ...   0   0   1   0   0   1   0   \n",
       "996   1  30   2  39   1   3   1   4   2  40  ...   0   1   1   0   0   1   0   \n",
       "997   4  12   2   8   1   5   3   4   3  38  ...   0   0   1   0   0   1   0   \n",
       "998   1  45   2  18   1   3   3   4   4  23  ...   0   0   1   0   0   0   0   \n",
       "999   2  45   4  46   2   1   3   4   3  27  ...   0   1   1   0   0   1   0   \n",
       "\n",
       "     22  23  24  \n",
       "0     0   1   1  \n",
       "1     0   1   2  \n",
       "2     1   0   1  \n",
       "3     0   1   1  \n",
       "4     0   1   2  \n",
       "..   ..  ..  ..  \n",
       "995   1   0   1  \n",
       "996   0   0   1  \n",
       "997   0   1   1  \n",
       "998   0   1   2  \n",
       "999   0   1   1  \n",
       "\n",
       "[1000 rows x 25 columns]"
      ]
     },
     "execution_count": 80,
     "metadata": {},
     "output_type": "execute_result"
    }
   ],
   "source": [
    "#1.1\n",
    "df = pd.read_csv(\"GermanCredit.txt\", sep =\"\\s+\", header=None)\n",
    "df"
   ]
  },
  {
   "cell_type": "code",
   "execution_count": 81,
   "id": "handmade-accounting",
   "metadata": {
    "scrolled": true
   },
   "outputs": [
    {
     "data": {
      "text/html": [
       "<div>\n",
       "<style scoped>\n",
       "    .dataframe tbody tr th:only-of-type {\n",
       "        vertical-align: middle;\n",
       "    }\n",
       "\n",
       "    .dataframe tbody tr th {\n",
       "        vertical-align: top;\n",
       "    }\n",
       "\n",
       "    .dataframe thead th {\n",
       "        text-align: right;\n",
       "    }\n",
       "</style>\n",
       "<table border=\"1\" class=\"dataframe\">\n",
       "  <thead>\n",
       "    <tr style=\"text-align: right;\">\n",
       "      <th></th>\n",
       "      <th>0</th>\n",
       "      <th>1</th>\n",
       "      <th>2</th>\n",
       "      <th>3</th>\n",
       "      <th>4</th>\n",
       "      <th>5</th>\n",
       "      <th>6</th>\n",
       "      <th>7</th>\n",
       "      <th>8</th>\n",
       "      <th>9</th>\n",
       "      <th>...</th>\n",
       "      <th>15</th>\n",
       "      <th>16</th>\n",
       "      <th>17</th>\n",
       "      <th>18</th>\n",
       "      <th>19</th>\n",
       "      <th>20</th>\n",
       "      <th>21</th>\n",
       "      <th>22</th>\n",
       "      <th>23</th>\n",
       "      <th>24</th>\n",
       "    </tr>\n",
       "  </thead>\n",
       "  <tbody>\n",
       "    <tr>\n",
       "      <th>0</th>\n",
       "      <td>1</td>\n",
       "      <td>6</td>\n",
       "      <td>4</td>\n",
       "      <td>12</td>\n",
       "      <td>5</td>\n",
       "      <td>5</td>\n",
       "      <td>3</td>\n",
       "      <td>4</td>\n",
       "      <td>1</td>\n",
       "      <td>67</td>\n",
       "      <td>...</td>\n",
       "      <td>0</td>\n",
       "      <td>0</td>\n",
       "      <td>1</td>\n",
       "      <td>0</td>\n",
       "      <td>0</td>\n",
       "      <td>1</td>\n",
       "      <td>0</td>\n",
       "      <td>0</td>\n",
       "      <td>1</td>\n",
       "      <td>0</td>\n",
       "    </tr>\n",
       "    <tr>\n",
       "      <th>1</th>\n",
       "      <td>2</td>\n",
       "      <td>48</td>\n",
       "      <td>2</td>\n",
       "      <td>60</td>\n",
       "      <td>1</td>\n",
       "      <td>3</td>\n",
       "      <td>2</td>\n",
       "      <td>2</td>\n",
       "      <td>1</td>\n",
       "      <td>22</td>\n",
       "      <td>...</td>\n",
       "      <td>0</td>\n",
       "      <td>0</td>\n",
       "      <td>1</td>\n",
       "      <td>0</td>\n",
       "      <td>0</td>\n",
       "      <td>1</td>\n",
       "      <td>0</td>\n",
       "      <td>0</td>\n",
       "      <td>1</td>\n",
       "      <td>1</td>\n",
       "    </tr>\n",
       "    <tr>\n",
       "      <th>2</th>\n",
       "      <td>4</td>\n",
       "      <td>12</td>\n",
       "      <td>4</td>\n",
       "      <td>21</td>\n",
       "      <td>1</td>\n",
       "      <td>4</td>\n",
       "      <td>3</td>\n",
       "      <td>3</td>\n",
       "      <td>1</td>\n",
       "      <td>49</td>\n",
       "      <td>...</td>\n",
       "      <td>0</td>\n",
       "      <td>0</td>\n",
       "      <td>1</td>\n",
       "      <td>0</td>\n",
       "      <td>0</td>\n",
       "      <td>1</td>\n",
       "      <td>0</td>\n",
       "      <td>1</td>\n",
       "      <td>0</td>\n",
       "      <td>0</td>\n",
       "    </tr>\n",
       "    <tr>\n",
       "      <th>3</th>\n",
       "      <td>1</td>\n",
       "      <td>42</td>\n",
       "      <td>2</td>\n",
       "      <td>79</td>\n",
       "      <td>1</td>\n",
       "      <td>4</td>\n",
       "      <td>3</td>\n",
       "      <td>4</td>\n",
       "      <td>2</td>\n",
       "      <td>45</td>\n",
       "      <td>...</td>\n",
       "      <td>0</td>\n",
       "      <td>0</td>\n",
       "      <td>0</td>\n",
       "      <td>0</td>\n",
       "      <td>0</td>\n",
       "      <td>0</td>\n",
       "      <td>0</td>\n",
       "      <td>0</td>\n",
       "      <td>1</td>\n",
       "      <td>0</td>\n",
       "    </tr>\n",
       "    <tr>\n",
       "      <th>4</th>\n",
       "      <td>1</td>\n",
       "      <td>24</td>\n",
       "      <td>3</td>\n",
       "      <td>49</td>\n",
       "      <td>1</td>\n",
       "      <td>3</td>\n",
       "      <td>3</td>\n",
       "      <td>4</td>\n",
       "      <td>4</td>\n",
       "      <td>53</td>\n",
       "      <td>...</td>\n",
       "      <td>1</td>\n",
       "      <td>0</td>\n",
       "      <td>1</td>\n",
       "      <td>0</td>\n",
       "      <td>0</td>\n",
       "      <td>0</td>\n",
       "      <td>0</td>\n",
       "      <td>0</td>\n",
       "      <td>1</td>\n",
       "      <td>1</td>\n",
       "    </tr>\n",
       "    <tr>\n",
       "      <th>...</th>\n",
       "      <td>...</td>\n",
       "      <td>...</td>\n",
       "      <td>...</td>\n",
       "      <td>...</td>\n",
       "      <td>...</td>\n",
       "      <td>...</td>\n",
       "      <td>...</td>\n",
       "      <td>...</td>\n",
       "      <td>...</td>\n",
       "      <td>...</td>\n",
       "      <td>...</td>\n",
       "      <td>...</td>\n",
       "      <td>...</td>\n",
       "      <td>...</td>\n",
       "      <td>...</td>\n",
       "      <td>...</td>\n",
       "      <td>...</td>\n",
       "      <td>...</td>\n",
       "      <td>...</td>\n",
       "      <td>...</td>\n",
       "      <td>...</td>\n",
       "    </tr>\n",
       "    <tr>\n",
       "      <th>995</th>\n",
       "      <td>4</td>\n",
       "      <td>12</td>\n",
       "      <td>2</td>\n",
       "      <td>17</td>\n",
       "      <td>1</td>\n",
       "      <td>4</td>\n",
       "      <td>2</td>\n",
       "      <td>4</td>\n",
       "      <td>1</td>\n",
       "      <td>31</td>\n",
       "      <td>...</td>\n",
       "      <td>0</td>\n",
       "      <td>0</td>\n",
       "      <td>1</td>\n",
       "      <td>0</td>\n",
       "      <td>0</td>\n",
       "      <td>1</td>\n",
       "      <td>0</td>\n",
       "      <td>1</td>\n",
       "      <td>0</td>\n",
       "      <td>0</td>\n",
       "    </tr>\n",
       "    <tr>\n",
       "      <th>996</th>\n",
       "      <td>1</td>\n",
       "      <td>30</td>\n",
       "      <td>2</td>\n",
       "      <td>39</td>\n",
       "      <td>1</td>\n",
       "      <td>3</td>\n",
       "      <td>1</td>\n",
       "      <td>4</td>\n",
       "      <td>2</td>\n",
       "      <td>40</td>\n",
       "      <td>...</td>\n",
       "      <td>0</td>\n",
       "      <td>1</td>\n",
       "      <td>1</td>\n",
       "      <td>0</td>\n",
       "      <td>0</td>\n",
       "      <td>1</td>\n",
       "      <td>0</td>\n",
       "      <td>0</td>\n",
       "      <td>0</td>\n",
       "      <td>0</td>\n",
       "    </tr>\n",
       "    <tr>\n",
       "      <th>997</th>\n",
       "      <td>4</td>\n",
       "      <td>12</td>\n",
       "      <td>2</td>\n",
       "      <td>8</td>\n",
       "      <td>1</td>\n",
       "      <td>5</td>\n",
       "      <td>3</td>\n",
       "      <td>4</td>\n",
       "      <td>3</td>\n",
       "      <td>38</td>\n",
       "      <td>...</td>\n",
       "      <td>0</td>\n",
       "      <td>0</td>\n",
       "      <td>1</td>\n",
       "      <td>0</td>\n",
       "      <td>0</td>\n",
       "      <td>1</td>\n",
       "      <td>0</td>\n",
       "      <td>0</td>\n",
       "      <td>1</td>\n",
       "      <td>0</td>\n",
       "    </tr>\n",
       "    <tr>\n",
       "      <th>998</th>\n",
       "      <td>1</td>\n",
       "      <td>45</td>\n",
       "      <td>2</td>\n",
       "      <td>18</td>\n",
       "      <td>1</td>\n",
       "      <td>3</td>\n",
       "      <td>3</td>\n",
       "      <td>4</td>\n",
       "      <td>4</td>\n",
       "      <td>23</td>\n",
       "      <td>...</td>\n",
       "      <td>0</td>\n",
       "      <td>0</td>\n",
       "      <td>1</td>\n",
       "      <td>0</td>\n",
       "      <td>0</td>\n",
       "      <td>0</td>\n",
       "      <td>0</td>\n",
       "      <td>0</td>\n",
       "      <td>1</td>\n",
       "      <td>1</td>\n",
       "    </tr>\n",
       "    <tr>\n",
       "      <th>999</th>\n",
       "      <td>2</td>\n",
       "      <td>45</td>\n",
       "      <td>4</td>\n",
       "      <td>46</td>\n",
       "      <td>2</td>\n",
       "      <td>1</td>\n",
       "      <td>3</td>\n",
       "      <td>4</td>\n",
       "      <td>3</td>\n",
       "      <td>27</td>\n",
       "      <td>...</td>\n",
       "      <td>0</td>\n",
       "      <td>1</td>\n",
       "      <td>1</td>\n",
       "      <td>0</td>\n",
       "      <td>0</td>\n",
       "      <td>1</td>\n",
       "      <td>0</td>\n",
       "      <td>0</td>\n",
       "      <td>1</td>\n",
       "      <td>0</td>\n",
       "    </tr>\n",
       "  </tbody>\n",
       "</table>\n",
       "<p>1000 rows × 25 columns</p>\n",
       "</div>"
      ],
      "text/plain": [
       "     0   1   2   3   4   5   6   7   8   9   ...  15  16  17  18  19  20  21  \\\n",
       "0     1   6   4  12   5   5   3   4   1  67  ...   0   0   1   0   0   1   0   \n",
       "1     2  48   2  60   1   3   2   2   1  22  ...   0   0   1   0   0   1   0   \n",
       "2     4  12   4  21   1   4   3   3   1  49  ...   0   0   1   0   0   1   0   \n",
       "3     1  42   2  79   1   4   3   4   2  45  ...   0   0   0   0   0   0   0   \n",
       "4     1  24   3  49   1   3   3   4   4  53  ...   1   0   1   0   0   0   0   \n",
       "..   ..  ..  ..  ..  ..  ..  ..  ..  ..  ..  ...  ..  ..  ..  ..  ..  ..  ..   \n",
       "995   4  12   2  17   1   4   2   4   1  31  ...   0   0   1   0   0   1   0   \n",
       "996   1  30   2  39   1   3   1   4   2  40  ...   0   1   1   0   0   1   0   \n",
       "997   4  12   2   8   1   5   3   4   3  38  ...   0   0   1   0   0   1   0   \n",
       "998   1  45   2  18   1   3   3   4   4  23  ...   0   0   1   0   0   0   0   \n",
       "999   2  45   4  46   2   1   3   4   3  27  ...   0   1   1   0   0   1   0   \n",
       "\n",
       "     22  23  24  \n",
       "0     0   1   0  \n",
       "1     0   1   1  \n",
       "2     1   0   0  \n",
       "3     0   1   0  \n",
       "4     0   1   1  \n",
       "..   ..  ..  ..  \n",
       "995   1   0   0  \n",
       "996   0   0   0  \n",
       "997   0   1   0  \n",
       "998   0   1   1  \n",
       "999   0   1   0  \n",
       "\n",
       "[1000 rows x 25 columns]"
      ]
     },
     "execution_count": 81,
     "metadata": {},
     "output_type": "execute_result"
    }
   ],
   "source": [
    "#1.2\n",
    "df[24] = df[24] - 1\n",
    "df"
   ]
  },
  {
   "cell_type": "code",
   "execution_count": 82,
   "id": "filled-analysis",
   "metadata": {},
   "outputs": [],
   "source": [
    "M = 800\n",
    "d = 24\n",
    "DIM = 25\n",
    "length = df.shape[0]"
   ]
  },
  {
   "cell_type": "code",
   "execution_count": 83,
   "id": "western-discussion",
   "metadata": {},
   "outputs": [],
   "source": [
    "y_train = df.loc[:M-1, d]\n",
    "y_test = df.loc[M:, d]\n",
    "\n",
    "x_train = df.loc[:M-1, :d-1]\n",
    "x_test = df.loc[M:, :d-1]"
   ]
  },
  {
   "cell_type": "code",
   "execution_count": 84,
   "id": "curious-natural",
   "metadata": {},
   "outputs": [],
   "source": [
    "#1.3\n",
    "from sklearn.preprocessing import StandardScaler"
   ]
  },
  {
   "cell_type": "code",
   "execution_count": 85,
   "id": "closing-setting",
   "metadata": {},
   "outputs": [
    {
     "data": {
      "text/plain": [
       "(800, 24)"
      ]
     },
     "execution_count": 85,
     "metadata": {},
     "output_type": "execute_result"
    }
   ],
   "source": [
    "scaler = StandardScaler()\n",
    "x_train = scaler.fit_transform(x_train)\n",
    "x_test = scaler.transform(x_test)\n",
    "x_train.shape"
   ]
  },
  {
   "cell_type": "code",
   "execution_count": 87,
   "id": "centered-judges",
   "metadata": {},
   "outputs": [
    {
     "data": {
      "text/plain": [
       "(800, 25)"
      ]
     },
     "execution_count": 87,
     "metadata": {},
     "output_type": "execute_result"
    }
   ],
   "source": [
    "#1.4\n",
    "ones_train = np.ones((M, 1))\n",
    "ones_test = np.ones((length-M, 1))\n",
    "x_train = np.concatenate((ones_train, x_train), axis=1)\n",
    "x_train.shape"
   ]
  },
  {
   "cell_type": "code",
   "execution_count": 88,
   "id": "innocent-ridge",
   "metadata": {},
   "outputs": [
    {
     "data": {
      "text/plain": [
       "(200, 25)"
      ]
     },
     "execution_count": 88,
     "metadata": {},
     "output_type": "execute_result"
    }
   ],
   "source": [
    "x_test = np.concatenate((ones_test, x_test), axis=1)\n",
    "x_test.shape"
   ]
  },
  {
   "cell_type": "code",
   "execution_count": 72,
   "id": "institutional-burning",
   "metadata": {},
   "outputs": [
    {
     "data": {
      "text/plain": [
       "(DeviceArray([ 1.00000000e+00,  5.36441780e-09,  3.57627861e-09,\n",
       "               1.19209287e-09,  2.38418574e-09, -7.15255721e-09,\n",
       "              -3.93390636e-08, -2.68220890e-09,  1.07288356e-08,\n",
       "              -3.06963912e-08, -1.07288356e-08,  2.02655794e-08,\n",
       "              -3.75509259e-08, -2.14576712e-08, -5.12599918e-08,\n",
       "               3.87430177e-08,  1.47521488e-08,  2.38418574e-09,\n",
       "               3.36766242e-08,  1.78813924e-08,  3.72529030e-09,\n",
       "               0.00000000e+00,  3.57627861e-09,  2.68220894e-08,\n",
       "              -1.40070915e-08], dtype=float32),\n",
       " DeviceArray([0.        , 1.0000001 , 1.        , 0.9999999 , 1.        ,\n",
       "              1.        , 1.        , 1.        , 1.        , 1.        ,\n",
       "              0.99999994, 1.0000001 , 0.9999999 , 1.0000001 , 0.99999994,\n",
       "              0.99999994, 1.0000002 , 0.9999997 , 0.99999994, 1.        ,\n",
       "              0.99999994, 1.        , 1.0000001 , 1.        , 1.0000001 ],            dtype=float32))"
      ]
     },
     "execution_count": 72,
     "metadata": {},
     "output_type": "execute_result"
    }
   ],
   "source": [
    "jnp.mean(x_train, axis=0), jnp.std(x_train, axis=0)"
   ]
  },
  {
   "cell_type": "markdown",
   "id": "wrapped-novel",
   "metadata": {},
   "source": [
    "# Question 2: Model specification"
   ]
  },
  {
   "cell_type": "code",
   "execution_count": 73,
   "id": "vertical-michigan",
   "metadata": {},
   "outputs": [],
   "source": [
    "#2.1\n",
    "import jax.numpy as jnp\n",
    "from jax import grad, jit, vmap"
   ]
  },
  {
   "cell_type": "code",
   "execution_count": 74,
   "id": "human-access",
   "metadata": {},
   "outputs": [],
   "source": [
    "#2.2"
   ]
  },
  {
   "cell_type": "code",
   "execution_count": 75,
   "id": "prescription-irish",
   "metadata": {},
   "outputs": [],
   "source": [
    "#2.3"
   ]
  },
  {
   "cell_type": "code",
   "execution_count": 76,
   "id": "saving-gates",
   "metadata": {},
   "outputs": [],
   "source": [
    "beta = np.random.randn(DIM)"
   ]
  },
  {
   "cell_type": "code",
   "execution_count": 90,
   "id": "atomic-conference",
   "metadata": {
    "scrolled": false
   },
   "outputs": [
    {
     "name": "stdout",
     "output_type": "stream",
     "text": [
      "340 µs ± 123 µs per loop (mean ± std. dev. of 7 runs, 1000 loops each)\n",
      "6.06 µs ± 33.7 ns per loop (mean ± std. dev. of 7 runs, 100000 loops each)\n",
      "6.22 µs ± 22 ns per loop (mean ± std. dev. of 7 runs, 100000 loops each)\n"
     ]
    }
   ],
   "source": [
    "#2.4\n",
    "import numpy as np\n",
    "def loglikelihood_np(beta):\n",
    "    x_beta = np.matmul(x_train, beta)\n",
    "    output = np.sum(y_train * x_beta - np.log(1 + np.exp(x_beta)))\n",
    "    return output\n",
    "\n",
    "@jit\n",
    "def loglikelihood_jax(beta):\n",
    "    x_train_jax = jnp.asarray(x_train)\n",
    "    y_train_jax = jnp.asarray(y_train)\n",
    "    x_beta = jnp.matmul(x_train_jax, beta)\n",
    "    output = jnp.sum(y_train_jax * x_beta - jnp.log(1+jnp.exp(x_beta)))\n",
    "    return output\n",
    "\n",
    "jit_loglikelihood_jax = jit(loglikelihood_jax)\n",
    "\n",
    "%timeit loglikelihood_np(beta)\n",
    "%timeit loglikelihood_jax(beta)\n",
    "%timeit jit_loglikelihood_jax(beta)\n",
    "\n",
    "#dont choose jit implementation\n",
    "loglikelihood = loglikelihood_jax"
   ]
  },
  {
   "cell_type": "code",
   "execution_count": 92,
   "id": "geological-torture",
   "metadata": {},
   "outputs": [
    {
     "name": "stdout",
     "output_type": "stream",
     "text": [
      "460 µs ± 11.5 µs per loop (mean ± std. dev. of 7 runs, 1000 loops each)\n",
      "7.12 µs ± 79.4 ns per loop (mean ± std. dev. of 7 runs, 100000 loops each)\n"
     ]
    }
   ],
   "source": [
    "gradloglikelihood1 = grad(loglikelihood_jax)\n",
    "gradloglikelihood2 = jit(grad(loglikelihood_jax))\n",
    "\n",
    "%timeit gradloglikelihood1(beta)\n",
    "%timeit gradloglikelihood2(beta)\n",
    "\n",
    "#choose the jit implementation since it is faster\n",
    "gradloglikelihood = gradloglikelihood2"
   ]
  },
  {
   "cell_type": "code",
   "execution_count": null,
   "id": "exotic-transformation",
   "metadata": {},
   "outputs": [],
   "source": [
    "#2.5"
   ]
  },
  {
   "cell_type": "code",
   "execution_count": 94,
   "id": "empty-wrestling",
   "metadata": {},
   "outputs": [],
   "source": [
    "#2.6\n",
    "constant = np.pi**2 * M/(3*DIM)\n",
    "Sigma = constant * np.linalg.inv(np.matmul(x_train.T, x_train))"
   ]
  },
  {
   "cell_type": "code",
   "execution_count": 95,
   "id": "burning-leone",
   "metadata": {},
   "outputs": [],
   "source": [
    "#2.7 \n",
    "from jax.scipy.stats.multivariate_normal import logpdf as jlogpdf\n",
    "\n",
    "@jit\n",
    "def logprior(beta):\n",
    "    return jlogpdf(beta, mean=jnp.zeros(DIM), cov = Sigma)"
   ]
  },
  {
   "cell_type": "code",
   "execution_count": 96,
   "id": "abstract-disability",
   "metadata": {},
   "outputs": [
    {
     "name": "stdout",
     "output_type": "stream",
     "text": [
      "504 µs ± 21.5 µs per loop (mean ± std. dev. of 7 runs, 1000 loops each)\n",
      "6.28 µs ± 166 ns per loop (mean ± std. dev. of 7 runs, 100000 loops each)\n"
     ]
    }
   ],
   "source": [
    "gradlogprior1 = grad(logprior)\n",
    "gradlogprior2 = jit(grad(logprior))\n",
    "\n",
    "%timeit gradlogprior1(beta)\n",
    "%timeit gradlogprior2(beta)\n",
    "\n",
    "gradlogprior = jit(grad(logprior))"
   ]
  },
  {
   "cell_type": "code",
   "execution_count": 97,
   "id": "elect-rates",
   "metadata": {},
   "outputs": [],
   "source": [
    "#2.8\n"
   ]
  },
  {
   "cell_type": "code",
   "execution_count": 98,
   "id": "legal-kansas",
   "metadata": {},
   "outputs": [],
   "source": [
    "#2.9 \n",
    "def logdensity(beta):\n",
    "    return logprior(beta) + loglikelihood(beta)"
   ]
  },
  {
   "cell_type": "code",
   "execution_count": 99,
   "id": "proprietary-china",
   "metadata": {},
   "outputs": [],
   "source": [
    "#2.10\n",
    "def gradlogdensity(beta):\n",
    "    return gradlogprior(beta) + gradloglikelihood(beta)"
   ]
  },
  {
   "cell_type": "code",
   "execution_count": null,
   "id": "aerial-browser",
   "metadata": {},
   "outputs": [],
   "source": []
  },
  {
   "cell_type": "code",
   "execution_count": 102,
   "id": "molecular-payroll",
   "metadata": {},
   "outputs": [],
   "source": [
    "#3.1\n",
    "def sample_prior():\n",
    "    return scipy.stats.multivariate_normal.rvs(mean = np.zeros(DIM), cov=Sigma)\n",
    "\n",
    "beta = sample_prior()\n",
    "N = 10000\n",
    "store_beta = np.zeros((N,DIM))\n",
    "n_accept = 0"
   ]
  },
  {
   "cell_type": "code",
   "execution_count": null,
   "id": "turkish-adams",
   "metadata": {},
   "outputs": [],
   "source": [
    "#run the loop\n",
    "for n in range(N):\n",
    "    #sample a proposed state\n",
    "    proposed_state = sample_prior()\n",
    "    \n",
    "    #evaluate posterior density\n",
    "    logdensity_proposed = logdensity(proposed_state)\n",
    "    logdensity_current = logdensity(beta)\n",
    "    \n",
    "    #evaluate prior density\n",
    "    logprior_proposed = logprior(proposed_state)\n",
    "    logprior_current = logprior(beta)\n",
    "    \n",
    "    #log acceptance prob\n",
    "    logacceptprob = logdensity_proposed + logprior_current - logdensity_current - logprior_proposed\n",
    "    \n",
    "    #accept tor reject\n",
    "    uniform = np.random.rand(1) # sample a uniform on [0,1]\n",
    "    if np.log(uniform) < logacceptprob:\n",
    "        beta = proposed_state.copy() #accept\n",
    "        n_accept += 1\n",
    "    \n",
    "    store_beta[n,:] = beta"
   ]
  },
  {
   "cell_type": "code",
   "execution_count": 104,
   "id": "cardiac-liechtenstein",
   "metadata": {},
   "outputs": [
    {
     "name": "stdout",
     "output_type": "stream",
     "text": [
      "Acceptance rate:  0.0011\n"
     ]
    }
   ],
   "source": [
    "print(\"Acceptance rate: \", n_accept/N )"
   ]
  },
  {
   "cell_type": "code",
   "execution_count": 103,
   "id": "chronic-throat",
   "metadata": {},
   "outputs": [
    {
     "data": {
      "image/png": "[encoded data removed]",
      "text/plain": [
       "<Figure size 432x288 with 1 Axes>"
      ]
     },
     "metadata": {
      "needs_background": "light"
     },
     "output_type": "display_data"
    }
   ],
   "source": [
    "iteration = np.arange(1,N+1)\n",
    "plt.figure()\n",
    "plt.plot(iteration, store_beta[:,0])\n",
    "plt.plot(iteration, store_beta[:,1])\n",
    "plt.plot(iteration, store_beta[:,2])\n",
    "plt.plot(iteration, store_beta[:,3])\n",
    "plt.xlabel('iteration')\n",
    "plt.ylabel('beta')\n",
    "plt.show()"
   ]
  },
  {
   "cell_type": "code",
   "execution_count": 129,
   "id": "loaded-correction",
   "metadata": {},
   "outputs": [],
   "source": [
    "#3.2\n",
    "s = 0.02\n",
    "SIG = np.eye(DIM) * s**2\n",
    "x_init = np.random.multivariate_normal(np.zeros(DIM), SIG)\n",
    "n_accept = 0\n",
    "store_beta = np.zeros((N,DIM))\n",
    "beta = sample_prior()\n",
    "\n",
    "for n in range(N):\n",
    "    epsilon = np.random.multivariate_normal(np.zeros(DIM), SIG)\n",
    "    \n",
    "    proposed_state = beta + epsilon\n",
    "    \n",
    "    pi_y = logdensity(proposed_state)\n",
    "    pi_x = logdensity(beta)\n",
    "    \n",
    "    logacceptprob = float(pi_y - pi_x)\n",
    "    \n",
    "    #accept tor reject\n",
    "    uniform = np.random.rand(1) # sample a uniform on [0,1]\n",
    "    if np.log(uniform) < logacceptprob:\n",
    "        beta = proposed_state.copy() #accept\n",
    "        n_accept += 1\n",
    "    store_beta[n,:] = beta\n",
    "    "
   ]
  },
  {
   "cell_type": "code",
   "execution_count": 130,
   "id": "adaptive-costs",
   "metadata": {},
   "outputs": [
    {
     "data": {
      "text/plain": [
       "0.5696"
      ]
     },
     "execution_count": 130,
     "metadata": {},
     "output_type": "execute_result"
    }
   ],
   "source": [
    "n_accept/N"
   ]
  },
  {
   "cell_type": "code",
   "execution_count": 131,
   "id": "expired-trail",
   "metadata": {},
   "outputs": [
    {
     "data": {
      "image/png": "[encoded data removed]",
      "text/plain": [
       "<Figure size 432x288 with 1 Axes>"
      ]
     },
     "metadata": {
      "needs_background": "light"
     },
     "output_type": "display_data"
    }
   ],
   "source": [
    "iteration = np.arange(1,N+1)\n",
    "plt.figure()\n",
    "plt.plot(iteration, store_beta[:,0])\n",
    "plt.plot(iteration, store_beta[:,1])\n",
    "plt.plot(iteration, store_beta[:,2])\n",
    "plt.plot(iteration, store_beta[:,3])\n",
    "plt.xlabel('iteration')\n",
    "plt.ylabel('beta')\n",
    "plt.show()"
   ]
  },
  {
   "cell_type": "code",
   "execution_count": 132,
   "id": "cutting-influence",
   "metadata": {},
   "outputs": [
    {
     "data": {
      "image/png": "[encoded data removed]",
      "text/plain": [
       "<Figure size 432x288 with 1 Axes>"
      ]
     },
     "metadata": {
      "needs_background": "light"
     },
     "output_type": "display_data"
    }
   ],
   "source": [
    "iteration = np.arange(1,N+1)\n",
    "plt.figure()\n",
    "plt.plot(iteration, np.cumsum(store_beta[:,0])/iteration)\n",
    "plt.plot(iteration, np.cumsum(store_beta[:,1])/iteration)\n",
    "plt.plot(iteration, np.cumsum(store_beta[:,2])/iteration)\n",
    "plt.plot(iteration, np.cumsum(store_beta[:,3])/iteration)\n",
    "plt.xlabel('iteration')\n",
    "plt.ylabel('beta')\n",
    "plt.show()"
   ]
  },
  {
   "cell_type": "code",
   "execution_count": 136,
   "id": "threaded-plymouth",
   "metadata": {},
   "outputs": [
    {
     "data": {
      "image/png": "[encoded data removed]",
      "text/plain": [
       "<Figure size 432x288 with 1 Axes>"
      ]
     },
     "execution_count": 136,
     "metadata": {},
     "output_type": "execute_result"
    },
    {
     "data": {
      "text/plain": [
       "<Figure size 432x288 with 0 Axes>"
      ]
     },
     "metadata": {},
     "output_type": "display_data"
    },
    {
     "data": {
      "image/png": "[encoded data removed]",
      "text/plain": [
       "<Figure size 432x288 with 1 Axes>"
      ]
     },
     "metadata": {
      "needs_background": "light"
     },
     "output_type": "display_data"
    },
    {
     "data": {
      "image/png": "[encoded data removed]",
      "text/plain": [
       "<Figure size 432x288 with 1 Axes>"
      ]
     },
     "metadata": {
      "needs_background": "light"
     },
     "output_type": "display_data"
    }
   ],
   "source": [
    "# auto-correlation function\n",
    "from statsmodels.graphics.tsaplots import plot_acf\n",
    "\n",
    "plt.figure()\n",
    "plot_acf(store_beta[2000:,0], lags = 30, alpha = None)\n",
    "plot_acf(store_beta[2000:,1], lags = 30, alpha = None)"
   ]
  },
  {
   "cell_type": "code",
   "execution_count": 152,
   "id": "qualified-voice",
   "metadata": {},
   "outputs": [],
   "source": [
    "# 3.3\n",
    "s = 0.08\n",
    "SIG = np.eye(DIM) * s**2\n",
    "x_init = np.random.multivariate_normal(np.zeros(DIM), SIG)\n",
    "n_accept = 0\n",
    "store_beta = np.zeros((N,DIM))\n",
    "beta = sample_prior()\n",
    "\n",
    "for n in range(N):\n",
    "    epsilon = np.random.multivariate_normal(np.zeros(DIM), SIG)\n",
    "    \n",
    "    proposed_state = beta + s**2 /2 * gradlogdensity(beta) + epsilon\n",
    "    \n",
    "    pi_y = logdensity(proposed_state)\n",
    "    pi_x = logdensity(beta)\n",
    "    q_y = scipy.stats.multivariate_normal.logpdf(proposed_state, mean = beta + s**2 /2 \\\n",
    "                                                 * gradlogdensity(beta) , cov=SIG)\n",
    "    q_x = scipy.stats.multivariate_normal.logpdf(beta , mean = proposed_state + s**2 /2 \\\n",
    "                                                 * gradlogdensity(proposed_state) , cov=SIG)\n",
    "    \n",
    "    \n",
    "    \n",
    "    logacceptprob = float(pi_y + q_x - pi_x - q_y)\n",
    "    \n",
    "    #accept tor reject\n",
    "    uniform = np.random.rand(1) # sample a uniform on [0,1]\n",
    "    if np.log(uniform) < logacceptprob:\n",
    "        beta = proposed_state.copy() #accept\n",
    "        n_accept += 1\n",
    "    store_beta[n,:] = beta\n",
    "    "
   ]
  },
  {
   "cell_type": "code",
   "execution_count": 153,
   "id": "diagnostic-spectacular",
   "metadata": {},
   "outputs": [
    {
     "data": {
      "text/plain": [
       "0.4764"
      ]
     },
     "execution_count": 153,
     "metadata": {},
     "output_type": "execute_result"
    }
   ],
   "source": [
    "n_accept/N"
   ]
  },
  {
   "cell_type": "code",
   "execution_count": null,
   "id": "invisible-hurricane",
   "metadata": {},
   "outputs": [],
   "source": []
  },
  {
   "cell_type": "code",
   "execution_count": 154,
   "id": "boring-conversation",
   "metadata": {},
   "outputs": [
    {
     "data": {
      "image/png": "[encoded data removed]",
      "text/plain": [
       "<Figure size 432x288 with 1 Axes>"
      ]
     },
     "metadata": {
      "needs_background": "light"
     },
     "output_type": "display_data"
    }
   ],
   "source": [
    "iteration = np.arange(1,N+1)\n",
    "plt.figure()\n",
    "plt.plot(iteration, store_beta[:,0])\n",
    "plt.plot(iteration, store_beta[:,1])\n",
    "plt.plot(iteration, store_beta[:,2])\n",
    "plt.plot(iteration, store_beta[:,3])\n",
    "plt.xlabel('iteration')\n",
    "plt.ylabel('beta')\n",
    "plt.show()"
   ]
  },
  {
   "cell_type": "code",
   "execution_count": 155,
   "id": "unlimited-france",
   "metadata": {},
   "outputs": [
    {
     "data": {
      "image/png": "[encoded data removed]",
      "text/plain": [
       "<Figure size 432x288 with 1 Axes>"
      ]
     },
     "metadata": {
      "needs_background": "light"
     },
     "output_type": "display_data"
    }
   ],
   "source": [
    "iteration = np.arange(1,N+1)\n",
    "plt.figure()\n",
    "plt.plot(iteration, np.cumsum(store_beta[:,0])/iteration)\n",
    "plt.plot(iteration, np.cumsum(store_beta[:,1])/iteration)\n",
    "plt.plot(iteration, np.cumsum(store_beta[:,2])/iteration)\n",
    "plt.plot(iteration, np.cumsum(store_beta[:,3])/iteration)\n",
    "plt.xlabel('iteration')\n",
    "plt.ylabel('beta')\n",
    "plt.show()"
   ]
  },
  {
   "cell_type": "code",
   "execution_count": 157,
   "id": "green-ceremony",
   "metadata": {},
   "outputs": [
    {
     "data": {
      "image/png": "[encoded data removed]",
      "text/plain": [
       "<Figure size 432x288 with 1 Axes>"
      ]
     },
     "execution_count": 157,
     "metadata": {},
     "output_type": "execute_result"
    },
    {
     "data": {
      "text/plain": [
       "<Figure size 432x288 with 0 Axes>"
      ]
     },
     "metadata": {},
     "output_type": "display_data"
    },
    {
     "data": {
      "image/png": "[encoded data removed]",
      "text/plain": [
       "<Figure size 432x288 with 1 Axes>"
      ]
     },
     "metadata": {
      "needs_background": "light"
     },
     "output_type": "display_data"
    },
    {
     "data": {
      "image/png": "[encoded data removed]",
      "text/plain": [
       "<Figure size 432x288 with 1 Axes>"
      ]
     },
     "metadata": {
      "needs_background": "light"
     },
     "output_type": "display_data"
    }
   ],
   "source": [
    "# auto-correlation function\n",
    "from statsmodels.graphics.tsaplots import plot_acf\n",
    "\n",
    "plt.figure()\n",
    "plot_acf(store_beta[2000:,0], lags = 30, alpha = None)\n",
    "plot_acf(store_beta[2000:,1], lags = 30, alpha = None)"
   ]
  },
  {
   "cell_type": "code",
   "execution_count": null,
   "id": "expressed-entry",
   "metadata": {},
   "outputs": [],
   "source": []
  },
  {
   "cell_type": "code",
   "execution_count": null,
   "id": "underlying-negative",
   "metadata": {},
   "outputs": [],
   "source": []
  },
  {
   "cell_type": "code",
   "execution_count": null,
   "id": "accepting-thermal",
   "metadata": {},
   "outputs": [],
   "source": []
  }
 ],
 "metadata": {
  "kernelspec": {
   "display_name": "Python 3",
   "language": "python",
   "name": "python3"
  },
  "language_info": {
   "codemirror_mode": {
    "name": "ipython",
    "version": 3
   },
   "file_extension": ".py",
   "mimetype": "text/x-python",
   "name": "python",
   "nbconvert_exporter": "python",
   "pygments_lexer": "ipython3",
   "version": "3.9.7"
  },
  "latex_envs": {
   "LaTeX_envs_menu_present": true,
   "autoclose": false,
   "autocomplete": true,
   "bibliofile": "biblio.bib",
   "cite_by": "apalike",
   "current_citInitial": 1,
   "eqLabelWithNumbers": true,
   "eqNumInitial": 1,
   "hotkeys": {
    "equation": "Ctrl-E",
    "itemize": "Ctrl-I"
   },
   "labels_anchors": false,
   "latex_user_defs": false,
   "report_style_numbering": false,
   "user_envs_cfg": false
  }
 },
 "nbformat": 4,
 "nbformat_minor": 5
}
