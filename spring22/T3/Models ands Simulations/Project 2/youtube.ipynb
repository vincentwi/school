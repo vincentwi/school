{
 "cells": [
  {
   "cell_type": "code",
   "execution_count": 19,
   "metadata": {},
   "outputs": [],
   "source": [
    "import numpy as np\n",
    "import matplotlib.pyplot as plt\n",
    "import scipy.stats as stats\n",
    "import pandas as pd\n",
    "import particles\n",
    "from particles import distributions as dists  \n",
    "from particles import state_space_models as ssm  \n",
    "from particles.collectors import Moments \n",
    "from particles import mcmc  "
   ]
  },
  {
   "cell_type": "code",
   "execution_count": 2,
   "metadata": {},
   "outputs": [],
   "source": [
    "class ShiftedBinomial(dists.DiscreteDist):\n",
    "    \"\"\"Shifted Binomial(n,p) distribution.\"\"\"\n",
    "    def __init__(self, n=1, p=0.5, loc=0):\n",
    "        self.n = n\n",
    "        self.p = p\n",
    "        self.loc = loc\n",
    "\n",
    "    def rvs(self, size=None):\n",
    "        return stats.binom.rvs(self.n, self.p, loc = self.loc, size = size)\n",
    "\n",
    "    def logpdf(self, x):\n",
    "        return stats.binom.logpmf(x, self.n, self.p, self.loc)\n",
    "\n",
    "    def ppf(self, u):\n",
    "        return stats.binom.ppf(u, self.n, self.p, self.loc)\n"
   ]
  }
 ],
 "metadata": {
  "kernelspec": {
   "display_name": "Python 3",
   "language": "python",
   "name": "python3"
  },
  "language_info": {
   "codemirror_mode": {
    "name": "ipython",
    "version": 3
   },
   "file_extension": ".py",
   "mimetype": "text/x-python",
   "name": "python",
   "nbconvert_exporter": "python",
   "pygments_lexer": "ipython3",
   "version": "3.8.3"
  }
 },
 "nbformat": 4,
 "nbformat_minor": 4
}
