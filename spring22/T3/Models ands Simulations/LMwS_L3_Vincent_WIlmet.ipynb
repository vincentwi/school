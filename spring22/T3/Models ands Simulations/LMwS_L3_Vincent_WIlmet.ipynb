{
  "nbformat": 4,
  "nbformat_minor": 0,
  "metadata": {
    "colab": {
      "name": "LMwS_L3_Vincent_WIlmet.ipynb",
      "provenance": []
    },
    "kernelspec": {
      "name": "python3",
      "display_name": "Python 3"
    },
    "language_info": {
      "name": "python"
    }
  },
  "cells": [
    {
      "cell_type": "markdown",
      "source": [
        "# Learning Models with Simulations\n",
        "Lecture 3\n",
        "Vincent Wilmet\n"
      ],
      "metadata": {
        "id": "hKG2BTIwfbUa"
      }
    },
    {
      "cell_type": "markdown",
      "source": [
        "## EX. 1"
      ],
      "metadata": {
        "id": "OE0_R2PP1VHW"
      }
    },
    {
      "cell_type": "code",
      "source": [
        "import numpy as np\n",
        "import matplotlib.pyplot as plt\n",
        "from scipy.optimize import minimize_scalar"
      ],
      "metadata": {
        "id": "SP-0iRfQgAKy"
      },
      "execution_count": 258,
      "outputs": []
    },
    {
      "cell_type": "code",
      "execution_count": 259,
      "metadata": {
        "id": "HDSqgpKcfUy4"
      },
      "outputs": [],
      "source": [
        "Y = [125, 18, 20, 34]"
      ]
    },
    {
      "cell_type": "code",
      "source": [
        "def loglikelihood(x):\n",
        "  return Y[0]*np.log(2+x) + (Y[1] + Y[2])*np.log(1-x) + Y[3]*np.log(x)\n",
        "\n",
        "def negloglikelihood(x):\n",
        "  return -loglikelihood(x)"
      ],
      "metadata": {
        "id": "vKVU2So2fjzu"
      },
      "execution_count": 260,
      "outputs": []
    },
    {
      "cell_type": "code",
      "source": [
        "res = minimize_scalar(negloglikelihood, bounds=(0, 1), method=\"bounded\")"
      ],
      "metadata": {
        "id": "9nBg_uD7gYxi"
      },
      "execution_count": 261,
      "outputs": []
    },
    {
      "cell_type": "code",
      "source": [
        "res"
      ],
      "metadata": {
        "colab": {
          "base_uri": "https://localhost:8080/"
        },
        "id": "OAVeh2odpTHG",
        "outputId": "f5e9e892-186e-4bf2-a7c9-0a50651789f1"
      },
      "execution_count": 262,
      "outputs": [
        {
          "output_type": "execute_result",
          "data": {
            "text/plain": [
              "     fun: -67.38410209471839\n",
              " message: 'Solution found.'\n",
              "    nfev: 10\n",
              "  status: 0\n",
              " success: True\n",
              "       x: 0.6268214005392267"
            ]
          },
          "metadata": {},
          "execution_count": 262
        }
      ]
    },
    {
      "cell_type": "code",
      "source": [
        "neglogC = res.fun"
      ],
      "metadata": {
        "id": "iRH_wGYagh0x"
      },
      "execution_count": 263,
      "outputs": []
    },
    {
      "cell_type": "code",
      "source": [
        "S = []\n",
        "N = 10000\n",
        "\n",
        "while len(S) < N:\n",
        "  U = np.random.uniform(low=0.0, high=1.0, size=None)\n",
        "  logU = np.log(U)\n",
        "  theta = np.random.uniform(low=0.0, high=1.0, size=None)\n",
        "  logLikelyTheta = loglikelihood(theta)\n",
        "\n",
        "  if logU < (logLikelyTheta + neglogC):\n",
        "    S.append(theta)"
      ],
      "metadata": {
        "id": "IisBNT9xgxi9"
      },
      "execution_count": 264,
      "outputs": []
    },
    {
      "cell_type": "code",
      "source": [
        "S[9995:]"
      ],
      "metadata": {
        "colab": {
          "base_uri": "https://localhost:8080/"
        },
        "id": "b8zM1tLQiwya",
        "outputId": "7e5b87da-7016-4d94-96bb-6b3feacf271b"
      },
      "execution_count": 265,
      "outputs": [
        {
          "output_type": "execute_result",
          "data": {
            "text/plain": [
              "[0.6556313363814987,\n",
              " 0.612909769770907,\n",
              " 0.6239416560340727,\n",
              " 0.5828681040399073,\n",
              " 0.690682902112105]"
            ]
          },
          "metadata": {},
          "execution_count": 265
        }
      ]
    },
    {
      "cell_type": "code",
      "source": [
        "plt.hist( S)"
      ],
      "metadata": {
        "colab": {
          "base_uri": "https://localhost:8080/",
          "height": 372
        },
        "id": "2GsaTkgijPJv",
        "outputId": "afb6c867-a4c5-487f-ffbb-485c264c14c9"
      },
      "execution_count": 266,
      "outputs": [
        {
          "output_type": "execute_result",
          "data": {
            "text/plain": [
              "(array([  14.,   68.,  276., 1047., 2114., 2818., 2260., 1105.,  278.,\n",
              "          20.]),\n",
              " array([0.41937695, 0.45625549, 0.49313403, 0.53001258, 0.56689112,\n",
              "        0.60376966, 0.6406482 , 0.67752675, 0.71440529, 0.75128383,\n",
              "        0.78816237]),\n",
              " <a list of 10 Patch objects>)"
            ]
          },
          "metadata": {},
          "execution_count": 266
        },
        {
          "output_type": "display_data",
          "data": {
            "text/plain": [
              "<Figure size 432x288 with 1 Axes>"
            ],
            "image/png": "[encoded data removed]"
          },
          "metadata": {
            "needs_background": "light"
          }
        }
      ]
    },
    {
      "cell_type": "code",
      "source": [
        "mu = np.mean(S)\n",
        "sigma = np.std(S)\n",
        "print(mu, sigma)"
      ],
      "metadata": {
        "colab": {
          "base_uri": "https://localhost:8080/"
        },
        "id": "zcZmGqPwlLNw",
        "outputId": "fdb15a8b-733c-4cf9-c3e4-b4508e3a7169"
      },
      "execution_count": 267,
      "outputs": [
        {
          "output_type": "stream",
          "name": "stdout",
          "text": [
            "0.6221616569620941 0.05086806095323194\n"
          ]
        }
      ]
    },
    {
      "cell_type": "code",
      "source": [
        ""
      ],
      "metadata": {
        "id": "vLOiqrJpp1hQ"
      },
      "execution_count": 267,
      "outputs": []
    },
    {
      "cell_type": "markdown",
      "source": [
        "## EX. 2:"
      ],
      "metadata": {
        "id": "CURuDeLq1Xfs"
      }
    },
    {
      "cell_type": "code",
      "source": [
        "from scipy.stats import t, norm\n",
        "import matplotlib.pyplot as plt\n",
        "N = 10000"
      ],
      "metadata": {
        "id": "rlzh7spd2OaS"
      },
      "execution_count": 268,
      "outputs": []
    },
    {
      "cell_type": "code",
      "source": [
        "def f(x):\n",
        "  return np.abs(x)\n",
        "\n",
        "def unnormalized_density(x):\n",
        "  return -2*np.log(1 + x**2 /3)\n",
        "\n",
        "def log_importance_weight(x, df):\n",
        "  return unnormalized_density(x) - t.logpdf(x, df)\n",
        "\n",
        "def log_importance_weight_norm(x):\n",
        "  return unnormalized_density(x) - norm.logpdf(x, 0, 1)"
      ],
      "metadata": {
        "id": "01FJFR1B1bJi"
      },
      "execution_count": 269,
      "outputs": []
    },
    {
      "cell_type": "code",
      "source": [
        "# Proposal distribution 1: q(x) = p(x) is a t-distribution with 3 degrees of freedom\n",
        "df_1 = 3\n",
        "r_1 = t.rvs(df_1, size=N)\n",
        "w_1 = log_importance_weight(r_1, df_1)"
      ],
      "metadata": {
        "id": "_wDa5Glw1gXg"
      },
      "execution_count": 270,
      "outputs": []
    },
    {
      "cell_type": "code",
      "source": [
        "# Proposal distribution 2: q(x) is a t-distribution with 1 degrees of freedom\n",
        "df_2 = 1\n",
        "r_2 = t.rvs(df_2, size=N)\n",
        "w_2 = log_importance_weight(r_2, df_2)"
      ],
      "metadata": {
        "id": "5nRwmLmS2FMj"
      },
      "execution_count": 271,
      "outputs": []
    },
    {
      "cell_type": "code",
      "source": [
        "# Proposal distribution 3: q(x) is a standard Normal N(0, 1)\n",
        "r_3 = norm.rvs(size=N)\n",
        "w_3 = log_importance_weight_norm(r_3)"
      ],
      "metadata": {
        "id": "5mlShyDu2Hrr"
      },
      "execution_count": 272,
      "outputs": []
    },
    {
      "cell_type": "code",
      "source": [
        "grid = np.linspace(-5,5, N)\n",
        "plt.plot(grid, t.pdf(grid, df_1), label='PD1')\n",
        "plt.plot(grid, t.pdf(grid, df_2), label='PD2')\n",
        "plt.plot(grid, norm.pdf(grid), label='PD3')\n",
        "plt.title(\"Proposed Distributions\")\n",
        "plt.legend()\n",
        "plt.show()"
      ],
      "metadata": {
        "colab": {
          "base_uri": "https://localhost:8080/",
          "height": 281
        },
        "id": "hm9bVMj46CLa",
        "outputId": "e58a4f9b-dadd-4208-ffc8-637335b5cc17"
      },
      "execution_count": 273,
      "outputs": [
        {
          "output_type": "display_data",
          "data": {
            "text/plain": [
              "<Figure size 432x288 with 1 Axes>"
            ],
            "image/png": "[encoded data removed]"
          },
          "metadata": {
            "needs_background": "light"
          }
        }
      ]
    },
    {
      "cell_type": "code",
      "source": [
        "grid = np.linspace(-3,3, N)\n",
        "plt.plot(grid, np.exp(log_importance_weight(grid, df_1)), label='PD1')\n",
        "plt.plot(grid, np.exp(log_importance_weight(grid, df_2)), label='PD2')\n",
        "plt.plot(grid, np.exp(log_importance_weight_norm(grid)), label='PD3')\n",
        "plt.title(\"Proposed Distributions\")\n",
        "plt.legend()\n",
        "plt.show()"
      ],
      "metadata": {
        "colab": {
          "base_uri": "https://localhost:8080/",
          "height": 281
        },
        "id": "3r1ibdeFJJDe",
        "outputId": "5e6ab495-342d-4d84-bdc8-18f25b7e0f08"
      },
      "execution_count": 274,
      "outputs": [
        {
          "output_type": "display_data",
          "data": {
            "text/plain": [
              "<Figure size 432x288 with 1 Axes>"
            ],
            "image/png": "[encoded data removed]"
          },
          "metadata": {
            "needs_background": "light"
          }
        }
      ]
    },
    {
      "cell_type": "code",
      "source": [
        "def An(X, df):\n",
        "  if df==None: return np.mean(np.exp(np.log(f(X)) + log_importance_weight_norm(X)))\n",
        "  return np.mean(np.exp(np.log(f(X)) + log_importance_weight(X, df)))\n",
        "\n",
        "def Zn(X, df=None):\n",
        "  if df==None: return np.mean(np.exp(log_importance_weight_norm(X)))\n",
        "  return np.mean(np.exp(log_importance_weight(X, df)))\n",
        "\n",
        "def In(X, df=None):\n",
        "  return An(X, df)/Zn(X, df)"
      ],
      "metadata": {
        "id": "dZCoorVSMcWu"
      },
      "execution_count": 295,
      "outputs": []
    },
    {
      "cell_type": "code",
      "source": [
        "NIS_1 = In(r_1, df_1)\n",
        "NIS_2 = In(r_2, df_2)\n",
        "NIS_3 = In(r_3)"
      ],
      "metadata": {
        "id": "CpB7CAbJL03e"
      },
      "execution_count": 296,
      "outputs": []
    },
    {
      "cell_type": "code",
      "source": [
        "print(\"NIS_1: \", NIS_1, \"\\n\"\n",
        "      \"NIS_2: \", NIS_2, \"\\n\"\n",
        "      \"NIS_3: \", NIS_3)"
      ],
      "metadata": {
        "colab": {
          "base_uri": "https://localhost:8080/"
        },
        "id": "sthhs-GvNBkH",
        "outputId": "8a64415e-b11e-4539-ae29-e6db7239aaf4"
      },
      "execution_count": 297,
      "outputs": [
        {
          "output_type": "stream",
          "name": "stdout",
          "text": [
            "NIS_1:  1.0940432406493654 \n",
            "NIS_2:  1.1003850881859267 \n",
            "NIS_3:  0.9489850396173222\n"
          ]
        }
      ]
    },
    {
      "cell_type": "code",
      "source": [
        "Zn_1 = Zn(r_1, df_1)\n",
        "Zn_2 = Zn(r_2, df_2)\n",
        "Zn_3 = Zn(r_3)"
      ],
      "metadata": {
        "id": "4oBv8K8NPzQV"
      },
      "execution_count": 298,
      "outputs": []
    },
    {
      "cell_type": "code",
      "source": [
        "print(\"Zn_1: \", np.log(Zn_1), \"\\n\"\n",
        "      \"Zn_2: \", np.log(Zn_2), \"\\n\"\n",
        "      \"Zn_3: \", np.log(Zn_3))"
      ],
      "metadata": {
        "colab": {
          "base_uri": "https://localhost:8080/"
        },
        "id": "ZvqtcVwuPxY9",
        "outputId": "ff1b6c1f-998f-4c39-df7a-a9eeb694e1ef"
      },
      "execution_count": 299,
      "outputs": [
        {
          "output_type": "stream",
          "name": "stdout",
          "text": [
            "Zn_1:  1.0008888496235098 \n",
            "Zn_2:  0.9989127666691102 \n",
            "Zn_3:  0.9709880430890441\n"
          ]
        }
      ]
    },
    {
      "cell_type": "code",
      "source": [
        "def ESS(W):\n",
        "  return 1/sum(np.square(W))\n",
        "\n",
        "def logsumexp(logW):\n",
        "    c = logW.max()\n",
        "    return c + np.log(np.sum(np.exp(logW - c)))\n",
        "\n",
        "def normalized_weights(logW, logsumtrick=False):\n",
        "  if logsumtrick: w = np.exp(logW - logsumexp(logW))\n",
        "  else: w = np.exp(logW)\n",
        "  s = sum(w)\n",
        "  return w/s"
      ],
      "metadata": {
        "id": "MkAwvAcFUfP6"
      },
      "execution_count": 305,
      "outputs": []
    },
    {
      "cell_type": "code",
      "source": [
        "print(\"ESS1: \", ESS(normalized_weights(w_1)), \"\\n\"\n",
        "      \"ESS2: \", ESS(normalized_weights(w_2)), \"\\n\"\n",
        "      \"ESS3: \", ESS(normalized_weights(w_3)))"
      ],
      "metadata": {
        "colab": {
          "base_uri": "https://localhost:8080/"
        },
        "id": "CaRYnSuQ6UrI",
        "outputId": "f76d832a-5ce1-416b-eca4-a633d8ef8084"
      },
      "execution_count": 306,
      "outputs": [
        {
          "output_type": "stream",
          "name": "stdout",
          "text": [
            "ESS1:  10000.000000004398 \n",
            "ESS2:  8652.854737969765 \n",
            "ESS3:  6397.392604192071\n"
          ]
        }
      ]
    },
    {
      "cell_type": "markdown",
      "source": [
        "Here we see that ESS of Proposed Distribution 2 (PD2) loses some efficiency, and PD3 is 1/3 as efficient.\n",
        "\n",
        "PD3 also has the fault that its weights are unbounded at the ends, which can cause a bias. \n",
        "\n",
        "PD2 has a bounded weight distribution, which makes it the most appealing PD for `q(x)`. "
      ],
      "metadata": {
        "id": "RN-yKavc-Ijc"
      }
    },
    {
      "cell_type": "code",
      "source": [
        "print(\"ESS1: \", ESS(normalized_weights(w_1, logsumtrick=True)), \"\\n\"\n",
        "      \"ESS2: \", ESS(normalized_weights(w_2, logsumtrick=True)), \"\\n\"\n",
        "      \"ESS3: \", ESS(normalized_weights(w_3, logsumtrick=True)))"
      ],
      "metadata": {
        "colab": {
          "base_uri": "https://localhost:8080/"
        },
        "id": "drq_U8ol7yHr",
        "outputId": "a550a0d8-c309-48e3-e4d3-8a43522cc619"
      },
      "execution_count": 301,
      "outputs": [
        {
          "output_type": "stream",
          "name": "stdout",
          "text": [
            "ESS1:  9999.999999995747 \n",
            "ESS2:  8652.85473796987 \n",
            "ESS3:  6397.392604192083\n"
          ]
        }
      ]
    },
    {
      "cell_type": "markdown",
      "source": [
        "We can see that with the logsum trick the ESS values slightly. However, this allows for a safe computation of `np.exp(logW)` that wont overflow beyond the computer system's `INT_MAX`"
      ],
      "metadata": {
        "id": "KGIlbuKiK7pd"
      }
    }
  ]
}