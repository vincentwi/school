{
 "cells": [
  {
   "cell_type": "code",
   "execution_count": 1,
   "metadata": {},
   "outputs": [],
   "source": [
    "#!/usr/bin/env python3\n",
    "# -*- coding: utf-8 -*-\n",
    "\"\"\"\n",
    "Network Science Analytics\n",
    "TD 1: Centrality Criteria \n",
    "February 2020\n",
    "\"\"\"\n",
    "from helper import *\n",
    "import numpy as np\n",
    "import scipy.sparse as sparse\n",
    "from scipy.stats.stats import pearsonr\n",
    "import matplotlib.pyplot as plt\n",
    "import networkx as nx"
   ]
  },
  {
   "cell_type": "markdown",
   "metadata": {},
   "source": [
    "### Part I: Analysis of a real-world network"
   ]
  },
  {
   "cell_type": "markdown",
   "metadata": {},
   "source": [
    "#### Exercise 1: Basic properties of the network"
   ]
  },
  {
   "cell_type": "code",
   "execution_count": 2,
   "metadata": {},
   "outputs": [],
   "source": [
    "# 1.1) Read the edgelist of the NetScience network\n",
    "G = # load graph"
   ]
  },
  {
   "cell_type": "code",
   "execution_count": null,
   "metadata": {},
   "outputs": [],
   "source": [
    "# 1.2) Compute various characteristics of the network\n",
    "def compute_network_characteristics(graph):\n",
    "    prop = {}\n",
    "    prop['N'] =  # number of nodes\n",
    "    prop['M'] =  # number of edges\n",
    "    degrees =  # degree list\n",
    "    prop['min_degree'] =  # minimum degree\n",
    "    prop['max_degree'] = # maximum degree\n",
    "    prop['mean_degree'] =  # mean of node degrees\n",
    "    prop['median_degree'] =  # median of node degrees\n",
    "    prop['density'] = # density of the graph\n",
    "\n",
    "    return prop\n",
    "\n",
    "###################################################################\n",
    "prop = compute_network_characteristics(graph=G)\n",
    "print(\"Number of nodes: {}\".format(prop['N']))\n",
    "print(\"Number of edges: {}\".format(prop['M']))\n",
    "print(\"Min. degree: {}\".format(prop['min_degree']))\n",
    "print(\"Max. degree: {}\".format(prop['max_degree']))\n",
    "print(\"Mean degree: {}\".format(prop['mean_degree']))\n",
    "print(\"Median degree: {}\".format(prop['median_degree']))\n",
    "print(\"Density: {}\".format(prop['density']))"
   ]
  },
  {
   "cell_type": "markdown",
   "metadata": {},
   "source": [
    "#### Exercise 2: Connected components of the graph"
   ]
  },
  {
   "cell_type": "code",
   "execution_count": null,
   "metadata": {},
   "outputs": [],
   "source": [
    "def get_gcc(graph):\n",
    "    \n",
    "    # Is the given graph connected ? Print answer. \n",
    "\n",
    "    # Find the number of connected components. Print answer. \n",
    "    \n",
    "    # Get the greatest connected component subgraph\n",
    "    \n",
    "    # Compute node_fraction and edge_fraction from gcc\n",
    "    print(\"Fraction of nodes in GCC: {:.3f}\".format(node_fraction))\n",
    "    print(\"Fraction of edges in GCC: {:.3f}\".format(edge_fraction))\n",
    "\n",
    "    return gcc\n",
    "\n",
    "# Get the GGC of the network\n",
    "gcc = get_gcc(graph=G)"
   ]
  },
  {
   "cell_type": "markdown",
   "metadata": {},
   "source": [
    "### Part II: Centrality Measures"
   ]
  },
  {
   "cell_type": "code",
   "execution_count": 11,
   "metadata": {},
   "outputs": [],
   "source": [
    "# Get the largest connected component of the NetScience network\n",
    "G = # gcc subgraph"
   ]
  },
  {
   "cell_type": "markdown",
   "metadata": {},
   "source": [
    "#### Exercise 3: Implementation of Centrality Measures and Visualization of the Network"
   ]
  },
  {
   "cell_type": "code",
   "execution_count": 13,
   "metadata": {
    "collapsed": true
   },
   "outputs": [
    {
     "name": "stdout",
     "output_type": "stream",
     "text": [
      "{'1137': 4, '1196': 3, '114': 3, '764': 7, '1295': 4, '97': 11, '149': 4, '78': 27, '514': 3, '31': 2, '1415': 4, '983': 3, '285': 6, '77': 3, '405': 6, '591': 5, '853': 2, '113': 1, '1190': 5, '501': 2, '1086': 2, '1138': 3, '585': 3, '219': 18, '1041': 3, '1452': 1, '1470': 4, '223': 2, '718': 4, '55': 9, '57': 3, '1384': 2, '1216': 4, '310': 2, '1385': 2, '1025': 2, '33': 34, '46': 12, '218': 9, '1239': 1, '944': 5, '762': 4, '330': 6, '134': 8, '305': 5, '1091': 3, '152': 2, '1468': 4, '72': 10, '945': 5, '1181': 4, '758': 5, '695': 9, '473': 8, '284': 6, '132': 10, '276': 2, '765': 7, '1313': 4, '1451': 2, '252': 7, '56': 8, '401': 6, '1551': 3, '1397': 7, '98': 4, '611': 3, '547': 6, '964': 3, '403': 7, '840': 6, '1197': 3, '638': 6, '217': 5, '1529': 2, '759': 3, '561': 8, '376': 6, '675': 2, '1121': 2, '612': 3, '1363': 1, '281': 17, '657': 6, '1348': 2, '985': 4, '738': 2, '32': 2, '135': 1, '80': 3, '267': 7, '460': 3, '1283': 3, '1460': 3, '757': 5, '1405': 6, '346': 6, '192': 3, '548': 3, '1362': 3, '1083': 2, '378': 3, '70': 3, '1361': 3, '984': 7, '1022': 4, '47': 3, '128': 5, '674': 2, '1549': 1, '329': 5, '162': 5, '507': 4, '503': 2, '95': 4, '222': 5, '50': 3, '1130': 4, '45': 6, '515': 4, '1407': 6, '1556': 3, '428': 4, '126': 6, '760': 2, '756': 14, '955': 2, '772': 5, '517': 12, '309': 7, '306': 4, '1162': 6, '347': 4, '79': 3, '304': 2, '956': 6, '639': 4, '1341': 1, '316': 6, '1081': 1, '1343': 2, '700': 3, '640': 1, '1189': 2, '1315': 8, '328': 6, '49': 3, '127': 12, '450': 1, '596': 3, '1026': 4, '416': 9, '301': 12, '1172': 1, '133': 8, '1560': 3, '461': 3, '1030': 2, '761': 10, '1413': 4, '1136': 4, '1089': 2, '499': 1, '610': 2, '1135': 5, '1023': 4, '308': 8, '233': 2, '654': 14, '773': 5, '1406': 6, '1021': 4, '262': 7, '549': 3, '282': 7, '234': 2, '283': 8, '516': 14, '269': 7, '474': 2, '716': 4, '235': 3, '1344': 2, '429': 1, '1178': 3, '709': 5, '71': 11, '866': 2, '697': 12, '44': 2, '1087': 4, '1027': 1, '1314': 4, '609': 4, '342': 3, '1404': 6, '1228': 4, '508': 4, '489': 3, '221': 6, '220': 6, '702': 3, '1416': 3, '90': 1, '185': 2, '739': 1, '1215': 4, '694': 5, '1389': 2, '771': 5, '462': 3, '701': 3, '492': 1, '251': 4, '1024': 2, '977': 4, '509': 4, '641': 1, '264': 7, '1217': 4, '265': 11, '1229': 4, '1263': 3, '986': 2, '655': 7, '592': 3, '1039': 2, '277': 8, '58': 2, '1282': 3, '1040': 2, '490': 5, '377': 8, '1561': 3, '715': 4, '216': 19, '402': 12, '371': 6, '863': 2, '53': 16, '908': 4, '375': 6, '1414': 4, '1177': 2, '48': 6, '736': 2, '163': 1, '685': 1, '157': 2, '370': 2, '1557': 3, '864': 2, '278': 8, '1482': 2, '1347': 2, '266': 11, '693': 5, '500': 5, '190': 4, '69': 12, '770': 5, '1182': 1, '774': 6, '867': 2, '34': 27, '1122': 2, '562': 8, '331': 2, '268': 11, '652': 7, '404': 6, '576': 2, '224': 5, '1342': 3, '653': 3, '729': 2, '550': 4, '893': 5, '692': 1, '442': 1, '1163': 2, '1005': 1, '184': 4, '1191': 5, '934': 2, '546': 1, '1396': 7, '575': 2, '595': 3, '136': 7, '203': 6, '193': 3, '698': 5, '345': 4, '1008': 2, '472': 4, '186': 6, '1461': 2, '194': 10, '485': 1, '1558': 3, '417': 2, '717': 4, '1255': 3, '343': 10, '1221': 2, '96': 15, '589': 5, '710': 3, '54': 21, '100': 4, '120': 1, '279': 6, '151': 14, '586': 3, '30': 10, '1316': 4, '302': 5, '1180': 4, '225': 6, '263': 9, '574': 4, '1481': 2, '788': 3, '892': 5, '1469': 4, '894': 3, '696': 5, '763': 4, '491': 2, '1123': 2, '1088': 3, '326': 3, '1417': 3, '493': 2, '1408': 6, '737': 2, '327': 15, '676': 5, '656': 3, '776': 3, '303': 7, '587': 4, '191': 4, '646': 2, '52': 4, '280': 6, '1195': 3, '443': 6, '1214': 4, '488': 3, '99': 5, '775': 7, '502': 3, '1145': 12, '317': 3, '94': 9, '590': 6, '464': 3, '307': 9, '1312': 4, '465': 2, '865': 2, '121': 9, '466': 2, '708': 4, '1395': 7, '463': 5, '1092': 3, '963': 3, '158': 2, '150': 15, '131': 4, '839': 3, '51': 9, '1394': 7, '1550': 4, '1082': 2, '344': 2}\n"
     ]
    }
   ],
   "source": [
    "# 1.1) Degree Centrality\n",
    "def compute_degree_centrality(graph):\n",
    "    '''\n",
    "    :param graph:\n",
    "    :return:\n",
    "        degree_centrality:\n",
    "        Dictionary of nodes with degree centrality as the value\n",
    "    '''\n",
    "    degree_centrality = {}\n",
    "    \n",
    "    ### Please write your code below\n",
    "    \n",
    "    return degree_centrality\n",
    "\n",
    "print(compute_degree_centrality(G))"
   ]
  },
  {
   "cell_type": "code",
   "execution_count": 17,
   "metadata": {},
   "outputs": [],
   "source": [
    "## 1.2) Closeness Centrality\n",
    "def compute_closeness_centrality(graph):\n",
    "    '''\n",
    "    :param graph:\n",
    "    :return:\n",
    "        closeness_centrality:\n",
    "        Dictionary of nodes with closeness centrality as the value\n",
    "    '''\n",
    "    closeness_centrality = {}\n",
    "\n",
    "    ### Please write your code below\n",
    "\n",
    "    return closeness_centrality\n",
    "\n",
    "# Check if the implementation returns corrrect values\n",
    "assert nx.closeness_centrality(G).items() == compute_closeness_centrality(G).items()"
   ]
  },
  {
   "cell_type": "code",
   "execution_count": 20,
   "metadata": {},
   "outputs": [],
   "source": [
    "# 1.3) Harmonic Centrality\n",
    "def compute_harmonic_centrality(graph):\n",
    "    '''\n",
    "    :param graph:\n",
    "    :return:\n",
    "        harmonic_centrality:\n",
    "        Dictionary of nodes with harmonic centrality as the value\n",
    "    '''\n",
    "    harmonic_centrality = {}\n",
    "\n",
    "    ### Please write your code below\n",
    "\n",
    "    return harmonic_centrality\n",
    "\n",
    "# Check if the implementation returns corrrect values\n",
    "assert nx.harmonic_centrality(G).items() == compute_harmonic_centrality(G).items()"
   ]
  },
  {
   "cell_type": "code",
   "execution_count": 21,
   "metadata": {},
   "outputs": [
    {
     "data": {
      "image/png": "[encoded data removed]",
      "text/plain": [
       "<Figure size 432x288 with 2 Axes>"
      ]
     },
     "metadata": {
      "needs_background": "light"
     },
     "output_type": "display_data"
    }
   ],
   "source": [
    "# 1.4) Visualization\n",
    "# Example code for visualization\n",
    "node2values = assign_random_values(graph=G)\n",
    "visualize(graph=G, values=node2values, node_size=10)"
   ]
  },
  {
   "cell_type": "code",
   "execution_count": null,
   "metadata": {},
   "outputs": [],
   "source": [
    "# 1.5) (Optional) Core Number\n",
    "def compute_core_number(graph):\n",
    "    '''\n",
    "    :param graph:\n",
    "    :return:\n",
    "        core_number:\n",
    "        Dictionary of nodes with core number as the value\n",
    "    '''\n",
    "    core_number = {}\n",
    "    \n",
    "    ### Please write your code below\n",
    "\n",
    "    return core_number\n",
    "\n",
    "# Check if the implementation returns corrrect values\n",
    "assert compute_core_number(G).items() == nx.core_number(G).items()"
   ]
  },
  {
   "cell_type": "code",
   "execution_count": null,
   "metadata": {},
   "outputs": [],
   "source": [
    "# 1.6) (Optional) Neighborhood Coreness\n",
    "def compute_neighborhood_coreness(graph):\n",
    "    '''\n",
    "    :param graph:\n",
    "    :return:\n",
    "        nb_coreness:\n",
    "        Dictionary of nodes with core number as the value\n",
    "    '''\n",
    "    nb_coreness = {}\n",
    "    \n",
    "    ### Please write your code below\n",
    "\n",
    "    return nb_coreness\n",
    "\n",
    "#print(compute_neighborhood_coreness(G))"
   ]
  },
  {
   "cell_type": "markdown",
   "metadata": {},
   "source": [
    "### Part III: Robustness of the Network"
   ]
  },
  {
   "cell_type": "code",
   "execution_count": 22,
   "metadata": {},
   "outputs": [],
   "source": [
    "# Read the edgelist of the ca-GrQc network\n",
    "G0 = # load graph\n",
    "# Get the largest connected component of the network\n",
    "G = # load gcc subgraph"
   ]
  },
  {
   "cell_type": "markdown",
   "metadata": {},
   "source": [
    "#### Exercise 4: Analysis of the robustness"
   ]
  },
  {
   "cell_type": "code",
   "execution_count": null,
   "metadata": {},
   "outputs": [],
   "source": [
    "def plot_robustness_analysis(graph, node2values, k):\n",
    "    '''\n",
    "    :param graph: nx graph\n",
    "    :param node2values: Dictionary of nodes with centrality values\n",
    "    :param k: the number of nodes to be removed\n",
    "    '''\n",
    "    num_connected_components = []\n",
    "    gcc_sizes = []\n",
    "    rest_sizes = []\n",
    "\n",
    "    # Please write your code below    \n",
    "    \n",
    "    # Plot \n",
    "    plt.figure(figsize=(8,4.5))\n",
    "    plt.subplot(1, 2, 1)\n",
    "    plt.plot(num_connected_components, '.')\n",
    "    plt.xlabel(\"Number of removed nodes\")\n",
    "    plt.ylabel(\"Number of connected components\")\n",
    "    plt.subplot(1, 2, 2)\n",
    "    line1, = plt.plot(gcc_sizes, label=\"The GCC\") \n",
    "    line2, = plt.plot(rest_sizes, label=\"The Rest\")\n",
    "    plt.xlabel(\"Number of removed nodes\")\n",
    "    plt.ylabel(\"The fraction of gcc and the rest of the network\")\n",
    "    plt.legend(handles=[line1, line2])\n",
    "    plt.subplots_adjust(wspace=0.5)\n",
    "    plt.show()\n",
    "    \n",
    "#  Choose a centrality measure, you can also use built-in functions\n",
    "node2values = # Fill in\n",
    "k = 500 # k is the number of nodes to be removed\n",
    "plot_robustness_analysis(G, node2values, k)"
   ]
  }
 ],
 "metadata": {
  "kernelspec": {
   "display_name": "Python 3",
   "language": "python",
   "name": "python3"
  },
  "language_info": {
   "codemirror_mode": {
    "name": "ipython",
    "version": 3
   },
   "file_extension": ".py",
   "mimetype": "text/x-python",
   "name": "python",
   "nbconvert_exporter": "python",
   "pygments_lexer": "ipython3",
   "version": "3.7.10"
  }
 },
 "nbformat": 4,
 "nbformat_minor": 2
}
