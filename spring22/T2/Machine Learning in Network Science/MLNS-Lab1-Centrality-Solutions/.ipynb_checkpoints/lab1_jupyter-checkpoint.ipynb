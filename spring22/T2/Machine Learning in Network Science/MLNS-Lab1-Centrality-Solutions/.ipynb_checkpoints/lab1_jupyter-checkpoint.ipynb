{
 "cells": [
  {
   "cell_type": "code",
   "execution_count": null,
   "metadata": {},
   "outputs": [],
   "source": [
    "#!/usr/bin/env python3\n",
    "# -*- coding: utf-8 -*-\n",
    "\"\"\"\n",
    "Network Science Analytics\n",
    "TD 1: Centrality Criteria \n",
    "21 December 2020\n",
    "\"\"\"\n",
    "from helper import *\n",
    "import numpy as np\n",
    "import scipy.sparse as sparse\n",
    "from scipy.stats.stats import pearsonr\n",
    "import matplotlib.pyplot as plt\n",
    "import networkx as nx"
   ]
  },
  {
   "cell_type": "markdown",
   "metadata": {},
   "source": [
    "### Part I: Analysis of a real-world network"
   ]
  },
  {
   "cell_type": "markdown",
   "metadata": {},
   "source": [
    "#### Exercise 1: Basic properties of the network"
   ]
  },
  {
   "cell_type": "code",
   "execution_count": null,
   "metadata": {},
   "outputs": [],
   "source": [
    "# 1.1) Read the edgelist of the NetScience network\n",
    "G = nx.read_edgelist()"
   ]
  },
  {
   "cell_type": "code",
   "execution_count": null,
   "metadata": {},
   "outputs": [],
   "source": [
    "# 1.2) Compute various characteristics of the network\n",
    "def compute_network_characteristics(graph):\n",
    "    prop = {}\n",
    "    prop['N'] =  # number of nodes\n",
    "    prop['M'] = () # number of edges\n",
    "    degrees = [] # degree list\n",
    "    prop['min_degree'] =  # minimum degree\n",
    "    prop['max_degree'] =  # maximum degree\n",
    "    prop['mean_degree'] = # mean of node degrees\n",
    "    prop['median_degree'] = # median of node degrees\n",
    "    prop['density'] =  # density of the graph\n",
    "\n",
    "    return prop\n",
    "\n",
    "###################################################################\n",
    "prop = compute_network_characteristics(graph=G)\n",
    "print(\"Number of nodes: {}\".format(prop['N']))\n",
    "print(\"Number of edges: {}\".format(prop['M']))\n",
    "print(\"Min. degree: {}\".format(prop['min_degree']))\n",
    "print(\"Max. degree: {}\".format(prop['max_degree']))\n",
    "print(\"Mean degree: {}\".format(prop['mean_degree']))\n",
    "print(\"Median degree: {}\".format(prop['median_degree']))\n",
    "print(\"Density: {}\".format(prop['density']))"
   ]
  },
  {
   "cell_type": "markdown",
   "metadata": {},
   "source": [
    "#### Exercise 2: Connected components of the graph"
   ]
  },
  {
   "cell_type": "code",
   "execution_count": null,
   "metadata": {},
   "outputs": [],
   "source": [
    "def get_gcc(graph):\n",
    "    # Is the given graph connected?\n",
    "    connected =  # check if the graph is connected or not\n",
    "    if connected:\n",
    "        print(\"The graph is connected\")\n",
    "        return graph\n",
    "    \n",
    "    print(\"The graph is not connected\")\n",
    "    \n",
    "    # Find the number of connected components\n",
    "    num_of_cc = \n",
    "    print(\"Number of connected components: {}\".format(num_of_cc))\n",
    "    \n",
    "    # Get the greatest connected component subgraph\n",
    "    \n",
    "    gcc = \n",
    "    node_fraction = gcc.number_of_nodes() / float(graph.number_of_nodes())\n",
    "    edge_fraction = gcc.number_of_edges() / float(graph.number_of_edges())\n",
    "    \n",
    "    print(\"Fraction of nodes in GCC: {:.3f}\".format(node_fraction))\n",
    "    print(\"Fraction of edges in GCC: {:.3f}\".format(edge_fraction))\n",
    "\n",
    "    return gcc\n",
    "\n",
    "# Get the GGC of the network\n",
    "gcc = get_gcc(graph=G)"
   ]
  },
  {
   "cell_type": "markdown",
   "metadata": {},
   "source": [
    "### Part II: Centrality Measures"
   ]
  },
  {
   "cell_type": "code",
   "execution_count": null,
   "metadata": {},
   "outputs": [],
   "source": [
    "# Read the edgelist of the NetScience network\n",
    "G0 = \n",
    "# Get the largest connected component of the network\n",
    "nodes = max(nx.connected_components(G0), key=len) \n",
    "G = G0.subgraph(nodes)"
   ]
  },
  {
   "cell_type": "markdown",
   "metadata": {},
   "source": [
    "#### Exercise 3: Implementation of Centrality Measures and Visualization of the Network"
   ]
  },
  {
   "cell_type": "code",
   "execution_count": null,
   "metadata": {},
   "outputs": [],
   "source": [
    "# 1.1) Degree Centrality\n",
    "def compute_degree_centrality(graph):\n",
    "    '''\n",
    "    :param graph:\n",
    "    :return:\n",
    "        degree_centrality:\n",
    "        Dictionary of nodes with degree centrality as the value\n",
    "    '''\n",
    "    degree_centrality = {}\n",
    "    ### Please write your code below\n",
    "\n",
    "\n",
    "    \n",
    "    ###\n",
    "    return degree_centrality\n",
    "\n",
    "#print(compute_degree_centrality(G))"
   ]
  },
  {
   "cell_type": "code",
   "execution_count": null,
   "metadata": {},
   "outputs": [],
   "source": [
    "## 1.2) Closeness Centrality\n",
    "def compute_closeness_centrality(graph):\n",
    "    '''\n",
    "    :param graph:\n",
    "    :return:\n",
    "        closeness_centrality:\n",
    "        Dictionary of nodes with closeness centrality as the value\n",
    "    '''\n",
    "    closeness_centrality = {}\n",
    "    ### Please write your code below\n",
    "\n",
    "\n",
    "    ###\n",
    "    return closeness_centrality\n",
    "\n",
    "# Check if the implementation returns corrrect values\n",
    "assert nx.closeness_centrality(G).items() == compute_closeness_centrality(G).items()"
   ]
  },
  {
   "cell_type": "code",
   "execution_count": null,
   "metadata": {},
   "outputs": [],
   "source": [
    "# 1.3) Harmonic Centrality\n",
    "def compute_harmonic_centrality(graph):\n",
    "    '''\n",
    "    :param graph:\n",
    "    :return:\n",
    "        harmonic_centrality:\n",
    "        Dictionary of nodes with harmonic centrality as the value\n",
    "    '''\n",
    "    harmonic_centrality = {}\n",
    "    ### Please write your code below\n",
    "\n",
    "\n",
    "\n",
    "    ###\n",
    "    return harmonic_centrality\n",
    "\n",
    "# Check if the implementation returns corrrect values\n",
    "assert nx.harmonic_centrality(G).items() == compute_harmonic_centrality(G).items()"
   ]
  },
  {
   "cell_type": "code",
   "execution_count": null,
   "metadata": {},
   "outputs": [],
   "source": [
    "# 1.4) Visualization\n",
    "# Example code for visualization\n",
    "node2values = assign_random_values(graph=G)\n",
    "visualize(graph=G, values=node2values, node_size=10)"
   ]
  },
  {
   "cell_type": "code",
   "execution_count": null,
   "metadata": {},
   "outputs": [],
   "source": [
    "# 1.5) (Optional) Core Number\n",
    "def compute_core_number(graph):\n",
    "    '''\n",
    "    :param graph:\n",
    "    :return:\n",
    "        core_number:\n",
    "        Dictionary of nodes with core number as the value\n",
    "    '''\n",
    "    core_number = {}\n",
    "    ### Please write your code below\n",
    "    \n",
    "\n",
    "                    \n",
    "    ###\n",
    "    return core_number\n",
    "\n",
    "# Check if the implementation returns corrrect values\n",
    "assert compute_core_number(G).items() == nx.core_number(G).items()"
   ]
  },
  {
   "cell_type": "code",
   "execution_count": null,
   "metadata": {},
   "outputs": [],
   "source": [
    "# 1.6) (Optional) Neighborhood Coreness\n",
    "def compute_neighborhood_coreness(graph):\n",
    "    '''\n",
    "    :param graph:\n",
    "    :return:\n",
    "        nb_coreness:\n",
    "        Dictionary of nodes with core number as the value\n",
    "    '''\n",
    "    nb_coreness = {}\n",
    "    ### Please write your code below\n",
    "\n",
    "\n",
    "    ###\n",
    "    return nb_coreness\n",
    "\n",
    "#print(compute_neighborhood_coreness(G))"
   ]
  },
  {
   "cell_type": "markdown",
   "metadata": {},
   "source": [
    "### Part III: Robustness of the Network"
   ]
  },
  {
   "cell_type": "code",
   "execution_count": null,
   "metadata": {},
   "outputs": [],
   "source": [
    "# Read the edgelist of the ca-GrQc network\n",
    "G0 = nx.read_edgelist(\"./ca-GrQc.edgelist\", comments='#', delimiter='\\t')\n",
    "# Get the largest connected component of the network\n",
    "nodes = max(nx.connected_components(G0), key=len)\n",
    "G = G0.subgraph(nodes)"
   ]
  },
  {
   "cell_type": "markdown",
   "metadata": {},
   "source": [
    "#### Exercise 4: Analysis of the robustness"
   ]
  },
  {
   "cell_type": "code",
   "execution_count": null,
   "metadata": {},
   "outputs": [],
   "source": [
    "def plot_robustness_analysis(graph, node2values, k):\n",
    "    '''\n",
    "    :param graph:\n",
    "    :param node2values: Dictionary of nodes with centrality values\n",
    "    :param k: the number of nodes to be removed\n",
    "    '''\n",
    "    num_connected_components = []\n",
    "    gcc_sizes = []\n",
    "    rest_sizes = []\n",
    "    # Please write your code below    \n",
    "    \n",
    "    \n",
    "    ##\n",
    "    plt.figure(figsize=(8,4.5))\n",
    "    plt.subplot(1, 2, 1)\n",
    "    plt.plot(num_connected_components, '.')\n",
    "    plt.xlabel(\"Number of removed nodes\")\n",
    "    plt.ylabel(\"Number of connected components\")\n",
    "    plt.subplot(1, 2, 2)\n",
    "    line1, = plt.plot(gcc_sizes, label=\"The GCC\") \n",
    "    line2, = plt.plot(rest_sizes, label=\"The Rest\")\n",
    "    plt.xlabel(\"Number of removed nodes\")\n",
    "    plt.ylabel(\"The fraction of gcc and the rest of the network\")\n",
    "    plt.legend(handles=[line1, line2])\n",
    "    plt.subplots_adjust(wspace=0.5)\n",
    "    plt.show()\n",
    "    \n",
    "#  Choose a centrality measure, you can also use built-in functions\n",
    "node2values = assign_random_values(graph=G)\n",
    "k = 500 # k is the number of nodes to be removed\n",
    "plot_robustness_analysis(G, node2values, k)"
   ]
  },
  {
   "cell_type": "code",
   "execution_count": null,
   "metadata": {},
   "outputs": [],
   "source": []
  }
 ],
 "metadata": {
  "kernelspec": {
   "display_name": "Python 3",
   "language": "python",
   "name": "python3"
  },
  "language_info": {
   "codemirror_mode": {
    "name": "ipython",
    "version": 3
   },
   "file_extension": ".py",
   "mimetype": "text/x-python",
   "name": "python",
   "nbconvert_exporter": "python",
   "pygments_lexer": "ipython3",
   "version": "3.7.6"
  }
 },
 "nbformat": 4,
 "nbformat_minor": 2
}
