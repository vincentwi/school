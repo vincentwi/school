{
  "cells": [
    {
      "cell_type": "markdown",
      "metadata": {
        "id": "aC9mCWtUlOIL"
      },
      "source": [
        "## Regression Problem: House Prices Prediction\n",
        "In this exercise, we will solve a regression problem with a neural network.\n",
        "\n",
        "**Objective:** The goal is to predict the house selling prices .\n",
        "\n",
        "**Dataset:**  A csv file with 1460 samples is provided (on the course webpage). Each example contains four input features. We will use 1000 examples as training set, 200 as validation set and the rest as test set.   \n",
        "   * **Feature names**: OverallQual, YearBuilt, TotalBsmtSF, GrLivArea\n",
        "   * **Target**: SalePrice\n",
        "\n",
        "**NB:** new required libraries: `pandas`, `seaborn`."
      ]
    },
    {
      "cell_type": "code",
      "execution_count": 5,
      "metadata": {
        "id": "Z5j9rafElOIM"
      },
      "outputs": [],
      "source": [
        "import pandas as pd\n",
        "import numpy as np\n",
        "import matplotlib.pyplot as plt\n",
        "\n",
        "import torch\n",
        "import torch.nn as nn\n",
        "\n",
        "import torch.nn.functional as F\n",
        "from torch.utils.data import DataLoader, TensorDataset\n",
        "import seaborn as sns\n",
        "\n",
        "%matplotlib inline"
      ]
    },
    {
      "cell_type": "code",
      "execution_count": 6,
      "metadata": {
        "id": "gWxlYjv5lOIN"
      },
      "outputs": [],
      "source": [
        "# Load data:\n",
        "df = pd.read_csv(\"house_prices.csv\")"
      ]
    },
    {
      "cell_type": "code",
      "execution_count": 7,
      "metadata": {
        "colab": {
          "base_uri": "https://localhost:8080/",
          "height": 143
        },
        "id": "4l8MzCfMlOIN",
        "outputId": "b49f3dce-2db8-4a75-e63f-1e4cbf485338"
      },
      "outputs": [
        {
          "output_type": "execute_result",
          "data": {
            "text/html": [
              "\n",
              "  <div id=\"df-95e81932-2e9a-4ae0-b059-ea50d22ea0f8\">\n",
              "    <div class=\"colab-df-container\">\n",
              "      <div>\n",
              "<style scoped>\n",
              "    .dataframe tbody tr th:only-of-type {\n",
              "        vertical-align: middle;\n",
              "    }\n",
              "\n",
              "    .dataframe tbody tr th {\n",
              "        vertical-align: top;\n",
              "    }\n",
              "\n",
              "    .dataframe thead th {\n",
              "        text-align: right;\n",
              "    }\n",
              "</style>\n",
              "<table border=\"1\" class=\"dataframe\">\n",
              "  <thead>\n",
              "    <tr style=\"text-align: right;\">\n",
              "      <th></th>\n",
              "      <th>OverallQual</th>\n",
              "      <th>YearBuilt</th>\n",
              "      <th>TotalBsmtSF</th>\n",
              "      <th>GrLivArea</th>\n",
              "      <th>SalePrice</th>\n",
              "    </tr>\n",
              "  </thead>\n",
              "  <tbody>\n",
              "    <tr>\n",
              "      <th>0</th>\n",
              "      <td>7</td>\n",
              "      <td>2003</td>\n",
              "      <td>856</td>\n",
              "      <td>1710</td>\n",
              "      <td>208500</td>\n",
              "    </tr>\n",
              "    <tr>\n",
              "      <th>1</th>\n",
              "      <td>6</td>\n",
              "      <td>1976</td>\n",
              "      <td>1262</td>\n",
              "      <td>1262</td>\n",
              "      <td>181500</td>\n",
              "    </tr>\n",
              "    <tr>\n",
              "      <th>2</th>\n",
              "      <td>7</td>\n",
              "      <td>2001</td>\n",
              "      <td>920</td>\n",
              "      <td>1786</td>\n",
              "      <td>223500</td>\n",
              "    </tr>\n",
              "  </tbody>\n",
              "</table>\n",
              "</div>\n",
              "      <button class=\"colab-df-convert\" onclick=\"convertToInteractive('df-95e81932-2e9a-4ae0-b059-ea50d22ea0f8')\"\n",
              "              title=\"Convert this dataframe to an interactive table.\"\n",
              "              style=\"display:none;\">\n",
              "        \n",
              "  <svg xmlns=\"http://www.w3.org/2000/svg\" height=\"24px\"viewBox=\"0 0 24 24\"\n",
              "       width=\"24px\">\n",
              "    <path d=\"M0 0h24v24H0V0z\" fill=\"none\"/>\n",
              "    <path d=\"M18.56 5.44l.94 2.06.94-2.06 2.06-.94-2.06-.94-.94-2.06-.94 2.06-2.06.94zm-11 1L8.5 8.5l.94-2.06 2.06-.94-2.06-.94L8.5 2.5l-.94 2.06-2.06.94zm10 10l.94 2.06.94-2.06 2.06-.94-2.06-.94-.94-2.06-.94 2.06-2.06.94z\"/><path d=\"M17.41 7.96l-1.37-1.37c-.4-.4-.92-.59-1.43-.59-.52 0-1.04.2-1.43.59L10.3 9.45l-7.72 7.72c-.78.78-.78 2.05 0 2.83L4 21.41c.39.39.9.59 1.41.59.51 0 1.02-.2 1.41-.59l7.78-7.78 2.81-2.81c.8-.78.8-2.07 0-2.86zM5.41 20L4 18.59l7.72-7.72 1.47 1.35L5.41 20z\"/>\n",
              "  </svg>\n",
              "      </button>\n",
              "      \n",
              "  <style>\n",
              "    .colab-df-container {\n",
              "      display:flex;\n",
              "      flex-wrap:wrap;\n",
              "      gap: 12px;\n",
              "    }\n",
              "\n",
              "    .colab-df-convert {\n",
              "      background-color: #E8F0FE;\n",
              "      border: none;\n",
              "      border-radius: 50%;\n",
              "      cursor: pointer;\n",
              "      display: none;\n",
              "      fill: #1967D2;\n",
              "      height: 32px;\n",
              "      padding: 0 0 0 0;\n",
              "      width: 32px;\n",
              "    }\n",
              "\n",
              "    .colab-df-convert:hover {\n",
              "      background-color: #E2EBFA;\n",
              "      box-shadow: 0px 1px 2px rgba(60, 64, 67, 0.3), 0px 1px 3px 1px rgba(60, 64, 67, 0.15);\n",
              "      fill: #174EA6;\n",
              "    }\n",
              "\n",
              "    [theme=dark] .colab-df-convert {\n",
              "      background-color: #3B4455;\n",
              "      fill: #D2E3FC;\n",
              "    }\n",
              "\n",
              "    [theme=dark] .colab-df-convert:hover {\n",
              "      background-color: #434B5C;\n",
              "      box-shadow: 0px 1px 3px 1px rgba(0, 0, 0, 0.15);\n",
              "      filter: drop-shadow(0px 1px 2px rgba(0, 0, 0, 0.3));\n",
              "      fill: #FFFFFF;\n",
              "    }\n",
              "  </style>\n",
              "\n",
              "      <script>\n",
              "        const buttonEl =\n",
              "          document.querySelector('#df-95e81932-2e9a-4ae0-b059-ea50d22ea0f8 button.colab-df-convert');\n",
              "        buttonEl.style.display =\n",
              "          google.colab.kernel.accessAllowed ? 'block' : 'none';\n",
              "\n",
              "        async function convertToInteractive(key) {\n",
              "          const element = document.querySelector('#df-95e81932-2e9a-4ae0-b059-ea50d22ea0f8');\n",
              "          const dataTable =\n",
              "            await google.colab.kernel.invokeFunction('convertToInteractive',\n",
              "                                                     [key], {});\n",
              "          if (!dataTable) return;\n",
              "\n",
              "          const docLinkHtml = 'Like what you see? Visit the ' +\n",
              "            '<a target=\"_blank\" href=https://colab.research.google.com/notebooks/data_table.ipynb>data table notebook</a>'\n",
              "            + ' to learn more about interactive tables.';\n",
              "          element.innerHTML = '';\n",
              "          dataTable['output_type'] = 'display_data';\n",
              "          await google.colab.output.renderOutput(dataTable, element);\n",
              "          const docLink = document.createElement('div');\n",
              "          docLink.innerHTML = docLinkHtml;\n",
              "          element.appendChild(docLink);\n",
              "        }\n",
              "      </script>\n",
              "    </div>\n",
              "  </div>\n",
              "  "
            ],
            "text/plain": [
              "   OverallQual  YearBuilt  TotalBsmtSF  GrLivArea  SalePrice\n",
              "0            7       2003          856       1710     208500\n",
              "1            6       1976         1262       1262     181500\n",
              "2            7       2001          920       1786     223500"
            ]
          },
          "metadata": {},
          "execution_count": 7
        }
      ],
      "source": [
        "df.head(3)"
      ]
    },
    {
      "cell_type": "code",
      "execution_count": 8,
      "metadata": {
        "colab": {
          "base_uri": "https://localhost:8080/"
        },
        "id": "00ThsjDElOIN",
        "outputId": "668dd008-81ca-451a-efde-07f9f865368b"
      },
      "outputs": [
        {
          "output_type": "stream",
          "name": "stdout",
          "text": [
            "<class 'pandas.core.frame.DataFrame'>\n",
            "RangeIndex: 1460 entries, 0 to 1459\n",
            "Data columns (total 5 columns):\n",
            " #   Column       Non-Null Count  Dtype\n",
            "---  ------       --------------  -----\n",
            " 0   OverallQual  1460 non-null   int64\n",
            " 1   YearBuilt    1460 non-null   int64\n",
            " 2   TotalBsmtSF  1460 non-null   int64\n",
            " 3   GrLivArea    1460 non-null   int64\n",
            " 4   SalePrice    1460 non-null   int64\n",
            "dtypes: int64(5)\n",
            "memory usage: 57.2 KB\n"
          ]
        }
      ],
      "source": [
        "df.info() # get more information"
      ]
    },
    {
      "cell_type": "markdown",
      "metadata": {
        "id": "54i8wdeslOIN"
      },
      "source": [
        "### Data Analysis\n",
        "Before training, we need first to analyze the dataset, to know its properties better."
      ]
    },
    {
      "cell_type": "code",
      "execution_count": 9,
      "metadata": {
        "colab": {
          "base_uri": "https://localhost:8080/",
          "height": 194
        },
        "id": "eqsj5m-DlOIO",
        "outputId": "e4b9a9d7-8e95-4673-8e0b-bafb3d7f4698"
      },
      "outputs": [
        {
          "output_type": "execute_result",
          "data": {
            "text/plain": [
              "<seaborn.axisgrid.PairGrid at 0x7f6d98add190>"
            ]
          },
          "metadata": {},
          "execution_count": 9
        },
        {
          "output_type": "display_data",
          "data": {
            "image/png": "[encoded data removed]",
            "text/plain": [
              "<Figure size 720x180 with 4 Axes>"
            ]
          },
          "metadata": {
            "needs_background": "light"
          }
        }
      ],
      "source": [
        "sns.pairplot(df, x_vars=['OverallQual', 'YearBuilt', 'TotalBsmtSF', 'GrLivArea'], \n",
        "             y_vars=['SalePrice'])"
      ]
    },
    {
      "cell_type": "markdown",
      "source": [
        "# Preprocessing"
      ],
      "metadata": {
        "id": "yET8doX1EKNe"
      }
    },
    {
      "cell_type": "code",
      "source": [
        "from sklearn.preprocessing import MinMaxScaler\n",
        "scaler = MinMaxScaler()\n",
        "scaler.fit(df) \n",
        "scaled = scaler.fit_transform(df)\n",
        "scaled_df = pd.DataFrame(scaled, columns=df.columns)\n",
        "print(scaled_df)"
      ],
      "metadata": {
        "colab": {
          "base_uri": "https://localhost:8080/"
        },
        "id": "Ea7aJqDMDeqF",
        "outputId": "effb0a7c-f90b-4a3e-a1a5-4b183fa21122"
      },
      "execution_count": 10,
      "outputs": [
        {
          "output_type": "stream",
          "name": "stdout",
          "text": [
            "      OverallQual  YearBuilt  TotalBsmtSF  GrLivArea  SalePrice\n",
            "0        0.666667   0.949275     0.140098   0.259231   0.241078\n",
            "1        0.555556   0.753623     0.206547   0.174830   0.203583\n",
            "2        0.666667   0.934783     0.150573   0.273549   0.261908\n",
            "3        0.666667   0.311594     0.123732   0.260550   0.145952\n",
            "4        0.777778   0.927536     0.187398   0.351168   0.298709\n",
            "...           ...        ...          ...        ...        ...\n",
            "1455     0.555556   0.920290     0.155974   0.247362   0.194556\n",
            "1456     0.555556   0.768116     0.252373   0.327619   0.243161\n",
            "1457     0.666667   0.500000     0.188543   0.377920   0.321622\n",
            "1458     0.444444   0.565217     0.176432   0.140166   0.148903\n",
            "1459     0.444444   0.673913     0.205565   0.173700   0.156367\n",
            "\n",
            "[1460 rows x 5 columns]\n"
          ]
        }
      ]
    },
    {
      "cell_type": "markdown",
      "metadata": {
        "id": "92YUSVUmlOIO"
      },
      "source": [
        "### House prices prediction"
      ]
    },
    {
      "cell_type": "markdown",
      "metadata": {
        "id": "ox6P468ulOIP"
      },
      "source": [
        "Here is a skeleton of a neural network with a single layer (thus: a linear classifier). This is the model you'll start with and improve during this exercise.\n",
        "\n",
        "Look at the code and run it to see its structure, then follow the questions below to iteratively improve the model."
      ]
    },
    {
      "cell_type": "code",
      "execution_count": 11,
      "metadata": {
        "id": "6ihD9UMklOIP"
      },
      "outputs": [],
      "source": [
        "X = scaled_df[['OverallQual', 'YearBuilt', 'TotalBsmtSF', 'GrLivArea']] # get the four features from the dataframe\n",
        "y = scaled_df['SalePrice'] # get the target values"
      ]
    },
    {
      "cell_type": "code",
      "execution_count": 12,
      "metadata": {
        "id": "k5bPRtpmlOIP"
      },
      "outputs": [],
      "source": [
        "X_train = X.iloc[:1000]\n",
        "y_train = y.iloc[:1000]\n",
        "\n",
        "X_val = X.iloc[1000:1200]\n",
        "y_val = y.iloc[1000:1200]\n",
        "\n",
        "X_test = X.iloc[1200:]\n",
        "y_test = y.iloc[1200:]"
      ]
    },
    {
      "cell_type": "code",
      "execution_count": 13,
      "metadata": {
        "id": "ESs_F5KXlOIQ"
      },
      "outputs": [],
      "source": [
        "# Construct a model with one layer\n",
        "class Model(nn.Module):\n",
        "    \n",
        "    def __init__(self):\n",
        "        super(Model, self).__init__()\n",
        "        \n",
        "        self.l1 = nn.Linear(4, 1)\n",
        "        \n",
        "    def forward(self, inputs):\n",
        "        outputs = self.l1(inputs)\n",
        "        return outputs"
      ]
    },
    {
      "cell_type": "code",
      "execution_count": 14,
      "metadata": {
        "id": "PXVdL5ZtlOIQ"
      },
      "outputs": [],
      "source": [
        "# Define hyper-parameters:\n",
        "model = Model()\n",
        "\n",
        "# Choose the hyperparameters for training: \n",
        "num_epochs = 10\n",
        "batch_size = 10\n",
        "\n",
        "# Training criterion. This one is a mean squared error (MSE) loss between the output\n",
        "# of the network and the target label\n",
        "criterion = nn.MSELoss()\n",
        "\n",
        "# Use SGD optimizer with a learning rate of 0.01\n",
        "# It is initialized on our model\n",
        "optimizer = torch.optim.SGD(model.parameters(), lr=0.01)"
      ]
    },
    {
      "cell_type": "code",
      "execution_count": 15,
      "metadata": {
        "id": "2QozxDYclOIQ"
      },
      "outputs": [],
      "source": [
        "train_set = TensorDataset(torch.from_numpy(np.array(X_train)).float(), \n",
        "                          torch.from_numpy(np.array(y_train)).float()) # creat the dataset."
      ]
    },
    {
      "cell_type": "code",
      "source": [
        "test_set = TensorDataset(torch.from_numpy(np.array(X_test)).float(), \n",
        "                          torch.from_numpy(np.array(y_test)).float()) # creat the dataset."
      ],
      "metadata": {
        "id": "tHc_A4V2IN8N"
      },
      "execution_count": 16,
      "outputs": []
    },
    {
      "cell_type": "code",
      "execution_count": 17,
      "metadata": {
        "id": "dpPzbHXilOIR"
      },
      "outputs": [],
      "source": [
        "def train(num_epochs, batch_size, criterion, optimizer, model, dataset):\n",
        "    dataloader = DataLoader(dataset, batch_size, shuffle=True)\n",
        "\n",
        "    model.train()\n",
        "    for epoch in range(num_epochs):\n",
        "        epoch_average_loss = 0.0\n",
        "        for (X, y) in (dataloader):\n",
        "\n",
        "            y_pre = model(X).view(-1)\n",
        "            loss = criterion(y_pre, y)\n",
        "            # print(y_pre, y)\n",
        "            # loss = Lozz(y_pre, y)\n",
        "            optimizer.zero_grad()\n",
        "            loss.backward()\n",
        "            optimizer.step()\n",
        "            epoch_average_loss += loss.item() * batch_size / len(train_set)\n",
        "            \n",
        "        if ((epoch+1)%1 == 0):\n",
        "                print('Epoch [{}/{}], Loss_error: {:.4f}'\n",
        "                      .format(epoch+1, num_epochs,  epoch_average_loss))\n",
        "                "
      ]
    },
    {
      "cell_type": "code",
      "execution_count": 18,
      "metadata": {
        "colab": {
          "base_uri": "https://localhost:8080/"
        },
        "id": "l0RUNmFZlOIR",
        "outputId": "9ce75add-e871-4d2d-ca13-062267ecd0db"
      },
      "outputs": [
        {
          "output_type": "stream",
          "name": "stdout",
          "text": [
            "Epoch [1/10], Loss_error: 0.0600\n",
            "Epoch [2/10], Loss_error: 0.0229\n",
            "Epoch [3/10], Loss_error: 0.0216\n",
            "Epoch [4/10], Loss_error: 0.0205\n",
            "Epoch [5/10], Loss_error: 0.0193\n",
            "Epoch [6/10], Loss_error: 0.0182\n",
            "Epoch [7/10], Loss_error: 0.0173\n",
            "Epoch [8/10], Loss_error: 0.0164\n",
            "Epoch [9/10], Loss_error: 0.0155\n",
            "Epoch [10/10], Loss_error: 0.0147\n"
          ]
        }
      ],
      "source": [
        "train(num_epochs, batch_size, criterion, optimizer, model, train_set)"
      ]
    },
    {
      "cell_type": "markdown",
      "metadata": {
        "id": "fft0gw4glOIR"
      },
      "source": [
        "#### Evaluate the Model on the validation set"
      ]
    },
    {
      "cell_type": "code",
      "execution_count": 19,
      "metadata": {
        "colab": {
          "base_uri": "https://localhost:8080/"
        },
        "id": "6it5tsfilOIR",
        "outputId": "28635dcf-67eb-4292-a591-33bdc008acd5"
      },
      "outputs": [
        {
          "output_type": "stream",
          "name": "stdout",
          "text": [
            "The loss on validation set is: 0.016338875517249107\n"
          ]
        }
      ],
      "source": [
        "# Calculate mean squared error on validation set\n",
        "model.eval()\n",
        "with torch.no_grad():\n",
        "    y_pre_val = model(torch.from_numpy(np.array(X_val)).float()).view(-1)\n",
        "error = criterion(y_pre_val, torch.tensor(np.array(y_val)).float()).item()\n",
        "print('The loss on validation set is:', error)"
      ]
    },
    {
      "cell_type": "markdown",
      "metadata": {
        "id": "1VA-8uKqlOIR"
      },
      "source": [
        "### Exercise 1: Impact of the architecture of the model\n",
        "\n",
        "The class `Model` is the definition of your model. You can now modify it to try out different architectures and\n",
        "see the impact of the following factors:\n",
        "\n",
        "* Try to add more layers (1, 2, 3, more ?)\n",
        "* Try different activation functions ([sigmoid](https://pytorch.org/docs/stable/nn.functional.html#torch.nn.functional.sigmoid), [tanh](https://pytorch.org/docs/stable/nn.functional.html#torch.nn.functional.tanh), [relu](https://pytorch.org/docs/stable/nn.functional.html#torch.nn.functional.relu), etc.)\n",
        "* Try to change the number of neurons in each layer (5, 10, 20, more ?)"
      ]
    },
    {
      "cell_type": "markdown",
      "metadata": {
        "id": "jkgBKOaBlOIR"
      },
      "source": [
        "### Exercise 2: Impact of the optimizer\n",
        "\n",
        "Retrain the model with different parameters of the optimizer; you can change then in the cell initializing the optimizer, after the definition of your model.\n",
        "\n",
        "* Use different batch sizes, from 10 to 400 e.g.\n",
        "* Try different values of the learning rate (between 0.001 and 10), and see how they impact the training process. Do all network architectures react the same way to different learning rates?\n",
        "* Change the duration of the training by increasing the number of epochs\n",
        "* Try other optimizers, such as [Adam](https://pytorch.org/docs/stable/optim.html?highlight=adam#torch.optim.Adam) or [RMSprop](https://pytorch.org/docs/stable/optim.html?highlight=rmsprop#torch.optim.RMSprop)\n",
        "\n",
        "**Note:** These changes may interact with your previous choices of architectures, and you may need to change them as well!"
      ]
    },
    {
      "cell_type": "markdown",
      "metadata": {
        "id": "zqwyWw55lOIS"
      },
      "source": [
        "### Exercise 3: Impact of the loss function\n",
        "As mensioned before in the first problem (binary classification), one can minimize the negative of log-likelihood of the probability for all samples $x$: $$ \\sum_{(x,y) \\,\\in\\, \\text{Dataset}} - \\log p(y | x) $$ If we define $p(y_i | x_i) = \\frac{1}{\\sqrt{2\\pi}}e^{-\\frac{(y_i - f(x_i))^2}{2}}$, then the loss function becomes the mean squared error. \n",
        "\n",
        "There is another loss function worth to try: the Gaussian likelihood loss function. \n",
        "Rather than predicting a single value $y$ given $x$, we predict a probability distribution over possible answers, which helps dealing with ambiguous cases and expressing uncertainty. To do this, for each possible input $x$, the network will output the parameters of the distribution modeling $p(y|x)$. For instance in our case, we choose to model output distributions with Gaussian distributions $\\mathcal{N}(\\mu, \\sigma)$, which are parameterized by their mean $\\mu$ and their standard deviation $\\sigma$. Therefore for each input $x$ we have to output two quantities: $\\mu(x)$ and $\\sigma(x)$. The probability becomes: $$p(y_i | x_i) = \\frac{1}{\\sqrt{2\\pi \\sigma(x_i)^2}}e^{-\\frac{(y_i - \\mu(x_i))^2}{2\\sigma(x_i)^2}}$$ Then the loss function becomes: $$L =\\sum\\limits_{i=1}^{N}  \\frac{1}{2} \\log ( 2\\pi\\sigma_i^{2} ) + \\frac{1}{2\\sigma_i^{2}}  (y_{i} - \\mu_i)^{2}$$ If we set $\\sigma=1$, we obtain MSE the loss function. \n",
        "\n",
        "* Try to replace the loss function with this one, and compare the differences between the two losses.\n",
        " \n",
        "* **Hints**: \n",
        "    * You need two outputs of your network, one represents the $\\mu(x_i)$, another for $\\log( \\sigma(x_i)^2 )$ (better for optimization) \n",
        "    * Try deeper models, or you will not predict the variance $\\sigma$ well. \n"
      ]
    },
    {
      "cell_type": "code",
      "source": [
        "# y_label = torch.tensor(np.array(y_val)).float()\n",
        "# sigma = 1"
      ],
      "metadata": {
        "id": "Zp2BpzeJF4FC"
      },
      "execution_count": 20,
      "outputs": []
    },
    {
      "cell_type": "code",
      "execution_count": 21,
      "metadata": {
        "id": "nATSAvb9lOIS"
      },
      "outputs": [],
      "source": [
        "def Lozz(y_pre_val, y_label):\n",
        "  return 1 - (1/2)*(np.log(2*np.pi*(sigma**2)) + ((y_pre_val - y_label)**2) /sigma**2)"
      ]
    },
    {
      "cell_type": "code",
      "source": [
        "critireon = nn.GaussianNLLLoss()\n",
        "train(num_epochs, batch_size, criterion, optimizer, model, train_set)"
      ],
      "metadata": {
        "colab": {
          "base_uri": "https://localhost:8080/"
        },
        "id": "cqqM6VFtH0t9",
        "outputId": "03f1ef7c-523e-4beb-af1a-f7f73d802b79"
      },
      "execution_count": 22,
      "outputs": [
        {
          "output_type": "stream",
          "name": "stdout",
          "text": [
            "Epoch [1/10], Loss_error: 0.0140\n",
            "Epoch [2/10], Loss_error: 0.0133\n",
            "Epoch [3/10], Loss_error: 0.0127\n",
            "Epoch [4/10], Loss_error: 0.0120\n",
            "Epoch [5/10], Loss_error: 0.0115\n",
            "Epoch [6/10], Loss_error: 0.0110\n",
            "Epoch [7/10], Loss_error: 0.0105\n",
            "Epoch [8/10], Loss_error: 0.0100\n",
            "Epoch [9/10], Loss_error: 0.0096\n",
            "Epoch [10/10], Loss_error: 0.0092\n"
          ]
        }
      ]
    },
    {
      "cell_type": "code",
      "source": [
        "# Calculate mean squared error on validation set\n",
        "model.eval()\n",
        "with torch.no_grad():\n",
        "    y_pre_val = model(torch.from_numpy(np.array(X_val)).float()).view(-1)\n",
        "error = criterion(y_pre_val, torch.tensor(np.array(y_val)).float()).item()\n",
        "print('The loss on validation set is:', error)"
      ],
      "metadata": {
        "colab": {
          "base_uri": "https://localhost:8080/"
        },
        "id": "5wyaFbELGMuu",
        "outputId": "2e88a096-0636-4d83-d12d-d0df246ce1b7"
      },
      "execution_count": 23,
      "outputs": [
        {
          "output_type": "stream",
          "name": "stdout",
          "text": [
            "The loss on validation set is: 0.010598269291222095\n"
          ]
        }
      ]
    },
    {
      "cell_type": "markdown",
      "metadata": {
        "id": "tOo-M_AJlOIS"
      },
      "source": [
        "### Exercice 4: Prediction on test set\n",
        "\n",
        "* Once you have a model that seems satisfying on the validation dataset, you SHOULD evaluate it on a test dataset that has never been used before, to obtain a final accuracy value.\n",
        "* When using the Gaussian likelihood function, the confidence of the network in its prediction is reflected in the variance it outputs. It can be interesting to check how this uncertainty varies with the data. For example, the uncertainty will decrease when the feature `OverallQual` increases. Plot the variance $\\sigma(x)$ w.r.t one of the three features, on test set, and describe what you observe."
      ]
    },
    {
      "cell_type": "code",
      "source": [
        "# Calculate mean squared error on test set\n",
        "model.eval()\n",
        "with torch.no_grad():\n",
        "    y_pre_test = model(torch.from_numpy(np.array(X_test)).float()).view(-1)\n",
        "error = criterion(y_pre_test, torch.tensor(np.array(y_test)).float()).item()\n",
        "print('The loss on test set is:', error)"
      ],
      "metadata": {
        "colab": {
          "base_uri": "https://localhost:8080/"
        },
        "id": "TuLh8eLnH7v0",
        "outputId": "92a5fec8-b8fb-4864-caea-2e36f5d5cd5a"
      },
      "execution_count": 24,
      "outputs": [
        {
          "output_type": "stream",
          "name": "stdout",
          "text": [
            "The loss on test set is: 0.007172432728111744\n"
          ]
        }
      ]
    },
    {
      "cell_type": "code",
      "source": [
        ""
      ],
      "metadata": {
        "id": "fny_YQRWII4v"
      },
      "execution_count": 137,
      "outputs": []
    }
  ],
  "metadata": {
    "kernelspec": {
      "display_name": "Python 3",
      "language": "python",
      "name": "python3"
    },
    "language_info": {
      "codemirror_mode": {
        "name": "ipython",
        "version": 3
      },
      "file_extension": ".py",
      "mimetype": "text/x-python",
      "name": "python",
      "nbconvert_exporter": "python",
      "pygments_lexer": "ipython3",
      "version": "3.7.1"
    },
    "colab": {
      "name": "TP1_Pb2_Regression.ipynb",
      "provenance": []
    }
  },
  "nbformat": 4,
  "nbformat_minor": 0
}