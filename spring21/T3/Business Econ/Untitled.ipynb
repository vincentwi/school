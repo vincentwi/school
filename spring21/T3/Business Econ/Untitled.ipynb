{
 "cells": [
  {
   "cell_type": "code",
   "execution_count": 2,
   "id": "stopped-bleeding",
   "metadata": {},
   "outputs": [
    {
     "name": "stdout",
     "output_type": "stream",
     "text": [
      "\\frac{\\partial^{2}}{\\partial y\\partial x} f{\\left(x,y \\right)}\n",
      "\\frac{\\partial^{2}}{\\partial y\\partial x} f{\\left(x,y \\right)}\n"
     ]
    }
   ],
   "source": [
    "from sympy import *\n",
    "from sympy import Symbol\n",
    "from sympy.printing.latex import LatexPrinter, print_latex\n",
    "from sympy.core.function import UndefinedFunction, Function\n",
    "\n",
    "class MyLatexPrinter(LatexPrinter):\n",
    "    \"\"\"Print derivative of a function of symbols in a shorter form.\n",
    "    \"\"\"\n",
    "    def _print_Derivative(self, expr):\n",
    "        function, *vars = expr.args\n",
    "        if not isinstance(type(function), UndefinedFunction) or \\\n",
    "           not all(isinstance(i, Symbol) for i in vars):\n",
    "            return super()._print_Derivative(expr)\n",
    "\n",
    "        # If you want the printer to work correctly for nested\n",
    "        # expressions then use self._print() instead of str() or latex().\n",
    "        # See the example of nested modulo below in the custom printing\n",
    "        # method section.\n",
    "        return \"{}_{{{}}}\".format(\n",
    "            self._print(Symbol(function.func.__name__)),\n",
    "                        ''.join(self._print(i) for i in vars))\n",
    "\n",
    "\n",
    "def print_my_latex(expr):\n",
    "    \"\"\" Most of the printers define their own wrappers for print().\n",
    "    These wrappers usually take printer settings. Our printer does not have\n",
    "    any settings.\n",
    "    \"\"\"\n",
    "    print(MyLatexPrinter().doprint(expr))\n",
    "\n",
    "\n",
    "y = Symbol(\"y\")\n",
    "x = Symbol(\"x\")\n",
    "f = Function(\"f\")\n",
    "expr = f(x, y).diff(x, y)\n",
    "\n",
    "# Print the expression using the normal latex printer and our custom\n",
    "# printer.\n",
    "print_latex(expr)\n",
    "print_my_latex(expr)"
   ]
  },
  {
   "cell_type": "code",
   "execution_count": 3,
   "id": "broken-surgeon",
   "metadata": {},
   "outputs": [],
   "source": [
    "p1, p2, L1, L2, t, c, a, B = symbols('p1 p2 L1 L2 t c a B')\n"
   ]
  },
  {
   "cell_type": "code",
   "execution_count": 4,
   "id": "imperial-season",
   "metadata": {},
   "outputs": [],
   "source": [
    "init_printing(use_unicode=True)\n"
   ]
  },
  {
   "cell_type": "code",
   "execution_count": 5,
   "id": "freelance-purple",
   "metadata": {},
   "outputs": [],
   "source": [
    "def expr(p1, p2, L1, L2, t, c, a, B): \n",
    "    return ( p1 * (L1 * ( (1 - L2)*(1-B) + L2*B*(1/(2*t))*(t-p1+p2) ) ) \n",
    "            - c * (L1 * ( (1 - L2)*(1-B) + L2*B*(1/(2*t))*(t-p1+p2) ) )\n",
    "            - a*pow(L1, 2)/2 )\n",
    "\n",
    "def expr2(p1, p2, L1, L2, t, c, a, B): \n",
    "    return ( p2 * (L2 * ( (1 - L1)*(1-B) + L1*B*(1/(2*t))*(t-p1+p2) ) ) \n",
    "            - c * (L2 * ( (1 - L1)*(1-B) + L1*B*(1/(2*t))*(t-p1+p2) ) )\n",
    "            - a*pow(L2, 2)/2 )"
   ]
  },
  {
   "cell_type": "code",
   "execution_count": 6,
   "id": "automatic-witch",
   "metadata": {},
   "outputs": [],
   "source": [
    "#set up profit functions using correct price/market share order\n",
    "firm1 =  expr(p1, p2, L1, L2, t, c, a, B)\n",
    "firm2 = expr2(p1, p2, L1, L2, t, c, a, B)"
   ]
  },
  {
   "cell_type": "code",
   "execution_count": 7,
   "id": "printable-leeds",
   "metadata": {},
   "outputs": [],
   "source": [
    "#differentiate with respect to price\n",
    "n_L1 = solve(firm1.diff(L1), L1, simplify=False)\n",
    "n_L2 = solve(firm2.diff(L2), L2, simplify=False)\n",
    "\n",
    "#differentiate with respect to price\n",
    "n_p1 = solve(firm1.diff(p1), p1, simplify=False)\n",
    "n_p2 = solve(firm2.diff(p2), p2, simplify=False)"
   ]
  },
  {
   "cell_type": "code",
   "execution_count": 8,
   "id": "radical-rogers",
   "metadata": {},
   "outputs": [
    {
     "data": {
      "text/latex": [
       "$\\displaystyle \\left\\{ L_{1} : \\frac{- 2 B t + 2 t}{B p_{1} - B p_{2} - 3 B t + 2 t}, \\  L_{2} : \\frac{- 2 B t + 2 t}{B p_{1} - B p_{2} - 3 B t + 2 t}\\right\\}$"
      ],
      "text/plain": [
       "⎧           -2⋅B⋅t + 2⋅t                   -2⋅B⋅t + 2⋅t      ⎫\n",
       "⎨L₁: ─────────────────────────, L₂: ─────────────────────────⎬\n",
       "⎩    B⋅p₁ - B⋅p₂ - 3⋅B⋅t + 2⋅t      B⋅p₁ - B⋅p₂ - 3⋅B⋅t + 2⋅t⎭"
      ]
     },
     "execution_count": 8,
     "metadata": {},
     "output_type": "execute_result"
    }
   ],
   "source": [
    "#solving L1=L2=L nash equillibrium, with L1=n_L1 substituded into n_L2 for all L1s\n",
    "solve([n_L1[0], n_L2[0]], (L1, L2))"
   ]
  },
  {
   "cell_type": "code",
   "execution_count": 9,
   "id": "molecular-psychology",
   "metadata": {},
   "outputs": [
    {
     "data": {
      "text/latex": [
       "$\\displaystyle \\left\\{ p_{1} : \\frac{- B L_{1} c + 3 B L_{1} t - 2 B t - 2 L_{1} t + 2 t}{B L_{1}}, \\  p_{2} : \\frac{- B L_{2} c - 3 B L_{2} t + 2 B t + 2 L_{2} t - 2 t}{B L_{2}}\\right\\}$"
      ],
      "text/plain": [
       "⎧    -B⋅L₁⋅c + 3⋅B⋅L₁⋅t - 2⋅B⋅t - 2⋅L₁⋅t + 2⋅t      -B⋅L₂⋅c - 3⋅B⋅L₂⋅t + 2⋅B⋅t\n",
       "⎨p₁: ─────────────────────────────────────────, p₂: ──────────────────────────\n",
       "⎩                       B⋅L₁                                           B⋅L₂   \n",
       "\n",
       " + 2⋅L₂⋅t - 2⋅t⎫\n",
       "───────────────⎬\n",
       "               ⎭"
      ]
     },
     "execution_count": 9,
     "metadata": {},
     "output_type": "execute_result"
    }
   ],
   "source": [
    "#solving p1=p2=p nash equillibrium, with p1=n_p1 substituded into n_p2 for all p1s\n",
    "solve([n_p1[0], n_p2[0]], (p1, p2)) "
   ]
  },
  {
   "cell_type": "code",
   "execution_count": null,
   "id": "authentic-ranking",
   "metadata": {},
   "outputs": [],
   "source": []
  },
  {
   "cell_type": "code",
   "execution_count": 10,
   "id": "friendly-glory",
   "metadata": {},
   "outputs": [],
   "source": [
    "p = (t - t*B)/(2*B) + t/(B*L2) - t/B + (p2+t)/2 - p2"
   ]
  },
  {
   "cell_type": "code",
   "execution_count": 11,
   "id": "legitimate-money",
   "metadata": {},
   "outputs": [],
   "source": [
    "final_p = solve(p, p2, simplify=False)"
   ]
  },
  {
   "cell_type": "code",
   "execution_count": 12,
   "id": "extensive-consultation",
   "metadata": {},
   "outputs": [
    {
     "data": {
      "text/latex": [
       "$\\displaystyle \\left[ - \\frac{t}{B} + \\frac{2 t}{B L_{2}}\\right]$"
      ],
      "text/plain": [
       "⎡  t   2⋅t ⎤\n",
       "⎢- ─ + ────⎥\n",
       "⎣  B   B⋅L₂⎦"
      ]
     },
     "execution_count": 12,
     "metadata": {},
     "output_type": "execute_result"
    }
   ],
   "source": [
    "final_p"
   ]
  },
  {
   "cell_type": "code",
   "execution_count": null,
   "id": "unusual-literature",
   "metadata": {},
   "outputs": [],
   "source": []
  },
  {
   "cell_type": "code",
   "execution_count": 13,
   "id": "settled-shower",
   "metadata": {},
   "outputs": [],
   "source": [
    "s = ( (B*L2)/(2*t*a) ) * ( (t*(1-B))/(2*B) * t/(B*L2) - t/B + (p2+t)/2 ) ** 2 - L2"
   ]
  },
  {
   "cell_type": "code",
   "execution_count": 14,
   "id": "instant-salvation",
   "metadata": {
    "scrolled": true
   },
   "outputs": [
    {
     "data": {
      "text/latex": [
       "$\\displaystyle \\frac{B L_{2} \\left(\\frac{p_{2}}{2} + \\frac{t}{2} - \\frac{t}{B} + \\frac{t^{2} \\left(1 - B\\right)}{2 B^{2} L_{2}}\\right)^{2}}{2 a t} - L_{2}$"
      ],
      "text/plain": [
       "                              2     \n",
       "     ⎛              2        ⎞      \n",
       "     ⎜p₂   t   t   t ⋅(1 - B)⎟      \n",
       "B⋅L₂⋅⎜── + ─ - ─ + ──────────⎟      \n",
       "     ⎜2    2   B       2     ⎟      \n",
       "     ⎝              2⋅B ⋅L₂  ⎠      \n",
       "─────────────────────────────── - L₂\n",
       "             2⋅a⋅t                  "
      ]
     },
     "execution_count": 14,
     "metadata": {},
     "output_type": "execute_result"
    }
   ],
   "source": [
    "s"
   ]
  },
  {
   "cell_type": "code",
   "execution_count": 15,
   "id": "juvenile-heaven",
   "metadata": {},
   "outputs": [],
   "source": [
    "def lambda_NE(t, beta, p):\n",
    "    return ( (B-1) * (B*(t**2)*(B*p+B*t-2*2) - 2*(np.sqrt(2))*(np.sqrt((B**3)*a*(t**5))))) /( (B**2) * ((B**2)*(p**2) + 2*(B**2)*p*t + (B**2)*(t**2) - 8*B*a*t - 4*B*p*t - 4*B*t - 4*B*(t**2) + 4*(t**2)) )  "
   ]
  },
  {
   "cell_type": "code",
   "execution_count": 16,
   "id": "signal-stress",
   "metadata": {},
   "outputs": [
    {
     "data": {
      "text/latex": [
       "$\\displaystyle \\left[ \\frac{\\left(B - 1\\right) \\left(B t^{2} \\left(B p_{2} + B t - 2 t\\right) - 2 \\sqrt{2} \\sqrt{B^{3} a t^{5}}\\right)}{B^{2} \\left(B^{2} p_{2}^{2} + 2 B^{2} p_{2} t + B^{2} t^{2} - 8 B a t - 4 B p_{2} t - 4 B t^{2} + 4 t^{2}\\right)}, \\  \\frac{\\left(B - 1\\right) \\left(B t^{2} \\left(B p_{2} + B t - 2 t\\right) + 2 \\sqrt{2} \\sqrt{B^{3} a t^{5}}\\right)}{B^{2} \\left(B^{2} p_{2}^{2} + 2 B^{2} p_{2} t + B^{2} t^{2} - 8 B a t - 4 B p_{2} t - 4 B t^{2} + 4 t^{2}\\right)}\\right]$"
      ],
      "text/plain": [
       "⎡               ⎛                                  _________⎞                 \n",
       "⎢               ⎜   2                             ╱  3    5 ⎟                 \n",
       "⎢       (B - 1)⋅⎝B⋅t ⋅(B⋅p₂ + B⋅t - 2⋅t) - 2⋅√2⋅╲╱  B ⋅a⋅t  ⎠                 \n",
       "⎢────────────────────────────────────────────────────────────────────, ───────\n",
       "⎢ 2 ⎛ 2   2      2         2  2                             2      2⎞   2 ⎛ 2 \n",
       "⎣B ⋅⎝B ⋅p₂  + 2⋅B ⋅p₂⋅t + B ⋅t  - 8⋅B⋅a⋅t - 4⋅B⋅p₂⋅t - 4⋅B⋅t  + 4⋅t ⎠  B ⋅⎝B ⋅\n",
       "\n",
       "        ⎛                                  _________⎞        ⎤\n",
       "        ⎜   2                             ╱  3    5 ⎟        ⎥\n",
       "(B - 1)⋅⎝B⋅t ⋅(B⋅p₂ + B⋅t - 2⋅t) + 2⋅√2⋅╲╱  B ⋅a⋅t  ⎠        ⎥\n",
       "─────────────────────────────────────────────────────────────⎥\n",
       "  2      2         2  2                             2      2⎞⎥\n",
       "p₂  + 2⋅B ⋅p₂⋅t + B ⋅t  - 8⋅B⋅a⋅t - 4⋅B⋅p₂⋅t - 4⋅B⋅t  + 4⋅t ⎠⎦"
      ]
     },
     "execution_count": 16,
     "metadata": {},
     "output_type": "execute_result"
    }
   ],
   "source": [
    "final_L = solve(s, L2, simplify=True)\n",
    "final_L"
   ]
  },
  {
   "cell_type": "code",
   "execution_count": 17,
   "id": "moved-gambling",
   "metadata": {},
   "outputs": [
    {
     "name": "stdout",
     "output_type": "stream",
     "text": [
      "\\left[ - \\frac{t}{B} + \\frac{2 t}{B L_{2}}\\right]\n",
      "\\left[ \\frac{\\left(B - 1\\right) \\left(B t^{2} \\left(B p_{2} + B t - 2 t\\right) - 2 \\sqrt{2} \\sqrt{B^{3} a t^{5}}\\right)}{B^{2} \\left(B^{2} p_{2}^{2} + 2 B^{2} p_{2} t + B^{2} t^{2} - 8 B a t - 4 B p_{2} t - 4 B t^{2} + 4 t^{2}\\right)}, \\  \\frac{\\left(B - 1\\right) \\left(B t^{2} \\left(B p_{2} + B t - 2 t\\right) + 2 \\sqrt{2} \\sqrt{B^{3} a t^{5}}\\right)}{B^{2} \\left(B^{2} p_{2}^{2} + 2 B^{2} p_{2} t + B^{2} t^{2} - 8 B a t - 4 B p_{2} t - 4 B t^{2} + 4 t^{2}\\right)}\\right]\n"
     ]
    }
   ],
   "source": [
    "print_latex(final_p)\n",
    "print_latex(final_L)"
   ]
  },
  {
   "cell_type": "markdown",
   "id": "official-archive",
   "metadata": {},
   "source": [
    "$ \\left[ - \\frac{t}{B} + \\frac{2 t}{B L_{2}}\\right] \\\\ \n",
    "\\left[ \\frac{t^{2} \\left(B - 1\\right) \\left(B p_{2} + B t - 2 t\\right)}{B \\left(B^{2} p_{2}^{2} + 2 B^{2} p_{2} t + B^{2} t^{2} - 4 B p_{2} t - 4 B t^{2} - 8 B t + 4 t^{2}\\right)} - \\frac{2 \\sqrt{2} \\sqrt{B^{3} t^{5}} \\left(B - 1\\right)}{B^{2} \\left(B^{2} p_{2}^{2} + 2 B^{2} p_{2} t + B^{2} t^{2} - 4 B p_{2} t - 4 B t^{2} - 8 B t + 4 t^{2}\\right)}, \\  \\frac{t^{2} \\left(B - 1\\right) \\left(B p_{2} + B t - 2 t\\right)}{B \\left(B^{2} p_{2}^{2} + 2 B^{2} p_{2} t + B^{2} t^{2} - 4 B p_{2} t - 4 B t^{2} - 8 B t + 4 t^{2}\\right)} + \\frac{2 \\sqrt{2} \\sqrt{B^{3} t^{5}} \\left(B - 1\\right)}{B^{2} \\left(B^{2} p_{2}^{2} + 2 B^{2} p_{2} t + B^{2} t^{2} - 4 B p_{2} t - 4 B t^{2} - 8 B t + 4 t^{2}\\right)}\\right]$"
   ]
  },
  {
   "cell_type": "code",
   "execution_count": 18,
   "id": "accompanied-hudson",
   "metadata": {},
   "outputs": [],
   "source": [
    "final = (t/B)*((2/final_L[0])-1)"
   ]
  },
  {
   "cell_type": "code",
   "execution_count": 19,
   "id": "experienced-selection",
   "metadata": {},
   "outputs": [
    {
     "data": {
      "text/latex": [
       "$\\displaystyle \\frac{t \\left(\\frac{2 B^{2} \\left(B^{2} p_{2}^{2} + 2 B^{2} p_{2} t + B^{2} t^{2} - 8 B a t - 4 B p_{2} t - 4 B t^{2} + 4 t^{2}\\right)}{\\left(B - 1\\right) \\left(B t^{2} \\left(B p_{2} + B t - 2 t\\right) - 2 \\sqrt{2} \\sqrt{B^{3} a t^{5}}\\right)} - 1\\right)}{B}$"
      ],
      "text/plain": [
       "  ⎛   2 ⎛ 2   2      2         2  2                             2      2⎞    ⎞\n",
       "  ⎜2⋅B ⋅⎝B ⋅p₂  + 2⋅B ⋅p₂⋅t + B ⋅t  - 8⋅B⋅a⋅t - 4⋅B⋅p₂⋅t - 4⋅B⋅t  + 4⋅t ⎠    ⎟\n",
       "t⋅⎜────────────────────────────────────────────────────────────────────── - 1⎟\n",
       "  ⎜                ⎛                                  _________⎞             ⎟\n",
       "  ⎜                ⎜   2                             ╱  3    5 ⎟             ⎟\n",
       "  ⎝        (B - 1)⋅⎝B⋅t ⋅(B⋅p₂ + B⋅t - 2⋅t) - 2⋅√2⋅╲╱  B ⋅a⋅t  ⎠             ⎠\n",
       "──────────────────────────────────────────────────────────────────────────────\n",
       "                                      B                                       "
      ]
     },
     "execution_count": 19,
     "metadata": {},
     "output_type": "execute_result"
    }
   ],
   "source": [
    "final"
   ]
  },
  {
   "cell_type": "code",
   "execution_count": 20,
   "id": "opposite-basketball",
   "metadata": {},
   "outputs": [
    {
     "data": {
      "text/latex": [
       "$\\displaystyle \\left[ \\frac{t \\left(- 4 B^{2} + B t + 8 B - t\\right)}{4 B^{2}} - \\frac{\\sqrt{128 B^{3} a t + B^{2} t^{4} - 2 B t^{4} - 16 \\sqrt{2} B \\sqrt{B^{3} a t^{5}} + t^{4} + 16 \\sqrt{2} \\sqrt{B^{3} a t^{5}}}}{4 B^{2}}, \\  \\frac{t \\left(- 4 B^{2} + B t + 8 B - t\\right)}{4 B^{2}} + \\frac{\\sqrt{128 B^{3} a t + B^{2} t^{4} - 2 B t^{4} - 16 \\sqrt{2} B \\sqrt{B^{3} a t^{5}} + t^{4} + 16 \\sqrt{2} \\sqrt{B^{3} a t^{5}}}}{4 B^{2}}\\right]$"
      ],
      "text/plain": [
       "⎡                                 ____________________________________________\n",
       "⎢                                ╱                                          __\n",
       "⎢  ⎛     2                ⎞     ╱       3        2  4        4             ╱  \n",
       "⎢t⋅⎝- 4⋅B  + B⋅t + 8⋅B - t⎠   ╲╱   128⋅B ⋅a⋅t + B ⋅t  - 2⋅B⋅t  - 16⋅√2⋅B⋅╲╱  B\n",
       "⎢────────────────────────── - ────────────────────────────────────────────────\n",
       "⎢              2                                                        2     \n",
       "⎣           4⋅B                                                      4⋅B      \n",
       "\n",
       "__________________________________                                   _________\n",
       "_______                 _________                                   ╱         \n",
       "3    5     4           ╱  3    5      ⎛     2                ⎞     ╱       3  \n",
       " ⋅a⋅t   + t  + 16⋅√2⋅╲╱  B ⋅a⋅t     t⋅⎝- 4⋅B  + B⋅t + 8⋅B - t⎠   ╲╱   128⋅B ⋅a\n",
       "──────────────────────────────────, ────────────────────────── + ─────────────\n",
       "                                                  2                           \n",
       "                                               4⋅B                            \n",
       "\n",
       "_____________________________________________________________________⎤\n",
       "                                 _________                 _________ ⎥\n",
       "      2  4        4             ╱  3    5     4           ╱  3    5  ⎥\n",
       "⋅t + B ⋅t  - 2⋅B⋅t  - 16⋅√2⋅B⋅╲╱  B ⋅a⋅t   + t  + 16⋅√2⋅╲╱  B ⋅a⋅t   ⎥\n",
       "─────────────────────────────────────────────────────────────────────⎥\n",
       "                             2                                       ⎥\n",
       "                          4⋅B                                        ⎦"
      ]
     },
     "execution_count": 20,
     "metadata": {},
     "output_type": "execute_result"
    }
   ],
   "source": [
    "solve(final, p2, simplify=False)"
   ]
  },
  {
   "cell_type": "code",
   "execution_count": 21,
   "id": "vietnamese-librarian",
   "metadata": {},
   "outputs": [],
   "source": [
    "result = solve(final, p2, simplify=False)\n",
    "#(t**2 * (B-1))/ (B*(B*final_p[0] + B*t - 2*t))"
   ]
  },
  {
   "cell_type": "code",
   "execution_count": 22,
   "id": "competent-dominant",
   "metadata": {},
   "outputs": [],
   "source": [
    "#solve(result[0], B, simplify=False)"
   ]
  },
  {
   "cell_type": "code",
   "execution_count": null,
   "id": "recognized-citizen",
   "metadata": {},
   "outputs": [],
   "source": []
  },
  {
   "cell_type": "code",
   "execution_count": 23,
   "id": "incomplete-extension",
   "metadata": {},
   "outputs": [
    {
     "data": {
      "text/latex": [
       "$\\displaystyle L_{1} \\left(\\frac{B L_{2} p_{1} \\left(- p_{1} + p_{2} + t\\right)}{2 t} - L_{1} a + L_{2} p_{1} \\left(0.5 - 0.5 B\\right) - L_{2} p_{1} + p_{1}\\right)$"
      ],
      "text/plain": [
       "   ⎛B⋅L₂⋅p₁⋅(-p₁ + p₂ + t)                                          ⎞\n",
       "L₁⋅⎜────────────────────── - L₁⋅a + L₂⋅p₁⋅(0.5 - 0.5⋅B) - L₂⋅p₁ + p₁⎟\n",
       "   ⎝         2⋅t                                                    ⎠"
      ]
     },
     "execution_count": 23,
     "metadata": {},
     "output_type": "execute_result"
    }
   ],
   "source": [
    "partial_l = L1*((1/2)*(1-B)*L2*p1 + p1 - L2*p1 + B*L2*p1*((p2-p1+t)/(2*t))-a*L1)\n",
    "partial_l"
   ]
  },
  {
   "cell_type": "code",
   "execution_count": 24,
   "id": "missing-borough",
   "metadata": {},
   "outputs": [
    {
     "data": {
      "text/latex": [
       "$\\displaystyle \\left[ 0.0, \\  \\frac{0.5 p_{1} \\left(B L_{2} \\left(- p_{1} + p_{2}\\right) + t \\left(2.0 - L_{2}\\right)\\right)}{a t}\\right]$"
      ],
      "text/plain": [
       "⎡     0.5⋅p₁⋅(B⋅L₂⋅(-p₁ + p₂) + t⋅(2.0 - L₂))⎤\n",
       "⎢0.0, ───────────────────────────────────────⎥\n",
       "⎣                       a⋅t                  ⎦"
      ]
     },
     "execution_count": 24,
     "metadata": {},
     "output_type": "execute_result"
    }
   ],
   "source": [
    "res = solve(partial_l, L1, simplify=True)\n",
    "res"
   ]
  },
  {
   "cell_type": "code",
   "execution_count": null,
   "id": "ready-liquid",
   "metadata": {},
   "outputs": [],
   "source": []
  },
  {
   "cell_type": "code",
   "execution_count": 25,
   "id": "seeing-trainer",
   "metadata": {},
   "outputs": [
    {
     "ename": "ModuleNotFoundError",
     "evalue": "No module named 'numpy'",
     "output_type": "error",
     "traceback": [
      "\u001b[0;31m---------------------------------------------------------------------------\u001b[0m",
      "\u001b[0;31mModuleNotFoundError\u001b[0m                       Traceback (most recent call last)",
      "\u001b[0;32m<ipython-input-25-386a82ecdf89>\u001b[0m in \u001b[0;36m<module>\u001b[0;34m\u001b[0m\n\u001b[0;32m----> 1\u001b[0;31m \u001b[0;32mimport\u001b[0m \u001b[0mnumpy\u001b[0m \u001b[0;32mas\u001b[0m \u001b[0mnp\u001b[0m\u001b[0;34m\u001b[0m\u001b[0;34m\u001b[0m\u001b[0m\n\u001b[0m\u001b[1;32m      2\u001b[0m \u001b[0;34m\u001b[0m\u001b[0m\n\u001b[1;32m      3\u001b[0m \u001b[0;32mdef\u001b[0m \u001b[0mprice_NE\u001b[0m\u001b[0;34m(\u001b[0m\u001b[0mt\u001b[0m\u001b[0;34m,\u001b[0m \u001b[0mbeta\u001b[0m\u001b[0;34m,\u001b[0m \u001b[0mlmbda\u001b[0m\u001b[0;34m)\u001b[0m\u001b[0;34m:\u001b[0m\u001b[0;34m\u001b[0m\u001b[0;34m\u001b[0m\u001b[0m\n\u001b[1;32m      4\u001b[0m     \u001b[0;32mreturn\u001b[0m \u001b[0;34m(\u001b[0m\u001b[0mt\u001b[0m\u001b[0;34m/\u001b[0m\u001b[0mbeta\u001b[0m\u001b[0;34m)\u001b[0m\u001b[0;34m*\u001b[0m\u001b[0;34m(\u001b[0m\u001b[0;34m(\u001b[0m\u001b[0;36m2\u001b[0m\u001b[0;34m/\u001b[0m\u001b[0mlmbda\u001b[0m\u001b[0;34m)\u001b[0m\u001b[0;34m-\u001b[0m\u001b[0;36m1\u001b[0m\u001b[0;34m)\u001b[0m \u001b[0;31m#Returns the best price under NE\u001b[0m\u001b[0;34m\u001b[0m\u001b[0;34m\u001b[0m\u001b[0m\n\u001b[1;32m      5\u001b[0m \u001b[0;34m\u001b[0m\u001b[0m\n",
      "\u001b[0;31mModuleNotFoundError\u001b[0m: No module named 'numpy'"
     ]
    }
   ],
   "source": [
    "import numpy as np \n",
    "\n",
    "def price_NE(t, beta, lmbda):\n",
    "    return (t/beta)*((2/lmbda)-1) #Returns the best price under NE \n",
    "\n",
    "def lambda_NE(t, beta, p):\n",
    "    return (t**2 * (beta-1))/ (beta*(beta*p + beta*t - 2*t))\n",
    "\n",
    "\n",
    "prices = [price_NE(0.1, i, 0.5) for i in np.linspace(0.01, 1, 1000)]\n",
    "lambdas = [lambda_NE(0.1, i, price) for i, price in zip(np.linspace(0.01, 1, 1000),prices)]"
   ]
  },
  {
   "cell_type": "code",
   "execution_count": 26,
   "id": "acceptable-mobility",
   "metadata": {},
   "outputs": [
    {
     "data": {
      "text/latex": [
       "$\\displaystyle - L_{1} + \\frac{L_{1} t \\left(-1 + \\frac{2}{L_{1}}\\right)^{2}}{2 B a}$"
      ],
      "text/plain": [
       "                    2\n",
       "           ⎛     2 ⎞ \n",
       "      L₁⋅t⋅⎜-1 + ──⎟ \n",
       "           ⎝     L₁⎠ \n",
       "-L₁ + ───────────────\n",
       "           2⋅B⋅a     "
      ]
     },
     "execution_count": 26,
     "metadata": {},
     "output_type": "execute_result"
    }
   ],
   "source": [
    "f = (L1*B)/(2*a*t)*(t/B*(2/L1 -1))**2 - L1\n",
    "f"
   ]
  },
  {
   "cell_type": "code",
   "execution_count": 27,
   "id": "medical-opportunity",
   "metadata": {},
   "outputs": [],
   "source": [
    "x = solve(f, L1, simplify=True)"
   ]
  },
  {
   "cell_type": "code",
   "execution_count": 28,
   "id": "medical-quantity",
   "metadata": {},
   "outputs": [],
   "source": [
    "z = (t - t*B)/(2*B) + t/(B*x[0]) - t/B + (p2+t)/2 - p2\n",
    "y = (t - t*B)/(2*B) + t/(B*x[1]) - t/B + (p2+t)/2 - p2"
   ]
  },
  {
   "cell_type": "code",
   "execution_count": 29,
   "id": "worst-cooperation",
   "metadata": {},
   "outputs": [
    {
     "data": {
      "text/latex": [
       "$\\displaystyle \\left[ \\frac{t \\left(- 2 B a + \\sqrt{2} \\sqrt{B a t}\\right)}{B \\left(t - \\sqrt{2} \\sqrt{B a t}\\right)}\\right]$"
      ],
      "text/plain": [
       "⎡  ⎛              _______⎞⎤\n",
       "⎢t⋅⎝-2⋅B⋅a + √2⋅╲╱ B⋅a⋅t ⎠⎥\n",
       "⎢─────────────────────────⎥\n",
       "⎢     ⎛         _______⎞  ⎥\n",
       "⎣   B⋅⎝t - √2⋅╲╱ B⋅a⋅t ⎠  ⎦"
      ]
     },
     "execution_count": 29,
     "metadata": {},
     "output_type": "execute_result"
    }
   ],
   "source": [
    "solve(z, p2, simplify=True)"
   ]
  },
  {
   "cell_type": "code",
   "execution_count": 30,
   "id": "invalid-finding",
   "metadata": {},
   "outputs": [
    {
     "data": {
      "text/latex": [
       "$\\displaystyle \\left[ - \\frac{t \\left(2 B a + \\sqrt{2} \\sqrt{B a t}\\right)}{B \\left(t + \\sqrt{2} \\sqrt{B a t}\\right)}\\right]$"
      ],
      "text/plain": [
       "⎡   ⎛             _______⎞ ⎤\n",
       "⎢-t⋅⎝2⋅B⋅a + √2⋅╲╱ B⋅a⋅t ⎠ ⎥\n",
       "⎢──────────────────────────⎥\n",
       "⎢     ⎛         _______⎞   ⎥\n",
       "⎣   B⋅⎝t + √2⋅╲╱ B⋅a⋅t ⎠   ⎦"
      ]
     },
     "execution_count": 30,
     "metadata": {},
     "output_type": "execute_result"
    }
   ],
   "source": [
    "solve(y, p2, simplify=True)"
   ]
  },
  {
   "cell_type": "code",
   "execution_count": null,
   "id": "premium-olive",
   "metadata": {},
   "outputs": [],
   "source": []
  },
  {
   "cell_type": "code",
   "execution_count": null,
   "id": "threatened-composite",
   "metadata": {},
   "outputs": [],
   "source": []
  },
  {
   "cell_type": "code",
   "execution_count": 56,
   "id": "original-peter",
   "metadata": {},
   "outputs": [],
   "source": [
    "p11, p12, p21, p22, a1, a2, t1, t2, f1, f2 = symbols('p11, p12, p21, p22, a1, a2, t1, t2, f1, f2')"
   ]
  },
  {
   "cell_type": "code",
   "execution_count": 62,
   "id": "remarkable-prescription",
   "metadata": {},
   "outputs": [],
   "source": [
    "profit = (p11 - f1) * (1/2 + (1/2) * ((a1*(p22-p21)+t2*(p12-p11))/(t1*t2-a1*a2))) \n",
    "+(p21 - f2) * (1/2 + (1/2) * ((a2*(p12-p11)+t1*(p22-p21))/(t1*t2-a1*a2))) "
   ]
  },
  {
   "cell_type": "code",
   "execution_count": 63,
   "id": "quarterly-species",
   "metadata": {},
   "outputs": [
    {
     "data": {
      "text/latex": [
       "$\\displaystyle \\left[ \\frac{0.5 \\left(- a_{1} a_{2} - a_{1} p_{21} + a_{1} p_{22} + a_{2} f_{2} - a_{2} p_{21} + f_{1} t_{2} + p_{12} t_{2} + t_{1} t_{2} - 2.0 \\sqrt{0.25 a_{1}^{2} a_{2}^{2} + 0.5 a_{1}^{2} a_{2} p_{21} - 0.5 a_{1}^{2} a_{2} p_{22} + 0.25 a_{1}^{2} p_{21}^{2} - 0.5 a_{1}^{2} p_{21} p_{22} + 0.25 a_{1}^{2} p_{22}^{2} - 0.5 a_{1} a_{2}^{2} f_{2} + 0.5 a_{1} a_{2}^{2} p_{21} + 0.5 a_{1} a_{2} f_{1} t_{2} - 0.5 a_{1} a_{2} f_{2} p_{21} + 0.5 a_{1} a_{2} f_{2} p_{22} + a_{1} a_{2} f_{2} t_{2} - 0.5 a_{1} a_{2} p_{12} t_{2} + 0.5 a_{1} a_{2} p_{21}^{2} - 0.5 a_{1} a_{2} p_{21} p_{22} - a_{1} a_{2} p_{21} t_{2} - 0.5 a_{1} a_{2} t_{1} t_{2} + 0.5 a_{1} f_{1} p_{21} t_{2} - 0.5 a_{1} f_{1} p_{22} t_{2} - 0.5 a_{1} p_{12} p_{21} t_{2} + 0.5 a_{1} p_{12} p_{22} t_{2} - 0.5 a_{1} p_{21} t_{1} t_{2} + 0.5 a_{1} p_{22} t_{1} t_{2} + 0.25 a_{2}^{2} f_{2}^{2} - 0.5 a_{2}^{2} f_{2} p_{21} + 0.25 a_{2}^{2} p_{21}^{2} + 0.5 a_{2} f_{1} f_{2} t_{2} - 0.5 a_{2} f_{1} p_{21} t_{2} - 0.5 a_{2} f_{2} p_{12} t_{2} + 0.5 a_{2} f_{2} t_{1} t_{2} + 0.5 a_{2} p_{12} p_{21} t_{2} - 0.5 a_{2} p_{21} t_{1} t_{2} + 0.25 f_{1}^{2} t_{2}^{2} - 0.5 f_{1} p_{12} t_{2}^{2} - 0.5 f_{1} t_{1} t_{2}^{2} + f_{2} p_{21} t_{1} t_{2} - f_{2} p_{22} t_{1} t_{2} - f_{2} t_{1} t_{2}^{2} + 0.25 p_{12}^{2} t_{2}^{2} + 0.5 p_{12} t_{1} t_{2}^{2} - p_{21}^{2} t_{1} t_{2} + p_{21} p_{22} t_{1} t_{2} + p_{21} t_{1} t_{2}^{2} + 0.25 t_{1}^{2} t_{2}^{2}}\\right)}{t_{2}}, \\  \\frac{0.5 \\left(- a_{1} a_{2} - a_{1} p_{21} + a_{1} p_{22} + a_{2} f_{2} - a_{2} p_{21} + f_{1} t_{2} + p_{12} t_{2} + t_{1} t_{2} + 2.0 \\sqrt{0.25 a_{1}^{2} a_{2}^{2} + 0.5 a_{1}^{2} a_{2} p_{21} - 0.5 a_{1}^{2} a_{2} p_{22} + 0.25 a_{1}^{2} p_{21}^{2} - 0.5 a_{1}^{2} p_{21} p_{22} + 0.25 a_{1}^{2} p_{22}^{2} - 0.5 a_{1} a_{2}^{2} f_{2} + 0.5 a_{1} a_{2}^{2} p_{21} + 0.5 a_{1} a_{2} f_{1} t_{2} - 0.5 a_{1} a_{2} f_{2} p_{21} + 0.5 a_{1} a_{2} f_{2} p_{22} + a_{1} a_{2} f_{2} t_{2} - 0.5 a_{1} a_{2} p_{12} t_{2} + 0.5 a_{1} a_{2} p_{21}^{2} - 0.5 a_{1} a_{2} p_{21} p_{22} - a_{1} a_{2} p_{21} t_{2} - 0.5 a_{1} a_{2} t_{1} t_{2} + 0.5 a_{1} f_{1} p_{21} t_{2} - 0.5 a_{1} f_{1} p_{22} t_{2} - 0.5 a_{1} p_{12} p_{21} t_{2} + 0.5 a_{1} p_{12} p_{22} t_{2} - 0.5 a_{1} p_{21} t_{1} t_{2} + 0.5 a_{1} p_{22} t_{1} t_{2} + 0.25 a_{2}^{2} f_{2}^{2} - 0.5 a_{2}^{2} f_{2} p_{21} + 0.25 a_{2}^{2} p_{21}^{2} + 0.5 a_{2} f_{1} f_{2} t_{2} - 0.5 a_{2} f_{1} p_{21} t_{2} - 0.5 a_{2} f_{2} p_{12} t_{2} + 0.5 a_{2} f_{2} t_{1} t_{2} + 0.5 a_{2} p_{12} p_{21} t_{2} - 0.5 a_{2} p_{21} t_{1} t_{2} + 0.25 f_{1}^{2} t_{2}^{2} - 0.5 f_{1} p_{12} t_{2}^{2} - 0.5 f_{1} t_{1} t_{2}^{2} + f_{2} p_{21} t_{1} t_{2} - f_{2} p_{22} t_{1} t_{2} - f_{2} t_{1} t_{2}^{2} + 0.25 p_{12}^{2} t_{2}^{2} + 0.5 p_{12} t_{1} t_{2}^{2} - p_{21}^{2} t_{1} t_{2} + p_{21} p_{22} t_{1} t_{2} + p_{21} t_{1} t_{2}^{2} + 0.25 t_{1}^{2} t_{2}^{2}}\\right)}{t_{2}}\\right]$"
      ],
      "text/plain": [
       "⎡    ⎛                                                                        \n",
       "⎢    ⎜                                                                        \n",
       "⎢0.5⋅⎝-a₁⋅a₂ - a₁⋅p₂₁ + a₁⋅p₂₂ + a₂⋅f₂ - a₂⋅p₂₁ + f₁⋅t₂ + p₁₂⋅t₂ + t₁⋅t₂ - 2.0\n",
       "⎢─────────────────────────────────────────────────────────────────────────────\n",
       "⎣                                                                             \n",
       "\n",
       "    __________________________________________________________________________\n",
       "   ╱        2   2         2                2                 2    2         2 \n",
       "⋅╲╱  0.25⋅a₁ ⋅a₂  + 0.5⋅a₁ ⋅a₂⋅p₂₁ - 0.5⋅a₁ ⋅a₂⋅p₂₂ + 0.25⋅a₁ ⋅p₂₁  - 0.5⋅a₁ ⋅\n",
       "──────────────────────────────────────────────────────────────────────────────\n",
       "                                                                              \n",
       "\n",
       "______________________________________________________________________________\n",
       "                 2    2            2               2                          \n",
       "p₂₁⋅p₂₂ + 0.25⋅a₁ ⋅p₂₂  - 0.5⋅a₁⋅a₂ ⋅f₂ + 0.5⋅a₁⋅a₂ ⋅p₂₁ + 0.5⋅a₁⋅a₂⋅f₁⋅t₂ - 0\n",
       "──────────────────────────────────────────────────────────────────────────────\n",
       "                                                                              \n",
       "\n",
       "______________________________________________________________________________\n",
       "                                                                              \n",
       ".5⋅a₁⋅a₂⋅f₂⋅p₂₁ + 0.5⋅a₁⋅a₂⋅f₂⋅p₂₂ + a₁⋅a₂⋅f₂⋅t₂ - 0.5⋅a₁⋅a₂⋅p₁₂⋅t₂ + 0.5⋅a₁⋅a\n",
       "──────────────────────────────────────────────────────────────────────────────\n",
       "                                                                              \n",
       "\n",
       "______________________________________________________________________________\n",
       "     2                                                                        \n",
       "₂⋅p₂₁  - 0.5⋅a₁⋅a₂⋅p₂₁⋅p₂₂ - a₁⋅a₂⋅p₂₁⋅t₂ - 0.5⋅a₁⋅a₂⋅t₁⋅t₂ + 0.5⋅a₁⋅f₁⋅p₂₁⋅t₂\n",
       "──────────────────────────────────────────────────────────────────────────────\n",
       "                                                                              \n",
       "\n",
       "______________________________________________________________________________\n",
       "                                                                              \n",
       " - 0.5⋅a₁⋅f₁⋅p₂₂⋅t₂ - 0.5⋅a₁⋅p₁₂⋅p₂₁⋅t₂ + 0.5⋅a₁⋅p₁₂⋅p₂₂⋅t₂ - 0.5⋅a₁⋅p₂₁⋅t₁⋅t₂\n",
       "──────────────────────────────────────────────────────────────────────────────\n",
       "                         t₂                                                   \n",
       "\n",
       "______________________________________________________________________________\n",
       "                             2   2         2                 2    2           \n",
       " + 0.5⋅a₁⋅p₂₂⋅t₁⋅t₂ + 0.25⋅a₂ ⋅f₂  - 0.5⋅a₂ ⋅f₂⋅p₂₁ + 0.25⋅a₂ ⋅p₂₁  + 0.5⋅a₂⋅f\n",
       "──────────────────────────────────────────────────────────────────────────────\n",
       "                                                                              \n",
       "\n",
       "______________________________________________________________________________\n",
       "                                                                              \n",
       "₁⋅f₂⋅t₂ - 0.5⋅a₂⋅f₁⋅p₂₁⋅t₂ - 0.5⋅a₂⋅f₂⋅p₁₂⋅t₂ + 0.5⋅a₂⋅f₂⋅t₁⋅t₂ + 0.5⋅a₂⋅p₁₂⋅p\n",
       "──────────────────────────────────────────────────────────────────────────────\n",
       "                                                                              \n",
       "\n",
       "______________________________________________________________________________\n",
       "                                  2   2                2               2      \n",
       "₂₁⋅t₂ - 0.5⋅a₂⋅p₂₁⋅t₁⋅t₂ + 0.25⋅f₁ ⋅t₂  - 0.5⋅f₁⋅p₁₂⋅t₂  - 0.5⋅f₁⋅t₁⋅t₂  + f₂⋅\n",
       "──────────────────────────────────────────────────────────────────────────────\n",
       "                                                                              \n",
       "\n",
       "______________________________________________________________________________\n",
       "                                   2           2   2                2      2  \n",
       "p₂₁⋅t₁⋅t₂ - f₂⋅p₂₂⋅t₁⋅t₂ - f₂⋅t₁⋅t₂  + 0.25⋅p₁₂ ⋅t₂  + 0.5⋅p₁₂⋅t₁⋅t₂  - p₂₁ ⋅t\n",
       "──────────────────────────────────────────────────────────────────────────────\n",
       "                                                                              \n",
       "\n",
       "_________________________________________________⎞      ⎛                     \n",
       "                                2          2   2 ⎟      ⎜                     \n",
       "₁⋅t₂ + p₂₁⋅p₂₂⋅t₁⋅t₂ + p₂₁⋅t₁⋅t₂  + 0.25⋅t₁ ⋅t₂  ⎠  0.5⋅⎝-a₁⋅a₂ - a₁⋅p₂₁ + a₁⋅\n",
       "──────────────────────────────────────────────────, ──────────────────────────\n",
       "                                                                              \n",
       "\n",
       "                                                       _______________________\n",
       "                                                      ╱        2   2         2\n",
       "p₂₂ + a₂⋅f₂ - a₂⋅p₂₁ + f₁⋅t₂ + p₁₂⋅t₂ + t₁⋅t₂ + 2.0⋅╲╱  0.25⋅a₁ ⋅a₂  + 0.5⋅a₁ \n",
       "──────────────────────────────────────────────────────────────────────────────\n",
       "                                                                              \n",
       "\n",
       "______________________________________________________________________________\n",
       "                2                 2    2         2                  2    2    \n",
       "⋅a₂⋅p₂₁ - 0.5⋅a₁ ⋅a₂⋅p₂₂ + 0.25⋅a₁ ⋅p₂₁  - 0.5⋅a₁ ⋅p₂₁⋅p₂₂ + 0.25⋅a₁ ⋅p₂₂  - 0\n",
       "──────────────────────────────────────────────────────────────────────────────\n",
       "                                                                              \n",
       "\n",
       "______________________________________________________________________________\n",
       "        2               2                                                     \n",
       ".5⋅a₁⋅a₂ ⋅f₂ + 0.5⋅a₁⋅a₂ ⋅p₂₁ + 0.5⋅a₁⋅a₂⋅f₁⋅t₂ - 0.5⋅a₁⋅a₂⋅f₂⋅p₂₁ + 0.5⋅a₁⋅a₂\n",
       "──────────────────────────────────────────────────────────────────────────────\n",
       "                                                                              \n",
       "\n",
       "______________________________________________________________________________\n",
       "                                                        2                     \n",
       "⋅f₂⋅p₂₂ + a₁⋅a₂⋅f₂⋅t₂ - 0.5⋅a₁⋅a₂⋅p₁₂⋅t₂ + 0.5⋅a₁⋅a₂⋅p₂₁  - 0.5⋅a₁⋅a₂⋅p₂₁⋅p₂₂ \n",
       "──────────────────────────────────────────────────────────────────────────────\n",
       "                                                                              \n",
       "\n",
       "______________________________________________________________________________\n",
       "                                                                              \n",
       "- a₁⋅a₂⋅p₂₁⋅t₂ - 0.5⋅a₁⋅a₂⋅t₁⋅t₂ + 0.5⋅a₁⋅f₁⋅p₂₁⋅t₂ - 0.5⋅a₁⋅f₁⋅p₂₂⋅t₂ - 0.5⋅a\n",
       "──────────────────────────────────────────────────────────────────────────────\n",
       "                                                                            t₂\n",
       "\n",
       "______________________________________________________________________________\n",
       "                                                                              \n",
       "₁⋅p₁₂⋅p₂₁⋅t₂ + 0.5⋅a₁⋅p₁₂⋅p₂₂⋅t₂ - 0.5⋅a₁⋅p₂₁⋅t₁⋅t₂ + 0.5⋅a₁⋅p₂₂⋅t₁⋅t₂ + 0.25⋅\n",
       "──────────────────────────────────────────────────────────────────────────────\n",
       "                                                                              \n",
       "\n",
       "______________________________________________________________________________\n",
       "  2   2         2                 2    2                                      \n",
       "a₂ ⋅f₂  - 0.5⋅a₂ ⋅f₂⋅p₂₁ + 0.25⋅a₂ ⋅p₂₁  + 0.5⋅a₂⋅f₁⋅f₂⋅t₂ - 0.5⋅a₂⋅f₁⋅p₂₁⋅t₂ \n",
       "──────────────────────────────────────────────────────────────────────────────\n",
       "                                                                              \n",
       "\n",
       "______________________________________________________________________________\n",
       "                                                                              \n",
       "- 0.5⋅a₂⋅f₂⋅p₁₂⋅t₂ + 0.5⋅a₂⋅f₂⋅t₁⋅t₂ + 0.5⋅a₂⋅p₁₂⋅p₂₁⋅t₂ - 0.5⋅a₂⋅p₂₁⋅t₁⋅t₂ + \n",
       "──────────────────────────────────────────────────────────────────────────────\n",
       "                                                                              \n",
       "\n",
       "______________________________________________________________________________\n",
       "       2   2                2               2                                 \n",
       "0.25⋅f₁ ⋅t₂  - 0.5⋅f₁⋅p₁₂⋅t₂  - 0.5⋅f₁⋅t₁⋅t₂  + f₂⋅p₂₁⋅t₁⋅t₂ - f₂⋅p₂₂⋅t₁⋅t₂ - \n",
       "──────────────────────────────────────────────────────────────────────────────\n",
       "                                                                              \n",
       "\n",
       "______________________________________________________________________________\n",
       "        2           2   2                2      2                             \n",
       "f₂⋅t₁⋅t₂  + 0.25⋅p₁₂ ⋅t₂  + 0.5⋅p₁₂⋅t₁⋅t₂  - p₂₁ ⋅t₁⋅t₂ + p₂₁⋅p₂₂⋅t₁⋅t₂ + p₂₁⋅\n",
       "──────────────────────────────────────────────────────────────────────────────\n",
       "                                                                              \n",
       "\n",
       "______________________⎞⎤\n",
       "     2          2   2 ⎟⎥\n",
       "t₁⋅t₂  + 0.25⋅t₁ ⋅t₂  ⎠⎥\n",
       "───────────────────────⎥\n",
       "                       ⎦"
      ]
     },
     "execution_count": 63,
     "metadata": {},
     "output_type": "execute_result"
    }
   ],
   "source": [
    "solve(profit, p11, simplify=True)"
   ]
  },
  {
   "cell_type": "code",
   "execution_count": 49,
   "id": "ahead-cream",
   "metadata": {},
   "outputs": [
    {
     "data": {
      "text/latex": [
       "$\\displaystyle \\left(0.5 + \\frac{0.5 \\left(a_{2} \\left(- p_{11} + p_{12}\\right) + t_{1} \\left(- p_{21} + p_{22}\\right)\\right)}{- a_{1} a_{2} + t_{1} t_{2}}\\right) \\left(- f_{2} + p_{21}\\right)$"
      ],
      "text/plain": [
       "⎛      0.5⋅(a₂⋅(-p₁₁ + p₁₂) + t₁⋅(-p₂₁ + p₂₂))⎞            \n",
       "⎜0.5 + ───────────────────────────────────────⎟⋅(-f₂ + p₂₁)\n",
       "⎝                   -a₁⋅a₂ + t₁⋅t₂            ⎠            "
      ]
     },
     "execution_count": 49,
     "metadata": {},
     "output_type": "execute_result"
    }
   ],
   "source": [
    "new_profit = profit = (p1 - f1) * (1/2 + (1/2) * ((a1*(p2-p1)+t2*(p2-p11))/(t1*t2-a1*a2))) \n",
    "+ (p21 - f2) * (1/2 + (1/2) * ((a2*(p12-p11)+t1*(p22-p21))/(t1*t2-a1*a2))) "
   ]
  },
  {
   "cell_type": "code",
   "execution_count": null,
   "id": "north-collar",
   "metadata": {},
   "outputs": [],
   "source": []
  },
  {
   "cell_type": "code",
   "execution_count": null,
   "id": "acceptable-observation",
   "metadata": {},
   "outputs": [],
   "source": []
  },
  {
   "cell_type": "code",
   "execution_count": null,
   "id": "domestic-torture",
   "metadata": {},
   "outputs": [],
   "source": []
  }
 ],
 "metadata": {
  "kernelspec": {
   "display_name": "Python 3",
   "language": "python",
   "name": "python3"
  },
  "language_info": {
   "codemirror_mode": {
    "name": "ipython",
    "version": 3
   },
   "file_extension": ".py",
   "mimetype": "text/x-python",
   "name": "python",
   "nbconvert_exporter": "python",
   "pygments_lexer": "ipython3",
   "version": "3.9.1"
  },
  "latex_envs": {
   "LaTeX_envs_menu_present": true,
   "autoclose": false,
   "autocomplete": true,
   "bibliofile": "biblio.bib",
   "cite_by": "apalike",
   "current_citInitial": 1,
   "eqLabelWithNumbers": true,
   "eqNumInitial": 1,
   "hotkeys": {
    "equation": "Ctrl-E",
    "itemize": "Ctrl-I"
   },
   "labels_anchors": false,
   "latex_user_defs": false,
   "report_style_numbering": false,
   "user_envs_cfg": false
  }
 },
 "nbformat": 4,
 "nbformat_minor": 5
}
