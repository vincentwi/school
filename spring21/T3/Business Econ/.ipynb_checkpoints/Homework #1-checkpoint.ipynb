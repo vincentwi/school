{
 "cells": [
  {
   "cell_type": "code",
   "execution_count": 1,
   "id": "6aaf34f0",
   "metadata": {},
   "outputs": [],
   "source": [
    "import matplotlib.pyplot as plt\n",
    "import pandas as pd\n",
    "import numpy as np\n",
    "import seaborn as sns\n",
    "from scipy.stats import norm\n",
    "import scipy.stats as stats\n",
    "from scipy.stats import pearsonr\n",
    "from numpy.linalg import inv\n",
    "import statsmodels.api as sm\n",
    "import math"
   ]
  },
  {
   "cell_type": "markdown",
   "id": "6613b0c4",
   "metadata": {},
   "source": [
    "# 1. Summary statistics"
   ]
  },
  {
   "cell_type": "markdown",
   "id": "4768cc69",
   "metadata": {},
   "source": [
    "## 1."
   ]
  },
  {
   "cell_type": "code",
   "execution_count": 4,
   "id": "62c0e6ec",
   "metadata": {},
   "outputs": [
    {
     "data": {
      "text/plain": [
       "<matplotlib.collections.PathCollection at 0x12b7a6bb0>"
      ]
     },
     "execution_count": 4,
     "metadata": {},
     "output_type": "execute_result"
    },
    {
     "data": {
      "image/png": "[encoded data removed]",
      "text/plain": [
       "<Figure size 576x432 with 1 Axes>"
      ]
     },
     "metadata": {
      "needs_background": "light"
     },
     "output_type": "display_data"
    }
   ],
   "source": [
    "url = \"https://raw.githubusercontent.com/adufays/GDP_expectancy/main/APM_Returns.csv\"\n",
    "data = pd.read_csv(url, sep=\",\")\n",
    "data['Date'] = pd.to_datetime(data['Date'])\n",
    "\n",
    "def my_stats(df):\n",
    "    stats = []\n",
    "    index = 0\n",
    "    for column in df:\n",
    "        stats.append([column, df[column].mean(), df[column].std()])\n",
    "        index = index + 1\n",
    "    return pd.DataFrame(stats, columns=[\"Stonk\", \"Mean\", \"Std\"])\n",
    "\n",
    "stonk_stats = my_stats(data.iloc[:, 2:len(data.columns)])\n",
    "#print(stats) # all rows and the data\n",
    "\n",
    "x = stonk_stats[\"Mean\"]\n",
    "y = stonk_stats[\"Std\"]\n",
    "fig, ax = plt.subplots(figsize=(8, 6))\n",
    "ax.scatter(x, y, color='red')"
   ]
  },
  {
   "cell_type": "markdown",
   "id": "5c92d096",
   "metadata": {},
   "source": [
    "## 2."
   ]
  },
  {
   "cell_type": "code",
   "execution_count": 5,
   "id": "3eb3485d",
   "metadata": {},
   "outputs": [
    {
     "name": "stdout",
     "output_type": "stream",
     "text": [
      "      beta1     beta2\n",
      "0  6.679757  2.747278\n"
     ]
    }
   ],
   "source": [
    "x_bar = np.mean(x)\n",
    "y_bar = np.mean(y)\n",
    "beta2 = np.dot(x-x_bar, y-y_bar) / np.dot(x-x_bar, x-x_bar)\n",
    "beta1 = y_bar - beta2*x_bar\n",
    "df_beta = pd.DataFrame(np.array((beta1, beta2), ndmin=2), columns=[\"beta1\", \"beta2\"])\n",
    "print(df_beta)"
   ]
  },
  {
   "cell_type": "markdown",
   "id": "748ec105",
   "metadata": {},
   "source": [
    "## 3."
   ]
  },
  {
   "cell_type": "markdown",
   "id": "bd75450c",
   "metadata": {},
   "source": [
    "$\\beta_{2}$ is estimated to be around 2.74. If the mean increases by 1% its variance / risk will increase by 2.74."
   ]
  },
  {
   "cell_type": "markdown",
   "id": "5d6f1c99",
   "metadata": {},
   "source": [
    "## 4."
   ]
  },
  {
   "cell_type": "code",
   "execution_count": 6,
   "id": "a41e62f9",
   "metadata": {},
   "outputs": [
    {
     "data": {
      "text/plain": [
       "[<matplotlib.lines.Line2D at 0x12b7f8310>]"
      ]
     },
     "execution_count": 6,
     "metadata": {},
     "output_type": "execute_result"
    },
    {
     "data": {
      "image/png": "[encoded data removed]",
      "text/plain": [
       "<Figure size 576x432 with 1 Axes>"
      ]
     },
     "metadata": {
      "needs_background": "light"
     },
     "output_type": "display_data"
    }
   ],
   "source": [
    "fig, ax = plt.subplots(figsize=(8, 6))\n",
    "ax.scatter(x, y, color='red')\n",
    "plt.plot(x,beta1 + beta2*x, linewidth=2)"
   ]
  },
  {
   "cell_type": "markdown",
   "id": "1c4119d2",
   "metadata": {},
   "source": [
    "## 5."
   ]
  },
  {
   "cell_type": "markdown",
   "id": "9f95a6b7",
   "metadata": {},
   "source": [
    "$$\\hat{\\beta}_{2} = \\frac{\\sum_{i=1}^{384}(x_{i}-\\bar{x})(y_{i}-\\bar{y})}{\\sum_{i=1}^{384}(x_{i}-\\bar{x})^{2}}$$\n",
    "and\n",
    "$$\\hat{\\beta}_{1} = \\bar{y} - \\hat{\\beta}_{2}\\bar{x}$$"
   ]
  },
  {
   "cell_type": "markdown",
   "id": "a8dbf1b4",
   "metadata": {},
   "source": [
    "## 6."
   ]
  },
  {
   "cell_type": "code",
   "execution_count": 7,
   "id": "69283c98",
   "metadata": {},
   "outputs": [
    {
     "data": {
      "text/html": [
       "<div>\n",
       "<style scoped>\n",
       "    .dataframe tbody tr th:only-of-type {\n",
       "        vertical-align: middle;\n",
       "    }\n",
       "\n",
       "    .dataframe tbody tr th {\n",
       "        vertical-align: top;\n",
       "    }\n",
       "\n",
       "    .dataframe thead th {\n",
       "        text-align: right;\n",
       "    }\n",
       "</style>\n",
       "<table border=\"1\" class=\"dataframe\">\n",
       "  <thead>\n",
       "    <tr style=\"text-align: right;\">\n",
       "      <th></th>\n",
       "      <th>Obs.</th>\n",
       "      <th>beta1</th>\n",
       "      <th>beta2</th>\n",
       "      <th>var beta1</th>\n",
       "      <th>var beta2</th>\n",
       "      <th>sigma hat</th>\n",
       "    </tr>\n",
       "  </thead>\n",
       "  <tbody>\n",
       "    <tr>\n",
       "      <th>0</th>\n",
       "      <td>389.0</td>\n",
       "      <td>6.679757</td>\n",
       "      <td>2.747278</td>\n",
       "      <td>0.085303</td>\n",
       "      <td>0.066028</td>\n",
       "      <td>9.619029</td>\n",
       "    </tr>\n",
       "  </tbody>\n",
       "</table>\n",
       "</div>"
      ],
      "text/plain": [
       "    Obs.     beta1     beta2  var beta1  var beta2  sigma hat\n",
       "0  389.0  6.679757  2.747278   0.085303   0.066028   9.619029"
      ]
     },
     "execution_count": 7,
     "metadata": {},
     "output_type": "execute_result"
    }
   ],
   "source": [
    "# Compute the OLS estimates, their variances and the variance of the residuals\n",
    "x_bar = np.mean(x)\n",
    "y_bar = np.mean(y)\n",
    "beta2 = np.sum((x-x_bar)*(y-y_bar))/np.sum((x-x_bar)**2)\n",
    "beta1 = y_bar - beta2*x_bar\n",
    "\n",
    "T = np.size(y)\n",
    "epsi = y-beta1-beta2*x\n",
    "SSR = sum(epsi**2)\n",
    "sigma_hat = SSR/(T-2)\n",
    "var_beta1 = sigma_hat*np.sum(x**2)/(T*np.sum((x-x_bar)**2))\n",
    "var_beta2 = sigma_hat/(np.sum((x-x_bar)**2))\n",
    "\n",
    "df = pd.DataFrame(np.array([T,beta1,beta2,var_beta1,var_beta2,sigma_hat],ndmin=2), columns=[\"Obs.\",\"beta1\",\"beta2\",\"var beta1\",\"var beta2\", \"sigma hat\"])\n",
    "df"
   ]
  },
  {
   "cell_type": "code",
   "execution_count": 8,
   "id": "14da56ba",
   "metadata": {},
   "outputs": [
    {
     "name": "stdout",
     "output_type": "stream",
     "text": [
      "Z crit 1.959963984540054 \n",
      "Z stat 6.799853499404793 \n",
      "P val 1.0472511746684177e-11\n"
     ]
    }
   ],
   "source": [
    "alpha = 0.05\n",
    "Z_crit = stats.norm.ppf(1-alpha/2)\n",
    "Z_stat = abs((beta2-1))/(np.sqrt(var_beta2))\n",
    "p_val = 2*(1-stats.norm.cdf(Z_stat))\n",
    "print(\"Z crit\", Z_crit, \"\\nZ stat\", Z_stat, \"\\nP val\", p_val)"
   ]
  },
  {
   "cell_type": "markdown",
   "id": "b63fd78d",
   "metadata": {},
   "source": [
    "# 2. Linear regression: Mathematical framework"
   ]
  },
  {
   "cell_type": "markdown",
   "id": "1772b26c",
   "metadata": {},
   "source": [
    "## 1."
   ]
  },
  {
   "cell_type": "code",
   "execution_count": 9,
   "id": "9ceb2f92",
   "metadata": {},
   "outputs": [
    {
     "data": {
      "text/html": [
       "<div>\n",
       "<style scoped>\n",
       "    .dataframe tbody tr th:only-of-type {\n",
       "        vertical-align: middle;\n",
       "    }\n",
       "\n",
       "    .dataframe tbody tr th {\n",
       "        vertical-align: top;\n",
       "    }\n",
       "\n",
       "    .dataframe thead th {\n",
       "        text-align: right;\n",
       "    }\n",
       "</style>\n",
       "<table border=\"1\" class=\"dataframe\">\n",
       "  <thead>\n",
       "    <tr style=\"text-align: right;\">\n",
       "      <th></th>\n",
       "      <th>Life exp.</th>\n",
       "      <th>GDPpcap</th>\n",
       "    </tr>\n",
       "  </thead>\n",
       "  <tbody>\n",
       "    <tr>\n",
       "      <th>1</th>\n",
       "      <td>64.047</td>\n",
       "      <td>1.758466</td>\n",
       "    </tr>\n",
       "    <tr>\n",
       "      <th>2</th>\n",
       "      <td>78.495</td>\n",
       "      <td>11.803284</td>\n",
       "    </tr>\n",
       "    <tr>\n",
       "      <th>3</th>\n",
       "      <td>76.293</td>\n",
       "      <td>13.876295</td>\n",
       "    </tr>\n",
       "    <tr>\n",
       "      <th>4</th>\n",
       "      <td>61.809</td>\n",
       "      <td>6.044972</td>\n",
       "    </tr>\n",
       "    <tr>\n",
       "      <th>5</th>\n",
       "      <td>76.519</td>\n",
       "      <td>22.855748</td>\n",
       "    </tr>\n",
       "    <tr>\n",
       "      <th>...</th>\n",
       "      <td>...</td>\n",
       "      <td>...</td>\n",
       "    </tr>\n",
       "    <tr>\n",
       "      <th>178</th>\n",
       "      <td>76.454</td>\n",
       "      <td>6.233485</td>\n",
       "    </tr>\n",
       "    <tr>\n",
       "      <th>179</th>\n",
       "      <td>73.646</td>\n",
       "      <td>4.651724</td>\n",
       "    </tr>\n",
       "    <tr>\n",
       "      <th>180</th>\n",
       "      <td>65.157</td>\n",
       "      <td>2.404422</td>\n",
       "    </tr>\n",
       "    <tr>\n",
       "      <th>181</th>\n",
       "      <td>62.255</td>\n",
       "      <td>3.717667</td>\n",
       "    </tr>\n",
       "    <tr>\n",
       "      <th>182</th>\n",
       "      <td>61.712</td>\n",
       "      <td>2.568410</td>\n",
       "    </tr>\n",
       "  </tbody>\n",
       "</table>\n",
       "<p>182 rows × 2 columns</p>\n",
       "</div>"
      ],
      "text/plain": [
       "     Life exp.    GDPpcap\n",
       "1       64.047   1.758466\n",
       "2       78.495  11.803284\n",
       "3       76.293  13.876295\n",
       "4       61.809   6.044972\n",
       "5       76.519  22.855748\n",
       "..         ...        ...\n",
       "178     76.454   6.233485\n",
       "179     73.646   4.651724\n",
       "180     65.157   2.404422\n",
       "181     62.255   3.717667\n",
       "182     61.712   2.568410\n",
       "\n",
       "[182 rows x 2 columns]"
      ]
     },
     "execution_count": 9,
     "metadata": {},
     "output_type": "execute_result"
    }
   ],
   "source": [
    "url = \"https://raw.githubusercontent.com/adufays/GDP_expectancy/main/life_gdp.csv\"\n",
    "data = pd.read_csv(url, sep=\",\")\n",
    "data"
   ]
  },
  {
   "cell_type": "code",
   "execution_count": 10,
   "id": "229202a1",
   "metadata": {},
   "outputs": [
    {
     "data": {
      "text/plain": [
       "const    67.513673\n",
       "x1        0.249325\n",
       "dtype: float64"
      ]
     },
     "execution_count": 10,
     "metadata": {},
     "output_type": "execute_result"
    }
   ],
   "source": [
    "x = data[\"GDPpcap\"]\n",
    "y = data[\"Life exp.\"]\n",
    "\n",
    "T = len(x)\n",
    "X = np.zeros((T,2))\n",
    "X[:,0] = 1\n",
    "X[:,1] = x\n",
    "model_OLS = sm.OLS(y,X).fit()\n",
    "p = model_OLS.params\n",
    "p"
   ]
  },
  {
   "cell_type": "code",
   "execution_count": 12,
   "id": "2166d69e",
   "metadata": {},
   "outputs": [
    {
     "data": {
      "text/plain": [
       "[<matplotlib.lines.Line2D at 0x12b8e5280>]"
      ]
     },
     "execution_count": 12,
     "metadata": {},
     "output_type": "execute_result"
    },
    {
     "data": {
      "image/png": "[encoded data removed]",
      "text/plain": [
       "<Figure size 576x432 with 1 Axes>"
      ]
     },
     "metadata": {
      "needs_background": "light"
     },
     "output_type": "display_data"
    }
   ],
   "source": [
    "fig, ax = plt.subplots(figsize=(8, 6))\n",
    "ax.scatter(x, y, color='red')\n",
    "ax.title.set_text('Life Expectancy vs. GDP/Capita')\n",
    "plt.xlabel('GDP/Capita')\n",
    "plt.ylabel('Life Expectancy')\n",
    "plt.plot(x, p.const + p.x1*x, linewidth=2)"
   ]
  },
  {
   "cell_type": "markdown",
   "id": "29e13476",
   "metadata": {},
   "source": [
    "## 2."
   ]
  },
  {
   "cell_type": "code",
   "execution_count": 13,
   "id": "f185d8fd",
   "metadata": {},
   "outputs": [
    {
     "data": {
      "text/plain": [
       "const    59.659329\n",
       "x1        5.333648\n",
       "dtype: float64"
      ]
     },
     "execution_count": 13,
     "metadata": {},
     "output_type": "execute_result"
    }
   ],
   "source": [
    "x = np.log(data[\"GDPpcap\"]) # Log of the x-axis data\n",
    "y = data[\"Life exp.\"]\n",
    "\n",
    "T = len(x)\n",
    "X = np.zeros((T,2))\n",
    "X[:,0] = 1\n",
    "X[:,1] = x\n",
    "model_OLS = sm.OLS(y,X).fit()\n",
    "p = model_OLS.params\n",
    "p"
   ]
  },
  {
   "cell_type": "code",
   "execution_count": 14,
   "id": "75ee28a3",
   "metadata": {},
   "outputs": [
    {
     "data": {
      "text/plain": [
       "[<matplotlib.lines.Line2D at 0x12b9496a0>]"
      ]
     },
     "execution_count": 14,
     "metadata": {},
     "output_type": "execute_result"
    },
    {
     "data": {
      "image/png": "[encoded data removed]",
      "text/plain": [
       "<Figure size 576x432 with 1 Axes>"
      ]
     },
     "metadata": {
      "needs_background": "light"
     },
     "output_type": "display_data"
    }
   ],
   "source": [
    "fig, ax = plt.subplots(figsize=(8, 6))\n",
    "ax.scatter(x, y, color='red')\n",
    "ax.title.set_text('Life Expectancy vs. GDP/Capita')\n",
    "plt.xlabel('GDP/Capita')\n",
    "plt.ylabel('Life Expectancy')\n",
    "plt.plot(x, p.const + p.x1*x, linewidth=2)"
   ]
  },
  {
   "cell_type": "markdown",
   "id": "8a053b6e",
   "metadata": {},
   "source": [
    "## 3.\n",
    "Estimate the Coefficient of Determination using 2nd power of Pearson Correlation"
   ]
  },
  {
   "cell_type": "code",
   "execution_count": 90,
   "id": "a1d63401",
   "metadata": {},
   "outputs": [
    {
     "name": "stdout",
     "output_type": "stream",
     "text": [
      "The coefficient of determination (linear OLS) 0.4417005505296338\n"
     ]
    }
   ],
   "source": [
    "z,_ = pearsonr(data[\"Life exp.\"], data[\"GDPpcap\"])\n",
    "print(\"The coefficient of determination (linear OLS)\", z**2)"
   ]
  },
  {
   "cell_type": "code",
   "execution_count": 91,
   "id": "64e99239",
   "metadata": {},
   "outputs": [
    {
     "name": "stdout",
     "output_type": "stream",
     "text": [
      "The coefficient of determination (log OLS) 0.68015569709796\n"
     ]
    }
   ],
   "source": [
    "z,_ = pearsonr(data[\"Life exp.\"], np.log(data[\"GDPpcap\"]))\n",
    "print(\"The coefficient of determination (log OLS)\", z**2)"
   ]
  },
  {
   "cell_type": "markdown",
   "id": "4b32585f",
   "metadata": {},
   "source": [
    "Yes, we can compare the ceofficients. The better $R^2$, the better the fit."
   ]
  },
  {
   "cell_type": "markdown",
   "id": "768052b7",
   "metadata": {},
   "source": [
    "## 4.\n",
    "The Coefficient of Determination is the square of the empirical Correlation Coefficient. Thus, either by taking the square root of th COD, or use the correlation function."
   ]
  },
  {
   "cell_type": "code",
   "execution_count": 94,
   "id": "80462af5",
   "metadata": {},
   "outputs": [],
   "source": [
    "z_COD = math.sqrt(z**2)"
   ]
  },
  {
   "cell_type": "code",
   "execution_count": 101,
   "id": "7798a4a2",
   "metadata": {},
   "outputs": [],
   "source": [
    "corr_COD = np.corrcoef(data[\"Life exp.\"], np.log(data[\"GDPpcap\"]))[0][1]"
   ]
  },
  {
   "cell_type": "code",
   "execution_count": 102,
   "id": "8a0f1bab",
   "metadata": {},
   "outputs": [
    {
     "name": "stdout",
     "output_type": "stream",
     "text": [
      "Square 0.8247155249526712 \n",
      "Correlation 0.8247155249526704\n"
     ]
    }
   ],
   "source": [
    "print(\"Square\", z_COD, \"\\nCorrelation\", corr_COD)"
   ]
  },
  {
   "cell_type": "markdown",
   "id": "983e0090",
   "metadata": {},
   "source": [
    "We can see its very close! 15 first decimals is the same. They are mathematical equal."
   ]
  },
  {
   "cell_type": "markdown",
   "id": "e3ff1e3d",
   "metadata": {},
   "source": [
    "# 3. Generating spurious correlation"
   ]
  },
  {
   "cell_type": "markdown",
   "id": "c3e0cefe",
   "metadata": {},
   "source": [
    "## 1."
   ]
  },
  {
   "cell_type": "code",
   "execution_count": 36,
   "id": "82ad06cc",
   "metadata": {},
   "outputs": [
    {
     "name": "stdout",
     "output_type": "stream",
     "text": [
      "T 262\n",
      "     Unnamed: 0        Date  Apple returns  Russell returns  normal pdf\n",
      "0             1  2016-04-25     -11.989084        -1.260337    0.471800\n",
      "1             2  2016-05-02      -1.094085        -0.561795    0.802941\n",
      "2             3  2016-05-09      -1.794334        -0.581591    0.461586\n",
      "3             4  2016-05-16       5.061906         0.377336    0.718143\n",
      "4             5  2016-05-23       5.247411         2.334956    0.853032\n",
      "..          ...         ...            ...              ...         ...\n",
      "257         258  2021-03-29       1.465979         1.245510    0.506199\n",
      "258         259  2021-04-05       7.816477         2.372223    0.572002\n",
      "259         260  2021-04-12       0.868402         1.428772    0.652898\n",
      "260         261  2021-04-19       0.505571        -0.641943    0.887957\n",
      "261         262  2021-04-19       0.074139        -0.000118    0.635406\n",
      "\n",
      "[262 rows x 5 columns]\n",
      "p params\n",
      " const    1.207980\n",
      "x1      -0.854495\n",
      "dtype: float64\n",
      "standard error const    1.278499\n",
      "x1       1.922075\n",
      "dtype: float64\n",
      "summary\n",
      "                             OLS Regression Results                            \n",
      "==============================================================================\n",
      "Dep. Variable:          Apple returns   R-squared:                       0.001\n",
      "Model:                            OLS   Adj. R-squared:                 -0.003\n",
      "Method:                 Least Squares   F-statistic:                    0.1976\n",
      "Date:                Fri, 28 May 2021   Prob (F-statistic):              0.657\n",
      "Time:                        00:13:35   Log-Likelihood:                -730.84\n",
      "No. Observations:                 262   AIC:                             1466.\n",
      "Df Residuals:                     260   BIC:                             1473.\n",
      "Df Model:                           1                                         \n",
      "Covariance Type:            nonrobust                                         \n",
      "==============================================================================\n",
      "                 coef    std err          t      P>|t|      [0.025      0.975]\n",
      "------------------------------------------------------------------------------\n",
      "const          1.2080      1.278      0.945      0.346      -1.310       3.726\n",
      "x1            -0.8545      1.922     -0.445      0.657      -4.639       2.930\n",
      "==============================================================================\n",
      "Omnibus:                       39.326   Durbin-Watson:                   1.980\n",
      "Prob(Omnibus):                  0.000   Jarque-Bera (JB):              141.052\n",
      "Skew:                          -0.560   Prob(JB):                     2.35e-31\n",
      "Kurtosis:                       6.416   Cond. No.                         11.3\n",
      "==============================================================================\n",
      "\n",
      "Notes:\n",
      "[1] Standard Errors assume that the covariance matrix of the errors is correctly specified.\n"
     ]
    },
    {
     "name": "stderr",
     "output_type": "stream",
     "text": [
      "<ipython-input-36-019508dcf918>:13: SettingWithCopyWarning: \n",
      "A value is trying to be set on a copy of a slice from a DataFrame\n",
      "\n",
      "See the caveats in the documentation: https://pandas.pydata.org/pandas-docs/stable/user_guide/indexing.html#returning-a-view-versus-a-copy\n",
      "  data[\"normal pdf\"][i] = np.mean(np.random.normal(np.mean(y), np.std(y), 1000))\n"
     ]
    }
   ],
   "source": [
    "url = \"https://raw.githubusercontent.com/adufays/GDP_expectancy/main/Appl_Russell.csv\"\n",
    "data = pd.read_csv(url, sep=\",\")\n",
    "\n",
    "x = data[\"Russell returns\"]\n",
    "y = data[\"Apple returns\"]\n",
    "\n",
    "T = len(y)\n",
    "print(\"T\", T)\n",
    "\n",
    "data[\"normal pdf\"] = np.zeros(T)\n",
    "for i in range(T):\n",
    "    np.random.seed(i)\n",
    "    data[\"normal pdf\"][i] = np.mean(np.random.normal(np.mean(y), np.std(y), 1000))\n",
    "\n",
    "print(data)\n",
    "\n",
    "T = len(x)\n",
    "X = np.zeros((T,2))\n",
    "X[:,0] = 1\n",
    "X[:,1] = data[\"normal pdf\"]\n",
    "model_OLS = sm.OLS(y,X).fit()\n",
    "p = model_OLS.params\n",
    "std = model_OLS.bse\n",
    "\n",
    "print(\"p params\\n\", p)\n",
    "print(\"standard error\", std)\n",
    "print(\"summary\\n\", model_OLS.summary())"
   ]
  },
  {
   "cell_type": "code",
   "execution_count": 27,
   "id": "8698d98f",
   "metadata": {},
   "outputs": [
    {
     "name": "stderr",
     "output_type": "stream",
     "text": [
      "<ipython-input-27-2d4080ced1a6>:4: SettingWithCopyWarning: \n",
      "A value is trying to be set on a copy of a slice from a DataFrame\n",
      "\n",
      "See the caveats in the documentation: https://pandas.pydata.org/pandas-docs/stable/user_guide/indexing.html#returning-a-view-versus-a-copy\n",
      "  data[\"apple return estimate\"][i] = p[\"const\"] + p[\"x1\"] * data[\"normal pdf\"][i]\n"
     ]
    },
    {
     "data": {
      "text/html": [
       "<div>\n",
       "<style scoped>\n",
       "    .dataframe tbody tr th:only-of-type {\n",
       "        vertical-align: middle;\n",
       "    }\n",
       "\n",
       "    .dataframe tbody tr th {\n",
       "        vertical-align: top;\n",
       "    }\n",
       "\n",
       "    .dataframe thead th {\n",
       "        text-align: right;\n",
       "    }\n",
       "</style>\n",
       "<table border=\"1\" class=\"dataframe\">\n",
       "  <thead>\n",
       "    <tr style=\"text-align: right;\">\n",
       "      <th></th>\n",
       "      <th>Unnamed: 0</th>\n",
       "      <th>Date</th>\n",
       "      <th>Apple returns</th>\n",
       "      <th>Russell returns</th>\n",
       "      <th>normal pdf</th>\n",
       "      <th>apple return estimate</th>\n",
       "    </tr>\n",
       "  </thead>\n",
       "  <tbody>\n",
       "    <tr>\n",
       "      <th>0</th>\n",
       "      <td>1</td>\n",
       "      <td>2016-04-25</td>\n",
       "      <td>-11.989084</td>\n",
       "      <td>-1.260337</td>\n",
       "      <td>0.471800</td>\n",
       "      <td>0.804829</td>\n",
       "    </tr>\n",
       "    <tr>\n",
       "      <th>1</th>\n",
       "      <td>2</td>\n",
       "      <td>2016-05-02</td>\n",
       "      <td>-1.094085</td>\n",
       "      <td>-0.561795</td>\n",
       "      <td>0.802941</td>\n",
       "      <td>0.521871</td>\n",
       "    </tr>\n",
       "    <tr>\n",
       "      <th>2</th>\n",
       "      <td>3</td>\n",
       "      <td>2016-05-09</td>\n",
       "      <td>-1.794334</td>\n",
       "      <td>-0.581591</td>\n",
       "      <td>0.461586</td>\n",
       "      <td>0.813557</td>\n",
       "    </tr>\n",
       "    <tr>\n",
       "      <th>3</th>\n",
       "      <td>4</td>\n",
       "      <td>2016-05-16</td>\n",
       "      <td>5.061906</td>\n",
       "      <td>0.377336</td>\n",
       "      <td>0.718143</td>\n",
       "      <td>0.594330</td>\n",
       "    </tr>\n",
       "    <tr>\n",
       "      <th>4</th>\n",
       "      <td>5</td>\n",
       "      <td>2016-05-23</td>\n",
       "      <td>5.247411</td>\n",
       "      <td>2.334956</td>\n",
       "      <td>0.853032</td>\n",
       "      <td>0.479068</td>\n",
       "    </tr>\n",
       "    <tr>\n",
       "      <th>...</th>\n",
       "      <td>...</td>\n",
       "      <td>...</td>\n",
       "      <td>...</td>\n",
       "      <td>...</td>\n",
       "      <td>...</td>\n",
       "      <td>...</td>\n",
       "    </tr>\n",
       "    <tr>\n",
       "      <th>257</th>\n",
       "      <td>258</td>\n",
       "      <td>2021-03-29</td>\n",
       "      <td>1.465979</td>\n",
       "      <td>1.245510</td>\n",
       "      <td>0.506199</td>\n",
       "      <td>0.775435</td>\n",
       "    </tr>\n",
       "    <tr>\n",
       "      <th>258</th>\n",
       "      <td>259</td>\n",
       "      <td>2021-04-05</td>\n",
       "      <td>7.816477</td>\n",
       "      <td>2.372223</td>\n",
       "      <td>0.572002</td>\n",
       "      <td>0.719207</td>\n",
       "    </tr>\n",
       "    <tr>\n",
       "      <th>259</th>\n",
       "      <td>260</td>\n",
       "      <td>2021-04-12</td>\n",
       "      <td>0.868402</td>\n",
       "      <td>1.428772</td>\n",
       "      <td>0.652898</td>\n",
       "      <td>0.650082</td>\n",
       "    </tr>\n",
       "    <tr>\n",
       "      <th>260</th>\n",
       "      <td>261</td>\n",
       "      <td>2021-04-19</td>\n",
       "      <td>0.505571</td>\n",
       "      <td>-0.641943</td>\n",
       "      <td>0.887957</td>\n",
       "      <td>0.449225</td>\n",
       "    </tr>\n",
       "    <tr>\n",
       "      <th>261</th>\n",
       "      <td>262</td>\n",
       "      <td>2021-04-19</td>\n",
       "      <td>0.074139</td>\n",
       "      <td>-0.000118</td>\n",
       "      <td>0.635406</td>\n",
       "      <td>0.665029</td>\n",
       "    </tr>\n",
       "  </tbody>\n",
       "</table>\n",
       "<p>262 rows × 6 columns</p>\n",
       "</div>"
      ],
      "text/plain": [
       "     Unnamed: 0        Date  Apple returns  Russell returns  normal pdf  \\\n",
       "0             1  2016-04-25     -11.989084        -1.260337    0.471800   \n",
       "1             2  2016-05-02      -1.094085        -0.561795    0.802941   \n",
       "2             3  2016-05-09      -1.794334        -0.581591    0.461586   \n",
       "3             4  2016-05-16       5.061906         0.377336    0.718143   \n",
       "4             5  2016-05-23       5.247411         2.334956    0.853032   \n",
       "..          ...         ...            ...              ...         ...   \n",
       "257         258  2021-03-29       1.465979         1.245510    0.506199   \n",
       "258         259  2021-04-05       7.816477         2.372223    0.572002   \n",
       "259         260  2021-04-12       0.868402         1.428772    0.652898   \n",
       "260         261  2021-04-19       0.505571        -0.641943    0.887957   \n",
       "261         262  2021-04-19       0.074139        -0.000118    0.635406   \n",
       "\n",
       "     apple return estimate  \n",
       "0                 0.804829  \n",
       "1                 0.521871  \n",
       "2                 0.813557  \n",
       "3                 0.594330  \n",
       "4                 0.479068  \n",
       "..                     ...  \n",
       "257               0.775435  \n",
       "258               0.719207  \n",
       "259               0.650082  \n",
       "260               0.449225  \n",
       "261               0.665029  \n",
       "\n",
       "[262 rows x 6 columns]"
      ]
     },
     "execution_count": 27,
     "metadata": {},
     "output_type": "execute_result"
    }
   ],
   "source": [
    "data[\"apple return estimate\"] = np.zeros(T)\n",
    "\n",
    "for i in range(T):\n",
    "    data[\"apple return estimate\"][i] = p[\"const\"] + p[\"x1\"] * data[\"normal pdf\"][i]\n",
    "\n",
    "data"
   ]
  },
  {
   "cell_type": "markdown",
   "id": "351b44d5",
   "metadata": {},
   "source": [
    "## 2."
   ]
  },
  {
   "cell_type": "code",
   "execution_count": 37,
   "id": "e0ee5a5f",
   "metadata": {},
   "outputs": [
    {
     "name": "stdout",
     "output_type": "stream",
     "text": [
      "Z crit 1.959963984540054 \n",
      "Z stat 1.4505249932921214 \n",
      "P val 0.1469121747105535\n"
     ]
    }
   ],
   "source": [
    "beta2 = p[\"x1\"]\n",
    "var_beta2 = std[\"const\"]**2\n",
    "\n",
    "alpha = 0.05\n",
    "Z_crit = stats.norm.ppf(1-alpha/2)\n",
    "Z_stat = abs((beta2-1))/(np.sqrt(var_beta2))\n",
    "p_val = 2*(1-stats.norm.cdf(Z_stat))\n",
    "print(\"Z crit\", Z_crit, \"\\nZ stat\", Z_stat, \"\\nP val\", p_val)"
   ]
  },
  {
   "cell_type": "markdown",
   "id": "c5baf0ef",
   "metadata": {},
   "source": [
    "## 3\n",
    "### a)\n",
    "P value is 0.147\n",
    "### b)"
   ]
  },
  {
   "cell_type": "markdown",
   "id": "be755ee6",
   "metadata": {},
   "source": [
    "It is not statistically significant at alpha = 0.05. "
   ]
  },
  {
   "cell_type": "code",
   "execution_count": null,
   "id": "990997d0",
   "metadata": {},
   "outputs": [],
   "source": []
  }
 ],
 "metadata": {
  "kernelspec": {
   "display_name": "Python 3",
   "language": "python",
   "name": "python3"
  },
  "language_info": {
   "codemirror_mode": {
    "name": "ipython",
    "version": 3
   },
   "file_extension": ".py",
   "mimetype": "text/x-python",
   "name": "python",
   "nbconvert_exporter": "python",
   "pygments_lexer": "ipython3",
   "version": "3.9.1"
  },
  "latex_envs": {
   "LaTeX_envs_menu_present": true,
   "autoclose": false,
   "autocomplete": true,
   "bibliofile": "biblio.bib",
   "cite_by": "apalike",
   "current_citInitial": 1,
   "eqLabelWithNumbers": true,
   "eqNumInitial": 1,
   "hotkeys": {
    "equation": "Ctrl-E",
    "itemize": "Ctrl-I"
   },
   "labels_anchors": false,
   "latex_user_defs": false,
   "report_style_numbering": false,
   "user_envs_cfg": false
  }
 },
 "nbformat": 4,
 "nbformat_minor": 5
}
